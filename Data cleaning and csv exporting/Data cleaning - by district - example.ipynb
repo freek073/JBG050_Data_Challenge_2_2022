{
 "cells": [
  {
   "cell_type": "code",
   "metadata": {
    "deepnote_to_be_reexecuted": false,
    "execution_millis": 23,
    "execution_start": 1645024130442,
    "source_hash": "368e2b65",
    "cell_id": "d326564c-8880-427f-ac11-e9ef176e720a",
    "deepnote_cell_type": "code",
    "deepnote_cell_height": 189
   },
   "source": "import pandas as pd\nimport os\nimport tqdm as tq\nimport string\nimport statistics as stats\nimport re\npd.set_option('display.max_columns', None)",
   "execution_count": null,
   "outputs": []
  },
  {
   "cell_type": "code",
   "metadata": {
    "deepnote_to_be_reexecuted": false,
    "execution_millis": 63649,
    "execution_start": 1645024134388,
    "scrolled": true,
    "source_hash": "8086a80",
    "cell_id": "00001-01d35df1-d20e-42c8-8fcc-85ecdc2f30f1",
    "deepnote_cell_type": "code",
    "deepnote_cell_height": 693
   },
   "source": "# To make a dataframe for street for one district only (district name must correspond to the one in file name)\n\ndef extract_street_for_district(district: str):\n    directory = \"Jan_2012_Oct_2021\" # Change directory\n    df_street = pd.DataFrame()\n\n    folders = [folder for folder in tq.tqdm(os.listdir(directory)) if not str(folder).strip(\"'b\").startswith('.')]\n\n    for folder in folders:\n        files_street = []\n\n        # Here you can change the date range\n        if int(folder[:4]) > 2014:\n            # generate the path to folder\n            folder_direc = os.fsencode(directory + '/'+ str(folder))\n        \n            # add each file name to the appropriate list\n            for file in os.listdir(folder_direc):\n                file = str(file).strip(\"'b\")\n                # check if the file name contains the appropriate district name and 'street'\n                if (bool(re.search(str(district), file))) & (bool(re.search('street', file))):\n                        files_street.append(file)\n                \n            # Clean dataframe\n            for file in tq.tqdm(files_street):\n                # Create dataframe from the current file\n                current_data_street = pd.read_csv(directory + '/' + str(folder).strip(\"'b\") + '/' + str(file)) \n                # Drop the attributes considered irrelevant\n                current_data_street.drop(['Reported by', 'Longitude', 'Latitude', \\\n                                          'Location', 'Context'], axis=1, inplace=True)\n                current_data_street.dropna(subset=['LSOA code'], inplace=True)\n                current_data_street.dropna(subset=['Crime type'], inplace=True)\n                df_street = df_street.append(current_data_street)\n    return df_street\n",
   "execution_count": null,
   "outputs": []
  },
  {
   "cell_type": "code",
   "metadata": {
    "deepnote_to_be_reexecuted": false,
    "execution_millis": 364,
    "execution_start": 1645024204289,
    "scrolled": true,
    "source_hash": "97d77b9b",
    "cell_id": "00002-20db0129-27f0-4965-b957-c385bf90fc47",
    "deepnote_cell_type": "code",
    "deepnote_cell_height": 737
   },
   "source": "# call the function and save the df with the appropriate district name: \n# df_str_district = extract_street_for_district\ndf_str_btp = extract_street_for_district(\"btp\")",
   "execution_count": null,
   "outputs": [
    {
     "name": "stderr",
     "output_type": "stream",
     "text": "100%|█████████████████████████████████████| 119/119 [00:00<00:00, 487424.00it/s]\n100%|█████████████████████████████████████████████| 1/1 [00:00<00:00, 14.97it/s]\n100%|█████████████████████████████████████████████| 1/1 [00:00<00:00, 99.21it/s]\n100%|█████████████████████████████████████████████| 1/1 [00:00<00:00, 54.83it/s]\n100%|█████████████████████████████████████████████| 1/1 [00:00<00:00, 89.00it/s]\n100%|█████████████████████████████████████████████| 1/1 [00:00<00:00, 75.17it/s]\n100%|█████████████████████████████████████████████| 1/1 [00:00<00:00, 87.74it/s]\n100%|█████████████████████████████████████████████| 1/1 [00:00<00:00, 48.66it/s]\n100%|█████████████████████████████████████████████| 1/1 [00:00<00:00, 35.93it/s]\n100%|█████████████████████████████████████████████| 1/1 [00:00<00:00, 99.86it/s]\n100%|█████████████████████████████████████████████| 1/1 [00:00<00:00, 83.91it/s]\n100%|█████████████████████████████████████████████| 1/1 [00:00<00:00, 77.11it/s]\n100%|█████████████████████████████████████████████| 1/1 [00:00<00:00, 79.82it/s]\n0it [00:00, ?it/s]\n100%|█████████████████████████████████████████████| 1/1 [00:00<00:00, 79.08it/s]\n100%|█████████████████████████████████████████████| 1/1 [00:00<00:00, 78.61it/s]\n100%|█████████████████████████████████████████████| 1/1 [00:00<00:00, 74.59it/s]\n100%|█████████████████████████████████████████████| 1/1 [00:00<00:00, 65.07it/s]\n100%|█████████████████████████████████████████████| 1/1 [00:00<00:00, 62.50it/s]\n100%|█████████████████████████████████████████████| 1/1 [00:00<00:00, 83.91it/s]\n100%|█████████████████████████████████████████████| 1/1 [00:00<00:00, 68.59it/s]\n100%|█████████████████████████████████████████████| 1/1 [00:00<00:00, 73.54it/s]\n100%|█████████████████████████████████████████████| 1/1 [00:00<00:00, 79.83it/s]\n0it [00:00, ?it/s]\n100%|█████████████████████████████████████████████| 1/1 [00:00<00:00, 70.18it/s]\n100%|█████████████████████████████████████████████| 1/1 [00:00<00:00, 75.08it/s]\n100%|█████████████████████████████████████████████| 1/1 [00:00<00:00, 57.85it/s]\n100%|█████████████████████████████████████████████| 1/1 [00:00<00:00, 68.75it/s]\n100%|█████████████████████████████████████████████| 1/1 [00:00<00:00, 57.17it/s]\n100%|█████████████████████████████████████████████| 1/1 [00:00<00:00, 69.42it/s]\n0it [00:00, ?it/s]\n0it [00:00, ?it/s]\n100%|█████████████████████████████████████████████| 1/1 [00:00<00:00, 48.81it/s]\n0it [00:00, ?it/s]\n0it [00:00, ?it/s]\n100%|█████████████████████████████████████████████| 1/1 [00:00<00:00, 61.66it/s]\n100%|█████████████████████████████████████████████| 1/1 [00:00<00:00, 75.11it/s]\n100%|█████████████████████████████████████████████| 1/1 [00:00<00:00, 68.62it/s]\n100%|█████████████████████████████████████████████| 1/1 [00:00<00:00, 60.85it/s]\n100%|█████████████████████████████████████████████| 1/1 [00:00<00:00, 75.34it/s]\n100%|█████████████████████████████████████████████| 1/1 [00:00<00:00, 60.13it/s]\n100%|█████████████████████████████████████████████| 1/1 [00:00<00:00, 35.09it/s]\n100%|█████████████████████████████████████████████| 1/1 [00:00<00:00, 59.76it/s]\n100%|█████████████████████████████████████████████| 1/1 [00:00<00:00, 61.11it/s]\n100%|█████████████████████████████████████████████| 1/1 [00:00<00:00, 64.38it/s]\n100%|█████████████████████████████████████████████| 1/1 [00:00<00:00, 82.84it/s]\n100%|█████████████████████████████████████████████| 1/1 [00:00<00:00, 57.31it/s]\n100%|█████████████████████████████████████████████| 1/1 [00:00<00:00, 56.13it/s]\n100%|█████████████████████████████████████████████| 1/1 [00:00<00:00, 60.51it/s]\n100%|█████████████████████████████████████████████| 1/1 [00:00<00:00, 62.29it/s]\n100%|█████████████████████████████████████████████| 1/1 [00:00<00:00, 55.33it/s]\n100%|█████████████████████████████████████████████| 1/1 [00:00<00:00, 48.17it/s]\n100%|█████████████████████████████████████████████| 1/1 [00:00<00:00, 57.16it/s]\n100%|█████████████████████████████████████████████| 1/1 [00:00<00:00, 51.81it/s]\n0it [00:00, ?it/s]\n100%|█████████████████████████████████████████████| 1/1 [00:00<00:00, 64.74it/s]\n100%|█████████████████████████████████████████████| 1/1 [00:00<00:00, 53.31it/s]\n100%|█████████████████████████████████████████████| 1/1 [00:00<00:00, 52.40it/s]\n100%|█████████████████████████████████████████████| 1/1 [00:00<00:00, 58.08it/s]\n100%|█████████████████████████████████████████████| 1/1 [00:00<00:00, 48.31it/s]\n100%|█████████████████████████████████████████████| 1/1 [00:00<00:00, 45.60it/s]\n100%|█████████████████████████████████████████████| 1/1 [00:00<00:00, 42.30it/s]\n100%|█████████████████████████████████████████████| 1/1 [00:00<00:00, 51.91it/s]\n100%|█████████████████████████████████████████████| 1/1 [00:00<00:00, 50.62it/s]\n100%|█████████████████████████████████████████████| 1/1 [00:00<00:00, 49.13it/s]\n100%|█████████████████████████████████████████████| 1/1 [00:00<00:00, 50.84it/s]\n0it [00:00, ?it/s]\n100%|█████████████████████████████████████████████| 1/1 [00:00<00:00, 48.87it/s]\n0it [00:00, ?it/s]\n100%|█████████████████████████████████████████████| 1/1 [00:00<00:00, 38.14it/s]\n0it [00:00, ?it/s]\n100%|█████████████████████████████████████████████| 1/1 [00:00<00:00, 45.97it/s]\n0it [00:00, ?it/s]\n100%|█████████████████████████████████████████████| 1/1 [00:00<00:00, 48.69it/s]\n100%|█████████████████████████████████████████████| 1/1 [00:00<00:00, 46.38it/s]\n100%|█████████████████████████████████████████████| 1/1 [00:00<00:00, 42.00it/s]\n0it [00:00, ?it/s]\n100%|█████████████████████████████████████████████| 1/1 [00:00<00:00, 43.01it/s]\n100%|█████████████████████████████████████████████| 1/1 [00:00<00:00, 46.29it/s]\n100%|█████████████████████████████████████████████| 1/1 [00:00<00:00, 48.19it/s]\n100%|█████████████████████████████████████████████| 1/1 [00:00<00:00, 42.82it/s]\n100%|█████████████████████████████████████████████| 1/1 [00:00<00:00, 42.43it/s]\n100%|█████████████████████████████████████████████| 1/1 [00:00<00:00, 40.31it/s]\n"
    }
   ]
  },
  {
   "cell_type": "code",
   "metadata": {
    "cell_id": "00003-3de3a895-143d-4cb6-8287-ec83ce0477a8",
    "deepnote_cell_type": "code",
    "deepnote_cell_height": 479,
    "deepnote_output_heights": [
     382
    ]
   },
   "source": "df_str_btp",
   "execution_count": null,
   "outputs": [
    {
     "data": {
      "text/html": "<div>\n<style scoped>\n    .dataframe tbody tr th:only-of-type {\n        vertical-align: middle;\n    }\n\n    .dataframe tbody tr th {\n        vertical-align: top;\n    }\n\n    .dataframe thead th {\n        text-align: right;\n    }\n</style>\n<table border=\"1\" class=\"dataframe\">\n  <thead>\n    <tr style=\"text-align: right;\">\n      <th></th>\n      <th>Crime ID</th>\n      <th>Month</th>\n      <th>Falls within</th>\n      <th>LSOA code</th>\n      <th>LSOA name</th>\n      <th>Crime type</th>\n      <th>Last outcome category</th>\n    </tr>\n  </thead>\n  <tbody>\n    <tr>\n      <th>0</th>\n      <td>NaN</td>\n      <td>2020-01</td>\n      <td>British Transport Police</td>\n      <td>E01031365</td>\n      <td>Adur 002D</td>\n      <td>Bicycle theft</td>\n      <td>NaN</td>\n    </tr>\n    <tr>\n      <th>1</th>\n      <td>NaN</td>\n      <td>2020-01</td>\n      <td>British Transport Police</td>\n      <td>E01031365</td>\n      <td>Adur 002D</td>\n      <td>Bicycle theft</td>\n      <td>NaN</td>\n    </tr>\n    <tr>\n      <th>2</th>\n      <td>NaN</td>\n      <td>2020-01</td>\n      <td>British Transport Police</td>\n      <td>E01031375</td>\n      <td>Adur 004G</td>\n      <td>Possession of weapons</td>\n      <td>NaN</td>\n    </tr>\n    <tr>\n      <th>3</th>\n      <td>NaN</td>\n      <td>2020-01</td>\n      <td>British Transport Police</td>\n      <td>E01031375</td>\n      <td>Adur 004G</td>\n      <td>Violence and sexual offences</td>\n      <td>NaN</td>\n    </tr>\n    <tr>\n      <th>4</th>\n      <td>NaN</td>\n      <td>2020-01</td>\n      <td>British Transport Police</td>\n      <td>E01031375</td>\n      <td>Adur 004G</td>\n      <td>Violence and sexual offences</td>\n      <td>NaN</td>\n    </tr>\n    <tr>\n      <th>...</th>\n      <td>...</td>\n      <td>...</td>\n      <td>...</td>\n      <td>...</td>\n      <td>...</td>\n      <td>...</td>\n      <td>...</td>\n    </tr>\n    <tr>\n      <th>5371</th>\n      <td>NaN</td>\n      <td>2018-12</td>\n      <td>British Transport Police</td>\n      <td>E01033068</td>\n      <td>York 013G</td>\n      <td>Public order</td>\n      <td>NaN</td>\n    </tr>\n    <tr>\n      <th>5372</th>\n      <td>NaN</td>\n      <td>2018-12</td>\n      <td>British Transport Police</td>\n      <td>E01033068</td>\n      <td>York 013G</td>\n      <td>Theft from the person</td>\n      <td>NaN</td>\n    </tr>\n    <tr>\n      <th>5373</th>\n      <td>NaN</td>\n      <td>2018-12</td>\n      <td>British Transport Police</td>\n      <td>E01033068</td>\n      <td>York 013G</td>\n      <td>Violence and sexual offences</td>\n      <td>NaN</td>\n    </tr>\n    <tr>\n      <th>5374</th>\n      <td>NaN</td>\n      <td>2018-12</td>\n      <td>British Transport Police</td>\n      <td>E01033068</td>\n      <td>York 013G</td>\n      <td>Violence and sexual offences</td>\n      <td>NaN</td>\n    </tr>\n    <tr>\n      <th>5375</th>\n      <td>NaN</td>\n      <td>2018-12</td>\n      <td>British Transport Police</td>\n      <td>E01033068</td>\n      <td>York 013G</td>\n      <td>Violence and sexual offences</td>\n      <td>NaN</td>\n    </tr>\n  </tbody>\n</table>\n<p>282893 rows × 7 columns</p>\n</div>",
      "text/plain": "      Crime ID    Month              Falls within  LSOA code  LSOA name  \\\n0          NaN  2020-01  British Transport Police  E01031365  Adur 002D   \n1          NaN  2020-01  British Transport Police  E01031365  Adur 002D   \n2          NaN  2020-01  British Transport Police  E01031375  Adur 004G   \n3          NaN  2020-01  British Transport Police  E01031375  Adur 004G   \n4          NaN  2020-01  British Transport Police  E01031375  Adur 004G   \n...        ...      ...                       ...        ...        ...   \n5371       NaN  2018-12  British Transport Police  E01033068  York 013G   \n5372       NaN  2018-12  British Transport Police  E01033068  York 013G   \n5373       NaN  2018-12  British Transport Police  E01033068  York 013G   \n5374       NaN  2018-12  British Transport Police  E01033068  York 013G   \n5375       NaN  2018-12  British Transport Police  E01033068  York 013G   \n\n                        Crime type  Last outcome category  \n0                    Bicycle theft                    NaN  \n1                    Bicycle theft                    NaN  \n2            Possession of weapons                    NaN  \n3     Violence and sexual offences                    NaN  \n4     Violence and sexual offences                    NaN  \n...                            ...                    ...  \n5371                  Public order                    NaN  \n5372         Theft from the person                    NaN  \n5373  Violence and sexual offences                    NaN  \n5374  Violence and sexual offences                    NaN  \n5375  Violence and sexual offences                    NaN  \n\n[282893 rows x 7 columns]"
     },
     "execution_count": 9,
     "metadata": {},
     "output_type": "execute_result"
    }
   ]
  },
  {
   "cell_type": "code",
   "metadata": {
    "deepnote_to_be_reexecuted": false,
    "execution_millis": 212,
    "execution_start": 1645024672626,
    "source_hash": "8dfeb49e",
    "tags": [],
    "cell_id": "00004-8e878dc1-e4d6-488d-81e9-3e8ab508b0b5",
    "deepnote_cell_type": "code",
    "deepnote_cell_height": 118,
    "deepnote_output_heights": [
     21
    ]
   },
   "source": "df_str_btp['Last outcome category'].unique()",
   "execution_count": null,
   "outputs": [
    {
     "data": {
      "text/plain": "array([nan])"
     },
     "execution_count": 12,
     "metadata": {},
     "output_type": "execute_result"
    }
   ]
  },
  {
   "cell_type": "code",
   "metadata": {
    "cell_id": "00005-d914fab9-68a8-4efa-9aae-ea54fee67b59",
    "deepnote_cell_type": "code",
    "deepnote_cell_height": 84
   },
   "source": "# if needed to export to csv, use:\n# df_street.to_csv('all_street.csv')",
   "execution_count": null,
   "outputs": []
  },
  {
   "cell_type": "code",
   "metadata": {
    "deepnote_to_be_reexecuted": false,
    "execution_millis": 21407,
    "execution_start": 1645024465905,
    "source_hash": "e54880c3",
    "cell_id": "00006-65e2ff06-28dc-4d9e-ba4e-8bae20f2e023",
    "deepnote_cell_type": "code",
    "deepnote_cell_height": 765
   },
   "source": "# To make a dataframe for stop-and-search for one district only \n# (district name must correspond to the one in file name)\n\ndef extract_sas_for_district(district):\n    directory = \"Jan_2012_Oct_2021\" # Change directory\n    df_sas = pd.DataFrame()\n\n    folders = [folder for folder in tq.tqdm(os.listdir(directory)) if not str(folder).strip(\"'b\").startswith('.')]\n    \n    for folder in folders:\n        files_sas = []\n\n        # Here you can change the date range\n        if int(folder[:4]) > 2014:\n            # generate the path to folder\n            folder_direc = os.fsencode(directory + '/'+ str(folder))\n        \n            # add each file name to the appropriate list\n            for file in os.listdir(folder_direc):\n                file = str(file).strip(\"'b\")\n                # check if the file name contains the appropriate district name and 'street'\n                if (bool(re.search(str(district), file))) & (bool(re.search('stop-and-search', file))):\n                        files_sas.append(file)\n                \n            # Clean dataframe for stop-and-search\n            for file in tq.tqdm(files_sas):\n                # Create dataframe from the current file\n                current_data_sas = pd.read_csv(directory + '/' + str(folder).strip(\"'b\") + '/' + str(file))  \n                # drop the attributes considered irrelevant\n                current_data_sas.drop(['Policing operation', 'Gender', 'Object of search', \\\n                                      'Outcome linked to object of search', 'Removal of more than just outer clothing',\n                                      'Self-defined ethnicity', 'Officer-defined ethnicity'], axis=1, inplace=True)\n                # drop rows which do not have the \"Type\" specified\n                current_data_sas.dropna(subset=['Type'], inplace=True)\n                current_data_sas.dropna(subset=['Longitude'], inplace=True)\n                current_data_sas.dropna(subset=['Latitude'], inplace=True)\n                df_sas = df_sas.append(current_data_sas)\n    return  df_sas\n",
   "execution_count": null,
   "outputs": []
  },
  {
   "cell_type": "code",
   "metadata": {
    "deepnote_to_be_reexecuted": false,
    "execution_millis": 87,
    "execution_start": 1645024508771,
    "source_hash": "ff06a957",
    "cell_id": "00007-eadb74c5-5679-4f9e-9fc7-d8594e0f9510",
    "deepnote_cell_type": "code",
    "deepnote_cell_height": 737
   },
   "source": "# call the function and save the df with the appropriate district name: \n# df_sas_district = extract_sas_for_district\ndf_sas_btp = extract_sas_for_district(\"btp\")",
   "execution_count": null,
   "outputs": [
    {
     "name": "stderr",
     "output_type": "stream",
     "text": "100%|█████████████████████████████████████| 119/119 [00:00<00:00, 414897.90it/s]\n100%|█████████████████████████████████████████████| 1/1 [00:00<00:00, 19.69it/s]\n100%|█████████████████████████████████████████████| 1/1 [00:00<00:00, 52.66it/s]\n100%|████████████████████████████████████████████| 1/1 [00:00<00:00, 115.58it/s]\n100%|████████████████████████████████████████████| 1/1 [00:00<00:00, 107.43it/s]\n100%|████████████████████████████████████████████| 1/1 [00:00<00:00, 176.52it/s]\n100%|████████████████████████████████████████████| 1/1 [00:00<00:00, 145.56it/s]\n100%|████████████████████████████████████████████| 1/1 [00:00<00:00, 130.82it/s]\n100%|████████████████████████████████████████████| 1/1 [00:00<00:00, 178.60it/s]\n100%|████████████████████████████████████████████| 1/1 [00:00<00:00, 132.94it/s]\n100%|████████████████████████████████████████████| 1/1 [00:00<00:00, 178.98it/s]\n100%|████████████████████████████████████████████| 1/1 [00:00<00:00, 196.78it/s]\n100%|████████████████████████████████████████████| 1/1 [00:00<00:00, 125.08it/s]\n100%|████████████████████████████████████████████| 1/1 [00:00<00:00, 190.76it/s]\n100%|████████████████████████████████████████████| 1/1 [00:00<00:00, 183.55it/s]\n100%|████████████████████████████████████████████| 1/1 [00:00<00:00, 138.98it/s]\n100%|████████████████████████████████████████████| 1/1 [00:00<00:00, 150.26it/s]\n100%|████████████████████████████████████████████| 1/1 [00:00<00:00, 151.45it/s]\n100%|████████████████████████████████████████████| 1/1 [00:00<00:00, 152.66it/s]\n100%|████████████████████████████████████████████| 1/1 [00:00<00:00, 110.14it/s]\n100%|████████████████████████████████████████████| 1/1 [00:00<00:00, 158.60it/s]\n0it [00:00, ?it/s]\n100%|████████████████████████████████████████████| 1/1 [00:00<00:00, 133.28it/s]\n100%|████████████████████████████████████████████| 1/1 [00:00<00:00, 163.72it/s]\n100%|████████████████████████████████████████████| 1/1 [00:00<00:00, 166.98it/s]\n100%|████████████████████████████████████████████| 1/1 [00:00<00:00, 142.18it/s]\n100%|████████████████████████████████████████████| 1/1 [00:00<00:00, 131.77it/s]\n100%|████████████████████████████████████████████| 1/1 [00:00<00:00, 142.11it/s]\n100%|████████████████████████████████████████████| 1/1 [00:00<00:00, 138.20it/s]\n100%|████████████████████████████████████████████| 1/1 [00:00<00:00, 184.71it/s]\n100%|████████████████████████████████████████████| 1/1 [00:00<00:00, 169.41it/s]\n100%|████████████████████████████████████████████| 1/1 [00:00<00:00, 165.65it/s]\n100%|████████████████████████████████████████████| 1/1 [00:00<00:00, 141.02it/s]\n100%|████████████████████████████████████████████| 1/1 [00:00<00:00, 171.90it/s]\n100%|████████████████████████████████████████████| 1/1 [00:00<00:00, 171.47it/s]\n100%|████████████████████████████████████████████| 1/1 [00:00<00:00, 156.62it/s]\n100%|████████████████████████████████████████████| 1/1 [00:00<00:00, 174.77it/s]\n100%|████████████████████████████████████████████| 1/1 [00:00<00:00, 167.11it/s]\n100%|████████████████████████████████████████████| 1/1 [00:00<00:00, 155.01it/s]\n100%|████████████████████████████████████████████| 1/1 [00:00<00:00, 112.98it/s]\n100%|████████████████████████████████████████████| 1/1 [00:00<00:00, 169.87it/s]\n100%|████████████████████████████████████████████| 1/1 [00:00<00:00, 151.58it/s]\n100%|████████████████████████████████████████████| 1/1 [00:00<00:00, 144.22it/s]\n100%|████████████████████████████████████████████| 1/1 [00:00<00:00, 160.89it/s]\n100%|████████████████████████████████████████████| 1/1 [00:00<00:00, 154.08it/s]\n100%|████████████████████████████████████████████| 1/1 [00:00<00:00, 137.57it/s]\n100%|████████████████████████████████████████████| 1/1 [00:00<00:00, 109.78it/s]\n100%|████████████████████████████████████████████| 1/1 [00:00<00:00, 169.93it/s]\n100%|████████████████████████████████████████████| 1/1 [00:00<00:00, 124.50it/s]\n100%|████████████████████████████████████████████| 1/1 [00:00<00:00, 151.06it/s]\n100%|████████████████████████████████████████████| 1/1 [00:00<00:00, 132.47it/s]\n100%|████████████████████████████████████████████| 1/1 [00:00<00:00, 112.42it/s]\n100%|████████████████████████████████████████████| 1/1 [00:00<00:00, 115.59it/s]\n100%|████████████████████████████████████████████| 1/1 [00:00<00:00, 112.54it/s]\n100%|████████████████████████████████████████████| 1/1 [00:00<00:00, 144.13it/s]\n100%|████████████████████████████████████████████| 1/1 [00:00<00:00, 111.98it/s]\n100%|████████████████████████████████████████████| 1/1 [00:00<00:00, 133.73it/s]\n0it [00:00, ?it/s]\n100%|█████████████████████████████████████████████| 1/1 [00:00<00:00, 78.59it/s]\n100%|████████████████████████████████████████████| 1/1 [00:00<00:00, 131.74it/s]\n100%|█████████████████████████████████████████████| 1/1 [00:00<00:00, 77.17it/s]\n100%|████████████████████████████████████████████| 1/1 [00:00<00:00, 125.59it/s]\n100%|█████████████████████████████████████████████| 1/1 [00:00<00:00, 88.72it/s]\n0it [00:00, ?it/s]\n100%|████████████████████████████████████████████| 1/1 [00:00<00:00, 160.13it/s]\n100%|█████████████████████████████████████████████| 1/1 [00:00<00:00, 94.31it/s]\n100%|████████████████████████████████████████████| 1/1 [00:00<00:00, 145.20it/s]\n100%|████████████████████████████████████████████| 1/1 [00:00<00:00, 153.07it/s]\n100%|████████████████████████████████████████████| 1/1 [00:00<00:00, 129.02it/s]\n100%|████████████████████████████████████████████| 1/1 [00:00<00:00, 145.10it/s]\n100%|████████████████████████████████████████████| 1/1 [00:00<00:00, 131.10it/s]\n100%|████████████████████████████████████████████| 1/1 [00:00<00:00, 133.98it/s]\n100%|████████████████████████████████████████████| 1/1 [00:00<00:00, 137.61it/s]\n100%|████████████████████████████████████████████| 1/1 [00:00<00:00, 151.86it/s]\n100%|████████████████████████████████████████████| 1/1 [00:00<00:00, 106.53it/s]\n100%|████████████████████████████████████████████| 1/1 [00:00<00:00, 151.86it/s]\n100%|████████████████████████████████████████████| 1/1 [00:00<00:00, 170.28it/s]\n100%|████████████████████████████████████████████| 1/1 [00:00<00:00, 166.26it/s]\n100%|████████████████████████████████████████████| 1/1 [00:00<00:00, 103.12it/s]\n100%|████████████████████████████████████████████| 1/1 [00:00<00:00, 117.45it/s]\n100%|████████████████████████████████████████████| 1/1 [00:00<00:00, 126.07it/s]\n100%|████████████████████████████████████████████| 1/1 [00:00<00:00, 135.12it/s]\n100%|█████████████████████████████████████████████| 1/1 [00:00<00:00, 89.16it/s]\n"
    }
   ]
  },
  {
   "cell_type": "code",
   "metadata": {
    "tags": [],
    "cell_id": "00008-d95276df-1c2c-4b6c-88bd-bd6545786481",
    "deepnote_cell_type": "code",
    "deepnote_cell_height": 448,
    "deepnote_output_heights": [
     351
    ]
   },
   "source": "df_sas_btp.describe(include='all')",
   "execution_count": null,
   "outputs": [
    {
     "data": {
      "text/html": "<div>\n<style scoped>\n    .dataframe tbody tr th:only-of-type {\n        vertical-align: middle;\n    }\n\n    .dataframe tbody tr th {\n        vertical-align: top;\n    }\n\n    .dataframe thead th {\n        text-align: right;\n    }\n</style>\n<table border=\"1\" class=\"dataframe\">\n  <thead>\n    <tr style=\"text-align: right;\">\n      <th></th>\n      <th>Type</th>\n      <th>Date</th>\n      <th>Part of a policing operation</th>\n      <th>Latitude</th>\n      <th>Longitude</th>\n      <th>Age range</th>\n      <th>Legislation</th>\n      <th>Outcome</th>\n    </tr>\n  </thead>\n  <tbody>\n    <tr>\n      <th>count</th>\n      <td>35764</td>\n      <td>35764</td>\n      <td>0.0</td>\n      <td>35764.000000</td>\n      <td>35764.000000</td>\n      <td>32468</td>\n      <td>35537</td>\n      <td>35496</td>\n    </tr>\n    <tr>\n      <th>unique</th>\n      <td>3</td>\n      <td>31279</td>\n      <td>NaN</td>\n      <td>NaN</td>\n      <td>NaN</td>\n      <td>5</td>\n      <td>9</td>\n      <td>15</td>\n    </tr>\n    <tr>\n      <th>top</th>\n      <td>Person search</td>\n      <td>2019-03-26T18:20:00+00:00</td>\n      <td>NaN</td>\n      <td>NaN</td>\n      <td>NaN</td>\n      <td>18-24</td>\n      <td>Misuse of Drugs Act 1971 (section 23)</td>\n      <td>A no further action disposal</td>\n    </tr>\n    <tr>\n      <th>freq</th>\n      <td>35357</td>\n      <td>15</td>\n      <td>NaN</td>\n      <td>NaN</td>\n      <td>NaN</td>\n      <td>11561</td>\n      <td>23685</td>\n      <td>24937</td>\n    </tr>\n    <tr>\n      <th>mean</th>\n      <td>NaN</td>\n      <td>NaN</td>\n      <td>NaN</td>\n      <td>52.022798</td>\n      <td>-0.929537</td>\n      <td>NaN</td>\n      <td>NaN</td>\n      <td>NaN</td>\n    </tr>\n    <tr>\n      <th>std</th>\n      <td>NaN</td>\n      <td>NaN</td>\n      <td>NaN</td>\n      <td>1.070966</td>\n      <td>1.437629</td>\n      <td>NaN</td>\n      <td>NaN</td>\n      <td>NaN</td>\n    </tr>\n    <tr>\n      <th>min</th>\n      <td>NaN</td>\n      <td>NaN</td>\n      <td>NaN</td>\n      <td>49.766800</td>\n      <td>-7.557170</td>\n      <td>NaN</td>\n      <td>NaN</td>\n      <td>NaN</td>\n    </tr>\n    <tr>\n      <th>25%</th>\n      <td>NaN</td>\n      <td>NaN</td>\n      <td>NaN</td>\n      <td>51.489793</td>\n      <td>-1.785320</td>\n      <td>NaN</td>\n      <td>NaN</td>\n      <td>NaN</td>\n    </tr>\n    <tr>\n      <th>50%</th>\n      <td>NaN</td>\n      <td>NaN</td>\n      <td>NaN</td>\n      <td>51.532500</td>\n      <td>-0.170493</td>\n      <td>NaN</td>\n      <td>NaN</td>\n      <td>NaN</td>\n    </tr>\n    <tr>\n      <th>75%</th>\n      <td>NaN</td>\n      <td>NaN</td>\n      <td>NaN</td>\n      <td>52.524500</td>\n      <td>-0.087053</td>\n      <td>NaN</td>\n      <td>NaN</td>\n      <td>NaN</td>\n    </tr>\n    <tr>\n      <th>max</th>\n      <td>NaN</td>\n      <td>NaN</td>\n      <td>NaN</td>\n      <td>57.479900</td>\n      <td>1.721036</td>\n      <td>NaN</td>\n      <td>NaN</td>\n      <td>NaN</td>\n    </tr>\n  </tbody>\n</table>\n</div>",
      "text/plain": "                 Type                       Date  \\\ncount           35764                      35764   \nunique              3                      31279   \ntop     Person search  2019-03-26T18:20:00+00:00   \nfreq            35357                         15   \nmean              NaN                        NaN   \nstd               NaN                        NaN   \nmin               NaN                        NaN   \n25%               NaN                        NaN   \n50%               NaN                        NaN   \n75%               NaN                        NaN   \nmax               NaN                        NaN   \n\n        Part of a policing operation      Latitude     Longitude Age range  \\\ncount                            0.0  35764.000000  35764.000000     32468   \nunique                           NaN           NaN           NaN         5   \ntop                              NaN           NaN           NaN     18-24   \nfreq                             NaN           NaN           NaN     11561   \nmean                             NaN     52.022798     -0.929537       NaN   \nstd                              NaN      1.070966      1.437629       NaN   \nmin                              NaN     49.766800     -7.557170       NaN   \n25%                              NaN     51.489793     -1.785320       NaN   \n50%                              NaN     51.532500     -0.170493       NaN   \n75%                              NaN     52.524500     -0.087053       NaN   \nmax                              NaN     57.479900      1.721036       NaN   \n\n                                  Legislation                       Outcome  \ncount                                   35537                         35496  \nunique                                      9                            15  \ntop     Misuse of Drugs Act 1971 (section 23)  A no further action disposal  \nfreq                                    23685                         24937  \nmean                                      NaN                           NaN  \nstd                                       NaN                           NaN  \nmin                                       NaN                           NaN  \n25%                                       NaN                           NaN  \n50%                                       NaN                           NaN  \n75%                                       NaN                           NaN  \nmax                                       NaN                           NaN  "
     },
     "execution_count": 39,
     "metadata": {},
     "output_type": "execute_result"
    }
   ]
  },
  {
   "cell_type": "markdown",
   "source": "<a style='text-decoration:none;line-height:16px;display:flex;color:#5B5B62;padding:10px;justify-content:end;' href='https://deepnote.com?utm_source=created-in-deepnote-cell&projectId=40789b9a-1c62-45b9-9d9c-b1a39ebe3dfd' target=\"_blank\">\n<img alt='Created in deepnote.com' style='display:inline;max-height:16px;margin:0px;margin-right:7.5px;' src='data:image/svg+xml;base64,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' > </img>\nCreated in <span style='font-weight:600;margin-left:4px;'>Deepnote</span></a>",
   "metadata": {
    "tags": [],
    "created_in_deepnote_cell": true,
    "deepnote_cell_type": "markdown"
   }
  }
 ],
 "nbformat": 4,
 "nbformat_minor": 5,
 "metadata": {
  "deepnote": {},
  "deepnote_execution_queue": [],
  "deepnote_notebook_id": "4e058929-4177-4188-a3f4-e297f535ee6d",
  "kernelspec": {
   "display_name": "Python 3 (ipykernel)",
   "language": "python",
   "name": "python3"
  },
  "language_info": {
   "codemirror_mode": {
    "name": "ipython",
    "version": 3
   },
   "file_extension": ".py",
   "mimetype": "text/x-python",
   "name": "python",
   "nbconvert_exporter": "python",
   "pygments_lexer": "ipython3",
   "version": "3.9.7"
  }
 }
}