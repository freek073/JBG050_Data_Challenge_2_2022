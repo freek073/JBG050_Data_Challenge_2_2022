{
 "cells": [
  {
   "cell_type": "code",
   "metadata": {
    "cell_id": "b3eaa6d8-91f1-4ac7-bfa5-71a32a1f443e",
    "deepnote_to_be_reexecuted": false,
    "execution_millis": 23,
    "execution_start": 1645024130442,
    "source_hash": "368e2b65",
    "deepnote_cell_type": "code",
    "deepnote_cell_height": 189
   },
   "source": "import pandas as pd\nimport os\nimport tqdm as tq\nimport string\nimport statistics as stats\nimport re\npd.set_option('display.max_columns', None)",
   "execution_count": null,
   "outputs": []
  },
  {
   "cell_type": "code",
   "metadata": {
    "cell_id": "00001-8930db5d-8158-48c0-94a7-0736e5e0f4c1",
    "deepnote_to_be_reexecuted": false,
    "execution_millis": 63649,
    "execution_start": 1645024134388,
    "scrolled": true,
    "source_hash": "8086a80",
    "deepnote_cell_type": "code",
    "deepnote_cell_height": 866
   },
   "source": "# To make df_streets and clean the data.\n\n# Change directory\ndirectory = \"Jan_2012_Oct_2021\"\ndf_street = pd.DataFrame()\n\nfolders = [folder for folder in tq.tqdm(os.listdir(directory)) if not str(folder).strip(\"'b\").startswith('.')]\n\nfor folder in folders:\n    files_street = []\n\n    # Here you can change the date range\n    if int(folder[:4]) > 2014:\n        # generate the path to folder\n        folder_direc = os.fsencode(directory + '/'+ str(folder))\n        print(folder)\n        \n        # add each file name to the appropriate list\n        for file in os.listdir(folder_direc):\n            file = str(file).strip(\"'b\")\n            if (bool(re.search('street', file))):\n                files_street.append(file)\n                \n        # Clean dataframe\n        for file in tq.tqdm(files_street):\n            # Create dataframe from the current file\n            current_data_street = pd.read_csv(directory + '/' + str(folder).strip(\"'b\") + '/' + str(file)) \n            # Drop the attributes considered irrelevant\n            current_data_street.drop(['Reported by', 'Longitude', 'Latitude', \\\n                                                            'Location', 'Context'], axis=1, inplace=True)\n            current_data_street.dropna(subset=['LSOA code'], inplace=True)\n            current_data_street.dropna(subset=['Crime type'], inplace=True)\n            df_street = df_street.append(current_data_street)\n",
   "execution_count": null,
   "outputs": [
    {
     "name": "stderr",
     "text": "100%|██████████| 13/13 [00:00<00:00, 82866.19it/s]\n100%|██████████| 38/38 [00:02<00:00, 16.83it/s]\n100%|██████████| 28/28 [00:02<00:00, 13.21it/s]\n100%|██████████| 43/43 [00:05<00:00,  8.12it/s]\n100%|██████████| 43/43 [00:06<00:00,  6.27it/s]\n100%|██████████| 43/43 [00:08<00:00,  4.84it/s]\n100%|██████████| 44/44 [00:11<00:00,  3.97it/s]\n100%|██████████| 43/43 [00:12<00:00,  3.48it/s]\n100%|██████████| 43/43 [00:14<00:00,  2.92it/s]\n",
     "output_type": "stream"
    }
   ]
  },
  {
   "cell_type": "code",
   "metadata": {
    "cell_id": "00002-1a5aa73c-8d97-4740-bcc1-9d6f1bb6225a",
    "deepnote_to_be_reexecuted": false,
    "execution_millis": 364,
    "execution_start": 1645024204289,
    "scrolled": true,
    "source_hash": "97d77b9b",
    "deepnote_cell_type": "code",
    "deepnote_cell_height": 598
   },
   "source": "df_street",
   "execution_count": null,
   "outputs": [
    {
     "output_type": "execute_result",
     "execution_count": 13,
     "data": {
      "application/vnd.deepnote.dataframe.v3+json": {
       "column_count": 7,
       "row_count": 3038749,
       "columns": [
        {
         "name": "Crime ID",
         "dtype": "object"
        },
        {
         "name": "Month",
         "dtype": "object"
        },
        {
         "name": "Falls within",
         "dtype": "object"
        },
        {
         "name": "LSOA code",
         "dtype": "object"
        },
        {
         "name": "LSOA name",
         "dtype": "object"
        },
        {
         "name": "Crime type",
         "dtype": "object"
        },
        {
         "name": "Last outcome category",
         "dtype": "object"
        },
        {
         "name": "_deepnote_index_column",
         "dtype": "int64"
        }
       ],
       "rows": [
        {
         "Crime ID": "nan",
         "Month": "2020-08",
         "Falls within": "Lancashire Constabulary",
         "LSOA code": "E01025568",
         "LSOA name": "Wyre 014B",
         "Crime type": "Anti-social behaviour",
         "Last outcome category": "nan",
         "_deepnote_index_column": 19846
        },
        {
         "Crime ID": "nan",
         "Month": "2020-08",
         "Falls within": "Lancashire Constabulary",
         "LSOA code": "E01025568",
         "LSOA name": "Wyre 014B",
         "Crime type": "Anti-social behaviour",
         "Last outcome category": "nan",
         "_deepnote_index_column": 19847
        },
        {
         "Crime ID": "nan",
         "Month": "2020-08",
         "Falls within": "Lancashire Constabulary",
         "LSOA code": "E01025568",
         "LSOA name": "Wyre 014B",
         "Crime type": "Anti-social behaviour",
         "Last outcome category": "nan",
         "_deepnote_index_column": 19848
        },
        {
         "Crime ID": "nan",
         "Month": "2020-08",
         "Falls within": "Lancashire Constabulary",
         "LSOA code": "E01025568",
         "LSOA name": "Wyre 014B",
         "Crime type": "Anti-social behaviour",
         "Last outcome category": "nan",
         "_deepnote_index_column": 19849
        },
        {
         "Crime ID": "nan",
         "Month": "2020-08",
         "Falls within": "Lancashire Constabulary",
         "LSOA code": "E01025568",
         "LSOA name": "Wyre 014B",
         "Crime type": "Anti-social behaviour",
         "Last outcome category": "nan",
         "_deepnote_index_column": 19850
        },
        {
         "Crime ID": "nan",
         "Month": "2020-08",
         "Falls within": "Lancashire Constabulary",
         "LSOA code": "E01025568",
         "LSOA name": "Wyre 014B",
         "Crime type": "Anti-social behaviour",
         "Last outcome category": "nan",
         "_deepnote_index_column": 19851
        },
        {
         "Crime ID": "nan",
         "Month": "2020-08",
         "Falls within": "Lancashire Constabulary",
         "LSOA code": "E01025568",
         "LSOA name": "Wyre 014B",
         "Crime type": "Anti-social behaviour",
         "Last outcome category": "nan",
         "_deepnote_index_column": 19852
        },
        {
         "Crime ID": "nan",
         "Month": "2020-08",
         "Falls within": "Lancashire Constabulary",
         "LSOA code": "E01025568",
         "LSOA name": "Wyre 014B",
         "Crime type": "Anti-social behaviour",
         "Last outcome category": "nan",
         "_deepnote_index_column": 19853
        },
        {
         "Crime ID": "nan",
         "Month": "2020-08",
         "Falls within": "Lancashire Constabulary",
         "LSOA code": "E01025568",
         "LSOA name": "Wyre 014B",
         "Crime type": "Anti-social behaviour",
         "Last outcome category": "nan",
         "_deepnote_index_column": 19854
        },
        {
         "Crime ID": "nan",
         "Month": "2020-08",
         "Falls within": "Lancashire Constabulary",
         "LSOA code": "E01025568",
         "LSOA name": "Wyre 014B",
         "Crime type": "Anti-social behaviour",
         "Last outcome category": "nan",
         "_deepnote_index_column": 19855
        }
       ]
      },
      "text/plain": "                                                Crime ID    Month  \\\n0                                                    NaN  2020-09   \n1      b267eefa1d1eb337b621de90d5760d92c363cd412fce00...  2020-09   \n2      210397977f9e987763464cacb7b13e20f6826b3e86e8f2...  2020-09   \n3      b9793a8f607a449f7bebea470fcbae12566ef82cd528a9...  2020-09   \n4      eeab3387f73521f608d64c6502cffdf1f7c8e256698533...  2020-09   \n...                                                  ...      ...   \n19890                                                NaN  2020-08   \n19891  b00d584a0a32838d9ee97ca5b1cd6e37a55a5a11d7ab41...  2020-08   \n19892  89c5cc7fbd686377305c671d7cfa1eb2cedb6e66a8ce11...  2020-08   \n19893  e78b8cc4e19816636ee32e32fc8c90f2bbe08c7d2f5e3d...  2020-08   \n19894  22431d41469c48a1a90aa42c50c39ad4fd4d6278b85423...  2020-08   \n\n                  Falls within  LSOA code             LSOA name  \\\n0           Dyfed-Powys Police  W01000685  Carmarthenshire 001A   \n1           Dyfed-Powys Police  W01000685  Carmarthenshire 001A   \n2           Dyfed-Powys Police  W01000685  Carmarthenshire 001A   \n3           Dyfed-Powys Police  W01000685  Carmarthenshire 001A   \n4           Dyfed-Powys Police  W01000685  Carmarthenshire 001A   \n...                        ...        ...                   ...   \n19890  Lancashire Constabulary  E01025600             Wyre 014E   \n19891  Lancashire Constabulary  E01025600             Wyre 014E   \n19892  Lancashire Constabulary  E01025600             Wyre 014E   \n19893  Lancashire Constabulary  E01025600             Wyre 014E   \n19894  Lancashire Constabulary  E01025600             Wyre 014E   \n\n                         Crime type  \\\n0             Anti-social behaviour   \n1                             Drugs   \n2                       Other theft   \n3                       Other theft   \n4                      Public order   \n...                             ...   \n19890         Anti-social behaviour   \n19891                      Burglary   \n19892                  Public order   \n19893  Violence and sexual offences   \n19894  Violence and sexual offences   \n\n                               Last outcome category  \n0                                                NaN  \n1                           Court result unavailable  \n2      Investigation complete; no suspect identified  \n3      Investigation complete; no suspect identified  \n4                        Unable to prosecute suspect  \n...                                              ...  \n19890                                            NaN  \n19891  Investigation complete; no suspect identified  \n19892                    Unable to prosecute suspect  \n19893                    Unable to prosecute suspect  \n19894                    Unable to prosecute suspect  \n\n[3038749 rows x 7 columns]",
      "text/html": "<div>\n<style scoped>\n    .dataframe tbody tr th:only-of-type {\n        vertical-align: middle;\n    }\n\n    .dataframe tbody tr th {\n        vertical-align: top;\n    }\n\n    .dataframe thead th {\n        text-align: right;\n    }\n</style>\n<table border=\"1\" class=\"dataframe\">\n  <thead>\n    <tr style=\"text-align: right;\">\n      <th></th>\n      <th>Crime ID</th>\n      <th>Month</th>\n      <th>Falls within</th>\n      <th>LSOA code</th>\n      <th>LSOA name</th>\n      <th>Crime type</th>\n      <th>Last outcome category</th>\n    </tr>\n  </thead>\n  <tbody>\n    <tr>\n      <th>0</th>\n      <td>NaN</td>\n      <td>2020-09</td>\n      <td>Dyfed-Powys Police</td>\n      <td>W01000685</td>\n      <td>Carmarthenshire 001A</td>\n      <td>Anti-social behaviour</td>\n      <td>NaN</td>\n    </tr>\n    <tr>\n      <th>1</th>\n      <td>b267eefa1d1eb337b621de90d5760d92c363cd412fce00...</td>\n      <td>2020-09</td>\n      <td>Dyfed-Powys Police</td>\n      <td>W01000685</td>\n      <td>Carmarthenshire 001A</td>\n      <td>Drugs</td>\n      <td>Court result unavailable</td>\n    </tr>\n    <tr>\n      <th>2</th>\n      <td>210397977f9e987763464cacb7b13e20f6826b3e86e8f2...</td>\n      <td>2020-09</td>\n      <td>Dyfed-Powys Police</td>\n      <td>W01000685</td>\n      <td>Carmarthenshire 001A</td>\n      <td>Other theft</td>\n      <td>Investigation complete; no suspect identified</td>\n    </tr>\n    <tr>\n      <th>3</th>\n      <td>b9793a8f607a449f7bebea470fcbae12566ef82cd528a9...</td>\n      <td>2020-09</td>\n      <td>Dyfed-Powys Police</td>\n      <td>W01000685</td>\n      <td>Carmarthenshire 001A</td>\n      <td>Other theft</td>\n      <td>Investigation complete; no suspect identified</td>\n    </tr>\n    <tr>\n      <th>4</th>\n      <td>eeab3387f73521f608d64c6502cffdf1f7c8e256698533...</td>\n      <td>2020-09</td>\n      <td>Dyfed-Powys Police</td>\n      <td>W01000685</td>\n      <td>Carmarthenshire 001A</td>\n      <td>Public order</td>\n      <td>Unable to prosecute suspect</td>\n    </tr>\n    <tr>\n      <th>...</th>\n      <td>...</td>\n      <td>...</td>\n      <td>...</td>\n      <td>...</td>\n      <td>...</td>\n      <td>...</td>\n      <td>...</td>\n    </tr>\n    <tr>\n      <th>19890</th>\n      <td>NaN</td>\n      <td>2020-08</td>\n      <td>Lancashire Constabulary</td>\n      <td>E01025600</td>\n      <td>Wyre 014E</td>\n      <td>Anti-social behaviour</td>\n      <td>NaN</td>\n    </tr>\n    <tr>\n      <th>19891</th>\n      <td>b00d584a0a32838d9ee97ca5b1cd6e37a55a5a11d7ab41...</td>\n      <td>2020-08</td>\n      <td>Lancashire Constabulary</td>\n      <td>E01025600</td>\n      <td>Wyre 014E</td>\n      <td>Burglary</td>\n      <td>Investigation complete; no suspect identified</td>\n    </tr>\n    <tr>\n      <th>19892</th>\n      <td>89c5cc7fbd686377305c671d7cfa1eb2cedb6e66a8ce11...</td>\n      <td>2020-08</td>\n      <td>Lancashire Constabulary</td>\n      <td>E01025600</td>\n      <td>Wyre 014E</td>\n      <td>Public order</td>\n      <td>Unable to prosecute suspect</td>\n    </tr>\n    <tr>\n      <th>19893</th>\n      <td>e78b8cc4e19816636ee32e32fc8c90f2bbe08c7d2f5e3d...</td>\n      <td>2020-08</td>\n      <td>Lancashire Constabulary</td>\n      <td>E01025600</td>\n      <td>Wyre 014E</td>\n      <td>Violence and sexual offences</td>\n      <td>Unable to prosecute suspect</td>\n    </tr>\n    <tr>\n      <th>19894</th>\n      <td>22431d41469c48a1a90aa42c50c39ad4fd4d6278b85423...</td>\n      <td>2020-08</td>\n      <td>Lancashire Constabulary</td>\n      <td>E01025600</td>\n      <td>Wyre 014E</td>\n      <td>Violence and sexual offences</td>\n      <td>Unable to prosecute suspect</td>\n    </tr>\n  </tbody>\n</table>\n<p>3038749 rows × 7 columns</p>\n</div>"
     },
     "metadata": {}
    }
   ]
  },
  {
   "cell_type": "code",
   "metadata": {
    "cell_id": "9b6df48e-ea5e-48f3-8edd-139e85c888a9",
    "deepnote_to_be_reexecuted": false,
    "execution_millis": 212,
    "execution_start": 1645024672626,
    "source_hash": "8dfeb49e",
    "tags": [],
    "deepnote_cell_type": "code",
    "deepnote_cell_height": 137,
    "deepnote_output_heights": [
     40
    ]
   },
   "source": "df_street['Month'].unique()",
   "execution_count": null,
   "outputs": [
    {
     "output_type": "execute_result",
     "execution_count": 12,
     "data": {
      "text/plain": "array(['W01000685', 'W01000686', 'W01000701', ..., 'E01000604',\n       'E01001482', 'E01004590'], dtype=object)"
     },
     "metadata": {}
    }
   ]
  },
  {
   "cell_type": "code",
   "metadata": {
    "cell_id": "00004-a422c64a-571c-4b35-a6f1-39341c2e2e70",
    "deepnote_cell_type": "code",
    "deepnote_cell_height": 66
   },
   "source": "df_street.to_csv('all_street.csv')",
   "execution_count": null,
   "outputs": []
  },
  {
   "cell_type": "code",
   "metadata": {
    "cell_id": "00003-cf769e08-9a84-4f14-a6b3-54b36e0e3a9e",
    "deepnote_to_be_reexecuted": false,
    "execution_millis": 21407,
    "execution_start": 1645024465905,
    "source_hash": "e54880c3",
    "deepnote_cell_type": "code",
    "deepnote_cell_height": 848
   },
   "source": "# To make df_sas and clean the data.\n\n# Change directory\ndirectory = \"/work/Jan_2010_Oct_2021\"\ndf_sas = pd.DataFrame()\n\nfolders = [folder for folder in tq.tqdm(os.listdir(directory)) if not str(folder).strip(\"'b\").startswith('.')]\n\nfor folder in folders:\n    files_sas = []\n\n    # Here you can change the date range\n    if int(folder[:4]) > 2014:\n        # generate the path to folder\n        folder_direc = os.fsencode(directory + '/'+ str(folder))\n        \n        # add each file name to the appropriate list\n        for file in os.listdir(folder_direc):\n            file = str(file).strip(\"'b\")\n            if (bool(re.search('stop-and-search', file))):\n                files_sas.append(file)\n                \n        # Clean dataframe for stop-and-search\n        for file in tq.tqdm(files_sas):\n            # Create dataframe from the current file\n            current_data_sas = pd.read_csv(directory + '/' + str(folder).strip(\"'b\") + '/' + str(file))  \n            # drop the attributes considered irrelevant\n            current_data_sas.drop(['Policing operation', 'Gender', 'Object of search', \\\n                                  'Outcome linked to object of search', 'Removal of more than just outer clothing'], axis=1, inplace=True)\n            # drop rows which do not have the \"Type\" specified\n            current_data_sas.dropna(subset=['Type'], inplace=True)\n            df_sas = df_sas.append(current_data_sas)\n",
   "execution_count": null,
   "outputs": [
    {
     "name": "stderr",
     "text": "100%|██████████| 13/13 [00:00<00:00, 75625.45it/s]\n100%|██████████| 43/43 [00:01<00:00, 40.95it/s]\n100%|██████████| 44/44 [00:01<00:00, 34.01it/s]\n100%|██████████| 43/43 [00:02<00:00, 19.87it/s]\n100%|██████████| 36/36 [00:02<00:00, 15.25it/s]\n100%|██████████| 43/43 [00:03<00:00, 13.92it/s]\n100%|██████████| 43/43 [00:03<00:00, 12.87it/s]\n100%|██████████| 43/43 [00:03<00:00, 11.58it/s]\n100%|██████████| 43/43 [00:04<00:00,  9.95it/s]\n",
     "output_type": "stream"
    }
   ]
  },
  {
   "cell_type": "code",
   "metadata": {
    "cell_id": "00004-b9824035-f360-430d-9000-638014b267ad",
    "deepnote_to_be_reexecuted": false,
    "execution_millis": 87,
    "execution_start": 1645024508771,
    "source_hash": "ff06a957",
    "deepnote_cell_type": "code",
    "deepnote_cell_height": 598
   },
   "source": "df_sas",
   "execution_count": null,
   "outputs": [
    {
     "output_type": "execute_result",
     "execution_count": 8,
     "data": {
      "application/vnd.deepnote.dataframe.v3+json": {
       "column_count": 10,
       "row_count": 307767,
       "columns": [
        {
         "name": "Type",
         "dtype": "object"
        },
        {
         "name": "Date",
         "dtype": "object"
        },
        {
         "name": "Part of a policing operation",
         "dtype": "object"
        },
        {
         "name": "Latitude",
         "dtype": "float64"
        },
        {
         "name": "Longitude",
         "dtype": "float64"
        },
        {
         "name": "Age range",
         "dtype": "object"
        },
        {
         "name": "Self-defined ethnicity",
         "dtype": "object"
        },
        {
         "name": "Officer-defined ethnicity",
         "dtype": "object"
        },
        {
         "name": "Legislation",
         "dtype": "object"
        },
        {
         "name": "Outcome",
         "dtype": "object"
        },
        {
         "name": "_deepnote_index_column",
         "dtype": "int64"
        }
       ],
       "rows": [
        {
         "Type": "Person search",
         "Date": "2020-08-31T23:30:19+00:00",
         "Part of a policing operation": "0.0",
         "Latitude": 52.602701,
         "Longitude": 0.376608,
         "Age range": "over 34",
         "Self-defined ethnicity": "White - English/Welsh/Scottish/Northern Irish/British",
         "Officer-defined ethnicity": "White",
         "Legislation": "Police and Criminal Evidence Act 1984 (section 1)",
         "Outcome": "A no further action disposal",
         "_deepnote_index_column": 0
        },
        {
         "Type": "Person search",
         "Date": "2020-09-01T08:35:31+00:00",
         "Part of a policing operation": "0.0",
         "Latitude": 52.416985,
         "Longitude": 0.743852,
         "Age range": "25-34",
         "Self-defined ethnicity": "White - English/Welsh/Scottish/Northern Irish/British",
         "Officer-defined ethnicity": "White",
         "Legislation": "Misuse of Drugs Act 1971 (section 23)",
         "Outcome": "A no further action disposal",
         "_deepnote_index_column": 1
        },
        {
         "Type": "Person search",
         "Date": "2020-09-01T12:14:22+00:00",
         "Part of a policing operation": "0.0",
         "Latitude": 52.607668,
         "Longitude": 1.72609,
         "Age range": "25-34",
         "Self-defined ethnicity": "Black/African/Caribbean/Black British - African",
         "Officer-defined ethnicity": "Black",
         "Legislation": "Misuse of Drugs Act 1971 (section 23)",
         "Outcome": "A no further action disposal",
         "_deepnote_index_column": 2
        },
        {
         "Type": "Person search",
         "Date": "2020-09-01T12:23:05+00:00",
         "Part of a policing operation": "0.0",
         "Latitude": 52.41225,
         "Longitude": 0.732793,
         "Age range": "over 34",
         "Self-defined ethnicity": "White - English/Welsh/Scottish/Northern Irish/British",
         "Officer-defined ethnicity": "White",
         "Legislation": "Police and Criminal Evidence Act 1984 (section 1)",
         "Outcome": "A no further action disposal",
         "_deepnote_index_column": 3
        },
        {
         "Type": "Person search",
         "Date": "2020-09-01T13:54:00+00:00",
         "Part of a policing operation": "0.0",
         "Latitude": 52.616957,
         "Longitude": 1.721028,
         "Age range": "25-34",
         "Self-defined ethnicity": "White - English/Welsh/Scottish/Northern Irish/British",
         "Officer-defined ethnicity": "White",
         "Legislation": "Misuse of Drugs Act 1971 (section 23)",
         "Outcome": "A no further action disposal",
         "_deepnote_index_column": 4
        },
        {
         "Type": "Person search",
         "Date": "2020-09-01T14:33:43+00:00",
         "Part of a policing operation": "0.0",
         "Latitude": 52.413757,
         "Longitude": 0.735666,
         "Age range": "25-34",
         "Self-defined ethnicity": "White - Any other White background",
         "Officer-defined ethnicity": "White",
         "Legislation": "Misuse of Drugs Act 1971 (section 23)",
         "Outcome": "A no further action disposal",
         "_deepnote_index_column": 5
        },
        {
         "Type": "Person search",
         "Date": "2020-09-01T15:10:20+00:00",
         "Part of a policing operation": "0.0",
         "Latitude": 52.660702,
         "Longitude": 1.721477,
         "Age range": "10-17",
         "Self-defined ethnicity": "White - English/Welsh/Scottish/Northern Irish/British",
         "Officer-defined ethnicity": "White",
         "Legislation": "Misuse of Drugs Act 1971 (section 23)",
         "Outcome": "A no further action disposal",
         "_deepnote_index_column": 6
        },
        {
         "Type": "Person search",
         "Date": "2020-09-01T15:10:20+00:00",
         "Part of a policing operation": "0.0",
         "Latitude": 52.660702,
         "Longitude": 1.721477,
         "Age range": "18-24",
         "Self-defined ethnicity": "Other ethnic group - Not stated",
         "Officer-defined ethnicity": "White",
         "Legislation": "Misuse of Drugs Act 1971 (section 23)",
         "Outcome": "A no further action disposal",
         "_deepnote_index_column": 7
        },
        {
         "Type": "Person search",
         "Date": "2020-09-01T15:10:20+00:00",
         "Part of a policing operation": "0.0",
         "Latitude": 52.660702,
         "Longitude": 1.721477,
         "Age range": "18-24",
         "Self-defined ethnicity": "White - English/Welsh/Scottish/Northern Irish/British",
         "Officer-defined ethnicity": "White",
         "Legislation": "Misuse of Drugs Act 1971 (section 23)",
         "Outcome": "A no further action disposal",
         "_deepnote_index_column": 8
        },
        {
         "Type": "Person search",
         "Date": "2020-09-01T15:25:00+00:00",
         "Part of a policing operation": "0.0",
         "Latitude": 52.413318,
         "Longitude": 0.749948,
         "Age range": "over 34",
         "Self-defined ethnicity": "White - Any other White background",
         "Officer-defined ethnicity": "White",
         "Legislation": "Misuse of Drugs Act 1971 (section 23)",
         "Outcome": "A no further action disposal",
         "_deepnote_index_column": 9
        }
       ]
      },
      "text/plain": "              Type                       Date Part of a policing operation  \\\n0    Person search  2020-08-31T23:30:19+00:00                          0.0   \n1    Person search  2020-09-01T08:35:31+00:00                          0.0   \n2    Person search  2020-09-01T12:14:22+00:00                          0.0   \n3    Person search  2020-09-01T12:23:05+00:00                          0.0   \n4    Person search  2020-09-01T13:54:00+00:00                          0.0   \n..             ...                        ...                          ...   \n177  Person search  2020-08-30T23:00:00+00:00                          NaN   \n178  Person search  2020-08-30T23:00:00+00:00                          NaN   \n179  Person search  2020-08-30T23:00:00+00:00                          NaN   \n180  Person search  2020-08-30T23:00:00+00:00                          NaN   \n181  Person search  2020-08-30T23:00:00+00:00                          NaN   \n\n      Latitude  Longitude Age range  \\\n0    52.602701   0.376608   over 34   \n1    52.416985   0.743852     25-34   \n2    52.607668   1.726090     25-34   \n3    52.412250   0.732793   over 34   \n4    52.616957   1.721028     25-34   \n..         ...        ...       ...   \n177  50.551292  -2.437952   over 34   \n178  50.753828  -1.857764   over 34   \n179  50.719229  -1.934518     18-24   \n180  50.611894  -2.454754       NaN   \n181  50.752094  -1.844770   over 34   \n\n                                Self-defined ethnicity  \\\n0    White - English/Welsh/Scottish/Northern Irish/...   \n1    White - English/Welsh/Scottish/Northern Irish/...   \n2      Black/African/Caribbean/Black British - African   \n3    White - English/Welsh/Scottish/Northern Irish/...   \n4    White - English/Welsh/Scottish/Northern Irish/...   \n..                                                 ...   \n177                    Other ethnic group - Not stated   \n178  White - English/Welsh/Scottish/Northern Irish/...   \n179  White - English/Welsh/Scottish/Northern Irish/...   \n180                                                NaN   \n181                    Other ethnic group - Not stated   \n\n    Officer-defined ethnicity  \\\n0                       White   \n1                       White   \n2                       Black   \n3                       White   \n4                       White   \n..                        ...   \n177                     White   \n178                     White   \n179                     White   \n180                       NaN   \n181                     White   \n\n                                           Legislation  \\\n0    Police and Criminal Evidence Act 1984 (section 1)   \n1                Misuse of Drugs Act 1971 (section 23)   \n2                Misuse of Drugs Act 1971 (section 23)   \n3    Police and Criminal Evidence Act 1984 (section 1)   \n4                Misuse of Drugs Act 1971 (section 23)   \n..                                                 ...   \n177                                                NaN   \n178              Misuse of Drugs Act 1971 (section 23)   \n179              Misuse of Drugs Act 1971 (section 23)   \n180  Police and Criminal Evidence Act 1984 (section 1)   \n181              Misuse of Drugs Act 1971 (section 23)   \n\n                          Outcome  \n0    A no further action disposal  \n1    A no further action disposal  \n2    A no further action disposal  \n3    A no further action disposal  \n4    A no further action disposal  \n..                            ...  \n177  A no further action disposal  \n178  A no further action disposal  \n179          Community resolution  \n180                           NaN  \n181  A no further action disposal  \n\n[307767 rows x 10 columns]",
      "text/html": "<div>\n<style scoped>\n    .dataframe tbody tr th:only-of-type {\n        vertical-align: middle;\n    }\n\n    .dataframe tbody tr th {\n        vertical-align: top;\n    }\n\n    .dataframe thead th {\n        text-align: right;\n    }\n</style>\n<table border=\"1\" class=\"dataframe\">\n  <thead>\n    <tr style=\"text-align: right;\">\n      <th></th>\n      <th>Type</th>\n      <th>Date</th>\n      <th>Part of a policing operation</th>\n      <th>Latitude</th>\n      <th>Longitude</th>\n      <th>Age range</th>\n      <th>Self-defined ethnicity</th>\n      <th>Officer-defined ethnicity</th>\n      <th>Legislation</th>\n      <th>Outcome</th>\n    </tr>\n  </thead>\n  <tbody>\n    <tr>\n      <th>0</th>\n      <td>Person search</td>\n      <td>2020-08-31T23:30:19+00:00</td>\n      <td>0.0</td>\n      <td>52.602701</td>\n      <td>0.376608</td>\n      <td>over 34</td>\n      <td>White - English/Welsh/Scottish/Northern Irish/...</td>\n      <td>White</td>\n      <td>Police and Criminal Evidence Act 1984 (section 1)</td>\n      <td>A no further action disposal</td>\n    </tr>\n    <tr>\n      <th>1</th>\n      <td>Person search</td>\n      <td>2020-09-01T08:35:31+00:00</td>\n      <td>0.0</td>\n      <td>52.416985</td>\n      <td>0.743852</td>\n      <td>25-34</td>\n      <td>White - English/Welsh/Scottish/Northern Irish/...</td>\n      <td>White</td>\n      <td>Misuse of Drugs Act 1971 (section 23)</td>\n      <td>A no further action disposal</td>\n    </tr>\n    <tr>\n      <th>2</th>\n      <td>Person search</td>\n      <td>2020-09-01T12:14:22+00:00</td>\n      <td>0.0</td>\n      <td>52.607668</td>\n      <td>1.726090</td>\n      <td>25-34</td>\n      <td>Black/African/Caribbean/Black British - African</td>\n      <td>Black</td>\n      <td>Misuse of Drugs Act 1971 (section 23)</td>\n      <td>A no further action disposal</td>\n    </tr>\n    <tr>\n      <th>3</th>\n      <td>Person search</td>\n      <td>2020-09-01T12:23:05+00:00</td>\n      <td>0.0</td>\n      <td>52.412250</td>\n      <td>0.732793</td>\n      <td>over 34</td>\n      <td>White - English/Welsh/Scottish/Northern Irish/...</td>\n      <td>White</td>\n      <td>Police and Criminal Evidence Act 1984 (section 1)</td>\n      <td>A no further action disposal</td>\n    </tr>\n    <tr>\n      <th>4</th>\n      <td>Person search</td>\n      <td>2020-09-01T13:54:00+00:00</td>\n      <td>0.0</td>\n      <td>52.616957</td>\n      <td>1.721028</td>\n      <td>25-34</td>\n      <td>White - English/Welsh/Scottish/Northern Irish/...</td>\n      <td>White</td>\n      <td>Misuse of Drugs Act 1971 (section 23)</td>\n      <td>A no further action disposal</td>\n    </tr>\n    <tr>\n      <th>...</th>\n      <td>...</td>\n      <td>...</td>\n      <td>...</td>\n      <td>...</td>\n      <td>...</td>\n      <td>...</td>\n      <td>...</td>\n      <td>...</td>\n      <td>...</td>\n      <td>...</td>\n    </tr>\n    <tr>\n      <th>177</th>\n      <td>Person search</td>\n      <td>2020-08-30T23:00:00+00:00</td>\n      <td>NaN</td>\n      <td>50.551292</td>\n      <td>-2.437952</td>\n      <td>over 34</td>\n      <td>Other ethnic group - Not stated</td>\n      <td>White</td>\n      <td>NaN</td>\n      <td>A no further action disposal</td>\n    </tr>\n    <tr>\n      <th>178</th>\n      <td>Person search</td>\n      <td>2020-08-30T23:00:00+00:00</td>\n      <td>NaN</td>\n      <td>50.753828</td>\n      <td>-1.857764</td>\n      <td>over 34</td>\n      <td>White - English/Welsh/Scottish/Northern Irish/...</td>\n      <td>White</td>\n      <td>Misuse of Drugs Act 1971 (section 23)</td>\n      <td>A no further action disposal</td>\n    </tr>\n    <tr>\n      <th>179</th>\n      <td>Person search</td>\n      <td>2020-08-30T23:00:00+00:00</td>\n      <td>NaN</td>\n      <td>50.719229</td>\n      <td>-1.934518</td>\n      <td>18-24</td>\n      <td>White - English/Welsh/Scottish/Northern Irish/...</td>\n      <td>White</td>\n      <td>Misuse of Drugs Act 1971 (section 23)</td>\n      <td>Community resolution</td>\n    </tr>\n    <tr>\n      <th>180</th>\n      <td>Person search</td>\n      <td>2020-08-30T23:00:00+00:00</td>\n      <td>NaN</td>\n      <td>50.611894</td>\n      <td>-2.454754</td>\n      <td>NaN</td>\n      <td>NaN</td>\n      <td>NaN</td>\n      <td>Police and Criminal Evidence Act 1984 (section 1)</td>\n      <td>NaN</td>\n    </tr>\n    <tr>\n      <th>181</th>\n      <td>Person search</td>\n      <td>2020-08-30T23:00:00+00:00</td>\n      <td>NaN</td>\n      <td>50.752094</td>\n      <td>-1.844770</td>\n      <td>over 34</td>\n      <td>Other ethnic group - Not stated</td>\n      <td>White</td>\n      <td>Misuse of Drugs Act 1971 (section 23)</td>\n      <td>A no further action disposal</td>\n    </tr>\n  </tbody>\n</table>\n<p>307767 rows × 10 columns</p>\n</div>"
     },
     "metadata": {}
    }
   ]
  },
  {
   "cell_type": "code",
   "metadata": {
    "cell_id": "bab64806-6bcc-4c74-84a6-2f61316198ae",
    "tags": [],
    "deepnote_cell_type": "code",
    "deepnote_cell_height": 66
   },
   "source": "",
   "execution_count": null,
   "outputs": []
  },
  {
   "cell_type": "markdown",
   "source": "<a style='text-decoration:none;line-height:16px;display:flex;color:#5B5B62;padding:10px;justify-content:end;' href='https://deepnote.com?utm_source=created-in-deepnote-cell&projectId=40789b9a-1c62-45b9-9d9c-b1a39ebe3dfd' target=\"_blank\">\n<img alt='Created in deepnote.com' style='display:inline;max-height:16px;margin:0px;margin-right:7.5px;' src='data:image/svg+xml;base64,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' > </img>\nCreated in <span style='font-weight:600;margin-left:4px;'>Deepnote</span></a>",
   "metadata": {
    "tags": [],
    "created_in_deepnote_cell": true,
    "deepnote_cell_type": "markdown"
   }
  }
 ],
 "nbformat": 4,
 "nbformat_minor": 5,
 "metadata": {
  "deepnote": {},
  "deepnote_execution_queue": [],
  "deepnote_notebook_id": "d1755a88-ccd9-4098-ab48-3b506c056e7f",
  "kernelspec": {
   "display_name": "Python 3 (ipykernel)",
   "language": "python",
   "name": "python3"
  },
  "language_info": {
   "codemirror_mode": {
    "name": "ipython",
    "version": 3
   },
   "file_extension": ".py",
   "mimetype": "text/x-python",
   "name": "python",
   "nbconvert_exporter": "python",
   "pygments_lexer": "ipython3",
   "version": "3.9.7"
  }
 }
}