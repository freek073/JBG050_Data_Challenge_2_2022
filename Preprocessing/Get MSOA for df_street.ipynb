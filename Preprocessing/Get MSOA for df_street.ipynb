{
 "cells": [
  {
   "cell_type": "markdown",
   "source": "Download the file for full df_street with MSOA codes here:\nhttps://drive.google.com/file/d/1b7QHy-cERJHhKgaM26fn3SeCHkuyt_31/view?usp=sharing\n",
   "metadata": {
    "cell_id": "60f4cfc4-2c20-415a-aa0e-94711d39cb11",
    "tags": [],
    "deepnote_cell_type": "markdown",
    "deepnote_cell_height": 74.796875
   }
  },
  {
   "cell_type": "code",
   "metadata": {
    "cell_id": "ac5117e5-14d3-4fa2-b071-ae3ac92102d8",
    "deepnote_cell_type": "code",
    "deepnote_cell_height": 246
   },
   "source": "import pandas as pd\nimport os\nimport tqdm as tq\nimport string\nimport statistics as stats\nimport re\nimport numpy as np\nimport json\n# formatting of the plots:\npalette = ['#2d75a3', '#ffae24', '#a9534f', '#3ea42d', '#9272cb', '#ff9c7b', '#13435e', 'brown']\npd.set_option('display.max_columns', None)",
   "outputs": [],
   "execution_count": null
  },
  {
   "cell_type": "code",
   "metadata": {
    "cell_id": "00001-2293d942-2cad-4410-8c87-442a33194b73",
    "deepnote_cell_type": "code",
    "deepnote_cell_height": 66
   },
   "source": "df_street = pd.read_csv('/Users/hannabroszczak/Desktop/uni/DataChallenge2/all_street.csv')",
   "outputs": [],
   "execution_count": null
  },
  {
   "cell_type": "code",
   "metadata": {
    "cell_id": "00002-b921f10c-70b1-4a4b-8ff5-89b4065fe9fb",
    "deepnote_cell_type": "code",
    "deepnote_cell_height": 136.796875
   },
   "source": "df_msoa = pd.read_csv('/Users/hannabroszczak/Desktop/uni/DataChallenge2/additional datasets/postcodes.csv')",
   "outputs": [
    {
     "name": "stderr",
     "output_type": "stream",
     "text": "/Users/hannabroszczak/opt/anaconda3/lib/python3.9/site-packages/IPython/core/interactiveshell.py:3444: DtypeWarning: Columns (7,17,18,21,22,24,25,29,32,39,47) have mixed types.Specify dtype option on import or set low_memory=False.\n  exec(code_obj, self.user_global_ns, self.user_ns)\n"
    }
   ],
   "execution_count": null
  },
  {
   "cell_type": "code",
   "metadata": {
    "cell_id": "00003-0fd71564-66c0-4d0a-bff4-710e68ae0401",
    "deepnote_cell_type": "code",
    "deepnote_cell_height": 66
   },
   "source": "df_msoa = df_msoa.rename(columns = {'LSOA Code':'LSOA code', 'MSOA Code':'MSOA code'})",
   "outputs": [],
   "execution_count": null
  },
  {
   "cell_type": "markdown",
   "source": "## number of LSOAs and MSOAS\nMSOA: 8481\nLSOA: 42619",
   "metadata": {
    "cell_id": "00004-342fd183-a78d-4f38-9325-c60feb0adbc8",
    "deepnote_cell_type": "markdown",
    "deepnote_cell_height": 108.390625
   }
  },
  {
   "cell_type": "code",
   "metadata": {
    "cell_id": "00005-3d31f0c2-c9f4-495e-b941-b7dd528bd4b8",
    "deepnote_cell_type": "code",
    "deepnote_cell_height": 66
   },
   "source": "df_msoa = df_msoa.drop_duplicates(subset=['LSOA code'])",
   "outputs": [],
   "execution_count": null
  },
  {
   "cell_type": "code",
   "metadata": {
    "cell_id": "00006-3cd6529e-b2b1-472d-aa2f-5eb610c61e42",
    "deepnote_cell_type": "code",
    "deepnote_cell_height": 479.1875,
    "deepnote_output_heights": [
     382.1875
    ]
   },
   "source": "df_msoa",
   "outputs": [
    {
     "data": {
      "text/html": "<div>\n<style scoped>\n    .dataframe tbody tr th:only-of-type {\n        vertical-align: middle;\n    }\n\n    .dataframe tbody tr th {\n        vertical-align: top;\n    }\n\n    .dataframe thead th {\n        text-align: right;\n    }\n</style>\n<table border=\"1\" class=\"dataframe\">\n  <thead>\n    <tr style=\"text-align: right;\">\n      <th></th>\n      <th>Postcode</th>\n      <th>In Use?</th>\n      <th>Latitude</th>\n      <th>Longitude</th>\n      <th>Easting</th>\n      <th>Northing</th>\n      <th>Grid Ref</th>\n      <th>County</th>\n      <th>District</th>\n      <th>Ward</th>\n      <th>District Code</th>\n      <th>Ward Code</th>\n      <th>Country</th>\n      <th>County Code</th>\n      <th>Constituency</th>\n      <th>Introduced</th>\n      <th>Terminated</th>\n      <th>Parish</th>\n      <th>National Park</th>\n      <th>Population</th>\n      <th>Households</th>\n      <th>Built up area</th>\n      <th>Built up sub-division</th>\n      <th>Lower layer super output area</th>\n      <th>Rural/urban</th>\n      <th>Region</th>\n      <th>Altitude</th>\n      <th>London zone</th>\n      <th>LSOA code</th>\n      <th>Local authority</th>\n      <th>MSOA code</th>\n      <th>Middle layer super output area</th>\n      <th>Parish Code</th>\n      <th>Census output area</th>\n      <th>Constituency Code</th>\n      <th>Index of Multiple Deprivation</th>\n      <th>Quality</th>\n      <th>User Type</th>\n      <th>Last updated</th>\n      <th>Nearest station</th>\n      <th>Distance to station</th>\n      <th>Postcode area</th>\n      <th>Postcode district</th>\n      <th>Police force</th>\n      <th>Water company</th>\n      <th>Plus Code</th>\n      <th>Average Income</th>\n      <th>Sewage Company</th>\n      <th>Travel To Work Area</th>\n      <th>ITL level 2</th>\n      <th>ITL level 3</th>\n    </tr>\n  </thead>\n  <tbody>\n    <tr>\n      <th>0</th>\n      <td>AB1 0AA</td>\n      <td>No</td>\n      <td>57.101474</td>\n      <td>-2.242851</td>\n      <td>385386.0</td>\n      <td>801193.0</td>\n      <td>NJ853011</td>\n      <td>NaN</td>\n      <td>Aberdeen City</td>\n      <td>Lower Deeside</td>\n      <td>S12000033</td>\n      <td>S13002843</td>\n      <td>Scotland</td>\n      <td>S99999999</td>\n      <td>Aberdeen South</td>\n      <td>1980-01-01</td>\n      <td>1996-06-01</td>\n      <td>NaN</td>\n      <td>NaN</td>\n      <td>NaN</td>\n      <td>NaN</td>\n      <td>NaN</td>\n      <td>NaN</td>\n      <td>Cults, Bieldside and Milltimber West - 02</td>\n      <td>Accessible small town</td>\n      <td>NaN</td>\n      <td>46.0</td>\n      <td>NaN</td>\n      <td>S01006514</td>\n      <td>NaN</td>\n      <td>S02001237</td>\n      <td>Cults, Bieldside and Milltimber West</td>\n      <td>NaN</td>\n      <td>S00090303</td>\n      <td>S14000002</td>\n      <td>6715.0</td>\n      <td>1.0</td>\n      <td>0.0</td>\n      <td>2021-11-12</td>\n      <td>Portlethen</td>\n      <td>8.31408</td>\n      <td>AB</td>\n      <td>AB1</td>\n      <td>Scotland</td>\n      <td>Scottish Water</td>\n      <td>9C9V4Q24+HV</td>\n      <td>NaN</td>\n      <td>NaN</td>\n      <td>Aberdeen</td>\n      <td>North Eastern Scotland</td>\n      <td>Aberdeen City and Aberdeenshire</td>\n    </tr>\n    <tr>\n      <th>3</th>\n      <td>AB1 0AE</td>\n      <td>No</td>\n      <td>57.084444</td>\n      <td>-2.255708</td>\n      <td>384600.0</td>\n      <td>799300.0</td>\n      <td>NO845993</td>\n      <td>NaN</td>\n      <td>Aberdeenshire</td>\n      <td>North Kincardine</td>\n      <td>S12000034</td>\n      <td>S13002864</td>\n      <td>Scotland</td>\n      <td>S99999999</td>\n      <td>West Aberdeenshire and Kincardine</td>\n      <td>1994-02-01</td>\n      <td>1996-06-01</td>\n      <td>NaN</td>\n      <td>NaN</td>\n      <td>NaN</td>\n      <td>NaN</td>\n      <td>NaN</td>\n      <td>NaN</td>\n      <td>Dunecht, Durris and Drumoak - 01</td>\n      <td>Accessible rural area</td>\n      <td>NaN</td>\n      <td>51.0</td>\n      <td>NaN</td>\n      <td>S01006853</td>\n      <td>NaN</td>\n      <td>S02001296</td>\n      <td>Dunecht, Durris and Drumoak</td>\n      <td>NaN</td>\n      <td>S00091322</td>\n      <td>S14000058</td>\n      <td>5069.0</td>\n      <td>8.0</td>\n      <td>0.0</td>\n      <td>2021-11-12</td>\n      <td>Portlethen</td>\n      <td>8.20809</td>\n      <td>AB</td>\n      <td>AB1</td>\n      <td>Scotland</td>\n      <td>Scottish Water</td>\n      <td>9C9V3PMV+QP</td>\n      <td>NaN</td>\n      <td>NaN</td>\n      <td>Aberdeen</td>\n      <td>North Eastern Scotland</td>\n      <td>Aberdeen City and Aberdeenshire</td>\n    </tr>\n    <tr>\n      <th>4</th>\n      <td>AB1 0AF</td>\n      <td>No</td>\n      <td>57.096656</td>\n      <td>-2.258102</td>\n      <td>384460.0</td>\n      <td>800660.0</td>\n      <td>NJ844006</td>\n      <td>NaN</td>\n      <td>Aberdeen City</td>\n      <td>Lower Deeside</td>\n      <td>S12000033</td>\n      <td>S13002843</td>\n      <td>Scotland</td>\n      <td>S99999999</td>\n      <td>Aberdeen South</td>\n      <td>1990-12-01</td>\n      <td>1992-07-01</td>\n      <td>NaN</td>\n      <td>NaN</td>\n      <td>NaN</td>\n      <td>NaN</td>\n      <td>NaN</td>\n      <td>NaN</td>\n      <td>Culter - 06</td>\n      <td>Accessible small town</td>\n      <td>NaN</td>\n      <td>46.0</td>\n      <td>NaN</td>\n      <td>S01006511</td>\n      <td>NaN</td>\n      <td>S02001236</td>\n      <td>Culter</td>\n      <td>NaN</td>\n      <td>S00090299</td>\n      <td>S14000002</td>\n      <td>6253.0</td>\n      <td>8.0</td>\n      <td>1.0</td>\n      <td>2021-11-12</td>\n      <td>Portlethen</td>\n      <td>8.85583</td>\n      <td>AB</td>\n      <td>AB1</td>\n      <td>Scotland</td>\n      <td>Scottish Water</td>\n      <td>9C9V3PWR+MQ</td>\n      <td>NaN</td>\n      <td>NaN</td>\n      <td>Aberdeen</td>\n      <td>North Eastern Scotland</td>\n      <td>Aberdeen City and Aberdeenshire</td>\n    </tr>\n    <tr>\n      <th>5</th>\n      <td>AB1 0AG</td>\n      <td>No</td>\n      <td>57.097085</td>\n      <td>-2.267513</td>\n      <td>383890.0</td>\n      <td>800710.0</td>\n      <td>NJ838007</td>\n      <td>NaN</td>\n      <td>Aberdeen City</td>\n      <td>Lower Deeside</td>\n      <td>S12000033</td>\n      <td>S13002843</td>\n      <td>Scotland</td>\n      <td>S99999999</td>\n      <td>Aberdeen South</td>\n      <td>1990-12-01</td>\n      <td>1992-07-01</td>\n      <td>NaN</td>\n      <td>NaN</td>\n      <td>NaN</td>\n      <td>NaN</td>\n      <td>NaN</td>\n      <td>NaN</td>\n      <td>Culter - 01</td>\n      <td>Accessible small town</td>\n      <td>NaN</td>\n      <td>58.0</td>\n      <td>NaN</td>\n      <td>S01006506</td>\n      <td>NaN</td>\n      <td>S02001236</td>\n      <td>Culter</td>\n      <td>NaN</td>\n      <td>S00090291</td>\n      <td>S14000002</td>\n      <td>4691.0</td>\n      <td>8.0</td>\n      <td>1.0</td>\n      <td>2021-11-12</td>\n      <td>Portlethen</td>\n      <td>9.38884</td>\n      <td>AB</td>\n      <td>AB1</td>\n      <td>Scotland</td>\n      <td>Scottish Water</td>\n      <td>9C9V3PWJ+RX</td>\n      <td>NaN</td>\n      <td>NaN</td>\n      <td>Aberdeen</td>\n      <td>North Eastern Scotland</td>\n      <td>Aberdeen City and Aberdeenshire</td>\n    </tr>\n    <tr>\n      <th>38</th>\n      <td>AB1 0DR</td>\n      <td>No</td>\n      <td>57.104578</td>\n      <td>-2.235641</td>\n      <td>385824.0</td>\n      <td>801537.0</td>\n      <td>NJ858015</td>\n      <td>NaN</td>\n      <td>Aberdeen City</td>\n      <td>Lower Deeside</td>\n      <td>S12000033</td>\n      <td>S13002843</td>\n      <td>Scotland</td>\n      <td>S99999999</td>\n      <td>Aberdeen South</td>\n      <td>1980-01-01</td>\n      <td>1996-06-01</td>\n      <td>NaN</td>\n      <td>NaN</td>\n      <td>NaN</td>\n      <td>NaN</td>\n      <td>NaN</td>\n      <td>NaN</td>\n      <td>Cults, Bieldside and Milltimber West - 01</td>\n      <td>Accessible small town</td>\n      <td>NaN</td>\n      <td>59.0</td>\n      <td>NaN</td>\n      <td>S01006513</td>\n      <td>NaN</td>\n      <td>S02001237</td>\n      <td>Cults, Bieldside and Milltimber West</td>\n      <td>NaN</td>\n      <td>S00090311</td>\n      <td>S14000002</td>\n      <td>6177.0</td>\n      <td>1.0</td>\n      <td>0.0</td>\n      <td>2021-11-12</td>\n      <td>Portlethen</td>\n      <td>8.14800</td>\n      <td>AB</td>\n      <td>AB1</td>\n      <td>Scotland</td>\n      <td>Scottish Water</td>\n      <td>9C9V4Q37+RP</td>\n      <td>NaN</td>\n      <td>NaN</td>\n      <td>Aberdeen</td>\n      <td>North Eastern Scotland</td>\n      <td>Aberdeen City and Aberdeenshire</td>\n    </tr>\n    <tr>\n      <th>...</th>\n      <td>...</td>\n      <td>...</td>\n      <td>...</td>\n      <td>...</td>\n      <td>...</td>\n      <td>...</td>\n      <td>...</td>\n      <td>...</td>\n      <td>...</td>\n      <td>...</td>\n      <td>...</td>\n      <td>...</td>\n      <td>...</td>\n      <td>...</td>\n      <td>...</td>\n      <td>...</td>\n      <td>...</td>\n      <td>...</td>\n      <td>...</td>\n      <td>...</td>\n      <td>...</td>\n      <td>...</td>\n      <td>...</td>\n      <td>...</td>\n      <td>...</td>\n      <td>...</td>\n      <td>...</td>\n      <td>...</td>\n      <td>...</td>\n      <td>...</td>\n      <td>...</td>\n      <td>...</td>\n      <td>...</td>\n      <td>...</td>\n      <td>...</td>\n      <td>...</td>\n      <td>...</td>\n      <td>...</td>\n      <td>...</td>\n      <td>...</td>\n      <td>...</td>\n      <td>...</td>\n      <td>...</td>\n      <td>...</td>\n      <td>...</td>\n      <td>...</td>\n      <td>...</td>\n      <td>...</td>\n      <td>...</td>\n      <td>...</td>\n      <td>...</td>\n    </tr>\n    <tr>\n      <th>2655803</th>\n      <td>ZE2 9LX</td>\n      <td>Yes</td>\n      <td>60.274595</td>\n      <td>-1.418250</td>\n      <td>432280.0</td>\n      <td>1154630.0</td>\n      <td>HU322546</td>\n      <td>NaN</td>\n      <td>Shetland Islands</td>\n      <td>Shetland West</td>\n      <td>S12000027</td>\n      <td>S13002774</td>\n      <td>Scotland</td>\n      <td>S99999999</td>\n      <td>Orkney and Shetland</td>\n      <td>1980-01-01</td>\n      <td>NaN</td>\n      <td>NaN</td>\n      <td>NaN</td>\n      <td>115.0</td>\n      <td>47.0</td>\n      <td>NaN</td>\n      <td>NaN</td>\n      <td>East and West Mainland - 03</td>\n      <td>Very remote rural area</td>\n      <td>NaN</td>\n      <td>26.0</td>\n      <td>NaN</td>\n      <td>S01012408</td>\n      <td>NaN</td>\n      <td>S02002326</td>\n      <td>East and West Mainland</td>\n      <td>NaN</td>\n      <td>S00128987</td>\n      <td>S14000051</td>\n      <td>4611.0</td>\n      <td>1.0</td>\n      <td>0.0</td>\n      <td>2021-11-12</td>\n      <td>Thurso</td>\n      <td>221.87900</td>\n      <td>ZE</td>\n      <td>ZE2</td>\n      <td>Scotland</td>\n      <td>Scottish Water</td>\n      <td>9CGW7HFJ+RP</td>\n      <td>NaN</td>\n      <td>NaN</td>\n      <td>Shetland Islands</td>\n      <td>Highlands and Islands</td>\n      <td>Shetland Islands</td>\n    </tr>\n    <tr>\n      <th>2655816</th>\n      <td>ZE2 9NP</td>\n      <td>Yes</td>\n      <td>60.244455</td>\n      <td>-1.520261</td>\n      <td>426662.0</td>\n      <td>1151228.0</td>\n      <td>HU266512</td>\n      <td>NaN</td>\n      <td>Shetland Islands</td>\n      <td>Shetland West</td>\n      <td>S12000027</td>\n      <td>S13002774</td>\n      <td>Scotland</td>\n      <td>S99999999</td>\n      <td>Orkney and Shetland</td>\n      <td>1980-01-01</td>\n      <td>NaN</td>\n      <td>NaN</td>\n      <td>NaN</td>\n      <td>31.0</td>\n      <td>13.0</td>\n      <td>NaN</td>\n      <td>NaN</td>\n      <td>East and West Mainland - 04</td>\n      <td>Very remote rural area</td>\n      <td>NaN</td>\n      <td>27.0</td>\n      <td>NaN</td>\n      <td>S01012409</td>\n      <td>NaN</td>\n      <td>S02002326</td>\n      <td>East and West Mainland</td>\n      <td>NaN</td>\n      <td>S00128980</td>\n      <td>S14000051</td>\n      <td>3814.0</td>\n      <td>1.0</td>\n      <td>0.0</td>\n      <td>2021-11-12</td>\n      <td>Thurso</td>\n      <td>216.00900</td>\n      <td>ZE</td>\n      <td>ZE2</td>\n      <td>Scotland</td>\n      <td>Scottish Water</td>\n      <td>9CGW6FVH+QV</td>\n      <td>NaN</td>\n      <td>NaN</td>\n      <td>Shetland Islands</td>\n      <td>Highlands and Islands</td>\n      <td>Shetland Islands</td>\n    </tr>\n    <tr>\n      <th>2655836</th>\n      <td>ZE2 9PP</td>\n      <td>Yes</td>\n      <td>60.272247</td>\n      <td>-1.170839</td>\n      <td>445969.0</td>\n      <td>1154515.0</td>\n      <td>HU459545</td>\n      <td>NaN</td>\n      <td>Shetland Islands</td>\n      <td>Shetland North</td>\n      <td>S12000027</td>\n      <td>S13002773</td>\n      <td>Scotland</td>\n      <td>S99999999</td>\n      <td>Orkney and Shetland</td>\n      <td>1980-01-01</td>\n      <td>NaN</td>\n      <td>NaN</td>\n      <td>NaN</td>\n      <td>146.0</td>\n      <td>59.0</td>\n      <td>NaN</td>\n      <td>NaN</td>\n      <td>East and West Mainland - 01</td>\n      <td>Very remote rural area</td>\n      <td>NaN</td>\n      <td>34.0</td>\n      <td>NaN</td>\n      <td>S01012406</td>\n      <td>NaN</td>\n      <td>S02002326</td>\n      <td>East and West Mainland</td>\n      <td>NaN</td>\n      <td>S00129122</td>\n      <td>S14000051</td>\n      <td>4406.0</td>\n      <td>1.0</td>\n      <td>0.0</td>\n      <td>2021-11-12</td>\n      <td>Thurso</td>\n      <td>229.47700</td>\n      <td>ZE</td>\n      <td>ZE2</td>\n      <td>Scotland</td>\n      <td>Scottish Water</td>\n      <td>9CGW7RCH+VM</td>\n      <td>NaN</td>\n      <td>NaN</td>\n      <td>Shetland Islands</td>\n      <td>Highlands and Islands</td>\n      <td>Shetland Islands</td>\n    </tr>\n    <tr>\n      <th>2655840</th>\n      <td>ZE2 9PT</td>\n      <td>Yes</td>\n      <td>60.366320</td>\n      <td>-1.261703</td>\n      <td>440825.0</td>\n      <td>1164932.0</td>\n      <td>HU408649</td>\n      <td>NaN</td>\n      <td>Shetland Islands</td>\n      <td>Shetland North</td>\n      <td>S12000027</td>\n      <td>S13002773</td>\n      <td>Scotland</td>\n      <td>S99999999</td>\n      <td>Orkney and Shetland</td>\n      <td>1980-01-01</td>\n      <td>NaN</td>\n      <td>NaN</td>\n      <td>NaN</td>\n      <td>170.0</td>\n      <td>70.0</td>\n      <td>NaN</td>\n      <td>NaN</td>\n      <td>North Mainland - 02</td>\n      <td>Very remote rural area</td>\n      <td>NaN</td>\n      <td>40.0</td>\n      <td>NaN</td>\n      <td>S01012411</td>\n      <td>NaN</td>\n      <td>S02002327</td>\n      <td>North Mainland</td>\n      <td>NaN</td>\n      <td>S00128998</td>\n      <td>S14000051</td>\n      <td>3440.0</td>\n      <td>1.0</td>\n      <td>0.0</td>\n      <td>2021-11-12</td>\n      <td>Thurso</td>\n      <td>235.13700</td>\n      <td>ZE</td>\n      <td>ZE2</td>\n      <td>Scotland</td>\n      <td>Scottish Water</td>\n      <td>9CGW9P8Q+G8</td>\n      <td>NaN</td>\n      <td>NaN</td>\n      <td>Shetland Islands</td>\n      <td>Highlands and Islands</td>\n      <td>Shetland Islands</td>\n    </tr>\n    <tr>\n      <th>2655871</th>\n      <td>ZE2 9RG</td>\n      <td>Yes</td>\n      <td>60.474093</td>\n      <td>-1.435281</td>\n      <td>431148.0</td>\n      <td>1176841.0</td>\n      <td>HU311768</td>\n      <td>NaN</td>\n      <td>Shetland Islands</td>\n      <td>Shetland North</td>\n      <td>S12000027</td>\n      <td>S13002773</td>\n      <td>Scotland</td>\n      <td>S99999999</td>\n      <td>Orkney and Shetland</td>\n      <td>1980-01-01</td>\n      <td>NaN</td>\n      <td>NaN</td>\n      <td>NaN</td>\n      <td>12.0</td>\n      <td>7.0</td>\n      <td>NaN</td>\n      <td>NaN</td>\n      <td>North Mainland - 03</td>\n      <td>Very remote rural area</td>\n      <td>NaN</td>\n      <td>20.0</td>\n      <td>NaN</td>\n      <td>S01012412</td>\n      <td>NaN</td>\n      <td>S02002327</td>\n      <td>North Mainland</td>\n      <td>NaN</td>\n      <td>S00128992</td>\n      <td>S14000051</td>\n      <td>3857.0</td>\n      <td>1.0</td>\n      <td>0.0</td>\n      <td>2021-11-12</td>\n      <td>Thurso</td>\n      <td>240.22400</td>\n      <td>ZE</td>\n      <td>ZE2</td>\n      <td>Scotland</td>\n      <td>Scottish Water</td>\n      <td>9CGWFHF7+JV</td>\n      <td>NaN</td>\n      <td>NaN</td>\n      <td>Shetland Islands</td>\n      <td>Highlands and Islands</td>\n      <td>Shetland Islands</td>\n    </tr>\n  </tbody>\n</table>\n<p>42620 rows × 51 columns</p>\n</div>",
      "text/plain": "        Postcode In Use?   Latitude  Longitude   Easting   Northing  Grid Ref  \\\n0        AB1 0AA      No  57.101474  -2.242851  385386.0   801193.0  NJ853011   \n3        AB1 0AE      No  57.084444  -2.255708  384600.0   799300.0  NO845993   \n4        AB1 0AF      No  57.096656  -2.258102  384460.0   800660.0  NJ844006   \n5        AB1 0AG      No  57.097085  -2.267513  383890.0   800710.0  NJ838007   \n38       AB1 0DR      No  57.104578  -2.235641  385824.0   801537.0  NJ858015   \n...          ...     ...        ...        ...       ...        ...       ...   \n2655803  ZE2 9LX     Yes  60.274595  -1.418250  432280.0  1154630.0  HU322546   \n2655816  ZE2 9NP     Yes  60.244455  -1.520261  426662.0  1151228.0  HU266512   \n2655836  ZE2 9PP     Yes  60.272247  -1.170839  445969.0  1154515.0  HU459545   \n2655840  ZE2 9PT     Yes  60.366320  -1.261703  440825.0  1164932.0  HU408649   \n2655871  ZE2 9RG     Yes  60.474093  -1.435281  431148.0  1176841.0  HU311768   \n\n        County          District              Ward District Code  Ward Code  \\\n0          NaN     Aberdeen City     Lower Deeside     S12000033  S13002843   \n3          NaN     Aberdeenshire  North Kincardine     S12000034  S13002864   \n4          NaN     Aberdeen City     Lower Deeside     S12000033  S13002843   \n5          NaN     Aberdeen City     Lower Deeside     S12000033  S13002843   \n38         NaN     Aberdeen City     Lower Deeside     S12000033  S13002843   \n...        ...               ...               ...           ...        ...   \n2655803    NaN  Shetland Islands     Shetland West     S12000027  S13002774   \n2655816    NaN  Shetland Islands     Shetland West     S12000027  S13002774   \n2655836    NaN  Shetland Islands    Shetland North     S12000027  S13002773   \n2655840    NaN  Shetland Islands    Shetland North     S12000027  S13002773   \n2655871    NaN  Shetland Islands    Shetland North     S12000027  S13002773   \n\n          Country County Code                       Constituency  Introduced  \\\n0        Scotland   S99999999                     Aberdeen South  1980-01-01   \n3        Scotland   S99999999  West Aberdeenshire and Kincardine  1994-02-01   \n4        Scotland   S99999999                     Aberdeen South  1990-12-01   \n5        Scotland   S99999999                     Aberdeen South  1990-12-01   \n38       Scotland   S99999999                     Aberdeen South  1980-01-01   \n...           ...         ...                                ...         ...   \n2655803  Scotland   S99999999                Orkney and Shetland  1980-01-01   \n2655816  Scotland   S99999999                Orkney and Shetland  1980-01-01   \n2655836  Scotland   S99999999                Orkney and Shetland  1980-01-01   \n2655840  Scotland   S99999999                Orkney and Shetland  1980-01-01   \n2655871  Scotland   S99999999                Orkney and Shetland  1980-01-01   \n\n         Terminated Parish National Park  Population  Households  \\\n0        1996-06-01    NaN           NaN         NaN         NaN   \n3        1996-06-01    NaN           NaN         NaN         NaN   \n4        1992-07-01    NaN           NaN         NaN         NaN   \n5        1992-07-01    NaN           NaN         NaN         NaN   \n38       1996-06-01    NaN           NaN         NaN         NaN   \n...             ...    ...           ...         ...         ...   \n2655803         NaN    NaN           NaN       115.0        47.0   \n2655816         NaN    NaN           NaN        31.0        13.0   \n2655836         NaN    NaN           NaN       146.0        59.0   \n2655840         NaN    NaN           NaN       170.0        70.0   \n2655871         NaN    NaN           NaN        12.0         7.0   \n\n        Built up area Built up sub-division  \\\n0                 NaN                   NaN   \n3                 NaN                   NaN   \n4                 NaN                   NaN   \n5                 NaN                   NaN   \n38                NaN                   NaN   \n...               ...                   ...   \n2655803           NaN                   NaN   \n2655816           NaN                   NaN   \n2655836           NaN                   NaN   \n2655840           NaN                   NaN   \n2655871           NaN                   NaN   \n\n                     Lower layer super output area             Rural/urban  \\\n0        Cults, Bieldside and Milltimber West - 02   Accessible small town   \n3                 Dunecht, Durris and Drumoak - 01   Accessible rural area   \n4                                      Culter - 06   Accessible small town   \n5                                      Culter - 01   Accessible small town   \n38       Cults, Bieldside and Milltimber West - 01   Accessible small town   \n...                                            ...                     ...   \n2655803                East and West Mainland - 03  Very remote rural area   \n2655816                East and West Mainland - 04  Very remote rural area   \n2655836                East and West Mainland - 01  Very remote rural area   \n2655840                        North Mainland - 02  Very remote rural area   \n2655871                        North Mainland - 03  Very remote rural area   \n\n        Region  Altitude  London zone  LSOA code Local authority  MSOA code  \\\n0          NaN      46.0          NaN  S01006514             NaN  S02001237   \n3          NaN      51.0          NaN  S01006853             NaN  S02001296   \n4          NaN      46.0          NaN  S01006511             NaN  S02001236   \n5          NaN      58.0          NaN  S01006506             NaN  S02001236   \n38         NaN      59.0          NaN  S01006513             NaN  S02001237   \n...        ...       ...          ...        ...             ...        ...   \n2655803    NaN      26.0          NaN  S01012408             NaN  S02002326   \n2655816    NaN      27.0          NaN  S01012409             NaN  S02002326   \n2655836    NaN      34.0          NaN  S01012406             NaN  S02002326   \n2655840    NaN      40.0          NaN  S01012411             NaN  S02002327   \n2655871    NaN      20.0          NaN  S01012412             NaN  S02002327   \n\n               Middle layer super output area Parish Code Census output area  \\\n0        Cults, Bieldside and Milltimber West         NaN          S00090303   \n3                 Dunecht, Durris and Drumoak         NaN          S00091322   \n4                                      Culter         NaN          S00090299   \n5                                      Culter         NaN          S00090291   \n38       Cults, Bieldside and Milltimber West         NaN          S00090311   \n...                                       ...         ...                ...   \n2655803                East and West Mainland         NaN          S00128987   \n2655816                East and West Mainland         NaN          S00128980   \n2655836                East and West Mainland         NaN          S00129122   \n2655840                        North Mainland         NaN          S00128998   \n2655871                        North Mainland         NaN          S00128992   \n\n        Constituency Code  Index of Multiple Deprivation  Quality  User Type  \\\n0               S14000002                         6715.0      1.0        0.0   \n3               S14000058                         5069.0      8.0        0.0   \n4               S14000002                         6253.0      8.0        1.0   \n5               S14000002                         4691.0      8.0        1.0   \n38              S14000002                         6177.0      1.0        0.0   \n...                   ...                            ...      ...        ...   \n2655803         S14000051                         4611.0      1.0        0.0   \n2655816         S14000051                         3814.0      1.0        0.0   \n2655836         S14000051                         4406.0      1.0        0.0   \n2655840         S14000051                         3440.0      1.0        0.0   \n2655871         S14000051                         3857.0      1.0        0.0   \n\n        Last updated Nearest station  Distance to station Postcode area  \\\n0         2021-11-12      Portlethen              8.31408            AB   \n3         2021-11-12      Portlethen              8.20809            AB   \n4         2021-11-12      Portlethen              8.85583            AB   \n5         2021-11-12      Portlethen              9.38884            AB   \n38        2021-11-12      Portlethen              8.14800            AB   \n...              ...             ...                  ...           ...   \n2655803   2021-11-12          Thurso            221.87900            ZE   \n2655816   2021-11-12          Thurso            216.00900            ZE   \n2655836   2021-11-12          Thurso            229.47700            ZE   \n2655840   2021-11-12          Thurso            235.13700            ZE   \n2655871   2021-11-12          Thurso            240.22400            ZE   \n\n        Postcode district Police force   Water company    Plus Code  \\\n0                     AB1     Scotland  Scottish Water  9C9V4Q24+HV   \n3                     AB1     Scotland  Scottish Water  9C9V3PMV+QP   \n4                     AB1     Scotland  Scottish Water  9C9V3PWR+MQ   \n5                     AB1     Scotland  Scottish Water  9C9V3PWJ+RX   \n38                    AB1     Scotland  Scottish Water  9C9V4Q37+RP   \n...                   ...          ...             ...          ...   \n2655803               ZE2     Scotland  Scottish Water  9CGW7HFJ+RP   \n2655816               ZE2     Scotland  Scottish Water  9CGW6FVH+QV   \n2655836               ZE2     Scotland  Scottish Water  9CGW7RCH+VM   \n2655840               ZE2     Scotland  Scottish Water  9CGW9P8Q+G8   \n2655871               ZE2     Scotland  Scottish Water  9CGWFHF7+JV   \n\n         Average Income Sewage Company Travel To Work Area  \\\n0                   NaN            NaN            Aberdeen   \n3                   NaN            NaN            Aberdeen   \n4                   NaN            NaN            Aberdeen   \n5                   NaN            NaN            Aberdeen   \n38                  NaN            NaN            Aberdeen   \n...                 ...            ...                 ...   \n2655803             NaN            NaN    Shetland Islands   \n2655816             NaN            NaN    Shetland Islands   \n2655836             NaN            NaN    Shetland Islands   \n2655840             NaN            NaN    Shetland Islands   \n2655871             NaN            NaN    Shetland Islands   \n\n                    ITL level 2                      ITL level 3  \n0        North Eastern Scotland  Aberdeen City and Aberdeenshire  \n3        North Eastern Scotland  Aberdeen City and Aberdeenshire  \n4        North Eastern Scotland  Aberdeen City and Aberdeenshire  \n5        North Eastern Scotland  Aberdeen City and Aberdeenshire  \n38       North Eastern Scotland  Aberdeen City and Aberdeenshire  \n...                         ...                              ...  \n2655803   Highlands and Islands                 Shetland Islands  \n2655816   Highlands and Islands                 Shetland Islands  \n2655836   Highlands and Islands                 Shetland Islands  \n2655840   Highlands and Islands                 Shetland Islands  \n2655871   Highlands and Islands                 Shetland Islands  \n\n[42620 rows x 51 columns]"
     },
     "execution_count": 9,
     "metadata": {},
     "output_type": "execute_result"
    }
   ],
   "execution_count": null
  },
  {
   "cell_type": "code",
   "metadata": {
    "cell_id": "00007-df306da0-5225-4ac6-b676-31e7cf746a32",
    "deepnote_cell_type": "code",
    "deepnote_cell_height": 66
   },
   "source": "df_street_with_msoa = pd.merge(df_msoa[['LSOA code', 'MSOA code']], df_street, how='right', on='LSOA code')",
   "outputs": [],
   "execution_count": null
  },
  {
   "cell_type": "code",
   "metadata": {
    "cell_id": "00008-ea5c11dd-3220-42d6-b203-0744a6e5d359",
    "deepnote_cell_type": "code",
    "deepnote_cell_height": 66
   },
   "source": "df_street_with_msoa = df_street_with_msoa.drop(columns=['Unnamed: 0'])",
   "outputs": [],
   "execution_count": null
  },
  {
   "cell_type": "code",
   "metadata": {
    "cell_id": "00009-281ece2e-5345-43bb-92db-94344c1be812",
    "deepnote_cell_type": "code",
    "deepnote_cell_height": 84
   },
   "source": "df_street_with_msoa1 = df_street_with_msoa[['Crime ID', 'Month', 'Falls within', 'LSOA name', 'Crime type',\n                                          'Last outcome category', 'LSOA code', 'MSOA code']]",
   "outputs": [],
   "execution_count": null
  },
  {
   "cell_type": "code",
   "metadata": {
    "cell_id": "00010-7c3c7237-105c-4be1-a956-44dd56938c11",
    "deepnote_cell_type": "code",
    "deepnote_cell_height": 66
   },
   "source": "df_street_with_msoa1.to_csv('street_with_msoa.csv')",
   "outputs": [],
   "execution_count": null
  },
  {
   "cell_type": "markdown",
   "source": "<a style='text-decoration:none;line-height:16px;display:flex;color:#5B5B62;padding:10px;justify-content:end;' href='https://deepnote.com?utm_source=created-in-deepnote-cell&projectId=40789b9a-1c62-45b9-9d9c-b1a39ebe3dfd' target=\"_blank\">\n<img alt='Created in deepnote.com' style='display:inline;max-height:16px;margin:0px;margin-right:7.5px;' src='data:image/svg+xml;base64,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' > </img>\nCreated in <span style='font-weight:600;margin-left:4px;'>Deepnote</span></a>",
   "metadata": {
    "tags": [],
    "created_in_deepnote_cell": true,
    "deepnote_cell_type": "markdown"
   }
  }
 ],
 "nbformat": 4,
 "nbformat_minor": 5,
 "metadata": {
  "kernelspec": {
   "display_name": "Python 3 (ipykernel)",
   "language": "python",
   "name": "python3"
  },
  "language_info": {
   "codemirror_mode": {
    "name": "ipython",
    "version": 3
   },
   "file_extension": ".py",
   "mimetype": "text/x-python",
   "name": "python",
   "nbconvert_exporter": "python",
   "pygments_lexer": "ipython3",
   "version": "3.9.7"
  },
  "deepnote_notebook_id": "0ff05f8b-3ab3-4f8a-addd-be80643325f2",
  "deepnote": {},
  "deepnote_execution_queue": []
 }
}
