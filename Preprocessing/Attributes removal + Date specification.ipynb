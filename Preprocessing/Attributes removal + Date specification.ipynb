{
 "cells": [
  {
   "cell_type": "code",
   "metadata": {
    "cell_id": "34c479a3-fdcd-431d-bd40-e2085e383ff5",
    "deepnote_cell_type": "code"
   },
   "source": "import pandas as pd\nimport os\nimport tqdm as tq\nimport string\nimport statistics as stats\nimport re\npd.set_option('display.max_columns', None)",
   "execution_count": null,
   "outputs": []
  },
  {
   "cell_type": "code",
   "metadata": {
    "scrolled": true,
    "cell_id": "00001-a27f3c88-8f2a-4ef5-a6e5-a26bd48864ab",
    "deepnote_cell_type": "code"
   },
   "source": "# To make df_streets and clean the data.\n\n# Change directory\ndirectory = \"/Users/rohanbabani/Documents/TU:e/Data Challenge 2/Jan_2010_Oct_2021\"\ndf_street = pd.DataFrame()\ndf_outcome = pd.DataFrame()\ndf_sas = pd.DataFrame()\n\nfolders = [folder for folder in tq.tqdm(os.listdir(directory)) if not str(folder).strip(\"'b\").startswith('.')]\n\nfor folder in folders:\n    files_street = []\n\n    # Here you can change the date range\n    if int(folder[:4]) > 2014 and int(folder[:4]) < 2016:\n        # generate the path to folder\n        folder_direc = os.fsencode(directory + '/'+ str(folder))\n        \n        # add each file name to the appropriate list\n        for file in os.listdir(folder_direc):\n            file = str(file).strip(\"'b\")\n            if (bool(re.search('street', file))):\n                files_street.append(file)\n                \n        # Clean dataframe\n        for file in tq.tqdm(files_street):\n            # Create dataframe from the current file\n            current_data_street = pd.read_csv(directory + '/' + str(folder).strip(\"'b\") + '/' + str(file)) \n            # Drop the attributes considered irrelevant\n            current_data_street.drop(['Reported by', 'Longitude', 'Latitude', \\\n                                                            'Location', 'Context'], axis=1, inplace=True)\n            current_data_street.dropna(subset=['LSOA code'], inplace=True)\n            current_data_street.dropna(subset=['Crime type'], inplace=True)\n            df_street = df_street.append(current_data_street)\n",
   "execution_count": null,
   "outputs": [
    {
     "name": "stderr",
     "output_type": "stream",
     "text": "100%|██████████| 132/132 [00:00<00:00, 809427.09it/s]\n100%|██████████| 45/45 [00:02<00:00, 19.47it/s]\n100%|██████████| 45/45 [00:04<00:00, 10.71it/s]\n100%|██████████| 45/45 [00:05<00:00,  7.64it/s]\n100%|██████████| 45/45 [00:07<00:00,  6.10it/s]\n100%|██████████| 45/45 [00:08<00:00,  5.01it/s]\n100%|██████████| 45/45 [00:10<00:00,  4.29it/s]\n100%|██████████| 45/45 [00:11<00:00,  3.79it/s]\n100%|██████████| 45/45 [00:13<00:00,  3.36it/s]\n100%|██████████| 45/45 [00:14<00:00,  3.01it/s]\n100%|██████████| 45/45 [00:17<00:00,  2.64it/s]\n100%|██████████| 45/45 [00:18<00:00,  2.40it/s]\n100%|██████████| 45/45 [00:20<00:00,  2.24it/s]\n"
    }
   ]
  },
  {
   "cell_type": "code",
   "metadata": {
    "scrolled": true,
    "cell_id": "00002-455ab1e8-57b2-4ab9-bc05-0ee46c57b214",
    "deepnote_cell_type": "code",
    "deepnote_output_heights": [
     396
    ]
   },
   "source": "df_street",
   "execution_count": null,
   "outputs": [
    {
     "data": {
      "text/html": "<div>\n<style scoped>\n    .dataframe tbody tr th:only-of-type {\n        vertical-align: middle;\n    }\n\n    .dataframe tbody tr th {\n        vertical-align: top;\n    }\n\n    .dataframe thead th {\n        text-align: right;\n    }\n</style>\n<table border=\"1\" class=\"dataframe\">\n  <thead>\n    <tr style=\"text-align: right;\">\n      <th></th>\n      <th>Crime ID</th>\n      <th>Month</th>\n      <th>Falls within</th>\n      <th>LSOA code</th>\n      <th>LSOA name</th>\n      <th>Crime type</th>\n      <th>Last outcome category</th>\n    </tr>\n  </thead>\n  <tbody>\n    <tr>\n      <th>0</th>\n      <td>NaN</td>\n      <td>2015-09</td>\n      <td>Derbyshire Constabulary</td>\n      <td>E01019400</td>\n      <td>Amber Valley 001A</td>\n      <td>Anti-social behaviour</td>\n      <td>NaN</td>\n    </tr>\n    <tr>\n      <th>1</th>\n      <td>NaN</td>\n      <td>2015-09</td>\n      <td>Derbyshire Constabulary</td>\n      <td>E01019400</td>\n      <td>Amber Valley 001A</td>\n      <td>Anti-social behaviour</td>\n      <td>NaN</td>\n    </tr>\n    <tr>\n      <th>2</th>\n      <td>NaN</td>\n      <td>2015-09</td>\n      <td>Derbyshire Constabulary</td>\n      <td>E01019400</td>\n      <td>Amber Valley 001A</td>\n      <td>Anti-social behaviour</td>\n      <td>NaN</td>\n    </tr>\n    <tr>\n      <th>3</th>\n      <td>NaN</td>\n      <td>2015-09</td>\n      <td>Derbyshire Constabulary</td>\n      <td>E01019400</td>\n      <td>Amber Valley 001A</td>\n      <td>Anti-social behaviour</td>\n      <td>NaN</td>\n    </tr>\n    <tr>\n      <th>4</th>\n      <td>NaN</td>\n      <td>2015-09</td>\n      <td>Derbyshire Constabulary</td>\n      <td>E01019400</td>\n      <td>Amber Valley 001A</td>\n      <td>Anti-social behaviour</td>\n      <td>NaN</td>\n    </tr>\n    <tr>\n      <th>...</th>\n      <td>...</td>\n      <td>...</td>\n      <td>...</td>\n      <td>...</td>\n      <td>...</td>\n      <td>...</td>\n      <td>...</td>\n    </tr>\n    <tr>\n      <th>6566</th>\n      <td>6d7f1f2e752b1c96263c4678a807f7a2d7390871e5ca0b...</td>\n      <td>2015-10</td>\n      <td>Northamptonshire Police</td>\n      <td>E01027355</td>\n      <td>Wellingborough 010F</td>\n      <td>Burglary</td>\n      <td>Investigation complete; no suspect identified</td>\n    </tr>\n    <tr>\n      <th>6567</th>\n      <td>32d0a0977baa69f4f85897631d098dac0557da8ab8955f...</td>\n      <td>2015-10</td>\n      <td>Northamptonshire Police</td>\n      <td>E01027355</td>\n      <td>Wellingborough 010F</td>\n      <td>Burglary</td>\n      <td>Investigation complete; no suspect identified</td>\n    </tr>\n    <tr>\n      <th>6568</th>\n      <td>ecab593274bb18834ff3eb64f030e4822785b5e76128d0...</td>\n      <td>2015-10</td>\n      <td>Northamptonshire Police</td>\n      <td>E01027355</td>\n      <td>Wellingborough 010F</td>\n      <td>Other theft</td>\n      <td>Investigation complete; no suspect identified</td>\n    </tr>\n    <tr>\n      <th>6569</th>\n      <td>dc8f0facb4ad7b20ea9e38e5b45cb440a13b05bef177e2...</td>\n      <td>2015-10</td>\n      <td>Northamptonshire Police</td>\n      <td>E01027355</td>\n      <td>Wellingborough 010F</td>\n      <td>Other theft</td>\n      <td>Investigation complete; no suspect identified</td>\n    </tr>\n    <tr>\n      <th>6570</th>\n      <td>674bacad9f4546be84b16b844547d5877f2956d8076fb7...</td>\n      <td>2015-10</td>\n      <td>Northamptonshire Police</td>\n      <td>E01027355</td>\n      <td>Wellingborough 010F</td>\n      <td>Violence and sexual offences</td>\n      <td>Unable to prosecute suspect</td>\n    </tr>\n  </tbody>\n</table>\n<p>5501908 rows × 7 columns</p>\n</div>",
      "text/plain": "                                               Crime ID    Month  \\\n0                                                   NaN  2015-09   \n1                                                   NaN  2015-09   \n2                                                   NaN  2015-09   \n3                                                   NaN  2015-09   \n4                                                   NaN  2015-09   \n...                                                 ...      ...   \n6566  6d7f1f2e752b1c96263c4678a807f7a2d7390871e5ca0b...  2015-10   \n6567  32d0a0977baa69f4f85897631d098dac0557da8ab8955f...  2015-10   \n6568  ecab593274bb18834ff3eb64f030e4822785b5e76128d0...  2015-10   \n6569  dc8f0facb4ad7b20ea9e38e5b45cb440a13b05bef177e2...  2015-10   \n6570  674bacad9f4546be84b16b844547d5877f2956d8076fb7...  2015-10   \n\n                 Falls within  LSOA code            LSOA name  \\\n0     Derbyshire Constabulary  E01019400    Amber Valley 001A   \n1     Derbyshire Constabulary  E01019400    Amber Valley 001A   \n2     Derbyshire Constabulary  E01019400    Amber Valley 001A   \n3     Derbyshire Constabulary  E01019400    Amber Valley 001A   \n4     Derbyshire Constabulary  E01019400    Amber Valley 001A   \n...                       ...        ...                  ...   \n6566  Northamptonshire Police  E01027355  Wellingborough 010F   \n6567  Northamptonshire Police  E01027355  Wellingborough 010F   \n6568  Northamptonshire Police  E01027355  Wellingborough 010F   \n6569  Northamptonshire Police  E01027355  Wellingborough 010F   \n6570  Northamptonshire Police  E01027355  Wellingborough 010F   \n\n                        Crime type  \\\n0            Anti-social behaviour   \n1            Anti-social behaviour   \n2            Anti-social behaviour   \n3            Anti-social behaviour   \n4            Anti-social behaviour   \n...                            ...   \n6566                      Burglary   \n6567                      Burglary   \n6568                   Other theft   \n6569                   Other theft   \n6570  Violence and sexual offences   \n\n                              Last outcome category  \n0                                               NaN  \n1                                               NaN  \n2                                               NaN  \n3                                               NaN  \n4                                               NaN  \n...                                             ...  \n6566  Investigation complete; no suspect identified  \n6567  Investigation complete; no suspect identified  \n6568  Investigation complete; no suspect identified  \n6569  Investigation complete; no suspect identified  \n6570                    Unable to prosecute suspect  \n\n[5501908 rows x 7 columns]"
     },
     "execution_count": 49,
     "metadata": {},
     "output_type": "execute_result"
    }
   ]
  },
  {
   "cell_type": "code",
   "metadata": {
    "cell_id": "00003-15452321-ca98-4c04-ab00-a9c072913215",
    "deepnote_cell_type": "code"
   },
   "source": "# To make df_sas and clean the data.\n\n# Change directory\ndirectory = \"/Users/rohanbabani/Documents/TU:e/Data Challenge 2/Jan_2010_Oct_2021\"\ndf_sas = pd.DataFrame()\n\nfolders = [folder for folder in tq.tqdm(os.listdir(directory)) if not str(folder).strip(\"'b\").startswith('.')]\n\nfor folder in folders:\n    files_sas = []\n\n    # Here you can change the date range\n    if int(folder[:4]) > 2014 and int(folder[:4]) < 2016:\n        # generate the path to folder\n        folder_direc = os.fsencode(directory + '/'+ str(folder))\n        \n        # add each file name to the appropriate list\n        for file in os.listdir(folder_direc):\n            file = str(file).strip(\"'b\")\n            if (bool(re.search('stop-and-search', file))):\n                files_sas.append(file)\n                \n        # Clean dataframe for stop-and-search\n        for file in tq.tqdm(files_sas):\n            # Create dataframe from the current file\n            current_data_sas = pd.read_csv(directory + '/' + str(folder).strip(\"'b\") + '/' + str(file))  \n            # drop the attributes considered irrelevant\n            current_data_sas.drop(['Policing operation', 'Gender', 'Object of search', \\\n                                  'Outcome linked to object of search', 'Removal of more than just outer clothing'], axis=1, inplace=True)\n            # drop rows which do not have the \"Type\" specified\n            current_data_sas.dropna(subset=['Type'], inplace=True)\n            df_sas = df_sas.append(current_data_sas)\n",
   "execution_count": null,
   "outputs": [
    {
     "name": "stderr",
     "output_type": "stream",
     "text": "100%|██████████| 132/132 [00:00<00:00, 702599.15it/s]\n100%|██████████| 43/43 [00:00<00:00, 127.91it/s]\n100%|██████████| 42/42 [00:00<00:00, 105.06it/s]\n100%|██████████| 41/41 [00:00<00:00, 80.31it/s]\n100%|██████████| 22/22 [00:00<00:00, 65.52it/s]\n100%|██████████| 43/43 [00:00<00:00, 60.18it/s]\n100%|██████████| 43/43 [00:00<00:00, 51.67it/s]\n100%|██████████| 42/42 [00:00<00:00, 52.21it/s]\n100%|██████████| 29/29 [00:00<00:00, 46.22it/s]\n100%|██████████| 23/23 [00:00<00:00, 40.88it/s]\n100%|██████████| 41/41 [00:01<00:00, 38.19it/s]\n100%|██████████| 43/43 [00:01<00:00, 36.21it/s]\n100%|██████████| 43/43 [00:01<00:00, 32.44it/s]\n"
    }
   ]
  },
  {
   "cell_type": "code",
   "metadata": {
    "cell_id": "00004-6726df20-fef9-46f0-83e5-bba698b8e2b3",
    "deepnote_cell_type": "code",
    "deepnote_output_heights": [
     396
    ]
   },
   "source": "df_sas",
   "execution_count": null,
   "outputs": [
    {
     "data": {
      "text/html": "<div>\n<style scoped>\n    .dataframe tbody tr th:only-of-type {\n        vertical-align: middle;\n    }\n\n    .dataframe tbody tr th {\n        vertical-align: top;\n    }\n\n    .dataframe thead th {\n        text-align: right;\n    }\n</style>\n<table border=\"1\" class=\"dataframe\">\n  <thead>\n    <tr style=\"text-align: right;\">\n      <th></th>\n      <th>Type</th>\n      <th>Date</th>\n      <th>Part of a policing operation</th>\n      <th>Latitude</th>\n      <th>Longitude</th>\n      <th>Age range</th>\n      <th>Self-defined ethnicity</th>\n      <th>Officer-defined ethnicity</th>\n      <th>Legislation</th>\n      <th>Outcome</th>\n    </tr>\n  </thead>\n  <tbody>\n    <tr>\n      <th>0</th>\n      <td>Person search</td>\n      <td>2015-08-31T23:00:00+00:00</td>\n      <td>NaN</td>\n      <td>NaN</td>\n      <td>NaN</td>\n      <td>over 34</td>\n      <td>White - White British (W1)</td>\n      <td>White</td>\n      <td>NaN</td>\n      <td>Suspect arrested</td>\n    </tr>\n    <tr>\n      <th>1</th>\n      <td>Person search</td>\n      <td>2015-08-31T23:00:00+00:00</td>\n      <td>NaN</td>\n      <td>NaN</td>\n      <td>NaN</td>\n      <td>25-34</td>\n      <td>White - White British (W1)</td>\n      <td>NaN</td>\n      <td>NaN</td>\n      <td>Suspect arrested</td>\n    </tr>\n    <tr>\n      <th>2</th>\n      <td>Person search</td>\n      <td>2015-08-31T23:00:00+00:00</td>\n      <td>NaN</td>\n      <td>NaN</td>\n      <td>NaN</td>\n      <td>over 34</td>\n      <td>White - White British (W1)</td>\n      <td>White</td>\n      <td>NaN</td>\n      <td>Suspect arrested</td>\n    </tr>\n    <tr>\n      <th>3</th>\n      <td>Vehicle search</td>\n      <td>2015-08-31T23:00:00+00:00</td>\n      <td>NaN</td>\n      <td>NaN</td>\n      <td>NaN</td>\n      <td>NaN</td>\n      <td>NaN</td>\n      <td>NaN</td>\n      <td>Misuse of Drugs Act 1971 (section 23)</td>\n      <td>Suspect arrested</td>\n    </tr>\n    <tr>\n      <th>4</th>\n      <td>Person search</td>\n      <td>2015-09-01T23:00:00+00:00</td>\n      <td>NaN</td>\n      <td>NaN</td>\n      <td>NaN</td>\n      <td>18-24</td>\n      <td>White - White British (W1)</td>\n      <td>NaN</td>\n      <td>Misuse of Drugs Act 1971 (section 23)</td>\n      <td>Article found - Detailed outcome unavailable</td>\n    </tr>\n    <tr>\n      <th>...</th>\n      <td>...</td>\n      <td>...</td>\n      <td>...</td>\n      <td>...</td>\n      <td>...</td>\n      <td>...</td>\n      <td>...</td>\n      <td>...</td>\n      <td>...</td>\n      <td>...</td>\n    </tr>\n    <tr>\n      <th>1018</th>\n      <td>Person search</td>\n      <td>2015-10-31T21:40:00+00:00</td>\n      <td>False</td>\n      <td>NaN</td>\n      <td>NaN</td>\n      <td>10-17</td>\n      <td>White - White British (W1)</td>\n      <td>White</td>\n      <td>NaN</td>\n      <td>Nothing found - no further action</td>\n    </tr>\n    <tr>\n      <th>1019</th>\n      <td>Person search</td>\n      <td>2015-10-31T21:40:00+00:00</td>\n      <td>False</td>\n      <td>NaN</td>\n      <td>NaN</td>\n      <td>10-17</td>\n      <td>Not Stated (NS)</td>\n      <td>Black</td>\n      <td>NaN</td>\n      <td>Suspect summonsed to court</td>\n    </tr>\n    <tr>\n      <th>1020</th>\n      <td>Person search</td>\n      <td>2015-10-31T22:30:00+00:00</td>\n      <td>False</td>\n      <td>NaN</td>\n      <td>NaN</td>\n      <td>25-34</td>\n      <td>Mixed - White and Black Caribbean (M1)</td>\n      <td>Black</td>\n      <td>NaN</td>\n      <td>Nothing found - no further action</td>\n    </tr>\n    <tr>\n      <th>1021</th>\n      <td>Person search</td>\n      <td>2015-10-31T22:30:00+00:00</td>\n      <td>False</td>\n      <td>NaN</td>\n      <td>NaN</td>\n      <td>18-24</td>\n      <td>White - White British (W1)</td>\n      <td>White</td>\n      <td>NaN</td>\n      <td>Nothing found - no further action</td>\n    </tr>\n    <tr>\n      <th>1022</th>\n      <td>Person search</td>\n      <td>2015-10-31T23:00:00+00:00</td>\n      <td>False</td>\n      <td>NaN</td>\n      <td>NaN</td>\n      <td>18-24</td>\n      <td>White - White British (W1)</td>\n      <td>White</td>\n      <td>NaN</td>\n      <td>Article found - Detailed outcome unavailable</td>\n    </tr>\n  </tbody>\n</table>\n<p>317060 rows × 10 columns</p>\n</div>",
      "text/plain": "                Type                       Date Part of a policing operation  \\\n0      Person search  2015-08-31T23:00:00+00:00                          NaN   \n1      Person search  2015-08-31T23:00:00+00:00                          NaN   \n2      Person search  2015-08-31T23:00:00+00:00                          NaN   \n3     Vehicle search  2015-08-31T23:00:00+00:00                          NaN   \n4      Person search  2015-09-01T23:00:00+00:00                          NaN   \n...              ...                        ...                          ...   \n1018   Person search  2015-10-31T21:40:00+00:00                        False   \n1019   Person search  2015-10-31T21:40:00+00:00                        False   \n1020   Person search  2015-10-31T22:30:00+00:00                        False   \n1021   Person search  2015-10-31T22:30:00+00:00                        False   \n1022   Person search  2015-10-31T23:00:00+00:00                        False   \n\n      Latitude  Longitude Age range                  Self-defined ethnicity  \\\n0          NaN        NaN   over 34              White - White British (W1)   \n1          NaN        NaN     25-34              White - White British (W1)   \n2          NaN        NaN   over 34              White - White British (W1)   \n3          NaN        NaN       NaN                                     NaN   \n4          NaN        NaN     18-24              White - White British (W1)   \n...        ...        ...       ...                                     ...   \n1018       NaN        NaN     10-17              White - White British (W1)   \n1019       NaN        NaN     10-17                         Not Stated (NS)   \n1020       NaN        NaN     25-34  Mixed - White and Black Caribbean (M1)   \n1021       NaN        NaN     18-24              White - White British (W1)   \n1022       NaN        NaN     18-24              White - White British (W1)   \n\n     Officer-defined ethnicity                            Legislation  \\\n0                        White                                    NaN   \n1                          NaN                                    NaN   \n2                        White                                    NaN   \n3                          NaN  Misuse of Drugs Act 1971 (section 23)   \n4                          NaN  Misuse of Drugs Act 1971 (section 23)   \n...                        ...                                    ...   \n1018                     White                                    NaN   \n1019                     Black                                    NaN   \n1020                     Black                                    NaN   \n1021                     White                                    NaN   \n1022                     White                                    NaN   \n\n                                           Outcome  \n0                                 Suspect arrested  \n1                                 Suspect arrested  \n2                                 Suspect arrested  \n3                                 Suspect arrested  \n4     Article found - Detailed outcome unavailable  \n...                                            ...  \n1018             Nothing found - no further action  \n1019                    Suspect summonsed to court  \n1020             Nothing found - no further action  \n1021             Nothing found - no further action  \n1022  Article found - Detailed outcome unavailable  \n\n[317060 rows x 10 columns]"
     },
     "execution_count": 63,
     "metadata": {},
     "output_type": "execute_result"
    }
   ]
  },
  {
   "cell_type": "markdown",
   "source": "<a style='text-decoration:none;line-height:16px;display:flex;color:#5B5B62;padding:10px;justify-content:end;' href='https://deepnote.com?utm_source=created-in-deepnote-cell&projectId=40789b9a-1c62-45b9-9d9c-b1a39ebe3dfd' target=\"_blank\">\n<img alt='Created in deepnote.com' style='display:inline;max-height:16px;margin:0px;margin-right:7.5px;' src='data:image/svg+xml;base64,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' > </img>\nCreated in <span style='font-weight:600;margin-left:4px;'>Deepnote</span></a>",
   "metadata": {
    "tags": [],
    "created_in_deepnote_cell": true,
    "deepnote_cell_type": "markdown"
   }
  }
 ],
 "nbformat": 4,
 "nbformat_minor": 5,
 "metadata": {
  "deepnote": {},
  "deepnote_execution_queue": [],
  "deepnote_notebook_id": "2bbabc32-dcad-4ae4-a5a3-0e9e696fc187",
  "kernelspec": {
   "display_name": "Python 3",
   "language": "python",
   "name": "python3"
  },
  "language_info": {
   "codemirror_mode": {
    "name": "ipython",
    "version": 3
   },
   "file_extension": ".py",
   "mimetype": "text/x-python",
   "name": "python",
   "nbconvert_exporter": "python",
   "pygments_lexer": "ipython3",
   "version": "3.7.6"
  }
 }
}
