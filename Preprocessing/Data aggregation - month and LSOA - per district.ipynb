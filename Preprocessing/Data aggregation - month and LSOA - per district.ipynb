{
 "cells": [
  {
   "cell_type": "markdown",
   "source": "# Data aggregation for street - grouping by month and LSOA code, for a selected district (looking on top 5 crime types)",
   "metadata": {
    "cell_id": "de00b522-d87d-4a6b-8325-40d15d6f5a09",
    "tags": [],
    "is_collapsed": false,
    "deepnote_cell_type": "text-cell-h1"
   }
  },
  {
   "cell_type": "markdown",
   "source": "## Import libraries and data",
   "metadata": {
    "cell_id": "73a767a5-e84d-40bf-940c-99fe2d911d39",
    "tags": [],
    "is_collapsed": false,
    "deepnote_cell_type": "text-cell-h2"
   }
  },
  {
   "cell_type": "code",
   "metadata": {
    "cell_id": "7ec108e1-1018-4208-b302-42114e3fe7cd",
    "deepnote_to_be_reexecuted": false,
    "source_hash": "368e2b65",
    "execution_start": 1646567439953,
    "execution_millis": 1,
    "deepnote_cell_type": "code"
   },
   "source": "import pandas as pd\nimport os\nimport tqdm as tq\nimport string\nimport statistics as stats\nimport re\npd.set_option('display.max_columns', None)",
   "execution_count": null,
   "outputs": []
  },
  {
   "cell_type": "code",
   "metadata": {
    "cell_id": "00001-59551471-f051-45b3-b516-ecf3c77cdc29",
    "deepnote_to_be_reexecuted": false,
    "source_hash": "50d676ef",
    "execution_start": 1646567439997,
    "execution_millis": 0,
    "deepnote_cell_type": "code"
   },
   "source": "# To make a dataframe for street for one district only (district name must correspond to the one in file name)\n\ndef extract_street_for_district(district: str):\n    directory = \"Jan_2010_Oct_2021\" # Change directory\n    df_street = pd.DataFrame()\n\n    folders = [folder for folder in os.listdir(directory) if not str(folder).strip(\"'b\").startswith('.')]\n\n    for folder in folders:\n        files_street = []\n\n        # Here you can change the date range\n        if int(folder[:4]) > 2014:\n            # generate the path to folder\n            folder_direc = os.fsencode(directory + '/'+ str(folder))\n        \n            # add each file name to the appropriate list\n            for file in os.listdir(folder_direc):\n                file = str(file).strip(\"'b\")\n                # check if the file name contains the appropriate district name and 'street'\n                if (bool(re.search(str(district), file))) & (bool(re.search('street', file))):\n                        files_street.append(file)\n                \n            # Clean dataframe\n            for file in files_street:\n                # Create dataframe from the current file\n                current_data_street = pd.read_csv(directory + '/' + str(folder).strip(\"'b\") + '/' + str(file)) \n                # Drop the attributes considered irrelevant\n                current_data_street.drop(['Reported by', 'Longitude', 'Latitude', \\\n                                          'Location', 'Context', 'LSOA name'], axis=1, inplace=True)\n                current_data_street.dropna(subset=['LSOA code'], inplace=True)\n                current_data_street.dropna(subset=['Crime type'], inplace=True)\n                df_street = df_street.append(current_data_street)\n    return df_street",
   "execution_count": null,
   "outputs": []
  },
  {
   "cell_type": "code",
   "metadata": {
    "cell_id": "00002-43a59d55-0da6-43eb-b8ce-bee0a65ec0dd",
    "deepnote_to_be_reexecuted": false,
    "source_hash": "5eb98b66",
    "execution_start": 1646567439998,
    "execution_millis": 330,
    "deepnote_cell_type": "code"
   },
   "source": "# call the function and save the df with the appropriate district name: \n# df_str_district = extract_street_for_district\ndf_str_btp = extract_street_for_district(\"btp\")",
   "execution_count": null,
   "outputs": []
  },
  {
   "cell_type": "code",
   "metadata": {
    "cell_id": "00003-8fc8f76c-e057-4bdb-8d77-8c35ee62b64d",
    "deepnote_to_be_reexecuted": false,
    "source_hash": "a52a851b",
    "execution_start": 1646567440345,
    "execution_millis": 9,
    "deepnote_cell_type": "code"
   },
   "source": "# To make a dataframe for stop-and-search for one district only \n# (district name must correspond to the one in file name)\n\ndef extract_sas_for_district(district):\n    directory = \"Jan_2010_Oct_2021\" # Change directory\n    df_sas = pd.DataFrame()\n\n    folders = [folder for folder in os.listdir(directory) if not str(folder).strip(\"'b\").startswith('.')]\n    \n    for folder in folders:\n        files_sas = []\n\n        # Here you can change the date range\n        if int(folder[:4]) > 2014:\n            # generate the path to folder\n            folder_direc = os.fsencode(directory + '/'+ str(folder))\n        \n            # add each file name to the appropriate list\n            for file in os.listdir(folder_direc):\n                file = str(file).strip(\"'b\")\n                # check if the file name contains the appropriate district name and 'street'\n                if (bool(re.search(str(district), file))) & (bool(re.search('stop-and-search', file))):\n                        files_sas.append(file)\n                \n            # Clean dataframe for stop-and-search\n            for file in files_sas:\n                # Create dataframe from the current file\n                current_data_sas = pd.read_csv(directory + '/' + str(folder).strip(\"'b\") + '/' + str(file))  \n                # drop the attributes considered irrelevant\n                current_data_sas.drop(['Policing operation', 'Gender', 'Object of search', \\\n                                      'Outcome linked to object of search', 'Removal of more than just outer clothing',\n                                      'Self-defined ethnicity', 'Officer-defined ethnicity'], axis=1, inplace=True)\n                # drop rows which do not have the \"Type\" specified\n                current_data_sas.dropna(subset=['Type'], inplace=True)\n                current_data_sas.dropna(subset=['Longitude'], inplace=True)\n                current_data_sas.dropna(subset=['Latitude'], inplace=True)\n                df_sas = df_sas.append(current_data_sas)\n    return  df_sas\n",
   "execution_count": null,
   "outputs": []
  },
  {
   "cell_type": "code",
   "metadata": {
    "cell_id": "00004-014364ed-eee8-4a19-9622-eb7d3aef72fe",
    "deepnote_to_be_reexecuted": false,
    "source_hash": "80945b20",
    "execution_start": 1646567440360,
    "execution_millis": 255,
    "deepnote_cell_type": "code"
   },
   "source": "# call the function and save the df with the appropriate district name: \n# df_sas_district = extract_sas_for_district\ndf_sas_btp = extract_sas_for_district(\"btp\")",
   "execution_count": null,
   "outputs": []
  },
  {
   "cell_type": "code",
   "metadata": {
    "cell_id": "00005-f3bf37a0-b53c-49ca-abf3-26e32a4d9479",
    "deepnote_to_be_reexecuted": false,
    "source_hash": "3ec5e52b",
    "execution_start": 1646567440621,
    "execution_millis": 412,
    "deepnote_cell_type": "code",
    "deepnote_output_heights": [
     382
    ]
   },
   "source": "df_str_btp",
   "execution_count": null,
   "outputs": [
    {
     "output_type": "execute_result",
     "execution_count": 6,
     "data": {
      "application/vnd.deepnote.dataframe.v3+json": {
       "column_count": 6,
       "row_count": 31818,
       "columns": [
        {
         "name": "Crime ID",
         "dtype": "float64",
         "stats": {
          "unique_count": 0,
          "nan_count": 31818,
          "min": null,
          "max": null,
          "histogram": [
           {
            "bin_start": 0,
            "bin_end": 0.1,
            "count": 0
           },
           {
            "bin_start": 0.1,
            "bin_end": 0.2,
            "count": 0
           },
           {
            "bin_start": 0.2,
            "bin_end": 0.30000000000000004,
            "count": 0
           },
           {
            "bin_start": 0.30000000000000004,
            "bin_end": 0.4,
            "count": 0
           },
           {
            "bin_start": 0.4,
            "bin_end": 0.5,
            "count": 0
           },
           {
            "bin_start": 0.5,
            "bin_end": 0.6000000000000001,
            "count": 0
           },
           {
            "bin_start": 0.6000000000000001,
            "bin_end": 0.7000000000000001,
            "count": 0
           },
           {
            "bin_start": 0.7000000000000001,
            "bin_end": 0.8,
            "count": 0
           },
           {
            "bin_start": 0.8,
            "bin_end": 0.9,
            "count": 0
           },
           {
            "bin_start": 0.9,
            "bin_end": 1,
            "count": 0
           }
          ]
         }
        },
        {
         "name": "Month",
         "dtype": "object",
         "stats": {
          "unique_count": 8,
          "nan_count": 0,
          "categories": [
           {
            "name": "2020-01",
            "count": 5593
           },
           {
            "name": "2017-10",
            "count": 4746
           },
           {
            "name": "6 others",
            "count": 21479
           }
          ]
         }
        },
        {
         "name": "Falls within",
         "dtype": "object",
         "stats": {
          "unique_count": 1,
          "nan_count": 0,
          "categories": [
           {
            "name": "British Transport Police",
            "count": 31818
           }
          ]
         }
        },
        {
         "name": "LSOA code",
         "dtype": "object"
        },
        {
         "name": "Crime type",
         "dtype": "object"
        },
        {
         "name": "Last outcome category",
         "dtype": "float64"
        },
        {
         "name": "_deepnote_index_column",
         "dtype": "int64"
        }
       ],
       "rows": [
        {
         "Crime ID": "nan",
         "Month": "2020-09",
         "Falls within": "British Transport Police",
         "LSOA code": "E01031365",
         "Crime type": "Bicycle theft",
         "Last outcome category": "nan",
         "_deepnote_index_column": 0
        },
        {
         "Crime ID": "nan",
         "Month": "2020-09",
         "Falls within": "British Transport Police",
         "LSOA code": "E01031365",
         "Crime type": "Criminal damage and arson",
         "Last outcome category": "nan",
         "_deepnote_index_column": 1
        },
        {
         "Crime ID": "nan",
         "Month": "2020-09",
         "Falls within": "British Transport Police",
         "LSOA code": "E01031365",
         "Crime type": "Criminal damage and arson",
         "Last outcome category": "nan",
         "_deepnote_index_column": 2
        },
        {
         "Crime ID": "nan",
         "Month": "2020-09",
         "Falls within": "British Transport Police",
         "LSOA code": "E01031365",
         "Crime type": "Other theft",
         "Last outcome category": "nan",
         "_deepnote_index_column": 3
        },
        {
         "Crime ID": "nan",
         "Month": "2020-09",
         "Falls within": "British Transport Police",
         "LSOA code": "E01031365",
         "Crime type": "Public order",
         "Last outcome category": "nan",
         "_deepnote_index_column": 4
        },
        {
         "Crime ID": "nan",
         "Month": "2020-09",
         "Falls within": "British Transport Police",
         "LSOA code": "E01031365",
         "Crime type": "Public order",
         "Last outcome category": "nan",
         "_deepnote_index_column": 5
        },
        {
         "Crime ID": "nan",
         "Month": "2020-09",
         "Falls within": "British Transport Police",
         "LSOA code": "E01031375",
         "Crime type": "Public order",
         "Last outcome category": "nan",
         "_deepnote_index_column": 6
        },
        {
         "Crime ID": "nan",
         "Month": "2020-09",
         "Falls within": "British Transport Police",
         "LSOA code": "E01031342",
         "Crime type": "Bicycle theft",
         "Last outcome category": "nan",
         "_deepnote_index_column": 7
        },
        {
         "Crime ID": "nan",
         "Month": "2020-09",
         "Falls within": "British Transport Police",
         "LSOA code": "E01031393",
         "Crime type": "Bicycle theft",
         "Last outcome category": "nan",
         "_deepnote_index_column": 8
        },
        {
         "Crime ID": "nan",
         "Month": "2020-09",
         "Falls within": "British Transport Police",
         "LSOA code": "E01031393",
         "Crime type": "Violence and sexual offences",
         "Last outcome category": "nan",
         "_deepnote_index_column": 9
        }
       ]
      },
      "text/plain": "      Crime ID    Month              Falls within  LSOA code  \\\n0          NaN  2020-09  British Transport Police  E01031365   \n1          NaN  2020-09  British Transport Police  E01031365   \n2          NaN  2020-09  British Transport Police  E01031365   \n3          NaN  2020-09  British Transport Police  E01031365   \n4          NaN  2020-09  British Transport Police  E01031365   \n...        ...      ...                       ...        ...   \n3039       NaN  2020-08  British Transport Police  E01017839   \n3040       NaN  2020-08  British Transport Police  E01017839   \n3041       NaN  2020-08  British Transport Police  E01032466   \n3042       NaN  2020-08  British Transport Police  E01032466   \n3043       NaN  2020-08  British Transport Police  E01032466   \n\n                        Crime type  Last outcome category  \n0                    Bicycle theft                    NaN  \n1        Criminal damage and arson                    NaN  \n2        Criminal damage and arson                    NaN  \n3                      Other theft                    NaN  \n4                     Public order                    NaN  \n...                            ...                    ...  \n3039                  Public order                    NaN  \n3040  Violence and sexual offences                    NaN  \n3041     Criminal damage and arson                    NaN  \n3042                   Other theft                    NaN  \n3043  Violence and sexual offences                    NaN  \n\n[31818 rows x 6 columns]",
      "text/html": "<div>\n<style scoped>\n    .dataframe tbody tr th:only-of-type {\n        vertical-align: middle;\n    }\n\n    .dataframe tbody tr th {\n        vertical-align: top;\n    }\n\n    .dataframe thead th {\n        text-align: right;\n    }\n</style>\n<table border=\"1\" class=\"dataframe\">\n  <thead>\n    <tr style=\"text-align: right;\">\n      <th></th>\n      <th>Crime ID</th>\n      <th>Month</th>\n      <th>Falls within</th>\n      <th>LSOA code</th>\n      <th>Crime type</th>\n      <th>Last outcome category</th>\n    </tr>\n  </thead>\n  <tbody>\n    <tr>\n      <th>0</th>\n      <td>NaN</td>\n      <td>2020-09</td>\n      <td>British Transport Police</td>\n      <td>E01031365</td>\n      <td>Bicycle theft</td>\n      <td>NaN</td>\n    </tr>\n    <tr>\n      <th>1</th>\n      <td>NaN</td>\n      <td>2020-09</td>\n      <td>British Transport Police</td>\n      <td>E01031365</td>\n      <td>Criminal damage and arson</td>\n      <td>NaN</td>\n    </tr>\n    <tr>\n      <th>2</th>\n      <td>NaN</td>\n      <td>2020-09</td>\n      <td>British Transport Police</td>\n      <td>E01031365</td>\n      <td>Criminal damage and arson</td>\n      <td>NaN</td>\n    </tr>\n    <tr>\n      <th>3</th>\n      <td>NaN</td>\n      <td>2020-09</td>\n      <td>British Transport Police</td>\n      <td>E01031365</td>\n      <td>Other theft</td>\n      <td>NaN</td>\n    </tr>\n    <tr>\n      <th>4</th>\n      <td>NaN</td>\n      <td>2020-09</td>\n      <td>British Transport Police</td>\n      <td>E01031365</td>\n      <td>Public order</td>\n      <td>NaN</td>\n    </tr>\n    <tr>\n      <th>...</th>\n      <td>...</td>\n      <td>...</td>\n      <td>...</td>\n      <td>...</td>\n      <td>...</td>\n      <td>...</td>\n    </tr>\n    <tr>\n      <th>3039</th>\n      <td>NaN</td>\n      <td>2020-08</td>\n      <td>British Transport Police</td>\n      <td>E01017839</td>\n      <td>Public order</td>\n      <td>NaN</td>\n    </tr>\n    <tr>\n      <th>3040</th>\n      <td>NaN</td>\n      <td>2020-08</td>\n      <td>British Transport Police</td>\n      <td>E01017839</td>\n      <td>Violence and sexual offences</td>\n      <td>NaN</td>\n    </tr>\n    <tr>\n      <th>3041</th>\n      <td>NaN</td>\n      <td>2020-08</td>\n      <td>British Transport Police</td>\n      <td>E01032466</td>\n      <td>Criminal damage and arson</td>\n      <td>NaN</td>\n    </tr>\n    <tr>\n      <th>3042</th>\n      <td>NaN</td>\n      <td>2020-08</td>\n      <td>British Transport Police</td>\n      <td>E01032466</td>\n      <td>Other theft</td>\n      <td>NaN</td>\n    </tr>\n    <tr>\n      <th>3043</th>\n      <td>NaN</td>\n      <td>2020-08</td>\n      <td>British Transport Police</td>\n      <td>E01032466</td>\n      <td>Violence and sexual offences</td>\n      <td>NaN</td>\n    </tr>\n  </tbody>\n</table>\n<p>31818 rows × 6 columns</p>\n</div>"
     },
     "metadata": {}
    }
   ]
  },
  {
   "cell_type": "markdown",
   "source": "## Identify and filter on top 5 crimes for this police force",
   "metadata": {
    "cell_id": "6848b402-6c53-49c0-94b8-da2d5f939676",
    "tags": [],
    "is_collapsed": false,
    "deepnote_cell_type": "text-cell-h2"
   }
  },
  {
   "cell_type": "code",
   "metadata": {
    "cell_id": "00006-d4a3fb5a-248b-4f6b-bbc8-b3081bcb3740",
    "deepnote_to_be_reexecuted": false,
    "source_hash": "ae609285",
    "execution_start": 1646567440831,
    "execution_millis": 41,
    "deepnote_cell_type": "code"
   },
   "source": "# identify top 5 crimes\ndf_top_crimes = df_str_btp.groupby('Crime type').count()['LSOA code'].sort_values(ascending=False).reset_index()\ntop_crimes = [crime_type for crime_type in df_top_crimes['Crime type'][:5]]\n\n# filter data - only keep the top 5 crime types\ndf_str_btp_top = df_str_btp[df_str_btp['Crime type'].isin(top_crimes)]\n# for this example, the numer of entires go from 280k to 215k so not much data is 'lost'",
   "execution_count": null,
   "outputs": []
  },
  {
   "cell_type": "code",
   "metadata": {
    "cell_id": "00008-11b4dac6-2b41-4734-9685-2108dfa4f1a8",
    "deepnote_to_be_reexecuted": false,
    "source_hash": "a5f0ed21",
    "execution_start": 1646567440879,
    "execution_millis": 22,
    "deepnote_cell_type": "code"
   },
   "source": "# one hot encoding - add columns for each crime type\ndf_str_btp_top = pd.get_dummies(df_str_btp_top, columns = ['Crime type'])",
   "execution_count": null,
   "outputs": []
  },
  {
   "cell_type": "code",
   "metadata": {
    "cell_id": "00009-b067f4db-6575-448e-9fee-1278f634adf8",
    "deepnote_to_be_reexecuted": false,
    "source_hash": "c4bf472d",
    "execution_start": 1646567440915,
    "execution_millis": 19,
    "deepnote_cell_type": "code"
   },
   "source": "# gorup by month and LSOA code\ndf_str_btp_top = df_str_btp_top.groupby(['Month', 'LSOA code']).count()",
   "execution_count": null,
   "outputs": []
  },
  {
   "cell_type": "code",
   "metadata": {
    "cell_id": "00010-d17fbec8-dbbd-4921-8311-f73b5b1b358c",
    "deepnote_to_be_reexecuted": false,
    "source_hash": "ed9c793a",
    "execution_start": 1646567440950,
    "execution_millis": 8,
    "deepnote_cell_type": "code"
   },
   "source": "# add a column for the sum of the (top 5) crimes in that month/LSOA\ndf_str_btp_top['sum_crimes'] = df_str_btp_top['Crime type_Bicycle theft'] + \\\ndf_str_btp_top['Crime type_Other theft'] + df_str_btp_top['Crime type_Public order'] +\\\ndf_str_btp_top['Crime type_Theft from the person'] + df_str_btp_top['Crime type_Violence and sexual offences']\n# only keep the relevant columns \ndf_str_btp_top = df_str_btp_top[['Crime type_Bicycle theft',\n                                'Crime type_Other theft',\n                                'Crime type_Public order',\n                                'Crime type_Theft from the person',\n                                'Crime type_Violence and sexual offences',\n                                'sum_crimes']]",
   "execution_count": null,
   "outputs": []
  },
  {
   "cell_type": "code",
   "metadata": {
    "cell_id": "00011-a80a2621-d31b-4fba-b8c5-c6d337f6df0f",
    "deepnote_to_be_reexecuted": false,
    "source_hash": "b8310ecb",
    "execution_start": 1646567441015,
    "execution_millis": 39,
    "deepnote_table_state": {
     "pageSize": 10,
     "pageIndex": 670,
     "filters": [],
     "sortBy": []
    },
    "deepnote_table_loading": false,
    "deepnote_cell_type": "code",
    "deepnote_output_heights": [
     411
    ]
   },
   "source": "df_str_btp_top",
   "execution_count": null,
   "outputs": [
    {
     "output_type": "execute_result",
     "execution_count": 11,
     "data": {
      "application/vnd.deepnote.dataframe.v3+json": {
       "column_count": 6,
       "row_count": 6711,
       "columns": [
        {
         "name": "Crime type_Bicycle theft",
         "dtype": "int64",
         "stats": {
          "unique_count": 74,
          "nan_count": 0,
          "min": "1",
          "max": "119",
          "histogram": [
           {
            "bin_start": 1,
            "bin_end": 12.8,
            "count": 6413
           },
           {
            "bin_start": 12.8,
            "bin_end": 24.6,
            "count": 194
           },
           {
            "bin_start": 24.6,
            "bin_end": 36.400000000000006,
            "count": 34
           },
           {
            "bin_start": 36.400000000000006,
            "bin_end": 48.2,
            "count": 23
           },
           {
            "bin_start": 48.2,
            "bin_end": 60,
            "count": 16
           },
           {
            "bin_start": 60,
            "bin_end": 71.80000000000001,
            "count": 13
           },
           {
            "bin_start": 71.80000000000001,
            "bin_end": 83.60000000000001,
            "count": 5
           },
           {
            "bin_start": 83.60000000000001,
            "bin_end": 95.4,
            "count": 8
           },
           {
            "bin_start": 95.4,
            "bin_end": 107.2,
            "count": 1
           },
           {
            "bin_start": 107.2,
            "bin_end": 119,
            "count": 4
           }
          ]
         }
        },
        {
         "name": "Crime type_Other theft",
         "dtype": "int64",
         "stats": {
          "unique_count": 74,
          "nan_count": 0,
          "min": "1",
          "max": "119",
          "histogram": [
           {
            "bin_start": 1,
            "bin_end": 12.8,
            "count": 6413
           },
           {
            "bin_start": 12.8,
            "bin_end": 24.6,
            "count": 194
           },
           {
            "bin_start": 24.6,
            "bin_end": 36.400000000000006,
            "count": 34
           },
           {
            "bin_start": 36.400000000000006,
            "bin_end": 48.2,
            "count": 23
           },
           {
            "bin_start": 48.2,
            "bin_end": 60,
            "count": 16
           },
           {
            "bin_start": 60,
            "bin_end": 71.80000000000001,
            "count": 13
           },
           {
            "bin_start": 71.80000000000001,
            "bin_end": 83.60000000000001,
            "count": 5
           },
           {
            "bin_start": 83.60000000000001,
            "bin_end": 95.4,
            "count": 8
           },
           {
            "bin_start": 95.4,
            "bin_end": 107.2,
            "count": 1
           },
           {
            "bin_start": 107.2,
            "bin_end": 119,
            "count": 4
           }
          ]
         }
        },
        {
         "name": "Crime type_Public order",
         "dtype": "int64",
         "stats": {
          "unique_count": 74,
          "nan_count": 0,
          "min": "1",
          "max": "119",
          "histogram": [
           {
            "bin_start": 1,
            "bin_end": 12.8,
            "count": 6413
           },
           {
            "bin_start": 12.8,
            "bin_end": 24.6,
            "count": 194
           },
           {
            "bin_start": 24.6,
            "bin_end": 36.400000000000006,
            "count": 34
           },
           {
            "bin_start": 36.400000000000006,
            "bin_end": 48.2,
            "count": 23
           },
           {
            "bin_start": 48.2,
            "bin_end": 60,
            "count": 16
           },
           {
            "bin_start": 60,
            "bin_end": 71.80000000000001,
            "count": 13
           },
           {
            "bin_start": 71.80000000000001,
            "bin_end": 83.60000000000001,
            "count": 5
           },
           {
            "bin_start": 83.60000000000001,
            "bin_end": 95.4,
            "count": 8
           },
           {
            "bin_start": 95.4,
            "bin_end": 107.2,
            "count": 1
           },
           {
            "bin_start": 107.2,
            "bin_end": 119,
            "count": 4
           }
          ]
         }
        },
        {
         "name": "Crime type_Theft from the person",
         "dtype": "int64",
         "stats": {
          "unique_count": 74,
          "nan_count": 0,
          "min": "1",
          "max": "119",
          "histogram": [
           {
            "bin_start": 1,
            "bin_end": 12.8,
            "count": 6413
           },
           {
            "bin_start": 12.8,
            "bin_end": 24.6,
            "count": 194
           },
           {
            "bin_start": 24.6,
            "bin_end": 36.400000000000006,
            "count": 34
           },
           {
            "bin_start": 36.400000000000006,
            "bin_end": 48.2,
            "count": 23
           },
           {
            "bin_start": 48.2,
            "bin_end": 60,
            "count": 16
           },
           {
            "bin_start": 60,
            "bin_end": 71.80000000000001,
            "count": 13
           },
           {
            "bin_start": 71.80000000000001,
            "bin_end": 83.60000000000001,
            "count": 5
           },
           {
            "bin_start": 83.60000000000001,
            "bin_end": 95.4,
            "count": 8
           },
           {
            "bin_start": 95.4,
            "bin_end": 107.2,
            "count": 1
           },
           {
            "bin_start": 107.2,
            "bin_end": 119,
            "count": 4
           }
          ]
         }
        },
        {
         "name": "Crime type_Violence and sexual offences",
         "dtype": "int64",
         "stats": {
          "unique_count": 74,
          "nan_count": 0,
          "min": "1",
          "max": "119",
          "histogram": [
           {
            "bin_start": 1,
            "bin_end": 12.8,
            "count": 6413
           },
           {
            "bin_start": 12.8,
            "bin_end": 24.6,
            "count": 194
           },
           {
            "bin_start": 24.6,
            "bin_end": 36.400000000000006,
            "count": 34
           },
           {
            "bin_start": 36.400000000000006,
            "bin_end": 48.2,
            "count": 23
           },
           {
            "bin_start": 48.2,
            "bin_end": 60,
            "count": 16
           },
           {
            "bin_start": 60,
            "bin_end": 71.80000000000001,
            "count": 13
           },
           {
            "bin_start": 71.80000000000001,
            "bin_end": 83.60000000000001,
            "count": 5
           },
           {
            "bin_start": 83.60000000000001,
            "bin_end": 95.4,
            "count": 8
           },
           {
            "bin_start": 95.4,
            "bin_end": 107.2,
            "count": 1
           },
           {
            "bin_start": 107.2,
            "bin_end": 119,
            "count": 4
           }
          ]
         }
        },
        {
         "name": "sum_crimes",
         "dtype": "int64",
         "stats": {
          "unique_count": 74,
          "nan_count": 0,
          "min": "5",
          "max": "595",
          "histogram": [
           {
            "bin_start": 5,
            "bin_end": 64,
            "count": 6413
           },
           {
            "bin_start": 64,
            "bin_end": 123,
            "count": 194
           },
           {
            "bin_start": 123,
            "bin_end": 182,
            "count": 34
           },
           {
            "bin_start": 182,
            "bin_end": 241,
            "count": 23
           },
           {
            "bin_start": 241,
            "bin_end": 300,
            "count": 16
           },
           {
            "bin_start": 300,
            "bin_end": 359,
            "count": 13
           },
           {
            "bin_start": 359,
            "bin_end": 418,
            "count": 5
           },
           {
            "bin_start": 418,
            "bin_end": 477,
            "count": 8
           },
           {
            "bin_start": 477,
            "bin_end": 536,
            "count": 1
           },
           {
            "bin_start": 536,
            "bin_end": 595,
            "count": 4
           }
          ]
         }
        },
        {
         "name": "_deepnote_index_column",
         "dtype": "object"
        }
       ],
       "rows": [
        {
         "Crime type_Bicycle theft": 2,
         "Crime type_Other theft": 2,
         "Crime type_Public order": 2,
         "Crime type_Theft from the person": 2,
         "Crime type_Violence and sexual offences": 2,
         "sum_crimes": 10,
         "_deepnote_index_column": "('2020-09', 'W01001432')"
        },
        {
         "Crime type_Bicycle theft": 1,
         "Crime type_Other theft": 1,
         "Crime type_Public order": 1,
         "Crime type_Theft from the person": 1,
         "Crime type_Violence and sexual offences": 1,
         "sum_crimes": 5,
         "_deepnote_index_column": "('2020-09', 'W01001460')"
        },
        {
         "Crime type_Bicycle theft": 1,
         "Crime type_Other theft": 1,
         "Crime type_Public order": 1,
         "Crime type_Theft from the person": 1,
         "Crime type_Violence and sexual offences": 1,
         "sum_crimes": 5,
         "_deepnote_index_column": "('2020-09', 'W01001582')"
        },
        {
         "Crime type_Bicycle theft": 4,
         "Crime type_Other theft": 4,
         "Crime type_Public order": 4,
         "Crime type_Theft from the person": 4,
         "Crime type_Violence and sexual offences": 4,
         "sum_crimes": 20,
         "_deepnote_index_column": "('2020-09', 'W01001671')"
        },
        {
         "Crime type_Bicycle theft": 1,
         "Crime type_Other theft": 1,
         "Crime type_Public order": 1,
         "Crime type_Theft from the person": 1,
         "Crime type_Violence and sexual offences": 1,
         "sum_crimes": 5,
         "_deepnote_index_column": "('2020-09', 'W01001685')"
        },
        {
         "Crime type_Bicycle theft": 2,
         "Crime type_Other theft": 2,
         "Crime type_Public order": 2,
         "Crime type_Theft from the person": 2,
         "Crime type_Violence and sexual offences": 2,
         "sum_crimes": 10,
         "_deepnote_index_column": "('2020-09', 'W01001759')"
        },
        {
         "Crime type_Bicycle theft": 1,
         "Crime type_Other theft": 1,
         "Crime type_Public order": 1,
         "Crime type_Theft from the person": 1,
         "Crime type_Violence and sexual offences": 1,
         "sum_crimes": 5,
         "_deepnote_index_column": "('2020-09', 'W01001789')"
        },
        {
         "Crime type_Bicycle theft": 1,
         "Crime type_Other theft": 1,
         "Crime type_Public order": 1,
         "Crime type_Theft from the person": 1,
         "Crime type_Violence and sexual offences": 1,
         "sum_crimes": 5,
         "_deepnote_index_column": "('2020-09', 'W01001851')"
        },
        {
         "Crime type_Bicycle theft": 1,
         "Crime type_Other theft": 1,
         "Crime type_Public order": 1,
         "Crime type_Theft from the person": 1,
         "Crime type_Violence and sexual offences": 1,
         "sum_crimes": 5,
         "_deepnote_index_column": "('2020-09', 'W01001922')"
        },
        {
         "Crime type_Bicycle theft": 6,
         "Crime type_Other theft": 6,
         "Crime type_Public order": 6,
         "Crime type_Theft from the person": 6,
         "Crime type_Violence and sexual offences": 6,
         "sum_crimes": 30,
         "_deepnote_index_column": "('2020-09', 'W01001941')"
        }
       ]
      },
      "text/plain": "                   Crime type_Bicycle theft  Crime type_Other theft  \\\nMonth   LSOA code                                                     \n2017-10 E01000001                         1                       1   \n        E01000005                         3                       3   \n        E01000007                        20                      20   \n        E01000013                         1                       1   \n        E01000036                         4                       4   \n...                                     ...                     ...   \n2020-09 W01001789                         1                       1   \n        W01001851                         1                       1   \n        W01001922                         1                       1   \n        W01001941                         6                       6   \n        W01001955                         3                       3   \n\n                   Crime type_Public order  Crime type_Theft from the person  \\\nMonth   LSOA code                                                              \n2017-10 E01000001                        1                                 1   \n        E01000005                        3                                 3   \n        E01000007                       20                                20   \n        E01000013                        1                                 1   \n        E01000036                        4                                 4   \n...                                    ...                               ...   \n2020-09 W01001789                        1                                 1   \n        W01001851                        1                                 1   \n        W01001922                        1                                 1   \n        W01001941                        6                                 6   \n        W01001955                        3                                 3   \n\n                   Crime type_Violence and sexual offences  sum_crimes  \nMonth   LSOA code                                                       \n2017-10 E01000001                                        1           5  \n        E01000005                                        3          15  \n        E01000007                                       20         100  \n        E01000013                                        1           5  \n        E01000036                                        4          20  \n...                                                    ...         ...  \n2020-09 W01001789                                        1           5  \n        W01001851                                        1           5  \n        W01001922                                        1           5  \n        W01001941                                        6          30  \n        W01001955                                        3          15  \n\n[6711 rows x 6 columns]",
      "text/html": "<div>\n<style scoped>\n    .dataframe tbody tr th:only-of-type {\n        vertical-align: middle;\n    }\n\n    .dataframe tbody tr th {\n        vertical-align: top;\n    }\n\n    .dataframe thead th {\n        text-align: right;\n    }\n</style>\n<table border=\"1\" class=\"dataframe\">\n  <thead>\n    <tr style=\"text-align: right;\">\n      <th></th>\n      <th></th>\n      <th>Crime type_Bicycle theft</th>\n      <th>Crime type_Other theft</th>\n      <th>Crime type_Public order</th>\n      <th>Crime type_Theft from the person</th>\n      <th>Crime type_Violence and sexual offences</th>\n      <th>sum_crimes</th>\n    </tr>\n    <tr>\n      <th>Month</th>\n      <th>LSOA code</th>\n      <th></th>\n      <th></th>\n      <th></th>\n      <th></th>\n      <th></th>\n      <th></th>\n    </tr>\n  </thead>\n  <tbody>\n    <tr>\n      <th rowspan=\"5\" valign=\"top\">2017-10</th>\n      <th>E01000001</th>\n      <td>1</td>\n      <td>1</td>\n      <td>1</td>\n      <td>1</td>\n      <td>1</td>\n      <td>5</td>\n    </tr>\n    <tr>\n      <th>E01000005</th>\n      <td>3</td>\n      <td>3</td>\n      <td>3</td>\n      <td>3</td>\n      <td>3</td>\n      <td>15</td>\n    </tr>\n    <tr>\n      <th>E01000007</th>\n      <td>20</td>\n      <td>20</td>\n      <td>20</td>\n      <td>20</td>\n      <td>20</td>\n      <td>100</td>\n    </tr>\n    <tr>\n      <th>E01000013</th>\n      <td>1</td>\n      <td>1</td>\n      <td>1</td>\n      <td>1</td>\n      <td>1</td>\n      <td>5</td>\n    </tr>\n    <tr>\n      <th>E01000036</th>\n      <td>4</td>\n      <td>4</td>\n      <td>4</td>\n      <td>4</td>\n      <td>4</td>\n      <td>20</td>\n    </tr>\n    <tr>\n      <th>...</th>\n      <th>...</th>\n      <td>...</td>\n      <td>...</td>\n      <td>...</td>\n      <td>...</td>\n      <td>...</td>\n      <td>...</td>\n    </tr>\n    <tr>\n      <th rowspan=\"5\" valign=\"top\">2020-09</th>\n      <th>W01001789</th>\n      <td>1</td>\n      <td>1</td>\n      <td>1</td>\n      <td>1</td>\n      <td>1</td>\n      <td>5</td>\n    </tr>\n    <tr>\n      <th>W01001851</th>\n      <td>1</td>\n      <td>1</td>\n      <td>1</td>\n      <td>1</td>\n      <td>1</td>\n      <td>5</td>\n    </tr>\n    <tr>\n      <th>W01001922</th>\n      <td>1</td>\n      <td>1</td>\n      <td>1</td>\n      <td>1</td>\n      <td>1</td>\n      <td>5</td>\n    </tr>\n    <tr>\n      <th>W01001941</th>\n      <td>6</td>\n      <td>6</td>\n      <td>6</td>\n      <td>6</td>\n      <td>6</td>\n      <td>30</td>\n    </tr>\n    <tr>\n      <th>W01001955</th>\n      <td>3</td>\n      <td>3</td>\n      <td>3</td>\n      <td>3</td>\n      <td>3</td>\n      <td>15</td>\n    </tr>\n  </tbody>\n</table>\n<p>6711 rows × 6 columns</p>\n</div>"
     },
     "metadata": {}
    }
   ]
  },
  {
   "cell_type": "code",
   "metadata": {
    "cell_id": "00012-338c3a15-1a7c-43a1-9475-5d40563b4e28",
    "deepnote_to_be_reexecuted": false,
    "source_hash": "ed10bb5d",
    "execution_start": 1646567441107,
    "execution_millis": 101,
    "deepnote_cell_type": "code"
   },
   "source": "df_sas_btp",
   "execution_count": null,
   "outputs": [
    {
     "output_type": "execute_result",
     "execution_count": 12,
     "data": {
      "application/vnd.deepnote.dataframe.v3+json": {
       "column_count": 8,
       "row_count": 4086,
       "columns": [
        {
         "name": "Type",
         "dtype": "object",
         "stats": {
          "unique_count": 3,
          "nan_count": 0,
          "categories": [
           {
            "name": "Person search",
            "count": 4024
           },
           {
            "name": "Person and Vehicle search",
            "count": 55
           },
           {
            "name": "Vehicle search",
            "count": 7
           }
          ]
         }
        },
        {
         "name": "Date",
         "dtype": "object",
         "stats": {
          "unique_count": 3343,
          "nan_count": 0,
          "categories": [
           {
            "name": "2020-06-15T20:00:00+00:00",
            "count": 11
           },
           {
            "name": "2020-06-27T21:00:00+00:00",
            "count": 8
           },
           {
            "name": "3341 others",
            "count": 4067
           }
          ]
         }
        },
        {
         "name": "Part of a policing operation",
         "dtype": "float64",
         "stats": {
          "unique_count": 0,
          "nan_count": 4086,
          "min": null,
          "max": null,
          "histogram": [
           {
            "bin_start": 0,
            "bin_end": 0.1,
            "count": 0
           },
           {
            "bin_start": 0.1,
            "bin_end": 0.2,
            "count": 0
           },
           {
            "bin_start": 0.2,
            "bin_end": 0.30000000000000004,
            "count": 0
           },
           {
            "bin_start": 0.30000000000000004,
            "bin_end": 0.4,
            "count": 0
           },
           {
            "bin_start": 0.4,
            "bin_end": 0.5,
            "count": 0
           },
           {
            "bin_start": 0.5,
            "bin_end": 0.6000000000000001,
            "count": 0
           },
           {
            "bin_start": 0.6000000000000001,
            "bin_end": 0.7000000000000001,
            "count": 0
           },
           {
            "bin_start": 0.7000000000000001,
            "bin_end": 0.8,
            "count": 0
           },
           {
            "bin_start": 0.8,
            "bin_end": 0.9,
            "count": 0
           },
           {
            "bin_start": 0.9,
            "bin_end": 1,
            "count": 0
           }
          ]
         }
        },
        {
         "name": "Latitude",
         "dtype": "float64",
         "stats": {
          "unique_count": 654,
          "nan_count": 0,
          "min": "50.234051",
          "max": "57.4799",
          "histogram": [
           {
            "bin_start": 50.234051,
            "bin_end": 50.958635900000004,
            "count": 119
           },
           {
            "bin_start": 50.958635900000004,
            "bin_end": 51.6832208,
            "count": 2224
           },
           {
            "bin_start": 51.6832208,
            "bin_end": 52.4078057,
            "count": 287
           },
           {
            "bin_start": 52.4078057,
            "bin_end": 53.1323906,
            "count": 362
           },
           {
            "bin_start": 53.1323906,
            "bin_end": 53.856975500000004,
            "count": 825
           },
           {
            "bin_start": 53.856975500000004,
            "bin_end": 54.5815604,
            "count": 113
           },
           {
            "bin_start": 54.5815604,
            "bin_end": 55.3061453,
            "count": 68
           },
           {
            "bin_start": 55.3061453,
            "bin_end": 56.0307302,
            "count": 75
           },
           {
            "bin_start": 56.0307302,
            "bin_end": 56.755315100000004,
            "count": 2
           },
           {
            "bin_start": 56.755315100000004,
            "bin_end": 57.4799,
            "count": 11
           }
          ]
         }
        },
        {
         "name": "Longitude",
         "dtype": "float64",
         "stats": {
          "unique_count": 676,
          "nan_count": 0,
          "min": "-5.225029",
          "max": "1.39877",
          "histogram": [
           {
            "bin_start": -5.225029,
            "bin_end": -4.5626491,
            "count": 19
           },
           {
            "bin_start": -4.5626491,
            "bin_end": -3.9002692000000003,
            "count": 75
           },
           {
            "bin_start": -3.9002692000000003,
            "bin_end": -3.2378893,
            "count": 82
           },
           {
            "bin_start": -3.2378893,
            "bin_end": -2.5755094,
            "count": 425
           },
           {
            "bin_start": -2.5755094,
            "bin_end": -1.9131295000000001,
            "count": 465
           },
           {
            "bin_start": -1.9131295000000001,
            "bin_end": -1.2507495999999998,
            "count": 514
           },
           {
            "bin_start": -1.2507495999999998,
            "bin_end": -0.5883697000000003,
            "count": 222
           },
           {
            "bin_start": -0.5883697000000003,
            "bin_end": 0.07401020000000003,
            "count": 1843
           },
           {
            "bin_start": 0.07401020000000003,
            "bin_end": 0.7363901000000004,
            "count": 360
           },
           {
            "bin_start": 0.7363901000000004,
            "bin_end": 1.39877,
            "count": 81
           }
          ]
         }
        },
        {
         "name": "Age range",
         "dtype": "object",
         "stats": {
          "unique_count": 5,
          "nan_count": 362,
          "categories": [
           {
            "name": "18-24",
            "count": 1267
           },
           {
            "name": "4 others",
            "count": 2457
           },
           {
            "name": "Missing",
            "count": 362
           }
          ]
         }
        },
        {
         "name": "Legislation",
         "dtype": "object",
         "stats": {
          "unique_count": 5,
          "nan_count": 62,
          "categories": [
           {
            "name": "Misuse of Drugs Act 1971 (section 23)",
            "count": 2873
           },
           {
            "name": "4 others",
            "count": 1151
           },
           {
            "name": "Missing",
            "count": 62
           }
          ]
         }
        },
        {
         "name": "Outcome",
         "dtype": "object",
         "stats": {
          "unique_count": 7,
          "nan_count": 47,
          "categories": [
           {
            "name": "A no further action disposal",
            "count": 3152
           },
           {
            "name": "6 others",
            "count": 887
           },
           {
            "name": "Missing",
            "count": 47
           }
          ]
         }
        },
        {
         "name": "_deepnote_index_column",
         "dtype": "int64"
        }
       ],
       "rows": [
        {
         "Type": "Person search",
         "Date": "2020-09-01T05:30:00+00:00",
         "Part of a policing operation": "nan",
         "Latitude": 51.3749,
         "Longitude": -0.092657,
         "Age range": "over 34",
         "Legislation": "Police and Criminal Evidence Act 1984 (section 1)",
         "Outcome": "A no further action disposal",
         "_deepnote_index_column": 0
        },
        {
         "Type": "Person search",
         "Date": "2020-09-01T06:48:00+00:00",
         "Part of a policing operation": "nan",
         "Latitude": 52.4778,
         "Longitude": -1.89895,
         "Age range": "nan",
         "Legislation": "Misuse of Drugs Act 1971 (section 23)",
         "Outcome": "A no further action disposal",
         "_deepnote_index_column": 1
        },
        {
         "Type": "Person search",
         "Date": "2020-09-01T06:50:00+00:00",
         "Part of a policing operation": "nan",
         "Latitude": 51.5324,
         "Longitude": 0.003815,
         "Age range": "25-34",
         "Legislation": "Misuse of Drugs Act 1971 (section 23)",
         "Outcome": "A no further action disposal",
         "_deepnote_index_column": 2
        },
        {
         "Type": "Person search",
         "Date": "2020-09-01T06:56:00+00:00",
         "Part of a policing operation": "nan",
         "Latitude": 51.5185,
         "Longitude": -0.722864,
         "Age range": "25-34",
         "Legislation": "Police and Criminal Evidence Act 1984 (section 1)",
         "Outcome": "A no further action disposal",
         "_deepnote_index_column": 3
        },
        {
         "Type": "Person search",
         "Date": "2020-09-01T07:05:00+00:00",
         "Part of a policing operation": "nan",
         "Latitude": 51.5324,
         "Longitude": 0.003815,
         "Age range": "over 34",
         "Legislation": "Misuse of Drugs Act 1971 (section 23)",
         "Outcome": "A no further action disposal",
         "_deepnote_index_column": 4
        },
        {
         "Type": "Person search",
         "Date": "2020-09-01T07:54:00+00:00",
         "Part of a policing operation": "nan",
         "Latitude": 52.478321,
         "Longitude": -1.898042,
         "Age range": "over 34",
         "Legislation": "Misuse of Drugs Act 1971 (section 23)",
         "Outcome": "A no further action disposal",
         "_deepnote_index_column": 5
        },
        {
         "Type": "Person search",
         "Date": "2020-09-01T12:40:00+00:00",
         "Part of a policing operation": "nan",
         "Latitude": 51.5014,
         "Longitude": -0.124915,
         "Age range": "10-17",
         "Legislation": "Police and Criminal Evidence Act 1984 (section 1)",
         "Outcome": "A no further action disposal",
         "_deepnote_index_column": 6
        },
        {
         "Type": "Person search",
         "Date": "2020-09-01T13:30:00+00:00",
         "Part of a policing operation": "nan",
         "Latitude": 51.268747,
         "Longitude": -1.086797,
         "Age range": "10-17",
         "Legislation": "Misuse of Drugs Act 1971 (section 23)",
         "Outcome": "A no further action disposal",
         "_deepnote_index_column": 7
        },
        {
         "Type": "Person search",
         "Date": "2020-09-01T13:30:00+00:00",
         "Part of a policing operation": "nan",
         "Latitude": 51.268747,
         "Longitude": -1.086797,
         "Age range": "18-24",
         "Legislation": "Misuse of Drugs Act 1971 (section 23)",
         "Outcome": "A no further action disposal",
         "_deepnote_index_column": 8
        },
        {
         "Type": "Person search",
         "Date": "2020-09-01T13:45:00+00:00",
         "Part of a policing operation": "nan",
         "Latitude": 51.5007,
         "Longitude": -3.2336,
         "Age range": "nan",
         "Legislation": "Misuse of Drugs Act 1971 (section 23)",
         "Outcome": "A no further action disposal",
         "_deepnote_index_column": 9
        }
       ]
      },
      "text/plain": "              Type                       Date  Part of a policing operation  \\\n0    Person search  2020-09-01T05:30:00+00:00                           NaN   \n1    Person search  2020-09-01T06:48:00+00:00                           NaN   \n2    Person search  2020-09-01T06:50:00+00:00                           NaN   \n3    Person search  2020-09-01T06:56:00+00:00                           NaN   \n4    Person search  2020-09-01T07:05:00+00:00                           NaN   \n..             ...                        ...                           ...   \n790  Person search  2020-08-31T17:00:00+00:00                           NaN   \n791  Person search  2020-08-31T17:25:00+00:00                           NaN   \n792  Person search  2020-08-31T18:45:00+00:00                           NaN   \n793  Person search  2020-08-31T18:50:00+00:00                           NaN   \n794  Person search  2020-08-31T19:30:00+00:00                           NaN   \n\n      Latitude  Longitude Age range  \\\n0    51.374900  -0.092657   over 34   \n1    52.477800  -1.898950       NaN   \n2    51.532400   0.003815     25-34   \n3    51.518500  -0.722864     25-34   \n4    51.532400   0.003815   over 34   \n..         ...        ...       ...   \n790  51.504700  -0.218692   over 34   \n791  51.523466  -0.155997     25-34   \n792  53.477512  -2.226586     25-34   \n793  53.477512  -2.226586     25-34   \n794  51.503381  -0.112226     25-34   \n\n                                           Legislation  \\\n0    Police and Criminal Evidence Act 1984 (section 1)   \n1                Misuse of Drugs Act 1971 (section 23)   \n2                Misuse of Drugs Act 1971 (section 23)   \n3    Police and Criminal Evidence Act 1984 (section 1)   \n4                Misuse of Drugs Act 1971 (section 23)   \n..                                                 ...   \n790  Police and Criminal Evidence Act 1984 (section 1)   \n791  Police and Criminal Evidence Act 1984 (section 1)   \n792  Police and Criminal Evidence Act 1984 (section 1)   \n793  Police and Criminal Evidence Act 1984 (section 1)   \n794  Police and Criminal Evidence Act 1984 (section 1)   \n\n                          Outcome  \n0    A no further action disposal  \n1    A no further action disposal  \n2    A no further action disposal  \n3    A no further action disposal  \n4    A no further action disposal  \n..                            ...  \n790     Summons / charged by post  \n791  A no further action disposal  \n792  A no further action disposal  \n793  A no further action disposal  \n794                        Arrest  \n\n[4086 rows x 8 columns]",
      "text/html": "<div>\n<style scoped>\n    .dataframe tbody tr th:only-of-type {\n        vertical-align: middle;\n    }\n\n    .dataframe tbody tr th {\n        vertical-align: top;\n    }\n\n    .dataframe thead th {\n        text-align: right;\n    }\n</style>\n<table border=\"1\" class=\"dataframe\">\n  <thead>\n    <tr style=\"text-align: right;\">\n      <th></th>\n      <th>Type</th>\n      <th>Date</th>\n      <th>Part of a policing operation</th>\n      <th>Latitude</th>\n      <th>Longitude</th>\n      <th>Age range</th>\n      <th>Legislation</th>\n      <th>Outcome</th>\n    </tr>\n  </thead>\n  <tbody>\n    <tr>\n      <th>0</th>\n      <td>Person search</td>\n      <td>2020-09-01T05:30:00+00:00</td>\n      <td>NaN</td>\n      <td>51.374900</td>\n      <td>-0.092657</td>\n      <td>over 34</td>\n      <td>Police and Criminal Evidence Act 1984 (section 1)</td>\n      <td>A no further action disposal</td>\n    </tr>\n    <tr>\n      <th>1</th>\n      <td>Person search</td>\n      <td>2020-09-01T06:48:00+00:00</td>\n      <td>NaN</td>\n      <td>52.477800</td>\n      <td>-1.898950</td>\n      <td>NaN</td>\n      <td>Misuse of Drugs Act 1971 (section 23)</td>\n      <td>A no further action disposal</td>\n    </tr>\n    <tr>\n      <th>2</th>\n      <td>Person search</td>\n      <td>2020-09-01T06:50:00+00:00</td>\n      <td>NaN</td>\n      <td>51.532400</td>\n      <td>0.003815</td>\n      <td>25-34</td>\n      <td>Misuse of Drugs Act 1971 (section 23)</td>\n      <td>A no further action disposal</td>\n    </tr>\n    <tr>\n      <th>3</th>\n      <td>Person search</td>\n      <td>2020-09-01T06:56:00+00:00</td>\n      <td>NaN</td>\n      <td>51.518500</td>\n      <td>-0.722864</td>\n      <td>25-34</td>\n      <td>Police and Criminal Evidence Act 1984 (section 1)</td>\n      <td>A no further action disposal</td>\n    </tr>\n    <tr>\n      <th>4</th>\n      <td>Person search</td>\n      <td>2020-09-01T07:05:00+00:00</td>\n      <td>NaN</td>\n      <td>51.532400</td>\n      <td>0.003815</td>\n      <td>over 34</td>\n      <td>Misuse of Drugs Act 1971 (section 23)</td>\n      <td>A no further action disposal</td>\n    </tr>\n    <tr>\n      <th>...</th>\n      <td>...</td>\n      <td>...</td>\n      <td>...</td>\n      <td>...</td>\n      <td>...</td>\n      <td>...</td>\n      <td>...</td>\n      <td>...</td>\n    </tr>\n    <tr>\n      <th>790</th>\n      <td>Person search</td>\n      <td>2020-08-31T17:00:00+00:00</td>\n      <td>NaN</td>\n      <td>51.504700</td>\n      <td>-0.218692</td>\n      <td>over 34</td>\n      <td>Police and Criminal Evidence Act 1984 (section 1)</td>\n      <td>Summons / charged by post</td>\n    </tr>\n    <tr>\n      <th>791</th>\n      <td>Person search</td>\n      <td>2020-08-31T17:25:00+00:00</td>\n      <td>NaN</td>\n      <td>51.523466</td>\n      <td>-0.155997</td>\n      <td>25-34</td>\n      <td>Police and Criminal Evidence Act 1984 (section 1)</td>\n      <td>A no further action disposal</td>\n    </tr>\n    <tr>\n      <th>792</th>\n      <td>Person search</td>\n      <td>2020-08-31T18:45:00+00:00</td>\n      <td>NaN</td>\n      <td>53.477512</td>\n      <td>-2.226586</td>\n      <td>25-34</td>\n      <td>Police and Criminal Evidence Act 1984 (section 1)</td>\n      <td>A no further action disposal</td>\n    </tr>\n    <tr>\n      <th>793</th>\n      <td>Person search</td>\n      <td>2020-08-31T18:50:00+00:00</td>\n      <td>NaN</td>\n      <td>53.477512</td>\n      <td>-2.226586</td>\n      <td>25-34</td>\n      <td>Police and Criminal Evidence Act 1984 (section 1)</td>\n      <td>A no further action disposal</td>\n    </tr>\n    <tr>\n      <th>794</th>\n      <td>Person search</td>\n      <td>2020-08-31T19:30:00+00:00</td>\n      <td>NaN</td>\n      <td>51.503381</td>\n      <td>-0.112226</td>\n      <td>25-34</td>\n      <td>Police and Criminal Evidence Act 1984 (section 1)</td>\n      <td>Arrest</td>\n    </tr>\n  </tbody>\n</table>\n<p>4086 rows × 8 columns</p>\n</div>"
     },
     "metadata": {}
    }
   ]
  },
  {
   "cell_type": "code",
   "metadata": {
    "cell_id": "f93d539c-be62-44ad-b1ee-4ce5744f57c9",
    "tags": [],
    "deepnote_to_be_reexecuted": false,
    "source_hash": "aaa8ebba",
    "execution_start": 1646567441208,
    "execution_millis": 0,
    "deepnote_cell_type": "code"
   },
   "source": "# if needed to export to csv, use:\ndf_str_btp_top.to_csv('btp_str_top_grouped.csv')",
   "execution_count": null,
   "outputs": []
  },
  {
   "cell_type": "markdown",
   "source": "<a style='text-decoration:none;line-height:16px;display:flex;color:#5B5B62;padding:10px;justify-content:end;' href='https://deepnote.com?utm_source=created-in-deepnote-cell&projectId=40789b9a-1c62-45b9-9d9c-b1a39ebe3dfd' target=\"_blank\">\n<img alt='Created in deepnote.com' style='display:inline;max-height:16px;margin:0px;margin-right:7.5px;' src='data:image/svg+xml;base64,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' > </img>\nCreated in <span style='font-weight:600;margin-left:4px;'>Deepnote</span></a>",
   "metadata": {
    "tags": [],
    "created_in_deepnote_cell": true,
    "deepnote_cell_type": "markdown"
   }
  }
 ],
 "nbformat": 4,
 "nbformat_minor": 5,
 "metadata": {
  "kernelspec": {
   "display_name": "Python 3 (ipykernel)",
   "language": "python",
   "name": "python3"
  },
  "language_info": {
   "codemirror_mode": {
    "name": "ipython",
    "version": 3
   },
   "file_extension": ".py",
   "mimetype": "text/x-python",
   "name": "python",
   "nbconvert_exporter": "python",
   "pygments_lexer": "ipython3",
   "version": "3.9.7"
  },
  "deepnote_notebook_id": "6a91b3b2-42c7-4112-a3d6-7dd7476a35b3",
  "deepnote": {},
  "deepnote_execution_queue": []
 }
}
