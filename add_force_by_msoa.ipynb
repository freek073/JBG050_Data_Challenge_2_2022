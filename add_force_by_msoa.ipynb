{
 "cells": [
  {
   "cell_type": "markdown",
   "source": "## Adding police force name\nThis notebook allows to recreate the police force name based on MSOA code. It also can be used to show all MSOAs in one police force.",
   "metadata": {
    "cell_id": "b5f98932a16f4f2ba34dcbe1ea19e905",
    "tags": [],
    "deepnote_cell_type": "markdown",
    "deepnote_cell_height": 108.390625
   }
  },
  {
   "cell_type": "code",
   "metadata": {
    "cell_id": "0f8b3c4069f54c75a35d010b9c1320c1",
    "tags": [],
    "deepnote_to_be_reexecuted": false,
    "source_hash": "96d65cdc",
    "execution_start": 1648560673252,
    "execution_millis": 0,
    "deepnote_cell_type": "code",
    "deepnote_cell_height": 351
   },
   "source": "import numpy as np\nimport matplotlib.pyplot as plt\nimport datetime\nimport time\nimport os\nimport re\n\nimport matplotlib.pyplot as plt\nimport numpy as np\nimport pandas as pd\nimport seaborn as sns\nfrom datetime import datetime\n\nimport tqdm as tq\nimport string\nimport statistics as stats",
   "outputs": [],
   "execution_count": null
  },
  {
   "cell_type": "code",
   "metadata": {
    "cell_id": "ae4de1a492b44f968be8fe27dfa8b6d7",
    "tags": [],
    "deepnote_to_be_reexecuted": false,
    "source_hash": "52a39633",
    "execution_start": 1648560673252,
    "execution_millis": 1144,
    "deepnote_cell_type": "code",
    "deepnote_cell_height": 99
   },
   "source": "# add here the file to which you want to add police force names\ndf = pd.read_csv('crime_type_per_month_msoa.csv')",
   "outputs": [],
   "execution_count": null
  },
  {
   "cell_type": "code",
   "metadata": {
    "tags": [],
    "cell_id": "9701cb21-4cf5-4957-9d7a-f7d6f8745177",
    "deepnote_to_be_reexecuted": false,
    "source_hash": "d44742cd",
    "execution_start": 1648560674399,
    "execution_millis": 23139,
    "deepnote_cell_type": "code",
    "deepnote_cell_height": 136.796875
   },
   "source": "codes = pd.read_csv('postcodes.csv')",
   "outputs": [
    {
     "name": "stderr",
     "text": "/shared-libs/python3.7/py-core/lib/python3.7/site-packages/IPython/core/interactiveshell.py:3229: DtypeWarning: Columns (7,17,18,21,22,24,25,29,32,39,47) have mixed types.Specify dtype option on import or set low_memory=False.\n  interactivity=interactivity, compiler=compiler, result=result)\n",
     "output_type": "stream"
    }
   ],
   "execution_count": null
  },
  {
   "cell_type": "code",
   "metadata": {
    "cell_id": "89683c952dfa45749e2b23aeb8ed10c0",
    "tags": [],
    "deepnote_to_be_reexecuted": false,
    "source_hash": "8c2b0f6d",
    "execution_start": 1648560697540,
    "execution_millis": 1219,
    "deepnote_cell_type": "code",
    "deepnote_cell_height": 81
   },
   "source": "codes = codes.rename(columns={'MSOA Code':'MSOA code'})",
   "outputs": [],
   "execution_count": null
  },
  {
   "cell_type": "code",
   "metadata": {
    "cell_id": "420db3f9e7724347af3087fc9be90749",
    "tags": [],
    "deepnote_to_be_reexecuted": false,
    "source_hash": "e5d6347",
    "execution_start": 1648560698759,
    "execution_millis": 712,
    "deepnote_cell_type": "code",
    "deepnote_cell_height": 117
   },
   "source": "codes = codes[['MSOA code', 'Police force']]\ncodes = codes[codes['Police force'] != 'Scotland']\ncodes = codes.drop_duplicates(subset='MSOA code')",
   "outputs": [],
   "execution_count": null
  },
  {
   "cell_type": "code",
   "metadata": {
    "cell_id": "588625c1961f4ec3aa1da39e347fb9ee",
    "tags": [],
    "deepnote_to_be_reexecuted": false,
    "source_hash": "8a69604a",
    "execution_start": 1648560699475,
    "execution_millis": 3,
    "deepnote_cell_type": "code",
    "deepnote_cell_height": 189
   },
   "source": "def add_force(df):\n    df2 = pd.merge(df, codes, on='MSOA code', how='left')\n    return df2\n\ndef get_msoas_for_force(df2, force_name: str):\n    df3 = df2[df2['Police force'].str.contains(force_name)]\n    return df3['MSOA code'].unique()",
   "outputs": [],
   "execution_count": null
  },
  {
   "cell_type": "code",
   "metadata": {
    "cell_id": "872dc52ab1ba4409a3ab0e65f48019d9",
    "tags": [],
    "deepnote_to_be_reexecuted": false,
    "source_hash": "b9e09f42",
    "execution_start": 1648560699540,
    "execution_millis": 88,
    "deepnote_table_state": {
     "pageSize": 10,
     "pageIndex": 2,
     "filters": [],
     "sortBy": []
    },
    "deepnote_table_loading": false,
    "deepnote_table_invalid": true,
    "deepnote_cell_type": "code",
    "deepnote_cell_height": 126
   },
   "source": "df_with_force = add_force(df)",
   "outputs": [],
   "execution_count": null
  },
  {
   "cell_type": "code",
   "source": "df_with_force[df_with_force['Police force'].contains('London')]",
   "metadata": {
    "cell_id": "c86887ed23a34973b1ca38482e6df881",
    "tags": [],
    "deepnote_to_be_reexecuted": false,
    "source_hash": "95255c77",
    "execution_start": 1648560834570,
    "execution_millis": 789,
    "deepnote_cell_type": "code",
    "deepnote_cell_height": 144.1875,
    "deepnote_output_heights": [
     232.390625
    ]
   },
   "outputs": [
    {
     "output_type": "error",
     "ename": "AttributeError",
     "evalue": "'Series' object has no attribute 'contains'",
     "traceback": [
      "\u001b[0;31m---------------------------------------------------------------------------\u001b[0m",
      "\u001b[0;31mAttributeError\u001b[0m                            Traceback (most recent call last)",
      "\u001b[0;32m<ipython-input-16-ea92c62cd2e4>\u001b[0m in \u001b[0;36m<module>\u001b[0;34m\u001b[0m\n\u001b[0;32m----> 1\u001b[0;31m \u001b[0mdf_with_force\u001b[0m\u001b[0;34m[\u001b[0m\u001b[0mdf_with_force\u001b[0m\u001b[0;34m[\u001b[0m\u001b[0;34m'Police force'\u001b[0m\u001b[0;34m]\u001b[0m\u001b[0;34m.\u001b[0m\u001b[0mcontains\u001b[0m\u001b[0;34m(\u001b[0m\u001b[0;34m'London'\u001b[0m\u001b[0;34m)\u001b[0m\u001b[0;34m]\u001b[0m\u001b[0;34m\u001b[0m\u001b[0;34m\u001b[0m\u001b[0m\n\u001b[0m",
      "\u001b[0;32m/shared-libs/python3.7/py/lib/python3.7/site-packages/pandas/core/generic.py\u001b[0m in \u001b[0;36m__getattr__\u001b[0;34m(self, name)\u001b[0m\n\u001b[1;32m   5463\u001b[0m             \u001b[0;32mif\u001b[0m \u001b[0mself\u001b[0m\u001b[0;34m.\u001b[0m\u001b[0m_info_axis\u001b[0m\u001b[0;34m.\u001b[0m\u001b[0m_can_hold_identifiers_and_holds_name\u001b[0m\u001b[0;34m(\u001b[0m\u001b[0mname\u001b[0m\u001b[0;34m)\u001b[0m\u001b[0;34m:\u001b[0m\u001b[0;34m\u001b[0m\u001b[0;34m\u001b[0m\u001b[0m\n\u001b[1;32m   5464\u001b[0m                 \u001b[0;32mreturn\u001b[0m \u001b[0mself\u001b[0m\u001b[0;34m[\u001b[0m\u001b[0mname\u001b[0m\u001b[0;34m]\u001b[0m\u001b[0;34m\u001b[0m\u001b[0;34m\u001b[0m\u001b[0m\n\u001b[0;32m-> 5465\u001b[0;31m             \u001b[0;32mreturn\u001b[0m \u001b[0mobject\u001b[0m\u001b[0;34m.\u001b[0m\u001b[0m__getattribute__\u001b[0m\u001b[0;34m(\u001b[0m\u001b[0mself\u001b[0m\u001b[0;34m,\u001b[0m \u001b[0mname\u001b[0m\u001b[0;34m)\u001b[0m\u001b[0;34m\u001b[0m\u001b[0;34m\u001b[0m\u001b[0m\n\u001b[0m\u001b[1;32m   5466\u001b[0m \u001b[0;34m\u001b[0m\u001b[0m\n\u001b[1;32m   5467\u001b[0m     \u001b[0;32mdef\u001b[0m \u001b[0m__setattr__\u001b[0m\u001b[0;34m(\u001b[0m\u001b[0mself\u001b[0m\u001b[0;34m,\u001b[0m \u001b[0mname\u001b[0m\u001b[0;34m:\u001b[0m \u001b[0mstr\u001b[0m\u001b[0;34m,\u001b[0m \u001b[0mvalue\u001b[0m\u001b[0;34m)\u001b[0m \u001b[0;34m->\u001b[0m \u001b[0;32mNone\u001b[0m\u001b[0;34m:\u001b[0m\u001b[0;34m\u001b[0m\u001b[0;34m\u001b[0m\u001b[0m\n",
      "\u001b[0;31mAttributeError\u001b[0m: 'Series' object has no attribute 'contains'"
     ]
    }
   ],
   "execution_count": null
  },
  {
   "cell_type": "code",
   "source": "df_with_force['Police force'].unique()",
   "metadata": {
    "cell_id": "284c084e0a8047a7b66849590cdf8d7f",
    "tags": [],
    "deepnote_to_be_reexecuted": false,
    "source_hash": "d018e603",
    "execution_start": 1648560866763,
    "execution_millis": 18,
    "deepnote_cell_type": "code",
    "deepnote_cell_height": 310.1875,
    "deepnote_output_heights": [
     213.1875
    ]
   },
   "outputs": [
    {
     "output_type": "execute_result",
     "execution_count": 17,
     "data": {
      "text/plain": "array(['City of London', 'Metropolitan Police', 'Greater Manchester',\n       'Merseyside', 'South Yorkshire', 'Northumbria', 'West Midlands',\n       'West Yorkshire', 'Cleveland', 'Durham', 'Cheshire', 'Lancashire',\n       'Humberside', 'North Yorkshire', 'Derbyshire', 'Leicestershire',\n       'Nottinghamshire', 'West Mercia', 'Staffordshire',\n       'Avon and Somerset', 'Devon & Cornwall', 'Dorset', 'Wiltshire',\n       'Cambridgeshire', 'Bedfordshire', 'Essex', 'Kent', 'Thames Valley',\n       'Sussex', 'Hampshire', 'Cumbria', 'Gloucestershire',\n       'Hertfordshire', 'Lincolnshire', 'Norfolk', 'Northamptonshire',\n       'Suffolk', 'Surrey', 'Warwickshire', 'North Wales', 'Dyfed-Powys',\n       'South Wales', 'Gwent'], dtype=object)"
     },
     "metadata": {}
    }
   ],
   "execution_count": null
  },
  {
   "cell_type": "code",
   "metadata": {
    "cell_id": "5aa40d9df2324f4f987fa3fe40ec917d",
    "tags": [],
    "deepnote_to_be_reexecuted": false,
    "source_hash": "a6104e5b",
    "execution_start": 1648203243367,
    "execution_millis": 8221,
    "deepnote_cell_type": "code",
    "deepnote_cell_height": 81
   },
   "source": "# df_with_force.to_csv('crime_type_per_month_msoa_with_force.csv')",
   "execution_count": null,
   "outputs": []
  },
  {
   "cell_type": "code",
   "metadata": {
    "cell_id": "61d31e1517a440c0ab87340447b3f2b2",
    "tags": [],
    "deepnote_to_be_reexecuted": false,
    "source_hash": "4297b604",
    "execution_start": 1648561253527,
    "execution_millis": 204,
    "deepnote_cell_type": "code",
    "deepnote_cell_height": 708,
    "deepnote_output_heights": [
     611
    ]
   },
   "source": "list(get_msoas_for_force(df_with_force, 'City of London')) #Norfolk, Lincolnshire, Gwent",
   "outputs": [
    {
     "output_type": "execute_result",
     "execution_count": 20,
     "data": {
      "text/plain": "['E02000001']"
     },
     "metadata": {}
    }
   ],
   "execution_count": null
  },
  {
   "cell_type": "code",
   "metadata": {
    "cell_id": "e90bb9c72fd0487398d01abc73e8f2bc",
    "tags": [],
    "deepnote_cell_type": "code",
    "deepnote_cell_height": 84
   },
   "source": "msoa_lst = \n]",
   "execution_count": null,
   "outputs": []
  },
  {
   "cell_type": "markdown",
   "source": "<a style='text-decoration:none;line-height:16px;display:flex;color:#5B5B62;padding:10px;justify-content:end;' href='https://deepnote.com?utm_source=created-in-deepnote-cell&projectId=40789b9a-1c62-45b9-9d9c-b1a39ebe3dfd' target=\"_blank\">\n<img alt='Created in deepnote.com' style='display:inline;max-height:16px;margin:0px;margin-right:7.5px;' src='data:image/svg+xml;base64,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' > </img>\nCreated in <span style='font-weight:600;margin-left:4px;'>Deepnote</span></a>",
   "metadata": {
    "tags": [],
    "created_in_deepnote_cell": true,
    "deepnote_cell_type": "markdown"
   }
  }
 ],
 "nbformat": 4,
 "nbformat_minor": 2,
 "metadata": {
  "orig_nbformat": 2,
  "deepnote": {
   "is_reactive": false
  },
  "deepnote_notebook_id": "0f758929-06fb-4ef0-8e4a-64b3c2673173",
  "deepnote_execution_queue": []
 }
}