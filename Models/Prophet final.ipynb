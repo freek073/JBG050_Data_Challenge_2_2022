{
 "cells": [
  {
   "cell_type": "code",
   "metadata": {
    "tags": [],
    "cell_id": "3fff2d0c-6824-4f2e-ab45-a3bef44cf84c",
    "deepnote_to_be_reexecuted": false,
    "source_hash": "871ae50e",
    "execution_start": 1648918434874,
    "execution_millis": 8212,
    "deepnote_cell_type": "code",
    "deepnote_cell_height": 719
   },
   "source": "! pip install --upgrade pip\n!pip install pystan==2.19.1.1 convertdate prophet",
   "outputs": [
    {
     "name": "stdout",
     "text": "Collecting pip\n  Downloading pip-22.0.4-py3-none-any.whl (2.1 MB)\n\u001b[K     |████████████████████████████████| 2.1 MB 31.0 MB/s \n\u001b[?25hInstalling collected packages: pip\n  Attempting uninstall: pip\n    Found existing installation: pip 20.1.1\n    Uninstalling pip-20.1.1:\n      Successfully uninstalled pip-20.1.1\nSuccessfully installed pip-22.0.4\nRequirement already satisfied: pystan==2.19.1.1 in /root/venv/lib/python3.7/site-packages (2.19.1.1)\nRequirement already satisfied: convertdate in /root/venv/lib/python3.7/site-packages (2.4.0)\nRequirement already satisfied: prophet in /root/venv/lib/python3.7/site-packages (1.0.1)\nRequirement already satisfied: numpy>=1.7 in /shared-libs/python3.7/py/lib/python3.7/site-packages (from pystan==2.19.1.1) (1.21.5)\nRequirement already satisfied: Cython!=0.25.1,>=0.22 in /root/venv/lib/python3.7/site-packages (from pystan==2.19.1.1) (0.29.28)\nRequirement already satisfied: pymeeus<=1,>=0.3.13 in /root/venv/lib/python3.7/site-packages (from convertdate) (0.5.11)\nRequirement already satisfied: cmdstanpy==0.9.68 in /root/venv/lib/python3.7/site-packages (from prophet) (0.9.68)\nRequirement already satisfied: pandas>=1.0.4 in /shared-libs/python3.7/py/lib/python3.7/site-packages (from prophet) (1.2.5)\nRequirement already satisfied: matplotlib>=2.0.0 in /shared-libs/python3.7/py/lib/python3.7/site-packages (from prophet) (3.5.1)\nRequirement already satisfied: LunarCalendar>=0.0.9 in /root/venv/lib/python3.7/site-packages (from prophet) (0.0.9)\nRequirement already satisfied: holidays>=0.10.2 in /root/venv/lib/python3.7/site-packages (from prophet) (0.13)\nRequirement already satisfied: setuptools-git>=1.2 in /root/venv/lib/python3.7/site-packages (from prophet) (1.2)\nRequirement already satisfied: python-dateutil>=2.8.0 in /shared-libs/python3.7/py-core/lib/python3.7/site-packages (from prophet) (2.8.2)\nRequirement already satisfied: tqdm>=4.36.1 in /shared-libs/python3.7/py/lib/python3.7/site-packages (from prophet) (4.63.0)\nRequirement already satisfied: ujson in /shared-libs/python3.7/py-core/lib/python3.7/site-packages (from cmdstanpy==0.9.68->prophet) (5.1.0)\nRequirement already satisfied: korean-lunar-calendar in /root/venv/lib/python3.7/site-packages (from holidays>=0.10.2->prophet) (0.2.1)\nRequirement already satisfied: hijri-converter in /root/venv/lib/python3.7/site-packages (from holidays>=0.10.2->prophet) (2.2.3)\nRequirement already satisfied: ephem>=3.7.5.3 in /root/venv/lib/python3.7/site-packages (from LunarCalendar>=0.0.9->prophet) (4.1.3)\nRequirement already satisfied: pytz in /shared-libs/python3.7/py/lib/python3.7/site-packages (from LunarCalendar>=0.0.9->prophet) (2022.1)\nRequirement already satisfied: pyparsing>=2.2.1 in /shared-libs/python3.7/py-core/lib/python3.7/site-packages (from matplotlib>=2.0.0->prophet) (3.0.7)\nRequirement already satisfied: kiwisolver>=1.0.1 in /shared-libs/python3.7/py/lib/python3.7/site-packages (from matplotlib>=2.0.0->prophet) (1.4.0)\nRequirement already satisfied: pillow>=6.2.0 in /shared-libs/python3.7/py/lib/python3.7/site-packages (from matplotlib>=2.0.0->prophet) (9.0.1)\nRequirement already satisfied: cycler>=0.10 in /shared-libs/python3.7/py/lib/python3.7/site-packages (from matplotlib>=2.0.0->prophet) (0.11.0)\nRequirement already satisfied: fonttools>=4.22.0 in /shared-libs/python3.7/py/lib/python3.7/site-packages (from matplotlib>=2.0.0->prophet) (4.31.2)\nRequirement already satisfied: packaging>=20.0 in /shared-libs/python3.7/py-core/lib/python3.7/site-packages (from matplotlib>=2.0.0->prophet) (21.3)\nRequirement already satisfied: six>=1.5 in /shared-libs/python3.7/py-core/lib/python3.7/site-packages (from python-dateutil>=2.8.0->prophet) (1.16.0)\nRequirement already satisfied: typing-extensions in /shared-libs/python3.7/py-core/lib/python3.7/site-packages (from kiwisolver>=1.0.1->matplotlib>=2.0.0->prophet) (4.1.1)\n",
     "output_type": "stream"
    }
   ],
   "execution_count": null
  },
  {
   "cell_type": "code",
   "metadata": {
    "cell_id": "2353ecf5cdb94e14a0661757adea17e9",
    "tags": [],
    "deepnote_to_be_reexecuted": false,
    "source_hash": "f988dbd",
    "execution_start": 1648918689015,
    "execution_millis": 3,
    "deepnote_cell_type": "code",
    "deepnote_cell_height": 315
   },
   "source": "import pandas as pd\nimport os\nimport tqdm as tq\nimport string\nimport statistics as stats\nimport re\nimport datetime\nimport numpy as np\npd.set_option('display.max_columns', None) # allows to display all columns of a large dataframe\nfrom prophet import Prophet\nfrom prophet.diagnostics import cross_validation\nfrom prophet.diagnostics import performance_metrics\nfrom prophet.plot import plot_cross_validation_metric\nimport plotly.graph_objs as go",
   "outputs": [],
   "execution_count": null
  },
  {
   "cell_type": "code",
   "metadata": {
    "cell_id": "0e0437c8ecb847389f221987eb44fa05",
    "tags": [],
    "deepnote_to_be_reexecuted": false,
    "source_hash": "59fccb3f",
    "execution_start": 1648918690445,
    "execution_millis": 4,
    "deepnote_cell_type": "code",
    "deepnote_cell_height": 657
   },
   "source": "msoa_lst = ['E02000001',\n 'W02000335',\n 'W02000336',\n 'W02000337',\n 'W02000338',\n 'W02000339',\n 'W02000340',\n 'W02000341',\n 'W02000342',\n 'W02000343',\n 'W02000344',\n 'W02000345',\n 'W02000346',\n 'W02000347',\n 'W02000348',\n 'W02000349',\n 'W02000350',\n 'W02000351',\n 'W02000352',\n 'W02000353',\n 'W02000354',\n 'W02000355',\n 'W02000356',\n 'W02000357',\n 'W02000358',\n 'W02000359',\n 'W02000360',\n 'W02000361',\n 'W02000362',\n 'W02000363',\n 'W02000364',\n 'W02000365',\n 'W02000366']",
   "outputs": [],
   "execution_count": null
  },
  {
   "cell_type": "code",
   "metadata": {
    "cell_id": "dc8215fb83a9483d9aea458e52c1f401",
    "tags": [],
    "deepnote_to_be_reexecuted": false,
    "source_hash": "f2077a9f",
    "execution_start": 1648918691801,
    "execution_millis": 1207,
    "deepnote_cell_type": "code",
    "deepnote_cell_height": 81
   },
   "source": "df = pd.read_csv('/work/Prophet testing/crimes_and_features.csv')",
   "outputs": [],
   "execution_count": null
  },
  {
   "cell_type": "code",
   "metadata": {
    "cell_id": "c956b4834ff84cbcb8df2a6a89a4ea48",
    "tags": [],
    "deepnote_to_be_reexecuted": false,
    "source_hash": "7abd95a5",
    "execution_start": 1648918446034,
    "execution_millis": 23,
    "deepnote_cell_type": "code",
    "deepnote_cell_height": 621
   },
   "source": "string = pd.read_csv('/work/Stringency Index/stringency.csv')\nstring['ds'] = pd.to_datetime(string['Month'])\n\n#Defining types of lockdowns\nno_lock = string[string['stringency_index'] == 0]['ds'].to_list()\nmed_lock = string[(string['stringency_index'] > 0) & (string['stringency_index'] < 50)]['ds'].to_list()\nhard_lock = string[(string['stringency_index'] >= 50)]['ds'].to_list()\n\n#Defining prophet 'holidays'\nno_lockdown = pd.DataFrame({\n    'holiday': 'no_lockdown',\n    'ds': no_lock,\n    'lower_window': 0,\n    'upper_window': 0,\n})\n\nmed_lockdown = pd.DataFrame({\n    'holiday': 'med_lockdown',\n    'ds': med_lock,\n    'lower_window': 0,\n    'upper_window': 0,\n})\n\nhard_lockdown = pd.DataFrame({\n    'holiday': 'hard_lockdown',\n    'ds': hard_lock,\n    'lower_window': 0,\n    'upper_window': 0,\n})\n\nholidays = pd.concat((no_lockdown, med_lockdown, hard_lockdown))",
   "outputs": [],
   "execution_count": null
  },
  {
   "cell_type": "code",
   "metadata": {
    "cell_id": "208ecf752e2a4e43bbfc77da05109925",
    "tags": [],
    "deepnote_to_be_reexecuted": false,
    "source_hash": "7548d478",
    "execution_start": 1648918699306,
    "execution_millis": 2,
    "deepnote_cell_type": "code",
    "deepnote_cell_height": 81
   },
   "source": "df_forecast = pd.DataFrame()",
   "outputs": [],
   "execution_count": null
  },
  {
   "cell_type": "code",
   "metadata": {
    "cell_id": "4f8d0dedb99d411d8357ccd3f1b66ce6",
    "tags": [],
    "deepnote_to_be_reexecuted": false,
    "source_hash": "a0f2a868",
    "execution_start": 1648918724119,
    "execution_millis": 48674,
    "deepnote_cell_type": "code",
    "deepnote_cell_height": 2246.984375,
    "deepnote_output_heights": [
     194,
     462.796875
    ]
   },
   "source": "for msoa in msoa_lst:\n    df2 = df[df['MSOA code'] == msoa]\n\n    #This loops over every crime type in the dataset and makes seperate predicitons about the amount of that type\n    #one year ahead of time, per month and prints a forecasting figure as result\n    i = 3\n    forecasts = []\n    crime_types = []\n    evaluations = []\n\n    while i<=17: #replace 3 by once dataset implemented df.count(axis='columns')\n\n        df_train2 = df2.iloc[:, [1, i]]\n        crime_type = df_train2.columns.values[1]\n        df_train2.columns.values[0] = \"ds\"\n        df_train2.columns.values[1] = \"y\"\n        df_train2.astype({'ds': 'datetime64[ns]'}).dtypes\n        m = Prophet(holidays = holidays)\n        m.fit(df_train2)\n\n        future = m.make_future_dataframe(periods=12, freq='MS')\n\n        forecast = m.predict(future)\n\n        df_all = forecast[['ds', 'yhat', 'yhat_lower', 'yhat_upper']]\n        df_all['Crime type'] = crime_type\n        df_all['MSOA code'] = msoa\n        \n        df_2020 = df_all.loc[70:81] #previous year\n        df_all = df_all.loc[82:] #predicted year\n\n        df_all['past_yhat'] = df_2020['yhat'].tolist()\n        df_all['past_yhat_lower'] = df_2020['yhat_lower'].tolist()\n        df_all['past_yhat_upper'] = df_2020['yhat_upper'].tolist()\n\n        df_all['change'] = ((df_all['yhat'] - df_all['past_yhat']) / df_all['past_yhat'])* 100 #overall change\n        df_all['change_min'] = ((df_all['yhat_lower'] - df_all['past_yhat_lower']) / df_all['past_yhat_lower'])* 100 #lower change\n        df_all['change_max'] = ((df_all['yhat_upper'] - df_all['past_yhat_upper']) / df_all['past_yhat_upper'])* 100 #upper change\n\n        df_forecast = df_forecast.append(df_all)\n        # Initial training period.\n        #initial= 30*70\n        #initial= str(initial)+' days'\n        #Period length that we perform the cross validation for.\n        #period = 30\n        #period=str(period)+' days'\n        #Horizon of prediction essentially for each fold.\n        #horizon = 61\n        #horizon=str(horizon)+' days'\n        #fb_cv=cross_validation(m,initial=initial,period=period, \n        #horizon=horizon)\n        # Performance Metrics of fb_cv\n        #evaluation = performance_metrics(fb_cv, monthly =True, rolling_window=0.1)\n        #evaluations.append(evaluation)\n\n        i +=1",
   "outputs": [
    {
     "name": "stderr",
     "text": "/shared-libs/python3.7/py-core/lib/python3.7/site-packages/ipykernel_launcher.py:18: SettingWithCopyWarning: \nA value is trying to be set on a copy of a slice from a DataFrame.\nTry using .loc[row_indexer,col_indexer] = value instead\n\nSee the caveats in the documentation: https://pandas.pydata.org/pandas-docs/stable/user_guide/indexing.html#returning-a-view-versus-a-copy\nINFO:prophet:Disabling weekly seasonality. Run prophet with weekly_seasonality=True to override this.\nINFO:prophet:Disabling daily seasonality. Run prophet with daily_seasonality=True to override this.\n/shared-libs/python3.7/py-core/lib/python3.7/site-packages/ipykernel_launcher.py:30: SettingWithCopyWarning: \nA value is trying to be set on a copy of a slice from a DataFrame.\nTry using .loc[row_indexer,col_indexer] = value instead\n\nSee the caveats in the documentation: https://pandas.pydata.org/pandas-docs/stable/user_guide/indexing.html#returning-a-view-versus-a-copy\n/shared-libs/python3.7/py-core/lib/python3.7/site-packages/ipykernel_launcher.py:31: SettingWithCopyWarning: \nA value is trying to be set on a copy of a slice from a DataFrame.\nTry using .loc[row_indexer,col_indexer] = value instead\n\nSee the caveats in the documentation: https://pandas.pydata.org/pandas-docs/stable/user_guide/indexing.html#returning-a-view-versus-a-copy\n/shared-libs/python3.7/py-core/lib/python3.7/site-packages/ipykernel_launcher.py:18: SettingWithCopyWarning: \nA value is trying to be set on a copy of a slice from a DataFrame.\nTry using .loc[row_indexer,col_indexer] = value instead\n\nSee the caveats in the documentation: https://pandas.pydata.org/pandas-docs/stable/user_guide/indexing.html#returning-a-view-versus-a-copy\nINFO:prophet:Disabling weekly seasonality. Run prophet with weekly_seasonality=True to override this.\nINFO:prophet:Disabling daily seasonality. Run prophet with daily_seasonality=True to override this.\n/shared-libs/python3.7/py-core/lib/python3.7/site-packages/ipykernel_launcher.py:30: SettingWithCopyWarning: \nA value is trying to be set on a copy of a slice from a DataFrame.\nTry using .loc[row_indexer,col_indexer] = value instead\n\nSee the caveats in the documentation: https://pandas.pydata.org/pandas-docs/stable/user_guide/indexing.html#returning-a-view-versus-a-copy\n/shared-libs/python3.7/py-core/lib/python3.7/site-packages/ipykernel_launcher.py:31: SettingWithCopyWarning: \nA value is trying to be set on a copy of a slice from a DataFrame.\nTry using .loc[row_indexer,col_indexer] = value instead\n\nSee the caveats in the documentation: https://pandas.pydata.org/pandas-docs/stable/user_guide/indexing.html#returning-a-view-versus-a-copy\n/shared-libs/python3.7/py-core/lib/python3.7/site-packages/ipykernel_launcher.py:18: SettingWithCopyWarning: \nA value is trying to be set on a copy of a slice from a DataFrame.\nTry using .loc[row_indexer,col_indexer] = value instead\n\nSee the caveats in the documentation: https://pandas.pydata.org/pandas-docs/stable/user_guide/indexing.html#returning-a-view-versus-a-copy\nINFO:prophet:Disabling weekly seasonality. Run prophet with weekly_seasonality=True to override this.\nINFO:prophet:Disabling daily seasonality. Run prophet with daily_seasonality=True to override this.\n/shared-libs/python3.7/py-core/lib/python3.7/site-packages/ipykernel_launcher.py:30: SettingWithCopyWarning: \nA value is trying to be set on a copy of a slice from a DataFrame.\nTry using .loc[row_indexer,col_indexer] = value instead\n\nSee the caveats in the documentation: https://pandas.pydata.org/pandas-docs/stable/user_guide/indexing.html#returning-a-view-versus-a-copy\n/shared-libs/python3.7/py-core/lib/python3.7/site-packages/ipykernel_launcher.py:31: SettingWithCopyWarning: \nA value is trying to be set on a copy of a slice from a DataFrame.\nTry using .loc[row_indexer,col_indexer] = value instead\n\nSee the caveats in the documentation: https://pandas.pydata.org/pandas-docs/stable/user_guide/indexing.html#returning-a-view-versus-a-copy\n/shared-libs/python3.7/py-core/lib/python3.7/site-packages/ipykernel_launcher.py:18: SettingWithCopyWarning: \nA value is trying to be set on a copy of a slice from a DataFrame.\nTry using .loc[row_indexer,col_indexer] = value instead\n\nSee the caveats in the documentation: https://pandas.pydata.org/pandas-docs/stable/user_guide/indexing.html#returning-a-view-versus-a-copy\nINFO:prophet:Disabling weekly seasonality. Run prophet with weekly_seasonality=True to override this.\nINFO:prophet:Disabling daily seasonality. Run prophet with daily_seasonality=True to override this.\n/shared-libs/python3.7/py-core/lib/python3.7/site-packages/ipykernel_launcher.py:30: SettingWithCopyWarning: \nA value is trying to be set on a copy of a slice from a DataFrame.\nTry using .loc[row_indexer,col_indexer] = value instead\n\nSee the caveats in the documentation: https://pandas.pydata.org/pandas-docs/stable/user_guide/indexing.html#returning-a-view-versus-a-copy\n/shared-libs/python3.7/py-core/lib/python3.7/site-packages/ipykernel_launcher.py:31: SettingWithCopyWarning: \nA value is trying to be set on a copy of a slice from a DataFrame.\nTry using .loc[row_indexer,col_indexer] = value instead\n\nSee the caveats in the documentation: https://pandas.pydata.org/pandas-docs/stable/user_guide/indexing.html#returning-a-view-versus-a-copy\n/shared-libs/python3.7/py-core/lib/python3.7/site-packages/ipykernel_launcher.py:18: SettingWithCopyWarning: \nA value is trying to be set on a copy of a slice from a DataFrame.\nTry using .loc[row_indexer,col_indexer] = value instead\n\nSee the caveats in the documentation: https://pandas.pydata.org/pandas-docs/stable/user_guide/indexing.html#returning-a-view-versus-a-copy\nINFO:prophet:Disabling weekly seasonality. Run prophet with weekly_seasonality=True to override this.\nINFO:prophet:Disabling daily seasonality. Run prophet with daily_seasonality=True to override this.\n/shared-libs/python3.7/py-core/lib/python3.7/site-packages/ipykernel_launcher.py:30: SettingWithCopyWarning: \nA value is trying to be set on a copy of a slice from a DataFrame.\nTry using .loc[row_indexer,col_indexer] = value instead\n\nSee the caveats in the documentation: https://pandas.pydata.org/pandas-docs/stable/user_guide/indexing.html#returning-a-view-versus-a-copy\n/shared-libs/python3.7/py-core/lib/python3.7/site-packages/ipykernel_launcher.py:31: SettingWithCopyWarning: \nA value is trying to be set on a copy of a slice from a DataFrame.\nTry using .loc[row_indexer,col_indexer] = value instead\n\nSee the caveats in the documentation: https://pandas.pydata.org/pandas-docs/stable/user_guide/indexing.html#returning-a-view-versus-a-copy\n/shared-libs/python3.7/py-core/lib/python3.7/site-packages/ipykernel_launcher.py:18: SettingWithCopyWarning: \nA value is trying to be set on a copy of a slice from a DataFrame.\nTry using .loc[row_indexer,col_indexer] = value instead\n\nSee the caveats in the documentation: https://pandas.pydata.org/pandas-docs/stable/user_guide/indexing.html#returning-a-view-versus-a-copy\nINFO:prophet:Disabling weekly seasonality. Run prophet with weekly_seasonality=True to override this.\nINFO:prophet:Disabling daily seasonality. Run prophet with daily_seasonality=True to override this.\n/shared-libs/python3.7/py-core/lib/python3.7/site-packages/ipykernel_launcher.py:30: SettingWithCopyWarning: \nA value is trying to be set on a copy of a slice from a DataFrame.\nTry using .loc[row_indexer,col_indexer] = value instead\n\nSee the caveats in the documentation: https://pandas.pydata.org/pandas-docs/stable/user_guide/indexing.html#returning-a-view-versus-a-copy\n/shared-libs/python3.7/py-core/lib/python3.7/site-packages/ipykernel_launcher.py:31: SettingWithCopyWarning: \nA value is trying to be set on a copy of a slice from a DataFrame.\nTry using .loc[row_indexer,col_indexer] = value instead\n\nSee the caveats in the documentation: https://pandas.pydata.org/pandas-docs/stable/user_guide/indexing.html#returning-a-view-versus-a-copy\n/shared-libs/python3.7/py-core/lib/python3.7/site-packages/ipykernel_launcher.py:18: SettingWithCopyWarning: \nA value is trying to be set on a copy of a slice from a DataFrame.\nTry using .loc[row_indexer,col_indexer] = value instead\n\nSee the caveats in the documentation: https://pandas.pydata.org/pandas-docs/stable/user_guide/indexing.html#returning-a-view-versus-a-copy\nINFO:prophet:Disabling weekly seasonality. Run prophet with weekly_seasonality=True to override this.\nINFO:prophet:Disabling daily seasonality. Run prophet with daily_seasonality=True to override this.\n/shared-libs/python3.7/py-core/lib/python3.7/site-packages/ipykernel_launcher.py:30: SettingWithCopyWarning: \nA value is trying to be set on a copy of a slice from a DataFrame.\nTry using .loc[row_indexer,col_indexer] = value instead\n\nSee the caveats in the documentation: https://pandas.pydata.org/pandas-docs/stable/user_guide/indexing.html#returning-a-view-versus-a-copy\n/shared-libs/python3.7/py-core/lib/python3.7/site-packages/ipykernel_launcher.py:31: SettingWithCopyWarning: \nA value is trying to be set on a copy of a slice from a DataFrame.\nTry using .loc[row_indexer,col_indexer] = value instead\n\nSee the caveats in the documentation: https://pandas.pydata.org/pandas-docs/stable/user_guide/indexing.html#returning-a-view-versus-a-copy\n/shared-libs/python3.7/py-core/lib/python3.7/site-packages/ipykernel_launcher.py:18: SettingWithCopyWarning: \nA value is trying to be set on a copy of a slice from a DataFrame.\nTry using .loc[row_indexer,col_indexer] = value instead\n\nSee the caveats in the documentation: https://pandas.pydata.org/pandas-docs/stable/user_guide/indexing.html#returning-a-view-versus-a-copy\nINFO:prophet:Disabling weekly seasonality. Run prophet with weekly_seasonality=True to override this.\nINFO:prophet:Disabling daily seasonality. Run prophet with daily_seasonality=True to override this.\n/shared-libs/python3.7/py-core/lib/python3.7/site-packages/ipykernel_launcher.py:30: SettingWithCopyWarning: \nA value is trying to be set on a copy of a slice from a DataFrame.\nTry using .loc[row_indexer,col_indexer] = value instead\n\nSee the caveats in the documentation: https://pandas.pydata.org/pandas-docs/stable/user_guide/indexing.html#returning-a-view-versus-a-copy\n/shared-libs/python3.7/py-core/lib/python3.7/site-packages/ipykernel_launcher.py:31: SettingWithCopyWarning: \nA value is trying to be set on a copy of a slice from a DataFrame.\nTry using .loc[row_indexer,col_indexer] = value instead\n\nSee the caveats in the documentation: https://pandas.pydata.org/pandas-docs/stable/user_guide/indexing.html#returning-a-view-versus-a-copy\n/shared-libs/python3.7/py-core/lib/python3.7/site-packages/ipykernel_launcher.py:18: SettingWithCopyWarning: \nA value is trying to be set on a copy of a slice from a DataFrame.\nTry using .loc[row_indexer,col_indexer] = value instead\n\nSee the caveats in the documentation: https://pandas.pydata.org/pandas-docs/stable/user_guide/indexing.html#returning-a-view-versus-a-copy\nINFO:prophet:Disabling weekly seasonality. Run prophet with weekly_seasonality=True to override this.\nINFO:prophet:Disabling daily seasonality. Run prophet with daily_seasonality=True to override this.\n/shared-libs/python3.7/py-core/lib/python3.7/site-packages/ipykernel_launcher.py:30: SettingWithCopyWarning: \nA value is trying to be set on a copy of a slice from a DataFrame.\nTry using .loc[row_indexer,col_indexer] = value instead\n\nSee the caveats in the documentation: https://pandas.pydata.org/pandas-docs/stable/user_guide/indexing.html#returning-a-view-versus-a-copy\n/shared-libs/python3.7/py-core/lib/python3.7/site-packages/ipykernel_launcher.py:31: SettingWithCopyWarning: \nA value is trying to be set on a copy of a slice from a DataFrame.\nTry using .loc[row_indexer,col_indexer] = value instead\n\nSee the caveats in the documentation: https://pandas.pydata.org/pandas-docs/stable/user_guide/indexing.html#returning-a-view-versus-a-copy\n/shared-libs/python3.7/py-core/lib/python3.7/site-packages/ipykernel_launcher.py:18: SettingWithCopyWarning: \nA value is trying to be set on a copy of a slice from a DataFrame.\nTry using .loc[row_indexer,col_indexer] = value instead\n\nSee the caveats in the documentation: https://pandas.pydata.org/pandas-docs/stable/user_guide/indexing.html#returning-a-view-versus-a-copy\nINFO:prophet:Disabling weekly seasonality. Run prophet with weekly_seasonality=True to override this.\nINFO:prophet:Disabling daily seasonality. Run prophet with daily_seasonality=True to override this.\n/shared-libs/python3.7/py-core/lib/python3.7/site-packages/ipykernel_launcher.py:30: SettingWithCopyWarning: \nA value is trying to be set on a copy of a slice from a DataFrame.\nTry using .loc[row_indexer,col_indexer] = value instead\n\nSee the caveats in the documentation: https://pandas.pydata.org/pandas-docs/stable/user_guide/indexing.html#returning-a-view-versus-a-copy\n/shared-libs/python3.7/py-core/lib/python3.7/site-packages/ipykernel_launcher.py:31: SettingWithCopyWarning: \nA value is trying to be set on a copy of a slice from a DataFrame.\nTry using .loc[row_indexer,col_indexer] = value instead\n\nSee the caveats in the documentation: https://pandas.pydata.org/pandas-docs/stable/user_guide/indexing.html#returning-a-view-versus-a-copy\n/shared-libs/python3.7/py-core/lib/python3.7/site-packages/ipykernel_launcher.py:18: SettingWithCopyWarning: \nA value is trying to be set on a copy of a slice from a DataFrame.\nTry using .loc[row_indexer,col_indexer] = value instead\n\nSee the caveats in the documentation: https://pandas.pydata.org/pandas-docs/stable/user_guide/indexing.html#returning-a-view-versus-a-copy\nINFO:prophet:Disabling weekly seasonality. Run prophet with weekly_seasonality=True to override this.\nINFO:prophet:Disabling daily seasonality. Run prophet with daily_seasonality=True to override this.\n/shared-libs/python3.7/py-core/lib/python3.7/site-packages/ipykernel_launcher.py:30: SettingWithCopyWarning: \nA value is trying to be set on a copy of a slice from a DataFrame.\nTry using .loc[row_indexer,col_indexer] = value instead\n\nSee the caveats in the documentation: https://pandas.pydata.org/pandas-docs/stable/user_guide/indexing.html#returning-a-view-versus-a-copy\n/shared-libs/python3.7/py-core/lib/python3.7/site-packages/ipykernel_launcher.py:31: SettingWithCopyWarning: \nA value is trying to be set on a copy of a slice from a DataFrame.\nTry using .loc[row_indexer,col_indexer] = value instead\n\nSee the caveats in the documentation: https://pandas.pydata.org/pandas-docs/stable/user_guide/indexing.html#returning-a-view-versus-a-copy\n/shared-libs/python3.7/py-core/lib/python3.7/site-packages/ipykernel_launcher.py:18: SettingWithCopyWarning: \nA value is trying to be set on a copy of a slice from a DataFrame.\nTry using .loc[row_indexer,col_indexer] = value instead\n\nSee the caveats in the documentation: https://pandas.pydata.org/pandas-docs/stable/user_guide/indexing.html#returning-a-view-versus-a-copy\nINFO:prophet:Disabling weekly seasonality. Run prophet with weekly_seasonality=True to override this.\nINFO:prophet:Disabling daily seasonality. Run prophet with daily_seasonality=True to override this.\n/shared-libs/python3.7/py-core/lib/python3.7/site-packages/ipykernel_launcher.py:30: SettingWithCopyWarning: \nA value is trying to be set on a copy of a slice from a DataFrame.\nTry using .loc[row_indexer,col_indexer] = value instead\n\nSee the caveats in the documentation: https://pandas.pydata.org/pandas-docs/stable/user_guide/indexing.html#returning-a-view-versus-a-copy\n/shared-libs/python3.7/py-core/lib/python3.7/site-packages/ipykernel_launcher.py:31: SettingWithCopyWarning: \nA value is trying to be set on a copy of a slice from a DataFrame.\nTry using .loc[row_indexer,col_indexer] = value instead\n\nSee the caveats in the documentation: https://pandas.pydata.org/pandas-docs/stable/user_guide/indexing.html#returning-a-view-versus-a-copy\n/shared-libs/python3.7/py-core/lib/python3.7/site-packages/ipykernel_launcher.py:18: SettingWithCopyWarning: \nA value is trying to be set on a copy of a slice from a DataFrame.\nTry using .loc[row_indexer,col_indexer] = value instead\n\nSee the caveats in the documentation: https://pandas.pydata.org/pandas-docs/stable/user_guide/indexing.html#returning-a-view-versus-a-copy\nINFO:prophet:Disabling weekly seasonality. Run prophet with weekly_seasonality=True to override this.\nINFO:prophet:Disabling daily seasonality. Run prophet with daily_seasonality=True to override this.\n/shared-libs/python3.7/py-core/lib/python3.7/site-packages/ipykernel_launcher.py:30: SettingWithCopyWarning: \nA value is trying to be set on a copy of a slice from a DataFrame.\nTry using .loc[row_indexer,col_indexer] = value instead\n\nSee the caveats in the documentation: https://pandas.pydata.org/pandas-docs/stable/user_guide/indexing.html#returning-a-view-versus-a-copy\n/shared-libs/python3.7/py-core/lib/python3.7/site-packages/ipykernel_launcher.py:31: SettingWithCopyWarning: \nA value is trying to be set on a copy of a slice from a DataFrame.\nTry using .loc[row_indexer,col_indexer] = value instead\n\nSee the caveats in the documentation: https://pandas.pydata.org/pandas-docs/stable/user_guide/indexing.html#returning-a-view-versus-a-copy\n/shared-libs/python3.7/py-core/lib/python3.7/site-packages/ipykernel_launcher.py:18: SettingWithCopyWarning: \nA value is trying to be set on a copy of a slice from a DataFrame.\nTry using .loc[row_indexer,col_indexer] = value instead\n\nSee the caveats in the documentation: https://pandas.pydata.org/pandas-docs/stable/user_guide/indexing.html#returning-a-view-versus-a-copy\nINFO:prophet:Disabling weekly seasonality. Run prophet with weekly_seasonality=True to override this.\nINFO:prophet:Disabling daily seasonality. Run prophet with daily_seasonality=True to override this.\n/shared-libs/python3.7/py-core/lib/python3.7/site-packages/ipykernel_launcher.py:30: SettingWithCopyWarning: \nA value is trying to be set on a copy of a slice from a DataFrame.\nTry using .loc[row_indexer,col_indexer] = value instead\n\nSee the caveats in the documentation: https://pandas.pydata.org/pandas-docs/stable/user_guide/indexing.html#returning-a-view-versus-a-copy\n/shared-libs/python3.7/py-core/lib/python3.7/site-packages/ipykernel_launcher.py:31: SettingWithCopyWarning: \nA value is trying to be set on a copy of a slice from a DataFrame.\nTry using .loc[row_indexer,col_indexer] = value instead\n\nSee the caveats in the documentation: https://pandas.pydata.org/pandas-docs/stable/user_guide/indexing.html#returning-a-view-versus-a-copy\n/shared-libs/python3.7/py-core/lib/python3.7/site-packages/ipykernel_launcher.py:18: SettingWithCopyWarning: \nA value is trying to be set on a copy of a slice from a DataFrame.\nTry using .loc[row_indexer,col_indexer] = value instead\n\nSee the caveats in the documentation: https://pandas.pydata.org/pandas-docs/stable/user_guide/indexing.html#returning-a-view-versus-a-copy\nINFO:prophet:Disabling weekly seasonality. Run prophet with weekly_seasonality=True to override this.\nINFO:prophet:Disabling daily seasonality. Run prophet with daily_seasonality=True to override this.\n/shared-libs/python3.7/py-core/lib/python3.7/site-packages/ipykernel_launcher.py:30: SettingWithCopyWarning: \nA value is trying to be set on a copy of a slice from a DataFrame.\nTry using .loc[row_indexer,col_indexer] = value instead\n\nSee the caveats in the documentation: https://pandas.pydata.org/pandas-docs/stable/user_guide/indexing.html#returning-a-view-versus-a-copy\n/shared-libs/python3.7/py-core/lib/python3.7/site-packages/ipykernel_launcher.py:31: SettingWithCopyWarning: \nA value is trying to be set on a copy of a slice from a DataFrame.\nTry using .loc[row_indexer,col_indexer] = value instead\n\nSee the caveats in the documentation: https://pandas.pydata.org/pandas-docs/stable/user_guide/indexing.html#returning-a-view-versus-a-copy\n/shared-libs/python3.7/py/lib/python3.7/site-packages/pandas/core/arraylike.py:358: RuntimeWarning: divide by zero encountered in log\n  result = getattr(ufunc, method)(*inputs, **kwargs)\n/shared-libs/python3.7/py-core/lib/python3.7/site-packages/ipykernel_launcher.py:18: SettingWithCopyWarning: \nA value is trying to be set on a copy of a slice from a DataFrame.\nTry using .loc[row_indexer,col_indexer] = value instead\n\nSee the caveats in the documentation: https://pandas.pydata.org/pandas-docs/stable/user_guide/indexing.html#returning-a-view-versus-a-copy\n",
     "output_type": "stream"
    },
    {
     "output_type": "error",
     "ename": "ValueError",
     "evalue": "Found infinity in column y.",
     "traceback": [
      "\u001b[0;31m---------------------------------------------------------------------------\u001b[0m",
      "\u001b[0;31mValueError\u001b[0m                                Traceback (most recent call last)",
      "\u001b[0;32m<ipython-input-13-73f05a4f9ec1>\u001b[0m in \u001b[0;36m<module>\u001b[0;34m\u001b[0m\n\u001b[1;32m     18\u001b[0m         \u001b[0mdf_train2\u001b[0m\u001b[0;34m[\u001b[0m\u001b[0;34m'y'\u001b[0m\u001b[0;34m]\u001b[0m \u001b[0;34m=\u001b[0m \u001b[0mnp\u001b[0m\u001b[0;34m.\u001b[0m\u001b[0mlog\u001b[0m\u001b[0;34m(\u001b[0m\u001b[0mdf_train2\u001b[0m\u001b[0;34m[\u001b[0m\u001b[0;34m'y'\u001b[0m\u001b[0;34m]\u001b[0m\u001b[0;34m)\u001b[0m \u001b[0;31m#changed this\u001b[0m\u001b[0;34m\u001b[0m\u001b[0;34m\u001b[0m\u001b[0m\n\u001b[1;32m     19\u001b[0m         \u001b[0mm\u001b[0m \u001b[0;34m=\u001b[0m \u001b[0mProphet\u001b[0m\u001b[0;34m(\u001b[0m\u001b[0mholidays\u001b[0m \u001b[0;34m=\u001b[0m \u001b[0mholidays\u001b[0m\u001b[0;34m)\u001b[0m\u001b[0;34m\u001b[0m\u001b[0;34m\u001b[0m\u001b[0m\n\u001b[0;32m---> 20\u001b[0;31m         \u001b[0mm\u001b[0m\u001b[0;34m.\u001b[0m\u001b[0mfit\u001b[0m\u001b[0;34m(\u001b[0m\u001b[0mdf_train2\u001b[0m\u001b[0;34m)\u001b[0m\u001b[0;34m\u001b[0m\u001b[0;34m\u001b[0m\u001b[0m\n\u001b[0m\u001b[1;32m     21\u001b[0m \u001b[0;34m\u001b[0m\u001b[0m\n\u001b[1;32m     22\u001b[0m         \u001b[0mfuture\u001b[0m \u001b[0;34m=\u001b[0m \u001b[0mm\u001b[0m\u001b[0;34m.\u001b[0m\u001b[0mmake_future_dataframe\u001b[0m\u001b[0;34m(\u001b[0m\u001b[0mperiods\u001b[0m\u001b[0;34m=\u001b[0m\u001b[0;36m12\u001b[0m\u001b[0;34m,\u001b[0m \u001b[0mfreq\u001b[0m\u001b[0;34m=\u001b[0m\u001b[0;34m'MS'\u001b[0m\u001b[0;34m)\u001b[0m\u001b[0;34m\u001b[0m\u001b[0;34m\u001b[0m\u001b[0m\n",
      "\u001b[0;32m~/venv/lib/python3.7/site-packages/prophet/forecaster.py\u001b[0m in \u001b[0;36mfit\u001b[0;34m(self, df, **kwargs)\u001b[0m\n\u001b[1;32m   1114\u001b[0m         \u001b[0mself\u001b[0m\u001b[0;34m.\u001b[0m\u001b[0mhistory_dates\u001b[0m \u001b[0;34m=\u001b[0m \u001b[0mpd\u001b[0m\u001b[0;34m.\u001b[0m\u001b[0mto_datetime\u001b[0m\u001b[0;34m(\u001b[0m\u001b[0mpd\u001b[0m\u001b[0;34m.\u001b[0m\u001b[0mSeries\u001b[0m\u001b[0;34m(\u001b[0m\u001b[0mdf\u001b[0m\u001b[0;34m[\u001b[0m\u001b[0;34m'ds'\u001b[0m\u001b[0;34m]\u001b[0m\u001b[0;34m.\u001b[0m\u001b[0munique\u001b[0m\u001b[0;34m(\u001b[0m\u001b[0;34m)\u001b[0m\u001b[0;34m,\u001b[0m \u001b[0mname\u001b[0m\u001b[0;34m=\u001b[0m\u001b[0;34m'ds'\u001b[0m\u001b[0;34m)\u001b[0m\u001b[0;34m)\u001b[0m\u001b[0;34m.\u001b[0m\u001b[0msort_values\u001b[0m\u001b[0;34m(\u001b[0m\u001b[0;34m)\u001b[0m\u001b[0;34m\u001b[0m\u001b[0;34m\u001b[0m\u001b[0m\n\u001b[1;32m   1115\u001b[0m \u001b[0;34m\u001b[0m\u001b[0m\n\u001b[0;32m-> 1116\u001b[0;31m         \u001b[0mhistory\u001b[0m \u001b[0;34m=\u001b[0m \u001b[0mself\u001b[0m\u001b[0;34m.\u001b[0m\u001b[0msetup_dataframe\u001b[0m\u001b[0;34m(\u001b[0m\u001b[0mhistory\u001b[0m\u001b[0;34m,\u001b[0m \u001b[0minitialize_scales\u001b[0m\u001b[0;34m=\u001b[0m\u001b[0;32mTrue\u001b[0m\u001b[0;34m)\u001b[0m\u001b[0;34m\u001b[0m\u001b[0;34m\u001b[0m\u001b[0m\n\u001b[0m\u001b[1;32m   1117\u001b[0m         \u001b[0mself\u001b[0m\u001b[0;34m.\u001b[0m\u001b[0mhistory\u001b[0m \u001b[0;34m=\u001b[0m \u001b[0mhistory\u001b[0m\u001b[0;34m\u001b[0m\u001b[0;34m\u001b[0m\u001b[0m\n\u001b[1;32m   1118\u001b[0m         \u001b[0mself\u001b[0m\u001b[0;34m.\u001b[0m\u001b[0mset_auto_seasonalities\u001b[0m\u001b[0;34m(\u001b[0m\u001b[0;34m)\u001b[0m\u001b[0;34m\u001b[0m\u001b[0;34m\u001b[0m\u001b[0m\n",
      "\u001b[0;32m~/venv/lib/python3.7/site-packages/prophet/forecaster.py\u001b[0m in \u001b[0;36msetup_dataframe\u001b[0;34m(self, df, initialize_scales)\u001b[0m\n\u001b[1;32m    262\u001b[0m             \u001b[0mdf\u001b[0m\u001b[0;34m[\u001b[0m\u001b[0;34m'y'\u001b[0m\u001b[0;34m]\u001b[0m \u001b[0;34m=\u001b[0m \u001b[0mpd\u001b[0m\u001b[0;34m.\u001b[0m\u001b[0mto_numeric\u001b[0m\u001b[0;34m(\u001b[0m\u001b[0mdf\u001b[0m\u001b[0;34m[\u001b[0m\u001b[0;34m'y'\u001b[0m\u001b[0;34m]\u001b[0m\u001b[0;34m)\u001b[0m\u001b[0;34m\u001b[0m\u001b[0;34m\u001b[0m\u001b[0m\n\u001b[1;32m    263\u001b[0m             \u001b[0;32mif\u001b[0m \u001b[0mnp\u001b[0m\u001b[0;34m.\u001b[0m\u001b[0misinf\u001b[0m\u001b[0;34m(\u001b[0m\u001b[0mdf\u001b[0m\u001b[0;34m[\u001b[0m\u001b[0;34m'y'\u001b[0m\u001b[0;34m]\u001b[0m\u001b[0;34m.\u001b[0m\u001b[0mvalues\u001b[0m\u001b[0;34m)\u001b[0m\u001b[0;34m.\u001b[0m\u001b[0many\u001b[0m\u001b[0;34m(\u001b[0m\u001b[0;34m)\u001b[0m\u001b[0;34m:\u001b[0m\u001b[0;34m\u001b[0m\u001b[0;34m\u001b[0m\u001b[0m\n\u001b[0;32m--> 264\u001b[0;31m                 \u001b[0;32mraise\u001b[0m \u001b[0mValueError\u001b[0m\u001b[0;34m(\u001b[0m\u001b[0;34m'Found infinity in column y.'\u001b[0m\u001b[0;34m)\u001b[0m\u001b[0;34m\u001b[0m\u001b[0;34m\u001b[0m\u001b[0m\n\u001b[0m\u001b[1;32m    265\u001b[0m         \u001b[0;32mif\u001b[0m \u001b[0mdf\u001b[0m\u001b[0;34m[\u001b[0m\u001b[0;34m'ds'\u001b[0m\u001b[0;34m]\u001b[0m\u001b[0;34m.\u001b[0m\u001b[0mdtype\u001b[0m \u001b[0;34m==\u001b[0m \u001b[0mnp\u001b[0m\u001b[0;34m.\u001b[0m\u001b[0mint64\u001b[0m\u001b[0;34m:\u001b[0m\u001b[0;34m\u001b[0m\u001b[0;34m\u001b[0m\u001b[0m\n\u001b[1;32m    266\u001b[0m             \u001b[0mdf\u001b[0m\u001b[0;34m[\u001b[0m\u001b[0;34m'ds'\u001b[0m\u001b[0;34m]\u001b[0m \u001b[0;34m=\u001b[0m \u001b[0mdf\u001b[0m\u001b[0;34m[\u001b[0m\u001b[0;34m'ds'\u001b[0m\u001b[0;34m]\u001b[0m\u001b[0;34m.\u001b[0m\u001b[0mastype\u001b[0m\u001b[0;34m(\u001b[0m\u001b[0mstr\u001b[0m\u001b[0;34m)\u001b[0m\u001b[0;34m\u001b[0m\u001b[0;34m\u001b[0m\u001b[0m\n",
      "\u001b[0;31mValueError\u001b[0m: Found infinity in column y."
     ]
    }
   ],
   "execution_count": null
  },
  {
   "cell_type": "code",
   "metadata": {
    "cell_id": "9647e88ccbba4c3592642be6c81c741c",
    "tags": [],
    "deepnote_to_be_reexecuted": true,
    "source_hash": "833cdf7d",
    "execution_start": 1648732667895,
    "execution_millis": 5,
    "deepnote_cell_type": "code",
    "deepnote_cell_height": 81
   },
   "source": "df_forecast.reset_index(inplace=True)",
   "execution_count": null,
   "outputs": []
  },
  {
   "cell_type": "code",
   "metadata": {
    "cell_id": "ac8f07940c534870bbf3aa887fcc6756",
    "tags": [],
    "deepnote_to_be_reexecuted": true,
    "source_hash": "a46f6e6",
    "execution_start": 1648732667915,
    "execution_millis": 7,
    "deepnote_table_state": {
     "pageSize": 10,
     "pageIndex": 17,
     "filters": [],
     "sortBy": []
    },
    "deepnote_table_loading": false,
    "deepnote_cell_type": "code",
    "deepnote_cell_height": 135
   },
   "source": "df_forecast['District'] = 'City of London'\ndf_forecast.loc[180:, 'District'] = 'Gwent'\ndf_forecast = df_forecast.drop(['index', 'past_yhat', 'past_yhat_lower', 'past_yhat_upper'], axis = 1)\ndf_forecast = df_forecast.rename(columns={'ds': 'Month', 'yhat': 'prediction', 'yhat_lower': 'min', 'yhat_upper': 'max'})",
   "execution_count": null,
   "outputs": []
  },
  {
   "cell_type": "code",
   "metadata": {
    "cell_id": "50db0c47eb904801b754f54e79b78af0",
    "tags": [],
    "deepnote_to_be_reexecuted": true,
    "source_hash": "c6daa2ad",
    "execution_start": 1648732667923,
    "execution_millis": 205,
    "deepnote_cell_type": "code",
    "deepnote_cell_height": 81
   },
   "source": "#df_forecast.to_csv('/work/final_pred3.csv')",
   "execution_count": null,
   "outputs": []
  },
  {
   "cell_type": "code",
   "metadata": {
    "cell_id": "8e2905053e134ddf8a0de735c5d70685",
    "tags": [],
    "deepnote_to_be_reexecuted": true,
    "source_hash": "636518ca",
    "execution_start": 1648732668172,
    "execution_millis": 306,
    "deepnote_table_state": {
     "pageSize": 10,
     "pageIndex": 3,
     "filters": [],
     "sortBy": []
    },
    "deepnote_table_loading": false,
    "deepnote_cell_type": "code",
    "deepnote_cell_height": 614.796875
   },
   "source": "df_forecast",
   "execution_count": null,
   "outputs": [
    {
     "output_type": "execute_result",
     "execution_count": 11,
     "data": {
      "application/vnd.deepnote.dataframe.v3+json": {
       "column_count": 10,
       "row_count": 5940,
       "columns": [
        {
         "name": "Month",
         "dtype": "datetime64[ns]",
         "stats": {
          "unique_count": 12,
          "nan_count": 0,
          "min": "2021-11-01 00:00:00",
          "max": "2022-10-01 00:00:00",
          "histogram": [
           {
            "bin_start": 1635724800000000000,
            "bin_end": 1638610560000000000,
            "count": 990
           },
           {
            "bin_start": 1638610560000000000,
            "bin_end": 1641496320000000000,
            "count": 495
           },
           {
            "bin_start": 1641496320000000000,
            "bin_end": 1644382080000000000,
            "count": 495
           },
           {
            "bin_start": 1644382080000000000,
            "bin_end": 1647267840000000000,
            "count": 495
           },
           {
            "bin_start": 1647267840000000000,
            "bin_end": 1650153600000000000,
            "count": 495
           },
           {
            "bin_start": 1650153600000000000,
            "bin_end": 1653039360000000000,
            "count": 495
           },
           {
            "bin_start": 1653039360000000000,
            "bin_end": 1655925120000000000,
            "count": 495
           },
           {
            "bin_start": 1655925120000000000,
            "bin_end": 1658810880000000000,
            "count": 495
           },
           {
            "bin_start": 1658810880000000000,
            "bin_end": 1661696640000000000,
            "count": 495
           },
           {
            "bin_start": 1661696640000000000,
            "bin_end": 1664582400000000000,
            "count": 990
           }
          ]
         }
        },
        {
         "name": "prediction",
         "dtype": "float64",
         "stats": {
          "unique_count": 5929,
          "nan_count": 0,
          "min": "-56.80344691452308",
          "max": "955.1468309365528",
          "histogram": [
           {
            "bin_start": -56.80344691452308,
            "bin_end": 44.391580870584505,
            "count": 5659
           },
           {
            "bin_start": 44.391580870584505,
            "bin_end": 145.5866086556921,
            "count": 245
           },
           {
            "bin_start": 145.5866086556921,
            "bin_end": 246.78163644079967,
            "count": 19
           },
           {
            "bin_start": 246.78163644079967,
            "bin_end": 347.97666422590726,
            "count": 5
           },
           {
            "bin_start": 347.97666422590726,
            "bin_end": 449.17169201101484,
            "count": 0
           },
           {
            "bin_start": 449.17169201101484,
            "bin_end": 550.3667197961224,
            "count": 0
           },
           {
            "bin_start": 550.3667197961224,
            "bin_end": 651.56174758123,
            "count": 0
           },
           {
            "bin_start": 651.56174758123,
            "bin_end": 752.7567753663376,
            "count": 2
           },
           {
            "bin_start": 752.7567753663376,
            "bin_end": 853.9518031514452,
            "count": 4
           },
           {
            "bin_start": 853.9518031514452,
            "bin_end": 955.1468309365528,
            "count": 6
           }
          ]
         }
        },
        {
         "name": "min",
         "dtype": "float64",
         "stats": {
          "unique_count": 5940,
          "nan_count": 0,
          "min": "-75.06286939494947",
          "max": "841.5575255756003",
          "histogram": [
           {
            "bin_start": -75.06286939494947,
            "bin_end": 16.599170102105504,
            "count": 5391
           },
           {
            "bin_start": 16.599170102105504,
            "bin_end": 108.26120959916048,
            "count": 505
           },
           {
            "bin_start": 108.26120959916048,
            "bin_end": 199.92324909621544,
            "count": 27
           },
           {
            "bin_start": 199.92324909621544,
            "bin_end": 291.58528859327043,
            "count": 5
           },
           {
            "bin_start": 291.58528859327043,
            "bin_end": 383.2473280903254,
            "count": 0
           },
           {
            "bin_start": 383.2473280903254,
            "bin_end": 474.90936758738036,
            "count": 0
           },
           {
            "bin_start": 474.90936758738036,
            "bin_end": 566.5714070844354,
            "count": 0
           },
           {
            "bin_start": 566.5714070844354,
            "bin_end": 658.2334465814904,
            "count": 2
           },
           {
            "bin_start": 658.2334465814904,
            "bin_end": 749.8954860785452,
            "count": 4
           },
           {
            "bin_start": 749.8954860785452,
            "bin_end": 841.5575255756003,
            "count": 6
           }
          ]
         }
        },
        {
         "name": "max",
         "dtype": "float64",
         "stats": {
          "unique_count": 5940,
          "nan_count": 0,
          "min": "-38.042947096795",
          "max": "1068.9671730100417",
          "histogram": [
           {
            "bin_start": -38.042947096795,
            "bin_end": 72.65806491388867,
            "count": 5750
           },
           {
            "bin_start": 72.65806491388867,
            "bin_end": 183.35907692457235,
            "count": 157
           },
           {
            "bin_start": 183.35907692457235,
            "bin_end": 294.06008893525603,
            "count": 16
           },
           {
            "bin_start": 294.06008893525603,
            "bin_end": 404.7611009459397,
            "count": 5
           },
           {
            "bin_start": 404.7611009459397,
            "bin_end": 515.4621129566233,
            "count": 0
           },
           {
            "bin_start": 515.4621129566233,
            "bin_end": 626.163124967307,
            "count": 0
           },
           {
            "bin_start": 626.163124967307,
            "bin_end": 736.8641369779906,
            "count": 0
           },
           {
            "bin_start": 736.8641369779906,
            "bin_end": 847.5651489886743,
            "count": 1
           },
           {
            "bin_start": 847.5651489886743,
            "bin_end": 958.266160999358,
            "count": 5
           },
           {
            "bin_start": 958.266160999358,
            "bin_end": 1068.9671730100417,
            "count": 6
           }
          ]
         }
        },
        {
         "name": "Crime type",
         "dtype": "object",
         "stats": {
          "unique_count": 15,
          "nan_count": 0,
          "categories": [
           {
            "name": "Crime type_Anti-social behaviour",
            "count": 396
           },
           {
            "name": "Crime type_Bicycle theft",
            "count": 396
           },
           {
            "name": "13 others",
            "count": 5148
           }
          ]
         }
        },
        {
         "name": "MSOA code",
         "dtype": "object",
         "stats": {
          "unique_count": 33,
          "nan_count": 0,
          "categories": [
           {
            "name": "E02000001",
            "count": 180
           },
           {
            "name": "W02000335",
            "count": 180
           },
           {
            "name": "31 others",
            "count": 5580
           }
          ]
         }
        },
        {
         "name": "change",
         "dtype": "float64",
         "stats": {
          "unique_count": 5928,
          "nan_count": 12,
          "min": "-4543859.112311607",
          "max": "1592358.7865232744",
          "histogram": [
           {
            "bin_start": -4543859.112311607,
            "bin_end": -3930237.3224281194,
            "count": 1
           },
           {
            "bin_start": -3930237.3224281194,
            "bin_end": -3316615.532544631,
            "count": 0
           },
           {
            "bin_start": -3316615.532544631,
            "bin_end": -2702993.7426611427,
            "count": 0
           },
           {
            "bin_start": -2702993.7426611427,
            "bin_end": -2089371.9527776549,
            "count": 0
           },
           {
            "bin_start": -2089371.9527776549,
            "bin_end": -1475750.162894167,
            "count": 0
           },
           {
            "bin_start": -1475750.162894167,
            "bin_end": -862128.3730106787,
            "count": 0
           },
           {
            "bin_start": -862128.3730106787,
            "bin_end": -248506.58312719036,
            "count": 0
           },
           {
            "bin_start": -248506.58312719036,
            "bin_end": 365115.2067562975,
            "count": 5926
           },
           {
            "bin_start": 365115.2067562975,
            "bin_end": 978736.9966397854,
            "count": 0
           },
           {
            "bin_start": 978736.9966397854,
            "bin_end": 1592358.7865232744,
            "count": 1
           }
          ]
         }
        },
        {
         "name": "change_min",
         "dtype": "float64",
         "stats": {
          "unique_count": 5940,
          "nan_count": 0,
          "min": "-514389.21253496216",
          "max": "297415.792505913",
          "histogram": [
           {
            "bin_start": -514389.21253496216,
            "bin_end": -433208.7120308747,
            "count": 1
           },
           {
            "bin_start": -433208.7120308747,
            "bin_end": -352028.21152678714,
            "count": 0
           },
           {
            "bin_start": -352028.21152678714,
            "bin_end": -270847.7110226996,
            "count": 0
           },
           {
            "bin_start": -270847.7110226996,
            "bin_end": -189667.21051861212,
            "count": 0
           },
           {
            "bin_start": -189667.21051861212,
            "bin_end": -108486.71001452458,
            "count": 1
           },
           {
            "bin_start": -108486.71001452458,
            "bin_end": -27306.209510437096,
            "count": 4
           },
           {
            "bin_start": -27306.209510437096,
            "bin_end": 53874.290993650386,
            "count": 5933
           },
           {
            "bin_start": 53874.290993650386,
            "bin_end": 135054.79149773793,
            "count": 0
           },
           {
            "bin_start": 135054.79149773793,
            "bin_end": 216235.29200182547,
            "count": 0
           },
           {
            "bin_start": 216235.29200182547,
            "bin_end": 297415.792505913,
            "count": 1
           }
          ]
         }
        },
        {
         "name": "change_max",
         "dtype": "float64",
         "stats": {
          "unique_count": 5940,
          "nan_count": 0,
          "min": "-1113.0135071464292",
          "max": "882.6992827382307",
          "histogram": [
           {
            "bin_start": -1113.0135071464292,
            "bin_end": -913.4422281579632,
            "count": 1
           },
           {
            "bin_start": -913.4422281579632,
            "bin_end": -713.8709491694972,
            "count": 0
           },
           {
            "bin_start": -713.8709491694972,
            "bin_end": -514.2996701810313,
            "count": 4
           },
           {
            "bin_start": -514.2996701810313,
            "bin_end": -314.72839119256525,
            "count": 37
           },
           {
            "bin_start": -314.72839119256525,
            "bin_end": -115.15711220409923,
            "count": 229
           },
           {
            "bin_start": -115.15711220409923,
            "bin_end": 84.41416678436667,
            "count": 5511
           },
           {
            "bin_start": 84.41416678436667,
            "bin_end": 283.9854457728327,
            "count": 154
           },
           {
            "bin_start": 283.9854457728327,
            "bin_end": 483.5567247612987,
            "count": 3
           },
           {
            "bin_start": 483.5567247612987,
            "bin_end": 683.1280037497647,
            "count": 0
           },
           {
            "bin_start": 683.1280037497647,
            "bin_end": 882.6992827382307,
            "count": 1
           }
          ]
         }
        },
        {
         "name": "District",
         "dtype": "object",
         "stats": {
          "unique_count": 2,
          "nan_count": 0,
          "categories": [
           {
            "name": "Gwent",
            "count": 5760
           },
           {
            "name": "City of London",
            "count": 180
           }
          ]
         }
        },
        {
         "name": "_deepnote_index_column",
         "dtype": "int64"
        }
       ],
       "rows": [
        {
         "Month": "2022-05-01T00:00:00.000000",
         "prediction": 25.81924231062396,
         "min": 18.685073662996615,
         "max": 33.01747090274916,
         "Crime type": "Crime type_Burglary",
         "MSOA code": "E02000001",
         "change": 37.37610750993057,
         "change_min": 69.48354302992135,
         "change_max": 26.75091388732807,
         "District": "City of London",
         "_deepnote_index_column": 30
        },
        {
         "Month": "2022-06-01T00:00:00.000000",
         "prediction": 21.53476663788729,
         "min": 14.017153878339531,
         "max": 29.160646869498727,
         "Crime type": "Crime type_Burglary",
         "MSOA code": "E02000001",
         "change": 90.23669037922521,
         "change_min": 245.29597402560802,
         "change_max": 61.00546004242163,
         "District": "City of London",
         "_deepnote_index_column": 31
        },
        {
         "Month": "2022-07-01T00:00:00.000000",
         "prediction": 16.326594222449717,
         "min": 9.044193491043165,
         "max": 23.461359153807894,
         "Crime type": "Crime type_Burglary",
         "MSOA code": "E02000001",
         "change": -32.2434001693178,
         "change_min": -47.18051234183202,
         "change_max": -26.383150932709427,
         "District": "City of London",
         "_deepnote_index_column": 32
        },
        {
         "Month": "2022-08-01T00:00:00.000000",
         "prediction": 22.247706145959654,
         "min": 14.09798964932153,
         "max": 29.213703840224333,
         "Crime type": "Crime type_Burglary",
         "MSOA code": "E02000001",
         "change": -11.567479276685768,
         "change_min": -20.489346883121193,
         "change_max": -12.198679598330386,
         "District": "City of London",
         "_deepnote_index_column": 33
        },
        {
         "Month": "2022-09-01T00:00:00.000000",
         "prediction": 17.160376534471403,
         "min": 9.906458186362121,
         "max": 24.5280184558895,
         "Crime type": "Crime type_Burglary",
         "MSOA code": "E02000001",
         "change": -29.905653583146325,
         "change_min": -41.94655886844518,
         "change_max": -24.50579178284259,
         "District": "City of London",
         "_deepnote_index_column": 34
        },
        {
         "Month": "2022-10-01T00:00:00.000000",
         "prediction": 20.4218370727228,
         "min": 12.723095076746235,
         "max": 27.52499448635919,
         "Crime type": "Crime type_Burglary",
         "MSOA code": "E02000001",
         "change": -20.64886690871318,
         "change_min": -31.62778103269407,
         "change_max": -16.4000524575772,
         "District": "City of London",
         "_deepnote_index_column": 35
        },
        {
         "Month": "2021-11-01T00:00:00.000000",
         "prediction": 26.487247758292497,
         "min": 19.31314325450741,
         "max": 34.46441297624426,
         "Crime type": "Crime type_Criminal damage and arson",
         "MSOA code": "E02000001",
         "change": 70.5153718814842,
         "change_min": 143.02717536093016,
         "change_max": 50.60499824103522,
         "District": "City of London",
         "_deepnote_index_column": 36
        },
        {
         "Month": "2021-12-01T00:00:00.000000",
         "prediction": 31.984207443778658,
         "min": 24.089843910489453,
         "max": 39.57861256337511,
         "Crime type": "Crime type_Criminal damage and arson",
         "MSOA code": "E02000001",
         "change": 59.1670598203605,
         "change_min": 103.41568361659066,
         "change_max": 42.46409361369231,
         "District": "City of London",
         "_deepnote_index_column": 37
        },
        {
         "Month": "2022-01-01T00:00:00.000000",
         "prediction": 28.85585772539722,
         "min": 20.946164395023917,
         "max": 36.10605117360835,
         "Crime type": "Crime type_Criminal damage and arson",
         "MSOA code": "E02000001",
         "change": 89.1106792072599,
         "change_min": 173.75002756760392,
         "change_max": 55.12964249708906,
         "District": "City of London",
         "_deepnote_index_column": 38
        },
        {
         "Month": "2022-02-01T00:00:00.000000",
         "prediction": 30.587922919501544,
         "min": 23.069684545726027,
         "max": 38.16396932283539,
         "Crime type": "Crime type_Criminal damage and arson",
         "MSOA code": "E02000001",
         "change": 55.14755098307179,
         "change_min": 87.30805054627335,
         "change_max": 40.135543455237716,
         "District": "City of London",
         "_deepnote_index_column": 39
        }
       ]
      },
      "text/plain": "          Month  prediction        min         max  \\\n0    2021-11-01   99.368048  67.235705  135.340802   \n1    2021-12-01   91.826211  58.002916  122.999516   \n2    2022-01-01   92.436646  58.316665  125.346675   \n3    2022-02-01   88.408645  56.133321  123.785046   \n4    2022-03-01  104.316427  71.254133  138.797857   \n...         ...         ...        ...         ...   \n5935 2022-06-01   15.986031   1.363750   29.634735   \n5936 2022-07-01   17.812082   2.828914   31.882579   \n5937 2022-08-01    3.989886 -10.889581   18.687008   \n5938 2022-09-01    8.611552  -5.257343   22.630522   \n5939 2022-10-01    9.376871  -4.461751   23.800565   \n\n                            Crime type  MSOA code     change  change_min  \\\n0     Crime type_Anti-social behaviour  E02000001  25.985465   40.508476   \n1     Crime type_Anti-social behaviour  E02000001  30.848553   64.975791   \n2     Crime type_Anti-social behaviour  E02000001  43.207803   87.344734   \n3     Crime type_Anti-social behaviour  E02000001  30.899288   81.809903   \n4     Crime type_Anti-social behaviour  E02000001  49.208726  102.112395   \n...                                ...        ...        ...         ...   \n5935                        Sum crimes  W02000366 -78.001607  -97.633863   \n5936                        Sum crimes  W02000366 -67.569072  -93.067625   \n5937                        Sum crimes  W02000366 -91.281235 -134.065519   \n5938                        Sum crimes  W02000366 -81.577033 -116.279341   \n5939                        Sum crimes  W02000366 -79.614486 -113.869689   \n\n      change_max        District  \n0      21.538302  City of London  \n1      22.117851  City of London  \n2      26.679647  City of London  \n3      20.613550  City of London  \n4      36.718315  City of London  \n...          ...             ...  \n5935  -66.050254           Gwent  \n5936  -54.511222           Gwent  \n5937  -68.459831           Gwent  \n5938  -62.285899           Gwent  \n5939  -60.178809           Gwent  \n\n[5940 rows x 10 columns]",
      "text/html": "<div>\n<style scoped>\n    .dataframe tbody tr th:only-of-type {\n        vertical-align: middle;\n    }\n\n    .dataframe tbody tr th {\n        vertical-align: top;\n    }\n\n    .dataframe thead th {\n        text-align: right;\n    }\n</style>\n<table border=\"1\" class=\"dataframe\">\n  <thead>\n    <tr style=\"text-align: right;\">\n      <th></th>\n      <th>Month</th>\n      <th>prediction</th>\n      <th>min</th>\n      <th>max</th>\n      <th>Crime type</th>\n      <th>MSOA code</th>\n      <th>change</th>\n      <th>change_min</th>\n      <th>change_max</th>\n      <th>District</th>\n    </tr>\n  </thead>\n  <tbody>\n    <tr>\n      <th>0</th>\n      <td>2021-11-01</td>\n      <td>99.368048</td>\n      <td>67.235705</td>\n      <td>135.340802</td>\n      <td>Crime type_Anti-social behaviour</td>\n      <td>E02000001</td>\n      <td>25.985465</td>\n      <td>40.508476</td>\n      <td>21.538302</td>\n      <td>City of London</td>\n    </tr>\n    <tr>\n      <th>1</th>\n      <td>2021-12-01</td>\n      <td>91.826211</td>\n      <td>58.002916</td>\n      <td>122.999516</td>\n      <td>Crime type_Anti-social behaviour</td>\n      <td>E02000001</td>\n      <td>30.848553</td>\n      <td>64.975791</td>\n      <td>22.117851</td>\n      <td>City of London</td>\n    </tr>\n    <tr>\n      <th>2</th>\n      <td>2022-01-01</td>\n      <td>92.436646</td>\n      <td>58.316665</td>\n      <td>125.346675</td>\n      <td>Crime type_Anti-social behaviour</td>\n      <td>E02000001</td>\n      <td>43.207803</td>\n      <td>87.344734</td>\n      <td>26.679647</td>\n      <td>City of London</td>\n    </tr>\n    <tr>\n      <th>3</th>\n      <td>2022-02-01</td>\n      <td>88.408645</td>\n      <td>56.133321</td>\n      <td>123.785046</td>\n      <td>Crime type_Anti-social behaviour</td>\n      <td>E02000001</td>\n      <td>30.899288</td>\n      <td>81.809903</td>\n      <td>20.613550</td>\n      <td>City of London</td>\n    </tr>\n    <tr>\n      <th>4</th>\n      <td>2022-03-01</td>\n      <td>104.316427</td>\n      <td>71.254133</td>\n      <td>138.797857</td>\n      <td>Crime type_Anti-social behaviour</td>\n      <td>E02000001</td>\n      <td>49.208726</td>\n      <td>102.112395</td>\n      <td>36.718315</td>\n      <td>City of London</td>\n    </tr>\n    <tr>\n      <th>...</th>\n      <td>...</td>\n      <td>...</td>\n      <td>...</td>\n      <td>...</td>\n      <td>...</td>\n      <td>...</td>\n      <td>...</td>\n      <td>...</td>\n      <td>...</td>\n      <td>...</td>\n    </tr>\n    <tr>\n      <th>5935</th>\n      <td>2022-06-01</td>\n      <td>15.986031</td>\n      <td>1.363750</td>\n      <td>29.634735</td>\n      <td>Sum crimes</td>\n      <td>W02000366</td>\n      <td>-78.001607</td>\n      <td>-97.633863</td>\n      <td>-66.050254</td>\n      <td>Gwent</td>\n    </tr>\n    <tr>\n      <th>5936</th>\n      <td>2022-07-01</td>\n      <td>17.812082</td>\n      <td>2.828914</td>\n      <td>31.882579</td>\n      <td>Sum crimes</td>\n      <td>W02000366</td>\n      <td>-67.569072</td>\n      <td>-93.067625</td>\n      <td>-54.511222</td>\n      <td>Gwent</td>\n    </tr>\n    <tr>\n      <th>5937</th>\n      <td>2022-08-01</td>\n      <td>3.989886</td>\n      <td>-10.889581</td>\n      <td>18.687008</td>\n      <td>Sum crimes</td>\n      <td>W02000366</td>\n      <td>-91.281235</td>\n      <td>-134.065519</td>\n      <td>-68.459831</td>\n      <td>Gwent</td>\n    </tr>\n    <tr>\n      <th>5938</th>\n      <td>2022-09-01</td>\n      <td>8.611552</td>\n      <td>-5.257343</td>\n      <td>22.630522</td>\n      <td>Sum crimes</td>\n      <td>W02000366</td>\n      <td>-81.577033</td>\n      <td>-116.279341</td>\n      <td>-62.285899</td>\n      <td>Gwent</td>\n    </tr>\n    <tr>\n      <th>5939</th>\n      <td>2022-10-01</td>\n      <td>9.376871</td>\n      <td>-4.461751</td>\n      <td>23.800565</td>\n      <td>Sum crimes</td>\n      <td>W02000366</td>\n      <td>-79.614486</td>\n      <td>-113.869689</td>\n      <td>-60.178809</td>\n      <td>Gwent</td>\n    </tr>\n  </tbody>\n</table>\n<p>5940 rows × 10 columns</p>\n</div>"
     },
     "metadata": {}
    }
   ]
  },
  {
   "cell_type": "code",
   "metadata": {
    "cell_id": "d8a6af198c494144ae96f12b18c9789b",
    "tags": [],
    "deepnote_to_be_reexecuted": false,
    "source_hash": "b623e53d",
    "execution_start": 1648919510982,
    "execution_millis": 0,
    "deepnote_cell_type": "code",
    "deepnote_cell_height": 81
   },
   "source": "",
   "outputs": [],
   "execution_count": null
  },
  {
   "cell_type": "code",
   "metadata": {
    "cell_id": "979c9c23ff8f469fafa741eceb7fe7d0",
    "tags": [],
    "deepnote_to_be_reexecuted": true,
    "source_hash": "7ec712ac",
    "execution_start": 1648732668334,
    "execution_millis": 13283385,
    "deepnote_cell_type": "code",
    "deepnote_cell_height": 297
   },
   "source": "# # Initial training period.\n# initial= 30*70\n# initial= str(initial)+' days'\n# #Period length that we perform the cross validation for.\n# period = 30\n# period=str(period)+' days'\n# #Horizon of prediction essentially for each fold.\n# horizon = 61\n# horizon=str(horizon)+' days'\n# fb_cv=cross_validation(m,initial=initial,period=period, \n# horizon=horizon)\n# # Performance Metrics of fb_cv\n# evaluation = performance_metrics(fb_cv, monthly =True, rolling_window=0.1)",
   "execution_count": null,
   "outputs": []
  },
  {
   "cell_type": "code",
   "metadata": {
    "cell_id": "26e2346838354743a2198a7094c9487b",
    "tags": [],
    "deepnote_to_be_reexecuted": true,
    "source_hash": "6392b447",
    "execution_start": 1648732668380,
    "execution_millis": 217,
    "deepnote_cell_type": "code",
    "deepnote_cell_height": 162.1875
   },
   "source": "\n#evaluation",
   "execution_count": null,
   "outputs": [
    {
     "output_type": "error",
     "ename": "NameError",
     "evalue": "name 'evaluation' is not defined",
     "traceback": [
      "\u001b[0;31m---------------------------------------------------------------------------\u001b[0m",
      "\u001b[0;31mNameError\u001b[0m                                 Traceback (most recent call last)",
      "\u001b[0;32m<ipython-input-14-3a5639047e84>\u001b[0m in \u001b[0;36m<module>\u001b[0;34m\u001b[0m\n\u001b[0;32m----> 1\u001b[0;31m \u001b[0mevaluation\u001b[0m\u001b[0;34m\u001b[0m\u001b[0;34m\u001b[0m\u001b[0m\n\u001b[0m",
      "\u001b[0;31mNameError\u001b[0m: name 'evaluation' is not defined"
     ]
    }
   ]
  },
  {
   "cell_type": "code",
   "metadata": {
    "cell_id": "03d41336ef7e417caa697051290e8674",
    "tags": [],
    "deepnote_to_be_reexecuted": true,
    "source_hash": "9818ca16",
    "execution_start": 1648717994366,
    "execution_millis": 3,
    "deepnote_cell_type": "code",
    "deepnote_cell_height": 594.1875
   },
   "source": "#import itertools\n#import numpy as np\n#import pandas as pd\n\n#param_grid = {  \n #   'changepoint_prior_scale': [0.001, 0.01, 0.1, 0.5],\n  #  'seasonality_prior_scale': [0.01, 0.1, 1.0, 10.0],\n   # 'seasonality_mode': ['additive', 'multiplicative'],\n    #'holidays_prior_scale': [0.01, 0.1, 1.0, 10.0]\n}\n\n# Generate all combinations of parameters\n#all_params = [dict(zip(param_grid.keys(), v)) for v in itertools.product(*param_grid.values())]\n#rmses = []  # Store the RMSEs for each params here\n\n# Use cross validation to evaluate all parameters\n#for params in tq.tqdm(all_params):\n#    m = Prophet(**params, holidays = holidays).fit(df_train2)  # Fit model with given params\n#    df_cv = cross_validation(m, horizon= horizon, parallel=\"processes\") # add cutoffs?\n#    df_p = performance_metrics(df_cv, rolling_window=0.1, monthly = True)\n#    rmses.append(df_p['rmse'].values[0])\n\n# Find the best parameters\n#tuning_results = pd.DataFrame(all_params)\n#tuning_results['rmse'] = rmses\n#print(tuning_results)",
   "execution_count": null,
   "outputs": [
    {
     "output_type": "error",
     "ename": "SyntaxError",
     "evalue": "invalid syntax (<ipython-input-16-a56672029521>, line 10)",
     "traceback": [
      "\u001b[0;36m  File \u001b[0;32m\"<ipython-input-16-a56672029521>\"\u001b[0;36m, line \u001b[0;32m10\u001b[0m\n\u001b[0;31m    }\u001b[0m\n\u001b[0m    ^\u001b[0m\n\u001b[0;31mSyntaxError\u001b[0m\u001b[0;31m:\u001b[0m invalid syntax\n"
     ]
    }
   ]
  },
  {
   "cell_type": "code",
   "metadata": {
    "cell_id": "c71a238aabe7423aa76bb3b84459a4e7",
    "tags": [],
    "deepnote_to_be_reexecuted": true,
    "source_hash": "8dcf65ee",
    "execution_start": 1648708637443,
    "execution_millis": 15,
    "deepnote_cell_type": "code",
    "deepnote_cell_height": 148
   },
   "source": "#best_params = all_params[np.argmin(rmses)]\n#print(best_params)\n# {'changepoint_prior_scale': 0.1, 'seasonality_prior_scale': 0.01, 'seasonality_mode': 'additive', 'holidays_prior_scale': 0.01}",
   "execution_count": null,
   "outputs": [
    {
     "name": "stdout",
     "text": "{'changepoint_prior_scale': 0.1, 'seasonality_prior_scale': 0.01, 'seasonality_mode': 'multiplicative', 'holidays_prior_scale': 1.0}\n",
     "output_type": "stream"
    }
   ]
  },
  {
   "cell_type": "code",
   "metadata": {
    "cell_id": "048b711a3adb4ce3839195ab10f6379e",
    "tags": [],
    "deepnote_to_be_reexecuted": true,
    "source_hash": "b623e53d",
    "execution_start": 1648728965151,
    "execution_millis": 23,
    "deepnote_cell_type": "code",
    "deepnote_cell_height": 81
   },
   "source": "",
   "execution_count": null,
   "outputs": []
  },
  {
   "cell_type": "code",
   "metadata": {
    "cell_id": "cabe2c9167bf4fe4a185593b28d4ab58",
    "tags": [],
    "deepnote_to_be_reexecuted": true,
    "source_hash": "b623e53d",
    "execution_start": 1648730704652,
    "execution_millis": 310,
    "deepnote_cell_type": "code",
    "deepnote_cell_height": 614.796875
   },
   "source": "",
   "execution_count": null,
   "outputs": [
    {
     "output_type": "execute_result",
     "execution_count": 2,
     "data": {
      "application/vnd.deepnote.dataframe.v3+json": {
       "column_count": 11,
       "row_count": 1296,
       "columns": [
        {
         "name": "Unnamed: 0",
         "dtype": "int64",
         "stats": {
          "unique_count": 1296,
          "nan_count": 0,
          "min": "186",
          "max": "5915",
          "histogram": [
           {
            "bin_start": 186,
            "bin_end": 758.9,
            "count": 146
           },
           {
            "bin_start": 758.9,
            "bin_end": 1331.8,
            "count": 140
           },
           {
            "bin_start": 1331.8,
            "bin_end": 1904.6999999999998,
            "count": 135
           },
           {
            "bin_start": 1904.6999999999998,
            "bin_end": 2477.6,
            "count": 187
           },
           {
            "bin_start": 2477.6,
            "bin_end": 3050.5,
            "count": 124
           },
           {
            "bin_start": 3050.5,
            "bin_end": 3623.3999999999996,
            "count": 83
           },
           {
            "bin_start": 3623.3999999999996,
            "bin_end": 4196.299999999999,
            "count": 152
           },
           {
            "bin_start": 4196.299999999999,
            "bin_end": 4769.2,
            "count": 96
           },
           {
            "bin_start": 4769.2,
            "bin_end": 5342.099999999999,
            "count": 116
           },
           {
            "bin_start": 5342.099999999999,
            "bin_end": 5915,
            "count": 117
           }
          ]
         }
        },
        {
         "name": "Month",
         "dtype": "object",
         "stats": {
          "unique_count": 12,
          "nan_count": 0,
          "categories": [
           {
            "name": "2022-09-01",
            "count": 147
           },
           {
            "name": "2022-10-01",
            "count": 145
           },
           {
            "name": "10 others",
            "count": 1004
           }
          ]
         }
        },
        {
         "name": "prediction",
         "dtype": "float64",
         "stats": {
          "unique_count": 1296,
          "nan_count": 0,
          "min": "-56.803446914523086",
          "max": "-0.0001357191687506",
          "histogram": [
           {
            "bin_start": -56.803446914523086,
            "bin_end": -51.123115794987655,
            "count": 3
           },
           {
            "bin_start": -51.123115794987655,
            "bin_end": -45.44278467545222,
            "count": 4
           },
           {
            "bin_start": -45.44278467545222,
            "bin_end": -39.762453555916785,
            "count": 0
           },
           {
            "bin_start": -39.762453555916785,
            "bin_end": -34.082122436381354,
            "count": 1
           },
           {
            "bin_start": -34.082122436381354,
            "bin_end": -28.401791316845923,
            "count": 5
           },
           {
            "bin_start": -28.401791316845923,
            "bin_end": -22.721460197310485,
            "count": 15
           },
           {
            "bin_start": -22.721460197310485,
            "bin_end": -17.041129077775054,
            "count": 25
           },
           {
            "bin_start": -17.041129077775054,
            "bin_end": -11.360797958239623,
            "count": 48
           },
           {
            "bin_start": -11.360797958239623,
            "bin_end": -5.6804668387041914,
            "count": 134
           },
           {
            "bin_start": -5.6804668387041914,
            "bin_end": -0.0001357191687506,
            "count": 1061
           }
          ]
         }
        },
        {
         "name": "min",
         "dtype": "float64",
         "stats": {
          "unique_count": 1296,
          "nan_count": 0,
          "min": "-77.26146999128157",
          "max": "-0.1808459732800916",
          "histogram": [
           {
            "bin_start": -77.26146999128157,
            "bin_end": -69.55340758948142,
            "count": 3
           },
           {
            "bin_start": -69.55340758948142,
            "bin_end": -61.845345187681275,
            "count": 4
           },
           {
            "bin_start": -61.845345187681275,
            "bin_end": -54.137282785881126,
            "count": 5
           },
           {
            "bin_start": -54.137282785881126,
            "bin_end": -46.42922038408098,
            "count": 6
           },
           {
            "bin_start": -46.42922038408098,
            "bin_end": -38.72115798228083,
            "count": 8
           },
           {
            "bin_start": -38.72115798228083,
            "bin_end": -31.01309558048068,
            "count": 15
           },
           {
            "bin_start": -31.01309558048068,
            "bin_end": -23.30503317868053,
            "count": 30
           },
           {
            "bin_start": -23.30503317868053,
            "bin_end": -15.596970776880383,
            "count": 77
           },
           {
            "bin_start": -15.596970776880383,
            "bin_end": -7.888908375080234,
            "count": 171
           },
           {
            "bin_start": -7.888908375080234,
            "bin_end": -0.1808459732800916,
            "count": 977
           }
          ]
         }
        },
        {
         "name": "max",
         "dtype": "float64",
         "stats": {
          "unique_count": 1296,
          "nan_count": 0,
          "min": "-38.70901775166716",
          "max": "20.748862872389708",
          "histogram": [
           {
            "bin_start": -38.70901775166716,
            "bin_end": -32.76322968926147,
            "count": 3
           },
           {
            "bin_start": -32.76322968926147,
            "bin_end": -26.81744162685579,
            "count": 4
           },
           {
            "bin_start": -26.81744162685579,
            "bin_end": -20.8716535644501,
            "count": 0
           },
           {
            "bin_start": -20.8716535644501,
            "bin_end": -14.925865502044413,
            "count": 9
           },
           {
            "bin_start": -14.925865502044413,
            "bin_end": -8.980077439638727,
            "count": 30
           },
           {
            "bin_start": -8.980077439638727,
            "bin_end": -3.034289377233037,
            "count": 106
           },
           {
            "bin_start": -3.034289377233037,
            "bin_end": 2.9114986851726457,
            "count": 1038
           },
           {
            "bin_start": 2.9114986851726457,
            "bin_end": 8.857286747578335,
            "count": 98
           },
           {
            "bin_start": 8.857286747578335,
            "bin_end": 14.803074809984025,
            "count": 7
           },
           {
            "bin_start": 14.803074809984025,
            "bin_end": 20.748862872389708,
            "count": 1
           }
          ]
         }
        },
        {
         "name": "Crime type",
         "dtype": "object",
         "stats": {
          "unique_count": 12,
          "nan_count": 0,
          "categories": [
           {
            "name": "Crime type_Criminal damage and arson",
            "count": 327
           },
           {
            "name": "Crime type_Anti-social behaviour",
            "count": 195
           },
           {
            "name": "10 others",
            "count": 774
           }
          ]
         }
        },
        {
         "name": "MSOA code",
         "dtype": "object",
         "stats": {
          "unique_count": 32,
          "nan_count": 0,
          "categories": [
           {
            "name": "W02000345",
            "count": 69
           },
           {
            "name": "W02000344",
            "count": 65
           },
           {
            "name": "30 others",
            "count": 1162
           }
          ]
         }
        },
        {
         "name": "change",
         "dtype": "float64",
         "stats": {
          "unique_count": 1296,
          "nan_count": 0,
          "min": "-57274.97262704973",
          "max": "1592358.7864940676",
          "histogram": [
           {
            "bin_start": -57274.97262704973,
            "bin_end": 107688.40328506203,
            "count": 1295
           },
           {
            "bin_start": 107688.40328506203,
            "bin_end": 272651.7791971738,
            "count": 0
           },
           {
            "bin_start": 272651.7791971738,
            "bin_end": 437615.15510928555,
            "count": 0
           },
           {
            "bin_start": 437615.15510928555,
            "bin_end": 602578.5310213972,
            "count": 0
           },
           {
            "bin_start": 602578.5310213972,
            "bin_end": 767541.9069335089,
            "count": 0
           },
           {
            "bin_start": 767541.9069335089,
            "bin_end": 932505.2828456208,
            "count": 0
           },
           {
            "bin_start": 932505.2828456208,
            "bin_end": 1097468.6587577325,
            "count": 0
           },
           {
            "bin_start": 1097468.6587577325,
            "bin_end": 1262432.0346698442,
            "count": 0
           },
           {
            "bin_start": 1262432.0346698442,
            "bin_end": 1427395.410581956,
            "count": 0
           },
           {
            "bin_start": 1427395.410581956,
            "bin_end": 1592358.7864940676,
            "count": 1
           }
          ]
         }
        },
        {
         "name": "change_min",
         "dtype": "float64",
         "stats": {
          "unique_count": 1296,
          "nan_count": 0,
          "min": "-28132.55469583612",
          "max": "135497.70664140873",
          "histogram": [
           {
            "bin_start": -28132.55469583612,
            "bin_end": -11769.528562111635,
            "count": 6
           },
           {
            "bin_start": -11769.528562111635,
            "bin_end": 4593.49757161285,
            "count": 1275
           },
           {
            "bin_start": 4593.49757161285,
            "bin_end": 20956.52370533733,
            "count": 9
           },
           {
            "bin_start": 20956.52370533733,
            "bin_end": 37319.549839061816,
            "count": 1
           },
           {
            "bin_start": 37319.549839061816,
            "bin_end": 53682.575972786304,
            "count": 2
           },
           {
            "bin_start": 53682.575972786304,
            "bin_end": 70045.60210651078,
            "count": 2
           },
           {
            "bin_start": 70045.60210651078,
            "bin_end": 86408.62824023527,
            "count": 0
           },
           {
            "bin_start": 86408.62824023527,
            "bin_end": 102771.65437395975,
            "count": 0
           },
           {
            "bin_start": 102771.65437395975,
            "bin_end": 119134.68050768424,
            "count": 0
           },
           {
            "bin_start": 119134.68050768424,
            "bin_end": 135497.70664140873,
            "count": 1
           }
          ]
         }
        },
        {
         "name": "change_max",
         "dtype": "float64",
         "stats": {
          "unique_count": 1296,
          "nan_count": 0,
          "min": "-1268.3606265327094",
          "max": "1009.8254856096328",
          "histogram": [
           {
            "bin_start": -1268.3606265327094,
            "bin_end": -1040.5420153184753,
            "count": 1
           },
           {
            "bin_start": -1040.5420153184753,
            "bin_end": -812.7234041042409,
            "count": 1
           },
           {
            "bin_start": -812.7234041042409,
            "bin_end": -584.9047928900068,
            "count": 2
           },
           {
            "bin_start": -584.9047928900068,
            "bin_end": -357.08618167577254,
            "count": 22
           },
           {
            "bin_start": -357.08618167577254,
            "bin_end": -129.2675704615383,
            "count": 207
           },
           {
            "bin_start": -129.2675704615383,
            "bin_end": 98.55104075269583,
            "count": 1058
           },
           {
            "bin_start": 98.55104075269583,
            "bin_end": 326.3696519669302,
            "count": 4
           },
           {
            "bin_start": 326.3696519669302,
            "bin_end": 554.1882631811643,
            "count": 0
           },
           {
            "bin_start": 554.1882631811643,
            "bin_end": 782.0068743953984,
            "count": 0
           },
           {
            "bin_start": 782.0068743953984,
            "bin_end": 1009.8254856096328,
            "count": 1
           }
          ]
         }
        },
        {
         "name": "District",
         "dtype": "object",
         "stats": {
          "unique_count": 1,
          "nan_count": 0,
          "categories": [
           {
            "name": "Gwent",
            "count": 1296
           }
          ]
         }
        },
        {
         "name": "_deepnote_index_column",
         "dtype": "int64"
        }
       ],
       "rows": [
        {
         "Unnamed: 0": 186,
         "Month": "2022-05-01",
         "prediction": -1.9449282522681937,
         "min": -8.030248353158107,
         "max": 4.429741139159238,
         "Crime type": "Crime type_Anti-social behaviour",
         "MSOA code": "W02000335",
         "change": -107.61873406833088,
         "change_min": -141.97421008520632,
         "change_max": -85.9638094231781,
         "District": "Gwent",
         "_deepnote_index_column": 186
        },
        {
         "Unnamed: 0": 187,
         "Month": "2022-06-01",
         "prediction": -4.103250675729762,
         "min": -10.246206872617709,
         "max": 2.4599066687850013,
         "Crime type": "Crime type_Anti-social behaviour",
         "MSOA code": "W02000335",
         "change": -118.55467837875074,
         "change_min": -164.84207791234567,
         "change_max": -91.34942827640216,
         "District": "Gwent",
         "_deepnote_index_column": 187
        },
        {
         "Unnamed: 0": 188,
         "Month": "2022-07-01",
         "prediction": -3.798575429188359,
         "min": -9.9268060270611,
         "max": 2.3613836074213257,
         "Crime type": "Crime type_Anti-social behaviour",
         "MSOA code": "W02000335",
         "change": -145.18590962896602,
         "change_min": -531.5011141020681,
         "change_max": -83.83442552750681,
         "District": "Gwent",
         "_deepnote_index_column": 188
        },
        {
         "Unnamed: 0": 189,
         "Month": "2022-08-01",
         "prediction": -6.465541627839974,
         "min": -12.22142974494086,
         "max": 0.5775858210940529,
         "Crime type": "Crime type_Anti-social behaviour",
         "MSOA code": "W02000335",
         "change": -224.79592264993653,
         "change_min": 901.6619072651124,
         "change_max": -95.1053733672432,
         "District": "Gwent",
         "_deepnote_index_column": 189
        },
        {
         "Unnamed: 0": 190,
         "Month": "2022-09-01",
         "prediction": -8.058224873158444,
         "min": -14.361641033071344,
         "max": -1.448672217774953,
         "Crime type": "Crime type_Anti-social behaviour",
         "MSOA code": "W02000335",
         "change": -256.88843079430785,
         "change_min": 1414.8454584076328,
         "change_max": -112.56014774038124,
         "District": "Gwent",
         "_deepnote_index_column": 190
        },
        {
         "Unnamed: 0": 191,
         "Month": "2022-10-01",
         "prediction": -6.970506498905465,
         "min": -13.39733759071982,
         "max": -0.0581232280210956,
         "Crime type": "Crime type_Anti-social behaviour",
         "MSOA code": "W02000335",
         "change": -192.9583060888878,
         "change_min": -1154.890656116511,
         "change_max": -100.41005464351908,
         "District": "Gwent",
         "_deepnote_index_column": 191
        },
        {
         "Unnamed: 0": 192,
         "Month": "2021-11-01",
         "prediction": -0.1050737841332253,
         "min": -0.6679246684578278,
         "max": 0.4306855667691943,
         "Crime type": "Crime type_Bicycle theft",
         "MSOA code": "W02000335",
         "change": 46.71125987125966,
         "change_min": -0.9512372837531984,
         "change_max": -14.67786408578607,
         "District": "Gwent",
         "_deepnote_index_column": 192
        },
        {
         "Unnamed: 0": 193,
         "Month": "2021-12-01",
         "prediction": -0.0008309547336529,
         "min": -0.5315252392513277,
         "max": 0.598227004369334,
         "Crime type": "Crime type_Bicycle theft",
         "MSOA code": "W02000335",
         "change": -99.15019866368245,
         "change_min": -16.417358853762458,
         "change_max": 30.346130550504096,
         "District": "Gwent",
         "_deepnote_index_column": 193
        },
        {
         "Unnamed: 0": 194,
         "Month": "2022-01-01",
         "prediction": -0.1066240769462318,
         "min": -0.6533018052124981,
         "max": 0.4392472471316718,
         "Crime type": "Crime type_Bicycle theft",
         "MSOA code": "W02000335",
         "change": -889.6423793051162,
         "change_min": 25.709924362474297,
         "change_max": -23.204402412231392,
         "District": "Gwent",
         "_deepnote_index_column": 194
        },
        {
         "Unnamed: 0": 195,
         "Month": "2022-02-01",
         "prediction": -0.0894742005968639,
         "min": -0.6367859891327425,
         "max": 0.4546740904669988,
         "Crime type": "Crime type_Bicycle theft",
         "MSOA code": "W02000335",
         "change": -223.1559357186513,
         "change_min": 26.68672935331309,
         "change_max": -27.21063703225409,
         "District": "Gwent",
         "_deepnote_index_column": 195
        }
       ]
      },
      "text/plain": "      Unnamed: 0       Month  prediction        min       max  \\\n186          186  2022-05-01   -1.944928  -8.030248  4.429741   \n187          187  2022-06-01   -4.103251 -10.246207  2.459907   \n188          188  2022-07-01   -3.798575  -9.926806  2.361384   \n189          189  2022-08-01   -6.465542 -12.221430  0.577586   \n190          190  2022-09-01   -8.058225 -14.361641 -1.448672   \n...          ...         ...         ...        ...       ...   \n5911        5911  2022-06-01   -2.012339  -5.364375  1.440638   \n5912        5912  2022-07-01   -2.591207  -6.199585  0.790667   \n5913        5913  2022-08-01   -4.349123  -7.689076 -1.021507   \n5914        5914  2022-09-01   -2.454382  -6.037004  1.099414   \n5915        5915  2022-10-01   -3.725083  -6.969350 -0.356098   \n\n                            Crime type  MSOA code      change    change_min  \\\n186   Crime type_Anti-social behaviour  W02000335 -107.618734   -141.974210   \n187   Crime type_Anti-social behaviour  W02000335 -118.554678   -164.842078   \n188   Crime type_Anti-social behaviour  W02000335 -145.185910   -531.501114   \n189   Crime type_Anti-social behaviour  W02000335 -224.795923    901.661907   \n190   Crime type_Anti-social behaviour  W02000335 -256.888431   1414.845458   \n...                                ...        ...         ...           ...   \n5911          Crime type_Vehicle crime  W02000366 -146.393736   -664.972852   \n5912          Crime type_Vehicle crime  W02000366 -178.701051   6144.318810   \n5913          Crime type_Vehicle crime  W02000366 -229.587858 -13942.903920   \n5914          Crime type_Vehicle crime  W02000366 -162.756868  -1144.976928   \n5915          Crime type_Vehicle crime  W02000366 -297.033567    337.000762   \n\n      change_max District  \n186   -85.963809    Gwent  \n187   -91.349428    Gwent  \n188   -83.834426    Gwent  \n189   -95.105373    Gwent  \n190  -112.560148    Gwent  \n...          ...      ...  \n5911  -80.840932    Gwent  \n5912  -88.575240    Gwent  \n5913 -115.195511    Gwent  \n5914  -85.077533    Gwent  \n5915 -106.488534    Gwent  \n\n[1296 rows x 11 columns]",
      "text/html": "<div>\n<style scoped>\n    .dataframe tbody tr th:only-of-type {\n        vertical-align: middle;\n    }\n\n    .dataframe tbody tr th {\n        vertical-align: top;\n    }\n\n    .dataframe thead th {\n        text-align: right;\n    }\n</style>\n<table border=\"1\" class=\"dataframe\">\n  <thead>\n    <tr style=\"text-align: right;\">\n      <th></th>\n      <th>Unnamed: 0</th>\n      <th>Month</th>\n      <th>prediction</th>\n      <th>min</th>\n      <th>max</th>\n      <th>Crime type</th>\n      <th>MSOA code</th>\n      <th>change</th>\n      <th>change_min</th>\n      <th>change_max</th>\n      <th>District</th>\n    </tr>\n  </thead>\n  <tbody>\n    <tr>\n      <th>186</th>\n      <td>186</td>\n      <td>2022-05-01</td>\n      <td>-1.944928</td>\n      <td>-8.030248</td>\n      <td>4.429741</td>\n      <td>Crime type_Anti-social behaviour</td>\n      <td>W02000335</td>\n      <td>-107.618734</td>\n      <td>-141.974210</td>\n      <td>-85.963809</td>\n      <td>Gwent</td>\n    </tr>\n    <tr>\n      <th>187</th>\n      <td>187</td>\n      <td>2022-06-01</td>\n      <td>-4.103251</td>\n      <td>-10.246207</td>\n      <td>2.459907</td>\n      <td>Crime type_Anti-social behaviour</td>\n      <td>W02000335</td>\n      <td>-118.554678</td>\n      <td>-164.842078</td>\n      <td>-91.349428</td>\n      <td>Gwent</td>\n    </tr>\n    <tr>\n      <th>188</th>\n      <td>188</td>\n      <td>2022-07-01</td>\n      <td>-3.798575</td>\n      <td>-9.926806</td>\n      <td>2.361384</td>\n      <td>Crime type_Anti-social behaviour</td>\n      <td>W02000335</td>\n      <td>-145.185910</td>\n      <td>-531.501114</td>\n      <td>-83.834426</td>\n      <td>Gwent</td>\n    </tr>\n    <tr>\n      <th>189</th>\n      <td>189</td>\n      <td>2022-08-01</td>\n      <td>-6.465542</td>\n      <td>-12.221430</td>\n      <td>0.577586</td>\n      <td>Crime type_Anti-social behaviour</td>\n      <td>W02000335</td>\n      <td>-224.795923</td>\n      <td>901.661907</td>\n      <td>-95.105373</td>\n      <td>Gwent</td>\n    </tr>\n    <tr>\n      <th>190</th>\n      <td>190</td>\n      <td>2022-09-01</td>\n      <td>-8.058225</td>\n      <td>-14.361641</td>\n      <td>-1.448672</td>\n      <td>Crime type_Anti-social behaviour</td>\n      <td>W02000335</td>\n      <td>-256.888431</td>\n      <td>1414.845458</td>\n      <td>-112.560148</td>\n      <td>Gwent</td>\n    </tr>\n    <tr>\n      <th>...</th>\n      <td>...</td>\n      <td>...</td>\n      <td>...</td>\n      <td>...</td>\n      <td>...</td>\n      <td>...</td>\n      <td>...</td>\n      <td>...</td>\n      <td>...</td>\n      <td>...</td>\n      <td>...</td>\n    </tr>\n    <tr>\n      <th>5911</th>\n      <td>5911</td>\n      <td>2022-06-01</td>\n      <td>-2.012339</td>\n      <td>-5.364375</td>\n      <td>1.440638</td>\n      <td>Crime type_Vehicle crime</td>\n      <td>W02000366</td>\n      <td>-146.393736</td>\n      <td>-664.972852</td>\n      <td>-80.840932</td>\n      <td>Gwent</td>\n    </tr>\n    <tr>\n      <th>5912</th>\n      <td>5912</td>\n      <td>2022-07-01</td>\n      <td>-2.591207</td>\n      <td>-6.199585</td>\n      <td>0.790667</td>\n      <td>Crime type_Vehicle crime</td>\n      <td>W02000366</td>\n      <td>-178.701051</td>\n      <td>6144.318810</td>\n      <td>-88.575240</td>\n      <td>Gwent</td>\n    </tr>\n    <tr>\n      <th>5913</th>\n      <td>5913</td>\n      <td>2022-08-01</td>\n      <td>-4.349123</td>\n      <td>-7.689076</td>\n      <td>-1.021507</td>\n      <td>Crime type_Vehicle crime</td>\n      <td>W02000366</td>\n      <td>-229.587858</td>\n      <td>-13942.903920</td>\n      <td>-115.195511</td>\n      <td>Gwent</td>\n    </tr>\n    <tr>\n      <th>5914</th>\n      <td>5914</td>\n      <td>2022-09-01</td>\n      <td>-2.454382</td>\n      <td>-6.037004</td>\n      <td>1.099414</td>\n      <td>Crime type_Vehicle crime</td>\n      <td>W02000366</td>\n      <td>-162.756868</td>\n      <td>-1144.976928</td>\n      <td>-85.077533</td>\n      <td>Gwent</td>\n    </tr>\n    <tr>\n      <th>5915</th>\n      <td>5915</td>\n      <td>2022-10-01</td>\n      <td>-3.725083</td>\n      <td>-6.969350</td>\n      <td>-0.356098</td>\n      <td>Crime type_Vehicle crime</td>\n      <td>W02000366</td>\n      <td>-297.033567</td>\n      <td>337.000762</td>\n      <td>-106.488534</td>\n      <td>Gwent</td>\n    </tr>\n  </tbody>\n</table>\n<p>1296 rows × 11 columns</p>\n</div>"
     },
     "metadata": {}
    }
   ]
  },
  {
   "cell_type": "code",
   "metadata": {
    "cell_id": "a542f63b4a624e419b5275b3e0476583",
    "tags": [],
    "deepnote_to_be_reexecuted": true,
    "source_hash": "b623e53d",
    "execution_start": 1648730726369,
    "execution_millis": 122,
    "deepnote_cell_type": "code",
    "deepnote_cell_height": 614.796875
   },
   "source": "",
   "execution_count": null,
   "outputs": [
    {
     "output_type": "execute_result",
     "execution_count": 5,
     "data": {
      "application/vnd.deepnote.dataframe.v3+json": {
       "column_count": 11,
       "row_count": 596,
       "columns": [
        {
         "name": "Unnamed: 0",
         "dtype": "int64",
         "stats": {
          "unique_count": 596,
          "nan_count": 0,
          "min": "192",
          "max": "5901",
          "histogram": [
           {
            "bin_start": 192,
            "bin_end": 762.9,
            "count": 70
           },
           {
            "bin_start": 762.9,
            "bin_end": 1333.8,
            "count": 54
           },
           {
            "bin_start": 1333.8,
            "bin_end": 1904.6999999999998,
            "count": 91
           },
           {
            "bin_start": 1904.6999999999998,
            "bin_end": 2475.6,
            "count": 97
           },
           {
            "bin_start": 2475.6,
            "bin_end": 3046.5,
            "count": 45
           },
           {
            "bin_start": 3046.5,
            "bin_end": 3617.3999999999996,
            "count": 43
           },
           {
            "bin_start": 3617.3999999999996,
            "bin_end": 4188.299999999999,
            "count": 81
           },
           {
            "bin_start": 4188.299999999999,
            "bin_end": 4759.2,
            "count": 35
           },
           {
            "bin_start": 4759.2,
            "bin_end": 5330.099999999999,
            "count": 46
           },
           {
            "bin_start": 5330.099999999999,
            "bin_end": 5901,
            "count": 34
           }
          ]
         }
        },
        {
         "name": "ds",
         "dtype": "object",
         "stats": {
          "unique_count": 12,
          "nan_count": 0,
          "categories": [
           {
            "name": "2022-02-01",
            "count": 60
           },
           {
            "name": "2022-03-01",
            "count": 60
           },
           {
            "name": "10 others",
            "count": 476
           }
          ]
         }
        },
        {
         "name": "yhat",
         "dtype": "float64",
         "stats": {
          "unique_count": 596,
          "nan_count": 0,
          "min": "-10.36689914050585",
          "max": "-0.0009273714719631",
          "histogram": [
           {
            "bin_start": -10.36689914050585,
            "bin_end": -9.330301963602462,
            "count": 1
           },
           {
            "bin_start": -9.330301963602462,
            "bin_end": -8.293704786699074,
            "count": 0
           },
           {
            "bin_start": -8.293704786699074,
            "bin_end": -7.257107609795684,
            "count": 2
           },
           {
            "bin_start": -7.257107609795684,
            "bin_end": -6.220510432892295,
            "count": 4
           },
           {
            "bin_start": -6.220510432892295,
            "bin_end": -5.183913255988907,
            "count": 8
           },
           {
            "bin_start": -5.183913255988907,
            "bin_end": -4.147316079085518,
            "count": 9
           },
           {
            "bin_start": -4.147316079085518,
            "bin_end": -3.1107189021821284,
            "count": 11
           },
           {
            "bin_start": -3.1107189021821284,
            "bin_end": -2.07412172527874,
            "count": 42
           },
           {
            "bin_start": -2.07412172527874,
            "bin_end": -1.0375245483753517,
            "count": 86
           },
           {
            "bin_start": -1.0375245483753517,
            "bin_end": -0.0009273714719631,
            "count": 433
           }
          ]
         }
        },
        {
         "name": "yhat_lower",
         "dtype": "float64",
         "stats": {
          "unique_count": 596,
          "nan_count": 0,
          "min": "-21.30491472638464",
          "max": "-0.2235973705373926",
          "histogram": [
           {
            "bin_start": -21.30491472638464,
            "bin_end": -19.196782990799917,
            "count": 1
           },
           {
            "bin_start": -19.196782990799917,
            "bin_end": -17.08865125521519,
            "count": 3
           },
           {
            "bin_start": -17.08865125521519,
            "bin_end": -14.980519519630466,
            "count": 7
           },
           {
            "bin_start": -14.980519519630466,
            "bin_end": -12.872387784045742,
            "count": 6
           },
           {
            "bin_start": -12.872387784045742,
            "bin_end": -10.764256048461018,
            "count": 6
           },
           {
            "bin_start": -10.764256048461018,
            "bin_end": -8.656124312876292,
            "count": 16
           },
           {
            "bin_start": -8.656124312876292,
            "bin_end": -6.547992577291566,
            "count": 28
           },
           {
            "bin_start": -6.547992577291566,
            "bin_end": -4.439860841706842,
            "count": 53
           },
           {
            "bin_start": -4.439860841706842,
            "bin_end": -2.3317291061221184,
            "count": 140
           },
           {
            "bin_start": -2.3317291061221184,
            "bin_end": -0.2235973705373926,
            "count": 336
           }
          ]
         }
        },
        {
         "name": "yhat_upper",
         "dtype": "float64",
         "stats": {
          "unique_count": 596,
          "nan_count": 0,
          "min": "-0.7256288621383095",
          "max": "11.24867937731984",
          "histogram": [
           {
            "bin_start": -0.7256288621383095,
            "bin_end": 0.47180196180750544,
            "count": 254
           },
           {
            "bin_start": 0.47180196180750544,
            "bin_end": 1.6692327857533202,
            "count": 197
           },
           {
            "bin_start": 1.6692327857533202,
            "bin_end": 2.866663609699135,
            "count": 101
           },
           {
            "bin_start": 2.866663609699135,
            "bin_end": 4.06409443364495,
            "count": 23
           },
           {
            "bin_start": 4.06409443364495,
            "bin_end": 5.261525257590765,
            "count": 8
           },
           {
            "bin_start": 5.261525257590765,
            "bin_end": 6.45895608153658,
            "count": 8
           },
           {
            "bin_start": 6.45895608153658,
            "bin_end": 7.656386905482394,
            "count": 1
           },
           {
            "bin_start": 7.656386905482394,
            "bin_end": 8.85381772942821,
            "count": 2
           },
           {
            "bin_start": 8.85381772942821,
            "bin_end": 10.051248553374025,
            "count": 1
           },
           {
            "bin_start": 10.051248553374025,
            "bin_end": 11.24867937731984,
            "count": 1
           }
          ]
         }
        },
        {
         "name": "Crime type",
         "dtype": "object",
         "stats": {
          "unique_count": 9,
          "nan_count": 0,
          "categories": [
           {
            "name": "Crime type_Criminal damage and arson",
            "count": 292
           },
           {
            "name": "Crime type_Theft from the person",
            "count": 88
           },
           {
            "name": "7 others",
            "count": 216
           }
          ]
         }
        },
        {
         "name": "MSOA code",
         "dtype": "object",
         "stats": {
          "unique_count": 32,
          "nan_count": 0,
          "categories": [
           {
            "name": "W02000341",
            "count": 37
           },
           {
            "name": "W02000344",
            "count": 37
           },
           {
            "name": "30 others",
            "count": 522
           }
          ]
         }
        },
        {
         "name": "change",
         "dtype": "float64",
         "stats": {
          "unique_count": 596,
          "nan_count": 0,
          "min": "-24273.290982768845",
          "max": "29447.275744756746",
          "histogram": [
           {
            "bin_start": -24273.290982768845,
            "bin_end": -18901.234310016287,
            "count": 1
           },
           {
            "bin_start": -18901.234310016287,
            "bin_end": -13529.177637263727,
            "count": 0
           },
           {
            "bin_start": -13529.177637263727,
            "bin_end": -8157.120964511167,
            "count": 3
           },
           {
            "bin_start": -8157.120964511167,
            "bin_end": -2785.0642917586083,
            "count": 3
           },
           {
            "bin_start": -2785.0642917586083,
            "bin_end": 2586.99238099395,
            "count": 584
           },
           {
            "bin_start": 2586.99238099395,
            "bin_end": 7959.049053746512,
            "count": 4
           },
           {
            "bin_start": 7959.049053746512,
            "bin_end": 13331.10572649907,
            "count": 0
           },
           {
            "bin_start": 13331.10572649907,
            "bin_end": 18703.16239925163,
            "count": 0
           },
           {
            "bin_start": 18703.16239925163,
            "bin_end": 24075.219072004187,
            "count": 0
           },
           {
            "bin_start": 24075.219072004187,
            "bin_end": 29447.275744756746,
            "count": 1
           }
          ]
         }
        },
        {
         "name": "change_min",
         "dtype": "float64",
         "stats": {
          "unique_count": 596,
          "nan_count": 0,
          "min": "-30.68807535489755",
          "max": "470.3079474902697",
          "histogram": [
           {
            "bin_start": -30.68807535489755,
            "bin_end": 19.41152692961918,
            "count": 300
           },
           {
            "bin_start": 19.41152692961918,
            "bin_end": 69.5111292141359,
            "count": 229
           },
           {
            "bin_start": 69.5111292141359,
            "bin_end": 119.61073149865264,
            "count": 44
           },
           {
            "bin_start": 119.61073149865264,
            "bin_end": 169.71033378316935,
            "count": 13
           },
           {
            "bin_start": 169.71033378316935,
            "bin_end": 219.80993606768607,
            "count": 3
           },
           {
            "bin_start": 219.80993606768607,
            "bin_end": 269.90953835220284,
            "count": 1
           },
           {
            "bin_start": 269.90953835220284,
            "bin_end": 320.00914063671956,
            "count": 1
           },
           {
            "bin_start": 320.00914063671956,
            "bin_end": 370.1087429212363,
            "count": 3
           },
           {
            "bin_start": 370.1087429212363,
            "bin_end": 420.208345205753,
            "count": 1
           },
           {
            "bin_start": 420.208345205753,
            "bin_end": 470.3079474902697,
            "count": 1
           }
          ]
         }
        },
        {
         "name": "change_max",
         "dtype": "float64",
         "stats": {
          "unique_count": 596,
          "nan_count": 0,
          "min": "-5410.91652365595",
          "max": "188.8155107366813",
          "histogram": [
           {
            "bin_start": -5410.91652365595,
            "bin_end": -4850.943320216687,
            "count": 1
           },
           {
            "bin_start": -4850.943320216687,
            "bin_end": -4290.970116777424,
            "count": 0
           },
           {
            "bin_start": -4290.970116777424,
            "bin_end": -3730.996913338161,
            "count": 0
           },
           {
            "bin_start": -3730.996913338161,
            "bin_end": -3171.023709898898,
            "count": 0
           },
           {
            "bin_start": -3171.023709898898,
            "bin_end": -2611.0505064596346,
            "count": 0
           },
           {
            "bin_start": -2611.0505064596346,
            "bin_end": -2051.077303020372,
            "count": 0
           },
           {
            "bin_start": -2051.077303020372,
            "bin_end": -1491.1040995811086,
            "count": 0
           },
           {
            "bin_start": -1491.1040995811086,
            "bin_end": -931.1308961418454,
            "count": 0
           },
           {
            "bin_start": -931.1308961418454,
            "bin_end": -371.1576927025826,
            "count": 0
           },
           {
            "bin_start": -371.1576927025826,
            "bin_end": 188.8155107366813,
            "count": 595
           }
          ]
         }
        },
        {
         "name": "District",
         "dtype": "object",
         "stats": {
          "unique_count": 1,
          "nan_count": 0,
          "categories": [
           {
            "name": "Gwent",
            "count": 596
           }
          ]
         }
        },
        {
         "name": "_deepnote_index_column",
         "dtype": "int64"
        }
       ],
       "rows": [
        {
         "Unnamed: 0": 192,
         "ds": "2021-11-01",
         "yhat": -0.1760379923074534,
         "yhat_lower": -0.7543661060332678,
         "yhat_upper": 0.401386586224926,
         "Crime type": "Crime type_Bicycle theft",
         "MSOA code": "W02000335",
         "change": 83.35418331222759,
         "change_min": 15.06854939579293,
         "change_max": -10.442757519078212,
         "District": "Gwent",
         "_deepnote_index_column": 192
        },
        {
         "Unnamed: 0": 193,
         "ds": "2021-12-01",
         "yhat": -0.0701039729042827,
         "yhat_lower": -0.6666192778659984,
         "yhat_upper": 0.4983516703952413,
         "Crime type": "Crime type_Bicycle theft",
         "MSOA code": "W02000335",
         "change": -39.70054307331389,
         "change_min": -0.737697892122361,
         "change_max": 15.561179117938284,
         "District": "Gwent",
         "_deepnote_index_column": 193
        },
        {
         "Unnamed: 0": 194,
         "ds": "2022-01-01",
         "yhat": -0.1588483319388378,
         "yhat_lower": -0.729587856489993,
         "yhat_upper": 0.4171944695535549,
         "Crime type": "Crime type_Bicycle theft",
         "MSOA code": "W02000335",
         "change": 1342.487143987022,
         "change_min": 35.9808787312026,
         "change_max": -19.57727211263598,
         "District": "Gwent",
         "_deepnote_index_column": 194
        },
        {
         "Unnamed: 0": 195,
         "ds": "2022-02-01",
         "yhat": -0.1415074303647443,
         "yhat_lower": -0.7298279181103641,
         "yhat_upper": 0.4593196028966106,
         "Crime type": "Crime type_Bicycle theft",
         "MSOA code": "W02000335",
         "change": -397.8967381574392,
         "change_min": 42.484530374425546,
         "change_max": -21.96788588620298,
         "District": "Gwent",
         "_deepnote_index_column": 195
        },
        {
         "Unnamed: 0": 198,
         "ds": "2022-05-01",
         "yhat": -0.2618351322597606,
         "yhat_lower": -0.7805984521465794,
         "yhat_upper": 0.2914576035570796,
         "Crime type": "Crime type_Bicycle theft",
         "MSOA code": "W02000335",
         "change": 95.98863979929568,
         "change_min": 9.697338702438367,
         "change_max": -35.12980044773628,
         "District": "Gwent",
         "_deepnote_index_column": 198
        },
        {
         "Unnamed: 0": 201,
         "ds": "2022-08-01",
         "yhat": -0.2167947401614215,
         "yhat_lower": -0.7756122024463027,
         "yhat_upper": 0.3522245769981113,
         "Crime type": "Crime type_Bicycle theft",
         "MSOA code": "W02000335",
         "change": 27.49366823426572,
         "change_min": 12.0208914956224,
         "change_max": -13.448569700707374,
         "District": "Gwent",
         "_deepnote_index_column": 201
        },
        {
         "Unnamed: 0": 203,
         "ds": "2022-10-01",
         "yhat": -0.2177660435246621,
         "yhat_lower": -0.7865142342245489,
         "yhat_upper": 0.3696671591209048,
         "Crime type": "Crime type_Bicycle theft",
         "MSOA code": "W02000335",
         "change": 36.9362986916988,
         "change_min": 5.753617923602836,
         "change_max": 1.7800243959827626,
         "District": "Gwent",
         "_deepnote_index_column": 203
        },
        {
         "Unnamed: 0": 207,
         "ds": "2022-02-01",
         "yhat": -1.0560363285371452,
         "yhat_lower": -3.6439738932321166,
         "yhat_upper": 1.330153025837769,
         "Crime type": "Crime type_Burglary",
         "MSOA code": "W02000335",
         "change": -5.061895479117686,
         "change_min": 2.263253144653527,
         "change_max": -1.2262068156437074,
         "District": "Gwent",
         "_deepnote_index_column": 207
        },
        {
         "Unnamed: 0": 209,
         "ds": "2022-04-01",
         "yhat": -0.182373129194832,
         "yhat_lower": -2.6886432438220007,
         "yhat_upper": 2.298760423612101,
         "Crime type": "Crime type_Burglary",
         "MSOA code": "W02000335",
         "change": -134.62001260176015,
         "change_min": 33.602106912879684,
         "change_max": -23.99383286932187,
         "District": "Gwent",
         "_deepnote_index_column": 209
        },
        {
         "Unnamed: 0": 214,
         "ds": "2022-09-01",
         "yhat": -0.4776727888355335,
         "yhat_lower": -2.929008247501931,
         "yhat_upper": 1.9373325691486727,
         "Crime type": "Crime type_Burglary",
         "MSOA code": "W02000335",
         "change": -37.79947057476728,
         "change_min": -7.775492646290793,
         "change_max": 19.50921628266,
         "District": "Gwent",
         "_deepnote_index_column": 214
        }
       ]
      },
      "text/plain": "      Unnamed: 0          ds      yhat  yhat_lower  yhat_upper  \\\n192          192  2021-11-01 -0.176038   -0.754366    0.401387   \n193          193  2021-12-01 -0.070104   -0.666619    0.498352   \n194          194  2022-01-01 -0.158848   -0.729588    0.417194   \n195          195  2022-02-01 -0.141507   -0.729828    0.459320   \n198          198  2022-05-01 -0.261835   -0.780598    0.291458   \n...          ...         ...       ...         ...         ...   \n5805        5805  2022-08-01 -1.563905   -4.311234    1.132574   \n5806        5806  2022-09-01 -1.758241   -4.459496    0.983628   \n5882        5882  2022-01-01 -0.231334   -1.579743    1.100588   \n5896        5896  2022-03-01 -0.116777   -0.763562    0.540507   \n5901        5901  2022-08-01 -0.072221   -0.670548    0.546771   \n\n                                Crime type  MSOA code       change  \\\n192               Crime type_Bicycle theft  W02000335    83.354183   \n193               Crime type_Bicycle theft  W02000335   -39.700543   \n194               Crime type_Bicycle theft  W02000335  1342.487144   \n195               Crime type_Bicycle theft  W02000335  -397.896738   \n198               Crime type_Bicycle theft  W02000335    95.988640   \n...                                    ...        ...          ...   \n5805  Crime type_Criminal damage and arson  W02000366   852.227737   \n5806  Crime type_Criminal damage and arson  W02000366   123.498915   \n5882                Crime type_Shoplifting  W02000366   -25.895624   \n5896      Crime type_Theft from the person  W02000366   434.056257   \n5901      Crime type_Theft from the person  W02000366    32.906921   \n\n      change_min  change_max District  \n192    15.068549  -10.442758    Gwent  \n193    -0.737698   15.561179    Gwent  \n194    35.980879  -19.577272    Gwent  \n195    42.484530  -21.967886    Gwent  \n198     9.697339  -35.129800    Gwent  \n...          ...         ...      ...  \n5805   53.407659  -56.845604    Gwent  \n5806   31.978045  -51.674209    Gwent  \n5882   -8.367659   -0.809685    Gwent  \n5896   14.547566  -16.392679    Gwent  \n5901   -3.314775   -1.266356    Gwent  \n\n[596 rows x 11 columns]",
      "text/html": "<div>\n<style scoped>\n    .dataframe tbody tr th:only-of-type {\n        vertical-align: middle;\n    }\n\n    .dataframe tbody tr th {\n        vertical-align: top;\n    }\n\n    .dataframe thead th {\n        text-align: right;\n    }\n</style>\n<table border=\"1\" class=\"dataframe\">\n  <thead>\n    <tr style=\"text-align: right;\">\n      <th></th>\n      <th>Unnamed: 0</th>\n      <th>ds</th>\n      <th>yhat</th>\n      <th>yhat_lower</th>\n      <th>yhat_upper</th>\n      <th>Crime type</th>\n      <th>MSOA code</th>\n      <th>change</th>\n      <th>change_min</th>\n      <th>change_max</th>\n      <th>District</th>\n    </tr>\n  </thead>\n  <tbody>\n    <tr>\n      <th>192</th>\n      <td>192</td>\n      <td>2021-11-01</td>\n      <td>-0.176038</td>\n      <td>-0.754366</td>\n      <td>0.401387</td>\n      <td>Crime type_Bicycle theft</td>\n      <td>W02000335</td>\n      <td>83.354183</td>\n      <td>15.068549</td>\n      <td>-10.442758</td>\n      <td>Gwent</td>\n    </tr>\n    <tr>\n      <th>193</th>\n      <td>193</td>\n      <td>2021-12-01</td>\n      <td>-0.070104</td>\n      <td>-0.666619</td>\n      <td>0.498352</td>\n      <td>Crime type_Bicycle theft</td>\n      <td>W02000335</td>\n      <td>-39.700543</td>\n      <td>-0.737698</td>\n      <td>15.561179</td>\n      <td>Gwent</td>\n    </tr>\n    <tr>\n      <th>194</th>\n      <td>194</td>\n      <td>2022-01-01</td>\n      <td>-0.158848</td>\n      <td>-0.729588</td>\n      <td>0.417194</td>\n      <td>Crime type_Bicycle theft</td>\n      <td>W02000335</td>\n      <td>1342.487144</td>\n      <td>35.980879</td>\n      <td>-19.577272</td>\n      <td>Gwent</td>\n    </tr>\n    <tr>\n      <th>195</th>\n      <td>195</td>\n      <td>2022-02-01</td>\n      <td>-0.141507</td>\n      <td>-0.729828</td>\n      <td>0.459320</td>\n      <td>Crime type_Bicycle theft</td>\n      <td>W02000335</td>\n      <td>-397.896738</td>\n      <td>42.484530</td>\n      <td>-21.967886</td>\n      <td>Gwent</td>\n    </tr>\n    <tr>\n      <th>198</th>\n      <td>198</td>\n      <td>2022-05-01</td>\n      <td>-0.261835</td>\n      <td>-0.780598</td>\n      <td>0.291458</td>\n      <td>Crime type_Bicycle theft</td>\n      <td>W02000335</td>\n      <td>95.988640</td>\n      <td>9.697339</td>\n      <td>-35.129800</td>\n      <td>Gwent</td>\n    </tr>\n    <tr>\n      <th>...</th>\n      <td>...</td>\n      <td>...</td>\n      <td>...</td>\n      <td>...</td>\n      <td>...</td>\n      <td>...</td>\n      <td>...</td>\n      <td>...</td>\n      <td>...</td>\n      <td>...</td>\n      <td>...</td>\n    </tr>\n    <tr>\n      <th>5805</th>\n      <td>5805</td>\n      <td>2022-08-01</td>\n      <td>-1.563905</td>\n      <td>-4.311234</td>\n      <td>1.132574</td>\n      <td>Crime type_Criminal damage and arson</td>\n      <td>W02000366</td>\n      <td>852.227737</td>\n      <td>53.407659</td>\n      <td>-56.845604</td>\n      <td>Gwent</td>\n    </tr>\n    <tr>\n      <th>5806</th>\n      <td>5806</td>\n      <td>2022-09-01</td>\n      <td>-1.758241</td>\n      <td>-4.459496</td>\n      <td>0.983628</td>\n      <td>Crime type_Criminal damage and arson</td>\n      <td>W02000366</td>\n      <td>123.498915</td>\n      <td>31.978045</td>\n      <td>-51.674209</td>\n      <td>Gwent</td>\n    </tr>\n    <tr>\n      <th>5882</th>\n      <td>5882</td>\n      <td>2022-01-01</td>\n      <td>-0.231334</td>\n      <td>-1.579743</td>\n      <td>1.100588</td>\n      <td>Crime type_Shoplifting</td>\n      <td>W02000366</td>\n      <td>-25.895624</td>\n      <td>-8.367659</td>\n      <td>-0.809685</td>\n      <td>Gwent</td>\n    </tr>\n    <tr>\n      <th>5896</th>\n      <td>5896</td>\n      <td>2022-03-01</td>\n      <td>-0.116777</td>\n      <td>-0.763562</td>\n      <td>0.540507</td>\n      <td>Crime type_Theft from the person</td>\n      <td>W02000366</td>\n      <td>434.056257</td>\n      <td>14.547566</td>\n      <td>-16.392679</td>\n      <td>Gwent</td>\n    </tr>\n    <tr>\n      <th>5901</th>\n      <td>5901</td>\n      <td>2022-08-01</td>\n      <td>-0.072221</td>\n      <td>-0.670548</td>\n      <td>0.546771</td>\n      <td>Crime type_Theft from the person</td>\n      <td>W02000366</td>\n      <td>32.906921</td>\n      <td>-3.314775</td>\n      <td>-1.266356</td>\n      <td>Gwent</td>\n    </tr>\n  </tbody>\n</table>\n<p>596 rows × 11 columns</p>\n</div>"
     },
     "metadata": {}
    }
   ]
  },
  {
   "cell_type": "code",
   "metadata": {
    "cell_id": "7f6b2670e4e54e2d94b47dbe4851c3a6",
    "tags": [],
    "deepnote_to_be_reexecuted": true,
    "source_hash": "b623e53d",
    "deepnote_cell_type": "code",
    "deepnote_cell_height": 81
   },
   "source": "",
   "execution_count": null,
   "outputs": []
  },
  {
   "cell_type": "markdown",
   "source": "<a style='text-decoration:none;line-height:16px;display:flex;color:#5B5B62;padding:10px;justify-content:end;' href='https://deepnote.com?utm_source=created-in-deepnote-cell&projectId=40789b9a-1c62-45b9-9d9c-b1a39ebe3dfd' target=\"_blank\">\n<img alt='Created in deepnote.com' style='display:inline;max-height:16px;margin:0px;margin-right:7.5px;' src='data:image/svg+xml;base64,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' > </img>\nCreated in <span style='font-weight:600;margin-left:4px;'>Deepnote</span></a>",
   "metadata": {
    "tags": [],
    "created_in_deepnote_cell": true,
    "deepnote_cell_type": "markdown"
   }
  }
 ],
 "nbformat": 4,
 "nbformat_minor": 2,
 "metadata": {
  "orig_nbformat": 2,
  "deepnote": {
   "is_reactive": false
  },
  "deepnote_notebook_id": "cdcc609c-031d-4e89-a17f-540b5d30fcf8",
  "deepnote_execution_queue": []
 }
}
