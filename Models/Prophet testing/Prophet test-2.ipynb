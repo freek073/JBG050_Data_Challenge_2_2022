{
 "cells": [
  {
   "cell_type": "code",
   "metadata": {
    "cell_id": "8cc5e909-eef3-4d6e-9003-fd43ba4ac96e",
    "tags": [],
    "deepnote_to_be_reexecuted": false,
    "source_hash": "a7ca13c8",
    "execution_start": 1648121822844,
    "execution_millis": 3367900,
    "deepnote_cell_type": "code",
    "deepnote_cell_height": 99
   },
   "source": "#! pip install --upgrade pip\n#!pip install pystan==2.19.1.1 convertdate prophet",
   "execution_count": null,
   "outputs": []
  },
  {
   "cell_type": "code",
   "metadata": {
    "tags": [],
    "deepnote_to_be_reexecuted": false,
    "source_hash": "66fca4c5",
    "execution_start": 1648398591693,
    "execution_millis": 5527,
    "cell_id": "00001-9cdf96a5-0613-4646-8be9-61913117d937",
    "deepnote_cell_type": "code",
    "deepnote_cell_height": 316.796875
   },
   "source": "import pandas as pd\nimport os\nimport tqdm as tq\nimport string\nimport statistics as stats\nimport re\npd.set_option('display.max_columns', None) # allows to display all columns of a large dataframe\nfrom prophet import Prophet\nfrom prophet.diagnostics import cross_validation\nfrom prophet.diagnostics import performance_metrics\nfrom prophet.plot import plot_cross_validation_metric",
   "execution_count": null,
   "outputs": [
    {
     "name": "stderr",
     "text": "/shared-libs/python3.7/py/lib/python3.7/site-packages/tqdm/auto.py:22: TqdmWarning: IProgress not found. Please update jupyter and ipywidgets. See https://ipywidgets.readthedocs.io/en/stable/user_install.html\n  from .autonotebook import tqdm as notebook_tqdm\n",
     "output_type": "stream"
    }
   ]
  },
  {
   "cell_type": "code",
   "metadata": {
    "tags": [],
    "deepnote_to_be_reexecuted": false,
    "source_hash": "4388e35f",
    "execution_start": 1648398597225,
    "execution_millis": 4715,
    "cell_id": "00002-b57820eb-c004-4e6c-a1dd-986461ee9c3e",
    "deepnote_table_state": {
     "pageSize": 10,
     "pageIndex": 8,
     "filters": [],
     "sortBy": []
    },
    "deepnote_table_loading": false,
    "deepnote_cell_type": "code",
    "deepnote_cell_height": 322.796875
   },
   "source": "df = pd.read_csv('/work/Prophet testing/crimes_and_features.csv')\ndf = df.loc[df['MSOA code'] == 'E02000001']\ndf",
   "execution_count": null,
   "outputs": [
    {
     "output_type": "execute_result",
     "execution_count": 2,
     "data": {
      "application/vnd.deepnote.dataframe.v3+json": {
       "column_count": 25,
       "row_count": 82,
       "columns": [
        {
         "name": "Unnamed: 0",
         "dtype": "int64",
         "stats": {
          "unique_count": 82,
          "nan_count": 0,
          "min": "0",
          "max": "583829",
          "histogram": [
           {
            "bin_start": 0,
            "bin_end": 58382.9,
            "count": 8
           },
           {
            "bin_start": 58382.9,
            "bin_end": 116765.8,
            "count": 8
           },
           {
            "bin_start": 116765.8,
            "bin_end": 175148.7,
            "count": 8
           },
           {
            "bin_start": 175148.7,
            "bin_end": 233531.6,
            "count": 8
           },
           {
            "bin_start": 233531.6,
            "bin_end": 291914.5,
            "count": 8
           },
           {
            "bin_start": 291914.5,
            "bin_end": 350297.4,
            "count": 8
           },
           {
            "bin_start": 350297.4,
            "bin_end": 408680.3,
            "count": 9
           },
           {
            "bin_start": 408680.3,
            "bin_end": 467063.2,
            "count": 8
           },
           {
            "bin_start": 467063.2,
            "bin_end": 525446.1,
            "count": 8
           },
           {
            "bin_start": 525446.1,
            "bin_end": 583829,
            "count": 9
           }
          ]
         }
        },
        {
         "name": "Month",
         "dtype": "object",
         "stats": {
          "unique_count": 82,
          "nan_count": 0,
          "categories": [
           {
            "name": "2015-01",
            "count": 1
           },
           {
            "name": "2015-02",
            "count": 1
           },
           {
            "name": "80 others",
            "count": 80
           }
          ]
         }
        },
        {
         "name": "MSOA code",
         "dtype": "object",
         "stats": {
          "unique_count": 1,
          "nan_count": 0,
          "categories": [
           {
            "name": "E02000001",
            "count": 82
           }
          ]
         }
        },
        {
         "name": "Crime type_Anti-social behaviour",
         "dtype": "float64",
         "stats": {
          "unique_count": 60,
          "nan_count": 0,
          "min": "4.0",
          "max": "177.0",
          "histogram": [
           {
            "bin_start": 4,
            "bin_end": 21.3,
            "count": 1
           },
           {
            "bin_start": 21.3,
            "bin_end": 38.6,
            "count": 1
           },
           {
            "bin_start": 38.6,
            "bin_end": 55.900000000000006,
            "count": 5
           },
           {
            "bin_start": 55.900000000000006,
            "bin_end": 73.2,
            "count": 13
           },
           {
            "bin_start": 73.2,
            "bin_end": 90.5,
            "count": 18
           },
           {
            "bin_start": 90.5,
            "bin_end": 107.80000000000001,
            "count": 18
           },
           {
            "bin_start": 107.80000000000001,
            "bin_end": 125.10000000000001,
            "count": 6
           },
           {
            "bin_start": 125.10000000000001,
            "bin_end": 142.4,
            "count": 10
           },
           {
            "bin_start": 142.4,
            "bin_end": 159.70000000000002,
            "count": 8
           },
           {
            "bin_start": 159.70000000000002,
            "bin_end": 177,
            "count": 2
           }
          ]
         }
        },
        {
         "name": "Crime type_Bicycle theft",
         "dtype": "float64",
         "stats": {
          "unique_count": 42,
          "nan_count": 0,
          "min": "6.0",
          "max": "77.0",
          "histogram": [
           {
            "bin_start": 6,
            "bin_end": 13.1,
            "count": 5
           },
           {
            "bin_start": 13.1,
            "bin_end": 20.2,
            "count": 8
           },
           {
            "bin_start": 20.2,
            "bin_end": 27.299999999999997,
            "count": 17
           },
           {
            "bin_start": 27.299999999999997,
            "bin_end": 34.4,
            "count": 17
           },
           {
            "bin_start": 34.4,
            "bin_end": 41.5,
            "count": 15
           },
           {
            "bin_start": 41.5,
            "bin_end": 48.599999999999994,
            "count": 7
           },
           {
            "bin_start": 48.599999999999994,
            "bin_end": 55.699999999999996,
            "count": 4
           },
           {
            "bin_start": 55.699999999999996,
            "bin_end": 62.8,
            "count": 3
           },
           {
            "bin_start": 62.8,
            "bin_end": 69.9,
            "count": 4
           },
           {
            "bin_start": 69.9,
            "bin_end": 77,
            "count": 2
           }
          ]
         }
        },
        {
         "name": "Crime type_Burglary",
         "dtype": "float64",
         "stats": {
          "unique_count": 32,
          "nan_count": 0,
          "min": "6.0",
          "max": "43.0",
          "histogram": [
           {
            "bin_start": 6,
            "bin_end": 9.7,
            "count": 5
           },
           {
            "bin_start": 9.7,
            "bin_end": 13.4,
            "count": 7
           },
           {
            "bin_start": 13.4,
            "bin_end": 17.1,
            "count": 15
           },
           {
            "bin_start": 17.1,
            "bin_end": 20.8,
            "count": 7
           },
           {
            "bin_start": 20.8,
            "bin_end": 24.5,
            "count": 19
           },
           {
            "bin_start": 24.5,
            "bin_end": 28.200000000000003,
            "count": 8
           },
           {
            "bin_start": 28.200000000000003,
            "bin_end": 31.900000000000002,
            "count": 8
           },
           {
            "bin_start": 31.900000000000002,
            "bin_end": 35.6,
            "count": 8
           },
           {
            "bin_start": 35.6,
            "bin_end": 39.300000000000004,
            "count": 3
           },
           {
            "bin_start": 39.300000000000004,
            "bin_end": 43,
            "count": 2
           }
          ]
         }
        },
        {
         "name": "Crime type_Criminal damage and arson",
         "dtype": "float64",
         "stats": {
          "unique_count": 30,
          "nan_count": 0,
          "min": "6.0",
          "max": "45.0",
          "histogram": [
           {
            "bin_start": 6,
            "bin_end": 9.9,
            "count": 1
           },
           {
            "bin_start": 9.9,
            "bin_end": 13.8,
            "count": 9
           },
           {
            "bin_start": 13.8,
            "bin_end": 17.7,
            "count": 12
           },
           {
            "bin_start": 17.7,
            "bin_end": 21.6,
            "count": 14
           },
           {
            "bin_start": 21.6,
            "bin_end": 25.5,
            "count": 20
           },
           {
            "bin_start": 25.5,
            "bin_end": 29.4,
            "count": 12
           },
           {
            "bin_start": 29.4,
            "bin_end": 33.3,
            "count": 8
           },
           {
            "bin_start": 33.3,
            "bin_end": 37.2,
            "count": 4
           },
           {
            "bin_start": 37.2,
            "bin_end": 41.1,
            "count": 1
           },
           {
            "bin_start": 41.1,
            "bin_end": 45,
            "count": 1
           }
          ]
         }
        },
        {
         "name": "Crime type_Drugs",
         "dtype": "float64",
         "stats": {
          "unique_count": 40,
          "nan_count": 0,
          "min": "13.0",
          "max": "71.0",
          "histogram": [
           {
            "bin_start": 13,
            "bin_end": 18.8,
            "count": 6
           },
           {
            "bin_start": 18.8,
            "bin_end": 24.6,
            "count": 10
           },
           {
            "bin_start": 24.6,
            "bin_end": 30.4,
            "count": 23
           },
           {
            "bin_start": 30.4,
            "bin_end": 36.2,
            "count": 11
           },
           {
            "bin_start": 36.2,
            "bin_end": 42,
            "count": 7
           },
           {
            "bin_start": 42,
            "bin_end": 47.8,
            "count": 7
           },
           {
            "bin_start": 47.8,
            "bin_end": 53.6,
            "count": 9
           },
           {
            "bin_start": 53.6,
            "bin_end": 59.4,
            "count": 3
           },
           {
            "bin_start": 59.4,
            "bin_end": 65.19999999999999,
            "count": 3
           },
           {
            "bin_start": 65.19999999999999,
            "bin_end": 71,
            "count": 3
           }
          ]
         }
        },
        {
         "name": "Crime type_Other crime",
         "dtype": "float64",
         "stats": {
          "unique_count": 20,
          "nan_count": 0,
          "min": "2.0",
          "max": "27.0",
          "histogram": [
           {
            "bin_start": 2,
            "bin_end": 4.5,
            "count": 5
           },
           {
            "bin_start": 4.5,
            "bin_end": 7,
            "count": 6
           },
           {
            "bin_start": 7,
            "bin_end": 9.5,
            "count": 20
           },
           {
            "bin_start": 9.5,
            "bin_end": 12,
            "count": 14
           },
           {
            "bin_start": 12,
            "bin_end": 14.5,
            "count": 20
           },
           {
            "bin_start": 14.5,
            "bin_end": 17,
            "count": 8
           },
           {
            "bin_start": 17,
            "bin_end": 19.5,
            "count": 5
           },
           {
            "bin_start": 19.5,
            "bin_end": 22,
            "count": 2
           },
           {
            "bin_start": 22,
            "bin_end": 24.5,
            "count": 0
           },
           {
            "bin_start": 24.5,
            "bin_end": 27,
            "count": 2
           }
          ]
         }
        },
        {
         "name": "Crime type_Other theft",
         "dtype": "float64",
         "stats": {
          "unique_count": 69,
          "nan_count": 0,
          "min": "12.0",
          "max": "363.0",
          "histogram": [
           {
            "bin_start": 12,
            "bin_end": 47.1,
            "count": 8
           },
           {
            "bin_start": 47.1,
            "bin_end": 82.2,
            "count": 5
           },
           {
            "bin_start": 82.2,
            "bin_end": 117.30000000000001,
            "count": 7
           },
           {
            "bin_start": 117.30000000000001,
            "bin_end": 152.4,
            "count": 28
           },
           {
            "bin_start": 152.4,
            "bin_end": 187.5,
            "count": 18
           },
           {
            "bin_start": 187.5,
            "bin_end": 222.60000000000002,
            "count": 5
           },
           {
            "bin_start": 222.60000000000002,
            "bin_end": 257.70000000000005,
            "count": 3
           },
           {
            "bin_start": 257.70000000000005,
            "bin_end": 292.8,
            "count": 5
           },
           {
            "bin_start": 292.8,
            "bin_end": 327.90000000000003,
            "count": 1
           },
           {
            "bin_start": 327.90000000000003,
            "bin_end": 363,
            "count": 2
           }
          ]
         }
        },
        {
         "name": "Crime type_Possession of weapons",
         "dtype": "float64",
         "stats": {
          "unique_count": 11,
          "nan_count": 0,
          "min": "1.0",
          "max": "13.0",
          "histogram": [
           {
            "bin_start": 1,
            "bin_end": 2.2,
            "count": 21
           },
           {
            "bin_start": 2.2,
            "bin_end": 3.4,
            "count": 8
           },
           {
            "bin_start": 3.4,
            "bin_end": 4.6,
            "count": 12
           },
           {
            "bin_start": 4.6,
            "bin_end": 5.8,
            "count": 17
           },
           {
            "bin_start": 5.8,
            "bin_end": 7,
            "count": 7
           },
           {
            "bin_start": 7,
            "bin_end": 8.2,
            "count": 11
           },
           {
            "bin_start": 8.2,
            "bin_end": 9.4,
            "count": 3
           },
           {
            "bin_start": 9.4,
            "bin_end": 10.6,
            "count": 2
           },
           {
            "bin_start": 10.6,
            "bin_end": 11.799999999999999,
            "count": 0
           },
           {
            "bin_start": 11.799999999999999,
            "bin_end": 13,
            "count": 1
           }
          ]
         }
        },
        {
         "name": "Crime type_Public order",
         "dtype": "float64",
         "stats": {
          "unique_count": 48,
          "nan_count": 0,
          "min": "14.0",
          "max": "77.0",
          "histogram": [
           {
            "bin_start": 14,
            "bin_end": 20.3,
            "count": 10
           },
           {
            "bin_start": 20.3,
            "bin_end": 26.6,
            "count": 11
           },
           {
            "bin_start": 26.6,
            "bin_end": 32.9,
            "count": 6
           },
           {
            "bin_start": 32.9,
            "bin_end": 39.2,
            "count": 12
           },
           {
            "bin_start": 39.2,
            "bin_end": 45.5,
            "count": 8
           },
           {
            "bin_start": 45.5,
            "bin_end": 51.8,
            "count": 12
           },
           {
            "bin_start": 51.8,
            "bin_end": 58.1,
            "count": 8
           },
           {
            "bin_start": 58.1,
            "bin_end": 64.4,
            "count": 6
           },
           {
            "bin_start": 64.4,
            "bin_end": 70.69999999999999,
            "count": 4
           },
           {
            "bin_start": 70.69999999999999,
            "bin_end": 77,
            "count": 5
           }
          ]
         }
        },
        {
         "name": "Crime type_Robbery",
         "dtype": "float64",
         "stats": {
          "unique_count": 23,
          "nan_count": 0,
          "min": "1.0",
          "max": "25.0",
          "histogram": [
           {
            "bin_start": 1,
            "bin_end": 3.4,
            "count": 18
           },
           {
            "bin_start": 3.4,
            "bin_end": 5.8,
            "count": 11
           },
           {
            "bin_start": 5.8,
            "bin_end": 8.2,
            "count": 17
           },
           {
            "bin_start": 8.2,
            "bin_end": 10.6,
            "count": 9
           },
           {
            "bin_start": 10.6,
            "bin_end": 13,
            "count": 5
           },
           {
            "bin_start": 13,
            "bin_end": 15.399999999999999,
            "count": 12
           },
           {
            "bin_start": 15.399999999999999,
            "bin_end": 17.8,
            "count": 2
           },
           {
            "bin_start": 17.8,
            "bin_end": 20.2,
            "count": 4
           },
           {
            "bin_start": 20.2,
            "bin_end": 22.599999999999998,
            "count": 2
           },
           {
            "bin_start": 22.599999999999998,
            "bin_end": 25,
            "count": 2
           }
          ]
         }
        },
        {
         "name": "Crime type_Shoplifting",
         "dtype": "float64",
         "stats": {
          "unique_count": 45,
          "nan_count": 0,
          "min": "18.0",
          "max": "117.0",
          "histogram": [
           {
            "bin_start": 18,
            "bin_end": 27.9,
            "count": 1
           },
           {
            "bin_start": 27.9,
            "bin_end": 37.8,
            "count": 1
           },
           {
            "bin_start": 37.8,
            "bin_end": 47.7,
            "count": 7
           },
           {
            "bin_start": 47.7,
            "bin_end": 57.6,
            "count": 14
           },
           {
            "bin_start": 57.6,
            "bin_end": 67.5,
            "count": 14
           },
           {
            "bin_start": 67.5,
            "bin_end": 77.4,
            "count": 22
           },
           {
            "bin_start": 77.4,
            "bin_end": 87.3,
            "count": 11
           },
           {
            "bin_start": 87.3,
            "bin_end": 97.2,
            "count": 6
           },
           {
            "bin_start": 97.2,
            "bin_end": 107.10000000000001,
            "count": 4
           },
           {
            "bin_start": 107.10000000000001,
            "bin_end": 117,
            "count": 2
           }
          ]
         }
        },
        {
         "name": "Crime type_Theft from the person",
         "dtype": "float64",
         "stats": {
          "unique_count": 59,
          "nan_count": 0,
          "min": "10.0",
          "max": "177.0",
          "histogram": [
           {
            "bin_start": 10,
            "bin_end": 26.7,
            "count": 6
           },
           {
            "bin_start": 26.7,
            "bin_end": 43.4,
            "count": 11
           },
           {
            "bin_start": 43.4,
            "bin_end": 60.099999999999994,
            "count": 17
           },
           {
            "bin_start": 60.099999999999994,
            "bin_end": 76.8,
            "count": 16
           },
           {
            "bin_start": 76.8,
            "bin_end": 93.5,
            "count": 11
           },
           {
            "bin_start": 93.5,
            "bin_end": 110.19999999999999,
            "count": 11
           },
           {
            "bin_start": 110.19999999999999,
            "bin_end": 126.89999999999999,
            "count": 5
           },
           {
            "bin_start": 126.89999999999999,
            "bin_end": 143.6,
            "count": 1
           },
           {
            "bin_start": 143.6,
            "bin_end": 160.29999999999998,
            "count": 2
           },
           {
            "bin_start": 160.29999999999998,
            "bin_end": 177,
            "count": 2
           }
          ]
         }
        },
        {
         "name": "Crime type_Vehicle crime",
         "dtype": "float64",
         "stats": {
          "unique_count": 28,
          "nan_count": 0,
          "min": "2.0",
          "max": "31.0",
          "histogram": [
           {
            "bin_start": 2,
            "bin_end": 4.9,
            "count": 2
           },
           {
            "bin_start": 4.9,
            "bin_end": 7.8,
            "count": 6
           },
           {
            "bin_start": 7.8,
            "bin_end": 10.7,
            "count": 15
           },
           {
            "bin_start": 10.7,
            "bin_end": 13.6,
            "count": 12
           },
           {
            "bin_start": 13.6,
            "bin_end": 16.5,
            "count": 11
           },
           {
            "bin_start": 16.5,
            "bin_end": 19.4,
            "count": 13
           },
           {
            "bin_start": 19.4,
            "bin_end": 22.3,
            "count": 5
           },
           {
            "bin_start": 22.3,
            "bin_end": 25.2,
            "count": 10
           },
           {
            "bin_start": 25.2,
            "bin_end": 28.099999999999998,
            "count": 5
           },
           {
            "bin_start": 28.099999999999998,
            "bin_end": 31,
            "count": 3
           }
          ]
         }
        },
        {
         "name": "Crime type_Violence and sexual offences",
         "dtype": "float64",
         "stats": {
          "unique_count": 66,
          "nan_count": 0,
          "min": "22.0",
          "max": "190.0",
          "histogram": [
           {
            "bin_start": 22,
            "bin_end": 38.8,
            "count": 3
           },
           {
            "bin_start": 38.8,
            "bin_end": 55.6,
            "count": 3
           },
           {
            "bin_start": 55.6,
            "bin_end": 72.4,
            "count": 10
           },
           {
            "bin_start": 72.4,
            "bin_end": 89.2,
            "count": 13
           },
           {
            "bin_start": 89.2,
            "bin_end": 106,
            "count": 10
           },
           {
            "bin_start": 106,
            "bin_end": 122.80000000000001,
            "count": 10
           },
           {
            "bin_start": 122.80000000000001,
            "bin_end": 139.60000000000002,
            "count": 16
           },
           {
            "bin_start": 139.60000000000002,
            "bin_end": 156.4,
            "count": 9
           },
           {
            "bin_start": 156.4,
            "bin_end": 173.20000000000002,
            "count": 3
           },
           {
            "bin_start": 173.20000000000002,
            "bin_end": 190,
            "count": 5
           }
          ]
         }
        },
        {
         "name": "Sum crimes",
         "dtype": "int64",
         "stats": {
          "unique_count": 79,
          "nan_count": 0,
          "min": "234",
          "max": "1087",
          "histogram": [
           {
            "bin_start": 234,
            "bin_end": 319.3,
            "count": 4
           },
           {
            "bin_start": 319.3,
            "bin_end": 404.6,
            "count": 3
           },
           {
            "bin_start": 404.6,
            "bin_end": 489.9,
            "count": 4
           },
           {
            "bin_start": 489.9,
            "bin_end": 575.2,
            "count": 11
           },
           {
            "bin_start": 575.2,
            "bin_end": 660.5,
            "count": 16
           },
           {
            "bin_start": 660.5,
            "bin_end": 745.8,
            "count": 11
           },
           {
            "bin_start": 745.8,
            "bin_end": 831.1,
            "count": 12
           },
           {
            "bin_start": 831.1,
            "bin_end": 916.4,
            "count": 11
           },
           {
            "bin_start": 916.4,
            "bin_end": 1001.6999999999999,
            "count": 4
           },
           {
            "bin_start": 1001.6999999999999,
            "bin_end": 1087,
            "count": 6
           }
          ]
         }
        },
        {
         "name": "Median Age",
         "dtype": "float64",
         "stats": {
          "unique_count": 1,
          "nan_count": 0,
          "min": "38.15",
          "max": "38.15",
          "histogram": [
           {
            "bin_start": 37.65,
            "bin_end": 37.75,
            "count": 0
           },
           {
            "bin_start": 37.75,
            "bin_end": 37.85,
            "count": 0
           },
           {
            "bin_start": 37.85,
            "bin_end": 37.949999999999996,
            "count": 0
           },
           {
            "bin_start": 37.949999999999996,
            "bin_end": 38.05,
            "count": 0
           },
           {
            "bin_start": 38.05,
            "bin_end": 38.15,
            "count": 0
           },
           {
            "bin_start": 38.15,
            "bin_end": 38.25,
            "count": 82
           },
           {
            "bin_start": 38.25,
            "bin_end": 38.35,
            "count": 0
           },
           {
            "bin_start": 38.35,
            "bin_end": 38.449999999999996,
            "count": 0
           },
           {
            "bin_start": 38.449999999999996,
            "bin_end": 38.55,
            "count": 0
           },
           {
            "bin_start": 38.55,
            "bin_end": 38.65,
            "count": 0
           }
          ]
         }
        },
        {
         "name": "life_exp_m",
         "dtype": "float64",
         "stats": {
          "unique_count": 1,
          "nan_count": 0,
          "min": "90.37",
          "max": "90.37",
          "histogram": [
           {
            "bin_start": 89.87,
            "bin_end": 89.97,
            "count": 0
           },
           {
            "bin_start": 89.97,
            "bin_end": 90.07000000000001,
            "count": 0
           },
           {
            "bin_start": 90.07000000000001,
            "bin_end": 90.17,
            "count": 0
           },
           {
            "bin_start": 90.17,
            "bin_end": 90.27000000000001,
            "count": 0
           },
           {
            "bin_start": 90.27000000000001,
            "bin_end": 90.37,
            "count": 0
           },
           {
            "bin_start": 90.37,
            "bin_end": 90.47,
            "count": 82
           },
           {
            "bin_start": 90.47,
            "bin_end": 90.57000000000001,
            "count": 0
           },
           {
            "bin_start": 90.57000000000001,
            "bin_end": 90.67,
            "count": 0
           },
           {
            "bin_start": 90.67,
            "bin_end": 90.77000000000001,
            "count": 0
           },
           {
            "bin_start": 90.77000000000001,
            "bin_end": 90.87,
            "count": 0
           }
          ]
         }
        },
        {
         "name": "life_exp_f",
         "dtype": "float64",
         "stats": {
          "unique_count": 1,
          "nan_count": 0,
          "min": "90.74",
          "max": "90.74",
          "histogram": [
           {
            "bin_start": 90.24,
            "bin_end": 90.33999999999999,
            "count": 0
           },
           {
            "bin_start": 90.33999999999999,
            "bin_end": 90.44,
            "count": 0
           },
           {
            "bin_start": 90.44,
            "bin_end": 90.53999999999999,
            "count": 0
           },
           {
            "bin_start": 90.53999999999999,
            "bin_end": 90.64,
            "count": 0
           },
           {
            "bin_start": 90.64,
            "bin_end": 90.74,
            "count": 0
           },
           {
            "bin_start": 90.74,
            "bin_end": 90.83999999999999,
            "count": 82
           },
           {
            "bin_start": 90.83999999999999,
            "bin_end": 90.94,
            "count": 0
           },
           {
            "bin_start": 90.94,
            "bin_end": 91.03999999999999,
            "count": 0
           },
           {
            "bin_start": 91.03999999999999,
            "bin_end": 91.14,
            "count": 0
           },
           {
            "bin_start": 91.14,
            "bin_end": 91.24,
            "count": 0
           }
          ]
         }
        },
        {
         "name": "life_exp_m65",
         "dtype": "float64",
         "stats": {
          "unique_count": 1,
          "nan_count": 0,
          "min": "90.74",
          "max": "90.74",
          "histogram": [
           {
            "bin_start": 90.24,
            "bin_end": 90.33999999999999,
            "count": 0
           },
           {
            "bin_start": 90.33999999999999,
            "bin_end": 90.44,
            "count": 0
           },
           {
            "bin_start": 90.44,
            "bin_end": 90.53999999999999,
            "count": 0
           },
           {
            "bin_start": 90.53999999999999,
            "bin_end": 90.64,
            "count": 0
           },
           {
            "bin_start": 90.64,
            "bin_end": 90.74,
            "count": 0
           },
           {
            "bin_start": 90.74,
            "bin_end": 90.83999999999999,
            "count": 82
           },
           {
            "bin_start": 90.83999999999999,
            "bin_end": 90.94,
            "count": 0
           },
           {
            "bin_start": 90.94,
            "bin_end": 91.03999999999999,
            "count": 0
           },
           {
            "bin_start": 91.03999999999999,
            "bin_end": 91.14,
            "count": 0
           },
           {
            "bin_start": 91.14,
            "bin_end": 91.24,
            "count": 0
           }
          ]
         }
        },
        {
         "name": "life_exp_f_65",
         "dtype": "float64",
         "stats": {
          "unique_count": 1,
          "nan_count": 0,
          "min": "27.61",
          "max": "27.61",
          "histogram": [
           {
            "bin_start": 27.11,
            "bin_end": 27.21,
            "count": 0
           },
           {
            "bin_start": 27.21,
            "bin_end": 27.31,
            "count": 0
           },
           {
            "bin_start": 27.31,
            "bin_end": 27.41,
            "count": 0
           },
           {
            "bin_start": 27.41,
            "bin_end": 27.509999999999998,
            "count": 0
           },
           {
            "bin_start": 27.509999999999998,
            "bin_end": 27.61,
            "count": 0
           },
           {
            "bin_start": 27.61,
            "bin_end": 27.71,
            "count": 82
           },
           {
            "bin_start": 27.71,
            "bin_end": 27.81,
            "count": 0
           },
           {
            "bin_start": 27.81,
            "bin_end": 27.91,
            "count": 0
           },
           {
            "bin_start": 27.91,
            "bin_end": 28.009999999999998,
            "count": 0
           },
           {
            "bin_start": 28.009999999999998,
            "bin_end": 28.11,
            "count": 0
           }
          ]
         }
        },
        {
         "name": "energy_eff_score",
         "dtype": "int64",
         "stats": {
          "unique_count": 1,
          "nan_count": 0,
          "min": "72",
          "max": "72",
          "histogram": [
           {
            "bin_start": 71.5,
            "bin_end": 71.6,
            "count": 0
           },
           {
            "bin_start": 71.6,
            "bin_end": 71.7,
            "count": 0
           },
           {
            "bin_start": 71.7,
            "bin_end": 71.8,
            "count": 0
           },
           {
            "bin_start": 71.8,
            "bin_end": 71.9,
            "count": 0
           },
           {
            "bin_start": 71.9,
            "bin_end": 72,
            "count": 0
           },
           {
            "bin_start": 72,
            "bin_end": 72.1,
            "count": 82
           },
           {
            "bin_start": 72.1,
            "bin_end": 72.2,
            "count": 0
           },
           {
            "bin_start": 72.2,
            "bin_end": 72.3,
            "count": 0
           },
           {
            "bin_start": 72.3,
            "bin_end": 72.4,
            "count": 0
           },
           {
            "bin_start": 72.4,
            "bin_end": 72.5,
            "count": 0
           }
          ]
         }
        },
        {
         "name": "Total annual income",
         "dtype": "int64",
         "stats": {
          "unique_count": 1,
          "nan_count": 0,
          "min": "65400",
          "max": "65400",
          "histogram": [
           {
            "bin_start": 65399.5,
            "bin_end": 65399.6,
            "count": 0
           },
           {
            "bin_start": 65399.6,
            "bin_end": 65399.7,
            "count": 0
           },
           {
            "bin_start": 65399.7,
            "bin_end": 65399.8,
            "count": 0
           },
           {
            "bin_start": 65399.8,
            "bin_end": 65399.9,
            "count": 0
           },
           {
            "bin_start": 65399.9,
            "bin_end": 65400,
            "count": 0
           },
           {
            "bin_start": 65400,
            "bin_end": 65400.1,
            "count": 82
           },
           {
            "bin_start": 65400.1,
            "bin_end": 65400.2,
            "count": 0
           },
           {
            "bin_start": 65400.2,
            "bin_end": 65400.3,
            "count": 0
           },
           {
            "bin_start": 65400.3,
            "bin_end": 65400.4,
            "count": 0
           },
           {
            "bin_start": 65400.4,
            "bin_end": 65400.5,
            "count": 0
           }
          ]
         }
        },
        {
         "name": "_deepnote_index_column",
         "dtype": "int64"
        }
       ],
       "rows": [
        {
         "Unnamed: 0": 581244,
         "Month": "2021-09",
         "MSOA code": "E02000001",
         "Crime type_Anti-social behaviour": 97,
         "Crime type_Bicycle theft": 57,
         "Crime type_Burglary": 27,
         "Crime type_Criminal damage and arson": 25,
         "Crime type_Drugs": 51,
         "Crime type_Other crime": 4,
         "Crime type_Other theft": 153,
         "Crime type_Possession of weapons": 5,
         "Crime type_Public order": 60,
         "Crime type_Robbery": 21,
         "Crime type_Shoplifting": 76,
         "Crime type_Theft from the person": 106,
         "Crime type_Vehicle crime": 31,
         "Crime type_Violence and sexual offences": 138,
         "Sum crimes": 851,
         "Median Age": 38.15,
         "life_exp_m": 90.37,
         "life_exp_f": 90.74,
         "life_exp_m65": 90.74,
         "life_exp_f_65": 27.61,
         "energy_eff_score": 72,
         "Total annual income": 65400,
         "_deepnote_index_column": 581244
        },
        {
         "Unnamed: 0": 583829,
         "Month": "2021-10",
         "MSOA code": "E02000001",
         "Crime type_Anti-social behaviour": 92,
         "Crime type_Bicycle theft": 41,
         "Crime type_Burglary": 18,
         "Crime type_Criminal damage and arson": 45,
         "Crime type_Drugs": 53,
         "Crime type_Other crime": 14,
         "Crime type_Other theft": 157,
         "Crime type_Possession of weapons": 7,
         "Crime type_Public order": 77,
         "Crime type_Robbery": 10,
         "Crime type_Shoplifting": 76,
         "Crime type_Theft from the person": 111,
         "Crime type_Vehicle crime": 14,
         "Crime type_Violence and sexual offences": 187,
         "Sum crimes": 902,
         "Median Age": 38.15,
         "life_exp_m": 90.37,
         "life_exp_f": 90.74,
         "life_exp_m65": 90.74,
         "life_exp_f_65": 27.61,
         "energy_eff_score": 72,
         "Total annual income": 65400,
         "_deepnote_index_column": 583829
        }
       ]
      },
      "text/plain": "        Unnamed: 0    Month  MSOA code  Crime type_Anti-social behaviour  \\\n0                0  2015-01  E02000001                             102.0   \n12602        12602  2015-02  E02000001                              91.0   \n19803        19803  2015-03  E02000001                              96.0   \n26409        26409  2015-04  E02000001                              73.0   \n33609        33609  2015-05  E02000001                              81.0   \n...            ...      ...        ...                               ...   \n559467      559467  2021-06  E02000001                             101.0   \n563317      563317  2021-07  E02000001                             111.0   \n575050      575050  2021-08  E02000001                              77.0   \n581244      581244  2021-09  E02000001                              97.0   \n583829      583829  2021-10  E02000001                              92.0   \n\n        Crime type_Bicycle theft  Crime type_Burglary  \\\n0                           18.0                 13.0   \n12602                       22.0                 22.0   \n19803                       25.0                 22.0   \n26409                       34.0                 33.0   \n33609                       24.0                 29.0   \n...                          ...                  ...   \n559467                      21.0                 14.0   \n563317                      28.0                 21.0   \n575050                      33.0                 24.0   \n581244                      57.0                 27.0   \n583829                      41.0                 18.0   \n\n        Crime type_Criminal damage and arson  Crime type_Drugs  \\\n0                                       21.0              49.0   \n12602                                   22.0              21.0   \n19803                                   14.0              25.0   \n26409                                   18.0              41.0   \n33609                                   13.0              27.0   \n...                                      ...               ...   \n559467                                  29.0              52.0   \n563317                                  30.0              50.0   \n575050                                  36.0              50.0   \n581244                                  25.0              51.0   \n583829                                  45.0              53.0   \n\n        Crime type_Other crime  Crime type_Other theft  \\\n0                         13.0                   142.0   \n12602                     14.0                   141.0   \n19803                     16.0                   168.0   \n26409                     10.0                   125.0   \n33609                     15.0                   129.0   \n...                        ...                     ...   \n559467                     9.0                    67.0   \n563317                    10.0                    94.0   \n575050                     7.0                   124.0   \n581244                     4.0                   153.0   \n583829                    14.0                   157.0   \n\n        Crime type_Possession of weapons  Crime type_Public order  \\\n0                                    2.0                     18.0   \n12602                                1.0                     31.0   \n19803                                5.0                     29.0   \n26409                                5.0                     25.0   \n33609                                1.0                     30.0   \n...                                  ...                      ...   \n559467                               6.0                     73.0   \n563317                               4.0                     70.0   \n575050                               4.0                     58.0   \n581244                               5.0                     60.0   \n583829                               7.0                     77.0   \n\n        Crime type_Robbery  Crime type_Shoplifting  \\\n0                      7.0                    53.0   \n12602                  1.0                    67.0   \n19803                  2.0                    57.0   \n26409                  6.0                    74.0   \n33609                  5.0                    78.0   \n...                    ...                     ...   \n559467                11.0                    69.0   \n563317                16.0                    80.0   \n575050                13.0                    77.0   \n581244                21.0                    76.0   \n583829                10.0                    76.0   \n\n        Crime type_Theft from the person  Crime type_Vehicle crime  \\\n0                                   48.0                      12.0   \n12602                               47.0                      10.0   \n19803                               54.0                       8.0   \n26409                               65.0                       8.0   \n33609                               56.0                      17.0   \n...                                  ...                       ...   \n559467                              54.0                      20.0   \n563317                             101.0                      15.0   \n575050                             103.0                      23.0   \n581244                             106.0                      31.0   \n583829                             111.0                      14.0   \n\n        Crime type_Violence and sexual offences  Sum crimes  Median Age  \\\n0                                          76.0         574       38.15   \n12602                                      77.0         567       38.15   \n19803                                      91.0         612       38.15   \n26409                                      88.0         605       38.15   \n33609                                      78.0         583       38.15   \n...                                         ...         ...         ...   \n559467                                    111.0         637       38.15   \n563317                                    133.0         763       38.15   \n575050                                    120.0         749       38.15   \n581244                                    138.0         851       38.15   \n583829                                    187.0         902       38.15   \n\n        life_exp_m  life_exp_f  life_exp_m65  life_exp_f_65  energy_eff_score  \\\n0            90.37       90.74         90.74          27.61                72   \n12602        90.37       90.74         90.74          27.61                72   \n19803        90.37       90.74         90.74          27.61                72   \n26409        90.37       90.74         90.74          27.61                72   \n33609        90.37       90.74         90.74          27.61                72   \n...            ...         ...           ...            ...               ...   \n559467       90.37       90.74         90.74          27.61                72   \n563317       90.37       90.74         90.74          27.61                72   \n575050       90.37       90.74         90.74          27.61                72   \n581244       90.37       90.74         90.74          27.61                72   \n583829       90.37       90.74         90.74          27.61                72   \n\n        Total annual income  \n0                     65400  \n12602                 65400  \n19803                 65400  \n26409                 65400  \n33609                 65400  \n...                     ...  \n559467                65400  \n563317                65400  \n575050                65400  \n581244                65400  \n583829                65400  \n\n[82 rows x 25 columns]",
      "text/html": "<div>\n<style scoped>\n    .dataframe tbody tr th:only-of-type {\n        vertical-align: middle;\n    }\n\n    .dataframe tbody tr th {\n        vertical-align: top;\n    }\n\n    .dataframe thead th {\n        text-align: right;\n    }\n</style>\n<table border=\"1\" class=\"dataframe\">\n  <thead>\n    <tr style=\"text-align: right;\">\n      <th></th>\n      <th>Unnamed: 0</th>\n      <th>Month</th>\n      <th>MSOA code</th>\n      <th>Crime type_Anti-social behaviour</th>\n      <th>Crime type_Bicycle theft</th>\n      <th>Crime type_Burglary</th>\n      <th>Crime type_Criminal damage and arson</th>\n      <th>Crime type_Drugs</th>\n      <th>Crime type_Other crime</th>\n      <th>Crime type_Other theft</th>\n      <th>Crime type_Possession of weapons</th>\n      <th>Crime type_Public order</th>\n      <th>Crime type_Robbery</th>\n      <th>Crime type_Shoplifting</th>\n      <th>Crime type_Theft from the person</th>\n      <th>Crime type_Vehicle crime</th>\n      <th>Crime type_Violence and sexual offences</th>\n      <th>Sum crimes</th>\n      <th>Median Age</th>\n      <th>life_exp_m</th>\n      <th>life_exp_f</th>\n      <th>life_exp_m65</th>\n      <th>life_exp_f_65</th>\n      <th>energy_eff_score</th>\n      <th>Total annual income</th>\n    </tr>\n  </thead>\n  <tbody>\n    <tr>\n      <th>0</th>\n      <td>0</td>\n      <td>2015-01</td>\n      <td>E02000001</td>\n      <td>102.0</td>\n      <td>18.0</td>\n      <td>13.0</td>\n      <td>21.0</td>\n      <td>49.0</td>\n      <td>13.0</td>\n      <td>142.0</td>\n      <td>2.0</td>\n      <td>18.0</td>\n      <td>7.0</td>\n      <td>53.0</td>\n      <td>48.0</td>\n      <td>12.0</td>\n      <td>76.0</td>\n      <td>574</td>\n      <td>38.15</td>\n      <td>90.37</td>\n      <td>90.74</td>\n      <td>90.74</td>\n      <td>27.61</td>\n      <td>72</td>\n      <td>65400</td>\n    </tr>\n    <tr>\n      <th>12602</th>\n      <td>12602</td>\n      <td>2015-02</td>\n      <td>E02000001</td>\n      <td>91.0</td>\n      <td>22.0</td>\n      <td>22.0</td>\n      <td>22.0</td>\n      <td>21.0</td>\n      <td>14.0</td>\n      <td>141.0</td>\n      <td>1.0</td>\n      <td>31.0</td>\n      <td>1.0</td>\n      <td>67.0</td>\n      <td>47.0</td>\n      <td>10.0</td>\n      <td>77.0</td>\n      <td>567</td>\n      <td>38.15</td>\n      <td>90.37</td>\n      <td>90.74</td>\n      <td>90.74</td>\n      <td>27.61</td>\n      <td>72</td>\n      <td>65400</td>\n    </tr>\n    <tr>\n      <th>19803</th>\n      <td>19803</td>\n      <td>2015-03</td>\n      <td>E02000001</td>\n      <td>96.0</td>\n      <td>25.0</td>\n      <td>22.0</td>\n      <td>14.0</td>\n      <td>25.0</td>\n      <td>16.0</td>\n      <td>168.0</td>\n      <td>5.0</td>\n      <td>29.0</td>\n      <td>2.0</td>\n      <td>57.0</td>\n      <td>54.0</td>\n      <td>8.0</td>\n      <td>91.0</td>\n      <td>612</td>\n      <td>38.15</td>\n      <td>90.37</td>\n      <td>90.74</td>\n      <td>90.74</td>\n      <td>27.61</td>\n      <td>72</td>\n      <td>65400</td>\n    </tr>\n    <tr>\n      <th>26409</th>\n      <td>26409</td>\n      <td>2015-04</td>\n      <td>E02000001</td>\n      <td>73.0</td>\n      <td>34.0</td>\n      <td>33.0</td>\n      <td>18.0</td>\n      <td>41.0</td>\n      <td>10.0</td>\n      <td>125.0</td>\n      <td>5.0</td>\n      <td>25.0</td>\n      <td>6.0</td>\n      <td>74.0</td>\n      <td>65.0</td>\n      <td>8.0</td>\n      <td>88.0</td>\n      <td>605</td>\n      <td>38.15</td>\n      <td>90.37</td>\n      <td>90.74</td>\n      <td>90.74</td>\n      <td>27.61</td>\n      <td>72</td>\n      <td>65400</td>\n    </tr>\n    <tr>\n      <th>33609</th>\n      <td>33609</td>\n      <td>2015-05</td>\n      <td>E02000001</td>\n      <td>81.0</td>\n      <td>24.0</td>\n      <td>29.0</td>\n      <td>13.0</td>\n      <td>27.0</td>\n      <td>15.0</td>\n      <td>129.0</td>\n      <td>1.0</td>\n      <td>30.0</td>\n      <td>5.0</td>\n      <td>78.0</td>\n      <td>56.0</td>\n      <td>17.0</td>\n      <td>78.0</td>\n      <td>583</td>\n      <td>38.15</td>\n      <td>90.37</td>\n      <td>90.74</td>\n      <td>90.74</td>\n      <td>27.61</td>\n      <td>72</td>\n      <td>65400</td>\n    </tr>\n    <tr>\n      <th>...</th>\n      <td>...</td>\n      <td>...</td>\n      <td>...</td>\n      <td>...</td>\n      <td>...</td>\n      <td>...</td>\n      <td>...</td>\n      <td>...</td>\n      <td>...</td>\n      <td>...</td>\n      <td>...</td>\n      <td>...</td>\n      <td>...</td>\n      <td>...</td>\n      <td>...</td>\n      <td>...</td>\n      <td>...</td>\n      <td>...</td>\n      <td>...</td>\n      <td>...</td>\n      <td>...</td>\n      <td>...</td>\n      <td>...</td>\n      <td>...</td>\n      <td>...</td>\n    </tr>\n    <tr>\n      <th>559467</th>\n      <td>559467</td>\n      <td>2021-06</td>\n      <td>E02000001</td>\n      <td>101.0</td>\n      <td>21.0</td>\n      <td>14.0</td>\n      <td>29.0</td>\n      <td>52.0</td>\n      <td>9.0</td>\n      <td>67.0</td>\n      <td>6.0</td>\n      <td>73.0</td>\n      <td>11.0</td>\n      <td>69.0</td>\n      <td>54.0</td>\n      <td>20.0</td>\n      <td>111.0</td>\n      <td>637</td>\n      <td>38.15</td>\n      <td>90.37</td>\n      <td>90.74</td>\n      <td>90.74</td>\n      <td>27.61</td>\n      <td>72</td>\n      <td>65400</td>\n    </tr>\n    <tr>\n      <th>563317</th>\n      <td>563317</td>\n      <td>2021-07</td>\n      <td>E02000001</td>\n      <td>111.0</td>\n      <td>28.0</td>\n      <td>21.0</td>\n      <td>30.0</td>\n      <td>50.0</td>\n      <td>10.0</td>\n      <td>94.0</td>\n      <td>4.0</td>\n      <td>70.0</td>\n      <td>16.0</td>\n      <td>80.0</td>\n      <td>101.0</td>\n      <td>15.0</td>\n      <td>133.0</td>\n      <td>763</td>\n      <td>38.15</td>\n      <td>90.37</td>\n      <td>90.74</td>\n      <td>90.74</td>\n      <td>27.61</td>\n      <td>72</td>\n      <td>65400</td>\n    </tr>\n    <tr>\n      <th>575050</th>\n      <td>575050</td>\n      <td>2021-08</td>\n      <td>E02000001</td>\n      <td>77.0</td>\n      <td>33.0</td>\n      <td>24.0</td>\n      <td>36.0</td>\n      <td>50.0</td>\n      <td>7.0</td>\n      <td>124.0</td>\n      <td>4.0</td>\n      <td>58.0</td>\n      <td>13.0</td>\n      <td>77.0</td>\n      <td>103.0</td>\n      <td>23.0</td>\n      <td>120.0</td>\n      <td>749</td>\n      <td>38.15</td>\n      <td>90.37</td>\n      <td>90.74</td>\n      <td>90.74</td>\n      <td>27.61</td>\n      <td>72</td>\n      <td>65400</td>\n    </tr>\n    <tr>\n      <th>581244</th>\n      <td>581244</td>\n      <td>2021-09</td>\n      <td>E02000001</td>\n      <td>97.0</td>\n      <td>57.0</td>\n      <td>27.0</td>\n      <td>25.0</td>\n      <td>51.0</td>\n      <td>4.0</td>\n      <td>153.0</td>\n      <td>5.0</td>\n      <td>60.0</td>\n      <td>21.0</td>\n      <td>76.0</td>\n      <td>106.0</td>\n      <td>31.0</td>\n      <td>138.0</td>\n      <td>851</td>\n      <td>38.15</td>\n      <td>90.37</td>\n      <td>90.74</td>\n      <td>90.74</td>\n      <td>27.61</td>\n      <td>72</td>\n      <td>65400</td>\n    </tr>\n    <tr>\n      <th>583829</th>\n      <td>583829</td>\n      <td>2021-10</td>\n      <td>E02000001</td>\n      <td>92.0</td>\n      <td>41.0</td>\n      <td>18.0</td>\n      <td>45.0</td>\n      <td>53.0</td>\n      <td>14.0</td>\n      <td>157.0</td>\n      <td>7.0</td>\n      <td>77.0</td>\n      <td>10.0</td>\n      <td>76.0</td>\n      <td>111.0</td>\n      <td>14.0</td>\n      <td>187.0</td>\n      <td>902</td>\n      <td>38.15</td>\n      <td>90.37</td>\n      <td>90.74</td>\n      <td>90.74</td>\n      <td>27.61</td>\n      <td>72</td>\n      <td>65400</td>\n    </tr>\n  </tbody>\n</table>\n<p>82 rows × 25 columns</p>\n</div>"
     },
     "metadata": {}
    }
   ]
  },
  {
   "cell_type": "code",
   "metadata": {
    "tags": [],
    "deepnote_to_be_reexecuted": false,
    "source_hash": "8e87ba2a",
    "execution_start": 1648398601961,
    "execution_millis": 87,
    "deepnote_table_state": {
     "pageSize": 10,
     "pageIndex": 0,
     "filters": [],
     "sortBy": []
    },
    "deepnote_table_loading": false,
    "cell_id": "00003-f7ba301b-3321-45de-bf0b-2b0599dd71f9",
    "deepnote_table_invalid": false,
    "deepnote_cell_type": "code",
    "deepnote_cell_height": 706
   },
   "source": "df2 = df[['Month', 'Sum crimes']]\n\ndf2 = df2.rename(columns={\"Month\":\"ds\"})\ndf2 = df2.rename(columns={\"Sum crimes\":'y'})\ndf2.astype({'ds': 'datetime64'}).dtypes\ndf2\n",
   "execution_count": null,
   "outputs": [
    {
     "output_type": "execute_result",
     "execution_count": 3,
     "data": {
      "application/vnd.deepnote.dataframe.v3+json": {
       "column_count": 2,
       "row_count": 82,
       "columns": [
        {
         "name": "ds",
         "dtype": "object",
         "stats": {
          "unique_count": 82,
          "nan_count": 0,
          "categories": [
           {
            "name": "2015-01",
            "count": 1
           },
           {
            "name": "2015-02",
            "count": 1
           },
           {
            "name": "80 others",
            "count": 80
           }
          ]
         }
        },
        {
         "name": "y",
         "dtype": "int64",
         "stats": {
          "unique_count": 79,
          "nan_count": 0,
          "min": "234",
          "max": "1087",
          "histogram": [
           {
            "bin_start": 234,
            "bin_end": 319.3,
            "count": 4
           },
           {
            "bin_start": 319.3,
            "bin_end": 404.6,
            "count": 3
           },
           {
            "bin_start": 404.6,
            "bin_end": 489.9,
            "count": 4
           },
           {
            "bin_start": 489.9,
            "bin_end": 575.2,
            "count": 11
           },
           {
            "bin_start": 575.2,
            "bin_end": 660.5,
            "count": 16
           },
           {
            "bin_start": 660.5,
            "bin_end": 745.8,
            "count": 11
           },
           {
            "bin_start": 745.8,
            "bin_end": 831.1,
            "count": 12
           },
           {
            "bin_start": 831.1,
            "bin_end": 916.4,
            "count": 11
           },
           {
            "bin_start": 916.4,
            "bin_end": 1001.6999999999999,
            "count": 4
           },
           {
            "bin_start": 1001.6999999999999,
            "bin_end": 1087,
            "count": 6
           }
          ]
         }
        },
        {
         "name": "_deepnote_index_column",
         "dtype": "int64"
        }
       ],
       "rows": [
        {
         "ds": "2015-01",
         "y": 574,
         "_deepnote_index_column": 0
        },
        {
         "ds": "2015-02",
         "y": 567,
         "_deepnote_index_column": 12602
        },
        {
         "ds": "2015-03",
         "y": 612,
         "_deepnote_index_column": 19803
        },
        {
         "ds": "2015-04",
         "y": 605,
         "_deepnote_index_column": 26409
        },
        {
         "ds": "2015-05",
         "y": 583,
         "_deepnote_index_column": 33609
        },
        {
         "ds": "2015-06",
         "y": 627,
         "_deepnote_index_column": 41406
        },
        {
         "ds": "2015-07",
         "y": 663,
         "_deepnote_index_column": 48607
        },
        {
         "ds": "2015-08",
         "y": 601,
         "_deepnote_index_column": 55213
        },
        {
         "ds": "2015-09",
         "y": 624,
         "_deepnote_index_column": 62414
        },
        {
         "ds": "2015-10",
         "y": 628,
         "_deepnote_index_column": 69614
        }
       ]
      },
      "text/plain": "             ds    y\n0       2015-01  574\n12602   2015-02  567\n19803   2015-03  612\n26409   2015-04  605\n33609   2015-05  583\n...         ...  ...\n559467  2021-06  637\n563317  2021-07  763\n575050  2021-08  749\n581244  2021-09  851\n583829  2021-10  902\n\n[82 rows x 2 columns]",
      "text/html": "<div>\n<style scoped>\n    .dataframe tbody tr th:only-of-type {\n        vertical-align: middle;\n    }\n\n    .dataframe tbody tr th {\n        vertical-align: top;\n    }\n\n    .dataframe thead th {\n        text-align: right;\n    }\n</style>\n<table border=\"1\" class=\"dataframe\">\n  <thead>\n    <tr style=\"text-align: right;\">\n      <th></th>\n      <th>ds</th>\n      <th>y</th>\n    </tr>\n  </thead>\n  <tbody>\n    <tr>\n      <th>0</th>\n      <td>2015-01</td>\n      <td>574</td>\n    </tr>\n    <tr>\n      <th>12602</th>\n      <td>2015-02</td>\n      <td>567</td>\n    </tr>\n    <tr>\n      <th>19803</th>\n      <td>2015-03</td>\n      <td>612</td>\n    </tr>\n    <tr>\n      <th>26409</th>\n      <td>2015-04</td>\n      <td>605</td>\n    </tr>\n    <tr>\n      <th>33609</th>\n      <td>2015-05</td>\n      <td>583</td>\n    </tr>\n    <tr>\n      <th>...</th>\n      <td>...</td>\n      <td>...</td>\n    </tr>\n    <tr>\n      <th>559467</th>\n      <td>2021-06</td>\n      <td>637</td>\n    </tr>\n    <tr>\n      <th>563317</th>\n      <td>2021-07</td>\n      <td>763</td>\n    </tr>\n    <tr>\n      <th>575050</th>\n      <td>2021-08</td>\n      <td>749</td>\n    </tr>\n    <tr>\n      <th>581244</th>\n      <td>2021-09</td>\n      <td>851</td>\n    </tr>\n    <tr>\n      <th>583829</th>\n      <td>2021-10</td>\n      <td>902</td>\n    </tr>\n  </tbody>\n</table>\n<p>82 rows × 2 columns</p>\n</div>"
     },
     "metadata": {}
    }
   ]
  },
  {
   "cell_type": "code",
   "metadata": {
    "cell_id": "07c125a6b44f443d8d734bc9430dc632",
    "tags": [],
    "deepnote_to_be_reexecuted": false,
    "source_hash": "21bb6b99",
    "execution_start": 1648398709597,
    "execution_millis": 13110,
    "deepnote_cell_type": "code",
    "deepnote_cell_height": 773,
    "deepnote_output_heights": [
     null,
     448
    ]
   },
   "source": "m = Prophet(yearly_seasonality =True, changepoint_prior_scale= 0.1, seasonality_prior_scale= 0.01, seasonality_mode= 'additive', holidays_prior_scale= 0.01)\nm.fit(df2)\nfuture = m.make_future_dataframe(periods=12, freq='M')\nforecast = m.predict(future)\n\nfig1 = m.plot(forecast)\nax = fig1.gca()\nax.set_title(\"Current prediction of incidents on MSOA: 'Newham 013G'\", size=16)\nax.set_xlabel(\"Year\", size=14)\nax.set_ylabel(\"Number of  incidents\", size=14);",
   "execution_count": null,
   "outputs": [
    {
     "name": "stderr",
     "text": "INFO:prophet:Disabling weekly seasonality. Run prophet with weekly_seasonality=True to override this.\nINFO:prophet:Disabling daily seasonality. Run prophet with daily_seasonality=True to override this.\n",
     "output_type": "stream"
    },
    {
     "data": {
      "text/plain": "<Figure size 720x432 with 1 Axes>",
      "image/png": "[encoded data removed]"
     },
     "metadata": {
      "image/png": {
       "width": 715,
       "height": 446
      }
     },
     "output_type": "display_data"
    }
   ]
  },
  {
   "cell_type": "code",
   "metadata": {
    "cell_id": "db4acf17e433458ab484a2da37842649",
    "tags": [],
    "deepnote_to_be_reexecuted": false,
    "source_hash": "d645a179",
    "execution_start": 1648399063102,
    "execution_millis": 103983,
    "deepnote_table_state": {
     "pageSize": 10,
     "pageIndex": 2,
     "filters": [],
     "sortBy": []
    },
    "deepnote_table_loading": false,
    "deepnote_cell_type": "code",
    "deepnote_cell_height": 830
   },
   "source": "# Initial training period.\ninitial= 30*70\ninitial= str(initial)+' days'\n#Period length that we perform the cross validation for.\nperiod = 30\nperiod=str(period)+' days'\n#Horizon of prediction essentially for each fold.\nhorizon = 61\nhorizon=str(horizon)+' days'\nfb_cv=cross_validation(m,initial=initial,period=period, \nhorizon=horizon)\n# Performance Metrics of fb_cv",
   "execution_count": null,
   "outputs": [
    {
     "name": "stderr",
     "text": "INFO:prophet:Making 11 forecasts with cutoffs between 2020-10-05 00:00:00 and 2021-08-01 00:00:00\n\n\n  0%|          | 0/11 [00:00<?, ?it/s]\u001b[A\u001b[A\n\n  9%|▉         | 1/11 [00:08<01:21,  8.18s/it]\u001b[A\u001b[A\n\n 18%|█▊        | 2/11 [00:17<01:20,  8.97s/it]\u001b[A\u001b[A\n\n  9%|▉         | 1/11 [06:41<1:06:59, 401.91s/it]\n\n\n 36%|███▋      | 4/11 [00:36<01:05,  9.33s/it]\u001b[A\u001b[A\n\n 45%|████▌     | 5/11 [00:44<00:53,  8.94s/it]\u001b[A\u001b[A\n\n 55%|█████▍    | 6/11 [00:53<00:44,  8.97s/it]\u001b[A\u001b[A\n\n 64%|██████▎   | 7/11 [01:05<00:38,  9.72s/it]\u001b[A\u001b[A\n\n 73%|███████▎  | 8/11 [01:15<00:29,  9.79s/it]\u001b[A\u001b[A\n\n 82%|████████▏ | 9/11 [01:25<00:19,  9.88s/it]\u001b[A\u001b[A\n\n 91%|█████████ | 10/11 [01:34<00:09,  9.72s/it]\u001b[A\u001b[A\n\n100%|██████████| 11/11 [01:43<00:00,  9.44s/it]\n",
     "output_type": "stream"
    }
   ]
  },
  {
   "cell_type": "code",
   "metadata": {
    "cell_id": "5f282627e8b144be9b6db19180571a71",
    "tags": [],
    "deepnote_to_be_reexecuted": false,
    "source_hash": "91be5a1c",
    "execution_start": 1648399212900,
    "execution_millis": 425,
    "deepnote_table_state": {
     "pageSize": 25,
     "pageIndex": 0,
     "filters": [],
     "sortBy": []
    },
    "deepnote_table_loading": false,
    "deepnote_cell_type": "code",
    "deepnote_cell_height": 304.796875
   },
   "source": "evaluation = performance_metrics(fb_cv, monthly =True, rolling_window=0.1)\nevaluation",
   "execution_count": null,
   "outputs": [
    {
     "output_type": "execute_result",
     "execution_count": 16,
     "data": {
      "application/vnd.deepnote.dataframe.v3+json": {
       "column_count": 8,
       "row_count": 2,
       "columns": [
        {
         "name": "horizon",
         "dtype": "int64",
         "stats": {
          "unique_count": 2,
          "nan_count": 0,
          "min": "1",
          "max": "2",
          "histogram": [
           {
            "bin_start": 1,
            "bin_end": 1.1,
            "count": 1
           },
           {
            "bin_start": 1.1,
            "bin_end": 1.2,
            "count": 0
           },
           {
            "bin_start": 1.2,
            "bin_end": 1.3,
            "count": 0
           },
           {
            "bin_start": 1.3,
            "bin_end": 1.4,
            "count": 0
           },
           {
            "bin_start": 1.4,
            "bin_end": 1.5,
            "count": 0
           },
           {
            "bin_start": 1.5,
            "bin_end": 1.6,
            "count": 0
           },
           {
            "bin_start": 1.6,
            "bin_end": 1.7000000000000002,
            "count": 0
           },
           {
            "bin_start": 1.7000000000000002,
            "bin_end": 1.8,
            "count": 0
           },
           {
            "bin_start": 1.8,
            "bin_end": 1.9,
            "count": 0
           },
           {
            "bin_start": 1.9,
            "bin_end": 2,
            "count": 1
           }
          ]
         }
        },
        {
         "name": "mse",
         "dtype": "float64",
         "stats": {
          "unique_count": 2,
          "nan_count": 0,
          "min": "61180.987279785535",
          "max": "95665.04141662757",
          "histogram": [
           {
            "bin_start": 61180.987279785535,
            "bin_end": 64629.39269346974,
            "count": 1
           },
           {
            "bin_start": 64629.39269346974,
            "bin_end": 68077.79810715394,
            "count": 0
           },
           {
            "bin_start": 68077.79810715394,
            "bin_end": 71526.20352083814,
            "count": 0
           },
           {
            "bin_start": 71526.20352083814,
            "bin_end": 74974.60893452234,
            "count": 0
           },
           {
            "bin_start": 74974.60893452234,
            "bin_end": 78423.01434820655,
            "count": 0
           },
           {
            "bin_start": 78423.01434820655,
            "bin_end": 81871.41976189075,
            "count": 0
           },
           {
            "bin_start": 81871.41976189075,
            "bin_end": 85319.82517557497,
            "count": 0
           },
           {
            "bin_start": 85319.82517557497,
            "bin_end": 88768.23058925917,
            "count": 0
           },
           {
            "bin_start": 88768.23058925917,
            "bin_end": 92216.63600294337,
            "count": 0
           },
           {
            "bin_start": 92216.63600294337,
            "bin_end": 95665.04141662757,
            "count": 1
           }
          ]
         }
        },
        {
         "name": "rmse",
         "dtype": "float64",
         "stats": {
          "unique_count": 2,
          "nan_count": 0,
          "min": "247.34790736892344",
          "max": "309.29765827860314",
          "histogram": [
           {
            "bin_start": 247.34790736892344,
            "bin_end": 253.54288245989142,
            "count": 1
           },
           {
            "bin_start": 253.54288245989142,
            "bin_end": 259.73785755085936,
            "count": 0
           },
           {
            "bin_start": 259.73785755085936,
            "bin_end": 265.93283264182736,
            "count": 0
           },
           {
            "bin_start": 265.93283264182736,
            "bin_end": 272.1278077327953,
            "count": 0
           },
           {
            "bin_start": 272.1278077327953,
            "bin_end": 278.3227828237633,
            "count": 0
           },
           {
            "bin_start": 278.3227828237633,
            "bin_end": 284.51775791473125,
            "count": 0
           },
           {
            "bin_start": 284.51775791473125,
            "bin_end": 290.71273300569925,
            "count": 0
           },
           {
            "bin_start": 290.71273300569925,
            "bin_end": 296.9077080966672,
            "count": 0
           },
           {
            "bin_start": 296.9077080966672,
            "bin_end": 303.1026831876352,
            "count": 0
           },
           {
            "bin_start": 303.1026831876352,
            "bin_end": 309.29765827860314,
            "count": 1
           }
          ]
         }
        },
        {
         "name": "mae",
         "dtype": "float64",
         "stats": {
          "unique_count": 2,
          "nan_count": 0,
          "min": "217.76428482044247",
          "max": "279.4133512522792",
          "histogram": [
           {
            "bin_start": 217.76428482044247,
            "bin_end": 223.92919146362615,
            "count": 1
           },
           {
            "bin_start": 223.92919146362615,
            "bin_end": 230.0940981068098,
            "count": 0
           },
           {
            "bin_start": 230.0940981068098,
            "bin_end": 236.2590047499935,
            "count": 0
           },
           {
            "bin_start": 236.2590047499935,
            "bin_end": 242.42391139317715,
            "count": 0
           },
           {
            "bin_start": 242.42391139317715,
            "bin_end": 248.58881803636083,
            "count": 0
           },
           {
            "bin_start": 248.58881803636083,
            "bin_end": 254.75372467954452,
            "count": 0
           },
           {
            "bin_start": 254.75372467954452,
            "bin_end": 260.9186313227282,
            "count": 0
           },
           {
            "bin_start": 260.9186313227282,
            "bin_end": 267.08353796591183,
            "count": 0
           },
           {
            "bin_start": 267.08353796591183,
            "bin_end": 273.24844460909554,
            "count": 0
           },
           {
            "bin_start": 273.24844460909554,
            "bin_end": 279.4133512522792,
            "count": 1
           }
          ]
         }
        },
        {
         "name": "mape",
         "dtype": "float64",
         "stats": {
          "unique_count": 2,
          "nan_count": 0,
          "min": "0.42633872492794167",
          "max": "0.5145511180413591",
          "histogram": [
           {
            "bin_start": 0.42633872492794167,
            "bin_end": 0.43515996423928344,
            "count": 1
           },
           {
            "bin_start": 0.43515996423928344,
            "bin_end": 0.44398120355062515,
            "count": 0
           },
           {
            "bin_start": 0.44398120355062515,
            "bin_end": 0.4528024428619669,
            "count": 0
           },
           {
            "bin_start": 0.4528024428619669,
            "bin_end": 0.4616236821733086,
            "count": 0
           },
           {
            "bin_start": 0.4616236821733086,
            "bin_end": 0.4704449214846504,
            "count": 0
           },
           {
            "bin_start": 0.4704449214846504,
            "bin_end": 0.47926616079599216,
            "count": 0
           },
           {
            "bin_start": 0.47926616079599216,
            "bin_end": 0.48808740010733387,
            "count": 0
           },
           {
            "bin_start": 0.48808740010733387,
            "bin_end": 0.49690863941867564,
            "count": 0
           },
           {
            "bin_start": 0.49690863941867564,
            "bin_end": 0.5057298787300174,
            "count": 0
           },
           {
            "bin_start": 0.5057298787300174,
            "bin_end": 0.5145511180413591,
            "count": 1
           }
          ]
         }
        },
        {
         "name": "mdape",
         "dtype": "float64",
         "stats": {
          "unique_count": 2,
          "nan_count": 0,
          "min": "0.41806074948533595",
          "max": "0.5132748209888912",
          "histogram": [
           {
            "bin_start": 0.41806074948533595,
            "bin_end": 0.4275821566356915,
            "count": 1
           },
           {
            "bin_start": 0.4275821566356915,
            "bin_end": 0.437103563786047,
            "count": 0
           },
           {
            "bin_start": 0.437103563786047,
            "bin_end": 0.4466249709364025,
            "count": 0
           },
           {
            "bin_start": 0.4466249709364025,
            "bin_end": 0.45614637808675806,
            "count": 0
           },
           {
            "bin_start": 0.45614637808675806,
            "bin_end": 0.4656677852371136,
            "count": 0
           },
           {
            "bin_start": 0.4656677852371136,
            "bin_end": 0.4751891923874691,
            "count": 0
           },
           {
            "bin_start": 0.4751891923874691,
            "bin_end": 0.48471059953782464,
            "count": 0
           },
           {
            "bin_start": 0.48471059953782464,
            "bin_end": 0.4942320066881801,
            "count": 0
           },
           {
            "bin_start": 0.4942320066881801,
            "bin_end": 0.5037534138385357,
            "count": 0
           },
           {
            "bin_start": 0.5037534138385357,
            "bin_end": 0.5132748209888912,
            "count": 1
           }
          ]
         }
        },
        {
         "name": "smape",
         "dtype": "float64",
         "stats": {
          "unique_count": 2,
          "nan_count": 0,
          "min": "0.4325320947397065",
          "max": "0.5431325833074561",
          "histogram": [
           {
            "bin_start": 0.4325320947397065,
            "bin_end": 0.44359214359648147,
            "count": 1
           },
           {
            "bin_start": 0.44359214359648147,
            "bin_end": 0.4546521924532564,
            "count": 0
           },
           {
            "bin_start": 0.4546521924532564,
            "bin_end": 0.46571224131003136,
            "count": 0
           },
           {
            "bin_start": 0.46571224131003136,
            "bin_end": 0.47677229016680633,
            "count": 0
           },
           {
            "bin_start": 0.47677229016680633,
            "bin_end": 0.48783233902358125,
            "count": 0
           },
           {
            "bin_start": 0.48783233902358125,
            "bin_end": 0.4988923878803562,
            "count": 0
           },
           {
            "bin_start": 0.4988923878803562,
            "bin_end": 0.5099524367371312,
            "count": 0
           },
           {
            "bin_start": 0.5099524367371312,
            "bin_end": 0.5210124855939061,
            "count": 0
           },
           {
            "bin_start": 0.5210124855939061,
            "bin_end": 0.5320725344506811,
            "count": 0
           },
           {
            "bin_start": 0.5320725344506811,
            "bin_end": 0.5431325833074561,
            "count": 1
           }
          ]
         }
        },
        {
         "name": "coverage",
         "dtype": "float64",
         "stats": {
          "unique_count": 2,
          "nan_count": 0,
          "min": "0.18181818181818182",
          "max": "0.36363636363636365",
          "histogram": [
           {
            "bin_start": 0.18181818181818182,
            "bin_end": 0.2,
            "count": 1
           },
           {
            "bin_start": 0.2,
            "bin_end": 0.2181818181818182,
            "count": 0
           },
           {
            "bin_start": 0.2181818181818182,
            "bin_end": 0.23636363636363636,
            "count": 0
           },
           {
            "bin_start": 0.23636363636363636,
            "bin_end": 0.2545454545454545,
            "count": 0
           },
           {
            "bin_start": 0.2545454545454545,
            "bin_end": 0.2727272727272727,
            "count": 0
           },
           {
            "bin_start": 0.2727272727272727,
            "bin_end": 0.2909090909090909,
            "count": 0
           },
           {
            "bin_start": 0.2909090909090909,
            "bin_end": 0.3090909090909091,
            "count": 0
           },
           {
            "bin_start": 0.3090909090909091,
            "bin_end": 0.32727272727272727,
            "count": 0
           },
           {
            "bin_start": 0.32727272727272727,
            "bin_end": 0.34545454545454546,
            "count": 0
           },
           {
            "bin_start": 0.34545454545454546,
            "bin_end": 0.36363636363636365,
            "count": 1
           }
          ]
         }
        },
        {
         "name": "_deepnote_index_column",
         "dtype": "int64"
        }
       ],
       "rows": [
        {
         "horizon": 1,
         "mse": 61180.987279785535,
         "rmse": 247.34790736892344,
         "mae": 217.76428482044247,
         "mape": 0.42633872492794167,
         "mdape": 0.41806074948533595,
         "smape": 0.4325320947397065,
         "coverage": 0.36363636363636365,
         "_deepnote_index_column": 0
        },
        {
         "horizon": 2,
         "mse": 95665.04141662757,
         "rmse": 309.29765827860314,
         "mae": 279.4133512522792,
         "mape": 0.5145511180413591,
         "mdape": 0.5132748209888912,
         "smape": 0.5431325833074561,
         "coverage": 0.18181818181818182,
         "_deepnote_index_column": 1
        }
       ]
      },
      "text/plain": "   horizon           mse        rmse         mae      mape     mdape  \\\n0        1  61180.987280  247.347907  217.764285  0.426339  0.418061   \n1        2  95665.041417  309.297658  279.413351  0.514551  0.513275   \n\n      smape  coverage  \n0  0.432532  0.363636  \n1  0.543133  0.181818  ",
      "text/html": "<div>\n<style scoped>\n    .dataframe tbody tr th:only-of-type {\n        vertical-align: middle;\n    }\n\n    .dataframe tbody tr th {\n        vertical-align: top;\n    }\n\n    .dataframe thead th {\n        text-align: right;\n    }\n</style>\n<table border=\"1\" class=\"dataframe\">\n  <thead>\n    <tr style=\"text-align: right;\">\n      <th></th>\n      <th>horizon</th>\n      <th>mse</th>\n      <th>rmse</th>\n      <th>mae</th>\n      <th>mape</th>\n      <th>mdape</th>\n      <th>smape</th>\n      <th>coverage</th>\n    </tr>\n  </thead>\n  <tbody>\n    <tr>\n      <th>0</th>\n      <td>1</td>\n      <td>61180.987280</td>\n      <td>247.347907</td>\n      <td>217.764285</td>\n      <td>0.426339</td>\n      <td>0.418061</td>\n      <td>0.432532</td>\n      <td>0.363636</td>\n    </tr>\n    <tr>\n      <th>1</th>\n      <td>2</td>\n      <td>95665.041417</td>\n      <td>309.297658</td>\n      <td>279.413351</td>\n      <td>0.514551</td>\n      <td>0.513275</td>\n      <td>0.543133</td>\n      <td>0.181818</td>\n    </tr>\n  </tbody>\n</table>\n</div>"
     },
     "metadata": {}
    }
   ]
  },
  {
   "cell_type": "code",
   "metadata": {
    "cell_id": "7e53c89ce6754a6b960be92a492c9244",
    "tags": [],
    "deepnote_to_be_reexecuted": false,
    "source_hash": "6884efdc",
    "execution_start": 1648399023542,
    "execution_millis": 121,
    "deepnote_table_state": {
     "pageSize": 10,
     "pageIndex": 0,
     "filters": [],
     "sortBy": []
    },
    "deepnote_table_loading": false,
    "deepnote_cell_type": "code",
    "deepnote_cell_height": 598
   },
   "source": "fb_cv",
   "execution_count": null,
   "outputs": [
    {
     "output_type": "execute_result",
     "execution_count": 12,
     "data": {
      "application/vnd.deepnote.dataframe.v3+json": {
       "column_count": 6,
       "row_count": 156,
       "columns": [
        {
         "name": "ds",
         "dtype": "datetime64[ns]",
         "stats": {
          "unique_count": 24,
          "nan_count": 0,
          "min": "2019-11-01 00:00:00",
          "max": "2021-10-01 00:00:00",
          "histogram": [
           {
            "bin_start": 1572566400000000000,
            "bin_end": 1578614400000000000,
            "count": 6
           },
           {
            "bin_start": 1578614400000000000,
            "bin_end": 1584662400000000000,
            "count": 9
           },
           {
            "bin_start": 1584662400000000000,
            "bin_end": 1590710400000000000,
            "count": 13
           },
           {
            "bin_start": 1590710400000000000,
            "bin_end": 1596758400000000000,
            "count": 27
           },
           {
            "bin_start": 1596758400000000000,
            "bin_end": 1602806400000000000,
            "count": 23
           },
           {
            "bin_start": 1602806400000000000,
            "bin_end": 1608854400000000000,
            "count": 23
           },
           {
            "bin_start": 1608854400000000000,
            "bin_end": 1614902400000000000,
            "count": 27
           },
           {
            "bin_start": 1614902400000000000,
            "bin_end": 1620950400000000000,
            "count": 13
           },
           {
            "bin_start": 1620950400000000000,
            "bin_end": 1626998400000000000,
            "count": 9
           },
           {
            "bin_start": 1626998400000000000,
            "bin_end": 1633046400000000000,
            "count": 6
           }
          ]
         }
        },
        {
         "name": "yhat",
         "dtype": "float64",
         "stats": {
          "unique_count": 156,
          "nan_count": 0,
          "min": "511.4841691603279",
          "max": "1217.4715357411874",
          "histogram": [
           {
            "bin_start": 511.4841691603279,
            "bin_end": 582.0829058184138,
            "count": 13
           },
           {
            "bin_start": 582.0829058184138,
            "bin_end": 652.6816424764997,
            "count": 15
           },
           {
            "bin_start": 652.6816424764997,
            "bin_end": 723.2803791345857,
            "count": 14
           },
           {
            "bin_start": 723.2803791345857,
            "bin_end": 793.8791157926717,
            "count": 6
           },
           {
            "bin_start": 793.8791157926717,
            "bin_end": 864.4778524507576,
            "count": 0
           },
           {
            "bin_start": 864.4778524507576,
            "bin_end": 935.0765891088436,
            "count": 16
           },
           {
            "bin_start": 935.0765891088436,
            "bin_end": 1005.6753257669295,
            "count": 19
           },
           {
            "bin_start": 1005.6753257669295,
            "bin_end": 1076.2740624250155,
            "count": 26
           },
           {
            "bin_start": 1076.2740624250155,
            "bin_end": 1146.8727990831014,
            "count": 36
           },
           {
            "bin_start": 1146.8727990831014,
            "bin_end": 1217.4715357411874,
            "count": 11
           }
          ]
         }
        },
        {
         "name": "yhat_lower",
         "dtype": "float64",
         "stats": {
          "unique_count": 156,
          "nan_count": 0,
          "min": "338.0148041947413",
          "max": "1148.4042914176105",
          "histogram": [
           {
            "bin_start": 338.0148041947413,
            "bin_end": 419.0537529170282,
            "count": 15
           },
           {
            "bin_start": 419.0537529170282,
            "bin_end": 500.0927016393151,
            "count": 21
           },
           {
            "bin_start": 500.0927016393151,
            "bin_end": 581.131650361602,
            "count": 12
           },
           {
            "bin_start": 581.131650361602,
            "bin_end": 662.1705990838889,
            "count": 0
           },
           {
            "bin_start": 662.1705990838889,
            "bin_end": 743.2095478061758,
            "count": 15
           },
           {
            "bin_start": 743.2095478061758,
            "bin_end": 824.2484965284627,
            "count": 14
           },
           {
            "bin_start": 824.2484965284627,
            "bin_end": 905.2874452507497,
            "count": 7
           },
           {
            "bin_start": 905.2874452507497,
            "bin_end": 986.3263939730366,
            "count": 19
           },
           {
            "bin_start": 986.3263939730366,
            "bin_end": 1067.3653426953235,
            "count": 41
           },
           {
            "bin_start": 1067.3653426953235,
            "bin_end": 1148.4042914176105,
            "count": 12
           }
          ]
         }
        },
        {
         "name": "yhat_upper",
         "dtype": "float64",
         "stats": {
          "unique_count": 156,
          "nan_count": 0,
          "min": "681.7260892790332",
          "max": "1295.4116439674438",
          "histogram": [
           {
            "bin_start": 681.7260892790332,
            "bin_end": 743.0946447478742,
            "count": 11
           },
           {
            "bin_start": 743.0946447478742,
            "bin_end": 804.4632002167153,
            "count": 10
           },
           {
            "bin_start": 804.4632002167153,
            "bin_end": 865.8317556855563,
            "count": 14
           },
           {
            "bin_start": 865.8317556855563,
            "bin_end": 927.2003111543975,
            "count": 9
           },
           {
            "bin_start": 927.2003111543975,
            "bin_end": 988.5688666232385,
            "count": 4
           },
           {
            "bin_start": 988.5688666232385,
            "bin_end": 1049.9374220920795,
            "count": 0
           },
           {
            "bin_start": 1049.9374220920795,
            "bin_end": 1111.3059775609206,
            "count": 25
           },
           {
            "bin_start": 1111.3059775609206,
            "bin_end": 1172.6745330297617,
            "count": 45
           },
           {
            "bin_start": 1172.6745330297617,
            "bin_end": 1234.0430884986026,
            "count": 30
           },
           {
            "bin_start": 1234.0430884986026,
            "bin_end": 1295.4116439674438,
            "count": 8
           }
          ]
         }
        },
        {
         "name": "y",
         "dtype": "int64",
         "stats": {
          "unique_count": 24,
          "nan_count": 0,
          "min": "234",
          "max": "1087",
          "histogram": [
           {
            "bin_start": 234,
            "bin_end": 319.3,
            "count": 32
           },
           {
            "bin_start": 319.3,
            "bin_end": 404.6,
            "count": 23
           },
           {
            "bin_start": 404.6,
            "bin_end": 489.9,
            "count": 17
           },
           {
            "bin_start": 489.9,
            "bin_end": 575.2,
            "count": 31
           },
           {
            "bin_start": 575.2,
            "bin_end": 660.5,
            "count": 28
           },
           {
            "bin_start": 660.5,
            "bin_end": 745.8,
            "count": 5
           },
           {
            "bin_start": 745.8,
            "bin_end": 831.1,
            "count": 7
           },
           {
            "bin_start": 831.1,
            "bin_end": 916.4,
            "count": 6
           },
           {
            "bin_start": 916.4,
            "bin_end": 1001.6999999999999,
            "count": 4
           },
           {
            "bin_start": 1001.6999999999999,
            "bin_end": 1087,
            "count": 3
           }
          ]
         }
        },
        {
         "name": "cutoff",
         "dtype": "datetime64[ns]",
         "stats": {
          "unique_count": 13,
          "nan_count": 0,
          "min": "2019-10-07 00:00:00",
          "max": "2020-10-01 00:00:00",
          "histogram": [
           {
            "bin_start": 1570406400000000000,
            "bin_end": 1573516800000000000,
            "count": 24
           },
           {
            "bin_start": 1573516800000000000,
            "bin_end": 1576627200000000000,
            "count": 12
           },
           {
            "bin_start": 1576627200000000000,
            "bin_end": 1579737600000000000,
            "count": 12
           },
           {
            "bin_start": 1579737600000000000,
            "bin_end": 1582848000000000000,
            "count": 12
           },
           {
            "bin_start": 1582848000000000000,
            "bin_end": 1585958400000000000,
            "count": 12
           },
           {
            "bin_start": 1585958400000000000,
            "bin_end": 1589068800000000000,
            "count": 24
           },
           {
            "bin_start": 1589068800000000000,
            "bin_end": 1592179200000000000,
            "count": 12
           },
           {
            "bin_start": 1592179200000000000,
            "bin_end": 1595289600000000000,
            "count": 12
           },
           {
            "bin_start": 1595289600000000000,
            "bin_end": 1598400000000000000,
            "count": 12
           },
           {
            "bin_start": 1598400000000000000,
            "bin_end": 1601510400000000000,
            "count": 24
           }
          ]
         }
        },
        {
         "name": "_deepnote_index_column",
         "dtype": "int64"
        }
       ],
       "rows": [
        {
         "ds": "2019-11-01T00:00:00.000000",
         "yhat": 1024.962489339916,
         "yhat_lower": 954.1789213159254,
         "yhat_upper": 1094.1384380158527,
         "y": 1066,
         "cutoff": "2019-10-07T00:00:00.000000",
         "_deepnote_index_column": 0
        },
        {
         "ds": "2019-12-01T00:00:00.000000",
         "yhat": 1055.319725947267,
         "yhat_lower": 987.6140207636189,
         "yhat_upper": 1123.777012989519,
         "y": 1087,
         "cutoff": "2019-10-07T00:00:00.000000",
         "_deepnote_index_column": 1
        },
        {
         "ds": "2020-01-01T00:00:00.000000",
         "yhat": 1004.4181939094696,
         "yhat_lower": 929.1006520861367,
         "yhat_upper": 1077.6107836018032,
         "y": 903,
         "cutoff": "2019-10-07T00:00:00.000000",
         "_deepnote_index_column": 2
        },
        {
         "ds": "2020-02-01T00:00:00.000000",
         "yhat": 1013.5454076070783,
         "yhat_lower": 939.0847354375509,
         "yhat_upper": 1080.5615843651585,
         "y": 960,
         "cutoff": "2019-10-07T00:00:00.000000",
         "_deepnote_index_column": 3
        },
        {
         "ds": "2020-03-01T00:00:00.000000",
         "yhat": 1094.3041523570016,
         "yhat_lower": 1018.0911008521039,
         "yhat_upper": 1166.7814037595388,
         "y": 738,
         "cutoff": "2019-10-07T00:00:00.000000",
         "_deepnote_index_column": 4
        },
        {
         "ds": "2020-04-01T00:00:00.000000",
         "yhat": 1075.6105330797543,
         "yhat_lower": 1007.360467816069,
         "yhat_upper": 1139.7740634657466,
         "y": 234,
         "cutoff": "2019-10-07T00:00:00.000000",
         "_deepnote_index_column": 5
        },
        {
         "ds": "2020-05-01T00:00:00.000000",
         "yhat": 1047.6057416546944,
         "yhat_lower": 976.0822948230863,
         "yhat_upper": 1117.7073783804126,
         "y": 236,
         "cutoff": "2019-10-07T00:00:00.000000",
         "_deepnote_index_column": 6
        },
        {
         "ds": "2020-06-01T00:00:00.000000",
         "yhat": 1097.5027643386031,
         "yhat_lower": 1022.9866194827919,
         "yhat_upper": 1167.1109711878212,
         "y": 325,
         "cutoff": "2019-10-07T00:00:00.000000",
         "_deepnote_index_column": 7
        },
        {
         "ds": "2020-07-01T00:00:00.000000",
         "yhat": 1113.7583165690646,
         "yhat_lower": 1036.220134939436,
         "yhat_upper": 1183.896094092008,
         "y": 504,
         "cutoff": "2019-10-07T00:00:00.000000",
         "_deepnote_index_column": 8
        },
        {
         "ds": "2020-08-01T00:00:00.000000",
         "yhat": 1114.9885107606228,
         "yhat_lower": 1042.5258814933595,
         "yhat_upper": 1189.9263855871181,
         "y": 537,
         "cutoff": "2019-10-07T00:00:00.000000",
         "_deepnote_index_column": 9
        }
       ]
      },
      "text/plain": "            ds         yhat   yhat_lower   yhat_upper     y     cutoff\n0   2019-11-01  1024.962489   954.178921  1094.138438  1066 2019-10-07\n1   2019-12-01  1055.319726   987.614021  1123.777013  1087 2019-10-07\n2   2020-01-01  1004.418194   929.100652  1077.610784   903 2019-10-07\n3   2020-02-01  1013.545408   939.084735  1080.561584   960 2019-10-07\n4   2020-03-01  1094.304152  1018.091101  1166.781404   738 2019-10-07\n..         ...          ...          ...          ...   ...        ...\n151 2021-06-01   554.862822   378.031994   726.166163   637 2020-10-01\n152 2021-07-01   554.260063   356.412293   739.847600   763 2020-10-01\n153 2021-08-01   539.102284   357.992906   718.761140   749 2020-10-01\n154 2021-09-01   521.828622   347.671396   694.816698   851 2020-10-01\n155 2021-10-01   523.363832   348.544504   706.460739   902 2020-10-01\n\n[156 rows x 6 columns]",
      "text/html": "<div>\n<style scoped>\n    .dataframe tbody tr th:only-of-type {\n        vertical-align: middle;\n    }\n\n    .dataframe tbody tr th {\n        vertical-align: top;\n    }\n\n    .dataframe thead th {\n        text-align: right;\n    }\n</style>\n<table border=\"1\" class=\"dataframe\">\n  <thead>\n    <tr style=\"text-align: right;\">\n      <th></th>\n      <th>ds</th>\n      <th>yhat</th>\n      <th>yhat_lower</th>\n      <th>yhat_upper</th>\n      <th>y</th>\n      <th>cutoff</th>\n    </tr>\n  </thead>\n  <tbody>\n    <tr>\n      <th>0</th>\n      <td>2019-11-01</td>\n      <td>1024.962489</td>\n      <td>954.178921</td>\n      <td>1094.138438</td>\n      <td>1066</td>\n      <td>2019-10-07</td>\n    </tr>\n    <tr>\n      <th>1</th>\n      <td>2019-12-01</td>\n      <td>1055.319726</td>\n      <td>987.614021</td>\n      <td>1123.777013</td>\n      <td>1087</td>\n      <td>2019-10-07</td>\n    </tr>\n    <tr>\n      <th>2</th>\n      <td>2020-01-01</td>\n      <td>1004.418194</td>\n      <td>929.100652</td>\n      <td>1077.610784</td>\n      <td>903</td>\n      <td>2019-10-07</td>\n    </tr>\n    <tr>\n      <th>3</th>\n      <td>2020-02-01</td>\n      <td>1013.545408</td>\n      <td>939.084735</td>\n      <td>1080.561584</td>\n      <td>960</td>\n      <td>2019-10-07</td>\n    </tr>\n    <tr>\n      <th>4</th>\n      <td>2020-03-01</td>\n      <td>1094.304152</td>\n      <td>1018.091101</td>\n      <td>1166.781404</td>\n      <td>738</td>\n      <td>2019-10-07</td>\n    </tr>\n    <tr>\n      <th>...</th>\n      <td>...</td>\n      <td>...</td>\n      <td>...</td>\n      <td>...</td>\n      <td>...</td>\n      <td>...</td>\n    </tr>\n    <tr>\n      <th>151</th>\n      <td>2021-06-01</td>\n      <td>554.862822</td>\n      <td>378.031994</td>\n      <td>726.166163</td>\n      <td>637</td>\n      <td>2020-10-01</td>\n    </tr>\n    <tr>\n      <th>152</th>\n      <td>2021-07-01</td>\n      <td>554.260063</td>\n      <td>356.412293</td>\n      <td>739.847600</td>\n      <td>763</td>\n      <td>2020-10-01</td>\n    </tr>\n    <tr>\n      <th>153</th>\n      <td>2021-08-01</td>\n      <td>539.102284</td>\n      <td>357.992906</td>\n      <td>718.761140</td>\n      <td>749</td>\n      <td>2020-10-01</td>\n    </tr>\n    <tr>\n      <th>154</th>\n      <td>2021-09-01</td>\n      <td>521.828622</td>\n      <td>347.671396</td>\n      <td>694.816698</td>\n      <td>851</td>\n      <td>2020-10-01</td>\n    </tr>\n    <tr>\n      <th>155</th>\n      <td>2021-10-01</td>\n      <td>523.363832</td>\n      <td>348.544504</td>\n      <td>706.460739</td>\n      <td>902</td>\n      <td>2020-10-01</td>\n    </tr>\n  </tbody>\n</table>\n<p>156 rows × 6 columns</p>\n</div>"
     },
     "metadata": {}
    }
   ]
  },
  {
   "cell_type": "code",
   "metadata": {
    "cell_id": "eb5089004406460a92917af5cb195334",
    "tags": [],
    "deepnote_to_be_reexecuted": false,
    "source_hash": "eecec9c9",
    "execution_start": 1648399027822,
    "execution_millis": 845,
    "deepnote_cell_type": "code",
    "deepnote_cell_height": 470,
    "deepnote_output_heights": [
     373
    ]
   },
   "source": "fig = plot_cross_validation_metric(fb_cv, metric='mae')",
   "execution_count": null,
   "outputs": [
    {
     "data": {
      "text/plain": "<Figure size 720x432 with 1 Axes>",
      "image/png": "[encoded data removed]"
     },
     "metadata": {
      "image/png": {
       "width": 612,
       "height": 371
      }
     },
     "output_type": "display_data"
    }
   ]
  },
  {
   "cell_type": "code",
   "metadata": {
    "cell_id": "b3c9fb5f-7e68-4653-a424-b286d32bc0d1",
    "tags": [],
    "deepnote_to_be_reexecuted": false,
    "source_hash": "33f5bbbf",
    "execution_start": 1648152087228,
    "execution_millis": 11,
    "deepnote_table_state": {
     "pageSize": 10,
     "pageIndex": 0,
     "filters": [],
     "sortBy": []
    },
    "deepnote_table_loading": false,
    "deepnote_cell_type": "code",
    "deepnote_cell_height": 652
   },
   "source": "#Splitting train and test\ntrain = df2[df2['ds'] <= '2020-10']\ntest = df2[df2['ds'] > '2020-10']\ntest",
   "execution_count": null,
   "outputs": [
    {
     "output_type": "execute_result",
     "execution_count": 10,
     "data": {
      "application/vnd.deepnote.dataframe.v3+json": {
       "column_count": 2,
       "row_count": 12,
       "columns": [
        {
         "name": "ds",
         "dtype": "object",
         "stats": {
          "unique_count": 12,
          "nan_count": 0,
          "categories": [
           {
            "name": "2020-11",
            "count": 1
           },
           {
            "name": "2020-12",
            "count": 1
           },
           {
            "name": "10 others",
            "count": 10
           }
          ]
         }
        },
        {
         "name": "y",
         "dtype": "int64",
         "stats": {
          "unique_count": 12,
          "nan_count": 0,
          "min": "274",
          "max": "902",
          "histogram": [
           {
            "bin_start": 274,
            "bin_end": 336.8,
            "count": 2
           },
           {
            "bin_start": 336.8,
            "bin_end": 399.6,
            "count": 2
           },
           {
            "bin_start": 399.6,
            "bin_end": 462.4,
            "count": 1
           },
           {
            "bin_start": 462.4,
            "bin_end": 525.2,
            "count": 2
           },
           {
            "bin_start": 525.2,
            "bin_end": 588,
            "count": 0
           },
           {
            "bin_start": 588,
            "bin_end": 650.8,
            "count": 1
           },
           {
            "bin_start": 650.8,
            "bin_end": 713.5999999999999,
            "count": 0
           },
           {
            "bin_start": 713.5999999999999,
            "bin_end": 776.4,
            "count": 2
           },
           {
            "bin_start": 776.4,
            "bin_end": 839.1999999999999,
            "count": 0
           },
           {
            "bin_start": 839.1999999999999,
            "bin_end": 902,
            "count": 2
           }
          ]
         }
        },
        {
         "name": "_deepnote_index_column",
         "dtype": "int64"
        }
       ],
       "rows": [
        {
         "ds": "2020-11",
         "y": 500,
         "_deepnote_index_column": 507325
        },
        {
         "ds": "2020-12",
         "y": 426,
         "_deepnote_index_column": 514358
        },
        {
         "ds": "2021-01",
         "y": 287,
         "_deepnote_index_column": 523643
        },
        {
         "ds": "2021-02",
         "y": 274,
         "_deepnote_index_column": 527267
        },
        {
         "ds": "2021-03",
         "y": 385,
         "_deepnote_index_column": 534772
        },
        {
         "ds": "2021-04",
         "y": 398,
         "_deepnote_index_column": 545059
        },
        {
         "ds": "2021-05",
         "y": 468,
         "_deepnote_index_column": 547276
        },
        {
         "ds": "2021-06",
         "y": 637,
         "_deepnote_index_column": 559467
        },
        {
         "ds": "2021-07",
         "y": 763,
         "_deepnote_index_column": 563317
        },
        {
         "ds": "2021-08",
         "y": 749,
         "_deepnote_index_column": 575050
        }
       ]
      },
      "text/plain": "             ds    y\n507325  2020-11  500\n514358  2020-12  426\n523643  2021-01  287\n527267  2021-02  274\n534772  2021-03  385\n545059  2021-04  398\n547276  2021-05  468\n559467  2021-06  637\n563317  2021-07  763\n575050  2021-08  749\n581244  2021-09  851\n583829  2021-10  902",
      "text/html": "<div>\n<style scoped>\n    .dataframe tbody tr th:only-of-type {\n        vertical-align: middle;\n    }\n\n    .dataframe tbody tr th {\n        vertical-align: top;\n    }\n\n    .dataframe thead th {\n        text-align: right;\n    }\n</style>\n<table border=\"1\" class=\"dataframe\">\n  <thead>\n    <tr style=\"text-align: right;\">\n      <th></th>\n      <th>ds</th>\n      <th>y</th>\n    </tr>\n  </thead>\n  <tbody>\n    <tr>\n      <th>507325</th>\n      <td>2020-11</td>\n      <td>500</td>\n    </tr>\n    <tr>\n      <th>514358</th>\n      <td>2020-12</td>\n      <td>426</td>\n    </tr>\n    <tr>\n      <th>523643</th>\n      <td>2021-01</td>\n      <td>287</td>\n    </tr>\n    <tr>\n      <th>527267</th>\n      <td>2021-02</td>\n      <td>274</td>\n    </tr>\n    <tr>\n      <th>534772</th>\n      <td>2021-03</td>\n      <td>385</td>\n    </tr>\n    <tr>\n      <th>545059</th>\n      <td>2021-04</td>\n      <td>398</td>\n    </tr>\n    <tr>\n      <th>547276</th>\n      <td>2021-05</td>\n      <td>468</td>\n    </tr>\n    <tr>\n      <th>559467</th>\n      <td>2021-06</td>\n      <td>637</td>\n    </tr>\n    <tr>\n      <th>563317</th>\n      <td>2021-07</td>\n      <td>763</td>\n    </tr>\n    <tr>\n      <th>575050</th>\n      <td>2021-08</td>\n      <td>749</td>\n    </tr>\n    <tr>\n      <th>581244</th>\n      <td>2021-09</td>\n      <td>851</td>\n    </tr>\n    <tr>\n      <th>583829</th>\n      <td>2021-10</td>\n      <td>902</td>\n    </tr>\n  </tbody>\n</table>\n</div>"
     },
     "metadata": {}
    }
   ]
  },
  {
   "cell_type": "code",
   "metadata": {
    "tags": [],
    "deepnote_to_be_reexecuted": false,
    "source_hash": "c7a7d6c6",
    "execution_start": 1648152087242,
    "execution_millis": 499,
    "cell_id": "00004-23b1ea53-8642-4df3-bd63-5b91e37e7c33",
    "deepnote_cell_type": "code",
    "deepnote_cell_height": 202.1875,
    "deepnote_output_heights": [
     null,
     21.1875
    ]
   },
   "source": "m = Prophet()\nm.fit(train)",
   "execution_count": null,
   "outputs": [
    {
     "name": "stderr",
     "text": "INFO:prophet:Disabling weekly seasonality. Run prophet with weekly_seasonality=True to override this.\nINFO:prophet:Disabling daily seasonality. Run prophet with daily_seasonality=True to override this.\n",
     "output_type": "stream"
    },
    {
     "output_type": "execute_result",
     "execution_count": 11,
     "data": {
      "text/plain": "<prophet.forecaster.Prophet at 0x7faab42b4e10>"
     },
     "metadata": {}
    }
   ]
  },
  {
   "cell_type": "code",
   "metadata": {
    "tags": [],
    "deepnote_to_be_reexecuted": false,
    "source_hash": "ce96f446",
    "execution_start": 1648152087753,
    "execution_millis": 10,
    "cell_id": "00005-f277d9a5-b366-48d7-97e7-2a899a4d8afa",
    "deepnote_cell_type": "code",
    "deepnote_cell_height": 411
   },
   "source": "future = m.make_future_dataframe(periods=12, freq='M')\nfuture.tail()",
   "execution_count": null,
   "outputs": [
    {
     "output_type": "execute_result",
     "execution_count": 12,
     "data": {
      "application/vnd.deepnote.dataframe.v3+json": {
       "column_count": 1,
       "row_count": 5,
       "columns": [
        {
         "name": "ds",
         "dtype": "datetime64[ns]",
         "stats": {
          "unique_count": 5,
          "nan_count": 0,
          "min": "2021-05-31 00:00:00",
          "max": "2021-09-30 00:00:00",
          "histogram": [
           {
            "bin_start": 1622419200000000000,
            "bin_end": 1623473280000000000,
            "count": 1
           },
           {
            "bin_start": 1623473280000000000,
            "bin_end": 1624527360000000000,
            "count": 0
           },
           {
            "bin_start": 1624527360000000000,
            "bin_end": 1625581440000000000,
            "count": 1
           },
           {
            "bin_start": 1625581440000000000,
            "bin_end": 1626635520000000000,
            "count": 0
           },
           {
            "bin_start": 1626635520000000000,
            "bin_end": 1627689600000000000,
            "count": 0
           },
           {
            "bin_start": 1627689600000000000,
            "bin_end": 1628743680000000000,
            "count": 1
           },
           {
            "bin_start": 1628743680000000000,
            "bin_end": 1629797760000000000,
            "count": 0
           },
           {
            "bin_start": 1629797760000000000,
            "bin_end": 1630851840000000000,
            "count": 1
           },
           {
            "bin_start": 1630851840000000000,
            "bin_end": 1631905920000000000,
            "count": 0
           },
           {
            "bin_start": 1631905920000000000,
            "bin_end": 1632960000000000000,
            "count": 1
           }
          ]
         }
        },
        {
         "name": "_deepnote_index_column",
         "dtype": "int64"
        }
       ],
       "rows": [
        {
         "ds": "2021-05-31T00:00:00.000000",
         "_deepnote_index_column": 77
        },
        {
         "ds": "2021-06-30T00:00:00.000000",
         "_deepnote_index_column": 78
        },
        {
         "ds": "2021-07-31T00:00:00.000000",
         "_deepnote_index_column": 79
        },
        {
         "ds": "2021-08-31T00:00:00.000000",
         "_deepnote_index_column": 80
        },
        {
         "ds": "2021-09-30T00:00:00.000000",
         "_deepnote_index_column": 81
        }
       ]
      },
      "text/plain": "           ds\n77 2021-05-31\n78 2021-06-30\n79 2021-07-31\n80 2021-08-31\n81 2021-09-30",
      "text/html": "<div>\n<style scoped>\n    .dataframe tbody tr th:only-of-type {\n        vertical-align: middle;\n    }\n\n    .dataframe tbody tr th {\n        vertical-align: top;\n    }\n\n    .dataframe thead th {\n        text-align: right;\n    }\n</style>\n<table border=\"1\" class=\"dataframe\">\n  <thead>\n    <tr style=\"text-align: right;\">\n      <th></th>\n      <th>ds</th>\n    </tr>\n  </thead>\n  <tbody>\n    <tr>\n      <th>77</th>\n      <td>2021-05-31</td>\n    </tr>\n    <tr>\n      <th>78</th>\n      <td>2021-06-30</td>\n    </tr>\n    <tr>\n      <th>79</th>\n      <td>2021-07-31</td>\n    </tr>\n    <tr>\n      <th>80</th>\n      <td>2021-08-31</td>\n    </tr>\n    <tr>\n      <th>81</th>\n      <td>2021-09-30</td>\n    </tr>\n  </tbody>\n</table>\n</div>"
     },
     "metadata": {}
    }
   ]
  },
  {
   "cell_type": "code",
   "metadata": {
    "tags": [],
    "deepnote_to_be_reexecuted": false,
    "source_hash": "91d05337",
    "execution_start": 1648152087770,
    "execution_millis": 1792,
    "cell_id": "00006-d27986ef-d2a0-4a89-8030-9c6459406b49",
    "deepnote_cell_type": "code",
    "deepnote_cell_height": 411
   },
   "source": "forecast = m.predict(future)\nforecast[['ds', 'yhat', 'yhat_lower', 'yhat_upper']].tail()",
   "execution_count": null,
   "outputs": [
    {
     "output_type": "execute_result",
     "execution_count": 13,
     "data": {
      "application/vnd.deepnote.dataframe.v3+json": {
       "column_count": 4,
       "row_count": 5,
       "columns": [
        {
         "name": "ds",
         "dtype": "datetime64[ns]",
         "stats": {
          "unique_count": 5,
          "nan_count": 0,
          "min": "2021-05-31 00:00:00",
          "max": "2021-09-30 00:00:00",
          "histogram": [
           {
            "bin_start": 1622419200000000000,
            "bin_end": 1623473280000000000,
            "count": 1
           },
           {
            "bin_start": 1623473280000000000,
            "bin_end": 1624527360000000000,
            "count": 0
           },
           {
            "bin_start": 1624527360000000000,
            "bin_end": 1625581440000000000,
            "count": 1
           },
           {
            "bin_start": 1625581440000000000,
            "bin_end": 1626635520000000000,
            "count": 0
           },
           {
            "bin_start": 1626635520000000000,
            "bin_end": 1627689600000000000,
            "count": 0
           },
           {
            "bin_start": 1627689600000000000,
            "bin_end": 1628743680000000000,
            "count": 1
           },
           {
            "bin_start": 1628743680000000000,
            "bin_end": 1629797760000000000,
            "count": 0
           },
           {
            "bin_start": 1629797760000000000,
            "bin_end": 1630851840000000000,
            "count": 1
           },
           {
            "bin_start": 1630851840000000000,
            "bin_end": 1631905920000000000,
            "count": 0
           },
           {
            "bin_start": 1631905920000000000,
            "bin_end": 1632960000000000000,
            "count": 1
           }
          ]
         }
        },
        {
         "name": "yhat",
         "dtype": "float64",
         "stats": {
          "unique_count": 5,
          "nan_count": 0,
          "min": "760.3765627235368",
          "max": "1017.8605421615938",
          "histogram": [
           {
            "bin_start": 760.3765627235368,
            "bin_end": 786.1249606673425,
            "count": 3
           },
           {
            "bin_start": 786.1249606673425,
            "bin_end": 811.8733586111482,
            "count": 0
           },
           {
            "bin_start": 811.8733586111482,
            "bin_end": 837.6217565549539,
            "count": 0
           },
           {
            "bin_start": 837.6217565549539,
            "bin_end": 863.3701544987596,
            "count": 1
           },
           {
            "bin_start": 863.3701544987596,
            "bin_end": 889.1185524425653,
            "count": 0
           },
           {
            "bin_start": 889.1185524425653,
            "bin_end": 914.866950386371,
            "count": 0
           },
           {
            "bin_start": 914.866950386371,
            "bin_end": 940.6153483301767,
            "count": 0
           },
           {
            "bin_start": 940.6153483301767,
            "bin_end": 966.3637462739824,
            "count": 0
           },
           {
            "bin_start": 966.3637462739824,
            "bin_end": 992.1121442177881,
            "count": 0
           },
           {
            "bin_start": 992.1121442177881,
            "bin_end": 1017.8605421615938,
            "count": 1
           }
          ]
         }
        },
        {
         "name": "yhat_lower",
         "dtype": "float64",
         "stats": {
          "unique_count": 5,
          "nan_count": 0,
          "min": "553.1989372909142",
          "max": "803.9155963309547",
          "histogram": [
           {
            "bin_start": 553.1989372909142,
            "bin_end": 578.2706031949182,
            "count": 3
           },
           {
            "bin_start": 578.2706031949182,
            "bin_end": 603.3422690989223,
            "count": 0
           },
           {
            "bin_start": 603.3422690989223,
            "bin_end": 628.4139350029263,
            "count": 1
           },
           {
            "bin_start": 628.4139350029263,
            "bin_end": 653.4856009069304,
            "count": 0
           },
           {
            "bin_start": 653.4856009069304,
            "bin_end": 678.5572668109344,
            "count": 0
           },
           {
            "bin_start": 678.5572668109344,
            "bin_end": 703.6289327149385,
            "count": 0
           },
           {
            "bin_start": 703.6289327149385,
            "bin_end": 728.7005986189425,
            "count": 0
           },
           {
            "bin_start": 728.7005986189425,
            "bin_end": 753.7722645229467,
            "count": 0
           },
           {
            "bin_start": 753.7722645229467,
            "bin_end": 778.8439304269507,
            "count": 0
           },
           {
            "bin_start": 778.8439304269507,
            "bin_end": 803.9155963309547,
            "count": 1
           }
          ]
         }
        },
        {
         "name": "yhat_upper",
         "dtype": "float64",
         "stats": {
          "unique_count": 5,
          "nan_count": 0,
          "min": "960.8903994366945",
          "max": "1226.1474928982545",
          "histogram": [
           {
            "bin_start": 960.8903994366945,
            "bin_end": 987.4161087828504,
            "count": 3
           },
           {
            "bin_start": 987.4161087828504,
            "bin_end": 1013.9418181290065,
            "count": 0
           },
           {
            "bin_start": 1013.9418181290065,
            "bin_end": 1040.4675274751626,
            "count": 0
           },
           {
            "bin_start": 1040.4675274751626,
            "bin_end": 1066.9932368213185,
            "count": 0
           },
           {
            "bin_start": 1066.9932368213185,
            "bin_end": 1093.5189461674745,
            "count": 1
           },
           {
            "bin_start": 1093.5189461674745,
            "bin_end": 1120.0446555136305,
            "count": 0
           },
           {
            "bin_start": 1120.0446555136305,
            "bin_end": 1146.5703648597864,
            "count": 0
           },
           {
            "bin_start": 1146.5703648597864,
            "bin_end": 1173.0960742059426,
            "count": 0
           },
           {
            "bin_start": 1173.0960742059426,
            "bin_end": 1199.6217835520986,
            "count": 0
           },
           {
            "bin_start": 1199.6217835520986,
            "bin_end": 1226.1474928982545,
            "count": 1
           }
          ]
         }
        },
        {
         "name": "_deepnote_index_column",
         "dtype": "int64"
        }
       ],
       "rows": [
        {
         "ds": "2021-05-31T00:00:00.000000",
         "yhat": 839.672259340487,
         "yhat_lower": 615.6954781139622,
         "yhat_upper": 1070.774835684332,
         "_deepnote_index_column": 77
        },
        {
         "ds": "2021-06-30T00:00:00.000000",
         "yhat": 771.788933187069,
         "yhat_lower": 576.407366566819,
         "yhat_upper": 981.1370500050576,
         "_deepnote_index_column": 78
        },
        {
         "ds": "2021-07-31T00:00:00.000000",
         "yhat": 760.3765627235368,
         "yhat_lower": 561.7128700202111,
         "yhat_upper": 960.8903994366945,
         "_deepnote_index_column": 79
        },
        {
         "ds": "2021-08-31T00:00:00.000000",
         "yhat": 765.9977841095663,
         "yhat_lower": 553.1989372909142,
         "yhat_upper": 966.304557952645,
         "_deepnote_index_column": 80
        },
        {
         "ds": "2021-09-30T00:00:00.000000",
         "yhat": 1017.8605421615938,
         "yhat_lower": 803.9155963309547,
         "yhat_upper": 1226.1474928982545,
         "_deepnote_index_column": 81
        }
       ]
      },
      "text/plain": "           ds         yhat  yhat_lower   yhat_upper\n77 2021-05-31   839.672259  615.695478  1070.774836\n78 2021-06-30   771.788933  576.407367   981.137050\n79 2021-07-31   760.376563  561.712870   960.890399\n80 2021-08-31   765.997784  553.198937   966.304558\n81 2021-09-30  1017.860542  803.915596  1226.147493",
      "text/html": "<div>\n<style scoped>\n    .dataframe tbody tr th:only-of-type {\n        vertical-align: middle;\n    }\n\n    .dataframe tbody tr th {\n        vertical-align: top;\n    }\n\n    .dataframe thead th {\n        text-align: right;\n    }\n</style>\n<table border=\"1\" class=\"dataframe\">\n  <thead>\n    <tr style=\"text-align: right;\">\n      <th></th>\n      <th>ds</th>\n      <th>yhat</th>\n      <th>yhat_lower</th>\n      <th>yhat_upper</th>\n    </tr>\n  </thead>\n  <tbody>\n    <tr>\n      <th>77</th>\n      <td>2021-05-31</td>\n      <td>839.672259</td>\n      <td>615.695478</td>\n      <td>1070.774836</td>\n    </tr>\n    <tr>\n      <th>78</th>\n      <td>2021-06-30</td>\n      <td>771.788933</td>\n      <td>576.407367</td>\n      <td>981.137050</td>\n    </tr>\n    <tr>\n      <th>79</th>\n      <td>2021-07-31</td>\n      <td>760.376563</td>\n      <td>561.712870</td>\n      <td>960.890399</td>\n    </tr>\n    <tr>\n      <th>80</th>\n      <td>2021-08-31</td>\n      <td>765.997784</td>\n      <td>553.198937</td>\n      <td>966.304558</td>\n    </tr>\n    <tr>\n      <th>81</th>\n      <td>2021-09-30</td>\n      <td>1017.860542</td>\n      <td>803.915596</td>\n      <td>1226.147493</td>\n    </tr>\n  </tbody>\n</table>\n</div>"
     },
     "metadata": {}
    }
   ]
  },
  {
   "cell_type": "code",
   "metadata": {
    "tags": [],
    "deepnote_to_be_reexecuted": false,
    "source_hash": "260a910a",
    "execution_start": 1648152089567,
    "execution_millis": 395,
    "cell_id": "00007-676c8a7d-bc2a-4996-99ba-802e4ef58240",
    "deepnote_cell_type": "code",
    "deepnote_cell_height": 617,
    "deepnote_output_heights": [
     448
    ]
   },
   "source": "fig1 = m.plot(forecast, uncertainty=True)\nax = fig1.gca()\nax.set_title(\"Current prediction of crime incidents on MSOA: 'E02004914'\", size=16)\nax.set_xlabel(\"Year\", size=14)\nax.set_ylabel(\"Number of crime incidents\", size=14);",
   "execution_count": null,
   "outputs": [
    {
     "data": {
      "text/plain": "<Figure size 720x432 with 1 Axes>",
      "image/png": "[encoded data removed]"
     },
     "metadata": {
      "image/png": {
       "width": 715,
       "height": 446
      }
     },
     "output_type": "display_data"
    }
   ]
  },
  {
   "cell_type": "code",
   "metadata": {
    "tags": [],
    "deepnote_to_be_reexecuted": false,
    "source_hash": "313dd8d9",
    "execution_start": 1648152089972,
    "execution_millis": 582,
    "cell_id": "00008-b6b2407c-9f8f-4e55-b7e3-5ce6c923395e",
    "deepnote_cell_type": "code",
    "deepnote_cell_height": 523,
    "deepnote_output_heights": [
     426
    ]
   },
   "source": "fig2 = m.plot_components(forecast)",
   "execution_count": null,
   "outputs": [
    {
     "data": {
      "text/plain": "<Figure size 648x432 with 2 Axes>",
      "image/png": "[encoded data removed]"
     },
     "metadata": {
      "image/png": {
       "width": 640,
       "height": 424
      }
     },
     "output_type": "display_data"
    }
   ]
  },
  {
   "cell_type": "code",
   "metadata": {
    "tags": [],
    "deepnote_to_be_reexecuted": false,
    "source_hash": "da8bb4fd",
    "execution_start": 1648152090548,
    "execution_millis": 834,
    "cell_id": "00009-919e47e8-1f2d-43a6-804c-85da92915287",
    "deepnote_cell_type": "code",
    "deepnote_cell_height": 735
   },
   "source": "from prophet.plot import plot_plotly, plot_components_plotly\n\nplot_plotly(m, forecast)",
   "execution_count": null,
   "outputs": [
    {
     "data": {
      "text/html": "<html>\n<head><meta charset=\"utf-8\" /></head>\n<body>\n    <div>            <script src=\"https://cdnjs.cloudflare.com/ajax/libs/mathjax/2.7.5/MathJax.js?config=TeX-AMS-MML_SVG\"></script><script type=\"text/javascript\">if (window.MathJax) {MathJax.Hub.Config({SVG: {font: \"STIX-Web\"}});}</script>                <script type=\"text/javascript\">window.PlotlyConfig = {MathJaxConfig: 'local'};</script>\n        <script src=\"https://cdn.plot.ly/plotly-2.9.0.min.js\"></script>                <div id=\"3c03dce8-5ef1-4fa3-af62-19f85f530dd8\" class=\"plotly-graph-div\" style=\"height:600px; width:900px;\"></div>            <script type=\"text/javascript\">                                    window.PLOTLYENV=window.PLOTLYENV || {};                                    if (document.getElementById(\"3c03dce8-5ef1-4fa3-af62-19f85f530dd8\")) {                    Plotly.newPlot(                        \"3c03dce8-5ef1-4fa3-af62-19f85f530dd8\",                        [{\"marker\":{\"color\":\"black\",\"size\":4},\"mode\":\"markers\",\"name\":\"Actual\",\"x\":[\"2015-01-01T00:00:00\",\"2015-02-01T00:00:00\",\"2015-03-01T00:00:00\",\"2015-04-01T00:00:00\",\"2015-05-01T00:00:00\",\"2015-06-01T00:00:00\",\"2015-07-01T00:00:00\",\"2015-08-01T00:00:00\",\"2015-09-01T00:00:00\",\"2015-10-01T00:00:00\",\"2015-11-01T00:00:00\",\"2015-12-01T00:00:00\",\"2016-01-01T00:00:00\",\"2016-02-01T00:00:00\",\"2016-03-01T00:00:00\",\"2016-04-01T00:00:00\",\"2016-05-01T00:00:00\",\"2016-06-01T00:00:00\",\"2016-07-01T00:00:00\",\"2016-08-01T00:00:00\",\"2016-09-01T00:00:00\",\"2016-10-01T00:00:00\",\"2016-11-01T00:00:00\",\"2016-12-01T00:00:00\",\"2017-01-01T00:00:00\",\"2017-02-01T00:00:00\",\"2017-03-01T00:00:00\",\"2017-04-01T00:00:00\",\"2017-05-01T00:00:00\",\"2017-06-01T00:00:00\",\"2017-07-01T00:00:00\",\"2017-08-01T00:00:00\",\"2017-09-01T00:00:00\",\"2017-10-01T00:00:00\",\"2017-11-01T00:00:00\",\"2017-12-01T00:00:00\",\"2018-01-01T00:00:00\",\"2018-02-01T00:00:00\",\"2018-03-01T00:00:00\",\"2018-04-01T00:00:00\",\"2018-05-01T00:00:00\",\"2018-06-01T00:00:00\",\"2018-07-01T00:00:00\",\"2018-08-01T00:00:00\",\"2018-09-01T00:00:00\",\"2018-10-01T00:00:00\",\"2018-11-01T00:00:00\",\"2018-12-01T00:00:00\",\"2019-01-01T00:00:00\",\"2019-02-01T00:00:00\",\"2019-03-01T00:00:00\",\"2019-04-01T00:00:00\",\"2019-05-01T00:00:00\",\"2019-06-01T00:00:00\",\"2019-07-01T00:00:00\",\"2019-08-01T00:00:00\",\"2019-09-01T00:00:00\",\"2019-10-01T00:00:00\",\"2019-11-01T00:00:00\",\"2019-12-01T00:00:00\",\"2020-01-01T00:00:00\",\"2020-02-01T00:00:00\",\"2020-03-01T00:00:00\",\"2020-04-01T00:00:00\",\"2020-05-01T00:00:00\",\"2020-06-01T00:00:00\",\"2020-07-01T00:00:00\",\"2020-08-01T00:00:00\",\"2020-09-01T00:00:00\",\"2020-10-01T00:00:00\"],\"y\":[574,567,612,605,583,627,663,601,624,628,632,718,597,476,491,512,481,507,549,566,660,606,631,716,552,715,836,694,583,692,699,782,670,783,754,751,799,689,836,753,821,800,862,809,735,885,905,887,755,833,1034,1044,891,1064,994,978,958,1066,1066,1087,903,960,738,234,236,325,504,537,594,595],\"type\":\"scatter\"},{\"hoverinfo\":\"skip\",\"line\":{\"width\":0},\"mode\":\"lines\",\"x\":[\"2015-01-01T00:00:00\",\"2015-02-01T00:00:00\",\"2015-03-01T00:00:00\",\"2015-04-01T00:00:00\",\"2015-05-01T00:00:00\",\"2015-06-01T00:00:00\",\"2015-07-01T00:00:00\",\"2015-08-01T00:00:00\",\"2015-09-01T00:00:00\",\"2015-10-01T00:00:00\",\"2015-11-01T00:00:00\",\"2015-12-01T00:00:00\",\"2016-01-01T00:00:00\",\"2016-02-01T00:00:00\",\"2016-03-01T00:00:00\",\"2016-04-01T00:00:00\",\"2016-05-01T00:00:00\",\"2016-06-01T00:00:00\",\"2016-07-01T00:00:00\",\"2016-08-01T00:00:00\",\"2016-09-01T00:00:00\",\"2016-10-01T00:00:00\",\"2016-11-01T00:00:00\",\"2016-12-01T00:00:00\",\"2017-01-01T00:00:00\",\"2017-02-01T00:00:00\",\"2017-03-01T00:00:00\",\"2017-04-01T00:00:00\",\"2017-05-01T00:00:00\",\"2017-06-01T00:00:00\",\"2017-07-01T00:00:00\",\"2017-08-01T00:00:00\",\"2017-09-01T00:00:00\",\"2017-10-01T00:00:00\",\"2017-11-01T00:00:00\",\"2017-12-01T00:00:00\",\"2018-01-01T00:00:00\",\"2018-02-01T00:00:00\",\"2018-03-01T00:00:00\",\"2018-04-01T00:00:00\",\"2018-05-01T00:00:00\",\"2018-06-01T00:00:00\",\"2018-07-01T00:00:00\",\"2018-08-01T00:00:00\",\"2018-09-01T00:00:00\",\"2018-10-01T00:00:00\",\"2018-11-01T00:00:00\",\"2018-12-01T00:00:00\",\"2019-01-01T00:00:00\",\"2019-02-01T00:00:00\",\"2019-03-01T00:00:00\",\"2019-04-01T00:00:00\",\"2019-05-01T00:00:00\",\"2019-06-01T00:00:00\",\"2019-07-01T00:00:00\",\"2019-08-01T00:00:00\",\"2019-09-01T00:00:00\",\"2019-10-01T00:00:00\",\"2019-11-01T00:00:00\",\"2019-12-01T00:00:00\",\"2020-01-01T00:00:00\",\"2020-02-01T00:00:00\",\"2020-03-01T00:00:00\",\"2020-04-01T00:00:00\",\"2020-05-01T00:00:00\",\"2020-06-01T00:00:00\",\"2020-07-01T00:00:00\",\"2020-08-01T00:00:00\",\"2020-09-01T00:00:00\",\"2020-10-01T00:00:00\",\"2020-10-31T00:00:00\",\"2020-11-30T00:00:00\",\"2020-12-31T00:00:00\",\"2021-01-31T00:00:00\",\"2021-02-28T00:00:00\",\"2021-03-31T00:00:00\",\"2021-04-30T00:00:00\",\"2021-05-31T00:00:00\",\"2021-06-30T00:00:00\",\"2021-07-31T00:00:00\",\"2021-08-31T00:00:00\",\"2021-09-30T00:00:00\"],\"y\":[382.3916814977318,381.84279333563944,447.87459155838405,392.8035058725702,307.0818540640489,383.11465353474443,370.9447254124899,373.26763455160346,368.2448876045898,504.37196528190657,528.4938837209748,583.0500954518984,454.2786875387852,366.24421731313805,496.4804981586965,307.3042285683269,309.297602340638,387.41343558016126,470.66284496898675,478.69798384295564,463.9825625330329,426.390022801603,530.8722781006496,534.6213080369671,443.6950788865638,616.3731204223328,542.0357242796728,384.6082775215973,358.34026657620166,457.77016694774784,497.10688745007275,482.02420196603,498.50824341988516,517.9359223705005,578.4429896937243,603.4086590522151,492.8987955111949,585.1099800526064,564.6353998723351,476.6468487926052,426.09002588839536,478.7404239282486,520.2049648981211,507.75214814776115,499.39204702673743,588.2037754116948,645.8595148194257,664.9572753335669,561.7185171793825,541.1815207983767,601.1571687568369,567.1419825757374,484.85505850413944,523.6314431694186,514.0676196327055,530.1755786020487,522.1246606863263,645.0145289571548,678.6140453120477,751.9577911920359,590.9263084049004,529.263632441502,643.9403648957673,468.71964499418164,467.539934398604,539.2053314982625,650.219983854186,641.3320497612722,617.8990123568705,589.5981255762377,733.8616759823111,802.9298326090075,637.1005135051315,493.24065597516903,691.9008544888464,739.2980611192064,563.882838557152,615.6954781139622,576.407366566819,561.7128700202111,553.1989372909142,803.9155963309547],\"type\":\"scatter\"},{\"fill\":\"tonexty\",\"fillcolor\":\"rgba(0, 114, 178, 0.2)\",\"line\":{\"color\":\"#0072B2\",\"width\":2},\"mode\":\"lines\",\"name\":\"Predicted\",\"x\":[\"2015-01-01T00:00:00\",\"2015-02-01T00:00:00\",\"2015-03-01T00:00:00\",\"2015-04-01T00:00:00\",\"2015-05-01T00:00:00\",\"2015-06-01T00:00:00\",\"2015-07-01T00:00:00\",\"2015-08-01T00:00:00\",\"2015-09-01T00:00:00\",\"2015-10-01T00:00:00\",\"2015-11-01T00:00:00\",\"2015-12-01T00:00:00\",\"2016-01-01T00:00:00\",\"2016-02-01T00:00:00\",\"2016-03-01T00:00:00\",\"2016-04-01T00:00:00\",\"2016-05-01T00:00:00\",\"2016-06-01T00:00:00\",\"2016-07-01T00:00:00\",\"2016-08-01T00:00:00\",\"2016-09-01T00:00:00\",\"2016-10-01T00:00:00\",\"2016-11-01T00:00:00\",\"2016-12-01T00:00:00\",\"2017-01-01T00:00:00\",\"2017-02-01T00:00:00\",\"2017-03-01T00:00:00\",\"2017-04-01T00:00:00\",\"2017-05-01T00:00:00\",\"2017-06-01T00:00:00\",\"2017-07-01T00:00:00\",\"2017-08-01T00:00:00\",\"2017-09-01T00:00:00\",\"2017-10-01T00:00:00\",\"2017-11-01T00:00:00\",\"2017-12-01T00:00:00\",\"2018-01-01T00:00:00\",\"2018-02-01T00:00:00\",\"2018-03-01T00:00:00\",\"2018-04-01T00:00:00\",\"2018-05-01T00:00:00\",\"2018-06-01T00:00:00\",\"2018-07-01T00:00:00\",\"2018-08-01T00:00:00\",\"2018-09-01T00:00:00\",\"2018-10-01T00:00:00\",\"2018-11-01T00:00:00\",\"2018-12-01T00:00:00\",\"2019-01-01T00:00:00\",\"2019-02-01T00:00:00\",\"2019-03-01T00:00:00\",\"2019-04-01T00:00:00\",\"2019-05-01T00:00:00\",\"2019-06-01T00:00:00\",\"2019-07-01T00:00:00\",\"2019-08-01T00:00:00\",\"2019-09-01T00:00:00\",\"2019-10-01T00:00:00\",\"2019-11-01T00:00:00\",\"2019-12-01T00:00:00\",\"2020-01-01T00:00:00\",\"2020-02-01T00:00:00\",\"2020-03-01T00:00:00\",\"2020-04-01T00:00:00\",\"2020-05-01T00:00:00\",\"2020-06-01T00:00:00\",\"2020-07-01T00:00:00\",\"2020-08-01T00:00:00\",\"2020-09-01T00:00:00\",\"2020-10-01T00:00:00\",\"2020-10-31T00:00:00\",\"2020-11-30T00:00:00\",\"2020-12-31T00:00:00\",\"2021-01-31T00:00:00\",\"2021-02-28T00:00:00\",\"2021-03-31T00:00:00\",\"2021-04-30T00:00:00\",\"2021-05-31T00:00:00\",\"2021-06-30T00:00:00\",\"2021-07-31T00:00:00\",\"2021-08-31T00:00:00\",\"2021-09-30T00:00:00\"],\"y\":[599.1353153118591,596.566777990559,655.6151682172905,615.2461566111693,518.1679989149726,585.2141967643634,579.7815381256471,573.5117025157716,571.0002370512038,710.2179029228503,730.9423146043931,785.2360491792476,642.6606210035065,567.3215864140955,702.6961850504102,507.839427060852,521.0217872125668,593.9520108609616,683.809410613288,691.3573579203335,683.8652732520651,651.4933823462422,737.9007389743398,741.6549263348346,666.3998869309141,813.1171194029968,738.2913208377116,595.9687961985949,573.6694988206908,644.9251560317466,702.864175978144,705.0066130726623,698.1879952785836,723.2702579956832,788.5592136072365,809.8414775196186,713.0425604457643,784.518630424292,775.5897148102674,684.7824928618849,625.7184070297465,695.0034340327747,721.1613659117894,718.6910687391824,713.5354562335715,795.8344974837275,839.2246847454743,877.3515756282368,758.0946245941889,755.5221535849402,814.5669908033049,774.1940454935923,677.1112253246691,744.1526053046108,738.7151897152628,732.4404385898596,729.9239302809542,869.1367159807053,889.856084793977,944.1449391732829,801.5644681336468,726.2203906807491,861.5902718213305,666.7284709918463,679.9059509966423,752.8311318263028,842.6836514313736,850.226555930513,842.7294284533684,810.3526574127543,940.441290360965,1010.208788251361,843.4861784651914,696.7209705818528,897.6042885973078,954.6043316000962,777.846834579213,839.672259340487,771.788933187069,760.3765627235368,765.9977841095663,1017.8605421615938],\"type\":\"scatter\"},{\"fill\":\"tonexty\",\"fillcolor\":\"rgba(0, 114, 178, 0.2)\",\"hoverinfo\":\"skip\",\"line\":{\"width\":0},\"mode\":\"lines\",\"x\":[\"2015-01-01T00:00:00\",\"2015-02-01T00:00:00\",\"2015-03-01T00:00:00\",\"2015-04-01T00:00:00\",\"2015-05-01T00:00:00\",\"2015-06-01T00:00:00\",\"2015-07-01T00:00:00\",\"2015-08-01T00:00:00\",\"2015-09-01T00:00:00\",\"2015-10-01T00:00:00\",\"2015-11-01T00:00:00\",\"2015-12-01T00:00:00\",\"2016-01-01T00:00:00\",\"2016-02-01T00:00:00\",\"2016-03-01T00:00:00\",\"2016-04-01T00:00:00\",\"2016-05-01T00:00:00\",\"2016-06-01T00:00:00\",\"2016-07-01T00:00:00\",\"2016-08-01T00:00:00\",\"2016-09-01T00:00:00\",\"2016-10-01T00:00:00\",\"2016-11-01T00:00:00\",\"2016-12-01T00:00:00\",\"2017-01-01T00:00:00\",\"2017-02-01T00:00:00\",\"2017-03-01T00:00:00\",\"2017-04-01T00:00:00\",\"2017-05-01T00:00:00\",\"2017-06-01T00:00:00\",\"2017-07-01T00:00:00\",\"2017-08-01T00:00:00\",\"2017-09-01T00:00:00\",\"2017-10-01T00:00:00\",\"2017-11-01T00:00:00\",\"2017-12-01T00:00:00\",\"2018-01-01T00:00:00\",\"2018-02-01T00:00:00\",\"2018-03-01T00:00:00\",\"2018-04-01T00:00:00\",\"2018-05-01T00:00:00\",\"2018-06-01T00:00:00\",\"2018-07-01T00:00:00\",\"2018-08-01T00:00:00\",\"2018-09-01T00:00:00\",\"2018-10-01T00:00:00\",\"2018-11-01T00:00:00\",\"2018-12-01T00:00:00\",\"2019-01-01T00:00:00\",\"2019-02-01T00:00:00\",\"2019-03-01T00:00:00\",\"2019-04-01T00:00:00\",\"2019-05-01T00:00:00\",\"2019-06-01T00:00:00\",\"2019-07-01T00:00:00\",\"2019-08-01T00:00:00\",\"2019-09-01T00:00:00\",\"2019-10-01T00:00:00\",\"2019-11-01T00:00:00\",\"2019-12-01T00:00:00\",\"2020-01-01T00:00:00\",\"2020-02-01T00:00:00\",\"2020-03-01T00:00:00\",\"2020-04-01T00:00:00\",\"2020-05-01T00:00:00\",\"2020-06-01T00:00:00\",\"2020-07-01T00:00:00\",\"2020-08-01T00:00:00\",\"2020-09-01T00:00:00\",\"2020-10-01T00:00:00\",\"2020-10-31T00:00:00\",\"2020-11-30T00:00:00\",\"2020-12-31T00:00:00\",\"2021-01-31T00:00:00\",\"2021-02-28T00:00:00\",\"2021-03-31T00:00:00\",\"2021-04-30T00:00:00\",\"2021-05-31T00:00:00\",\"2021-06-30T00:00:00\",\"2021-07-31T00:00:00\",\"2021-08-31T00:00:00\",\"2021-09-30T00:00:00\"],\"y\":[813.0802598329248,781.7722276769225,869.4196773122975,810.8696987170979,731.201378514622,807.8405148921054,779.5208514680477,770.1711593869633,773.2350569699353,914.3720844558934,949.7374047473592,996.4286542552404,847.9071292996266,774.3741763150022,911.111270810753,702.5258668993519,732.4894350475034,809.4739012100189,896.7189617515953,885.193676381313,895.8478225183597,861.6089800943718,934.132409065017,952.8064568838756,870.413364116379,1031.9587233275254,953.3337710817918,806.9740762447797,791.0421214335983,873.7506361395948,904.4081210268056,910.2507403511493,916.2839301662639,923.2027737001117,981.6484059909051,1034.355437143877,913.870637012233,993.7656865954071,998.9746996103544,883.4795589684345,830.142713672223,890.9805920950665,929.3656252406419,921.5132171968207,932.6705332380089,1016.5259096310268,1047.2900082833673,1088.017300074788,976.5270669552789,958.9273343952926,1026.7965869681814,977.7677333669548,885.7437719326045,959.812630516186,940.9486311812416,946.3335634128297,933.2244915686623,1073.9427291059203,1091.6900290016868,1173.2793689540833,1005.4104699506697,941.3121071959251,1067.2887998296824,862.0537077924097,875.1374940101874,929.4044716934247,1047.457837008817,1055.9213896662197,1045.4595972547224,1013.61011939057,1153.0960666128526,1226.8960951273573,1042.4777210678874,895.8158686943578,1105.8799849308975,1162.287595445499,987.4072216167111,1070.774835684332,981.1370500050576,960.8903994366945,966.304557952645,1226.1474928982545],\"type\":\"scatter\"}],                        {\"height\":600,\"showlegend\":false,\"width\":900,\"xaxis\":{\"rangeselector\":{\"buttons\":[{\"count\":7,\"label\":\"1w\",\"step\":\"day\",\"stepmode\":\"backward\"},{\"count\":1,\"label\":\"1m\",\"step\":\"month\",\"stepmode\":\"backward\"},{\"count\":6,\"label\":\"6m\",\"step\":\"month\",\"stepmode\":\"backward\"},{\"count\":1,\"label\":\"1y\",\"step\":\"year\",\"stepmode\":\"backward\"},{\"step\":\"all\"}]},\"rangeslider\":{\"visible\":true},\"title\":{\"text\":\"ds\"},\"type\":\"date\"},\"yaxis\":{\"title\":{\"text\":\"y\"}},\"template\":{\"data\":{\"bar\":[{\"error_x\":{\"color\":\"#2a3f5f\"},\"error_y\":{\"color\":\"#2a3f5f\"},\"marker\":{\"line\":{\"color\":\"#E5ECF6\",\"width\":0.5},\"pattern\":{\"fillmode\":\"overlay\",\"size\":10,\"solidity\":0.2}},\"type\":\"bar\"}],\"barpolar\":[{\"marker\":{\"line\":{\"color\":\"#E5ECF6\",\"width\":0.5},\"pattern\":{\"fillmode\":\"overlay\",\"size\":10,\"solidity\":0.2}},\"type\":\"barpolar\"}],\"carpet\":[{\"aaxis\":{\"endlinecolor\":\"#2a3f5f\",\"gridcolor\":\"white\",\"linecolor\":\"white\",\"minorgridcolor\":\"white\",\"startlinecolor\":\"#2a3f5f\"},\"baxis\":{\"endlinecolor\":\"#2a3f5f\",\"gridcolor\":\"white\",\"linecolor\":\"white\",\"minorgridcolor\":\"white\",\"startlinecolor\":\"#2a3f5f\"},\"type\":\"carpet\"}],\"choropleth\":[{\"colorbar\":{\"outlinewidth\":0,\"ticks\":\"\"},\"type\":\"choropleth\"}],\"contour\":[{\"colorbar\":{\"outlinewidth\":0,\"ticks\":\"\"},\"colorscale\":[[0.0,\"#0d0887\"],[0.1111111111111111,\"#46039f\"],[0.2222222222222222,\"#7201a8\"],[0.3333333333333333,\"#9c179e\"],[0.4444444444444444,\"#bd3786\"],[0.5555555555555556,\"#d8576b\"],[0.6666666666666666,\"#ed7953\"],[0.7777777777777778,\"#fb9f3a\"],[0.8888888888888888,\"#fdca26\"],[1.0,\"#f0f921\"]],\"type\":\"contour\"}],\"contourcarpet\":[{\"colorbar\":{\"outlinewidth\":0,\"ticks\":\"\"},\"type\":\"contourcarpet\"}],\"heatmap\":[{\"colorbar\":{\"outlinewidth\":0,\"ticks\":\"\"},\"colorscale\":[[0.0,\"#0d0887\"],[0.1111111111111111,\"#46039f\"],[0.2222222222222222,\"#7201a8\"],[0.3333333333333333,\"#9c179e\"],[0.4444444444444444,\"#bd3786\"],[0.5555555555555556,\"#d8576b\"],[0.6666666666666666,\"#ed7953\"],[0.7777777777777778,\"#fb9f3a\"],[0.8888888888888888,\"#fdca26\"],[1.0,\"#f0f921\"]],\"type\":\"heatmap\"}],\"heatmapgl\":[{\"colorbar\":{\"outlinewidth\":0,\"ticks\":\"\"},\"colorscale\":[[0.0,\"#0d0887\"],[0.1111111111111111,\"#46039f\"],[0.2222222222222222,\"#7201a8\"],[0.3333333333333333,\"#9c179e\"],[0.4444444444444444,\"#bd3786\"],[0.5555555555555556,\"#d8576b\"],[0.6666666666666666,\"#ed7953\"],[0.7777777777777778,\"#fb9f3a\"],[0.8888888888888888,\"#fdca26\"],[1.0,\"#f0f921\"]],\"type\":\"heatmapgl\"}],\"histogram\":[{\"marker\":{\"pattern\":{\"fillmode\":\"overlay\",\"size\":10,\"solidity\":0.2}},\"type\":\"histogram\"}],\"histogram2d\":[{\"colorbar\":{\"outlinewidth\":0,\"ticks\":\"\"},\"colorscale\":[[0.0,\"#0d0887\"],[0.1111111111111111,\"#46039f\"],[0.2222222222222222,\"#7201a8\"],[0.3333333333333333,\"#9c179e\"],[0.4444444444444444,\"#bd3786\"],[0.5555555555555556,\"#d8576b\"],[0.6666666666666666,\"#ed7953\"],[0.7777777777777778,\"#fb9f3a\"],[0.8888888888888888,\"#fdca26\"],[1.0,\"#f0f921\"]],\"type\":\"histogram2d\"}],\"histogram2dcontour\":[{\"colorbar\":{\"outlinewidth\":0,\"ticks\":\"\"},\"colorscale\":[[0.0,\"#0d0887\"],[0.1111111111111111,\"#46039f\"],[0.2222222222222222,\"#7201a8\"],[0.3333333333333333,\"#9c179e\"],[0.4444444444444444,\"#bd3786\"],[0.5555555555555556,\"#d8576b\"],[0.6666666666666666,\"#ed7953\"],[0.7777777777777778,\"#fb9f3a\"],[0.8888888888888888,\"#fdca26\"],[1.0,\"#f0f921\"]],\"type\":\"histogram2dcontour\"}],\"mesh3d\":[{\"colorbar\":{\"outlinewidth\":0,\"ticks\":\"\"},\"type\":\"mesh3d\"}],\"parcoords\":[{\"line\":{\"colorbar\":{\"outlinewidth\":0,\"ticks\":\"\"}},\"type\":\"parcoords\"}],\"pie\":[{\"automargin\":true,\"type\":\"pie\"}],\"scatter\":[{\"marker\":{\"colorbar\":{\"outlinewidth\":0,\"ticks\":\"\"}},\"type\":\"scatter\"}],\"scatter3d\":[{\"line\":{\"colorbar\":{\"outlinewidth\":0,\"ticks\":\"\"}},\"marker\":{\"colorbar\":{\"outlinewidth\":0,\"ticks\":\"\"}},\"type\":\"scatter3d\"}],\"scattercarpet\":[{\"marker\":{\"colorbar\":{\"outlinewidth\":0,\"ticks\":\"\"}},\"type\":\"scattercarpet\"}],\"scattergeo\":[{\"marker\":{\"colorbar\":{\"outlinewidth\":0,\"ticks\":\"\"}},\"type\":\"scattergeo\"}],\"scattergl\":[{\"marker\":{\"colorbar\":{\"outlinewidth\":0,\"ticks\":\"\"}},\"type\":\"scattergl\"}],\"scattermapbox\":[{\"marker\":{\"colorbar\":{\"outlinewidth\":0,\"ticks\":\"\"}},\"type\":\"scattermapbox\"}],\"scatterpolar\":[{\"marker\":{\"colorbar\":{\"outlinewidth\":0,\"ticks\":\"\"}},\"type\":\"scatterpolar\"}],\"scatterpolargl\":[{\"marker\":{\"colorbar\":{\"outlinewidth\":0,\"ticks\":\"\"}},\"type\":\"scatterpolargl\"}],\"scatterternary\":[{\"marker\":{\"colorbar\":{\"outlinewidth\":0,\"ticks\":\"\"}},\"type\":\"scatterternary\"}],\"surface\":[{\"colorbar\":{\"outlinewidth\":0,\"ticks\":\"\"},\"colorscale\":[[0.0,\"#0d0887\"],[0.1111111111111111,\"#46039f\"],[0.2222222222222222,\"#7201a8\"],[0.3333333333333333,\"#9c179e\"],[0.4444444444444444,\"#bd3786\"],[0.5555555555555556,\"#d8576b\"],[0.6666666666666666,\"#ed7953\"],[0.7777777777777778,\"#fb9f3a\"],[0.8888888888888888,\"#fdca26\"],[1.0,\"#f0f921\"]],\"type\":\"surface\"}],\"table\":[{\"cells\":{\"fill\":{\"color\":\"#EBF0F8\"},\"line\":{\"color\":\"white\"}},\"header\":{\"fill\":{\"color\":\"#C8D4E3\"},\"line\":{\"color\":\"white\"}},\"type\":\"table\"}]},\"layout\":{\"annotationdefaults\":{\"arrowcolor\":\"#2a3f5f\",\"arrowhead\":0,\"arrowwidth\":1},\"autotypenumbers\":\"strict\",\"coloraxis\":{\"colorbar\":{\"outlinewidth\":0,\"ticks\":\"\"}},\"colorscale\":{\"diverging\":[[0,\"#8e0152\"],[0.1,\"#c51b7d\"],[0.2,\"#de77ae\"],[0.3,\"#f1b6da\"],[0.4,\"#fde0ef\"],[0.5,\"#f7f7f7\"],[0.6,\"#e6f5d0\"],[0.7,\"#b8e186\"],[0.8,\"#7fbc41\"],[0.9,\"#4d9221\"],[1,\"#276419\"]],\"sequential\":[[0.0,\"#0d0887\"],[0.1111111111111111,\"#46039f\"],[0.2222222222222222,\"#7201a8\"],[0.3333333333333333,\"#9c179e\"],[0.4444444444444444,\"#bd3786\"],[0.5555555555555556,\"#d8576b\"],[0.6666666666666666,\"#ed7953\"],[0.7777777777777778,\"#fb9f3a\"],[0.8888888888888888,\"#fdca26\"],[1.0,\"#f0f921\"]],\"sequentialminus\":[[0.0,\"#0d0887\"],[0.1111111111111111,\"#46039f\"],[0.2222222222222222,\"#7201a8\"],[0.3333333333333333,\"#9c179e\"],[0.4444444444444444,\"#bd3786\"],[0.5555555555555556,\"#d8576b\"],[0.6666666666666666,\"#ed7953\"],[0.7777777777777778,\"#fb9f3a\"],[0.8888888888888888,\"#fdca26\"],[1.0,\"#f0f921\"]]},\"colorway\":[\"#636efa\",\"#EF553B\",\"#00cc96\",\"#ab63fa\",\"#FFA15A\",\"#19d3f3\",\"#FF6692\",\"#B6E880\",\"#FF97FF\",\"#FECB52\"],\"font\":{\"color\":\"#2a3f5f\"},\"geo\":{\"bgcolor\":\"white\",\"lakecolor\":\"white\",\"landcolor\":\"#E5ECF6\",\"showlakes\":true,\"showland\":true,\"subunitcolor\":\"white\"},\"hoverlabel\":{\"align\":\"left\"},\"hovermode\":\"closest\",\"mapbox\":{\"style\":\"light\"},\"paper_bgcolor\":\"white\",\"plot_bgcolor\":\"#E5ECF6\",\"polar\":{\"angularaxis\":{\"gridcolor\":\"white\",\"linecolor\":\"white\",\"ticks\":\"\"},\"bgcolor\":\"#E5ECF6\",\"radialaxis\":{\"gridcolor\":\"white\",\"linecolor\":\"white\",\"ticks\":\"\"}},\"scene\":{\"xaxis\":{\"backgroundcolor\":\"#E5ECF6\",\"gridcolor\":\"white\",\"gridwidth\":2,\"linecolor\":\"white\",\"showbackground\":true,\"ticks\":\"\",\"zerolinecolor\":\"white\"},\"yaxis\":{\"backgroundcolor\":\"#E5ECF6\",\"gridcolor\":\"white\",\"gridwidth\":2,\"linecolor\":\"white\",\"showbackground\":true,\"ticks\":\"\",\"zerolinecolor\":\"white\"},\"zaxis\":{\"backgroundcolor\":\"#E5ECF6\",\"gridcolor\":\"white\",\"gridwidth\":2,\"linecolor\":\"white\",\"showbackground\":true,\"ticks\":\"\",\"zerolinecolor\":\"white\"}},\"shapedefaults\":{\"line\":{\"color\":\"#2a3f5f\"}},\"ternary\":{\"aaxis\":{\"gridcolor\":\"white\",\"linecolor\":\"white\",\"ticks\":\"\"},\"baxis\":{\"gridcolor\":\"white\",\"linecolor\":\"white\",\"ticks\":\"\"},\"bgcolor\":\"#E5ECF6\",\"caxis\":{\"gridcolor\":\"white\",\"linecolor\":\"white\",\"ticks\":\"\"}},\"title\":{\"x\":0.05},\"xaxis\":{\"automargin\":true,\"gridcolor\":\"white\",\"linecolor\":\"white\",\"ticks\":\"\",\"title\":{\"standoff\":15},\"zerolinecolor\":\"white\",\"zerolinewidth\":2},\"yaxis\":{\"automargin\":true,\"gridcolor\":\"white\",\"linecolor\":\"white\",\"ticks\":\"\",\"title\":{\"standoff\":15},\"zerolinecolor\":\"white\",\"zerolinewidth\":2}}}},                        {\"responsive\": true}                    ).then(function(){\n                            \nvar gd = document.getElementById('3c03dce8-5ef1-4fa3-af62-19f85f530dd8');\nvar x = new MutationObserver(function (mutations, observer) {{\n        var display = window.getComputedStyle(gd).display;\n        if (!display || display === 'none') {{\n            console.log([gd, 'removed!']);\n            Plotly.purge(gd);\n            observer.disconnect();\n        }}\n}});\n\n// Listen for the removal of the full notebook cells\nvar notebookContainer = gd.closest('#notebook-container');\nif (notebookContainer) {{\n    x.observe(notebookContainer, {childList: true});\n}}\n\n// Listen for the clearing of the current output cell\nvar outputEl = gd.closest('.output');\nif (outputEl) {{\n    x.observe(outputEl, {childList: true});\n}}\n\n                        })                };                            </script>        </div>\n</body>\n</html>"
     },
     "metadata": {},
     "output_type": "display_data"
    }
   ]
  },
  {
   "cell_type": "code",
   "metadata": {
    "tags": [],
    "deepnote_to_be_reexecuted": false,
    "source_hash": "f6446c1",
    "execution_start": 1648152091215,
    "execution_millis": 626,
    "cell_id": "00010-5f67cf3b-ff16-41bd-9e77-44fdd4bafb9e",
    "deepnote_cell_type": "code",
    "deepnote_cell_height": 499
   },
   "source": "plot_components_plotly(m, forecast)",
   "execution_count": null,
   "outputs": [
    {
     "data": {
      "text/html": "<html>\n<head><meta charset=\"utf-8\" /></head>\n<body>\n    <div>            <script src=\"https://cdnjs.cloudflare.com/ajax/libs/mathjax/2.7.5/MathJax.js?config=TeX-AMS-MML_SVG\"></script><script type=\"text/javascript\">if (window.MathJax) {MathJax.Hub.Config({SVG: {font: \"STIX-Web\"}});}</script>                <script type=\"text/javascript\">window.PlotlyConfig = {MathJaxConfig: 'local'};</script>\n        <script src=\"https://cdn.plot.ly/plotly-2.9.0.min.js\"></script>                <div id=\"4798b423-e89a-4e81-a998-346c446ba786\" class=\"plotly-graph-div\" style=\"height:400px; width:900px;\"></div>            <script type=\"text/javascript\">                                    window.PLOTLYENV=window.PLOTLYENV || {};                                    if (document.getElementById(\"4798b423-e89a-4e81-a998-346c446ba786\")) {                    Plotly.newPlot(                        \"4798b423-e89a-4e81-a998-346c446ba786\",                        [{\"line\":{\"color\":\"#0072B2\",\"width\":2},\"mode\":\"lines\",\"name\":\"trend\",\"x\":[\"2015-01-01T00:00:00\",\"2015-02-01T00:00:00\",\"2015-03-01T00:00:00\",\"2015-04-01T00:00:00\",\"2015-05-01T00:00:00\",\"2015-06-01T00:00:00\",\"2015-07-01T00:00:00\",\"2015-08-01T00:00:00\",\"2015-09-01T00:00:00\",\"2015-10-01T00:00:00\",\"2015-11-01T00:00:00\",\"2015-12-01T00:00:00\",\"2016-01-01T00:00:00\",\"2016-02-01T00:00:00\",\"2016-03-01T00:00:00\",\"2016-04-01T00:00:00\",\"2016-05-01T00:00:00\",\"2016-06-01T00:00:00\",\"2016-07-01T00:00:00\",\"2016-08-01T00:00:00\",\"2016-09-01T00:00:00\",\"2016-10-01T00:00:00\",\"2016-11-01T00:00:00\",\"2016-12-01T00:00:00\",\"2017-01-01T00:00:00\",\"2017-02-01T00:00:00\",\"2017-03-01T00:00:00\",\"2017-04-01T00:00:00\",\"2017-05-01T00:00:00\",\"2017-06-01T00:00:00\",\"2017-07-01T00:00:00\",\"2017-08-01T00:00:00\",\"2017-09-01T00:00:00\",\"2017-10-01T00:00:00\",\"2017-11-01T00:00:00\",\"2017-12-01T00:00:00\",\"2018-01-01T00:00:00\",\"2018-02-01T00:00:00\",\"2018-03-01T00:00:00\",\"2018-04-01T00:00:00\",\"2018-05-01T00:00:00\",\"2018-06-01T00:00:00\",\"2018-07-01T00:00:00\",\"2018-08-01T00:00:00\",\"2018-09-01T00:00:00\",\"2018-10-01T00:00:00\",\"2018-11-01T00:00:00\",\"2018-12-01T00:00:00\",\"2019-01-01T00:00:00\",\"2019-02-01T00:00:00\",\"2019-03-01T00:00:00\",\"2019-04-01T00:00:00\",\"2019-05-01T00:00:00\",\"2019-06-01T00:00:00\",\"2019-07-01T00:00:00\",\"2019-08-01T00:00:00\",\"2019-09-01T00:00:00\",\"2019-10-01T00:00:00\",\"2019-11-01T00:00:00\",\"2019-12-01T00:00:00\",\"2020-01-01T00:00:00\",\"2020-02-01T00:00:00\",\"2020-03-01T00:00:00\",\"2020-04-01T00:00:00\",\"2020-05-01T00:00:00\",\"2020-06-01T00:00:00\",\"2020-07-01T00:00:00\",\"2020-08-01T00:00:00\",\"2020-09-01T00:00:00\",\"2020-10-01T00:00:00\",\"2020-10-31T00:00:00\",\"2020-11-30T00:00:00\",\"2020-12-31T00:00:00\",\"2021-01-31T00:00:00\",\"2021-02-28T00:00:00\",\"2021-03-31T00:00:00\",\"2021-04-30T00:00:00\",\"2021-05-31T00:00:00\",\"2021-06-30T00:00:00\",\"2021-07-31T00:00:00\",\"2021-08-31T00:00:00\",\"2021-09-30T00:00:00\"],\"y\":[571.1373973329717,574.5108453949878,577.557830741325,580.9312788190114,584.195905990966,587.5693540493423,590.83398120261,594.2074292609864,597.5808773389023,600.8455045110791,604.2189526131172,607.4835798086378,610.8570279059132,614.2304760031886,617.3862822655367,620.7597303390812,624.0243574863831,627.3978055385952,630.6624326858972,634.0358807278636,637.40932876983,640.6739559049923,644.0474039446599,647.3120310742237,650.685479108106,654.058927144468,657.1059124676337,660.4793604957472,663.743987619728,667.1174356478417,670.3820627173423,673.7555106891597,677.1289586728103,680.3935857537627,683.7670335521725,687.0316604538596,690.405108233019,693.7785560121782,696.8233821409533,700.1944396406686,703.4567533500705,706.8277941851157,710.0900917674177,713.4609587970555,716.8318258266934,720.0938484251332,723.4646051101879,726.7262943750063,730.0967066153188,733.466220989481,736.5096533274341,739.8791677015963,743.1391324006173,746.5077625896056,749.7676327922845,753.1361653350529,756.5045705686013,759.7643175688094,763.1327228023578,766.392469802566,769.7608750361144,773.1292802696629,776.2803690365307,779.6487742700791,782.9085212702872,786.2769265038357,789.536673504044,792.9050787375924,796.2734839711408,799.5332309713489,802.7929779715571,806.0527249717652,809.4211302053136,812.7895354388621,815.8319659723898,819.2003712059382,822.4601182061463,825.8285234396947,829.0882704399029,832.4566756734514,835.8250809069998,839.0848279072079],\"type\":\"scatter\",\"xaxis\":\"x\",\"yaxis\":\"y\"},{\"line\":{\"color\":\"rgba(0, 114, 178, 0.2)\",\"width\":0},\"mode\":\"lines\",\"name\":\"trend_upper\",\"x\":[\"2015-01-01T00:00:00\",\"2015-02-01T00:00:00\",\"2015-03-01T00:00:00\",\"2015-04-01T00:00:00\",\"2015-05-01T00:00:00\",\"2015-06-01T00:00:00\",\"2015-07-01T00:00:00\",\"2015-08-01T00:00:00\",\"2015-09-01T00:00:00\",\"2015-10-01T00:00:00\",\"2015-11-01T00:00:00\",\"2015-12-01T00:00:00\",\"2016-01-01T00:00:00\",\"2016-02-01T00:00:00\",\"2016-03-01T00:00:00\",\"2016-04-01T00:00:00\",\"2016-05-01T00:00:00\",\"2016-06-01T00:00:00\",\"2016-07-01T00:00:00\",\"2016-08-01T00:00:00\",\"2016-09-01T00:00:00\",\"2016-10-01T00:00:00\",\"2016-11-01T00:00:00\",\"2016-12-01T00:00:00\",\"2017-01-01T00:00:00\",\"2017-02-01T00:00:00\",\"2017-03-01T00:00:00\",\"2017-04-01T00:00:00\",\"2017-05-01T00:00:00\",\"2017-06-01T00:00:00\",\"2017-07-01T00:00:00\",\"2017-08-01T00:00:00\",\"2017-09-01T00:00:00\",\"2017-10-01T00:00:00\",\"2017-11-01T00:00:00\",\"2017-12-01T00:00:00\",\"2018-01-01T00:00:00\",\"2018-02-01T00:00:00\",\"2018-03-01T00:00:00\",\"2018-04-01T00:00:00\",\"2018-05-01T00:00:00\",\"2018-06-01T00:00:00\",\"2018-07-01T00:00:00\",\"2018-08-01T00:00:00\",\"2018-09-01T00:00:00\",\"2018-10-01T00:00:00\",\"2018-11-01T00:00:00\",\"2018-12-01T00:00:00\",\"2019-01-01T00:00:00\",\"2019-02-01T00:00:00\",\"2019-03-01T00:00:00\",\"2019-04-01T00:00:00\",\"2019-05-01T00:00:00\",\"2019-06-01T00:00:00\",\"2019-07-01T00:00:00\",\"2019-08-01T00:00:00\",\"2019-09-01T00:00:00\",\"2019-10-01T00:00:00\",\"2019-11-01T00:00:00\",\"2019-12-01T00:00:00\",\"2020-01-01T00:00:00\",\"2020-02-01T00:00:00\",\"2020-03-01T00:00:00\",\"2020-04-01T00:00:00\",\"2020-05-01T00:00:00\",\"2020-06-01T00:00:00\",\"2020-07-01T00:00:00\",\"2020-08-01T00:00:00\",\"2020-09-01T00:00:00\",\"2020-10-01T00:00:00\",\"2020-10-31T00:00:00\",\"2020-11-30T00:00:00\",\"2020-12-31T00:00:00\",\"2021-01-31T00:00:00\",\"2021-02-28T00:00:00\",\"2021-03-31T00:00:00\",\"2021-04-30T00:00:00\",\"2021-05-31T00:00:00\",\"2021-06-30T00:00:00\",\"2021-07-31T00:00:00\",\"2021-08-31T00:00:00\",\"2021-09-30T00:00:00\"],\"y\":[571.1373973329717,574.5108453949878,577.557830741325,580.9312788190114,584.195905990966,587.5693540493423,590.83398120261,594.2074292609864,597.5808773389023,600.8455045110791,604.2189526131172,607.4835798086378,610.8570279059132,614.2304760031886,617.3862822655367,620.7597303390812,624.0243574863831,627.3978055385952,630.6624326858972,634.0358807278636,637.40932876983,640.6739559049923,644.0474039446599,647.3120310742237,650.685479108106,654.058927144468,657.1059124676337,660.4793604957472,663.743987619728,667.1174356478417,670.3820627173423,673.7555106891597,677.1289586728103,680.3935857537627,683.7670335521725,687.0316604538596,690.405108233019,693.7785560121782,696.8233821409533,700.1944396406686,703.4567533500705,706.8277941851157,710.0900917674177,713.4609587970555,716.8318258266934,720.0938484251332,723.4646051101879,726.7262943750063,730.0967066153188,733.466220989481,736.5096533274341,739.8791677015963,743.1391324006173,746.5077625896056,749.7676327922845,753.1361653350529,756.5045705686013,759.7643175688094,763.1327228023578,766.392469802566,769.7608750361144,773.1292802696629,776.2803690365307,779.6487742700791,782.9085212702872,786.2769265038357,789.536673504044,792.9050787375924,796.2734839711408,799.5332309713489,802.7929959339579,806.0529111017688,809.4215640359652,812.790253576332,815.8330487451449,819.2018534915558,822.4620275720977,825.8308397143405,829.0911010564757,832.4600310900989,835.8290908756926,839.0893913995473],\"type\":\"scatter\",\"xaxis\":\"x\",\"yaxis\":\"y\"},{\"fill\":\"tonexty\",\"fillcolor\":\"rgba(0, 114, 178, 0.2)\",\"line\":{\"color\":\"rgba(0, 114, 178, 0.2)\",\"width\":0},\"mode\":\"lines\",\"name\":\"trend_lower\",\"x\":[\"2015-01-01T00:00:00\",\"2015-02-01T00:00:00\",\"2015-03-01T00:00:00\",\"2015-04-01T00:00:00\",\"2015-05-01T00:00:00\",\"2015-06-01T00:00:00\",\"2015-07-01T00:00:00\",\"2015-08-01T00:00:00\",\"2015-09-01T00:00:00\",\"2015-10-01T00:00:00\",\"2015-11-01T00:00:00\",\"2015-12-01T00:00:00\",\"2016-01-01T00:00:00\",\"2016-02-01T00:00:00\",\"2016-03-01T00:00:00\",\"2016-04-01T00:00:00\",\"2016-05-01T00:00:00\",\"2016-06-01T00:00:00\",\"2016-07-01T00:00:00\",\"2016-08-01T00:00:00\",\"2016-09-01T00:00:00\",\"2016-10-01T00:00:00\",\"2016-11-01T00:00:00\",\"2016-12-01T00:00:00\",\"2017-01-01T00:00:00\",\"2017-02-01T00:00:00\",\"2017-03-01T00:00:00\",\"2017-04-01T00:00:00\",\"2017-05-01T00:00:00\",\"2017-06-01T00:00:00\",\"2017-07-01T00:00:00\",\"2017-08-01T00:00:00\",\"2017-09-01T00:00:00\",\"2017-10-01T00:00:00\",\"2017-11-01T00:00:00\",\"2017-12-01T00:00:00\",\"2018-01-01T00:00:00\",\"2018-02-01T00:00:00\",\"2018-03-01T00:00:00\",\"2018-04-01T00:00:00\",\"2018-05-01T00:00:00\",\"2018-06-01T00:00:00\",\"2018-07-01T00:00:00\",\"2018-08-01T00:00:00\",\"2018-09-01T00:00:00\",\"2018-10-01T00:00:00\",\"2018-11-01T00:00:00\",\"2018-12-01T00:00:00\",\"2019-01-01T00:00:00\",\"2019-02-01T00:00:00\",\"2019-03-01T00:00:00\",\"2019-04-01T00:00:00\",\"2019-05-01T00:00:00\",\"2019-06-01T00:00:00\",\"2019-07-01T00:00:00\",\"2019-08-01T00:00:00\",\"2019-09-01T00:00:00\",\"2019-10-01T00:00:00\",\"2019-11-01T00:00:00\",\"2019-12-01T00:00:00\",\"2020-01-01T00:00:00\",\"2020-02-01T00:00:00\",\"2020-03-01T00:00:00\",\"2020-04-01T00:00:00\",\"2020-05-01T00:00:00\",\"2020-06-01T00:00:00\",\"2020-07-01T00:00:00\",\"2020-08-01T00:00:00\",\"2020-09-01T00:00:00\",\"2020-10-01T00:00:00\",\"2020-10-31T00:00:00\",\"2020-11-30T00:00:00\",\"2020-12-31T00:00:00\",\"2021-01-31T00:00:00\",\"2021-02-28T00:00:00\",\"2021-03-31T00:00:00\",\"2021-04-30T00:00:00\",\"2021-05-31T00:00:00\",\"2021-06-30T00:00:00\",\"2021-07-31T00:00:00\",\"2021-08-31T00:00:00\",\"2021-09-30T00:00:00\"],\"y\":[571.1373973329717,574.5108453949878,577.557830741325,580.9312788190114,584.195905990966,587.5693540493423,590.83398120261,594.2074292609864,597.5808773389023,600.8455045110791,604.2189526131172,607.4835798086378,610.8570279059132,614.2304760031886,617.3862822655367,620.7597303390812,624.0243574863831,627.3978055385952,630.6624326858972,634.0358807278636,637.40932876983,640.6739559049923,644.0474039446599,647.3120310742237,650.685479108106,654.058927144468,657.1059124676337,660.4793604957472,663.743987619728,667.1174356478417,670.3820627173423,673.7555106891597,677.1289586728103,680.3935857537627,683.7670335521725,687.0316604538596,690.405108233019,693.7785560121782,696.8233821409533,700.1944396406686,703.4567533500705,706.8277941851157,710.0900917674177,713.4609587970555,716.8318258266934,720.0938484251332,723.4646051101879,726.7262943750063,730.0967066153188,733.466220989481,736.5096533274341,739.8791677015963,743.1391324006173,746.5077625896056,749.7676327922845,753.1361653350529,756.5045705686013,759.7643175688094,763.1327228023578,766.392469802566,769.7608750361144,773.1292802696629,776.2803690365307,779.6487742700791,782.9085212702872,786.2769265038357,789.536673504044,792.9050787375924,796.2734839711408,799.5332309713489,802.7929527958077,806.0525402522333,809.4207062644058,812.7888040877106,815.8309161368963,819.1989725223791,822.4583881865769,825.8263840282884,829.0856552088285,832.4535671623668,835.8215406183766,839.0807369636665],\"type\":\"scatter\",\"xaxis\":\"x\",\"yaxis\":\"y\"},{\"line\":{\"color\":\"#0072B2\",\"width\":2},\"mode\":\"lines\",\"name\":\"yearly\",\"x\":[\"2017-01-01T00:00:00\",\"2017-01-02T00:00:59.178082\",\"2017-01-03T00:01:58.356164\",\"2017-01-04T00:02:57.534246\",\"2017-01-05T00:03:56.712328\",\"2017-01-06T00:04:55.890411\",\"2017-01-07T00:05:55.068493\",\"2017-01-08T00:06:54.246575\",\"2017-01-09T00:07:53.424657\",\"2017-01-10T00:08:52.602739\",\"2017-01-11T00:09:51.780822\",\"2017-01-12T00:10:50.958904\",\"2017-01-13T00:11:50.136986\",\"2017-01-14T00:12:49.315068\",\"2017-01-15T00:13:48.493150\",\"2017-01-16T00:14:47.671232\",\"2017-01-17T00:15:46.849315\",\"2017-01-18T00:16:46.027397\",\"2017-01-19T00:17:45.205479\",\"2017-01-20T00:18:44.383561\",\"2017-01-21T00:19:43.561643\",\"2017-01-22T00:20:42.739726\",\"2017-01-23T00:21:41.917808\",\"2017-01-24T00:22:41.095890\",\"2017-01-25T00:23:40.273972\",\"2017-01-26T00:24:39.452054\",\"2017-01-27T00:25:38.630137\",\"2017-01-28T00:26:37.808219\",\"2017-01-29T00:27:36.986301\",\"2017-01-30T00:28:36.164383\",\"2017-01-31T00:29:35.342465\",\"2017-02-01T00:30:34.520547\",\"2017-02-02T00:31:33.698630\",\"2017-02-03T00:32:32.876712\",\"2017-02-04T00:33:32.054794\",\"2017-02-05T00:34:31.232876\",\"2017-02-06T00:35:30.410958\",\"2017-02-07T00:36:29.589041\",\"2017-02-08T00:37:28.767123\",\"2017-02-09T00:38:27.945205\",\"2017-02-10T00:39:27.123287\",\"2017-02-11T00:40:26.301369\",\"2017-02-12T00:41:25.479452\",\"2017-02-13T00:42:24.657534\",\"2017-02-14T00:43:23.835616\",\"2017-02-15T00:44:23.013698\",\"2017-02-16T00:45:22.191780\",\"2017-02-17T00:46:21.369862\",\"2017-02-18T00:47:20.547945\",\"2017-02-19T00:48:19.726027\",\"2017-02-20T00:49:18.904109\",\"2017-02-21T00:50:18.082191\",\"2017-02-22T00:51:17.260273\",\"2017-02-23T00:52:16.438356\",\"2017-02-24T00:53:15.616438\",\"2017-02-25T00:54:14.794520\",\"2017-02-26T00:55:13.972602\",\"2017-02-27T00:56:13.150684\",\"2017-02-28T00:57:12.328767\",\"2017-03-01T00:58:11.506849\",\"2017-03-02T00:59:10.684931\",\"2017-03-03T01:00:09.863013\",\"2017-03-04T01:01:09.041095\",\"2017-03-05T01:02:08.219177\",\"2017-03-06T01:03:07.397260\",\"2017-03-07T01:04:06.575342\",\"2017-03-08T01:05:05.753424\",\"2017-03-09T01:06:04.931506\",\"2017-03-10T01:07:04.109588\",\"2017-03-11T01:08:03.287671\",\"2017-03-12T01:09:02.465753\",\"2017-03-13T01:10:01.643835\",\"2017-03-14T01:11:00.821917\",\"2017-03-15T01:12:00\",\"2017-03-16T01:12:59.178082\",\"2017-03-17T01:13:58.356164\",\"2017-03-18T01:14:57.534246\",\"2017-03-19T01:15:56.712328\",\"2017-03-20T01:16:55.890411\",\"2017-03-21T01:17:55.068493\",\"2017-03-22T01:18:54.246575\",\"2017-03-23T01:19:53.424657\",\"2017-03-24T01:20:52.602739\",\"2017-03-25T01:21:51.780822\",\"2017-03-26T01:22:50.958904\",\"2017-03-27T01:23:50.136986\",\"2017-03-28T01:24:49.315068\",\"2017-03-29T01:25:48.493150\",\"2017-03-30T01:26:47.671232\",\"2017-03-31T01:27:46.849315\",\"2017-04-01T01:28:46.027397\",\"2017-04-02T01:29:45.205479\",\"2017-04-03T01:30:44.383561\",\"2017-04-04T01:31:43.561643\",\"2017-04-05T01:32:42.739726\",\"2017-04-06T01:33:41.917808\",\"2017-04-07T01:34:41.095890\",\"2017-04-08T01:35:40.273972\",\"2017-04-09T01:36:39.452054\",\"2017-04-10T01:37:38.630137\",\"2017-04-11T01:38:37.808219\",\"2017-04-12T01:39:36.986301\",\"2017-04-13T01:40:36.164383\",\"2017-04-14T01:41:35.342465\",\"2017-04-15T01:42:34.520547\",\"2017-04-16T01:43:33.698630\",\"2017-04-17T01:44:32.876712\",\"2017-04-18T01:45:32.054794\",\"2017-04-19T01:46:31.232876\",\"2017-04-20T01:47:30.410958\",\"2017-04-21T01:48:29.589041\",\"2017-04-22T01:49:28.767123\",\"2017-04-23T01:50:27.945205\",\"2017-04-24T01:51:27.123287\",\"2017-04-25T01:52:26.301369\",\"2017-04-26T01:53:25.479452\",\"2017-04-27T01:54:24.657534\",\"2017-04-28T01:55:23.835616\",\"2017-04-29T01:56:23.013698\",\"2017-04-30T01:57:22.191780\",\"2017-05-01T01:58:21.369862\",\"2017-05-02T01:59:20.547945\",\"2017-05-03T02:00:19.726027\",\"2017-05-04T02:01:18.904109\",\"2017-05-05T02:02:18.082191\",\"2017-05-06T02:03:17.260273\",\"2017-05-07T02:04:16.438356\",\"2017-05-08T02:05:15.616438\",\"2017-05-09T02:06:14.794520\",\"2017-05-10T02:07:13.972602\",\"2017-05-11T02:08:13.150684\",\"2017-05-12T02:09:12.328767\",\"2017-05-13T02:10:11.506849\",\"2017-05-14T02:11:10.684931\",\"2017-05-15T02:12:09.863013\",\"2017-05-16T02:13:09.041095\",\"2017-05-17T02:14:08.219177\",\"2017-05-18T02:15:07.397260\",\"2017-05-19T02:16:06.575342\",\"2017-05-20T02:17:05.753424\",\"2017-05-21T02:18:04.931506\",\"2017-05-22T02:19:04.109588\",\"2017-05-23T02:20:03.287671\",\"2017-05-24T02:21:02.465753\",\"2017-05-25T02:22:01.643835\",\"2017-05-26T02:23:00.821917\",\"2017-05-27T02:24:00\",\"2017-05-28T02:24:59.178082\",\"2017-05-29T02:25:58.356164\",\"2017-05-30T02:26:57.534246\",\"2017-05-31T02:27:56.712328\",\"2017-06-01T02:28:55.890411\",\"2017-06-02T02:29:55.068493\",\"2017-06-03T02:30:54.246575\",\"2017-06-04T02:31:53.424657\",\"2017-06-05T02:32:52.602739\",\"2017-06-06T02:33:51.780822\",\"2017-06-07T02:34:50.958904\",\"2017-06-08T02:35:50.136986\",\"2017-06-09T02:36:49.315068\",\"2017-06-10T02:37:48.493150\",\"2017-06-11T02:38:47.671232\",\"2017-06-12T02:39:46.849315\",\"2017-06-13T02:40:46.027397\",\"2017-06-14T02:41:45.205479\",\"2017-06-15T02:42:44.383561\",\"2017-06-16T02:43:43.561643\",\"2017-06-17T02:44:42.739726\",\"2017-06-18T02:45:41.917808\",\"2017-06-19T02:46:41.095890\",\"2017-06-20T02:47:40.273972\",\"2017-06-21T02:48:39.452054\",\"2017-06-22T02:49:38.630137\",\"2017-06-23T02:50:37.808219\",\"2017-06-24T02:51:36.986301\",\"2017-06-25T02:52:36.164383\",\"2017-06-26T02:53:35.342465\",\"2017-06-27T02:54:34.520547\",\"2017-06-28T02:55:33.698630\",\"2017-06-29T02:56:32.876712\",\"2017-06-30T02:57:32.054794\",\"2017-07-01T02:58:31.232876\",\"2017-07-02T02:59:30.410958\",\"2017-07-03T03:00:29.589041\",\"2017-07-04T03:01:28.767123\",\"2017-07-05T03:02:27.945205\",\"2017-07-06T03:03:27.123287\",\"2017-07-07T03:04:26.301369\",\"2017-07-08T03:05:25.479452\",\"2017-07-09T03:06:24.657534\",\"2017-07-10T03:07:23.835616\",\"2017-07-11T03:08:23.013698\",\"2017-07-12T03:09:22.191780\",\"2017-07-13T03:10:21.369862\",\"2017-07-14T03:11:20.547945\",\"2017-07-15T03:12:19.726027\",\"2017-07-16T03:13:18.904109\",\"2017-07-17T03:14:18.082191\",\"2017-07-18T03:15:17.260273\",\"2017-07-19T03:16:16.438356\",\"2017-07-20T03:17:15.616438\",\"2017-07-21T03:18:14.794520\",\"2017-07-22T03:19:13.972602\",\"2017-07-23T03:20:13.150684\",\"2017-07-24T03:21:12.328767\",\"2017-07-25T03:22:11.506849\",\"2017-07-26T03:23:10.684931\",\"2017-07-27T03:24:09.863013\",\"2017-07-28T03:25:09.041095\",\"2017-07-29T03:26:08.219177\",\"2017-07-30T03:27:07.397260\",\"2017-07-31T03:28:06.575342\",\"2017-08-01T03:29:05.753424\",\"2017-08-02T03:30:04.931506\",\"2017-08-03T03:31:04.109588\",\"2017-08-04T03:32:03.287671\",\"2017-08-05T03:33:02.465753\",\"2017-08-06T03:34:01.643835\",\"2017-08-07T03:35:00.821917\",\"2017-08-08T03:36:00\",\"2017-08-09T03:36:59.178082\",\"2017-08-10T03:37:58.356164\",\"2017-08-11T03:38:57.534246\",\"2017-08-12T03:39:56.712328\",\"2017-08-13T03:40:55.890411\",\"2017-08-14T03:41:55.068493\",\"2017-08-15T03:42:54.246575\",\"2017-08-16T03:43:53.424657\",\"2017-08-17T03:44:52.602739\",\"2017-08-18T03:45:51.780822\",\"2017-08-19T03:46:50.958904\",\"2017-08-20T03:47:50.136986\",\"2017-08-21T03:48:49.315068\",\"2017-08-22T03:49:48.493150\",\"2017-08-23T03:50:47.671232\",\"2017-08-24T03:51:46.849315\",\"2017-08-25T03:52:46.027397\",\"2017-08-26T03:53:45.205479\",\"2017-08-27T03:54:44.383561\",\"2017-08-28T03:55:43.561643\",\"2017-08-29T03:56:42.739726\",\"2017-08-30T03:57:41.917808\",\"2017-08-31T03:58:41.095890\",\"2017-09-01T03:59:40.273972\",\"2017-09-02T04:00:39.452054\",\"2017-09-03T04:01:38.630137\",\"2017-09-04T04:02:37.808219\",\"2017-09-05T04:03:36.986301\",\"2017-09-06T04:04:36.164383\",\"2017-09-07T04:05:35.342465\",\"2017-09-08T04:06:34.520547\",\"2017-09-09T04:07:33.698630\",\"2017-09-10T04:08:32.876712\",\"2017-09-11T04:09:32.054794\",\"2017-09-12T04:10:31.232876\",\"2017-09-13T04:11:30.410958\",\"2017-09-14T04:12:29.589041\",\"2017-09-15T04:13:28.767123\",\"2017-09-16T04:14:27.945205\",\"2017-09-17T04:15:27.123287\",\"2017-09-18T04:16:26.301369\",\"2017-09-19T04:17:25.479452\",\"2017-09-20T04:18:24.657534\",\"2017-09-21T04:19:23.835616\",\"2017-09-22T04:20:23.013698\",\"2017-09-23T04:21:22.191780\",\"2017-09-24T04:22:21.369862\",\"2017-09-25T04:23:20.547945\",\"2017-09-26T04:24:19.726027\",\"2017-09-27T04:25:18.904109\",\"2017-09-28T04:26:18.082191\",\"2017-09-29T04:27:17.260273\",\"2017-09-30T04:28:16.438356\",\"2017-10-01T04:29:15.616438\",\"2017-10-02T04:30:14.794520\",\"2017-10-03T04:31:13.972602\",\"2017-10-04T04:32:13.150684\",\"2017-10-05T04:33:12.328767\",\"2017-10-06T04:34:11.506849\",\"2017-10-07T04:35:10.684931\",\"2017-10-08T04:36:09.863013\",\"2017-10-09T04:37:09.041095\",\"2017-10-10T04:38:08.219177\",\"2017-10-11T04:39:07.397260\",\"2017-10-12T04:40:06.575342\",\"2017-10-13T04:41:05.753424\",\"2017-10-14T04:42:04.931506\",\"2017-10-15T04:43:04.109588\",\"2017-10-16T04:44:03.287671\",\"2017-10-17T04:45:02.465753\",\"2017-10-18T04:46:01.643835\",\"2017-10-19T04:47:00.821917\",\"2017-10-20T04:48:00\",\"2017-10-21T04:48:59.178082\",\"2017-10-22T04:49:58.356164\",\"2017-10-23T04:50:57.534246\",\"2017-10-24T04:51:56.712328\",\"2017-10-25T04:52:55.890411\",\"2017-10-26T04:53:55.068493\",\"2017-10-27T04:54:54.246575\",\"2017-10-28T04:55:53.424657\",\"2017-10-29T04:56:52.602739\",\"2017-10-30T04:57:51.780822\",\"2017-10-31T04:58:50.958904\",\"2017-11-01T04:59:50.136986\",\"2017-11-02T05:00:49.315068\",\"2017-11-03T05:01:48.493150\",\"2017-11-04T05:02:47.671232\",\"2017-11-05T05:03:46.849315\",\"2017-11-06T05:04:46.027397\",\"2017-11-07T05:05:45.205479\",\"2017-11-08T05:06:44.383561\",\"2017-11-09T05:07:43.561643\",\"2017-11-10T05:08:42.739726\",\"2017-11-11T05:09:41.917808\",\"2017-11-12T05:10:41.095890\",\"2017-11-13T05:11:40.273972\",\"2017-11-14T05:12:39.452054\",\"2017-11-15T05:13:38.630137\",\"2017-11-16T05:14:37.808219\",\"2017-11-17T05:15:36.986301\",\"2017-11-18T05:16:36.164383\",\"2017-11-19T05:17:35.342465\",\"2017-11-20T05:18:34.520547\",\"2017-11-21T05:19:33.698630\",\"2017-11-22T05:20:32.876712\",\"2017-11-23T05:21:32.054794\",\"2017-11-24T05:22:31.232876\",\"2017-11-25T05:23:30.410958\",\"2017-11-26T05:24:29.589041\",\"2017-11-27T05:25:28.767123\",\"2017-11-28T05:26:27.945205\",\"2017-11-29T05:27:27.123287\",\"2017-11-30T05:28:26.301369\",\"2017-12-01T05:29:25.479452\",\"2017-12-02T05:30:24.657534\",\"2017-12-03T05:31:23.835616\",\"2017-12-04T05:32:23.013698\",\"2017-12-05T05:33:22.191780\",\"2017-12-06T05:34:21.369862\",\"2017-12-07T05:35:20.547945\",\"2017-12-08T05:36:19.726027\",\"2017-12-09T05:37:18.904109\",\"2017-12-10T05:38:18.082191\",\"2017-12-11T05:39:17.260273\",\"2017-12-12T05:40:16.438356\",\"2017-12-13T05:41:15.616438\",\"2017-12-14T05:42:14.794520\",\"2017-12-15T05:43:13.972602\",\"2017-12-16T05:44:13.150684\",\"2017-12-17T05:45:12.328767\",\"2017-12-18T05:46:11.506849\",\"2017-12-19T05:47:10.684931\",\"2017-12-20T05:48:09.863013\",\"2017-12-21T05:49:09.041095\",\"2017-12-22T05:50:08.219177\",\"2017-12-23T05:51:07.397260\",\"2017-12-24T05:52:06.575342\",\"2017-12-25T05:53:05.753424\",\"2017-12-26T05:54:04.931506\",\"2017-12-27T05:55:04.109588\",\"2017-12-28T05:56:03.287671\",\"2017-12-29T05:57:02.465753\",\"2017-12-30T05:58:01.643835\",\"2017-12-31T05:59:00.821917\"],\"y\":[15.71440782280811,-27.698723253954856,-96.0307804936997,-188.40527092786343,-303.21712513312866,-438.1617512202828,-590.2841597896395,-756.0470392676942,-931.4161120058004,-1111.960595351894,-1292.9661432797243,-1469.5572664053252,-1636.8259326619711,-1789.9628464330638,-1924.3877971105444,-2035.8754624586302,-2120.6731486235412,-2175.60714502596,-2198.1746637011133,-2186.6187111677173,-2139.983696393595,-2058.150098320781,-1941.847086387561,-1792.6425916083106,-1612.910947154027,-1405.778838543629,-1175.0509069452303,-925.1169176527532,-660.8429233432317,-387.4493035199677,-110.37893458203263,164.8409713903092,432.73963514333695,688.0422793037126,925.8047142982094,1141.5392857849172,1331.3287586282136,1491.925038485898,1620.8300447469157,1716.356536552121,1777.6672431166098,1804.7912454575687,1798.6171819685776,1760.863487778387,1694.026509451083,1601.307944718504,1486.523624456034,1353.9961651948836,1208.4344607216385,1054.8033385506217,898.186971215522,743.6497962219673,596.0987575786958,460.15063465286545,340.0080721359016,239.34767264315556,161.22316827347706,107.9862590654785,81.22720717264741,81.7367197704933,109.49005712174332,163.65368169537345,242.61413735217832,344.0282320031843,464.8930101452338,601.6334596987406,750.2054157193938,906.210715171733,1065.0213332456665,1221.9090014543324,1372.176676964273,1511.2882046400096,1634.9925882459022,1739.4394626385429,1821.2826289892646,1877.7688720327521,1906.8097113237693,1907.0342348520194,1877.8217086335799,1819.3132342128065,1732.4023207945893,1618.7048328719275,1480.509350834305,1320.709524785476,1142.720495394531,950.38188629702,747.8502284671667,539.4839484019501,329.72423181147786,122.97515817279884,-76.51351255684078,-264.7576305775595,-438.1409572140491,-593.5056988865264,-728.2288635496244,-840.2824617884726,-928.2760603986243,-991.4807203047457,-1029.833897627783,-1043.925440500114,-1034.9653587438227,-1004.7345629665987,-955.5202490994194,-890.0380302083112,-811.3432776561203,-722.7344182551565,-627.6511353866049,-529.5705348356561,-431.904357832643,-337.90025458145846,-250.54997418102658,-172.50708674780435,-106.01653843269646,-52.85795988185261,-14.304215277531346,8.903794262451996,16.56555813922344,9.012609301852574,-12.91609757958704,-47.91409811060776,-94.26118451419835,-149.88918666289968,-212.45758319631835,-279.43648211538545,-348.19431080159,-416.0874380794506,-480.5489186239978,-539.1736030946281,-589.7969937293457,-630.5654400336803,-659.9955557387616,-677.021087222871,-681.0258642074382,-671.8619033065827,-649.8522004102527,-615.7782246687563,-570.8526005121521,-516.6779203215492,-455.19305533302736,-388.60871330481746,-319.3343170882393,-249.89853882318127,-182.8660123648078,-120.75285637332931,-65.94366914080533,-20.612603155001857,13.349005517612191,34.396186385194966,41.38307301258885,33.603179336260474,10.815949939762238,-26.741254018747025,-78.35612107533586,-142.85923415723724,-218.6562612671209,-303.77351792892847,-395.9155156895029,-492.532742245182,-590.8976039841473,-688.1862103945499,-781.5634993895872,-868.269098677194,-945.7012938160088,-1011.4965292758008,-1063.6020029693516,-1100.3391230804168,-1120.4558723894213,-1123.1664611237507,-1108.1770345423017,-1075.6966242421097,-1026.4329797670111,-961.5733759220869,-882.7509473613089,-791.9975417113372,-691.6844924012236,-584.4530801034635,-473.1367660822907,-360.67753230025505,-250.03884425153467,-144.11785758855984,-45.65951556310255,42.82486972725105,119.13209178620039,181.43232623629086,228.32323098957008,258.87122680693113,272.63870009747876,269.6962932946775,250.61989723615602,216.47242120172675,168.77087571277713,109.4397470425495,40.752057236880425,-34.74012320120114,-114.28362224572747,-195.00822710467662,-274.01432524555435,-348.4614804217756,-415.655266202749,-473.1297278685751,-518.7229710589759,-550.6435786104673,-567.5258295086668,-568.4720277979616,-553.0806346514983,-521.4593221264876,-474.2225197381762,-412.4734913205345,-337.7714457447363,-252.08463699710475,-157.73083327196346,-57.30691841473314,46.39027938646887,150.44956717996678,251.9348113770944,347.97551970123675,435.8558514257489,513.0993650963262,577.5469321917337,627.425441628425,661.405187823484,678.6441664596956,678.8178872856643,662.1337409284421,629.3294141126348,581.6553212865226,520.8414964491783,449.0498527591496,368.81315550104534,282.96245315798507,194.54505971745044,106.73546857182829,22.74179577187351,-54.2895085458219,-121.36788133694021,-175.74902338290772,-215.01875872758885,-237.1678872194729,-240.65579757674624,-224.4609316396524,-188.11657050477734,-131.73083888081558,-55.99028274058049,37.853146312307885,148.01138271798587,272.2050223275982,407.72233683822753,551.4908664138709,700.159561811725,850.1891387150174,997.9480666799001,1139.8114502321066,1272.2599749852318,1391.976089761419,1495.9346764884797,1581.485620825,1646.4259331536732,1689.0593747924258,1708.241908945858,1703.4117092631473,1674.6029086597337,1622.4427439622227,1548.1322340324386,1453.4110060325504,1340.507342390245,1212.0749462738838,1071.118303568868,920.908843220231,764.8943560005758,606.6043167214098,449.5538613122556,297.14919517461396,152.59715207000747,18.821485579959866,-101.61173789622393,-206.55755806924685,-294.3426081636116,-363.8013208004874,-414.2969342555501,-445.72683829219255,-458.512267811871,-453.57281919788534,-432.286714525315,-396.4381592685722,-348.15351727266454,-289.82835122050926,-224.0476380803299,-153.50165933548314,-80.9001795412706,-8.887560821645172,60.03858568284191,123.60273596370271,179.81850200888982,227.04538787518092,264.0335772402093,289.9554568082986,304.42299865918415,307.4905691625284,299.64318878071276,281.7707220067772,255.1289158879405,221.28861562637212,182.07485406083845,139.49782713371235,95.67802001319153,52.76793060765449,12.872943147872752,-22.026069068220878,-50.1458865988104,-69.96744007753416,-80.29347503455907,-80.29547693623702,-69.54828466145959,-48.051207289319585,-16.234883999248794,25.046422876487256,74.53694987944185,130.6153587205912,191.34341384533093,254.5259466261808,317.7802732789505,378.61292025485767,434.5012623647278,482.9775032559439,521.7123308656714,548.5955656065779,561.8111872456564,559.9042761284632,541.8376316339975,507.0361289751275,455.4172361711162,387.40652562266934,303.93746700036894,206.43526667248727,96.78500928228031,-22.71515548536915,-149.41456823551124,-280.3827070369654,-412.49188433610766,-542.5076175401447,-667.1840317366045,-783.3614646364588,-888.0633389476699,-978.5893498266955,-1052.6020862103246,-1108.2043633794858,-1144.0047860454565,-1159.1693802354634,-1153.4575193830976,-1127.2408145078641,-1081.5041274465568,-1017.8283857295302,-938.3554127350837,-845.7355215464027,-743.059139636205,-633.7742187213483,-521.5916251651034,-410.38108780379315,-304.06059026977886,-206.4823240295242,-121.31845902582991,-51.950036058430136,-1.3622367136905784,27.950856776984235,34.06913445267129],\"type\":\"scatter\",\"xaxis\":\"x2\",\"yaxis\":\"y2\"}],                        {\"template\":{\"data\":{\"bar\":[{\"error_x\":{\"color\":\"#2a3f5f\"},\"error_y\":{\"color\":\"#2a3f5f\"},\"marker\":{\"line\":{\"color\":\"#E5ECF6\",\"width\":0.5},\"pattern\":{\"fillmode\":\"overlay\",\"size\":10,\"solidity\":0.2}},\"type\":\"bar\"}],\"barpolar\":[{\"marker\":{\"line\":{\"color\":\"#E5ECF6\",\"width\":0.5},\"pattern\":{\"fillmode\":\"overlay\",\"size\":10,\"solidity\":0.2}},\"type\":\"barpolar\"}],\"carpet\":[{\"aaxis\":{\"endlinecolor\":\"#2a3f5f\",\"gridcolor\":\"white\",\"linecolor\":\"white\",\"minorgridcolor\":\"white\",\"startlinecolor\":\"#2a3f5f\"},\"baxis\":{\"endlinecolor\":\"#2a3f5f\",\"gridcolor\":\"white\",\"linecolor\":\"white\",\"minorgridcolor\":\"white\",\"startlinecolor\":\"#2a3f5f\"},\"type\":\"carpet\"}],\"choropleth\":[{\"colorbar\":{\"outlinewidth\":0,\"ticks\":\"\"},\"type\":\"choropleth\"}],\"contour\":[{\"colorbar\":{\"outlinewidth\":0,\"ticks\":\"\"},\"colorscale\":[[0.0,\"#0d0887\"],[0.1111111111111111,\"#46039f\"],[0.2222222222222222,\"#7201a8\"],[0.3333333333333333,\"#9c179e\"],[0.4444444444444444,\"#bd3786\"],[0.5555555555555556,\"#d8576b\"],[0.6666666666666666,\"#ed7953\"],[0.7777777777777778,\"#fb9f3a\"],[0.8888888888888888,\"#fdca26\"],[1.0,\"#f0f921\"]],\"type\":\"contour\"}],\"contourcarpet\":[{\"colorbar\":{\"outlinewidth\":0,\"ticks\":\"\"},\"type\":\"contourcarpet\"}],\"heatmap\":[{\"colorbar\":{\"outlinewidth\":0,\"ticks\":\"\"},\"colorscale\":[[0.0,\"#0d0887\"],[0.1111111111111111,\"#46039f\"],[0.2222222222222222,\"#7201a8\"],[0.3333333333333333,\"#9c179e\"],[0.4444444444444444,\"#bd3786\"],[0.5555555555555556,\"#d8576b\"],[0.6666666666666666,\"#ed7953\"],[0.7777777777777778,\"#fb9f3a\"],[0.8888888888888888,\"#fdca26\"],[1.0,\"#f0f921\"]],\"type\":\"heatmap\"}],\"heatmapgl\":[{\"colorbar\":{\"outlinewidth\":0,\"ticks\":\"\"},\"colorscale\":[[0.0,\"#0d0887\"],[0.1111111111111111,\"#46039f\"],[0.2222222222222222,\"#7201a8\"],[0.3333333333333333,\"#9c179e\"],[0.4444444444444444,\"#bd3786\"],[0.5555555555555556,\"#d8576b\"],[0.6666666666666666,\"#ed7953\"],[0.7777777777777778,\"#fb9f3a\"],[0.8888888888888888,\"#fdca26\"],[1.0,\"#f0f921\"]],\"type\":\"heatmapgl\"}],\"histogram\":[{\"marker\":{\"pattern\":{\"fillmode\":\"overlay\",\"size\":10,\"solidity\":0.2}},\"type\":\"histogram\"}],\"histogram2d\":[{\"colorbar\":{\"outlinewidth\":0,\"ticks\":\"\"},\"colorscale\":[[0.0,\"#0d0887\"],[0.1111111111111111,\"#46039f\"],[0.2222222222222222,\"#7201a8\"],[0.3333333333333333,\"#9c179e\"],[0.4444444444444444,\"#bd3786\"],[0.5555555555555556,\"#d8576b\"],[0.6666666666666666,\"#ed7953\"],[0.7777777777777778,\"#fb9f3a\"],[0.8888888888888888,\"#fdca26\"],[1.0,\"#f0f921\"]],\"type\":\"histogram2d\"}],\"histogram2dcontour\":[{\"colorbar\":{\"outlinewidth\":0,\"ticks\":\"\"},\"colorscale\":[[0.0,\"#0d0887\"],[0.1111111111111111,\"#46039f\"],[0.2222222222222222,\"#7201a8\"],[0.3333333333333333,\"#9c179e\"],[0.4444444444444444,\"#bd3786\"],[0.5555555555555556,\"#d8576b\"],[0.6666666666666666,\"#ed7953\"],[0.7777777777777778,\"#fb9f3a\"],[0.8888888888888888,\"#fdca26\"],[1.0,\"#f0f921\"]],\"type\":\"histogram2dcontour\"}],\"mesh3d\":[{\"colorbar\":{\"outlinewidth\":0,\"ticks\":\"\"},\"type\":\"mesh3d\"}],\"parcoords\":[{\"line\":{\"colorbar\":{\"outlinewidth\":0,\"ticks\":\"\"}},\"type\":\"parcoords\"}],\"pie\":[{\"automargin\":true,\"type\":\"pie\"}],\"scatter\":[{\"marker\":{\"colorbar\":{\"outlinewidth\":0,\"ticks\":\"\"}},\"type\":\"scatter\"}],\"scatter3d\":[{\"line\":{\"colorbar\":{\"outlinewidth\":0,\"ticks\":\"\"}},\"marker\":{\"colorbar\":{\"outlinewidth\":0,\"ticks\":\"\"}},\"type\":\"scatter3d\"}],\"scattercarpet\":[{\"marker\":{\"colorbar\":{\"outlinewidth\":0,\"ticks\":\"\"}},\"type\":\"scattercarpet\"}],\"scattergeo\":[{\"marker\":{\"colorbar\":{\"outlinewidth\":0,\"ticks\":\"\"}},\"type\":\"scattergeo\"}],\"scattergl\":[{\"marker\":{\"colorbar\":{\"outlinewidth\":0,\"ticks\":\"\"}},\"type\":\"scattergl\"}],\"scattermapbox\":[{\"marker\":{\"colorbar\":{\"outlinewidth\":0,\"ticks\":\"\"}},\"type\":\"scattermapbox\"}],\"scatterpolar\":[{\"marker\":{\"colorbar\":{\"outlinewidth\":0,\"ticks\":\"\"}},\"type\":\"scatterpolar\"}],\"scatterpolargl\":[{\"marker\":{\"colorbar\":{\"outlinewidth\":0,\"ticks\":\"\"}},\"type\":\"scatterpolargl\"}],\"scatterternary\":[{\"marker\":{\"colorbar\":{\"outlinewidth\":0,\"ticks\":\"\"}},\"type\":\"scatterternary\"}],\"surface\":[{\"colorbar\":{\"outlinewidth\":0,\"ticks\":\"\"},\"colorscale\":[[0.0,\"#0d0887\"],[0.1111111111111111,\"#46039f\"],[0.2222222222222222,\"#7201a8\"],[0.3333333333333333,\"#9c179e\"],[0.4444444444444444,\"#bd3786\"],[0.5555555555555556,\"#d8576b\"],[0.6666666666666666,\"#ed7953\"],[0.7777777777777778,\"#fb9f3a\"],[0.8888888888888888,\"#fdca26\"],[1.0,\"#f0f921\"]],\"type\":\"surface\"}],\"table\":[{\"cells\":{\"fill\":{\"color\":\"#EBF0F8\"},\"line\":{\"color\":\"white\"}},\"header\":{\"fill\":{\"color\":\"#C8D4E3\"},\"line\":{\"color\":\"white\"}},\"type\":\"table\"}]},\"layout\":{\"annotationdefaults\":{\"arrowcolor\":\"#2a3f5f\",\"arrowhead\":0,\"arrowwidth\":1},\"autotypenumbers\":\"strict\",\"coloraxis\":{\"colorbar\":{\"outlinewidth\":0,\"ticks\":\"\"}},\"colorscale\":{\"diverging\":[[0,\"#8e0152\"],[0.1,\"#c51b7d\"],[0.2,\"#de77ae\"],[0.3,\"#f1b6da\"],[0.4,\"#fde0ef\"],[0.5,\"#f7f7f7\"],[0.6,\"#e6f5d0\"],[0.7,\"#b8e186\"],[0.8,\"#7fbc41\"],[0.9,\"#4d9221\"],[1,\"#276419\"]],\"sequential\":[[0.0,\"#0d0887\"],[0.1111111111111111,\"#46039f\"],[0.2222222222222222,\"#7201a8\"],[0.3333333333333333,\"#9c179e\"],[0.4444444444444444,\"#bd3786\"],[0.5555555555555556,\"#d8576b\"],[0.6666666666666666,\"#ed7953\"],[0.7777777777777778,\"#fb9f3a\"],[0.8888888888888888,\"#fdca26\"],[1.0,\"#f0f921\"]],\"sequentialminus\":[[0.0,\"#0d0887\"],[0.1111111111111111,\"#46039f\"],[0.2222222222222222,\"#7201a8\"],[0.3333333333333333,\"#9c179e\"],[0.4444444444444444,\"#bd3786\"],[0.5555555555555556,\"#d8576b\"],[0.6666666666666666,\"#ed7953\"],[0.7777777777777778,\"#fb9f3a\"],[0.8888888888888888,\"#fdca26\"],[1.0,\"#f0f921\"]]},\"colorway\":[\"#636efa\",\"#EF553B\",\"#00cc96\",\"#ab63fa\",\"#FFA15A\",\"#19d3f3\",\"#FF6692\",\"#B6E880\",\"#FF97FF\",\"#FECB52\"],\"font\":{\"color\":\"#2a3f5f\"},\"geo\":{\"bgcolor\":\"white\",\"lakecolor\":\"white\",\"landcolor\":\"#E5ECF6\",\"showlakes\":true,\"showland\":true,\"subunitcolor\":\"white\"},\"hoverlabel\":{\"align\":\"left\"},\"hovermode\":\"closest\",\"mapbox\":{\"style\":\"light\"},\"paper_bgcolor\":\"white\",\"plot_bgcolor\":\"#E5ECF6\",\"polar\":{\"angularaxis\":{\"gridcolor\":\"white\",\"linecolor\":\"white\",\"ticks\":\"\"},\"bgcolor\":\"#E5ECF6\",\"radialaxis\":{\"gridcolor\":\"white\",\"linecolor\":\"white\",\"ticks\":\"\"}},\"scene\":{\"xaxis\":{\"backgroundcolor\":\"#E5ECF6\",\"gridcolor\":\"white\",\"gridwidth\":2,\"linecolor\":\"white\",\"showbackground\":true,\"ticks\":\"\",\"zerolinecolor\":\"white\"},\"yaxis\":{\"backgroundcolor\":\"#E5ECF6\",\"gridcolor\":\"white\",\"gridwidth\":2,\"linecolor\":\"white\",\"showbackground\":true,\"ticks\":\"\",\"zerolinecolor\":\"white\"},\"zaxis\":{\"backgroundcolor\":\"#E5ECF6\",\"gridcolor\":\"white\",\"gridwidth\":2,\"linecolor\":\"white\",\"showbackground\":true,\"ticks\":\"\",\"zerolinecolor\":\"white\"}},\"shapedefaults\":{\"line\":{\"color\":\"#2a3f5f\"}},\"ternary\":{\"aaxis\":{\"gridcolor\":\"white\",\"linecolor\":\"white\",\"ticks\":\"\"},\"baxis\":{\"gridcolor\":\"white\",\"linecolor\":\"white\",\"ticks\":\"\"},\"bgcolor\":\"#E5ECF6\",\"caxis\":{\"gridcolor\":\"white\",\"linecolor\":\"white\",\"ticks\":\"\"}},\"title\":{\"x\":0.05},\"xaxis\":{\"automargin\":true,\"gridcolor\":\"white\",\"linecolor\":\"white\",\"ticks\":\"\",\"title\":{\"standoff\":15},\"zerolinecolor\":\"white\",\"zerolinewidth\":2},\"yaxis\":{\"automargin\":true,\"gridcolor\":\"white\",\"linecolor\":\"white\",\"ticks\":\"\",\"title\":{\"standoff\":15},\"zerolinecolor\":\"white\",\"zerolinewidth\":2}}},\"xaxis\":{\"anchor\":\"y\",\"domain\":[0.0,1.0],\"range\":[\"2014-08-30T19:12:00\",\"2022-01-31T04:48:00\"],\"type\":\"date\"},\"yaxis\":{\"anchor\":\"x\",\"domain\":[0.575,1.0],\"title\":{\"text\":\"trend\"},\"rangemode\":\"normal\",\"zerolinecolor\":\"#AAA\"},\"xaxis2\":{\"anchor\":\"y2\",\"domain\":[0.0,1.0],\"range\":[\"2016-12-13T18:54:02.958904115\",\"2018-01-18T11:04:57.863013581\"],\"tickformat\":\"%B %e\",\"type\":\"date\"},\"yaxis2\":{\"anchor\":\"x2\",\"domain\":[0.0,0.425],\"title\":{\"text\":\"yearly\"},\"zerolinecolor\":\"#AAA\"},\"height\":400,\"showlegend\":false,\"width\":900},                        {\"responsive\": true}                    ).then(function(){\n                            \nvar gd = document.getElementById('4798b423-e89a-4e81-a998-346c446ba786');\nvar x = new MutationObserver(function (mutations, observer) {{\n        var display = window.getComputedStyle(gd).display;\n        if (!display || display === 'none') {{\n            console.log([gd, 'removed!']);\n            Plotly.purge(gd);\n            observer.disconnect();\n        }}\n}});\n\n// Listen for the removal of the full notebook cells\nvar notebookContainer = gd.closest('#notebook-container');\nif (notebookContainer) {{\n    x.observe(notebookContainer, {childList: true});\n}}\n\n// Listen for the clearing of the current output cell\nvar outputEl = gd.closest('.output');\nif (outputEl) {{\n    x.observe(outputEl, {childList: true});\n}}\n\n                        })                };                            </script>        </div>\n</body>\n</html>"
     },
     "metadata": {},
     "output_type": "display_data"
    }
   ]
  },
  {
   "cell_type": "code",
   "metadata": {
    "cell_id": "2e1d19c9-614a-41f6-968f-0ee7091ef35b",
    "tags": [],
    "deepnote_to_be_reexecuted": false,
    "source_hash": "9c2e9a45",
    "execution_start": 1648152091951,
    "execution_millis": 9,
    "deepnote_cell_type": "code",
    "deepnote_cell_height": 598
   },
   "source": "forecast",
   "execution_count": null,
   "outputs": [
    {
     "output_type": "execute_result",
     "execution_count": 18,
     "data": {
      "application/vnd.deepnote.dataframe.v3+json": {
       "column_count": 16,
       "row_count": 82,
       "columns": [
        {
         "name": "ds",
         "dtype": "datetime64[ns]",
         "stats": {
          "unique_count": 82,
          "nan_count": 0,
          "min": "2015-01-01 00:00:00",
          "max": "2021-09-30 00:00:00",
          "histogram": [
           {
            "bin_start": 1420070400000000000,
            "bin_end": 1441359360000000000,
            "count": 9
           },
           {
            "bin_start": 1441359360000000000,
            "bin_end": 1462648320000000000,
            "count": 8
           },
           {
            "bin_start": 1462648320000000000,
            "bin_end": 1483937280000000000,
            "count": 8
           },
           {
            "bin_start": 1483937280000000000,
            "bin_end": 1505226240000000000,
            "count": 8
           },
           {
            "bin_start": 1505226240000000000,
            "bin_end": 1526515200000000000,
            "count": 8
           },
           {
            "bin_start": 1526515200000000000,
            "bin_end": 1547804160000000000,
            "count": 8
           },
           {
            "bin_start": 1547804160000000000,
            "bin_end": 1569093120000000000,
            "count": 8
           },
           {
            "bin_start": 1569093120000000000,
            "bin_end": 1590382080000000000,
            "count": 8
           },
           {
            "bin_start": 1590382080000000000,
            "bin_end": 1611671040000000000,
            "count": 8
           },
           {
            "bin_start": 1611671040000000000,
            "bin_end": 1632960000000000000,
            "count": 9
           }
          ]
         }
        },
        {
         "name": "trend",
         "dtype": "float64",
         "stats": {
          "unique_count": 82,
          "nan_count": 0,
          "min": "571.1373973329717",
          "max": "839.0848279072079",
          "histogram": [
           {
            "bin_start": 571.1373973329717,
            "bin_end": 597.9321403903953,
            "count": 9
           },
           {
            "bin_start": 597.9321403903953,
            "bin_end": 624.7268834478189,
            "count": 8
           },
           {
            "bin_start": 624.7268834478189,
            "bin_end": 651.5216265052425,
            "count": 8
           },
           {
            "bin_start": 651.5216265052425,
            "bin_end": 678.3163695626662,
            "count": 8
           },
           {
            "bin_start": 678.3163695626662,
            "bin_end": 705.1111126200898,
            "count": 8
           },
           {
            "bin_start": 705.1111126200898,
            "bin_end": 731.9058556775134,
            "count": 8
           },
           {
            "bin_start": 731.9058556775134,
            "bin_end": 758.700598734937,
            "count": 8
           },
           {
            "bin_start": 758.700598734937,
            "bin_end": 785.4953417923607,
            "count": 8
           },
           {
            "bin_start": 785.4953417923607,
            "bin_end": 812.2900848497843,
            "count": 8
           },
           {
            "bin_start": 812.2900848497843,
            "bin_end": 839.0848279072079,
            "count": 9
           }
          ]
         }
        },
        {
         "name": "yhat_lower",
         "dtype": "float64",
         "stats": {
          "unique_count": 82,
          "nan_count": 0,
          "min": "307.0818540640489",
          "max": "803.9155963309547",
          "histogram": [
           {
            "bin_start": 307.0818540640489,
            "bin_end": 356.7652282907395,
            "count": 3
           },
           {
            "bin_start": 356.7652282907395,
            "bin_end": 406.44860251743006,
            "count": 11
           },
           {
            "bin_start": 406.44860251743006,
            "bin_end": 456.13197674412066,
            "count": 5
           },
           {
            "bin_start": 456.13197674412066,
            "bin_end": 505.8153509708112,
            "count": 17
           },
           {
            "bin_start": 505.8153509708112,
            "bin_end": 555.4987251975018,
            "count": 15
           },
           {
            "bin_start": 555.4987251975018,
            "bin_end": 605.1820994241924,
            "count": 14
           },
           {
            "bin_start": 605.1820994241924,
            "bin_end": 654.8654736508829,
            "count": 9
           },
           {
            "bin_start": 654.8654736508829,
            "bin_end": 704.5488478775735,
            "count": 3
           },
           {
            "bin_start": 704.5488478775735,
            "bin_end": 754.2322221042641,
            "count": 3
           },
           {
            "bin_start": 754.2322221042641,
            "bin_end": 803.9155963309547,
            "count": 2
           }
          ]
         }
        },
        {
         "name": "yhat_upper",
         "dtype": "float64",
         "stats": {
          "unique_count": 82,
          "nan_count": 0,
          "min": "702.5258668993519",
          "max": "1226.8960951273573",
          "histogram": [
           {
            "bin_start": 702.5258668993519,
            "bin_end": 754.9628897221523,
            "count": 3
           },
           {
            "bin_start": 754.9628897221523,
            "bin_end": 807.3999125449529,
            "count": 7
           },
           {
            "bin_start": 807.3999125449529,
            "bin_end": 859.8369353677535,
            "count": 6
           },
           {
            "bin_start": 859.8369353677535,
            "bin_end": 912.273958190554,
            "count": 16
           },
           {
            "bin_start": 912.273958190554,
            "bin_end": 964.7109810133545,
            "count": 19
           },
           {
            "bin_start": 964.7109810133545,
            "bin_end": 1017.1480038361551,
            "count": 12
           },
           {
            "bin_start": 1017.1480038361551,
            "bin_end": 1069.5850266589557,
            "count": 9
           },
           {
            "bin_start": 1069.5850266589557,
            "bin_end": 1122.0220494817563,
            "count": 5
           },
           {
            "bin_start": 1122.0220494817563,
            "bin_end": 1174.4590723045567,
            "count": 3
           },
           {
            "bin_start": 1174.4590723045567,
            "bin_end": 1226.8960951273573,
            "count": 2
           }
          ]
         }
        },
        {
         "name": "trend_lower",
         "dtype": "float64",
         "stats": {
          "unique_count": 82,
          "nan_count": 0,
          "min": "571.1373973329717",
          "max": "839.0807369636665",
          "histogram": [
           {
            "bin_start": 571.1373973329717,
            "bin_end": 597.9317312960411,
            "count": 9
           },
           {
            "bin_start": 597.9317312960411,
            "bin_end": 624.7260652591107,
            "count": 8
           },
           {
            "bin_start": 624.7260652591107,
            "bin_end": 651.5203992221801,
            "count": 8
           },
           {
            "bin_start": 651.5203992221801,
            "bin_end": 678.3147331852496,
            "count": 8
           },
           {
            "bin_start": 678.3147331852496,
            "bin_end": 705.1090671483191,
            "count": 8
           },
           {
            "bin_start": 705.1090671483191,
            "bin_end": 731.9034011113886,
            "count": 8
           },
           {
            "bin_start": 731.9034011113886,
            "bin_end": 758.697735074458,
            "count": 8
           },
           {
            "bin_start": 758.697735074458,
            "bin_end": 785.4920690375275,
            "count": 8
           },
           {
            "bin_start": 785.4920690375275,
            "bin_end": 812.286403000597,
            "count": 8
           },
           {
            "bin_start": 812.286403000597,
            "bin_end": 839.0807369636665,
            "count": 9
           }
          ]
         }
        },
        {
         "name": "trend_upper",
         "dtype": "float64",
         "stats": {
          "unique_count": 82,
          "nan_count": 0,
          "min": "571.1373973329717",
          "max": "839.0893913995473",
          "histogram": [
           {
            "bin_start": 571.1373973329717,
            "bin_end": 597.9325967396292,
            "count": 9
           },
           {
            "bin_start": 597.9325967396292,
            "bin_end": 624.7277961462868,
            "count": 8
           },
           {
            "bin_start": 624.7277961462868,
            "bin_end": 651.5229955529444,
            "count": 8
           },
           {
            "bin_start": 651.5229955529444,
            "bin_end": 678.3181949596019,
            "count": 8
           },
           {
            "bin_start": 678.3181949596019,
            "bin_end": 705.1133943662594,
            "count": 8
           },
           {
            "bin_start": 705.1133943662594,
            "bin_end": 731.908593772917,
            "count": 8
           },
           {
            "bin_start": 731.908593772917,
            "bin_end": 758.7037931795746,
            "count": 8
           },
           {
            "bin_start": 758.7037931795746,
            "bin_end": 785.4989925862321,
            "count": 8
           },
           {
            "bin_start": 785.4989925862321,
            "bin_end": 812.2941919928896,
            "count": 8
           },
           {
            "bin_start": 812.2941919928896,
            "bin_end": 839.0893913995473,
            "count": 9
           }
          ]
         }
        },
        {
         "name": "additive_terms",
         "dtype": "float64",
         "stats": {
          "unique_count": 82,
          "nan_count": 0,
          "min": "-116.0685648570093",
          "max": "204.15606327959583",
          "histogram": [
           {
            "bin_start": -116.0685648570093,
            "bin_end": -84.0461020433488,
            "count": 6
           },
           {
            "bin_start": -84.0461020433488,
            "bin_end": -52.023639229688285,
            "count": 7
           },
           {
            "bin_start": -52.023639229688285,
            "bin_end": -20.001176416027775,
            "count": 10
           },
           {
            "bin_start": -20.001176416027775,
            "bin_end": 12.021286397632736,
            "count": 11
           },
           {
            "bin_start": 12.021286397632736,
            "bin_end": 44.04374921129326,
            "count": 16
           },
           {
            "bin_start": 44.04374921129326,
            "bin_end": 76.06621202495376,
            "count": 7
           },
           {
            "bin_start": 76.06621202495376,
            "bin_end": 108.08867483861425,
            "count": 11
           },
           {
            "bin_start": 108.08867483861425,
            "bin_end": 140.11113765227478,
            "count": 8
           },
           {
            "bin_start": 140.11113765227478,
            "bin_end": 172.1336004659353,
            "count": 2
           },
           {
            "bin_start": 172.1336004659353,
            "bin_end": 204.15606327959583,
            "count": 4
           }
          ]
         }
        },
        {
         "name": "additive_terms_lower",
         "dtype": "float64",
         "stats": {
          "unique_count": 82,
          "nan_count": 0,
          "min": "-116.0685648570093",
          "max": "204.15606327959583",
          "histogram": [
           {
            "bin_start": -116.0685648570093,
            "bin_end": -84.0461020433488,
            "count": 6
           },
           {
            "bin_start": -84.0461020433488,
            "bin_end": -52.023639229688285,
            "count": 7
           },
           {
            "bin_start": -52.023639229688285,
            "bin_end": -20.001176416027775,
            "count": 10
           },
           {
            "bin_start": -20.001176416027775,
            "bin_end": 12.021286397632736,
            "count": 11
           },
           {
            "bin_start": 12.021286397632736,
            "bin_end": 44.04374921129326,
            "count": 16
           },
           {
            "bin_start": 44.04374921129326,
            "bin_end": 76.06621202495376,
            "count": 7
           },
           {
            "bin_start": 76.06621202495376,
            "bin_end": 108.08867483861425,
            "count": 11
           },
           {
            "bin_start": 108.08867483861425,
            "bin_end": 140.11113765227478,
            "count": 8
           },
           {
            "bin_start": 140.11113765227478,
            "bin_end": 172.1336004659353,
            "count": 2
           },
           {
            "bin_start": 172.1336004659353,
            "bin_end": 204.15606327959583,
            "count": 4
           }
          ]
         }
        },
        {
         "name": "additive_terms_upper",
         "dtype": "float64",
         "stats": {
          "unique_count": 82,
          "nan_count": 0,
          "min": "-116.0685648570093",
          "max": "204.15606327959583",
          "histogram": [
           {
            "bin_start": -116.0685648570093,
            "bin_end": -84.0461020433488,
            "count": 6
           },
           {
            "bin_start": -84.0461020433488,
            "bin_end": -52.023639229688285,
            "count": 7
           },
           {
            "bin_start": -52.023639229688285,
            "bin_end": -20.001176416027775,
            "count": 10
           },
           {
            "bin_start": -20.001176416027775,
            "bin_end": 12.021286397632736,
            "count": 11
           },
           {
            "bin_start": 12.021286397632736,
            "bin_end": 44.04374921129326,
            "count": 16
           },
           {
            "bin_start": 44.04374921129326,
            "bin_end": 76.06621202495376,
            "count": 7
           },
           {
            "bin_start": 76.06621202495376,
            "bin_end": 108.08867483861425,
            "count": 11
           },
           {
            "bin_start": 108.08867483861425,
            "bin_end": 140.11113765227478,
            "count": 8
           },
           {
            "bin_start": 140.11113765227478,
            "bin_end": 172.1336004659353,
            "count": 2
           },
           {
            "bin_start": 172.1336004659353,
            "bin_end": 204.15606327959583,
            "count": 4
           }
          ]
         }
        },
        {
         "name": "yearly",
         "dtype": "float64",
         "stats": {
          "unique_count": 82,
          "nan_count": 0,
          "min": "-116.0685648570093",
          "max": "204.15606327959583",
          "histogram": [
           {
            "bin_start": -116.0685648570093,
            "bin_end": -84.0461020433488,
            "count": 6
           },
           {
            "bin_start": -84.0461020433488,
            "bin_end": -52.023639229688285,
            "count": 7
           },
           {
            "bin_start": -52.023639229688285,
            "bin_end": -20.001176416027775,
            "count": 10
           },
           {
            "bin_start": -20.001176416027775,
            "bin_end": 12.021286397632736,
            "count": 11
           },
           {
            "bin_start": 12.021286397632736,
            "bin_end": 44.04374921129326,
            "count": 16
           },
           {
            "bin_start": 44.04374921129326,
            "bin_end": 76.06621202495376,
            "count": 7
           },
           {
            "bin_start": 76.06621202495376,
            "bin_end": 108.08867483861425,
            "count": 11
           },
           {
            "bin_start": 108.08867483861425,
            "bin_end": 140.11113765227478,
            "count": 8
           },
           {
            "bin_start": 140.11113765227478,
            "bin_end": 172.1336004659353,
            "count": 2
           },
           {
            "bin_start": 172.1336004659353,
            "bin_end": 204.15606327959583,
            "count": 4
           }
          ]
         }
        },
        {
         "name": "yearly_lower",
         "dtype": "float64",
         "stats": {
          "unique_count": 82,
          "nan_count": 0,
          "min": "-116.0685648570093",
          "max": "204.15606327959583",
          "histogram": [
           {
            "bin_start": -116.0685648570093,
            "bin_end": -84.0461020433488,
            "count": 6
           },
           {
            "bin_start": -84.0461020433488,
            "bin_end": -52.023639229688285,
            "count": 7
           },
           {
            "bin_start": -52.023639229688285,
            "bin_end": -20.001176416027775,
            "count": 10
           },
           {
            "bin_start": -20.001176416027775,
            "bin_end": 12.021286397632736,
            "count": 11
           },
           {
            "bin_start": 12.021286397632736,
            "bin_end": 44.04374921129326,
            "count": 16
           },
           {
            "bin_start": 44.04374921129326,
            "bin_end": 76.06621202495376,
            "count": 7
           },
           {
            "bin_start": 76.06621202495376,
            "bin_end": 108.08867483861425,
            "count": 11
           },
           {
            "bin_start": 108.08867483861425,
            "bin_end": 140.11113765227478,
            "count": 8
           },
           {
            "bin_start": 140.11113765227478,
            "bin_end": 172.1336004659353,
            "count": 2
           },
           {
            "bin_start": 172.1336004659353,
            "bin_end": 204.15606327959583,
            "count": 4
           }
          ]
         }
        },
        {
         "name": "yearly_upper",
         "dtype": "float64",
         "stats": {
          "unique_count": 82,
          "nan_count": 0,
          "min": "-116.0685648570093",
          "max": "204.15606327959583",
          "histogram": [
           {
            "bin_start": -116.0685648570093,
            "bin_end": -84.0461020433488,
            "count": 6
           },
           {
            "bin_start": -84.0461020433488,
            "bin_end": -52.023639229688285,
            "count": 7
           },
           {
            "bin_start": -52.023639229688285,
            "bin_end": -20.001176416027775,
            "count": 10
           },
           {
            "bin_start": -20.001176416027775,
            "bin_end": 12.021286397632736,
            "count": 11
           },
           {
            "bin_start": 12.021286397632736,
            "bin_end": 44.04374921129326,
            "count": 16
           },
           {
            "bin_start": 44.04374921129326,
            "bin_end": 76.06621202495376,
            "count": 7
           },
           {
            "bin_start": 76.06621202495376,
            "bin_end": 108.08867483861425,
            "count": 11
           },
           {
            "bin_start": 108.08867483861425,
            "bin_end": 140.11113765227478,
            "count": 8
           },
           {
            "bin_start": 140.11113765227478,
            "bin_end": 172.1336004659353,
            "count": 2
           },
           {
            "bin_start": 172.1336004659353,
            "bin_end": 204.15606327959583,
            "count": 4
           }
          ]
         }
        },
        {
         "name": "multiplicative_terms",
         "dtype": "float64",
         "stats": {
          "unique_count": 1,
          "nan_count": 0,
          "min": "0.0",
          "max": "0.0",
          "histogram": [
           {
            "bin_start": -0.5,
            "bin_end": -0.4,
            "count": 0
           },
           {
            "bin_start": -0.4,
            "bin_end": -0.3,
            "count": 0
           },
           {
            "bin_start": -0.3,
            "bin_end": -0.19999999999999996,
            "count": 0
           },
           {
            "bin_start": -0.19999999999999996,
            "bin_end": -0.09999999999999998,
            "count": 0
           },
           {
            "bin_start": -0.09999999999999998,
            "bin_end": 0,
            "count": 0
           },
           {
            "bin_start": 0,
            "bin_end": 0.10000000000000009,
            "count": 82
           },
           {
            "bin_start": 0.10000000000000009,
            "bin_end": 0.20000000000000007,
            "count": 0
           },
           {
            "bin_start": 0.20000000000000007,
            "bin_end": 0.30000000000000004,
            "count": 0
           },
           {
            "bin_start": 0.30000000000000004,
            "bin_end": 0.4,
            "count": 0
           },
           {
            "bin_start": 0.4,
            "bin_end": 0.5,
            "count": 0
           }
          ]
         }
        },
        {
         "name": "multiplicative_terms_lower",
         "dtype": "float64",
         "stats": {
          "unique_count": 1,
          "nan_count": 0,
          "min": "0.0",
          "max": "0.0",
          "histogram": [
           {
            "bin_start": -0.5,
            "bin_end": -0.4,
            "count": 0
           },
           {
            "bin_start": -0.4,
            "bin_end": -0.3,
            "count": 0
           },
           {
            "bin_start": -0.3,
            "bin_end": -0.19999999999999996,
            "count": 0
           },
           {
            "bin_start": -0.19999999999999996,
            "bin_end": -0.09999999999999998,
            "count": 0
           },
           {
            "bin_start": -0.09999999999999998,
            "bin_end": 0,
            "count": 0
           },
           {
            "bin_start": 0,
            "bin_end": 0.10000000000000009,
            "count": 82
           },
           {
            "bin_start": 0.10000000000000009,
            "bin_end": 0.20000000000000007,
            "count": 0
           },
           {
            "bin_start": 0.20000000000000007,
            "bin_end": 0.30000000000000004,
            "count": 0
           },
           {
            "bin_start": 0.30000000000000004,
            "bin_end": 0.4,
            "count": 0
           },
           {
            "bin_start": 0.4,
            "bin_end": 0.5,
            "count": 0
           }
          ]
         }
        },
        {
         "name": "multiplicative_terms_upper",
         "dtype": "float64",
         "stats": {
          "unique_count": 1,
          "nan_count": 0,
          "min": "0.0",
          "max": "0.0",
          "histogram": [
           {
            "bin_start": -0.5,
            "bin_end": -0.4,
            "count": 0
           },
           {
            "bin_start": -0.4,
            "bin_end": -0.3,
            "count": 0
           },
           {
            "bin_start": -0.3,
            "bin_end": -0.19999999999999996,
            "count": 0
           },
           {
            "bin_start": -0.19999999999999996,
            "bin_end": -0.09999999999999998,
            "count": 0
           },
           {
            "bin_start": -0.09999999999999998,
            "bin_end": 0,
            "count": 0
           },
           {
            "bin_start": 0,
            "bin_end": 0.10000000000000009,
            "count": 82
           },
           {
            "bin_start": 0.10000000000000009,
            "bin_end": 0.20000000000000007,
            "count": 0
           },
           {
            "bin_start": 0.20000000000000007,
            "bin_end": 0.30000000000000004,
            "count": 0
           },
           {
            "bin_start": 0.30000000000000004,
            "bin_end": 0.4,
            "count": 0
           },
           {
            "bin_start": 0.4,
            "bin_end": 0.5,
            "count": 0
           }
          ]
         }
        },
        {
         "name": "yhat",
         "dtype": "float64",
         "stats": {
          "unique_count": 82,
          "nan_count": 0,
          "min": "507.839427060852",
          "max": "1017.8605421615938",
          "histogram": [
           {
            "bin_start": 507.839427060852,
            "bin_end": 558.8415385709262,
            "count": 3
           },
           {
            "bin_start": 558.8415385709262,
            "bin_end": 609.8436500810004,
            "count": 10
           },
           {
            "bin_start": 609.8436500810004,
            "bin_end": 660.8457615910745,
            "count": 6
           },
           {
            "bin_start": 660.8457615910745,
            "bin_end": 711.8478731011487,
            "count": 15
           },
           {
            "bin_start": 711.8478731011487,
            "bin_end": 762.8499846112229,
            "count": 18
           },
           {
            "bin_start": 762.8499846112229,
            "bin_end": 813.8520961212971,
            "count": 13
           },
           {
            "bin_start": 813.8520961212971,
            "bin_end": 864.8542076313713,
            "count": 8
           },
           {
            "bin_start": 864.8542076313713,
            "bin_end": 915.8563191414455,
            "count": 4
           },
           {
            "bin_start": 915.8563191414455,
            "bin_end": 966.8584306515197,
            "count": 3
           },
           {
            "bin_start": 966.8584306515197,
            "bin_end": 1017.8605421615938,
            "count": 2
           }
          ]
         }
        },
        {
         "name": "_deepnote_index_column",
         "dtype": "int64"
        }
       ],
       "rows": [
        {
         "ds": "2015-01-01T00:00:00.000000",
         "trend": 571.1373973329717,
         "yhat_lower": 382.3916814977318,
         "yhat_upper": 813.0802598329248,
         "trend_lower": 571.1373973329717,
         "trend_upper": 571.1373973329717,
         "additive_terms": 27.997917978887465,
         "additive_terms_lower": 27.997917978887465,
         "additive_terms_upper": 27.997917978887465,
         "yearly": 27.997917978887465,
         "yearly_lower": 27.997917978887465,
         "yearly_upper": 27.997917978887465,
         "multiplicative_terms": 0,
         "multiplicative_terms_lower": 0,
         "multiplicative_terms_upper": 0,
         "yhat": 599.1353153118591,
         "_deepnote_index_column": 0
        },
        {
         "ds": "2015-02-01T00:00:00.000000",
         "trend": 574.5108453949878,
         "yhat_lower": 381.84279333563944,
         "yhat_upper": 781.7722276769225,
         "trend_lower": 574.5108453949878,
         "trend_upper": 574.5108453949878,
         "additive_terms": 22.05593259557117,
         "additive_terms_lower": 22.05593259557117,
         "additive_terms_upper": 22.05593259557117,
         "yearly": 22.05593259557117,
         "yearly_lower": 22.05593259557117,
         "yearly_upper": 22.05593259557117,
         "multiplicative_terms": 0,
         "multiplicative_terms_lower": 0,
         "multiplicative_terms_upper": 0,
         "yhat": 596.566777990559,
         "_deepnote_index_column": 1
        },
        {
         "ds": "2015-03-01T00:00:00.000000",
         "trend": 577.557830741325,
         "yhat_lower": 447.87459155838405,
         "yhat_upper": 869.4196773122975,
         "trend_lower": 577.557830741325,
         "trend_upper": 577.557830741325,
         "additive_terms": 78.05733747596551,
         "additive_terms_lower": 78.05733747596551,
         "additive_terms_upper": 78.05733747596551,
         "yearly": 78.05733747596551,
         "yearly_lower": 78.05733747596551,
         "yearly_upper": 78.05733747596551,
         "multiplicative_terms": 0,
         "multiplicative_terms_lower": 0,
         "multiplicative_terms_upper": 0,
         "yhat": 655.6151682172905,
         "_deepnote_index_column": 2
        },
        {
         "ds": "2015-04-01T00:00:00.000000",
         "trend": 580.9312788190114,
         "yhat_lower": 392.8035058725702,
         "yhat_upper": 810.8696987170979,
         "trend_lower": 580.9312788190114,
         "trend_upper": 580.9312788190114,
         "additive_terms": 34.31487779215797,
         "additive_terms_lower": 34.31487779215797,
         "additive_terms_upper": 34.31487779215797,
         "yearly": 34.31487779215797,
         "yearly_lower": 34.31487779215797,
         "yearly_upper": 34.31487779215797,
         "multiplicative_terms": 0,
         "multiplicative_terms_lower": 0,
         "multiplicative_terms_upper": 0,
         "yhat": 615.2461566111693,
         "_deepnote_index_column": 3
        },
        {
         "ds": "2015-05-01T00:00:00.000000",
         "trend": 584.195905990966,
         "yhat_lower": 307.0818540640489,
         "yhat_upper": 731.201378514622,
         "trend_lower": 584.195905990966,
         "trend_upper": 584.195905990966,
         "additive_terms": -66.0279070759934,
         "additive_terms_lower": -66.0279070759934,
         "additive_terms_upper": -66.0279070759934,
         "yearly": -66.0279070759934,
         "yearly_lower": -66.0279070759934,
         "yearly_upper": -66.0279070759934,
         "multiplicative_terms": 0,
         "multiplicative_terms_lower": 0,
         "multiplicative_terms_upper": 0,
         "yhat": 518.1679989149726,
         "_deepnote_index_column": 4
        },
        {
         "ds": "2015-06-01T00:00:00.000000",
         "trend": 587.5693540493423,
         "yhat_lower": 383.11465353474443,
         "yhat_upper": 807.8405148921054,
         "trend_lower": 587.5693540493423,
         "trend_upper": 587.5693540493423,
         "additive_terms": -2.3551572849790023,
         "additive_terms_lower": -2.3551572849790023,
         "additive_terms_upper": -2.3551572849790023,
         "yearly": -2.3551572849790023,
         "yearly_lower": -2.3551572849790023,
         "yearly_upper": -2.3551572849790023,
         "multiplicative_terms": 0,
         "multiplicative_terms_lower": 0,
         "multiplicative_terms_upper": 0,
         "yhat": 585.2141967643634,
         "_deepnote_index_column": 5
        },
        {
         "ds": "2015-07-01T00:00:00.000000",
         "trend": 590.83398120261,
         "yhat_lower": 370.9447254124899,
         "yhat_upper": 779.5208514680477,
         "trend_lower": 590.83398120261,
         "trend_upper": 590.83398120261,
         "additive_terms": -11.052443076962813,
         "additive_terms_lower": -11.052443076962813,
         "additive_terms_upper": -11.052443076962813,
         "yearly": -11.052443076962813,
         "yearly_lower": -11.052443076962813,
         "yearly_upper": -11.052443076962813,
         "multiplicative_terms": 0,
         "multiplicative_terms_lower": 0,
         "multiplicative_terms_upper": 0,
         "yhat": 579.7815381256471,
         "_deepnote_index_column": 6
        },
        {
         "ds": "2015-08-01T00:00:00.000000",
         "trend": 594.2074292609864,
         "yhat_lower": 373.26763455160346,
         "yhat_upper": 770.1711593869633,
         "trend_lower": 594.2074292609864,
         "trend_upper": 594.2074292609864,
         "additive_terms": -20.695726745214802,
         "additive_terms_lower": -20.695726745214802,
         "additive_terms_upper": -20.695726745214802,
         "yearly": -20.695726745214802,
         "yearly_lower": -20.695726745214802,
         "yearly_upper": -20.695726745214802,
         "multiplicative_terms": 0,
         "multiplicative_terms_lower": 0,
         "multiplicative_terms_upper": 0,
         "yhat": 573.5117025157716,
         "_deepnote_index_column": 7
        },
        {
         "ds": "2015-09-01T00:00:00.000000",
         "trend": 597.5808773389023,
         "yhat_lower": 368.2448876045898,
         "yhat_upper": 773.2350569699353,
         "trend_lower": 597.5808773389023,
         "trend_upper": 597.5808773389023,
         "additive_terms": -26.58064028769847,
         "additive_terms_lower": -26.58064028769847,
         "additive_terms_upper": -26.58064028769847,
         "yearly": -26.58064028769847,
         "yearly_lower": -26.58064028769847,
         "yearly_upper": -26.58064028769847,
         "multiplicative_terms": 0,
         "multiplicative_terms_lower": 0,
         "multiplicative_terms_upper": 0,
         "yhat": 571.0002370512038,
         "_deepnote_index_column": 8
        },
        {
         "ds": "2015-10-01T00:00:00.000000",
         "trend": 600.8455045110791,
         "yhat_lower": 504.37196528190657,
         "yhat_upper": 914.3720844558934,
         "trend_lower": 600.8455045110791,
         "trend_upper": 600.8455045110791,
         "additive_terms": 109.37239841177117,
         "additive_terms_lower": 109.37239841177117,
         "additive_terms_upper": 109.37239841177117,
         "yearly": 109.37239841177117,
         "yearly_lower": 109.37239841177117,
         "yearly_upper": 109.37239841177117,
         "multiplicative_terms": 0,
         "multiplicative_terms_lower": 0,
         "multiplicative_terms_upper": 0,
         "yhat": 710.2179029228503,
         "_deepnote_index_column": 9
        }
       ]
      },
      "text/plain": "           ds       trend  yhat_lower   yhat_upper  trend_lower  trend_upper  \\\n0  2015-01-01  571.137397  382.391681   813.080260   571.137397   571.137397   \n1  2015-02-01  574.510845  381.842793   781.772228   574.510845   574.510845   \n2  2015-03-01  577.557831  447.874592   869.419677   577.557831   577.557831   \n3  2015-04-01  580.931279  392.803506   810.869699   580.931279   580.931279   \n4  2015-05-01  584.195906  307.081854   731.201379   584.195906   584.195906   \n..        ...         ...         ...          ...          ...          ...   \n77 2021-05-31  825.828523  615.695478  1070.774836   825.826384   825.830840   \n78 2021-06-30  829.088270  576.407367   981.137050   829.085655   829.091101   \n79 2021-07-31  832.456676  561.712870   960.890399   832.453567   832.460031   \n80 2021-08-31  835.825081  553.198937   966.304558   835.821541   835.829091   \n81 2021-09-30  839.084828  803.915596  1226.147493   839.080737   839.089391   \n\n    additive_terms  additive_terms_lower  additive_terms_upper      yearly  \\\n0        27.997918             27.997918             27.997918   27.997918   \n1        22.055933             22.055933             22.055933   22.055933   \n2        78.057337             78.057337             78.057337   78.057337   \n3        34.314878             34.314878             34.314878   34.314878   \n4       -66.027907            -66.027907            -66.027907  -66.027907   \n..             ...                   ...                   ...         ...   \n77       13.843736             13.843736             13.843736   13.843736   \n78      -57.299337            -57.299337            -57.299337  -57.299337   \n79      -72.080113            -72.080113            -72.080113  -72.080113   \n80      -69.827297            -69.827297            -69.827297  -69.827297   \n81      178.775714            178.775714            178.775714  178.775714   \n\n    yearly_lower  yearly_upper  multiplicative_terms  \\\n0      27.997918     27.997918                   0.0   \n1      22.055933     22.055933                   0.0   \n2      78.057337     78.057337                   0.0   \n3      34.314878     34.314878                   0.0   \n4     -66.027907    -66.027907                   0.0   \n..           ...           ...                   ...   \n77     13.843736     13.843736                   0.0   \n78    -57.299337    -57.299337                   0.0   \n79    -72.080113    -72.080113                   0.0   \n80    -69.827297    -69.827297                   0.0   \n81    178.775714    178.775714                   0.0   \n\n    multiplicative_terms_lower  multiplicative_terms_upper         yhat  \n0                          0.0                         0.0   599.135315  \n1                          0.0                         0.0   596.566778  \n2                          0.0                         0.0   655.615168  \n3                          0.0                         0.0   615.246157  \n4                          0.0                         0.0   518.167999  \n..                         ...                         ...          ...  \n77                         0.0                         0.0   839.672259  \n78                         0.0                         0.0   771.788933  \n79                         0.0                         0.0   760.376563  \n80                         0.0                         0.0   765.997784  \n81                         0.0                         0.0  1017.860542  \n\n[82 rows x 16 columns]",
      "text/html": "<div>\n<style scoped>\n    .dataframe tbody tr th:only-of-type {\n        vertical-align: middle;\n    }\n\n    .dataframe tbody tr th {\n        vertical-align: top;\n    }\n\n    .dataframe thead th {\n        text-align: right;\n    }\n</style>\n<table border=\"1\" class=\"dataframe\">\n  <thead>\n    <tr style=\"text-align: right;\">\n      <th></th>\n      <th>ds</th>\n      <th>trend</th>\n      <th>yhat_lower</th>\n      <th>yhat_upper</th>\n      <th>trend_lower</th>\n      <th>trend_upper</th>\n      <th>additive_terms</th>\n      <th>additive_terms_lower</th>\n      <th>additive_terms_upper</th>\n      <th>yearly</th>\n      <th>yearly_lower</th>\n      <th>yearly_upper</th>\n      <th>multiplicative_terms</th>\n      <th>multiplicative_terms_lower</th>\n      <th>multiplicative_terms_upper</th>\n      <th>yhat</th>\n    </tr>\n  </thead>\n  <tbody>\n    <tr>\n      <th>0</th>\n      <td>2015-01-01</td>\n      <td>571.137397</td>\n      <td>382.391681</td>\n      <td>813.080260</td>\n      <td>571.137397</td>\n      <td>571.137397</td>\n      <td>27.997918</td>\n      <td>27.997918</td>\n      <td>27.997918</td>\n      <td>27.997918</td>\n      <td>27.997918</td>\n      <td>27.997918</td>\n      <td>0.0</td>\n      <td>0.0</td>\n      <td>0.0</td>\n      <td>599.135315</td>\n    </tr>\n    <tr>\n      <th>1</th>\n      <td>2015-02-01</td>\n      <td>574.510845</td>\n      <td>381.842793</td>\n      <td>781.772228</td>\n      <td>574.510845</td>\n      <td>574.510845</td>\n      <td>22.055933</td>\n      <td>22.055933</td>\n      <td>22.055933</td>\n      <td>22.055933</td>\n      <td>22.055933</td>\n      <td>22.055933</td>\n      <td>0.0</td>\n      <td>0.0</td>\n      <td>0.0</td>\n      <td>596.566778</td>\n    </tr>\n    <tr>\n      <th>2</th>\n      <td>2015-03-01</td>\n      <td>577.557831</td>\n      <td>447.874592</td>\n      <td>869.419677</td>\n      <td>577.557831</td>\n      <td>577.557831</td>\n      <td>78.057337</td>\n      <td>78.057337</td>\n      <td>78.057337</td>\n      <td>78.057337</td>\n      <td>78.057337</td>\n      <td>78.057337</td>\n      <td>0.0</td>\n      <td>0.0</td>\n      <td>0.0</td>\n      <td>655.615168</td>\n    </tr>\n    <tr>\n      <th>3</th>\n      <td>2015-04-01</td>\n      <td>580.931279</td>\n      <td>392.803506</td>\n      <td>810.869699</td>\n      <td>580.931279</td>\n      <td>580.931279</td>\n      <td>34.314878</td>\n      <td>34.314878</td>\n      <td>34.314878</td>\n      <td>34.314878</td>\n      <td>34.314878</td>\n      <td>34.314878</td>\n      <td>0.0</td>\n      <td>0.0</td>\n      <td>0.0</td>\n      <td>615.246157</td>\n    </tr>\n    <tr>\n      <th>4</th>\n      <td>2015-05-01</td>\n      <td>584.195906</td>\n      <td>307.081854</td>\n      <td>731.201379</td>\n      <td>584.195906</td>\n      <td>584.195906</td>\n      <td>-66.027907</td>\n      <td>-66.027907</td>\n      <td>-66.027907</td>\n      <td>-66.027907</td>\n      <td>-66.027907</td>\n      <td>-66.027907</td>\n      <td>0.0</td>\n      <td>0.0</td>\n      <td>0.0</td>\n      <td>518.167999</td>\n    </tr>\n    <tr>\n      <th>...</th>\n      <td>...</td>\n      <td>...</td>\n      <td>...</td>\n      <td>...</td>\n      <td>...</td>\n      <td>...</td>\n      <td>...</td>\n      <td>...</td>\n      <td>...</td>\n      <td>...</td>\n      <td>...</td>\n      <td>...</td>\n      <td>...</td>\n      <td>...</td>\n      <td>...</td>\n      <td>...</td>\n    </tr>\n    <tr>\n      <th>77</th>\n      <td>2021-05-31</td>\n      <td>825.828523</td>\n      <td>615.695478</td>\n      <td>1070.774836</td>\n      <td>825.826384</td>\n      <td>825.830840</td>\n      <td>13.843736</td>\n      <td>13.843736</td>\n      <td>13.843736</td>\n      <td>13.843736</td>\n      <td>13.843736</td>\n      <td>13.843736</td>\n      <td>0.0</td>\n      <td>0.0</td>\n      <td>0.0</td>\n      <td>839.672259</td>\n    </tr>\n    <tr>\n      <th>78</th>\n      <td>2021-06-30</td>\n      <td>829.088270</td>\n      <td>576.407367</td>\n      <td>981.137050</td>\n      <td>829.085655</td>\n      <td>829.091101</td>\n      <td>-57.299337</td>\n      <td>-57.299337</td>\n      <td>-57.299337</td>\n      <td>-57.299337</td>\n      <td>-57.299337</td>\n      <td>-57.299337</td>\n      <td>0.0</td>\n      <td>0.0</td>\n      <td>0.0</td>\n      <td>771.788933</td>\n    </tr>\n    <tr>\n      <th>79</th>\n      <td>2021-07-31</td>\n      <td>832.456676</td>\n      <td>561.712870</td>\n      <td>960.890399</td>\n      <td>832.453567</td>\n      <td>832.460031</td>\n      <td>-72.080113</td>\n      <td>-72.080113</td>\n      <td>-72.080113</td>\n      <td>-72.080113</td>\n      <td>-72.080113</td>\n      <td>-72.080113</td>\n      <td>0.0</td>\n      <td>0.0</td>\n      <td>0.0</td>\n      <td>760.376563</td>\n    </tr>\n    <tr>\n      <th>80</th>\n      <td>2021-08-31</td>\n      <td>835.825081</td>\n      <td>553.198937</td>\n      <td>966.304558</td>\n      <td>835.821541</td>\n      <td>835.829091</td>\n      <td>-69.827297</td>\n      <td>-69.827297</td>\n      <td>-69.827297</td>\n      <td>-69.827297</td>\n      <td>-69.827297</td>\n      <td>-69.827297</td>\n      <td>0.0</td>\n      <td>0.0</td>\n      <td>0.0</td>\n      <td>765.997784</td>\n    </tr>\n    <tr>\n      <th>81</th>\n      <td>2021-09-30</td>\n      <td>839.084828</td>\n      <td>803.915596</td>\n      <td>1226.147493</td>\n      <td>839.080737</td>\n      <td>839.089391</td>\n      <td>178.775714</td>\n      <td>178.775714</td>\n      <td>178.775714</td>\n      <td>178.775714</td>\n      <td>178.775714</td>\n      <td>178.775714</td>\n      <td>0.0</td>\n      <td>0.0</td>\n      <td>0.0</td>\n      <td>1017.860542</td>\n    </tr>\n  </tbody>\n</table>\n<p>82 rows × 16 columns</p>\n</div>"
     },
     "metadata": {}
    }
   ]
  },
  {
   "cell_type": "code",
   "metadata": {
    "cell_id": "c1edaab6-8f10-46bb-8887-a80ae31b9a48",
    "tags": [],
    "deepnote_to_be_reexecuted": false,
    "source_hash": "c76a84fb",
    "execution_start": 1648152091953,
    "execution_millis": 54,
    "deepnote_cell_type": "code",
    "deepnote_cell_height": 634
   },
   "source": "df_train = df[df['Month'] <= '2020-10']\ndf_test = df[df['Month'] > '2020-10']\ndf_test",
   "execution_count": null,
   "outputs": [
    {
     "output_type": "execute_result",
     "execution_count": 19,
     "data": {
      "application/vnd.deepnote.dataframe.v3+json": {
       "column_count": 25,
       "row_count": 12,
       "columns": [
        {
         "name": "Unnamed: 0",
         "dtype": "int64",
         "stats": {
          "unique_count": 12,
          "nan_count": 0,
          "min": "507325",
          "max": "583829",
          "histogram": [
           {
            "bin_start": 507325,
            "bin_end": 514975.4,
            "count": 2
           },
           {
            "bin_start": 514975.4,
            "bin_end": 522625.8,
            "count": 0
           },
           {
            "bin_start": 522625.8,
            "bin_end": 530276.2,
            "count": 2
           },
           {
            "bin_start": 530276.2,
            "bin_end": 537926.6,
            "count": 1
           },
           {
            "bin_start": 537926.6,
            "bin_end": 545577,
            "count": 1
           },
           {
            "bin_start": 545577,
            "bin_end": 553227.4,
            "count": 1
           },
           {
            "bin_start": 553227.4,
            "bin_end": 560877.8,
            "count": 1
           },
           {
            "bin_start": 560877.8,
            "bin_end": 568528.2,
            "count": 1
           },
           {
            "bin_start": 568528.2,
            "bin_end": 576178.6,
            "count": 1
           },
           {
            "bin_start": 576178.6,
            "bin_end": 583829,
            "count": 2
           }
          ]
         }
        },
        {
         "name": "Month",
         "dtype": "object",
         "stats": {
          "unique_count": 12,
          "nan_count": 0,
          "categories": [
           {
            "name": "2020-11",
            "count": 1
           },
           {
            "name": "2020-12",
            "count": 1
           },
           {
            "name": "10 others",
            "count": 10
           }
          ]
         }
        },
        {
         "name": "MSOA code",
         "dtype": "object",
         "stats": {
          "unique_count": 1,
          "nan_count": 0,
          "categories": [
           {
            "name": "E02000001",
            "count": 12
           }
          ]
         }
        },
        {
         "name": "Crime type_Anti-social behaviour",
         "dtype": "float64",
         "stats": {
          "unique_count": 11,
          "nan_count": 0,
          "min": "60.0",
          "max": "111.0",
          "histogram": [
           {
            "bin_start": 60,
            "bin_end": 65.1,
            "count": 3
           },
           {
            "bin_start": 65.1,
            "bin_end": 70.2,
            "count": 0
           },
           {
            "bin_start": 70.2,
            "bin_end": 75.3,
            "count": 2
           },
           {
            "bin_start": 75.3,
            "bin_end": 80.4,
            "count": 2
           },
           {
            "bin_start": 80.4,
            "bin_end": 85.5,
            "count": 1
           },
           {
            "bin_start": 85.5,
            "bin_end": 90.6,
            "count": 0
           },
           {
            "bin_start": 90.6,
            "bin_end": 95.69999999999999,
            "count": 1
           },
           {
            "bin_start": 95.69999999999999,
            "bin_end": 100.8,
            "count": 1
           },
           {
            "bin_start": 100.8,
            "bin_end": 105.9,
            "count": 1
           },
           {
            "bin_start": 105.9,
            "bin_end": 111,
            "count": 1
           }
          ]
         }
        },
        {
         "name": "Crime type_Bicycle theft",
         "dtype": "float64",
         "stats": {
          "unique_count": 11,
          "nan_count": 0,
          "min": "6.0",
          "max": "57.0",
          "histogram": [
           {
            "bin_start": 6,
            "bin_end": 11.1,
            "count": 3
           },
           {
            "bin_start": 11.1,
            "bin_end": 16.2,
            "count": 1
           },
           {
            "bin_start": 16.2,
            "bin_end": 21.299999999999997,
            "count": 1
           },
           {
            "bin_start": 21.299999999999997,
            "bin_end": 26.4,
            "count": 2
           },
           {
            "bin_start": 26.4,
            "bin_end": 31.5,
            "count": 1
           },
           {
            "bin_start": 31.5,
            "bin_end": 36.599999999999994,
            "count": 1
           },
           {
            "bin_start": 36.599999999999994,
            "bin_end": 41.699999999999996,
            "count": 1
           },
           {
            "bin_start": 41.699999999999996,
            "bin_end": 46.8,
            "count": 0
           },
           {
            "bin_start": 46.8,
            "bin_end": 51.9,
            "count": 1
           },
           {
            "bin_start": 51.9,
            "bin_end": 57,
            "count": 1
           }
          ]
         }
        },
        {
         "name": "Crime type_Burglary",
         "dtype": "float64",
         "stats": {
          "unique_count": 9,
          "nan_count": 0,
          "min": "6.0",
          "max": "27.0",
          "histogram": [
           {
            "bin_start": 6,
            "bin_end": 8.1,
            "count": 4
           },
           {
            "bin_start": 8.1,
            "bin_end": 10.2,
            "count": 0
           },
           {
            "bin_start": 10.2,
            "bin_end": 12.3,
            "count": 1
           },
           {
            "bin_start": 12.3,
            "bin_end": 14.4,
            "count": 2
           },
           {
            "bin_start": 14.4,
            "bin_end": 16.5,
            "count": 1
           },
           {
            "bin_start": 16.5,
            "bin_end": 18.6,
            "count": 1
           },
           {
            "bin_start": 18.6,
            "bin_end": 20.700000000000003,
            "count": 0
           },
           {
            "bin_start": 20.700000000000003,
            "bin_end": 22.8,
            "count": 1
           },
           {
            "bin_start": 22.8,
            "bin_end": 24.900000000000002,
            "count": 1
           },
           {
            "bin_start": 24.900000000000002,
            "bin_end": 27,
            "count": 1
           }
          ]
         }
        },
        {
         "name": "Crime type_Criminal damage and arson",
         "dtype": "float64",
         "stats": {
          "unique_count": 10,
          "nan_count": 0,
          "min": "10.0",
          "max": "45.0",
          "histogram": [
           {
            "bin_start": 10,
            "bin_end": 13.5,
            "count": 4
           },
           {
            "bin_start": 13.5,
            "bin_end": 17,
            "count": 1
           },
           {
            "bin_start": 17,
            "bin_end": 20.5,
            "count": 1
           },
           {
            "bin_start": 20.5,
            "bin_end": 24,
            "count": 0
           },
           {
            "bin_start": 24,
            "bin_end": 27.5,
            "count": 2
           },
           {
            "bin_start": 27.5,
            "bin_end": 31,
            "count": 2
           },
           {
            "bin_start": 31,
            "bin_end": 34.5,
            "count": 0
           },
           {
            "bin_start": 34.5,
            "bin_end": 38,
            "count": 1
           },
           {
            "bin_start": 38,
            "bin_end": 41.5,
            "count": 0
           },
           {
            "bin_start": 41.5,
            "bin_end": 45,
            "count": 1
           }
          ]
         }
        },
        {
         "name": "Crime type_Drugs",
         "dtype": "float64",
         "stats": {
          "unique_count": 11,
          "nan_count": 0,
          "min": "29.0",
          "max": "57.0",
          "histogram": [
           {
            "bin_start": 29,
            "bin_end": 31.8,
            "count": 2
           },
           {
            "bin_start": 31.8,
            "bin_end": 34.6,
            "count": 0
           },
           {
            "bin_start": 34.6,
            "bin_end": 37.4,
            "count": 0
           },
           {
            "bin_start": 37.4,
            "bin_end": 40.2,
            "count": 0
           },
           {
            "bin_start": 40.2,
            "bin_end": 43,
            "count": 0
           },
           {
            "bin_start": 43,
            "bin_end": 45.8,
            "count": 2
           },
           {
            "bin_start": 45.8,
            "bin_end": 48.599999999999994,
            "count": 0
           },
           {
            "bin_start": 48.599999999999994,
            "bin_end": 51.4,
            "count": 4
           },
           {
            "bin_start": 51.4,
            "bin_end": 54.2,
            "count": 3
           },
           {
            "bin_start": 54.2,
            "bin_end": 57,
            "count": 1
           }
          ]
         }
        },
        {
         "name": "Crime type_Other crime",
         "dtype": "float64",
         "stats": {
          "unique_count": 7,
          "nan_count": 0,
          "min": "2.0",
          "max": "14.0",
          "histogram": [
           {
            "bin_start": 2,
            "bin_end": 3.2,
            "count": 1
           },
           {
            "bin_start": 3.2,
            "bin_end": 4.4,
            "count": 3
           },
           {
            "bin_start": 4.4,
            "bin_end": 5.6,
            "count": 0
           },
           {
            "bin_start": 5.6,
            "bin_end": 6.8,
            "count": 0
           },
           {
            "bin_start": 6.8,
            "bin_end": 8,
            "count": 3
           },
           {
            "bin_start": 8,
            "bin_end": 9.2,
            "count": 3
           },
           {
            "bin_start": 9.2,
            "bin_end": 10.4,
            "count": 1
           },
           {
            "bin_start": 10.4,
            "bin_end": 11.6,
            "count": 0
           },
           {
            "bin_start": 11.6,
            "bin_end": 12.799999999999999,
            "count": 0
           },
           {
            "bin_start": 12.799999999999999,
            "bin_end": 14,
            "count": 1
           }
          ]
         }
        },
        {
         "name": "Crime type_Other theft",
         "dtype": "float64",
         "stats": {
          "unique_count": 12,
          "nan_count": 0,
          "min": "12.0",
          "max": "157.0",
          "histogram": [
           {
            "bin_start": 12,
            "bin_end": 26.5,
            "count": 2
           },
           {
            "bin_start": 26.5,
            "bin_end": 41,
            "count": 2
           },
           {
            "bin_start": 41,
            "bin_end": 55.5,
            "count": 3
           },
           {
            "bin_start": 55.5,
            "bin_end": 70,
            "count": 1
           },
           {
            "bin_start": 70,
            "bin_end": 84.5,
            "count": 0
           },
           {
            "bin_start": 84.5,
            "bin_end": 99,
            "count": 1
           },
           {
            "bin_start": 99,
            "bin_end": 113.5,
            "count": 0
           },
           {
            "bin_start": 113.5,
            "bin_end": 128,
            "count": 1
           },
           {
            "bin_start": 128,
            "bin_end": 142.5,
            "count": 0
           },
           {
            "bin_start": 142.5,
            "bin_end": 157,
            "count": 2
           }
          ]
         }
        },
        {
         "name": "Crime type_Possession of weapons",
         "dtype": "float64",
         "stats": {
          "unique_count": 7,
          "nan_count": 0,
          "min": "1.0",
          "max": "7.0",
          "histogram": [
           {
            "bin_start": 1,
            "bin_end": 1.6,
            "count": 1
           },
           {
            "bin_start": 1.6,
            "bin_end": 2.2,
            "count": 1
           },
           {
            "bin_start": 2.2,
            "bin_end": 2.8,
            "count": 0
           },
           {
            "bin_start": 2.8,
            "bin_end": 3.4,
            "count": 2
           },
           {
            "bin_start": 3.4,
            "bin_end": 4,
            "count": 0
           },
           {
            "bin_start": 4,
            "bin_end": 4.6,
            "count": 4
           },
           {
            "bin_start": 4.6,
            "bin_end": 5.2,
            "count": 2
           },
           {
            "bin_start": 5.2,
            "bin_end": 5.8,
            "count": 0
           },
           {
            "bin_start": 5.8,
            "bin_end": 6.3999999999999995,
            "count": 1
           },
           {
            "bin_start": 6.3999999999999995,
            "bin_end": 7,
            "count": 1
           }
          ]
         }
        },
        {
         "name": "Crime type_Public order",
         "dtype": "float64",
         "stats": {
          "unique_count": 11,
          "nan_count": 0,
          "min": "20.0",
          "max": "77.0",
          "histogram": [
           {
            "bin_start": 20,
            "bin_end": 25.7,
            "count": 2
           },
           {
            "bin_start": 25.7,
            "bin_end": 31.4,
            "count": 2
           },
           {
            "bin_start": 31.4,
            "bin_end": 37.1,
            "count": 2
           },
           {
            "bin_start": 37.1,
            "bin_end": 42.8,
            "count": 0
           },
           {
            "bin_start": 42.8,
            "bin_end": 48.5,
            "count": 1
           },
           {
            "bin_start": 48.5,
            "bin_end": 54.2,
            "count": 0
           },
           {
            "bin_start": 54.2,
            "bin_end": 59.9,
            "count": 1
           },
           {
            "bin_start": 59.9,
            "bin_end": 65.6,
            "count": 1
           },
           {
            "bin_start": 65.6,
            "bin_end": 71.30000000000001,
            "count": 1
           },
           {
            "bin_start": 71.30000000000001,
            "bin_end": 77,
            "count": 2
           }
          ]
         }
        },
        {
         "name": "Crime type_Robbery",
         "dtype": "float64",
         "stats": {
          "unique_count": 10,
          "nan_count": 0,
          "min": "3.0",
          "max": "21.0",
          "histogram": [
           {
            "bin_start": 3,
            "bin_end": 4.8,
            "count": 2
           },
           {
            "bin_start": 4.8,
            "bin_end": 6.6,
            "count": 0
           },
           {
            "bin_start": 6.6,
            "bin_end": 8.4,
            "count": 1
           },
           {
            "bin_start": 8.4,
            "bin_end": 10.2,
            "count": 3
           },
           {
            "bin_start": 10.2,
            "bin_end": 12,
            "count": 1
           },
           {
            "bin_start": 12,
            "bin_end": 13.8,
            "count": 1
           },
           {
            "bin_start": 13.8,
            "bin_end": 15.6,
            "count": 1
           },
           {
            "bin_start": 15.6,
            "bin_end": 17.4,
            "count": 2
           },
           {
            "bin_start": 17.4,
            "bin_end": 19.2,
            "count": 0
           },
           {
            "bin_start": 19.2,
            "bin_end": 21,
            "count": 1
           }
          ]
         }
        },
        {
         "name": "Crime type_Shoplifting",
         "dtype": "float64",
         "stats": {
          "unique_count": 11,
          "nan_count": 0,
          "min": "31.0",
          "max": "80.0",
          "histogram": [
           {
            "bin_start": 31,
            "bin_end": 35.9,
            "count": 1
           },
           {
            "bin_start": 35.9,
            "bin_end": 40.8,
            "count": 2
           },
           {
            "bin_start": 40.8,
            "bin_end": 45.7,
            "count": 1
           },
           {
            "bin_start": 45.7,
            "bin_end": 50.6,
            "count": 2
           },
           {
            "bin_start": 50.6,
            "bin_end": 55.5,
            "count": 0
           },
           {
            "bin_start": 55.5,
            "bin_end": 60.400000000000006,
            "count": 0
           },
           {
            "bin_start": 60.400000000000006,
            "bin_end": 65.30000000000001,
            "count": 0
           },
           {
            "bin_start": 65.30000000000001,
            "bin_end": 70.2,
            "count": 2
           },
           {
            "bin_start": 70.2,
            "bin_end": 75.1,
            "count": 0
           },
           {
            "bin_start": 75.1,
            "bin_end": 80,
            "count": 4
           }
          ]
         }
        },
        {
         "name": "Crime type_Theft from the person",
         "dtype": "float64",
         "stats": {
          "unique_count": 11,
          "nan_count": 0,
          "min": "17.0",
          "max": "111.0",
          "histogram": [
           {
            "bin_start": 17,
            "bin_end": 26.4,
            "count": 1
           },
           {
            "bin_start": 26.4,
            "bin_end": 35.8,
            "count": 4
           },
           {
            "bin_start": 35.8,
            "bin_end": 45.2,
            "count": 0
           },
           {
            "bin_start": 45.2,
            "bin_end": 54.6,
            "count": 1
           },
           {
            "bin_start": 54.6,
            "bin_end": 64,
            "count": 1
           },
           {
            "bin_start": 64,
            "bin_end": 73.4,
            "count": 1
           },
           {
            "bin_start": 73.4,
            "bin_end": 82.8,
            "count": 0
           },
           {
            "bin_start": 82.8,
            "bin_end": 92.2,
            "count": 0
           },
           {
            "bin_start": 92.2,
            "bin_end": 101.60000000000001,
            "count": 1
           },
           {
            "bin_start": 101.60000000000001,
            "bin_end": 111,
            "count": 3
           }
          ]
         }
        },
        {
         "name": "Crime type_Vehicle crime",
         "dtype": "float64",
         "stats": {
          "unique_count": 10,
          "nan_count": 0,
          "min": "7.0",
          "max": "31.0",
          "histogram": [
           {
            "bin_start": 7,
            "bin_end": 9.4,
            "count": 3
           },
           {
            "bin_start": 9.4,
            "bin_end": 11.8,
            "count": 1
           },
           {
            "bin_start": 11.8,
            "bin_end": 14.2,
            "count": 4
           },
           {
            "bin_start": 14.2,
            "bin_end": 16.6,
            "count": 1
           },
           {
            "bin_start": 16.6,
            "bin_end": 19,
            "count": 0
           },
           {
            "bin_start": 19,
            "bin_end": 21.4,
            "count": 1
           },
           {
            "bin_start": 21.4,
            "bin_end": 23.8,
            "count": 1
           },
           {
            "bin_start": 23.8,
            "bin_end": 26.2,
            "count": 0
           },
           {
            "bin_start": 26.2,
            "bin_end": 28.599999999999998,
            "count": 0
           },
           {
            "bin_start": 28.599999999999998,
            "bin_end": 31,
            "count": 1
           }
          ]
         }
        },
        {
         "name": "Crime type_Violence and sexual offences",
         "dtype": "float64",
         "stats": {
          "unique_count": 12,
          "nan_count": 0,
          "min": "39.0",
          "max": "187.0",
          "histogram": [
           {
            "bin_start": 39,
            "bin_end": 53.8,
            "count": 3
           },
           {
            "bin_start": 53.8,
            "bin_end": 68.6,
            "count": 3
           },
           {
            "bin_start": 68.6,
            "bin_end": 83.4,
            "count": 1
           },
           {
            "bin_start": 83.4,
            "bin_end": 98.2,
            "count": 0
           },
           {
            "bin_start": 98.2,
            "bin_end": 113,
            "count": 1
           },
           {
            "bin_start": 113,
            "bin_end": 127.80000000000001,
            "count": 1
           },
           {
            "bin_start": 127.80000000000001,
            "bin_end": 142.60000000000002,
            "count": 2
           },
           {
            "bin_start": 142.60000000000002,
            "bin_end": 157.4,
            "count": 0
           },
           {
            "bin_start": 157.4,
            "bin_end": 172.20000000000002,
            "count": 0
           },
           {
            "bin_start": 172.20000000000002,
            "bin_end": 187,
            "count": 1
           }
          ]
         }
        },
        {
         "name": "Sum crimes",
         "dtype": "int64",
         "stats": {
          "unique_count": 12,
          "nan_count": 0,
          "min": "274",
          "max": "902",
          "histogram": [
           {
            "bin_start": 274,
            "bin_end": 336.8,
            "count": 2
           },
           {
            "bin_start": 336.8,
            "bin_end": 399.6,
            "count": 2
           },
           {
            "bin_start": 399.6,
            "bin_end": 462.4,
            "count": 1
           },
           {
            "bin_start": 462.4,
            "bin_end": 525.2,
            "count": 2
           },
           {
            "bin_start": 525.2,
            "bin_end": 588,
            "count": 0
           },
           {
            "bin_start": 588,
            "bin_end": 650.8,
            "count": 1
           },
           {
            "bin_start": 650.8,
            "bin_end": 713.5999999999999,
            "count": 0
           },
           {
            "bin_start": 713.5999999999999,
            "bin_end": 776.4,
            "count": 2
           },
           {
            "bin_start": 776.4,
            "bin_end": 839.1999999999999,
            "count": 0
           },
           {
            "bin_start": 839.1999999999999,
            "bin_end": 902,
            "count": 2
           }
          ]
         }
        },
        {
         "name": "Median Age",
         "dtype": "float64",
         "stats": {
          "unique_count": 1,
          "nan_count": 0,
          "min": "38.15",
          "max": "38.15",
          "histogram": [
           {
            "bin_start": 37.65,
            "bin_end": 37.75,
            "count": 0
           },
           {
            "bin_start": 37.75,
            "bin_end": 37.85,
            "count": 0
           },
           {
            "bin_start": 37.85,
            "bin_end": 37.949999999999996,
            "count": 0
           },
           {
            "bin_start": 37.949999999999996,
            "bin_end": 38.05,
            "count": 0
           },
           {
            "bin_start": 38.05,
            "bin_end": 38.15,
            "count": 0
           },
           {
            "bin_start": 38.15,
            "bin_end": 38.25,
            "count": 12
           },
           {
            "bin_start": 38.25,
            "bin_end": 38.35,
            "count": 0
           },
           {
            "bin_start": 38.35,
            "bin_end": 38.449999999999996,
            "count": 0
           },
           {
            "bin_start": 38.449999999999996,
            "bin_end": 38.55,
            "count": 0
           },
           {
            "bin_start": 38.55,
            "bin_end": 38.65,
            "count": 0
           }
          ]
         }
        },
        {
         "name": "life_exp_m",
         "dtype": "float64",
         "stats": {
          "unique_count": 1,
          "nan_count": 0,
          "min": "90.37",
          "max": "90.37",
          "histogram": [
           {
            "bin_start": 89.87,
            "bin_end": 89.97,
            "count": 0
           },
           {
            "bin_start": 89.97,
            "bin_end": 90.07000000000001,
            "count": 0
           },
           {
            "bin_start": 90.07000000000001,
            "bin_end": 90.17,
            "count": 0
           },
           {
            "bin_start": 90.17,
            "bin_end": 90.27000000000001,
            "count": 0
           },
           {
            "bin_start": 90.27000000000001,
            "bin_end": 90.37,
            "count": 0
           },
           {
            "bin_start": 90.37,
            "bin_end": 90.47,
            "count": 12
           },
           {
            "bin_start": 90.47,
            "bin_end": 90.57000000000001,
            "count": 0
           },
           {
            "bin_start": 90.57000000000001,
            "bin_end": 90.67,
            "count": 0
           },
           {
            "bin_start": 90.67,
            "bin_end": 90.77000000000001,
            "count": 0
           },
           {
            "bin_start": 90.77000000000001,
            "bin_end": 90.87,
            "count": 0
           }
          ]
         }
        },
        {
         "name": "life_exp_f",
         "dtype": "float64",
         "stats": {
          "unique_count": 1,
          "nan_count": 0,
          "min": "90.74",
          "max": "90.74",
          "histogram": [
           {
            "bin_start": 90.24,
            "bin_end": 90.33999999999999,
            "count": 0
           },
           {
            "bin_start": 90.33999999999999,
            "bin_end": 90.44,
            "count": 0
           },
           {
            "bin_start": 90.44,
            "bin_end": 90.53999999999999,
            "count": 0
           },
           {
            "bin_start": 90.53999999999999,
            "bin_end": 90.64,
            "count": 0
           },
           {
            "bin_start": 90.64,
            "bin_end": 90.74,
            "count": 0
           },
           {
            "bin_start": 90.74,
            "bin_end": 90.83999999999999,
            "count": 12
           },
           {
            "bin_start": 90.83999999999999,
            "bin_end": 90.94,
            "count": 0
           },
           {
            "bin_start": 90.94,
            "bin_end": 91.03999999999999,
            "count": 0
           },
           {
            "bin_start": 91.03999999999999,
            "bin_end": 91.14,
            "count": 0
           },
           {
            "bin_start": 91.14,
            "bin_end": 91.24,
            "count": 0
           }
          ]
         }
        },
        {
         "name": "life_exp_m65",
         "dtype": "float64",
         "stats": {
          "unique_count": 1,
          "nan_count": 0,
          "min": "90.74",
          "max": "90.74",
          "histogram": [
           {
            "bin_start": 90.24,
            "bin_end": 90.33999999999999,
            "count": 0
           },
           {
            "bin_start": 90.33999999999999,
            "bin_end": 90.44,
            "count": 0
           },
           {
            "bin_start": 90.44,
            "bin_end": 90.53999999999999,
            "count": 0
           },
           {
            "bin_start": 90.53999999999999,
            "bin_end": 90.64,
            "count": 0
           },
           {
            "bin_start": 90.64,
            "bin_end": 90.74,
            "count": 0
           },
           {
            "bin_start": 90.74,
            "bin_end": 90.83999999999999,
            "count": 12
           },
           {
            "bin_start": 90.83999999999999,
            "bin_end": 90.94,
            "count": 0
           },
           {
            "bin_start": 90.94,
            "bin_end": 91.03999999999999,
            "count": 0
           },
           {
            "bin_start": 91.03999999999999,
            "bin_end": 91.14,
            "count": 0
           },
           {
            "bin_start": 91.14,
            "bin_end": 91.24,
            "count": 0
           }
          ]
         }
        },
        {
         "name": "life_exp_f_65",
         "dtype": "float64",
         "stats": {
          "unique_count": 1,
          "nan_count": 0,
          "min": "27.61",
          "max": "27.61",
          "histogram": [
           {
            "bin_start": 27.11,
            "bin_end": 27.21,
            "count": 0
           },
           {
            "bin_start": 27.21,
            "bin_end": 27.31,
            "count": 0
           },
           {
            "bin_start": 27.31,
            "bin_end": 27.41,
            "count": 0
           },
           {
            "bin_start": 27.41,
            "bin_end": 27.509999999999998,
            "count": 0
           },
           {
            "bin_start": 27.509999999999998,
            "bin_end": 27.61,
            "count": 0
           },
           {
            "bin_start": 27.61,
            "bin_end": 27.71,
            "count": 12
           },
           {
            "bin_start": 27.71,
            "bin_end": 27.81,
            "count": 0
           },
           {
            "bin_start": 27.81,
            "bin_end": 27.91,
            "count": 0
           },
           {
            "bin_start": 27.91,
            "bin_end": 28.009999999999998,
            "count": 0
           },
           {
            "bin_start": 28.009999999999998,
            "bin_end": 28.11,
            "count": 0
           }
          ]
         }
        },
        {
         "name": "energy_eff_score",
         "dtype": "int64",
         "stats": {
          "unique_count": 1,
          "nan_count": 0,
          "min": "72",
          "max": "72",
          "histogram": [
           {
            "bin_start": 71.5,
            "bin_end": 71.6,
            "count": 0
           },
           {
            "bin_start": 71.6,
            "bin_end": 71.7,
            "count": 0
           },
           {
            "bin_start": 71.7,
            "bin_end": 71.8,
            "count": 0
           },
           {
            "bin_start": 71.8,
            "bin_end": 71.9,
            "count": 0
           },
           {
            "bin_start": 71.9,
            "bin_end": 72,
            "count": 0
           },
           {
            "bin_start": 72,
            "bin_end": 72.1,
            "count": 12
           },
           {
            "bin_start": 72.1,
            "bin_end": 72.2,
            "count": 0
           },
           {
            "bin_start": 72.2,
            "bin_end": 72.3,
            "count": 0
           },
           {
            "bin_start": 72.3,
            "bin_end": 72.4,
            "count": 0
           },
           {
            "bin_start": 72.4,
            "bin_end": 72.5,
            "count": 0
           }
          ]
         }
        },
        {
         "name": "Total annual income",
         "dtype": "int64",
         "stats": {
          "unique_count": 1,
          "nan_count": 0,
          "min": "65400",
          "max": "65400",
          "histogram": [
           {
            "bin_start": 65399.5,
            "bin_end": 65399.6,
            "count": 0
           },
           {
            "bin_start": 65399.6,
            "bin_end": 65399.7,
            "count": 0
           },
           {
            "bin_start": 65399.7,
            "bin_end": 65399.8,
            "count": 0
           },
           {
            "bin_start": 65399.8,
            "bin_end": 65399.9,
            "count": 0
           },
           {
            "bin_start": 65399.9,
            "bin_end": 65400,
            "count": 0
           },
           {
            "bin_start": 65400,
            "bin_end": 65400.1,
            "count": 12
           },
           {
            "bin_start": 65400.1,
            "bin_end": 65400.2,
            "count": 0
           },
           {
            "bin_start": 65400.2,
            "bin_end": 65400.3,
            "count": 0
           },
           {
            "bin_start": 65400.3,
            "bin_end": 65400.4,
            "count": 0
           },
           {
            "bin_start": 65400.4,
            "bin_end": 65400.5,
            "count": 0
           }
          ]
         }
        },
        {
         "name": "_deepnote_index_column",
         "dtype": "int64"
        }
       ],
       "rows": [
        {
         "Unnamed: 0": 507325,
         "Month": "2020-11",
         "MSOA code": "E02000001",
         "Crime type_Anti-social behaviour": 83,
         "Crime type_Bicycle theft": 47,
         "Crime type_Burglary": 6,
         "Crime type_Criminal damage and arson": 12,
         "Crime type_Drugs": 57,
         "Crime type_Other crime": 7,
         "Crime type_Other theft": 45,
         "Crime type_Possession of weapons": 4,
         "Crime type_Public order": 34,
         "Crime type_Robbery": 17,
         "Crime type_Shoplifting": 66,
         "Crime type_Theft from the person": 61,
         "Crime type_Vehicle crime": 10,
         "Crime type_Violence and sexual offences": 51,
         "Sum crimes": 500,
         "Median Age": 38.15,
         "life_exp_m": 90.37,
         "life_exp_f": 90.74,
         "life_exp_m65": 90.74,
         "life_exp_f_65": 27.61,
         "energy_eff_score": 72,
         "Total annual income": 65400,
         "_deepnote_index_column": 507325
        },
        {
         "Unnamed: 0": 514358,
         "Month": "2020-12",
         "MSOA code": "E02000001",
         "Crime type_Anti-social behaviour": 71,
         "Crime type_Bicycle theft": 14,
         "Crime type_Burglary": 11,
         "Crime type_Criminal damage and arson": 24,
         "Crime type_Drugs": 49,
         "Crime type_Other crime": 9,
         "Crime type_Other theft": 48,
         "Crime type_Possession of weapons": 5,
         "Crime type_Public order": 26,
         "Crime type_Robbery": 10,
         "Crime type_Shoplifting": 50,
         "Crime type_Theft from the person": 35,
         "Crime type_Vehicle crime": 13,
         "Crime type_Violence and sexual offences": 61,
         "Sum crimes": 426,
         "Median Age": 38.15,
         "life_exp_m": 90.37,
         "life_exp_f": 90.74,
         "life_exp_m65": 90.74,
         "life_exp_f_65": 27.61,
         "energy_eff_score": 72,
         "Total annual income": 65400,
         "_deepnote_index_column": 514358
        },
        {
         "Unnamed: 0": 523643,
         "Month": "2021-01",
         "MSOA code": "E02000001",
         "Crime type_Anti-social behaviour": 65,
         "Crime type_Bicycle theft": 6,
         "Crime type_Burglary": 6,
         "Crime type_Criminal damage and arson": 10,
         "Crime type_Drugs": 30,
         "Crime type_Other crime": 4,
         "Crime type_Other theft": 27,
         "Crime type_Possession of weapons": 1,
         "Crime type_Public order": 21,
         "Crime type_Robbery": 3,
         "Crime type_Shoplifting": 38,
         "Crime type_Theft from the person": 17,
         "Crime type_Vehicle crime": 7,
         "Crime type_Violence and sexual offences": 52,
         "Sum crimes": 287,
         "Median Age": 38.15,
         "life_exp_m": 90.37,
         "life_exp_f": 90.74,
         "life_exp_m65": 90.74,
         "life_exp_f_65": 27.61,
         "energy_eff_score": 72,
         "Total annual income": 65400,
         "_deepnote_index_column": 523643
        },
        {
         "Unnamed: 0": 527267,
         "Month": "2021-02",
         "MSOA code": "E02000001",
         "Crime type_Anti-social behaviour": 60,
         "Crime type_Bicycle theft": 6,
         "Crime type_Burglary": 6,
         "Crime type_Criminal damage and arson": 10,
         "Crime type_Drugs": 29,
         "Crime type_Other crime": 7,
         "Crime type_Other theft": 12,
         "Crime type_Possession of weapons": 4,
         "Crime type_Public order": 20,
         "Crime type_Robbery": 9,
         "Crime type_Shoplifting": 31,
         "Crime type_Theft from the person": 33,
         "Crime type_Vehicle crime": 8,
         "Crime type_Violence and sexual offences": 39,
         "Sum crimes": 274,
         "Median Age": 38.15,
         "life_exp_m": 90.37,
         "life_exp_f": 90.74,
         "life_exp_m65": 90.74,
         "life_exp_f_65": 27.61,
         "energy_eff_score": 72,
         "Total annual income": 65400,
         "_deepnote_index_column": 527267
        },
        {
         "Unnamed: 0": 534772,
         "Month": "2021-03",
         "MSOA code": "E02000001",
         "Crime type_Anti-social behaviour": 62,
         "Crime type_Bicycle theft": 11,
         "Crime type_Burglary": 7,
         "Crime type_Criminal damage and arson": 19,
         "Crime type_Drugs": 54,
         "Crime type_Other crime": 8,
         "Crime type_Other theft": 20,
         "Crime type_Possession of weapons": 3,
         "Crime type_Public order": 47,
         "Crime type_Robbery": 3,
         "Crime type_Shoplifting": 39,
         "Crime type_Theft from the person": 28,
         "Crime type_Vehicle crime": 13,
         "Crime type_Violence and sexual offences": 71,
         "Sum crimes": 385,
         "Median Age": 38.15,
         "life_exp_m": 90.37,
         "life_exp_f": 90.74,
         "life_exp_m65": 90.74,
         "life_exp_f_65": 27.61,
         "energy_eff_score": 72,
         "Total annual income": 65400,
         "_deepnote_index_column": 534772
        },
        {
         "Unnamed: 0": 545059,
         "Month": "2021-04",
         "MSOA code": "E02000001",
         "Crime type_Anti-social behaviour": 71,
         "Crime type_Bicycle theft": 25,
         "Crime type_Burglary": 16,
         "Crime type_Criminal damage and arson": 16,
         "Crime type_Drugs": 43,
         "Crime type_Other crime": 2,
         "Crime type_Other theft": 33,
         "Crime type_Possession of weapons": 2,
         "Crime type_Public order": 31,
         "Crime type_Robbery": 15,
         "Crime type_Shoplifting": 43,
         "Crime type_Theft from the person": 35,
         "Crime type_Vehicle crime": 7,
         "Crime type_Violence and sexual offences": 59,
         "Sum crimes": 398,
         "Median Age": 38.15,
         "life_exp_m": 90.37,
         "life_exp_f": 90.74,
         "life_exp_m65": 90.74,
         "life_exp_f_65": 27.61,
         "energy_eff_score": 72,
         "Total annual income": 65400,
         "_deepnote_index_column": 545059
        },
        {
         "Unnamed: 0": 547276,
         "Month": "2021-05",
         "MSOA code": "E02000001",
         "Crime type_Anti-social behaviour": 79,
         "Crime type_Bicycle theft": 26,
         "Crime type_Burglary": 14,
         "Crime type_Criminal damage and arson": 10,
         "Crime type_Drugs": 44,
         "Crime type_Other crime": 4,
         "Crime type_Other theft": 55,
         "Crime type_Possession of weapons": 3,
         "Crime type_Public order": 34,
         "Crime type_Robbery": 8,
         "Crime type_Shoplifting": 47,
         "Crime type_Theft from the person": 69,
         "Crime type_Vehicle crime": 12,
         "Crime type_Violence and sexual offences": 63,
         "Sum crimes": 468,
         "Median Age": 38.15,
         "life_exp_m": 90.37,
         "life_exp_f": 90.74,
         "life_exp_m65": 90.74,
         "life_exp_f_65": 27.61,
         "energy_eff_score": 72,
         "Total annual income": 65400,
         "_deepnote_index_column": 547276
        },
        {
         "Unnamed: 0": 559467,
         "Month": "2021-06",
         "MSOA code": "E02000001",
         "Crime type_Anti-social behaviour": 101,
         "Crime type_Bicycle theft": 21,
         "Crime type_Burglary": 14,
         "Crime type_Criminal damage and arson": 29,
         "Crime type_Drugs": 52,
         "Crime type_Other crime": 9,
         "Crime type_Other theft": 67,
         "Crime type_Possession of weapons": 6,
         "Crime type_Public order": 73,
         "Crime type_Robbery": 11,
         "Crime type_Shoplifting": 69,
         "Crime type_Theft from the person": 54,
         "Crime type_Vehicle crime": 20,
         "Crime type_Violence and sexual offences": 111,
         "Sum crimes": 637,
         "Median Age": 38.15,
         "life_exp_m": 90.37,
         "life_exp_f": 90.74,
         "life_exp_m65": 90.74,
         "life_exp_f_65": 27.61,
         "energy_eff_score": 72,
         "Total annual income": 65400,
         "_deepnote_index_column": 559467
        },
        {
         "Unnamed: 0": 563317,
         "Month": "2021-07",
         "MSOA code": "E02000001",
         "Crime type_Anti-social behaviour": 111,
         "Crime type_Bicycle theft": 28,
         "Crime type_Burglary": 21,
         "Crime type_Criminal damage and arson": 30,
         "Crime type_Drugs": 50,
         "Crime type_Other crime": 10,
         "Crime type_Other theft": 94,
         "Crime type_Possession of weapons": 4,
         "Crime type_Public order": 70,
         "Crime type_Robbery": 16,
         "Crime type_Shoplifting": 80,
         "Crime type_Theft from the person": 101,
         "Crime type_Vehicle crime": 15,
         "Crime type_Violence and sexual offences": 133,
         "Sum crimes": 763,
         "Median Age": 38.15,
         "life_exp_m": 90.37,
         "life_exp_f": 90.74,
         "life_exp_m65": 90.74,
         "life_exp_f_65": 27.61,
         "energy_eff_score": 72,
         "Total annual income": 65400,
         "_deepnote_index_column": 563317
        },
        {
         "Unnamed: 0": 575050,
         "Month": "2021-08",
         "MSOA code": "E02000001",
         "Crime type_Anti-social behaviour": 77,
         "Crime type_Bicycle theft": 33,
         "Crime type_Burglary": 24,
         "Crime type_Criminal damage and arson": 36,
         "Crime type_Drugs": 50,
         "Crime type_Other crime": 7,
         "Crime type_Other theft": 124,
         "Crime type_Possession of weapons": 4,
         "Crime type_Public order": 58,
         "Crime type_Robbery": 13,
         "Crime type_Shoplifting": 77,
         "Crime type_Theft from the person": 103,
         "Crime type_Vehicle crime": 23,
         "Crime type_Violence and sexual offences": 120,
         "Sum crimes": 749,
         "Median Age": 38.15,
         "life_exp_m": 90.37,
         "life_exp_f": 90.74,
         "life_exp_m65": 90.74,
         "life_exp_f_65": 27.61,
         "energy_eff_score": 72,
         "Total annual income": 65400,
         "_deepnote_index_column": 575050
        }
       ]
      },
      "text/plain": "        Unnamed: 0    Month  MSOA code  Crime type_Anti-social behaviour  \\\n507325      507325  2020-11  E02000001                              83.0   \n514358      514358  2020-12  E02000001                              71.0   \n523643      523643  2021-01  E02000001                              65.0   \n527267      527267  2021-02  E02000001                              60.0   \n534772      534772  2021-03  E02000001                              62.0   \n545059      545059  2021-04  E02000001                              71.0   \n547276      547276  2021-05  E02000001                              79.0   \n559467      559467  2021-06  E02000001                             101.0   \n563317      563317  2021-07  E02000001                             111.0   \n575050      575050  2021-08  E02000001                              77.0   \n581244      581244  2021-09  E02000001                              97.0   \n583829      583829  2021-10  E02000001                              92.0   \n\n        Crime type_Bicycle theft  Crime type_Burglary  \\\n507325                      47.0                  6.0   \n514358                      14.0                 11.0   \n523643                       6.0                  6.0   \n527267                       6.0                  6.0   \n534772                      11.0                  7.0   \n545059                      25.0                 16.0   \n547276                      26.0                 14.0   \n559467                      21.0                 14.0   \n563317                      28.0                 21.0   \n575050                      33.0                 24.0   \n581244                      57.0                 27.0   \n583829                      41.0                 18.0   \n\n        Crime type_Criminal damage and arson  Crime type_Drugs  \\\n507325                                  12.0              57.0   \n514358                                  24.0              49.0   \n523643                                  10.0              30.0   \n527267                                  10.0              29.0   \n534772                                  19.0              54.0   \n545059                                  16.0              43.0   \n547276                                  10.0              44.0   \n559467                                  29.0              52.0   \n563317                                  30.0              50.0   \n575050                                  36.0              50.0   \n581244                                  25.0              51.0   \n583829                                  45.0              53.0   \n\n        Crime type_Other crime  Crime type_Other theft  \\\n507325                     7.0                    45.0   \n514358                     9.0                    48.0   \n523643                     4.0                    27.0   \n527267                     7.0                    12.0   \n534772                     8.0                    20.0   \n545059                     2.0                    33.0   \n547276                     4.0                    55.0   \n559467                     9.0                    67.0   \n563317                    10.0                    94.0   \n575050                     7.0                   124.0   \n581244                     4.0                   153.0   \n583829                    14.0                   157.0   \n\n        Crime type_Possession of weapons  Crime type_Public order  \\\n507325                               4.0                     34.0   \n514358                               5.0                     26.0   \n523643                               1.0                     21.0   \n527267                               4.0                     20.0   \n534772                               3.0                     47.0   \n545059                               2.0                     31.0   \n547276                               3.0                     34.0   \n559467                               6.0                     73.0   \n563317                               4.0                     70.0   \n575050                               4.0                     58.0   \n581244                               5.0                     60.0   \n583829                               7.0                     77.0   \n\n        Crime type_Robbery  Crime type_Shoplifting  \\\n507325                17.0                    66.0   \n514358                10.0                    50.0   \n523643                 3.0                    38.0   \n527267                 9.0                    31.0   \n534772                 3.0                    39.0   \n545059                15.0                    43.0   \n547276                 8.0                    47.0   \n559467                11.0                    69.0   \n563317                16.0                    80.0   \n575050                13.0                    77.0   \n581244                21.0                    76.0   \n583829                10.0                    76.0   \n\n        Crime type_Theft from the person  Crime type_Vehicle crime  \\\n507325                              61.0                      10.0   \n514358                              35.0                      13.0   \n523643                              17.0                       7.0   \n527267                              33.0                       8.0   \n534772                              28.0                      13.0   \n545059                              35.0                       7.0   \n547276                              69.0                      12.0   \n559467                              54.0                      20.0   \n563317                             101.0                      15.0   \n575050                             103.0                      23.0   \n581244                             106.0                      31.0   \n583829                             111.0                      14.0   \n\n        Crime type_Violence and sexual offences  Sum crimes  Median Age  \\\n507325                                     51.0         500       38.15   \n514358                                     61.0         426       38.15   \n523643                                     52.0         287       38.15   \n527267                                     39.0         274       38.15   \n534772                                     71.0         385       38.15   \n545059                                     59.0         398       38.15   \n547276                                     63.0         468       38.15   \n559467                                    111.0         637       38.15   \n563317                                    133.0         763       38.15   \n575050                                    120.0         749       38.15   \n581244                                    138.0         851       38.15   \n583829                                    187.0         902       38.15   \n\n        life_exp_m  life_exp_f  life_exp_m65  life_exp_f_65  energy_eff_score  \\\n507325       90.37       90.74         90.74          27.61                72   \n514358       90.37       90.74         90.74          27.61                72   \n523643       90.37       90.74         90.74          27.61                72   \n527267       90.37       90.74         90.74          27.61                72   \n534772       90.37       90.74         90.74          27.61                72   \n545059       90.37       90.74         90.74          27.61                72   \n547276       90.37       90.74         90.74          27.61                72   \n559467       90.37       90.74         90.74          27.61                72   \n563317       90.37       90.74         90.74          27.61                72   \n575050       90.37       90.74         90.74          27.61                72   \n581244       90.37       90.74         90.74          27.61                72   \n583829       90.37       90.74         90.74          27.61                72   \n\n        Total annual income  \n507325                65400  \n514358                65400  \n523643                65400  \n527267                65400  \n534772                65400  \n545059                65400  \n547276                65400  \n559467                65400  \n563317                65400  \n575050                65400  \n581244                65400  \n583829                65400  ",
      "text/html": "<div>\n<style scoped>\n    .dataframe tbody tr th:only-of-type {\n        vertical-align: middle;\n    }\n\n    .dataframe tbody tr th {\n        vertical-align: top;\n    }\n\n    .dataframe thead th {\n        text-align: right;\n    }\n</style>\n<table border=\"1\" class=\"dataframe\">\n  <thead>\n    <tr style=\"text-align: right;\">\n      <th></th>\n      <th>Unnamed: 0</th>\n      <th>Month</th>\n      <th>MSOA code</th>\n      <th>Crime type_Anti-social behaviour</th>\n      <th>Crime type_Bicycle theft</th>\n      <th>Crime type_Burglary</th>\n      <th>Crime type_Criminal damage and arson</th>\n      <th>Crime type_Drugs</th>\n      <th>Crime type_Other crime</th>\n      <th>Crime type_Other theft</th>\n      <th>Crime type_Possession of weapons</th>\n      <th>Crime type_Public order</th>\n      <th>Crime type_Robbery</th>\n      <th>Crime type_Shoplifting</th>\n      <th>Crime type_Theft from the person</th>\n      <th>Crime type_Vehicle crime</th>\n      <th>Crime type_Violence and sexual offences</th>\n      <th>Sum crimes</th>\n      <th>Median Age</th>\n      <th>life_exp_m</th>\n      <th>life_exp_f</th>\n      <th>life_exp_m65</th>\n      <th>life_exp_f_65</th>\n      <th>energy_eff_score</th>\n      <th>Total annual income</th>\n    </tr>\n  </thead>\n  <tbody>\n    <tr>\n      <th>507325</th>\n      <td>507325</td>\n      <td>2020-11</td>\n      <td>E02000001</td>\n      <td>83.0</td>\n      <td>47.0</td>\n      <td>6.0</td>\n      <td>12.0</td>\n      <td>57.0</td>\n      <td>7.0</td>\n      <td>45.0</td>\n      <td>4.0</td>\n      <td>34.0</td>\n      <td>17.0</td>\n      <td>66.0</td>\n      <td>61.0</td>\n      <td>10.0</td>\n      <td>51.0</td>\n      <td>500</td>\n      <td>38.15</td>\n      <td>90.37</td>\n      <td>90.74</td>\n      <td>90.74</td>\n      <td>27.61</td>\n      <td>72</td>\n      <td>65400</td>\n    </tr>\n    <tr>\n      <th>514358</th>\n      <td>514358</td>\n      <td>2020-12</td>\n      <td>E02000001</td>\n      <td>71.0</td>\n      <td>14.0</td>\n      <td>11.0</td>\n      <td>24.0</td>\n      <td>49.0</td>\n      <td>9.0</td>\n      <td>48.0</td>\n      <td>5.0</td>\n      <td>26.0</td>\n      <td>10.0</td>\n      <td>50.0</td>\n      <td>35.0</td>\n      <td>13.0</td>\n      <td>61.0</td>\n      <td>426</td>\n      <td>38.15</td>\n      <td>90.37</td>\n      <td>90.74</td>\n      <td>90.74</td>\n      <td>27.61</td>\n      <td>72</td>\n      <td>65400</td>\n    </tr>\n    <tr>\n      <th>523643</th>\n      <td>523643</td>\n      <td>2021-01</td>\n      <td>E02000001</td>\n      <td>65.0</td>\n      <td>6.0</td>\n      <td>6.0</td>\n      <td>10.0</td>\n      <td>30.0</td>\n      <td>4.0</td>\n      <td>27.0</td>\n      <td>1.0</td>\n      <td>21.0</td>\n      <td>3.0</td>\n      <td>38.0</td>\n      <td>17.0</td>\n      <td>7.0</td>\n      <td>52.0</td>\n      <td>287</td>\n      <td>38.15</td>\n      <td>90.37</td>\n      <td>90.74</td>\n      <td>90.74</td>\n      <td>27.61</td>\n      <td>72</td>\n      <td>65400</td>\n    </tr>\n    <tr>\n      <th>527267</th>\n      <td>527267</td>\n      <td>2021-02</td>\n      <td>E02000001</td>\n      <td>60.0</td>\n      <td>6.0</td>\n      <td>6.0</td>\n      <td>10.0</td>\n      <td>29.0</td>\n      <td>7.0</td>\n      <td>12.0</td>\n      <td>4.0</td>\n      <td>20.0</td>\n      <td>9.0</td>\n      <td>31.0</td>\n      <td>33.0</td>\n      <td>8.0</td>\n      <td>39.0</td>\n      <td>274</td>\n      <td>38.15</td>\n      <td>90.37</td>\n      <td>90.74</td>\n      <td>90.74</td>\n      <td>27.61</td>\n      <td>72</td>\n      <td>65400</td>\n    </tr>\n    <tr>\n      <th>534772</th>\n      <td>534772</td>\n      <td>2021-03</td>\n      <td>E02000001</td>\n      <td>62.0</td>\n      <td>11.0</td>\n      <td>7.0</td>\n      <td>19.0</td>\n      <td>54.0</td>\n      <td>8.0</td>\n      <td>20.0</td>\n      <td>3.0</td>\n      <td>47.0</td>\n      <td>3.0</td>\n      <td>39.0</td>\n      <td>28.0</td>\n      <td>13.0</td>\n      <td>71.0</td>\n      <td>385</td>\n      <td>38.15</td>\n      <td>90.37</td>\n      <td>90.74</td>\n      <td>90.74</td>\n      <td>27.61</td>\n      <td>72</td>\n      <td>65400</td>\n    </tr>\n    <tr>\n      <th>545059</th>\n      <td>545059</td>\n      <td>2021-04</td>\n      <td>E02000001</td>\n      <td>71.0</td>\n      <td>25.0</td>\n      <td>16.0</td>\n      <td>16.0</td>\n      <td>43.0</td>\n      <td>2.0</td>\n      <td>33.0</td>\n      <td>2.0</td>\n      <td>31.0</td>\n      <td>15.0</td>\n      <td>43.0</td>\n      <td>35.0</td>\n      <td>7.0</td>\n      <td>59.0</td>\n      <td>398</td>\n      <td>38.15</td>\n      <td>90.37</td>\n      <td>90.74</td>\n      <td>90.74</td>\n      <td>27.61</td>\n      <td>72</td>\n      <td>65400</td>\n    </tr>\n    <tr>\n      <th>547276</th>\n      <td>547276</td>\n      <td>2021-05</td>\n      <td>E02000001</td>\n      <td>79.0</td>\n      <td>26.0</td>\n      <td>14.0</td>\n      <td>10.0</td>\n      <td>44.0</td>\n      <td>4.0</td>\n      <td>55.0</td>\n      <td>3.0</td>\n      <td>34.0</td>\n      <td>8.0</td>\n      <td>47.0</td>\n      <td>69.0</td>\n      <td>12.0</td>\n      <td>63.0</td>\n      <td>468</td>\n      <td>38.15</td>\n      <td>90.37</td>\n      <td>90.74</td>\n      <td>90.74</td>\n      <td>27.61</td>\n      <td>72</td>\n      <td>65400</td>\n    </tr>\n    <tr>\n      <th>559467</th>\n      <td>559467</td>\n      <td>2021-06</td>\n      <td>E02000001</td>\n      <td>101.0</td>\n      <td>21.0</td>\n      <td>14.0</td>\n      <td>29.0</td>\n      <td>52.0</td>\n      <td>9.0</td>\n      <td>67.0</td>\n      <td>6.0</td>\n      <td>73.0</td>\n      <td>11.0</td>\n      <td>69.0</td>\n      <td>54.0</td>\n      <td>20.0</td>\n      <td>111.0</td>\n      <td>637</td>\n      <td>38.15</td>\n      <td>90.37</td>\n      <td>90.74</td>\n      <td>90.74</td>\n      <td>27.61</td>\n      <td>72</td>\n      <td>65400</td>\n    </tr>\n    <tr>\n      <th>563317</th>\n      <td>563317</td>\n      <td>2021-07</td>\n      <td>E02000001</td>\n      <td>111.0</td>\n      <td>28.0</td>\n      <td>21.0</td>\n      <td>30.0</td>\n      <td>50.0</td>\n      <td>10.0</td>\n      <td>94.0</td>\n      <td>4.0</td>\n      <td>70.0</td>\n      <td>16.0</td>\n      <td>80.0</td>\n      <td>101.0</td>\n      <td>15.0</td>\n      <td>133.0</td>\n      <td>763</td>\n      <td>38.15</td>\n      <td>90.37</td>\n      <td>90.74</td>\n      <td>90.74</td>\n      <td>27.61</td>\n      <td>72</td>\n      <td>65400</td>\n    </tr>\n    <tr>\n      <th>575050</th>\n      <td>575050</td>\n      <td>2021-08</td>\n      <td>E02000001</td>\n      <td>77.0</td>\n      <td>33.0</td>\n      <td>24.0</td>\n      <td>36.0</td>\n      <td>50.0</td>\n      <td>7.0</td>\n      <td>124.0</td>\n      <td>4.0</td>\n      <td>58.0</td>\n      <td>13.0</td>\n      <td>77.0</td>\n      <td>103.0</td>\n      <td>23.0</td>\n      <td>120.0</td>\n      <td>749</td>\n      <td>38.15</td>\n      <td>90.37</td>\n      <td>90.74</td>\n      <td>90.74</td>\n      <td>27.61</td>\n      <td>72</td>\n      <td>65400</td>\n    </tr>\n    <tr>\n      <th>581244</th>\n      <td>581244</td>\n      <td>2021-09</td>\n      <td>E02000001</td>\n      <td>97.0</td>\n      <td>57.0</td>\n      <td>27.0</td>\n      <td>25.0</td>\n      <td>51.0</td>\n      <td>4.0</td>\n      <td>153.0</td>\n      <td>5.0</td>\n      <td>60.0</td>\n      <td>21.0</td>\n      <td>76.0</td>\n      <td>106.0</td>\n      <td>31.0</td>\n      <td>138.0</td>\n      <td>851</td>\n      <td>38.15</td>\n      <td>90.37</td>\n      <td>90.74</td>\n      <td>90.74</td>\n      <td>27.61</td>\n      <td>72</td>\n      <td>65400</td>\n    </tr>\n    <tr>\n      <th>583829</th>\n      <td>583829</td>\n      <td>2021-10</td>\n      <td>E02000001</td>\n      <td>92.0</td>\n      <td>41.0</td>\n      <td>18.0</td>\n      <td>45.0</td>\n      <td>53.0</td>\n      <td>14.0</td>\n      <td>157.0</td>\n      <td>7.0</td>\n      <td>77.0</td>\n      <td>10.0</td>\n      <td>76.0</td>\n      <td>111.0</td>\n      <td>14.0</td>\n      <td>187.0</td>\n      <td>902</td>\n      <td>38.15</td>\n      <td>90.37</td>\n      <td>90.74</td>\n      <td>90.74</td>\n      <td>27.61</td>\n      <td>72</td>\n      <td>65400</td>\n    </tr>\n  </tbody>\n</table>\n</div>"
     },
     "metadata": {}
    }
   ]
  },
  {
   "cell_type": "markdown",
   "source": "",
   "metadata": {
    "cell_id": "647c2447-9bba-4084-8b83-1521ed461f79",
    "tags": [],
    "is_collapsed": false,
    "deepnote_cell_type": "text-cell-p"
   }
  },
  {
   "cell_type": "code",
   "metadata": {
    "cell_id": "f9d86604-1008-463a-9b44-ba27572e4f01",
    "tags": [],
    "deepnote_to_be_reexecuted": false,
    "source_hash": "e474b87e",
    "execution_start": 1648564095320,
    "execution_millis": 900,
    "deepnote_cell_type": "code",
    "deepnote_cell_height": 684
   },
   "source": "#This loops over every crime type in the dataset and makes seperate predicitons about the amount of that type\n#one year ahead of time, per month and prints a forecasting figure as result\ni = 3\nforecasts = []\ncrime_types = []\nwhile i<=17: #replace 3 by once dataset implemented df.count(axis='columns')\n     \n\n    df_train2 = df_train.iloc[:, [1, i]]\n    crime_type = df_train2.columns.values[1]\n    df_train2.columns.values[0] = \"ds\"\n    df_train2.columns.values[1] = \"y\"\n    df_train2.astype({'ds': 'datetime64[ns]'}).dtypes\n    crime_types.append(crime_type)\n    m = Prophet()\n    m.fit(df_train2)\n\n    future = m.make_future_dataframe(periods=12, freq='M')\n\n    forecast = m.predict(future)\n    forecast[['ds', 'yhat', 'yhat_lower', 'yhat_upper']].tail()\n    forecasts.append(forecast)\n    print(len(forecast))\n\n    fig1 = m.plot(forecast)\n    ax = fig1.gca()\n    ax.set_title(\"Current prediction of \" + crime_type + \" incidents on MSOA: 'Newham 013G'\", size=16)\n    ax.set_xlabel(\"Year\", size=14)\n    ax.set_ylabel(\"Number of \" + crime_type + \" incidents\", size=14);\n    i +=1\n",
   "execution_count": null,
   "outputs": [
    {
     "output_type": "error",
     "ename": "NameError",
     "evalue": "name 'df_train' is not defined",
     "traceback": [
      "\u001b[0;31m---------------------------------------------------------------------------\u001b[0m",
      "\u001b[0;31mNameError\u001b[0m                                 Traceback (most recent call last)",
      "\u001b[0;32m<ipython-input-1-f05926a87d77>\u001b[0m in \u001b[0;36m<module>\u001b[0;34m\u001b[0m\n\u001b[1;32m      7\u001b[0m \u001b[0;34m\u001b[0m\u001b[0m\n\u001b[1;32m      8\u001b[0m \u001b[0;34m\u001b[0m\u001b[0m\n\u001b[0;32m----> 9\u001b[0;31m     \u001b[0mdf_train2\u001b[0m \u001b[0;34m=\u001b[0m \u001b[0mdf_train\u001b[0m\u001b[0;34m.\u001b[0m\u001b[0miloc\u001b[0m\u001b[0;34m[\u001b[0m\u001b[0;34m:\u001b[0m\u001b[0;34m,\u001b[0m \u001b[0;34m[\u001b[0m\u001b[0;36m1\u001b[0m\u001b[0;34m,\u001b[0m \u001b[0mi\u001b[0m\u001b[0;34m]\u001b[0m\u001b[0;34m]\u001b[0m\u001b[0;34m\u001b[0m\u001b[0;34m\u001b[0m\u001b[0m\n\u001b[0m\u001b[1;32m     10\u001b[0m     \u001b[0mcrime_type\u001b[0m \u001b[0;34m=\u001b[0m \u001b[0mdf_train2\u001b[0m\u001b[0;34m.\u001b[0m\u001b[0mcolumns\u001b[0m\u001b[0;34m.\u001b[0m\u001b[0mvalues\u001b[0m\u001b[0;34m[\u001b[0m\u001b[0;36m1\u001b[0m\u001b[0;34m]\u001b[0m\u001b[0;34m\u001b[0m\u001b[0;34m\u001b[0m\u001b[0m\n\u001b[1;32m     11\u001b[0m     \u001b[0mdf_train2\u001b[0m\u001b[0;34m.\u001b[0m\u001b[0mcolumns\u001b[0m\u001b[0;34m.\u001b[0m\u001b[0mvalues\u001b[0m\u001b[0;34m[\u001b[0m\u001b[0;36m0\u001b[0m\u001b[0;34m]\u001b[0m \u001b[0;34m=\u001b[0m \u001b[0;34m\"ds\"\u001b[0m\u001b[0;34m\u001b[0m\u001b[0;34m\u001b[0m\u001b[0m\n",
      "\u001b[0;31mNameError\u001b[0m: name 'df_train' is not defined"
     ]
    }
   ]
  },
  {
   "cell_type": "code",
   "metadata": {
    "cell_id": "56f88864-2651-4507-8d27-13e0cc31921d",
    "tags": [],
    "deepnote_to_be_reexecuted": false,
    "source_hash": "63373e19",
    "execution_start": 1648152140000,
    "execution_millis": 102,
    "deepnote_cell_type": "code",
    "deepnote_cell_height": 608
   },
   "source": "j=0\nwhile j < len(forecasts):\n    i=0\n    error = []\n    forecast = forecasts[j]\n    while i<len(test):\n        x = forecast.iloc[i][\"trend\"]\n        y = df_test.iloc[i][j+3]\n        error.append(abs(y-x))\n        i += 1\n    MAE = sum(error)/len(error)\n    print(\"MAE for\", crime_types[j] ,\"is\", MAE)\n    j +=1",
   "execution_count": null,
   "outputs": [
    {
     "name": "stdout",
     "text": "MAE for Crime type_Anti-social behaviour is 21.33656473650429\nMAE for Crime type_Bicycle theft is 12.131298391012892\nMAE for Crime type_Burglary is 7.844469864734826\nMAE for Crime type_Criminal damage and arson is 9.235142601665617\nMAE for Crime type_Drugs is 23.96344006828116\nMAE for Crime type_Other crime is 7.82171627020676\nMAE for Crime type_Other theft is 71.24042786713359\nMAE for Crime type_Possession of weapons is 1.8393175216244293\nMAE for Crime type_Public order is 21.225310020389458\nMAE for Crime type_Robbery is 8.2391090647032\nMAE for Crime type_Shoplifting is 15.951258446485012\nMAE for Crime type_Theft from the person is 28.255615585604783\nMAE for Crime type_Vehicle crime is 4.702081070097003\nMAE for Crime type_Violence and sexual offences is 38.194377343464936\nMAE for Sum crimes is 185.533354166541\n",
     "output_type": "stream"
    }
   ]
  },
  {
   "cell_type": "code",
   "metadata": {
    "cell_id": "2395c4c9-a0ba-465f-80f4-7252076c4cb3",
    "tags": [],
    "deepnote_to_be_reexecuted": false,
    "source_hash": "cba8bfab",
    "execution_start": 1648152140089,
    "execution_millis": 394,
    "deepnote_cell_type": "code",
    "deepnote_cell_height": 361
   },
   "source": "j=0\nwhile j< len(forecasts):\n    i=0\n    error = []\n    while i<len(test):\n        x = forecast.iloc[i][\"trend\"]\n        y = df_test.iloc[i][j+2]\n        error.append((y-x)**2)\n        i += 1\n    MSE = sum(error)/len(error)\n    print(\"MSE for\", crime_types[j] ,\"is\", MSE)\n    j +=1",
   "execution_count": null,
   "outputs": [
    {
     "output_type": "error",
     "ename": "UFuncTypeError",
     "evalue": "ufunc 'subtract' did not contain a loop with signature matching types (dtype('<U9'), dtype('float64')) -> None",
     "traceback": [
      "\u001b[0;31m---------------------------------------------------------------------------\u001b[0m",
      "\u001b[0;31mUFuncTypeError\u001b[0m                            Traceback (most recent call last)",
      "\u001b[0;32m<ipython-input-22-e28bdaa20684>\u001b[0m in \u001b[0;36m<module>\u001b[0;34m\u001b[0m\n\u001b[1;32m      6\u001b[0m         \u001b[0mx\u001b[0m \u001b[0;34m=\u001b[0m \u001b[0mforecast\u001b[0m\u001b[0;34m.\u001b[0m\u001b[0miloc\u001b[0m\u001b[0;34m[\u001b[0m\u001b[0mi\u001b[0m\u001b[0;34m]\u001b[0m\u001b[0;34m[\u001b[0m\u001b[0;34m\"trend\"\u001b[0m\u001b[0;34m]\u001b[0m\u001b[0;34m\u001b[0m\u001b[0;34m\u001b[0m\u001b[0m\n\u001b[1;32m      7\u001b[0m         \u001b[0my\u001b[0m \u001b[0;34m=\u001b[0m \u001b[0mdf_test\u001b[0m\u001b[0;34m.\u001b[0m\u001b[0miloc\u001b[0m\u001b[0;34m[\u001b[0m\u001b[0mi\u001b[0m\u001b[0;34m]\u001b[0m\u001b[0;34m[\u001b[0m\u001b[0mj\u001b[0m\u001b[0;34m+\u001b[0m\u001b[0;36m2\u001b[0m\u001b[0;34m]\u001b[0m\u001b[0;34m\u001b[0m\u001b[0;34m\u001b[0m\u001b[0m\n\u001b[0;32m----> 8\u001b[0;31m         \u001b[0merror\u001b[0m\u001b[0;34m.\u001b[0m\u001b[0mappend\u001b[0m\u001b[0;34m(\u001b[0m\u001b[0;34m(\u001b[0m\u001b[0my\u001b[0m\u001b[0;34m-\u001b[0m\u001b[0mx\u001b[0m\u001b[0;34m)\u001b[0m\u001b[0;34m**\u001b[0m\u001b[0;36m2\u001b[0m\u001b[0;34m)\u001b[0m\u001b[0;34m\u001b[0m\u001b[0;34m\u001b[0m\u001b[0m\n\u001b[0m\u001b[1;32m      9\u001b[0m         \u001b[0mi\u001b[0m \u001b[0;34m+=\u001b[0m \u001b[0;36m1\u001b[0m\u001b[0;34m\u001b[0m\u001b[0;34m\u001b[0m\u001b[0m\n\u001b[1;32m     10\u001b[0m     \u001b[0mMSE\u001b[0m \u001b[0;34m=\u001b[0m \u001b[0msum\u001b[0m\u001b[0;34m(\u001b[0m\u001b[0merror\u001b[0m\u001b[0;34m)\u001b[0m\u001b[0;34m/\u001b[0m\u001b[0mlen\u001b[0m\u001b[0;34m(\u001b[0m\u001b[0merror\u001b[0m\u001b[0;34m)\u001b[0m\u001b[0;34m\u001b[0m\u001b[0;34m\u001b[0m\u001b[0m\n",
      "\u001b[0;31mUFuncTypeError\u001b[0m: ufunc 'subtract' did not contain a loop with signature matching types (dtype('<U9'), dtype('float64')) -> None"
     ]
    }
   ]
  },
  {
   "cell_type": "code",
   "metadata": {
    "cell_id": "08fe6634-9914-417f-a572-148718b5c372",
    "tags": [],
    "deepnote_to_be_reexecuted": true,
    "source_hash": "e10044f0",
    "execution_start": 1647871935838,
    "execution_millis": 268,
    "deepnote_cell_type": "code",
    "deepnote_cell_height": 617
   },
   "source": "fig1_m = m.plot(forecast)\nax = fig1_m.gca()\nax.set_title(\"Current prediction of crime incidents on MSOA: 'E02004914'\", size=16)\nax.set_xlabel(\"Year\", size=14)\nax.set_ylabel(\"Number of crime incidents\", size=14);",
   "execution_count": null,
   "outputs": [
    {
     "data": {
      "text/plain": "<Figure size 720x432 with 1 Axes>",
      "image/png": "[encoded data removed]"
     },
     "metadata": {
      "image/png": {
       "width": 715,
       "height": 446
      }
     },
     "output_type": "display_data"
    }
   ]
  },
  {
   "cell_type": "code",
   "metadata": {
    "cell_id": "7d0a684f-dc90-472a-b534-4f968dfdb7be",
    "tags": [],
    "deepnote_to_be_reexecuted": true,
    "source_hash": "b8fbb882",
    "execution_start": 1647871936132,
    "execution_millis": 527,
    "deepnote_cell_type": "code",
    "deepnote_cell_height": 523
   },
   "source": "fig2_m = m.plot_components(forecast)",
   "execution_count": null,
   "outputs": [
    {
     "data": {
      "text/plain": "<Figure size 648x432 with 2 Axes>",
      "image/png": "[encoded data removed]"
     },
     "metadata": {
      "image/png": {
       "width": 640,
       "height": 424
      }
     },
     "output_type": "display_data"
    }
   ]
  },
  {
   "cell_type": "code",
   "metadata": {
    "cell_id": "c9e172d1-c921-4883-a012-ea8a44090445",
    "tags": [],
    "deepnote_to_be_reexecuted": true,
    "source_hash": "da8bb4fd",
    "execution_start": 1647871936676,
    "execution_millis": 6,
    "deepnote_cell_type": "code",
    "deepnote_cell_height": 735
   },
   "source": "from prophet.plot import plot_plotly, plot_components_plotly\n\nplot_plotly(m, forecast)",
   "execution_count": null,
   "outputs": [
    {
     "data": {
      "text/html": "<html>\n<head><meta charset=\"utf-8\" /></head>\n<body>\n    <div>            <script src=\"https://cdnjs.cloudflare.com/ajax/libs/mathjax/2.7.5/MathJax.js?config=TeX-AMS-MML_SVG\"></script><script type=\"text/javascript\">if (window.MathJax) {MathJax.Hub.Config({SVG: {font: \"STIX-Web\"}});}</script>                <script type=\"text/javascript\">window.PlotlyConfig = {MathJaxConfig: 'local'};</script>\n        <script src=\"https://cdn.plot.ly/plotly-2.9.0.min.js\"></script>                <div id=\"94acf92d-e5ba-4c65-b5df-5418e2e7606d\" class=\"plotly-graph-div\" style=\"height:600px; width:900px;\"></div>            <script type=\"text/javascript\">                                    window.PLOTLYENV=window.PLOTLYENV || {};                                    if (document.getElementById(\"94acf92d-e5ba-4c65-b5df-5418e2e7606d\")) {                    Plotly.newPlot(                        \"94acf92d-e5ba-4c65-b5df-5418e2e7606d\",                        [{\"marker\":{\"color\":\"black\",\"size\":4},\"mode\":\"markers\",\"name\":\"Actual\",\"x\":[\"2015-01-01T00:00:00\",\"2015-02-01T00:00:00\",\"2015-03-01T00:00:00\",\"2015-04-01T00:00:00\",\"2015-05-01T00:00:00\",\"2015-06-01T00:00:00\",\"2015-07-01T00:00:00\",\"2015-08-01T00:00:00\",\"2015-09-01T00:00:00\",\"2015-10-01T00:00:00\",\"2015-11-01T00:00:00\",\"2015-12-01T00:00:00\",\"2016-01-01T00:00:00\",\"2016-02-01T00:00:00\",\"2016-03-01T00:00:00\",\"2016-04-01T00:00:00\",\"2016-05-01T00:00:00\",\"2016-06-01T00:00:00\",\"2016-07-01T00:00:00\",\"2016-08-01T00:00:00\",\"2016-09-01T00:00:00\",\"2016-10-01T00:00:00\",\"2016-11-01T00:00:00\",\"2016-12-01T00:00:00\",\"2017-01-01T00:00:00\",\"2017-02-01T00:00:00\",\"2017-03-01T00:00:00\",\"2017-04-01T00:00:00\",\"2017-05-01T00:00:00\",\"2017-06-01T00:00:00\",\"2017-07-01T00:00:00\",\"2017-08-01T00:00:00\",\"2017-09-01T00:00:00\",\"2017-10-01T00:00:00\",\"2017-11-01T00:00:00\",\"2017-12-01T00:00:00\",\"2018-01-01T00:00:00\",\"2018-02-01T00:00:00\",\"2018-03-01T00:00:00\",\"2018-04-01T00:00:00\",\"2018-05-01T00:00:00\",\"2018-06-01T00:00:00\",\"2018-07-01T00:00:00\",\"2018-08-01T00:00:00\",\"2018-09-01T00:00:00\",\"2018-10-01T00:00:00\",\"2018-11-01T00:00:00\",\"2018-12-01T00:00:00\",\"2019-01-01T00:00:00\",\"2019-02-01T00:00:00\",\"2019-03-01T00:00:00\",\"2019-04-01T00:00:00\",\"2019-05-01T00:00:00\",\"2019-06-01T00:00:00\",\"2019-07-01T00:00:00\",\"2019-08-01T00:00:00\",\"2019-09-01T00:00:00\",\"2019-10-01T00:00:00\",\"2019-11-01T00:00:00\",\"2019-12-01T00:00:00\",\"2020-01-01T00:00:00\",\"2020-02-01T00:00:00\",\"2020-03-01T00:00:00\",\"2020-04-01T00:00:00\",\"2020-05-01T00:00:00\",\"2020-06-01T00:00:00\",\"2020-07-01T00:00:00\",\"2020-08-01T00:00:00\",\"2020-09-01T00:00:00\",\"2020-10-01T00:00:00\"],\"y\":[574,567,612,605,583,627,663,601,624,628,632,718,597,476,491,512,481,507,549,566,660,606,631,716,552,715,836,694,583,692,699,782,670,783,754,751,799,689,836,753,821,800,862,809,735,885,905,887,755,833,1034,1044,891,1064,994,978,958,1066,1066,1087,903,960,738,234,236,325,504,537,594,595],\"type\":\"scatter\"},{\"hoverinfo\":\"skip\",\"line\":{\"width\":0},\"mode\":\"lines\",\"x\":[\"2015-01-01T00:00:00\",\"2015-02-01T00:00:00\",\"2015-03-01T00:00:00\",\"2015-04-01T00:00:00\",\"2015-05-01T00:00:00\",\"2015-06-01T00:00:00\",\"2015-07-01T00:00:00\",\"2015-08-01T00:00:00\",\"2015-09-01T00:00:00\",\"2015-10-01T00:00:00\",\"2015-11-01T00:00:00\",\"2015-12-01T00:00:00\",\"2016-01-01T00:00:00\",\"2016-02-01T00:00:00\",\"2016-03-01T00:00:00\",\"2016-04-01T00:00:00\",\"2016-05-01T00:00:00\",\"2016-06-01T00:00:00\",\"2016-07-01T00:00:00\",\"2016-08-01T00:00:00\",\"2016-09-01T00:00:00\",\"2016-10-01T00:00:00\",\"2016-11-01T00:00:00\",\"2016-12-01T00:00:00\",\"2017-01-01T00:00:00\",\"2017-02-01T00:00:00\",\"2017-03-01T00:00:00\",\"2017-04-01T00:00:00\",\"2017-05-01T00:00:00\",\"2017-06-01T00:00:00\",\"2017-07-01T00:00:00\",\"2017-08-01T00:00:00\",\"2017-09-01T00:00:00\",\"2017-10-01T00:00:00\",\"2017-11-01T00:00:00\",\"2017-12-01T00:00:00\",\"2018-01-01T00:00:00\",\"2018-02-01T00:00:00\",\"2018-03-01T00:00:00\",\"2018-04-01T00:00:00\",\"2018-05-01T00:00:00\",\"2018-06-01T00:00:00\",\"2018-07-01T00:00:00\",\"2018-08-01T00:00:00\",\"2018-09-01T00:00:00\",\"2018-10-01T00:00:00\",\"2018-11-01T00:00:00\",\"2018-12-01T00:00:00\",\"2019-01-01T00:00:00\",\"2019-02-01T00:00:00\",\"2019-03-01T00:00:00\",\"2019-04-01T00:00:00\",\"2019-05-01T00:00:00\",\"2019-06-01T00:00:00\",\"2019-07-01T00:00:00\",\"2019-08-01T00:00:00\",\"2019-09-01T00:00:00\",\"2019-10-01T00:00:00\",\"2019-11-01T00:00:00\",\"2019-12-01T00:00:00\",\"2020-01-01T00:00:00\",\"2020-02-01T00:00:00\",\"2020-03-01T00:00:00\",\"2020-04-01T00:00:00\",\"2020-05-01T00:00:00\",\"2020-06-01T00:00:00\",\"2020-07-01T00:00:00\",\"2020-08-01T00:00:00\",\"2020-09-01T00:00:00\",\"2020-10-01T00:00:00\",\"2020-10-31T00:00:00\",\"2020-11-30T00:00:00\",\"2020-12-31T00:00:00\",\"2021-01-31T00:00:00\",\"2021-02-28T00:00:00\",\"2021-03-31T00:00:00\",\"2021-04-30T00:00:00\",\"2021-05-31T00:00:00\",\"2021-06-30T00:00:00\",\"2021-07-31T00:00:00\",\"2021-08-31T00:00:00\",\"2021-09-30T00:00:00\"],\"y\":[402.9080523735438,389.6346884175915,454.5550693823708,403.2121278574673,292.78440314995686,371.40663670976176,362.3687782839768,374.4821153785233,376.7865656682975,522.0055875544365,523.4747352684797,570.9542435052232,428.4788652190009,351.22283671561416,496.16054023963744,313.34621121670017,290.4913822782304,384.3687247921768,475.952504623475,476.9811101286698,489.22975641543286,466.6065870735095,530.7535161849135,531.0585580796521,444.1528642987082,604.8320060866694,532.6006769799914,390.4888663547861,362.78477308540704,433.7162672917607,484.9554955115188,488.86536112935755,484.5215713108612,522.1973716882609,577.9354363761961,599.6709916797432,514.977820083595,563.6974048177937,566.0833214872282,478.0093508493382,419.19629096518753,491.9661103710484,509.5973313501991,511.0994163029281,507.6303211172787,598.4426456870332,633.440301077515,669.1275542298774,553.4405563670916,547.2168401236438,607.0994519693575,556.7053076540276,469.7553946524224,549.7476767256653,542.8380723282663,523.2045482888722,501.84069634179076,655.7859636125473,685.568170803733,734.8556614943135,606.3105798319657,522.1092706540783,666.7881232517477,462.1340733501822,476.5539403903687,546.8253505469078,639.1978663397161,629.9133426535268,638.7504783159576,599.8334634493888,741.3572364403916,808.9990585459801,622.943138556616,475.4985098048102,673.0853959017817,741.7322423016583,573.1551766124451,631.2112352113193,571.6164346058971,554.2174553483605,568.476009205444,805.3289700036833],\"type\":\"scatter\"},{\"fill\":\"tonexty\",\"fillcolor\":\"rgba(0, 114, 178, 0.2)\",\"line\":{\"color\":\"#0072B2\",\"width\":2},\"mode\":\"lines\",\"name\":\"Predicted\",\"x\":[\"2015-01-01T00:00:00\",\"2015-02-01T00:00:00\",\"2015-03-01T00:00:00\",\"2015-04-01T00:00:00\",\"2015-05-01T00:00:00\",\"2015-06-01T00:00:00\",\"2015-07-01T00:00:00\",\"2015-08-01T00:00:00\",\"2015-09-01T00:00:00\",\"2015-10-01T00:00:00\",\"2015-11-01T00:00:00\",\"2015-12-01T00:00:00\",\"2016-01-01T00:00:00\",\"2016-02-01T00:00:00\",\"2016-03-01T00:00:00\",\"2016-04-01T00:00:00\",\"2016-05-01T00:00:00\",\"2016-06-01T00:00:00\",\"2016-07-01T00:00:00\",\"2016-08-01T00:00:00\",\"2016-09-01T00:00:00\",\"2016-10-01T00:00:00\",\"2016-11-01T00:00:00\",\"2016-12-01T00:00:00\",\"2017-01-01T00:00:00\",\"2017-02-01T00:00:00\",\"2017-03-01T00:00:00\",\"2017-04-01T00:00:00\",\"2017-05-01T00:00:00\",\"2017-06-01T00:00:00\",\"2017-07-01T00:00:00\",\"2017-08-01T00:00:00\",\"2017-09-01T00:00:00\",\"2017-10-01T00:00:00\",\"2017-11-01T00:00:00\",\"2017-12-01T00:00:00\",\"2018-01-01T00:00:00\",\"2018-02-01T00:00:00\",\"2018-03-01T00:00:00\",\"2018-04-01T00:00:00\",\"2018-05-01T00:00:00\",\"2018-06-01T00:00:00\",\"2018-07-01T00:00:00\",\"2018-08-01T00:00:00\",\"2018-09-01T00:00:00\",\"2018-10-01T00:00:00\",\"2018-11-01T00:00:00\",\"2018-12-01T00:00:00\",\"2019-01-01T00:00:00\",\"2019-02-01T00:00:00\",\"2019-03-01T00:00:00\",\"2019-04-01T00:00:00\",\"2019-05-01T00:00:00\",\"2019-06-01T00:00:00\",\"2019-07-01T00:00:00\",\"2019-08-01T00:00:00\",\"2019-09-01T00:00:00\",\"2019-10-01T00:00:00\",\"2019-11-01T00:00:00\",\"2019-12-01T00:00:00\",\"2020-01-01T00:00:00\",\"2020-02-01T00:00:00\",\"2020-03-01T00:00:00\",\"2020-04-01T00:00:00\",\"2020-05-01T00:00:00\",\"2020-06-01T00:00:00\",\"2020-07-01T00:00:00\",\"2020-08-01T00:00:00\",\"2020-09-01T00:00:00\",\"2020-10-01T00:00:00\",\"2020-10-31T00:00:00\",\"2020-11-30T00:00:00\",\"2020-12-31T00:00:00\",\"2021-01-31T00:00:00\",\"2021-02-28T00:00:00\",\"2021-03-31T00:00:00\",\"2021-04-30T00:00:00\",\"2021-05-31T00:00:00\",\"2021-06-30T00:00:00\",\"2021-07-31T00:00:00\",\"2021-08-31T00:00:00\",\"2021-09-30T00:00:00\"],\"y\":[599.1353153118591,596.566777990559,655.6151682172905,615.2461566111693,518.1679989149726,585.2141967643634,579.7815381256471,573.5117025157716,571.0002370512038,710.2179029228503,730.9423146043931,785.2360491792476,642.6606210035065,567.3215864140955,702.6961850504102,507.839427060852,521.0217872125668,593.9520108609616,683.809410613288,691.3573579203335,683.8652732520651,651.4933823462422,737.9007389743398,741.6549263348346,666.3998869309141,813.1171194029968,738.2913208377116,595.9687961985949,573.6694988206908,644.9251560317466,702.864175978144,705.0066130726623,698.1879952785836,723.2702579956832,788.5592136072365,809.8414775196186,713.0425604457643,784.518630424292,775.5897148102674,684.7824928618849,625.7184070297465,695.0034340327747,721.1613659117894,718.6910687391824,713.5354562335715,795.8344974837275,839.2246847454743,877.3515756282368,758.0946245941889,755.5221535849402,814.5669908033049,774.1940454935923,677.1112253246691,744.1526053046108,738.7151897152628,732.4404385898596,729.9239302809542,869.1367159807053,889.856084793977,944.1449391732829,801.5644681336468,726.2203906807491,861.5902718213305,666.7284709918463,679.9059509966423,752.8311318263028,842.6836514313736,850.226555930513,842.7294284533684,810.3526574127543,940.441290360965,1010.208788251361,843.4861784651914,696.7209705818528,897.6042885973078,954.6043316000962,777.846834579213,839.672259340487,771.788933187069,760.3765627235368,765.9977841095663,1017.8605421615938],\"type\":\"scatter\"},{\"fill\":\"tonexty\",\"fillcolor\":\"rgba(0, 114, 178, 0.2)\",\"hoverinfo\":\"skip\",\"line\":{\"width\":0},\"mode\":\"lines\",\"x\":[\"2015-01-01T00:00:00\",\"2015-02-01T00:00:00\",\"2015-03-01T00:00:00\",\"2015-04-01T00:00:00\",\"2015-05-01T00:00:00\",\"2015-06-01T00:00:00\",\"2015-07-01T00:00:00\",\"2015-08-01T00:00:00\",\"2015-09-01T00:00:00\",\"2015-10-01T00:00:00\",\"2015-11-01T00:00:00\",\"2015-12-01T00:00:00\",\"2016-01-01T00:00:00\",\"2016-02-01T00:00:00\",\"2016-03-01T00:00:00\",\"2016-04-01T00:00:00\",\"2016-05-01T00:00:00\",\"2016-06-01T00:00:00\",\"2016-07-01T00:00:00\",\"2016-08-01T00:00:00\",\"2016-09-01T00:00:00\",\"2016-10-01T00:00:00\",\"2016-11-01T00:00:00\",\"2016-12-01T00:00:00\",\"2017-01-01T00:00:00\",\"2017-02-01T00:00:00\",\"2017-03-01T00:00:00\",\"2017-04-01T00:00:00\",\"2017-05-01T00:00:00\",\"2017-06-01T00:00:00\",\"2017-07-01T00:00:00\",\"2017-08-01T00:00:00\",\"2017-09-01T00:00:00\",\"2017-10-01T00:00:00\",\"2017-11-01T00:00:00\",\"2017-12-01T00:00:00\",\"2018-01-01T00:00:00\",\"2018-02-01T00:00:00\",\"2018-03-01T00:00:00\",\"2018-04-01T00:00:00\",\"2018-05-01T00:00:00\",\"2018-06-01T00:00:00\",\"2018-07-01T00:00:00\",\"2018-08-01T00:00:00\",\"2018-09-01T00:00:00\",\"2018-10-01T00:00:00\",\"2018-11-01T00:00:00\",\"2018-12-01T00:00:00\",\"2019-01-01T00:00:00\",\"2019-02-01T00:00:00\",\"2019-03-01T00:00:00\",\"2019-04-01T00:00:00\",\"2019-05-01T00:00:00\",\"2019-06-01T00:00:00\",\"2019-07-01T00:00:00\",\"2019-08-01T00:00:00\",\"2019-09-01T00:00:00\",\"2019-10-01T00:00:00\",\"2019-11-01T00:00:00\",\"2019-12-01T00:00:00\",\"2020-01-01T00:00:00\",\"2020-02-01T00:00:00\",\"2020-03-01T00:00:00\",\"2020-04-01T00:00:00\",\"2020-05-01T00:00:00\",\"2020-06-01T00:00:00\",\"2020-07-01T00:00:00\",\"2020-08-01T00:00:00\",\"2020-09-01T00:00:00\",\"2020-10-01T00:00:00\",\"2020-10-31T00:00:00\",\"2020-11-30T00:00:00\",\"2020-12-31T00:00:00\",\"2021-01-31T00:00:00\",\"2021-02-28T00:00:00\",\"2021-03-31T00:00:00\",\"2021-04-30T00:00:00\",\"2021-05-31T00:00:00\",\"2021-06-30T00:00:00\",\"2021-07-31T00:00:00\",\"2021-08-31T00:00:00\",\"2021-09-30T00:00:00\"],\"y\":[811.2033909339876,801.1728671944096,856.2691903849504,824.6428456133985,735.5377747533428,780.5671466672218,777.2497995929309,778.889140861305,793.2061520894002,929.3600369554426,933.9244178311297,980.5857029824529,857.3496488053117,790.3027606920791,909.6732851949348,709.4644588034172,727.0145440502539,806.1174003566296,875.2048709789547,907.043284518643,893.5169310330928,870.0318076173844,958.4965843508494,944.0803081553375,876.1741284531613,1013.2473865717889,944.1502360606712,794.3453612403789,794.8444793917962,846.744682816541,906.794187990185,911.7679901513272,901.3283076680543,933.1023879074944,995.396613015601,1021.9037964551247,906.0436466741122,978.9126928914914,989.7318324058922,879.4340792292695,821.5828623735473,890.3169545814984,933.1278040684,916.5532466844049,903.8803641326422,1014.2179720666055,1035.7544386072643,1085.5727348616997,963.319094430758,976.8750254201187,1024.8060346268294,969.7296092734732,896.8426759237454,964.5926311827274,937.4256866982092,918.5812209216347,920.257469454716,1058.9345099096417,1094.2327181919195,1142.2026443988614,1007.2218909190212,938.1066413217828,1051.9001971927746,870.4874256926603,886.050528565628,959.2748917136478,1054.4251770562548,1050.0890837471818,1058.3338383018663,1015.7627588495641,1149.0365357156645,1208.8448804265677,1049.1469043343097,896.8485058003687,1110.4210059784828,1160.429619038292,979.3111243506034,1052.6487708907862,977.17730987887,961.1574662443106,976.6844608181261,1230.9393235349896],\"type\":\"scatter\"}],                        {\"height\":600,\"showlegend\":false,\"width\":900,\"xaxis\":{\"rangeselector\":{\"buttons\":[{\"count\":7,\"label\":\"1w\",\"step\":\"day\",\"stepmode\":\"backward\"},{\"count\":1,\"label\":\"1m\",\"step\":\"month\",\"stepmode\":\"backward\"},{\"count\":6,\"label\":\"6m\",\"step\":\"month\",\"stepmode\":\"backward\"},{\"count\":1,\"label\":\"1y\",\"step\":\"year\",\"stepmode\":\"backward\"},{\"step\":\"all\"}]},\"rangeslider\":{\"visible\":true},\"title\":{\"text\":\"ds\"},\"type\":\"date\"},\"yaxis\":{\"title\":{\"text\":\"y\"}},\"template\":{\"data\":{\"bar\":[{\"error_x\":{\"color\":\"#2a3f5f\"},\"error_y\":{\"color\":\"#2a3f5f\"},\"marker\":{\"line\":{\"color\":\"#E5ECF6\",\"width\":0.5},\"pattern\":{\"fillmode\":\"overlay\",\"size\":10,\"solidity\":0.2}},\"type\":\"bar\"}],\"barpolar\":[{\"marker\":{\"line\":{\"color\":\"#E5ECF6\",\"width\":0.5},\"pattern\":{\"fillmode\":\"overlay\",\"size\":10,\"solidity\":0.2}},\"type\":\"barpolar\"}],\"carpet\":[{\"aaxis\":{\"endlinecolor\":\"#2a3f5f\",\"gridcolor\":\"white\",\"linecolor\":\"white\",\"minorgridcolor\":\"white\",\"startlinecolor\":\"#2a3f5f\"},\"baxis\":{\"endlinecolor\":\"#2a3f5f\",\"gridcolor\":\"white\",\"linecolor\":\"white\",\"minorgridcolor\":\"white\",\"startlinecolor\":\"#2a3f5f\"},\"type\":\"carpet\"}],\"choropleth\":[{\"colorbar\":{\"outlinewidth\":0,\"ticks\":\"\"},\"type\":\"choropleth\"}],\"contour\":[{\"colorbar\":{\"outlinewidth\":0,\"ticks\":\"\"},\"colorscale\":[[0.0,\"#0d0887\"],[0.1111111111111111,\"#46039f\"],[0.2222222222222222,\"#7201a8\"],[0.3333333333333333,\"#9c179e\"],[0.4444444444444444,\"#bd3786\"],[0.5555555555555556,\"#d8576b\"],[0.6666666666666666,\"#ed7953\"],[0.7777777777777778,\"#fb9f3a\"],[0.8888888888888888,\"#fdca26\"],[1.0,\"#f0f921\"]],\"type\":\"contour\"}],\"contourcarpet\":[{\"colorbar\":{\"outlinewidth\":0,\"ticks\":\"\"},\"type\":\"contourcarpet\"}],\"heatmap\":[{\"colorbar\":{\"outlinewidth\":0,\"ticks\":\"\"},\"colorscale\":[[0.0,\"#0d0887\"],[0.1111111111111111,\"#46039f\"],[0.2222222222222222,\"#7201a8\"],[0.3333333333333333,\"#9c179e\"],[0.4444444444444444,\"#bd3786\"],[0.5555555555555556,\"#d8576b\"],[0.6666666666666666,\"#ed7953\"],[0.7777777777777778,\"#fb9f3a\"],[0.8888888888888888,\"#fdca26\"],[1.0,\"#f0f921\"]],\"type\":\"heatmap\"}],\"heatmapgl\":[{\"colorbar\":{\"outlinewidth\":0,\"ticks\":\"\"},\"colorscale\":[[0.0,\"#0d0887\"],[0.1111111111111111,\"#46039f\"],[0.2222222222222222,\"#7201a8\"],[0.3333333333333333,\"#9c179e\"],[0.4444444444444444,\"#bd3786\"],[0.5555555555555556,\"#d8576b\"],[0.6666666666666666,\"#ed7953\"],[0.7777777777777778,\"#fb9f3a\"],[0.8888888888888888,\"#fdca26\"],[1.0,\"#f0f921\"]],\"type\":\"heatmapgl\"}],\"histogram\":[{\"marker\":{\"pattern\":{\"fillmode\":\"overlay\",\"size\":10,\"solidity\":0.2}},\"type\":\"histogram\"}],\"histogram2d\":[{\"colorbar\":{\"outlinewidth\":0,\"ticks\":\"\"},\"colorscale\":[[0.0,\"#0d0887\"],[0.1111111111111111,\"#46039f\"],[0.2222222222222222,\"#7201a8\"],[0.3333333333333333,\"#9c179e\"],[0.4444444444444444,\"#bd3786\"],[0.5555555555555556,\"#d8576b\"],[0.6666666666666666,\"#ed7953\"],[0.7777777777777778,\"#fb9f3a\"],[0.8888888888888888,\"#fdca26\"],[1.0,\"#f0f921\"]],\"type\":\"histogram2d\"}],\"histogram2dcontour\":[{\"colorbar\":{\"outlinewidth\":0,\"ticks\":\"\"},\"colorscale\":[[0.0,\"#0d0887\"],[0.1111111111111111,\"#46039f\"],[0.2222222222222222,\"#7201a8\"],[0.3333333333333333,\"#9c179e\"],[0.4444444444444444,\"#bd3786\"],[0.5555555555555556,\"#d8576b\"],[0.6666666666666666,\"#ed7953\"],[0.7777777777777778,\"#fb9f3a\"],[0.8888888888888888,\"#fdca26\"],[1.0,\"#f0f921\"]],\"type\":\"histogram2dcontour\"}],\"mesh3d\":[{\"colorbar\":{\"outlinewidth\":0,\"ticks\":\"\"},\"type\":\"mesh3d\"}],\"parcoords\":[{\"line\":{\"colorbar\":{\"outlinewidth\":0,\"ticks\":\"\"}},\"type\":\"parcoords\"}],\"pie\":[{\"automargin\":true,\"type\":\"pie\"}],\"scatter\":[{\"marker\":{\"colorbar\":{\"outlinewidth\":0,\"ticks\":\"\"}},\"type\":\"scatter\"}],\"scatter3d\":[{\"line\":{\"colorbar\":{\"outlinewidth\":0,\"ticks\":\"\"}},\"marker\":{\"colorbar\":{\"outlinewidth\":0,\"ticks\":\"\"}},\"type\":\"scatter3d\"}],\"scattercarpet\":[{\"marker\":{\"colorbar\":{\"outlinewidth\":0,\"ticks\":\"\"}},\"type\":\"scattercarpet\"}],\"scattergeo\":[{\"marker\":{\"colorbar\":{\"outlinewidth\":0,\"ticks\":\"\"}},\"type\":\"scattergeo\"}],\"scattergl\":[{\"marker\":{\"colorbar\":{\"outlinewidth\":0,\"ticks\":\"\"}},\"type\":\"scattergl\"}],\"scattermapbox\":[{\"marker\":{\"colorbar\":{\"outlinewidth\":0,\"ticks\":\"\"}},\"type\":\"scattermapbox\"}],\"scatterpolar\":[{\"marker\":{\"colorbar\":{\"outlinewidth\":0,\"ticks\":\"\"}},\"type\":\"scatterpolar\"}],\"scatterpolargl\":[{\"marker\":{\"colorbar\":{\"outlinewidth\":0,\"ticks\":\"\"}},\"type\":\"scatterpolargl\"}],\"scatterternary\":[{\"marker\":{\"colorbar\":{\"outlinewidth\":0,\"ticks\":\"\"}},\"type\":\"scatterternary\"}],\"surface\":[{\"colorbar\":{\"outlinewidth\":0,\"ticks\":\"\"},\"colorscale\":[[0.0,\"#0d0887\"],[0.1111111111111111,\"#46039f\"],[0.2222222222222222,\"#7201a8\"],[0.3333333333333333,\"#9c179e\"],[0.4444444444444444,\"#bd3786\"],[0.5555555555555556,\"#d8576b\"],[0.6666666666666666,\"#ed7953\"],[0.7777777777777778,\"#fb9f3a\"],[0.8888888888888888,\"#fdca26\"],[1.0,\"#f0f921\"]],\"type\":\"surface\"}],\"table\":[{\"cells\":{\"fill\":{\"color\":\"#EBF0F8\"},\"line\":{\"color\":\"white\"}},\"header\":{\"fill\":{\"color\":\"#C8D4E3\"},\"line\":{\"color\":\"white\"}},\"type\":\"table\"}]},\"layout\":{\"annotationdefaults\":{\"arrowcolor\":\"#2a3f5f\",\"arrowhead\":0,\"arrowwidth\":1},\"autotypenumbers\":\"strict\",\"coloraxis\":{\"colorbar\":{\"outlinewidth\":0,\"ticks\":\"\"}},\"colorscale\":{\"diverging\":[[0,\"#8e0152\"],[0.1,\"#c51b7d\"],[0.2,\"#de77ae\"],[0.3,\"#f1b6da\"],[0.4,\"#fde0ef\"],[0.5,\"#f7f7f7\"],[0.6,\"#e6f5d0\"],[0.7,\"#b8e186\"],[0.8,\"#7fbc41\"],[0.9,\"#4d9221\"],[1,\"#276419\"]],\"sequential\":[[0.0,\"#0d0887\"],[0.1111111111111111,\"#46039f\"],[0.2222222222222222,\"#7201a8\"],[0.3333333333333333,\"#9c179e\"],[0.4444444444444444,\"#bd3786\"],[0.5555555555555556,\"#d8576b\"],[0.6666666666666666,\"#ed7953\"],[0.7777777777777778,\"#fb9f3a\"],[0.8888888888888888,\"#fdca26\"],[1.0,\"#f0f921\"]],\"sequentialminus\":[[0.0,\"#0d0887\"],[0.1111111111111111,\"#46039f\"],[0.2222222222222222,\"#7201a8\"],[0.3333333333333333,\"#9c179e\"],[0.4444444444444444,\"#bd3786\"],[0.5555555555555556,\"#d8576b\"],[0.6666666666666666,\"#ed7953\"],[0.7777777777777778,\"#fb9f3a\"],[0.8888888888888888,\"#fdca26\"],[1.0,\"#f0f921\"]]},\"colorway\":[\"#636efa\",\"#EF553B\",\"#00cc96\",\"#ab63fa\",\"#FFA15A\",\"#19d3f3\",\"#FF6692\",\"#B6E880\",\"#FF97FF\",\"#FECB52\"],\"font\":{\"color\":\"#2a3f5f\"},\"geo\":{\"bgcolor\":\"white\",\"lakecolor\":\"white\",\"landcolor\":\"#E5ECF6\",\"showlakes\":true,\"showland\":true,\"subunitcolor\":\"white\"},\"hoverlabel\":{\"align\":\"left\"},\"hovermode\":\"closest\",\"mapbox\":{\"style\":\"light\"},\"paper_bgcolor\":\"white\",\"plot_bgcolor\":\"#E5ECF6\",\"polar\":{\"angularaxis\":{\"gridcolor\":\"white\",\"linecolor\":\"white\",\"ticks\":\"\"},\"bgcolor\":\"#E5ECF6\",\"radialaxis\":{\"gridcolor\":\"white\",\"linecolor\":\"white\",\"ticks\":\"\"}},\"scene\":{\"xaxis\":{\"backgroundcolor\":\"#E5ECF6\",\"gridcolor\":\"white\",\"gridwidth\":2,\"linecolor\":\"white\",\"showbackground\":true,\"ticks\":\"\",\"zerolinecolor\":\"white\"},\"yaxis\":{\"backgroundcolor\":\"#E5ECF6\",\"gridcolor\":\"white\",\"gridwidth\":2,\"linecolor\":\"white\",\"showbackground\":true,\"ticks\":\"\",\"zerolinecolor\":\"white\"},\"zaxis\":{\"backgroundcolor\":\"#E5ECF6\",\"gridcolor\":\"white\",\"gridwidth\":2,\"linecolor\":\"white\",\"showbackground\":true,\"ticks\":\"\",\"zerolinecolor\":\"white\"}},\"shapedefaults\":{\"line\":{\"color\":\"#2a3f5f\"}},\"ternary\":{\"aaxis\":{\"gridcolor\":\"white\",\"linecolor\":\"white\",\"ticks\":\"\"},\"baxis\":{\"gridcolor\":\"white\",\"linecolor\":\"white\",\"ticks\":\"\"},\"bgcolor\":\"#E5ECF6\",\"caxis\":{\"gridcolor\":\"white\",\"linecolor\":\"white\",\"ticks\":\"\"}},\"title\":{\"x\":0.05},\"xaxis\":{\"automargin\":true,\"gridcolor\":\"white\",\"linecolor\":\"white\",\"ticks\":\"\",\"title\":{\"standoff\":15},\"zerolinecolor\":\"white\",\"zerolinewidth\":2},\"yaxis\":{\"automargin\":true,\"gridcolor\":\"white\",\"linecolor\":\"white\",\"ticks\":\"\",\"title\":{\"standoff\":15},\"zerolinecolor\":\"white\",\"zerolinewidth\":2}}}},                        {\"responsive\": true}                    ).then(function(){\n                            \nvar gd = document.getElementById('94acf92d-e5ba-4c65-b5df-5418e2e7606d');\nvar x = new MutationObserver(function (mutations, observer) {{\n        var display = window.getComputedStyle(gd).display;\n        if (!display || display === 'none') {{\n            console.log([gd, 'removed!']);\n            Plotly.purge(gd);\n            observer.disconnect();\n        }}\n}});\n\n// Listen for the removal of the full notebook cells\nvar notebookContainer = gd.closest('#notebook-container');\nif (notebookContainer) {{\n    x.observe(notebookContainer, {childList: true});\n}}\n\n// Listen for the clearing of the current output cell\nvar outputEl = gd.closest('.output');\nif (outputEl) {{\n    x.observe(outputEl, {childList: true});\n}}\n\n                        })                };                            </script>        </div>\n</body>\n</html>"
     },
     "metadata": {},
     "output_type": "display_data"
    }
   ]
  },
  {
   "cell_type": "code",
   "metadata": {
    "cell_id": "f86d7181-2d48-4d19-832d-4e6efb3ee334",
    "tags": [],
    "deepnote_to_be_reexecuted": true,
    "source_hash": "d751d54b",
    "execution_start": 1647953961763,
    "execution_millis": 9,
    "deepnote_cell_type": "code",
    "deepnote_cell_height": 148
   },
   "source": "\n\nprint (len(train),len(test))",
   "execution_count": null,
   "outputs": [
    {
     "name": "stdout",
     "text": "70 12\n",
     "output_type": "stream"
    }
   ]
  },
  {
   "cell_type": "code",
   "metadata": {
    "cell_id": "656c85a9-9ca1-4739-bb18-82c1b828caea",
    "tags": [],
    "deepnote_to_be_reexecuted": true,
    "source_hash": "262dc0c1",
    "execution_start": 1647954871983,
    "execution_millis": 2,
    "deepnote_table_state": {
     "pageSize": 10,
     "pageIndex": 0,
     "filters": [],
     "sortBy": []
    },
    "deepnote_table_loading": false,
    "deepnote_table_invalid": false,
    "deepnote_cell_type": "code",
    "deepnote_cell_height": 360
   },
   "source": "# Initial training period.\ninitial= 30*len(train)\ninitial= str(initial)+' days'\n#Period length that we perform the cross validation for.\nperiod= 30*len(test)\nperiod=str(period)+' days'\n#Horizon of prediction essentially for each fold.\nhorizon = 30*12\nhorizon=str(horizon)+' days'\nfb_cv=cross_validation(m,initial=initial,period=period,\nhorizon=horizon)\n# Performance Metrics of fb_cv\nperformance_metrics(fb_cv)",
   "execution_count": null,
   "outputs": [
    {
     "output_type": "error",
     "ename": "ValueError",
     "evalue": "Less data than horizon after initial window. Make horizon or initial shorter.",
     "traceback": [
      "\u001b[0;31m---------------------------------------------------------------------------\u001b[0m",
      "\u001b[0;31mValueError\u001b[0m                                Traceback (most recent call last)",
      "\u001b[0;32m<ipython-input-41-94835a309f8d>\u001b[0m in \u001b[0;36m<module>\u001b[0;34m\u001b[0m\n\u001b[1;32m     10\u001b[0m \u001b[0mhorizon\u001b[0m\u001b[0;34m=\u001b[0m\u001b[0mstr\u001b[0m\u001b[0;34m(\u001b[0m\u001b[0mhorizon\u001b[0m\u001b[0;34m)\u001b[0m\u001b[0;34m+\u001b[0m\u001b[0;34m' days'\u001b[0m\u001b[0;34m\u001b[0m\u001b[0;34m\u001b[0m\u001b[0m\n\u001b[1;32m     11\u001b[0m fb_cv=cross_validation(m,initial=initial,period=period,\n\u001b[0;32m---> 12\u001b[0;31m horizon=horizon)\n\u001b[0m\u001b[1;32m     13\u001b[0m \u001b[0;31m# Performance Metrics of fb_cv\u001b[0m\u001b[0;34m\u001b[0m\u001b[0;34m\u001b[0m\u001b[0;34m\u001b[0m\u001b[0m\n\u001b[1;32m     14\u001b[0m \u001b[0mperformance_metrics\u001b[0m\u001b[0;34m(\u001b[0m\u001b[0mfb_cv\u001b[0m\u001b[0;34m)\u001b[0m\u001b[0;34m\u001b[0m\u001b[0;34m\u001b[0m\u001b[0m\n",
      "\u001b[0;32m~/venv/lib/python3.7/site-packages/prophet/diagnostics.py\u001b[0m in \u001b[0;36mcross_validation\u001b[0;34m(model, horizon, period, initial, parallel, cutoffs, disable_tqdm)\u001b[0m\n\u001b[1;32m    140\u001b[0m \u001b[0;34m\u001b[0m\u001b[0m\n\u001b[1;32m    141\u001b[0m         \u001b[0;31m# Compute Cutoffs\u001b[0m\u001b[0;34m\u001b[0m\u001b[0;34m\u001b[0m\u001b[0;34m\u001b[0m\u001b[0m\n\u001b[0;32m--> 142\u001b[0;31m         \u001b[0mcutoffs\u001b[0m \u001b[0;34m=\u001b[0m \u001b[0mgenerate_cutoffs\u001b[0m\u001b[0;34m(\u001b[0m\u001b[0mdf\u001b[0m\u001b[0;34m,\u001b[0m \u001b[0mhorizon\u001b[0m\u001b[0;34m,\u001b[0m \u001b[0minitial\u001b[0m\u001b[0;34m,\u001b[0m \u001b[0mperiod\u001b[0m\u001b[0;34m)\u001b[0m\u001b[0;34m\u001b[0m\u001b[0;34m\u001b[0m\u001b[0m\n\u001b[0m\u001b[1;32m    143\u001b[0m     \u001b[0;32melse\u001b[0m\u001b[0;34m:\u001b[0m\u001b[0;34m\u001b[0m\u001b[0;34m\u001b[0m\u001b[0m\n\u001b[1;32m    144\u001b[0m         \u001b[0;31m# add validation of the cutoff to make sure that the min cutoff is strictly greater than the min date in the history\u001b[0m\u001b[0;34m\u001b[0m\u001b[0;34m\u001b[0m\u001b[0;34m\u001b[0m\u001b[0m\n",
      "\u001b[0;32m~/venv/lib/python3.7/site-packages/prophet/diagnostics.py\u001b[0m in \u001b[0;36mgenerate_cutoffs\u001b[0;34m(df, horizon, initial, period)\u001b[0m\n\u001b[1;32m     50\u001b[0m     \u001b[0;32mif\u001b[0m \u001b[0mlen\u001b[0m\u001b[0;34m(\u001b[0m\u001b[0mresult\u001b[0m\u001b[0;34m)\u001b[0m \u001b[0;34m==\u001b[0m \u001b[0;36m0\u001b[0m\u001b[0;34m:\u001b[0m\u001b[0;34m\u001b[0m\u001b[0;34m\u001b[0m\u001b[0m\n\u001b[1;32m     51\u001b[0m         raise ValueError(\n\u001b[0;32m---> 52\u001b[0;31m             \u001b[0;34m'Less data than horizon after initial window. '\u001b[0m\u001b[0;34m\u001b[0m\u001b[0;34m\u001b[0m\u001b[0m\n\u001b[0m\u001b[1;32m     53\u001b[0m             \u001b[0;34m'Make horizon or initial shorter.'\u001b[0m\u001b[0;34m\u001b[0m\u001b[0;34m\u001b[0m\u001b[0m\n\u001b[1;32m     54\u001b[0m         )\n",
      "\u001b[0;31mValueError\u001b[0m: Less data than horizon after initial window. Make horizon or initial shorter."
     ]
    }
   ]
  },
  {
   "cell_type": "code",
   "metadata": {
    "cell_id": "d2fdfa01-257a-4c38-9986-dbc90e35d1ca",
    "tags": [],
    "deepnote_to_be_reexecuted": true,
    "source_hash": "22d7ddf6",
    "execution_start": 1647720511133,
    "execution_millis": 49,
    "deepnote_table_state": {
     "pageSize": 10,
     "pageIndex": 7,
     "filters": [],
     "sortBy": []
    },
    "deepnote_table_loading": false,
    "deepnote_cell_type": "code",
    "deepnote_cell_height": 292
   },
   "source": "#MAE attempt\ni=0\nerror = []\nwhile i<len(test):\n    x = forecast.iloc[i][\"trend\"]\n    y = test.iloc[i][\"y\"]\n    error.append(abs(y-x))\n    i += 1\nMAE = sum(error)/len(error)\nprint(MAE)\n",
   "execution_count": null,
   "outputs": [
    {
     "name": "stdout",
     "text": "185.533354166541\n",
     "output_type": "stream"
    }
   ]
  },
  {
   "cell_type": "code",
   "metadata": {
    "cell_id": "a25c4f4c-9fe8-4328-b408-2b00abb5bb45",
    "tags": [],
    "deepnote_to_be_reexecuted": true,
    "source_hash": "948105a4",
    "execution_start": 1647720443964,
    "execution_millis": 24,
    "deepnote_cell_type": "code",
    "deepnote_cell_height": 274
   },
   "source": "#MSE attempt\ni=0\nerror = []\nwhile i<len(test):\n    x = forecast.iloc[i][\"trend\"]\n    y = test.iloc[i][\"y\"]\n    error.append((y-x)**2)\n    i += 1\nMSE = sum(error)/len(error)\nprint(MSE)",
   "execution_count": null,
   "outputs": [
    {
     "name": "stdout",
     "text": "41269.63760132087\n",
     "output_type": "stream"
    }
   ]
  },
  {
   "cell_type": "markdown",
   "source": "## Hyperparameter tuning",
   "metadata": {
    "cell_id": "6676281032e64720be5ccb5efdc9ee2c",
    "tags": [],
    "deepnote_cell_type": "markdown",
    "deepnote_cell_height": 70
   }
  },
  {
   "cell_type": "code",
   "metadata": {
    "cell_id": "e818cd90198b4cdaa901479ab351efff",
    "tags": [],
    "deepnote_to_be_reexecuted": false,
    "source_hash": "78c3e5e4",
    "execution_start": 1648153314904,
    "execution_millis": 1996519,
    "deepnote_cell_type": "code",
    "deepnote_cell_height": 1151
   },
   "source": "import itertools\nimport numpy as np\nimport pandas as pd\n\nparam_grid = {  \n    'changepoint_prior_scale': [0.001, 0.01, 0.1, 0.5],\n    'seasonality_prior_scale': [0.01, 0.1, 1.0, 10.0],\n    'seasonality_mode': ['additive', 'multiplicative'],\n    'holidays_prior_scale': [0.01, 0.1, 1.0, 10.0]\n}\n\n# Generate all combinations of parameters\nall_params = [dict(zip(param_grid.keys(), v)) for v in itertools.product(*param_grid.values())]\nrmses = []  # Store the RMSEs for each params here\n\n# Use cross validation to evaluate all parameters\nfor params in tq.tqdm(all_params):\n    m = Prophet(**params).fit(df2)  # Fit model with given params\n    df_cv = cross_validation(m, horizon=61,period 30, initial =70*30, parallel=\"processes\") # add cutoffs?\n    df_p = performance_metrics(df_cv, rolling_window=1)\n    rmses.append(df_p['rmse'].values[0])\n\n# Find the best parameters\ntuning_results = pd.DataFrame(all_params)\ntuning_results['rmse'] = rmses\nprint(tuning_results)",
   "execution_count": null,
   "outputs": [
    {
     "name": "stderr",
     "text": "  0%|          | 0/128 [00:00<?, ?it/s]INFO:prophet:Disabling weekly seasonality. Run prophet with weekly_seasonality=True to override this.\nINFO:prophet:Disabling daily seasonality. Run prophet with daily_seasonality=True to override this.\nINFO:prophet:Making 6 forecasts with cutoffs between 2018-04-02 12:00:00 and 2020-10-01 00:00:00\nINFO:prophet:Applying in parallel with <concurrent.futures.process.ProcessPoolExecutor object at 0x7faaad132790>\n  1%|          | 1/128 [00:18<39:05, 18.46s/it]INFO:prophet:Disabling weekly seasonality. Run prophet with weekly_seasonality=True to override this.\nINFO:prophet:Disabling daily seasonality. Run prophet with daily_seasonality=True to override this.\nINFO:prophet:Making 6 forecasts with cutoffs between 2018-04-02 12:00:00 and 2020-10-01 00:00:00\nINFO:prophet:Applying in parallel with <concurrent.futures.process.ProcessPoolExecutor object at 0x7faaacb3e550>\n  2%|▏         | 2/128 [00:38<40:46, 19.41s/it]INFO:prophet:Disabling weekly seasonality. Run prophet with weekly_seasonality=True to override this.\nINFO:prophet:Disabling daily seasonality. Run prophet with daily_seasonality=True to override this.\nINFO:prophet:Making 6 forecasts with cutoffs between 2018-04-02 12:00:00 and 2020-10-01 00:00:00\nINFO:prophet:Applying in parallel with <concurrent.futures.process.ProcessPoolExecutor object at 0x7faaad132790>\n  2%|▏         | 3/128 [00:58<40:30, 19.45s/it]INFO:prophet:Disabling weekly seasonality. Run prophet with weekly_seasonality=True to override this.\nINFO:prophet:Disabling daily seasonality. Run prophet with daily_seasonality=True to override this.\nINFO:prophet:Making 6 forecasts with cutoffs between 2018-04-02 12:00:00 and 2020-10-01 00:00:00\nINFO:prophet:Applying in parallel with <concurrent.futures.process.ProcessPoolExecutor object at 0x7faac98e1d10>\n  3%|▎         | 4/128 [01:15<38:58, 18.86s/it]INFO:prophet:Disabling weekly seasonality. Run prophet with weekly_seasonality=True to override this.\nINFO:prophet:Disabling daily seasonality. Run prophet with daily_seasonality=True to override this.\nINFO:prophet:Making 6 forecasts with cutoffs between 2018-04-02 12:00:00 and 2020-10-01 00:00:00\nINFO:prophet:Applying in parallel with <concurrent.futures.process.ProcessPoolExecutor object at 0x7faaacb438d0>\n  4%|▍         | 5/128 [01:31<36:14, 17.68s/it]INFO:prophet:Disabling weekly seasonality. Run prophet with weekly_seasonality=True to override this.\nINFO:prophet:Disabling daily seasonality. Run prophet with daily_seasonality=True to override this.\nINFO:prophet:Making 6 forecasts with cutoffs between 2018-04-02 12:00:00 and 2020-10-01 00:00:00\nINFO:prophet:Applying in parallel with <concurrent.futures.process.ProcessPoolExecutor object at 0x7faaad11e690>\n  5%|▍         | 6/128 [01:47<34:45, 17.09s/it]INFO:prophet:Disabling weekly seasonality. Run prophet with weekly_seasonality=True to override this.\nINFO:prophet:Disabling daily seasonality. Run prophet with daily_seasonality=True to override this.\nINFO:prophet:Making 6 forecasts with cutoffs between 2018-04-02 12:00:00 and 2020-10-01 00:00:00\nINFO:prophet:Applying in parallel with <concurrent.futures.process.ProcessPoolExecutor object at 0x7faac9904990>\n  5%|▌         | 7/128 [02:03<33:51, 16.79s/it]INFO:prophet:Disabling weekly seasonality. Run prophet with weekly_seasonality=True to override this.\nINFO:prophet:Disabling daily seasonality. Run prophet with daily_seasonality=True to override this.\nINFO:prophet:Making 6 forecasts with cutoffs between 2018-04-02 12:00:00 and 2020-10-01 00:00:00\nINFO:prophet:Applying in parallel with <concurrent.futures.process.ProcessPoolExecutor object at 0x7faac98e1d90>\n  6%|▋         | 8/128 [02:19<33:09, 16.58s/it]INFO:prophet:Disabling weekly seasonality. Run prophet with weekly_seasonality=True to override this.\nINFO:prophet:Disabling daily seasonality. Run prophet with daily_seasonality=True to override this.\nINFO:prophet:Making 6 forecasts with cutoffs between 2018-04-02 12:00:00 and 2020-10-01 00:00:00\nINFO:prophet:Applying in parallel with <concurrent.futures.process.ProcessPoolExecutor object at 0x7faac98e1bd0>\n  7%|▋         | 9/128 [02:33<30:49, 15.55s/it]INFO:prophet:Disabling weekly seasonality. Run prophet with weekly_seasonality=True to override this.\nINFO:prophet:Disabling daily seasonality. Run prophet with daily_seasonality=True to override this.\nINFO:prophet:Making 6 forecasts with cutoffs between 2018-04-02 12:00:00 and 2020-10-01 00:00:00\nINFO:prophet:Applying in parallel with <concurrent.futures.process.ProcessPoolExecutor object at 0x7faaad117850>\n  8%|▊         | 10/128 [02:46<29:30, 15.01s/it]INFO:prophet:Disabling weekly seasonality. Run prophet with weekly_seasonality=True to override this.\nINFO:prophet:Disabling daily seasonality. Run prophet with daily_seasonality=True to override this.\nINFO:prophet:Making 6 forecasts with cutoffs between 2018-04-02 12:00:00 and 2020-10-01 00:00:00\nINFO:prophet:Applying in parallel with <concurrent.futures.process.ProcessPoolExecutor object at 0x7faac98f7bd0>\n  9%|▊         | 11/128 [03:01<28:43, 14.73s/it]INFO:prophet:Disabling weekly seasonality. Run prophet with weekly_seasonality=True to override this.\nINFO:prophet:Disabling daily seasonality. Run prophet with daily_seasonality=True to override this.\nINFO:prophet:Making 6 forecasts with cutoffs between 2018-04-02 12:00:00 and 2020-10-01 00:00:00\nINFO:prophet:Applying in parallel with <concurrent.futures.process.ProcessPoolExecutor object at 0x7faaad113850>\n  9%|▉         | 12/128 [03:14<27:49, 14.39s/it]INFO:prophet:Disabling weekly seasonality. Run prophet with weekly_seasonality=True to override this.\nINFO:prophet:Disabling daily seasonality. Run prophet with daily_seasonality=True to override this.\nINFO:prophet:Making 6 forecasts with cutoffs between 2018-04-02 12:00:00 and 2020-10-01 00:00:00\nINFO:prophet:Applying in parallel with <concurrent.futures.process.ProcessPoolExecutor object at 0x7faaad1069d0>\n 10%|█         | 13/128 [03:27<26:53, 14.03s/it]INFO:prophet:Disabling weekly seasonality. Run prophet with weekly_seasonality=True to override this.\nINFO:prophet:Disabling daily seasonality. Run prophet with daily_seasonality=True to override this.\nINFO:prophet:Making 6 forecasts with cutoffs between 2018-04-02 12:00:00 and 2020-10-01 00:00:00\nINFO:prophet:Applying in parallel with <concurrent.futures.process.ProcessPoolExecutor object at 0x7faaacb3e410>\n 11%|█         | 14/128 [03:41<26:17, 13.84s/it]INFO:prophet:Disabling weekly seasonality. Run prophet with weekly_seasonality=True to override this.\nINFO:prophet:Disabling daily seasonality. Run prophet with daily_seasonality=True to override this.\nINFO:prophet:Making 6 forecasts with cutoffs between 2018-04-02 12:00:00 and 2020-10-01 00:00:00\nINFO:prophet:Applying in parallel with <concurrent.futures.process.ProcessPoolExecutor object at 0x7faac99028d0>\n 12%|█▏        | 15/128 [03:54<25:40, 13.63s/it]INFO:prophet:Disabling weekly seasonality. Run prophet with weekly_seasonality=True to override this.\nINFO:prophet:Disabling daily seasonality. Run prophet with daily_seasonality=True to override this.\nINFO:prophet:Making 6 forecasts with cutoffs between 2018-04-02 12:00:00 and 2020-10-01 00:00:00\nINFO:prophet:Applying in parallel with <concurrent.futures.process.ProcessPoolExecutor object at 0x7faaacb3e410>\n 12%|█▎        | 16/128 [04:07<25:07, 13.46s/it]INFO:prophet:Disabling weekly seasonality. Run prophet with weekly_seasonality=True to override this.\nINFO:prophet:Disabling daily seasonality. Run prophet with daily_seasonality=True to override this.\nINFO:prophet:Making 6 forecasts with cutoffs between 2018-04-02 12:00:00 and 2020-10-01 00:00:00\nINFO:prophet:Applying in parallel with <concurrent.futures.process.ProcessPoolExecutor object at 0x7faac98f7bd0>\n 13%|█▎        | 17/128 [04:24<26:42, 14.44s/it]INFO:prophet:Disabling weekly seasonality. Run prophet with weekly_seasonality=True to override this.\nINFO:prophet:Disabling daily seasonality. Run prophet with daily_seasonality=True to override this.\nINFO:prophet:Making 6 forecasts with cutoffs between 2018-04-02 12:00:00 and 2020-10-01 00:00:00\nINFO:prophet:Applying in parallel with <concurrent.futures.process.ProcessPoolExecutor object at 0x7faaad15cc90>\n 14%|█▍        | 18/128 [04:40<27:36, 15.06s/it]INFO:prophet:Disabling weekly seasonality. Run prophet with weekly_seasonality=True to override this.\nINFO:prophet:Disabling daily seasonality. Run prophet with daily_seasonality=True to override this.\nINFO:prophet:Making 6 forecasts with cutoffs between 2018-04-02 12:00:00 and 2020-10-01 00:00:00\nINFO:prophet:Applying in parallel with <concurrent.futures.process.ProcessPoolExecutor object at 0x7faaad132790>\n 15%|█▍        | 19/128 [04:56<27:49, 15.32s/it]INFO:prophet:Disabling weekly seasonality. Run prophet with weekly_seasonality=True to override this.\nINFO:prophet:Disabling daily seasonality. Run prophet with daily_seasonality=True to override this.\nINFO:prophet:Making 6 forecasts with cutoffs between 2018-04-02 12:00:00 and 2020-10-01 00:00:00\nINFO:prophet:Applying in parallel with <concurrent.futures.process.ProcessPoolExecutor object at 0x7faac9919f50>\n 16%|█▌        | 20/128 [05:12<27:38, 15.35s/it]INFO:prophet:Disabling weekly seasonality. Run prophet with weekly_seasonality=True to override this.\nINFO:prophet:Disabling daily seasonality. Run prophet with daily_seasonality=True to override this.\nINFO:prophet:Making 6 forecasts with cutoffs between 2018-04-02 12:00:00 and 2020-10-01 00:00:00\nINFO:prophet:Applying in parallel with <concurrent.futures.process.ProcessPoolExecutor object at 0x7faaad133490>\n 16%|█▋        | 21/128 [05:25<26:10, 14.68s/it]INFO:prophet:Disabling weekly seasonality. Run prophet with weekly_seasonality=True to override this.\nINFO:prophet:Disabling daily seasonality. Run prophet with daily_seasonality=True to override this.\nINFO:prophet:Making 6 forecasts with cutoffs between 2018-04-02 12:00:00 and 2020-10-01 00:00:00\nINFO:prophet:Applying in parallel with <concurrent.futures.process.ProcessPoolExecutor object at 0x7faac9902710>\n 17%|█▋        | 22/128 [05:38<25:04, 14.19s/it]INFO:prophet:Disabling weekly seasonality. Run prophet with weekly_seasonality=True to override this.\nINFO:prophet:Disabling daily seasonality. Run prophet with daily_seasonality=True to override this.\nINFO:prophet:Making 6 forecasts with cutoffs between 2018-04-02 12:00:00 and 2020-10-01 00:00:00\nINFO:prophet:Applying in parallel with <concurrent.futures.process.ProcessPoolExecutor object at 0x7faaacb4b510>\n 18%|█▊        | 23/128 [05:51<24:15, 13.87s/it]INFO:prophet:Disabling weekly seasonality. Run prophet with weekly_seasonality=True to override this.\nINFO:prophet:Disabling daily seasonality. Run prophet with daily_seasonality=True to override this.\nINFO:prophet:Making 6 forecasts with cutoffs between 2018-04-02 12:00:00 and 2020-10-01 00:00:00\nINFO:prophet:Applying in parallel with <concurrent.futures.process.ProcessPoolExecutor object at 0x7faaacb3e110>\n 19%|█▉        | 24/128 [06:04<23:38, 13.64s/it]INFO:prophet:Disabling weekly seasonality. Run prophet with weekly_seasonality=True to override this.\nINFO:prophet:Disabling daily seasonality. Run prophet with daily_seasonality=True to override this.\nINFO:prophet:Making 6 forecasts with cutoffs between 2018-04-02 12:00:00 and 2020-10-01 00:00:00\nINFO:prophet:Applying in parallel with <concurrent.futures.process.ProcessPoolExecutor object at 0x7faaacb3e3d0>\n 20%|█▉        | 25/128 [06:20<24:32, 14.29s/it]INFO:prophet:Disabling weekly seasonality. Run prophet with weekly_seasonality=True to override this.\nINFO:prophet:Disabling daily seasonality. Run prophet with daily_seasonality=True to override this.\nINFO:prophet:Making 6 forecasts with cutoffs between 2018-04-02 12:00:00 and 2020-10-01 00:00:00\nINFO:prophet:Applying in parallel with <concurrent.futures.process.ProcessPoolExecutor object at 0x7faac9905390>\n 20%|██        | 26/128 [06:35<24:53, 14.64s/it]INFO:prophet:Disabling weekly seasonality. Run prophet with weekly_seasonality=True to override this.\nINFO:prophet:Disabling daily seasonality. Run prophet with daily_seasonality=True to override this.\nINFO:prophet:Making 6 forecasts with cutoffs between 2018-04-02 12:00:00 and 2020-10-01 00:00:00\nINFO:prophet:Applying in parallel with <concurrent.futures.process.ProcessPoolExecutor object at 0x7faac9919690>\n 21%|██        | 27/128 [06:51<25:08, 14.94s/it]INFO:prophet:Disabling weekly seasonality. Run prophet with weekly_seasonality=True to override this.\nINFO:prophet:Disabling daily seasonality. Run prophet with daily_seasonality=True to override this.\nINFO:prophet:Making 6 forecasts with cutoffs between 2018-04-02 12:00:00 and 2020-10-01 00:00:00\nINFO:prophet:Applying in parallel with <concurrent.futures.process.ProcessPoolExecutor object at 0x7faac9914150>\n 22%|██▏       | 28/128 [07:07<25:22, 15.22s/it]INFO:prophet:Disabling weekly seasonality. Run prophet with weekly_seasonality=True to override this.\nINFO:prophet:Disabling daily seasonality. Run prophet with daily_seasonality=True to override this.\nINFO:prophet:Making 6 forecasts with cutoffs between 2018-04-02 12:00:00 and 2020-10-01 00:00:00\nINFO:prophet:Applying in parallel with <concurrent.futures.process.ProcessPoolExecutor object at 0x7faac9912b90>\n 23%|██▎       | 29/128 [07:19<23:51, 14.46s/it]INFO:prophet:Disabling weekly seasonality. Run prophet with weekly_seasonality=True to override this.\nINFO:prophet:Disabling daily seasonality. Run prophet with daily_seasonality=True to override this.\nINFO:prophet:Making 6 forecasts with cutoffs between 2018-04-02 12:00:00 and 2020-10-01 00:00:00\nINFO:prophet:Applying in parallel with <concurrent.futures.process.ProcessPoolExecutor object at 0x7faaacb3e110>\n 23%|██▎       | 30/128 [07:32<22:44, 13.92s/it]INFO:prophet:Disabling weekly seasonality. Run prophet with weekly_seasonality=True to override this.\nINFO:prophet:Disabling daily seasonality. Run prophet with daily_seasonality=True to override this.\nINFO:prophet:Making 6 forecasts with cutoffs between 2018-04-02 12:00:00 and 2020-10-01 00:00:00\nINFO:prophet:Applying in parallel with <concurrent.futures.process.ProcessPoolExecutor object at 0x7faac991ab10>\n 24%|██▍       | 31/128 [07:45<21:54, 13.55s/it]INFO:prophet:Disabling weekly seasonality. Run prophet with weekly_seasonality=True to override this.\nINFO:prophet:Disabling daily seasonality. Run prophet with daily_seasonality=True to override this.\nINFO:prophet:Making 6 forecasts with cutoffs between 2018-04-02 12:00:00 and 2020-10-01 00:00:00\nINFO:prophet:Applying in parallel with <concurrent.futures.process.ProcessPoolExecutor object at 0x7faaacb3e110>\n 25%|██▌       | 32/128 [07:57<21:12, 13.26s/it]INFO:prophet:Disabling weekly seasonality. Run prophet with weekly_seasonality=True to override this.\nINFO:prophet:Disabling daily seasonality. Run prophet with daily_seasonality=True to override this.\nINFO:prophet:Making 6 forecasts with cutoffs between 2018-04-02 12:00:00 and 2020-10-01 00:00:00\nINFO:prophet:Applying in parallel with <concurrent.futures.process.ProcessPoolExecutor object at 0x7faaacb4b510>\n 26%|██▌       | 33/128 [08:11<20:58, 13.25s/it]INFO:prophet:Disabling weekly seasonality. Run prophet with weekly_seasonality=True to override this.\nINFO:prophet:Disabling daily seasonality. Run prophet with daily_seasonality=True to override this.\nINFO:prophet:Making 6 forecasts with cutoffs between 2018-04-02 12:00:00 and 2020-10-01 00:00:00\nINFO:prophet:Applying in parallel with <concurrent.futures.process.ProcessPoolExecutor object at 0x7faaad125910>\n 27%|██▋       | 34/128 [08:24<20:41, 13.21s/it]INFO:prophet:Disabling weekly seasonality. Run prophet with weekly_seasonality=True to override this.\nINFO:prophet:Disabling daily seasonality. Run prophet with daily_seasonality=True to override this.\nINFO:prophet:Making 6 forecasts with cutoffs between 2018-04-02 12:00:00 and 2020-10-01 00:00:00\nINFO:prophet:Applying in parallel with <concurrent.futures.process.ProcessPoolExecutor object at 0x7faac9918d90>\n 27%|██▋       | 35/128 [08:37<20:46, 13.40s/it]INFO:prophet:Disabling weekly seasonality. Run prophet with weekly_seasonality=True to override this.\nINFO:prophet:Disabling daily seasonality. Run prophet with daily_seasonality=True to override this.\nINFO:prophet:Making 6 forecasts with cutoffs between 2018-04-02 12:00:00 and 2020-10-01 00:00:00\nINFO:prophet:Applying in parallel with <concurrent.futures.process.ProcessPoolExecutor object at 0x7faac9918a50>\n 28%|██▊       | 36/128 [08:52<20:54, 13.63s/it]INFO:prophet:Disabling weekly seasonality. Run prophet with weekly_seasonality=True to override this.\nINFO:prophet:Disabling daily seasonality. Run prophet with daily_seasonality=True to override this.\nINFO:prophet:Making 6 forecasts with cutoffs between 2018-04-02 12:00:00 and 2020-10-01 00:00:00\nINFO:prophet:Applying in parallel with <concurrent.futures.process.ProcessPoolExecutor object at 0x7faac989e450>\n 29%|██▉       | 37/128 [09:05<20:21, 13.43s/it]INFO:prophet:Disabling weekly seasonality. Run prophet with weekly_seasonality=True to override this.\nINFO:prophet:Disabling daily seasonality. Run prophet with daily_seasonality=True to override this.\nINFO:prophet:Making 6 forecasts with cutoffs between 2018-04-02 12:00:00 and 2020-10-01 00:00:00\nINFO:prophet:Applying in parallel with <concurrent.futures.process.ProcessPoolExecutor object at 0x7faac989e290>\n 30%|██▉       | 38/128 [09:17<19:49, 13.22s/it]INFO:prophet:Disabling weekly seasonality. Run prophet with weekly_seasonality=True to override this.\nINFO:prophet:Disabling daily seasonality. Run prophet with daily_seasonality=True to override this.\nINFO:prophet:Making 6 forecasts with cutoffs between 2018-04-02 12:00:00 and 2020-10-01 00:00:00\nINFO:prophet:Applying in parallel with <concurrent.futures.process.ProcessPoolExecutor object at 0x7faac989e450>\n 30%|███       | 39/128 [09:30<19:24, 13.08s/it]INFO:prophet:Disabling weekly seasonality. Run prophet with weekly_seasonality=True to override this.\nINFO:prophet:Disabling daily seasonality. Run prophet with daily_seasonality=True to override this.\nINFO:prophet:Making 6 forecasts with cutoffs between 2018-04-02 12:00:00 and 2020-10-01 00:00:00\nINFO:prophet:Applying in parallel with <concurrent.futures.process.ProcessPoolExecutor object at 0x7faac991a790>\n 31%|███▏      | 40/128 [09:43<19:05, 13.02s/it]INFO:prophet:Disabling weekly seasonality. Run prophet with weekly_seasonality=True to override this.\nINFO:prophet:Disabling daily seasonality. Run prophet with daily_seasonality=True to override this.\nINFO:prophet:Making 6 forecasts with cutoffs between 2018-04-02 12:00:00 and 2020-10-01 00:00:00\nINFO:prophet:Applying in parallel with <concurrent.futures.process.ProcessPoolExecutor object at 0x7faac991a350>\n 32%|███▏      | 41/128 [09:56<18:59, 13.09s/it]INFO:prophet:Disabling weekly seasonality. Run prophet with weekly_seasonality=True to override this.\nINFO:prophet:Disabling daily seasonality. Run prophet with daily_seasonality=True to override this.\nINFO:prophet:Making 6 forecasts with cutoffs between 2018-04-02 12:00:00 and 2020-10-01 00:00:00\nINFO:prophet:Applying in parallel with <concurrent.futures.process.ProcessPoolExecutor object at 0x7faac989eb90>\n 33%|███▎      | 42/128 [10:09<18:48, 13.13s/it]INFO:prophet:Disabling weekly seasonality. Run prophet with weekly_seasonality=True to override this.\nINFO:prophet:Disabling daily seasonality. Run prophet with daily_seasonality=True to override this.\nINFO:prophet:Making 6 forecasts with cutoffs between 2018-04-02 12:00:00 and 2020-10-01 00:00:00\nINFO:prophet:Applying in parallel with <concurrent.futures.process.ProcessPoolExecutor object at 0x7faac989c510>\n 34%|███▎      | 43/128 [10:23<18:35, 13.12s/it]INFO:prophet:Disabling weekly seasonality. Run prophet with weekly_seasonality=True to override this.\nINFO:prophet:Disabling daily seasonality. Run prophet with daily_seasonality=True to override this.\nINFO:prophet:Making 6 forecasts with cutoffs between 2018-04-02 12:00:00 and 2020-10-01 00:00:00\nINFO:prophet:Applying in parallel with <concurrent.futures.process.ProcessPoolExecutor object at 0x7faac9905390>\n 34%|███▍      | 44/128 [10:36<18:18, 13.08s/it]INFO:prophet:Disabling weekly seasonality. Run prophet with weekly_seasonality=True to override this.\nINFO:prophet:Disabling daily seasonality. Run prophet with daily_seasonality=True to override this.\nINFO:prophet:Making 6 forecasts with cutoffs between 2018-04-02 12:00:00 and 2020-10-01 00:00:00\nINFO:prophet:Applying in parallel with <concurrent.futures.process.ProcessPoolExecutor object at 0x7faac98a3450>\n 35%|███▌      | 45/128 [10:48<17:54, 12.94s/it]INFO:prophet:Disabling weekly seasonality. Run prophet with weekly_seasonality=True to override this.\nINFO:prophet:Disabling daily seasonality. Run prophet with daily_seasonality=True to override this.\nINFO:prophet:Making 6 forecasts with cutoffs between 2018-04-02 12:00:00 and 2020-10-01 00:00:00\nINFO:prophet:Applying in parallel with <concurrent.futures.process.ProcessPoolExecutor object at 0x7faaad113150>\n 36%|███▌      | 46/128 [11:01<17:37, 12.89s/it]INFO:prophet:Disabling weekly seasonality. Run prophet with weekly_seasonality=True to override this.\nINFO:prophet:Disabling daily seasonality. Run prophet with daily_seasonality=True to override this.\nINFO:prophet:Making 6 forecasts with cutoffs between 2018-04-02 12:00:00 and 2020-10-01 00:00:00\nINFO:prophet:Applying in parallel with <concurrent.futures.process.ProcessPoolExecutor object at 0x7faac9914150>\n 37%|███▋      | 47/128 [11:14<17:22, 12.88s/it]INFO:prophet:Disabling weekly seasonality. Run prophet with weekly_seasonality=True to override this.\nINFO:prophet:Disabling daily seasonality. Run prophet with daily_seasonality=True to override this.\nINFO:prophet:Making 6 forecasts with cutoffs between 2018-04-02 12:00:00 and 2020-10-01 00:00:00\nINFO:prophet:Applying in parallel with <concurrent.futures.process.ProcessPoolExecutor object at 0x7faac989e450>\n 38%|███▊      | 48/128 [11:26<17:05, 12.82s/it]INFO:prophet:Disabling weekly seasonality. Run prophet with weekly_seasonality=True to override this.\nINFO:prophet:Disabling daily seasonality. Run prophet with daily_seasonality=True to override this.\nINFO:prophet:Making 6 forecasts with cutoffs between 2018-04-02 12:00:00 and 2020-10-01 00:00:00\nINFO:prophet:Applying in parallel with <concurrent.futures.process.ProcessPoolExecutor object at 0x7faac989d4d0>\n 38%|███▊      | 49/128 [11:40<17:06, 12.99s/it]INFO:prophet:Disabling weekly seasonality. Run prophet with weekly_seasonality=True to override this.\nINFO:prophet:Disabling daily seasonality. Run prophet with daily_seasonality=True to override this.\nINFO:prophet:Making 6 forecasts with cutoffs between 2018-04-02 12:00:00 and 2020-10-01 00:00:00\nINFO:prophet:Applying in parallel with <concurrent.futures.process.ProcessPoolExecutor object at 0x7faac98fb0d0>\n 39%|███▉      | 50/128 [11:53<17:04, 13.14s/it]INFO:prophet:Disabling weekly seasonality. Run prophet with weekly_seasonality=True to override this.\nINFO:prophet:Disabling daily seasonality. Run prophet with daily_seasonality=True to override this.\nINFO:prophet:Making 6 forecasts with cutoffs between 2018-04-02 12:00:00 and 2020-10-01 00:00:00\nINFO:prophet:Applying in parallel with <concurrent.futures.process.ProcessPoolExecutor object at 0x7faac991a350>\n 40%|███▉      | 51/128 [12:07<16:57, 13.21s/it]INFO:prophet:Disabling weekly seasonality. Run prophet with weekly_seasonality=True to override this.\nINFO:prophet:Disabling daily seasonality. Run prophet with daily_seasonality=True to override this.\nINFO:prophet:Making 6 forecasts with cutoffs between 2018-04-02 12:00:00 and 2020-10-01 00:00:00\nINFO:prophet:Applying in parallel with <concurrent.futures.process.ProcessPoolExecutor object at 0x7faac9902490>\n 41%|████      | 52/128 [12:20<16:52, 13.32s/it]INFO:prophet:Disabling weekly seasonality. Run prophet with weekly_seasonality=True to override this.\nINFO:prophet:Disabling daily seasonality. Run prophet with daily_seasonality=True to override this.\nINFO:prophet:Making 6 forecasts with cutoffs between 2018-04-02 12:00:00 and 2020-10-01 00:00:00\nINFO:prophet:Applying in parallel with <concurrent.futures.process.ProcessPoolExecutor object at 0x7faac989e450>\n 41%|████▏     | 53/128 [12:34<16:43, 13.39s/it]INFO:prophet:Disabling weekly seasonality. Run prophet with weekly_seasonality=True to override this.\nINFO:prophet:Disabling daily seasonality. Run prophet with daily_seasonality=True to override this.\nINFO:prophet:Making 6 forecasts with cutoffs between 2018-04-02 12:00:00 and 2020-10-01 00:00:00\nINFO:prophet:Applying in parallel with <concurrent.futures.process.ProcessPoolExecutor object at 0x7faac9914a10>\n 42%|████▏     | 54/128 [12:47<16:34, 13.44s/it]INFO:prophet:Disabling weekly seasonality. Run prophet with weekly_seasonality=True to override this.\nINFO:prophet:Disabling daily seasonality. Run prophet with daily_seasonality=True to override this.\nINFO:prophet:Making 6 forecasts with cutoffs between 2018-04-02 12:00:00 and 2020-10-01 00:00:00\nINFO:prophet:Applying in parallel with <concurrent.futures.process.ProcessPoolExecutor object at 0x7faac991af50>\n 43%|████▎     | 55/128 [13:01<16:18, 13.41s/it]INFO:prophet:Disabling weekly seasonality. Run prophet with weekly_seasonality=True to override this.\nINFO:prophet:Disabling daily seasonality. Run prophet with daily_seasonality=True to override this.\nINFO:prophet:Making 6 forecasts with cutoffs between 2018-04-02 12:00:00 and 2020-10-01 00:00:00\nINFO:prophet:Applying in parallel with <concurrent.futures.process.ProcessPoolExecutor object at 0x7faac991ae90>\n 44%|████▍     | 56/128 [13:14<16:02, 13.37s/it]INFO:prophet:Disabling weekly seasonality. Run prophet with weekly_seasonality=True to override this.\nINFO:prophet:Disabling daily seasonality. Run prophet with daily_seasonality=True to override this.\nINFO:prophet:Making 6 forecasts with cutoffs between 2018-04-02 12:00:00 and 2020-10-01 00:00:00\nINFO:prophet:Applying in parallel with <concurrent.futures.process.ProcessPoolExecutor object at 0x7faaacb3e110>\n 45%|████▍     | 57/128 [13:27<15:40, 13.25s/it]INFO:prophet:Disabling weekly seasonality. Run prophet with weekly_seasonality=True to override this.\nINFO:prophet:Disabling daily seasonality. Run prophet with daily_seasonality=True to override this.\nINFO:prophet:Making 6 forecasts with cutoffs between 2018-04-02 12:00:00 and 2020-10-01 00:00:00\nINFO:prophet:Applying in parallel with <concurrent.futures.process.ProcessPoolExecutor object at 0x7faac98a2810>\n 45%|████▌     | 58/128 [13:40<15:21, 13.17s/it]INFO:prophet:Disabling weekly seasonality. Run prophet with weekly_seasonality=True to override this.\nINFO:prophet:Disabling daily seasonality. Run prophet with daily_seasonality=True to override this.\nINFO:prophet:Making 6 forecasts with cutoffs between 2018-04-02 12:00:00 and 2020-10-01 00:00:00\nINFO:prophet:Applying in parallel with <concurrent.futures.process.ProcessPoolExecutor object at 0x7faac98a6f50>\n 46%|████▌     | 59/128 [13:54<15:18, 13.31s/it]INFO:prophet:Disabling weekly seasonality. Run prophet with weekly_seasonality=True to override this.\nINFO:prophet:Disabling daily seasonality. Run prophet with daily_seasonality=True to override this.\nINFO:prophet:Making 6 forecasts with cutoffs between 2018-04-02 12:00:00 and 2020-10-01 00:00:00\nINFO:prophet:Applying in parallel with <concurrent.futures.process.ProcessPoolExecutor object at 0x7faac98a6a10>\n 47%|████▋     | 60/128 [14:08<15:17, 13.50s/it]INFO:prophet:Disabling weekly seasonality. Run prophet with weekly_seasonality=True to override this.\nINFO:prophet:Disabling daily seasonality. Run prophet with daily_seasonality=True to override this.\nINFO:prophet:Making 6 forecasts with cutoffs between 2018-04-02 12:00:00 and 2020-10-01 00:00:00\nINFO:prophet:Applying in parallel with <concurrent.futures.process.ProcessPoolExecutor object at 0x7faac9914a10>\n 48%|████▊     | 61/128 [14:22<15:18, 13.71s/it]INFO:prophet:Disabling weekly seasonality. Run prophet with weekly_seasonality=True to override this.\nINFO:prophet:Disabling daily seasonality. Run prophet with daily_seasonality=True to override this.\nINFO:prophet:Making 6 forecasts with cutoffs between 2018-04-02 12:00:00 and 2020-10-01 00:00:00\nINFO:prophet:Applying in parallel with <concurrent.futures.process.ProcessPoolExecutor object at 0x7faac990af10>\n 48%|████▊     | 62/128 [14:35<15:01, 13.66s/it]INFO:prophet:Disabling weekly seasonality. Run prophet with weekly_seasonality=True to override this.\nINFO:prophet:Disabling daily seasonality. Run prophet with daily_seasonality=True to override this.\nINFO:prophet:Making 6 forecasts with cutoffs between 2018-04-02 12:00:00 and 2020-10-01 00:00:00\nINFO:prophet:Applying in parallel with <concurrent.futures.process.ProcessPoolExecutor object at 0x7faac98f7c10>\n 49%|████▉     | 63/128 [14:48<14:35, 13.47s/it]INFO:prophet:Disabling weekly seasonality. Run prophet with weekly_seasonality=True to override this.\nINFO:prophet:Disabling daily seasonality. Run prophet with daily_seasonality=True to override this.\nINFO:prophet:Making 6 forecasts with cutoffs between 2018-04-02 12:00:00 and 2020-10-01 00:00:00\nINFO:prophet:Applying in parallel with <concurrent.futures.process.ProcessPoolExecutor object at 0x7faac98a6d10>\n 50%|█████     | 64/128 [15:01<14:16, 13.39s/it]INFO:prophet:Disabling weekly seasonality. Run prophet with weekly_seasonality=True to override this.\nINFO:prophet:Disabling daily seasonality. Run prophet with daily_seasonality=True to override this.\nINFO:prophet:Making 6 forecasts with cutoffs between 2018-04-02 12:00:00 and 2020-10-01 00:00:00\nINFO:prophet:Applying in parallel with <concurrent.futures.process.ProcessPoolExecutor object at 0x7faac9921e50>\n 51%|█████     | 65/128 [15:16<14:33, 13.86s/it]INFO:prophet:Disabling weekly seasonality. Run prophet with weekly_seasonality=True to override this.\nINFO:prophet:Disabling daily seasonality. Run prophet with daily_seasonality=True to override this.\nINFO:prophet:Making 6 forecasts with cutoffs between 2018-04-02 12:00:00 and 2020-10-01 00:00:00\nINFO:prophet:Applying in parallel with <concurrent.futures.process.ProcessPoolExecutor object at 0x7faac98a3bd0>\n 52%|█████▏    | 66/128 [15:32<14:41, 14.21s/it]INFO:prophet:Disabling weekly seasonality. Run prophet with weekly_seasonality=True to override this.\nINFO:prophet:Disabling daily seasonality. Run prophet with daily_seasonality=True to override this.\nINFO:prophet:Making 6 forecasts with cutoffs between 2018-04-02 12:00:00 and 2020-10-01 00:00:00\nINFO:prophet:Applying in parallel with <concurrent.futures.process.ProcessPoolExecutor object at 0x7faaacb3e110>\n 52%|█████▏    | 67/128 [15:47<14:42, 14.47s/it]INFO:prophet:Disabling weekly seasonality. Run prophet with weekly_seasonality=True to override this.\nINFO:prophet:Disabling daily seasonality. Run prophet with daily_seasonality=True to override this.\nINFO:prophet:Making 6 forecasts with cutoffs between 2018-04-02 12:00:00 and 2020-10-01 00:00:00\nINFO:prophet:Applying in parallel with <concurrent.futures.process.ProcessPoolExecutor object at 0x7faac98a3250>\n 53%|█████▎    | 68/128 [16:01<14:34, 14.58s/it]INFO:prophet:Disabling weekly seasonality. Run prophet with weekly_seasonality=True to override this.\nINFO:prophet:Disabling daily seasonality. Run prophet with daily_seasonality=True to override this.\nINFO:prophet:Making 6 forecasts with cutoffs between 2018-04-02 12:00:00 and 2020-10-01 00:00:00\nINFO:prophet:Applying in parallel with <concurrent.futures.process.ProcessPoolExecutor object at 0x7faaacb46d50>\n 54%|█████▍    | 69/128 [16:17<14:32, 14.79s/it]INFO:prophet:Disabling weekly seasonality. Run prophet with weekly_seasonality=True to override this.\nINFO:prophet:Disabling daily seasonality. Run prophet with daily_seasonality=True to override this.\nINFO:prophet:Making 6 forecasts with cutoffs between 2018-04-02 12:00:00 and 2020-10-01 00:00:00\nINFO:prophet:Applying in parallel with <concurrent.futures.process.ProcessPoolExecutor object at 0x7faaacb46d50>\n 55%|█████▍    | 70/128 [16:32<14:25, 14.92s/it]INFO:prophet:Disabling weekly seasonality. Run prophet with weekly_seasonality=True to override this.\nINFO:prophet:Disabling daily seasonality. Run prophet with daily_seasonality=True to override this.\nINFO:prophet:Making 6 forecasts with cutoffs between 2018-04-02 12:00:00 and 2020-10-01 00:00:00\nINFO:prophet:Applying in parallel with <concurrent.futures.process.ProcessPoolExecutor object at 0x7faac989d4d0>\n 55%|█████▌    | 71/128 [16:47<14:11, 14.95s/it]INFO:prophet:Disabling weekly seasonality. Run prophet with weekly_seasonality=True to override this.\nINFO:prophet:Disabling daily seasonality. Run prophet with daily_seasonality=True to override this.\nINFO:prophet:Making 6 forecasts with cutoffs between 2018-04-02 12:00:00 and 2020-10-01 00:00:00\nINFO:prophet:Applying in parallel with <concurrent.futures.process.ProcessPoolExecutor object at 0x7faac9921e50>\n 56%|█████▋    | 72/128 [17:02<13:59, 14.99s/it]INFO:prophet:Disabling weekly seasonality. Run prophet with weekly_seasonality=True to override this.\nINFO:prophet:Disabling daily seasonality. Run prophet with daily_seasonality=True to override this.\nINFO:prophet:Making 6 forecasts with cutoffs between 2018-04-02 12:00:00 and 2020-10-01 00:00:00\nINFO:prophet:Applying in parallel with <concurrent.futures.process.ProcessPoolExecutor object at 0x7faac989c510>\n 57%|█████▋    | 73/128 [17:17<13:50, 15.10s/it]INFO:prophet:Disabling weekly seasonality. Run prophet with weekly_seasonality=True to override this.\nINFO:prophet:Disabling daily seasonality. Run prophet with daily_seasonality=True to override this.\nINFO:prophet:Making 6 forecasts with cutoffs between 2018-04-02 12:00:00 and 2020-10-01 00:00:00\nINFO:prophet:Applying in parallel with <concurrent.futures.process.ProcessPoolExecutor object at 0x7faaad113d50>\n 58%|█████▊    | 74/128 [17:33<13:40, 15.19s/it]INFO:prophet:Disabling weekly seasonality. Run prophet with weekly_seasonality=True to override this.\nINFO:prophet:Disabling daily seasonality. Run prophet with daily_seasonality=True to override this.\nINFO:prophet:Making 6 forecasts with cutoffs between 2018-04-02 12:00:00 and 2020-10-01 00:00:00\nINFO:prophet:Applying in parallel with <concurrent.futures.process.ProcessPoolExecutor object at 0x7faac98a61d0>\n 59%|█████▊    | 75/128 [17:49<13:42, 15.52s/it]INFO:prophet:Disabling weekly seasonality. Run prophet with weekly_seasonality=True to override this.\nINFO:prophet:Disabling daily seasonality. Run prophet with daily_seasonality=True to override this.\nINFO:prophet:Making 6 forecasts with cutoffs between 2018-04-02 12:00:00 and 2020-10-01 00:00:00\nINFO:prophet:Applying in parallel with <concurrent.futures.process.ProcessPoolExecutor object at 0x7faac9905390>\n 59%|█████▉    | 76/128 [18:07<14:10, 16.36s/it]INFO:prophet:Disabling weekly seasonality. Run prophet with weekly_seasonality=True to override this.\nINFO:prophet:Disabling daily seasonality. Run prophet with daily_seasonality=True to override this.\nINFO:prophet:Making 6 forecasts with cutoffs between 2018-04-02 12:00:00 and 2020-10-01 00:00:00\nINFO:prophet:Applying in parallel with <concurrent.futures.process.ProcessPoolExecutor object at 0x7faac9904590>\n 60%|██████    | 77/128 [18:24<13:58, 16.44s/it]INFO:prophet:Disabling weekly seasonality. Run prophet with weekly_seasonality=True to override this.\nINFO:prophet:Disabling daily seasonality. Run prophet with daily_seasonality=True to override this.\nINFO:prophet:Making 6 forecasts with cutoffs between 2018-04-02 12:00:00 and 2020-10-01 00:00:00\nINFO:prophet:Applying in parallel with <concurrent.futures.process.ProcessPoolExecutor object at 0x7faac98a1290>\n 61%|██████    | 78/128 [18:40<13:28, 16.17s/it]INFO:prophet:Disabling weekly seasonality. Run prophet with weekly_seasonality=True to override this.\nINFO:prophet:Disabling daily seasonality. Run prophet with daily_seasonality=True to override this.\nINFO:prophet:Making 6 forecasts with cutoffs between 2018-04-02 12:00:00 and 2020-10-01 00:00:00\nINFO:prophet:Applying in parallel with <concurrent.futures.process.ProcessPoolExecutor object at 0x7faac991af50>\n 62%|██████▏   | 79/128 [18:54<12:53, 15.78s/it]INFO:prophet:Disabling weekly seasonality. Run prophet with weekly_seasonality=True to override this.\nINFO:prophet:Disabling daily seasonality. Run prophet with daily_seasonality=True to override this.\nINFO:prophet:Making 6 forecasts with cutoffs between 2018-04-02 12:00:00 and 2020-10-01 00:00:00\nINFO:prophet:Applying in parallel with <concurrent.futures.process.ProcessPoolExecutor object at 0x7faac989cbd0>\n 62%|██████▎   | 80/128 [19:09<12:24, 15.52s/it]INFO:prophet:Disabling weekly seasonality. Run prophet with weekly_seasonality=True to override this.\nINFO:prophet:Disabling daily seasonality. Run prophet with daily_seasonality=True to override this.\nINFO:prophet:Making 6 forecasts with cutoffs between 2018-04-02 12:00:00 and 2020-10-01 00:00:00\nINFO:prophet:Applying in parallel with <concurrent.futures.process.ProcessPoolExecutor object at 0x7faac98fb0d0>\n 63%|██████▎   | 81/128 [19:25<12:10, 15.53s/it]INFO:prophet:Disabling weekly seasonality. Run prophet with weekly_seasonality=True to override this.\nINFO:prophet:Disabling daily seasonality. Run prophet with daily_seasonality=True to override this.\nINFO:prophet:Making 6 forecasts with cutoffs between 2018-04-02 12:00:00 and 2020-10-01 00:00:00\nINFO:prophet:Applying in parallel with <concurrent.futures.process.ProcessPoolExecutor object at 0x7faac989cbd0>\n 64%|██████▍   | 82/128 [19:40<11:52, 15.50s/it]INFO:prophet:Disabling weekly seasonality. Run prophet with weekly_seasonality=True to override this.\nINFO:prophet:Disabling daily seasonality. Run prophet with daily_seasonality=True to override this.\nINFO:prophet:Making 6 forecasts with cutoffs between 2018-04-02 12:00:00 and 2020-10-01 00:00:00\nINFO:prophet:Applying in parallel with <concurrent.futures.process.ProcessPoolExecutor object at 0x7faac98a10d0>\n 65%|██████▍   | 83/128 [19:57<11:58, 15.97s/it]INFO:prophet:Disabling weekly seasonality. Run prophet with weekly_seasonality=True to override this.\nINFO:prophet:Disabling daily seasonality. Run prophet with daily_seasonality=True to override this.\nINFO:prophet:Making 6 forecasts with cutoffs between 2018-04-02 12:00:00 and 2020-10-01 00:00:00\nINFO:prophet:Applying in parallel with <concurrent.futures.process.ProcessPoolExecutor object at 0x7faaad15cc90>\n 66%|██████▌   | 84/128 [20:13<11:41, 15.94s/it]INFO:prophet:Disabling weekly seasonality. Run prophet with weekly_seasonality=True to override this.\nINFO:prophet:Disabling daily seasonality. Run prophet with daily_seasonality=True to override this.\nINFO:prophet:Making 6 forecasts with cutoffs between 2018-04-02 12:00:00 and 2020-10-01 00:00:00\nINFO:prophet:Applying in parallel with <concurrent.futures.process.ProcessPoolExecutor object at 0x7faac98a2810>\n 66%|██████▋   | 85/128 [20:29<11:20, 15.83s/it]INFO:prophet:Disabling weekly seasonality. Run prophet with weekly_seasonality=True to override this.\nINFO:prophet:Disabling daily seasonality. Run prophet with daily_seasonality=True to override this.\nINFO:prophet:Making 6 forecasts with cutoffs between 2018-04-02 12:00:00 and 2020-10-01 00:00:00\nINFO:prophet:Applying in parallel with <concurrent.futures.process.ProcessPoolExecutor object at 0x7faac98f7c10>\n 67%|██████▋   | 86/128 [20:44<11:02, 15.77s/it]INFO:prophet:Disabling weekly seasonality. Run prophet with weekly_seasonality=True to override this.\nINFO:prophet:Disabling daily seasonality. Run prophet with daily_seasonality=True to override this.\nINFO:prophet:Making 6 forecasts with cutoffs between 2018-04-02 12:00:00 and 2020-10-01 00:00:00\nINFO:prophet:Applying in parallel with <concurrent.futures.process.ProcessPoolExecutor object at 0x7faac989e450>\n 68%|██████▊   | 87/128 [21:00<10:43, 15.71s/it]INFO:prophet:Disabling weekly seasonality. Run prophet with weekly_seasonality=True to override this.\nINFO:prophet:Disabling daily seasonality. Run prophet with daily_seasonality=True to override this.\nINFO:prophet:Making 6 forecasts with cutoffs between 2018-04-02 12:00:00 and 2020-10-01 00:00:00\nINFO:prophet:Applying in parallel with <concurrent.futures.process.ProcessPoolExecutor object at 0x7faac98a6510>\n 69%|██████▉   | 88/128 [21:15<10:22, 15.56s/it]INFO:prophet:Disabling weekly seasonality. Run prophet with weekly_seasonality=True to override this.\nINFO:prophet:Disabling daily seasonality. Run prophet with daily_seasonality=True to override this.\nINFO:prophet:Making 6 forecasts with cutoffs between 2018-04-02 12:00:00 and 2020-10-01 00:00:00\nINFO:prophet:Applying in parallel with <concurrent.futures.process.ProcessPoolExecutor object at 0x7faac98a1190>\n 70%|██████▉   | 89/128 [21:30<10:01, 15.42s/it]INFO:prophet:Disabling weekly seasonality. Run prophet with weekly_seasonality=True to override this.\nINFO:prophet:Disabling daily seasonality. Run prophet with daily_seasonality=True to override this.\nINFO:prophet:Making 6 forecasts with cutoffs between 2018-04-02 12:00:00 and 2020-10-01 00:00:00\nINFO:prophet:Applying in parallel with <concurrent.futures.process.ProcessPoolExecutor object at 0x7faac9918d90>\n 70%|███████   | 90/128 [21:45<09:42, 15.34s/it]INFO:prophet:Disabling weekly seasonality. Run prophet with weekly_seasonality=True to override this.\nINFO:prophet:Disabling daily seasonality. Run prophet with daily_seasonality=True to override this.\nINFO:prophet:Making 6 forecasts with cutoffs between 2018-04-02 12:00:00 and 2020-10-01 00:00:00\nINFO:prophet:Applying in parallel with <concurrent.futures.process.ProcessPoolExecutor object at 0x7faaacf97150>\n 71%|███████   | 91/128 [22:01<09:28, 15.36s/it]INFO:prophet:Disabling weekly seasonality. Run prophet with weekly_seasonality=True to override this.\nINFO:prophet:Disabling daily seasonality. Run prophet with daily_seasonality=True to override this.\nINFO:prophet:Making 6 forecasts with cutoffs between 2018-04-02 12:00:00 and 2020-10-01 00:00:00\nINFO:prophet:Applying in parallel with <concurrent.futures.process.ProcessPoolExecutor object at 0x7faac9904590>\n 72%|███████▏  | 92/128 [22:16<09:13, 15.36s/it]INFO:prophet:Disabling weekly seasonality. Run prophet with weekly_seasonality=True to override this.\nINFO:prophet:Disabling daily seasonality. Run prophet with daily_seasonality=True to override this.\nINFO:prophet:Making 6 forecasts with cutoffs between 2018-04-02 12:00:00 and 2020-10-01 00:00:00\nINFO:prophet:Applying in parallel with <concurrent.futures.process.ProcessPoolExecutor object at 0x7faac98a6d10>\n 73%|███████▎  | 93/128 [22:31<08:54, 15.27s/it]INFO:prophet:Disabling weekly seasonality. Run prophet with weekly_seasonality=True to override this.\nINFO:prophet:Disabling daily seasonality. Run prophet with daily_seasonality=True to override this.\nINFO:prophet:Making 6 forecasts with cutoffs between 2018-04-02 12:00:00 and 2020-10-01 00:00:00\nINFO:prophet:Applying in parallel with <concurrent.futures.process.ProcessPoolExecutor object at 0x7faac98a10d0>\n 73%|███████▎  | 94/128 [22:46<08:35, 15.17s/it]INFO:prophet:Disabling weekly seasonality. Run prophet with weekly_seasonality=True to override this.\nINFO:prophet:Disabling daily seasonality. Run prophet with daily_seasonality=True to override this.\nINFO:prophet:Making 6 forecasts with cutoffs between 2018-04-02 12:00:00 and 2020-10-01 00:00:00\nINFO:prophet:Applying in parallel with <concurrent.futures.process.ProcessPoolExecutor object at 0x7faac989e190>\n 74%|███████▍  | 95/128 [23:01<08:21, 15.19s/it]INFO:prophet:Disabling weekly seasonality. Run prophet with weekly_seasonality=True to override this.\nINFO:prophet:Disabling daily seasonality. Run prophet with daily_seasonality=True to override this.\nINFO:prophet:Making 6 forecasts with cutoffs between 2018-04-02 12:00:00 and 2020-10-01 00:00:00\nINFO:prophet:Applying in parallel with <concurrent.futures.process.ProcessPoolExecutor object at 0x7faaad113b50>\n 75%|███████▌  | 96/128 [23:18<08:18, 15.58s/it]INFO:prophet:Disabling weekly seasonality. Run prophet with weekly_seasonality=True to override this.\nINFO:prophet:Disabling daily seasonality. Run prophet with daily_seasonality=True to override this.\nINFO:prophet:Making 6 forecasts with cutoffs between 2018-04-02 12:00:00 and 2020-10-01 00:00:00\nINFO:prophet:Applying in parallel with <concurrent.futures.process.ProcessPoolExecutor object at 0x7faac989c8d0>\n 76%|███████▌  | 97/128 [23:38<08:40, 16.79s/it]INFO:prophet:Disabling weekly seasonality. Run prophet with weekly_seasonality=True to override this.\nINFO:prophet:Disabling daily seasonality. Run prophet with daily_seasonality=True to override this.\nINFO:prophet:Making 6 forecasts with cutoffs between 2018-04-02 12:00:00 and 2020-10-01 00:00:00\nINFO:prophet:Applying in parallel with <concurrent.futures.process.ProcessPoolExecutor object at 0x7faac98a1290>\n 77%|███████▋  | 98/128 [23:56<08:38, 17.27s/it]INFO:prophet:Disabling weekly seasonality. Run prophet with weekly_seasonality=True to override this.\nINFO:prophet:Disabling daily seasonality. Run prophet with daily_seasonality=True to override this.\nINFO:prophet:Making 6 forecasts with cutoffs between 2018-04-02 12:00:00 and 2020-10-01 00:00:00\nINFO:prophet:Applying in parallel with <concurrent.futures.process.ProcessPoolExecutor object at 0x7faac9914a10>\n 77%|███████▋  | 99/128 [24:15<08:33, 17.71s/it]INFO:prophet:Disabling weekly seasonality. Run prophet with weekly_seasonality=True to override this.\nINFO:prophet:Disabling daily seasonality. Run prophet with daily_seasonality=True to override this.\nINFO:prophet:Making 6 forecasts with cutoffs between 2018-04-02 12:00:00 and 2020-10-01 00:00:00\nINFO:prophet:Applying in parallel with <concurrent.futures.process.ProcessPoolExecutor object at 0x7faac98a1190>\n 78%|███████▊  | 100/128 [24:34<08:30, 18.22s/it]INFO:prophet:Disabling weekly seasonality. Run prophet with weekly_seasonality=True to override this.\nINFO:prophet:Disabling daily seasonality. Run prophet with daily_seasonality=True to override this.\nINFO:prophet:Making 6 forecasts with cutoffs between 2018-04-02 12:00:00 and 2020-10-01 00:00:00\nINFO:prophet:Applying in parallel with <concurrent.futures.process.ProcessPoolExecutor object at 0x7faaad140510>\n 79%|███████▉  | 101/128 [24:53<08:18, 18.45s/it]INFO:prophet:Disabling weekly seasonality. Run prophet with weekly_seasonality=True to override this.\nINFO:prophet:Disabling daily seasonality. Run prophet with daily_seasonality=True to override this.\nINFO:prophet:Making 6 forecasts with cutoffs between 2018-04-02 12:00:00 and 2020-10-01 00:00:00\nINFO:prophet:Applying in parallel with <concurrent.futures.process.ProcessPoolExecutor object at 0x7faac9922350>\n 80%|███████▉  | 102/128 [25:12<08:03, 18.59s/it]INFO:prophet:Disabling weekly seasonality. Run prophet with weekly_seasonality=True to override this.\nINFO:prophet:Disabling daily seasonality. Run prophet with daily_seasonality=True to override this.\nINFO:prophet:Making 6 forecasts with cutoffs between 2018-04-02 12:00:00 and 2020-10-01 00:00:00\nINFO:prophet:Applying in parallel with <concurrent.futures.process.ProcessPoolExecutor object at 0x7faac9914a10>\n 80%|████████  | 103/128 [25:33<08:02, 19.31s/it]INFO:prophet:Disabling weekly seasonality. Run prophet with weekly_seasonality=True to override this.\nINFO:prophet:Disabling daily seasonality. Run prophet with daily_seasonality=True to override this.\nINFO:prophet:Making 6 forecasts with cutoffs between 2018-04-02 12:00:00 and 2020-10-01 00:00:00\nINFO:prophet:Applying in parallel with <concurrent.futures.process.ProcessPoolExecutor object at 0x7faac989e190>\n 81%|████████▏ | 104/128 [25:52<07:41, 19.22s/it]INFO:prophet:Disabling weekly seasonality. Run prophet with weekly_seasonality=True to override this.\nINFO:prophet:Disabling daily seasonality. Run prophet with daily_seasonality=True to override this.\nINFO:prophet:Making 6 forecasts with cutoffs between 2018-04-02 12:00:00 and 2020-10-01 00:00:00\nINFO:prophet:Applying in parallel with <concurrent.futures.process.ProcessPoolExecutor object at 0x7faac98a3bd0>\n 82%|████████▏ | 105/128 [26:11<07:18, 19.05s/it]INFO:prophet:Disabling weekly seasonality. Run prophet with weekly_seasonality=True to override this.\nINFO:prophet:Disabling daily seasonality. Run prophet with daily_seasonality=True to override this.\nINFO:prophet:Making 6 forecasts with cutoffs between 2018-04-02 12:00:00 and 2020-10-01 00:00:00\nINFO:prophet:Applying in parallel with <concurrent.futures.process.ProcessPoolExecutor object at 0x7faac98f4850>\n 83%|████████▎ | 106/128 [26:29<06:55, 18.90s/it]INFO:prophet:Disabling weekly seasonality. Run prophet with weekly_seasonality=True to override this.\nINFO:prophet:Disabling daily seasonality. Run prophet with daily_seasonality=True to override this.\nINFO:prophet:Making 6 forecasts with cutoffs between 2018-04-02 12:00:00 and 2020-10-01 00:00:00\nINFO:prophet:Applying in parallel with <concurrent.futures.process.ProcessPoolExecutor object at 0x7faac989c510>\n 84%|████████▎ | 107/128 [26:48<06:35, 18.81s/it]INFO:prophet:Disabling weekly seasonality. Run prophet with weekly_seasonality=True to override this.\nINFO:prophet:Disabling daily seasonality. Run prophet with daily_seasonality=True to override this.\nINFO:prophet:Making 6 forecasts with cutoffs between 2018-04-02 12:00:00 and 2020-10-01 00:00:00\nINFO:prophet:Applying in parallel with <concurrent.futures.process.ProcessPoolExecutor object at 0x7faac989e190>\n 84%|████████▍ | 108/128 [27:06<06:14, 18.74s/it]INFO:prophet:Disabling weekly seasonality. Run prophet with weekly_seasonality=True to override this.\nINFO:prophet:Disabling daily seasonality. Run prophet with daily_seasonality=True to override this.\nINFO:prophet:Making 6 forecasts with cutoffs between 2018-04-02 12:00:00 and 2020-10-01 00:00:00\nINFO:prophet:Applying in parallel with <concurrent.futures.process.ProcessPoolExecutor object at 0x7faac98fb0d0>\n 85%|████████▌ | 109/128 [27:24<05:51, 18.49s/it]INFO:prophet:Disabling weekly seasonality. Run prophet with weekly_seasonality=True to override this.\nINFO:prophet:Disabling daily seasonality. Run prophet with daily_seasonality=True to override this.\nINFO:prophet:Making 6 forecasts with cutoffs between 2018-04-02 12:00:00 and 2020-10-01 00:00:00\nINFO:prophet:Applying in parallel with <concurrent.futures.process.ProcessPoolExecutor object at 0x7faaacb46d50>\n 86%|████████▌ | 110/128 [27:42<05:30, 18.34s/it]INFO:prophet:Disabling weekly seasonality. Run prophet with weekly_seasonality=True to override this.\nINFO:prophet:Disabling daily seasonality. Run prophet with daily_seasonality=True to override this.\nINFO:prophet:Making 6 forecasts with cutoffs between 2018-04-02 12:00:00 and 2020-10-01 00:00:00\nINFO:prophet:Applying in parallel with <concurrent.futures.process.ProcessPoolExecutor object at 0x7faac989e450>\n 87%|████████▋ | 111/128 [28:00<05:09, 18.23s/it]INFO:prophet:Disabling weekly seasonality. Run prophet with weekly_seasonality=True to override this.\nINFO:prophet:Disabling daily seasonality. Run prophet with daily_seasonality=True to override this.\nINFO:prophet:Making 6 forecasts with cutoffs between 2018-04-02 12:00:00 and 2020-10-01 00:00:00\nINFO:prophet:Applying in parallel with <concurrent.futures.process.ProcessPoolExecutor object at 0x7faac98a1c50>\n 88%|████████▊ | 112/128 [28:18<04:50, 18.15s/it]INFO:prophet:Disabling weekly seasonality. Run prophet with weekly_seasonality=True to override this.\nINFO:prophet:Disabling daily seasonality. Run prophet with daily_seasonality=True to override this.\nINFO:prophet:Making 6 forecasts with cutoffs between 2018-04-02 12:00:00 and 2020-10-01 00:00:00\nINFO:prophet:Applying in parallel with <concurrent.futures.process.ProcessPoolExecutor object at 0x7faac9918d90>\n 88%|████████▊ | 113/128 [28:37<04:33, 18.26s/it]INFO:prophet:Disabling weekly seasonality. Run prophet with weekly_seasonality=True to override this.\nINFO:prophet:Disabling daily seasonality. Run prophet with daily_seasonality=True to override this.\nINFO:prophet:Making 6 forecasts with cutoffs between 2018-04-02 12:00:00 and 2020-10-01 00:00:00\nINFO:prophet:Applying in parallel with <concurrent.futures.process.ProcessPoolExecutor object at 0x7faac98a6510>\n 89%|████████▉ | 114/128 [28:55<04:17, 18.38s/it]INFO:prophet:Disabling weekly seasonality. Run prophet with weekly_seasonality=True to override this.\nINFO:prophet:Disabling daily seasonality. Run prophet with daily_seasonality=True to override this.\nINFO:prophet:Making 6 forecasts with cutoffs between 2018-04-02 12:00:00 and 2020-10-01 00:00:00\nINFO:prophet:Applying in parallel with <concurrent.futures.process.ProcessPoolExecutor object at 0x7faac9914a10>\n 90%|████████▉ | 115/128 [29:14<03:59, 18.45s/it]INFO:prophet:Disabling weekly seasonality. Run prophet with weekly_seasonality=True to override this.\nINFO:prophet:Disabling daily seasonality. Run prophet with daily_seasonality=True to override this.\nINFO:prophet:Making 6 forecasts with cutoffs between 2018-04-02 12:00:00 and 2020-10-01 00:00:00\nINFO:prophet:Applying in parallel with <concurrent.futures.process.ProcessPoolExecutor object at 0x7faac990af10>\n 91%|█████████ | 116/128 [29:32<03:41, 18.45s/it]INFO:prophet:Disabling weekly seasonality. Run prophet with weekly_seasonality=True to override this.\nINFO:prophet:Disabling daily seasonality. Run prophet with daily_seasonality=True to override this.\nINFO:prophet:Making 6 forecasts with cutoffs between 2018-04-02 12:00:00 and 2020-10-01 00:00:00\nINFO:prophet:Applying in parallel with <concurrent.futures.process.ProcessPoolExecutor object at 0x7faac989e450>\n 91%|█████████▏| 117/128 [29:51<03:22, 18.40s/it]INFO:prophet:Disabling weekly seasonality. Run prophet with weekly_seasonality=True to override this.\nINFO:prophet:Disabling daily seasonality. Run prophet with daily_seasonality=True to override this.\nINFO:prophet:Making 6 forecasts with cutoffs between 2018-04-02 12:00:00 and 2020-10-01 00:00:00\nINFO:prophet:Applying in parallel with <concurrent.futures.process.ProcessPoolExecutor object at 0x7faac989eb90>\n 92%|█████████▏| 118/128 [30:09<03:03, 18.35s/it]INFO:prophet:Disabling weekly seasonality. Run prophet with weekly_seasonality=True to override this.\nINFO:prophet:Disabling daily seasonality. Run prophet with daily_seasonality=True to override this.\nINFO:prophet:Making 6 forecasts with cutoffs between 2018-04-02 12:00:00 and 2020-10-01 00:00:00\nINFO:prophet:Applying in parallel with <concurrent.futures.process.ProcessPoolExecutor object at 0x7faac991ae90>\n 93%|█████████▎| 119/128 [30:27<02:44, 18.31s/it]INFO:prophet:Disabling weekly seasonality. Run prophet with weekly_seasonality=True to override this.\nINFO:prophet:Disabling daily seasonality. Run prophet with daily_seasonality=True to override this.\nINFO:prophet:Making 6 forecasts with cutoffs between 2018-04-02 12:00:00 and 2020-10-01 00:00:00\nINFO:prophet:Applying in parallel with <concurrent.futures.process.ProcessPoolExecutor object at 0x7faac98a6510>\n 94%|█████████▍| 120/128 [30:46<02:26, 18.30s/it]INFO:prophet:Disabling weekly seasonality. Run prophet with weekly_seasonality=True to override this.\nINFO:prophet:Disabling daily seasonality. Run prophet with daily_seasonality=True to override this.\nINFO:prophet:Making 6 forecasts with cutoffs between 2018-04-02 12:00:00 and 2020-10-01 00:00:00\nINFO:prophet:Applying in parallel with <concurrent.futures.process.ProcessPoolExecutor object at 0x7faac98a6950>\n 95%|█████████▍| 121/128 [31:03<02:07, 18.21s/it]INFO:prophet:Disabling weekly seasonality. Run prophet with weekly_seasonality=True to override this.\nINFO:prophet:Disabling daily seasonality. Run prophet with daily_seasonality=True to override this.\nINFO:prophet:Making 6 forecasts with cutoffs between 2018-04-02 12:00:00 and 2020-10-01 00:00:00\nINFO:prophet:Applying in parallel with <concurrent.futures.process.ProcessPoolExecutor object at 0x7faac98f0210>\n 95%|█████████▌| 122/128 [31:22<01:50, 18.40s/it]INFO:prophet:Disabling weekly seasonality. Run prophet with weekly_seasonality=True to override this.\nINFO:prophet:Disabling daily seasonality. Run prophet with daily_seasonality=True to override this.\nINFO:prophet:Making 6 forecasts with cutoffs between 2018-04-02 12:00:00 and 2020-10-01 00:00:00\nINFO:prophet:Applying in parallel with <concurrent.futures.process.ProcessPoolExecutor object at 0x7faac989e190>\n 96%|█████████▌| 123/128 [31:43<01:35, 19.04s/it]INFO:prophet:Disabling weekly seasonality. Run prophet with weekly_seasonality=True to override this.\nINFO:prophet:Disabling daily seasonality. Run prophet with daily_seasonality=True to override this.\nINFO:prophet:Making 6 forecasts with cutoffs between 2018-04-02 12:00:00 and 2020-10-01 00:00:00\nINFO:prophet:Applying in parallel with <concurrent.futures.process.ProcessPoolExecutor object at 0x7faac98a6f50>\n 97%|█████████▋| 124/128 [32:01<01:15, 18.89s/it]INFO:prophet:Disabling weekly seasonality. Run prophet with weekly_seasonality=True to override this.\nINFO:prophet:Disabling daily seasonality. Run prophet with daily_seasonality=True to override this.\nINFO:prophet:Making 6 forecasts with cutoffs between 2018-04-02 12:00:00 and 2020-10-01 00:00:00\nINFO:prophet:Applying in parallel with <concurrent.futures.process.ProcessPoolExecutor object at 0x7faac9914fd0>\n 98%|█████████▊| 125/128 [32:20<00:56, 18.86s/it]INFO:prophet:Disabling weekly seasonality. Run prophet with weekly_seasonality=True to override this.\nINFO:prophet:Disabling daily seasonality. Run prophet with daily_seasonality=True to override this.\nINFO:prophet:Making 6 forecasts with cutoffs between 2018-04-02 12:00:00 and 2020-10-01 00:00:00\nINFO:prophet:Applying in parallel with <concurrent.futures.process.ProcessPoolExecutor object at 0x7faac98a15d0>\n 98%|█████████▊| 126/128 [32:39<00:37, 18.82s/it]INFO:prophet:Disabling weekly seasonality. Run prophet with weekly_seasonality=True to override this.\nINFO:prophet:Disabling daily seasonality. Run prophet with daily_seasonality=True to override this.\nINFO:prophet:Making 6 forecasts with cutoffs between 2018-04-02 12:00:00 and 2020-10-01 00:00:00\nINFO:prophet:Applying in parallel with <concurrent.futures.process.ProcessPoolExecutor object at 0x7faaad113d50>\n 99%|█████████▉| 127/128 [32:57<00:18, 18.73s/it]INFO:prophet:Disabling weekly seasonality. Run prophet with weekly_seasonality=True to override this.\nINFO:prophet:Disabling daily seasonality. Run prophet with daily_seasonality=True to override this.\nINFO:prophet:Making 6 forecasts with cutoffs between 2018-04-02 12:00:00 and 2020-10-01 00:00:00\nINFO:prophet:Applying in parallel with <concurrent.futures.process.ProcessPoolExecutor object at 0x7faac989d4d0>\n100%|██████████| 128/128 [33:16<00:00, 15.60s/it]     changepoint_prior_scale  seasonality_prior_scale seasonality_mode  \\\n0                      0.001                     0.01         additive   \n1                      0.001                     0.01         additive   \n2                      0.001                     0.01         additive   \n3                      0.001                     0.01         additive   \n4                      0.001                     0.01   multiplicative   \n..                       ...                      ...              ...   \n123                    0.500                    10.00         additive   \n124                    0.500                    10.00   multiplicative   \n125                    0.500                    10.00   multiplicative   \n126                    0.500                    10.00   multiplicative   \n127                    0.500                    10.00   multiplicative   \n\n     holidays_prior_scale        rmse  \n0                    0.01  361.998665  \n1                    0.10  361.998665  \n2                    1.00  361.998665  \n3                   10.00  361.998665  \n4                    0.01  362.549666  \n..                    ...         ...  \n123                 10.00  403.878024  \n124                  0.01  433.133518  \n125                  0.10  433.133518  \n126                  1.00  433.133518  \n127                 10.00  433.133518  \n\n[128 rows x 5 columns]\n\n",
     "output_type": "stream"
    }
   ]
  },
  {
   "cell_type": "code",
   "metadata": {
    "cell_id": "ef5495b00e0040518fb282b2070b66be",
    "tags": [],
    "deepnote_to_be_reexecuted": false,
    "source_hash": "54dd1570",
    "execution_start": 1648155347298,
    "execution_millis": 6,
    "deepnote_cell_type": "code",
    "deepnote_cell_height": 152
   },
   "source": "best_params = all_params[np.argmin(rmses)]\nprint(best_params)\n# {'changepoint_prior_scale': 0.1, 'seasonality_prior_scale': 0.01, 'seasonality_mode': 'additive', 'holidays_prior_scale': 0.01}",
   "execution_count": null,
   "outputs": [
    {
     "name": "stdout",
     "text": "{'changepoint_prior_scale': 0.1, 'seasonality_prior_scale': 0.01, 'seasonality_mode': 'additive', 'holidays_prior_scale': 0.01}\n",
     "output_type": "stream"
    }
   ]
  },
  {
   "cell_type": "code",
   "metadata": {
    "cell_id": "e066ff6b895d4abfb1ee8c12067b6c55",
    "tags": [],
    "deepnote_cell_type": "code",
    "deepnote_cell_height": 66
   },
   "source": "",
   "execution_count": null,
   "outputs": []
  },
  {
   "cell_type": "markdown",
   "source": "<a style='text-decoration:none;line-height:16px;display:flex;color:#5B5B62;padding:10px;justify-content:end;' href='https://deepnote.com?utm_source=created-in-deepnote-cell&projectId=40789b9a-1c62-45b9-9d9c-b1a39ebe3dfd' target=\"_blank\">\n<img alt='Created in deepnote.com' style='display:inline;max-height:16px;margin:0px;margin-right:7.5px;' src='data:image/svg+xml;base64,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' > </img>\nCreated in <span style='font-weight:600;margin-left:4px;'>Deepnote</span></a>",
   "metadata": {
    "tags": [],
    "created_in_deepnote_cell": true,
    "deepnote_cell_type": "markdown"
   }
  }
 ],
 "nbformat": 4,
 "nbformat_minor": 2,
 "metadata": {
  "orig_nbformat": 2,
  "deepnote": {
   "is_reactive": false
  },
  "deepnote_notebook_id": "7f7dc7ae-81a2-45aa-99b7-5f088ccca581",
  "deepnote_execution_queue": []
 }
}
