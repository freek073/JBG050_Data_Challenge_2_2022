{
 "cells": [
  {
   "cell_type": "code",
   "metadata": {
    "cell_id": "ea935398-7d33-4e8c-98e7-ea807fabc56a",
    "deepnote_to_be_reexecuted": false,
    "source_hash": "b345984a",
    "execution_start": 1645022972226,
    "execution_millis": 76,
    "deepnote_cell_type": "code",
    "deepnote_cell_height": 189
   },
   "source": "import pandas as pd\nimport os\nimport tqdm as tq\nimport string\nimport statistics as stats\nimport re\npd.set_option('display.max_columns', None) # allows to display all columns of a large dataframe",
   "execution_count": null,
   "outputs": []
  },
  {
   "cell_type": "code",
   "metadata": {
    "cell_id": "00001-cd5318a9-16ad-49c4-aaf2-759e147f0bcf",
    "deepnote_to_be_reexecuted": false,
    "source_hash": "b044b8b9",
    "execution_start": 1645023542826,
    "execution_millis": 8362,
    "deepnote_cell_type": "code",
    "deepnote_cell_height": 922
   },
   "source": "# The data from 2010 and 2012 only has \"street\" files. The \"stop-and-search\" files start in 2015.\n# (by \"file type\" I mean either 'search', 'outcome' or 'stop-and-search' report files)\n\n# input here the (complete) path to the folder from which you want to extract the files \ndirectory = \"/work/Jan_2010_Oct_2021\" \n\n# initialize dataframes for each file type\ndf_street = pd.DataFrame()\ndf_outcome = pd.DataFrame()\ndf_sas = pd.DataFrame()\n\n# into this list, input the name of the folder ('yyyy-mm') from which you want to extract\n# runtime limitations if you try to do that for the whole dataset\nfolders = ['2020-09']\n\nfor folder in folders:\n    # initialize lists for file names of each type\n    files_street = []\n    files_outcome = []\n    files_sas = []\n    \n    # generate the path to folder\n    folder_direc = os.fsencode(directory + '/'+ str(folder))\n    \n    # add each file name to the appropriate list\n    for file in tq.tqdm(os.listdir(folder_direc)):\n        file = str(file).strip(\"'b\")\n        if (bool(re.search('outcomes', file))):\n            files_outcome.append(file)\n        elif (bool(re.search('street', file))):\n            files_street.append(file)\n        elif (bool(re.search('stop-and-search', file))):\n            files_sas.append(file)\n    \n    # create data frames populated with the data from all files of the given type\n    for file in files_street:\n        current_data_street = pd.read_csv(directory + '/' + str(folder).strip(\"'b\") + '/' + str(file))  \n        df_street = df_street.append(current_data_street)\n\n    for file in files_outcome:\n        current_data_outcome = pd.read_csv(directory + '/' + str(folder).strip(\"'b\") + '/' + str(file))  \n        df_outcome = df_outcome.append(current_data_outcome)\n\n    for file in files_sas:\n        current_data_sas = pd.read_csv(directory + '/' + str(folder).strip(\"'b\") + '/' + str(file))  \n        df_sas = df_sas.append(current_data_sas)",
   "execution_count": null,
   "outputs": [
    {
     "name": "stderr",
     "text": "100%|██████████| 120/120 [00:00<00:00, 93692.57it/s]\n",
     "output_type": "stream"
    }
   ]
  },
  {
   "cell_type": "code",
   "metadata": {
    "cell_id": "00002-8034dbd4-f902-41b4-b979-e6937c839446",
    "deepnote_to_be_reexecuted": false,
    "source_hash": "c43d1a8d",
    "execution_start": 1645023737155,
    "execution_millis": 14,
    "deepnote_cell_type": "code",
    "deepnote_cell_height": 154,
    "deepnote_output_heights": [
     21
    ]
   },
   "source": "# check if \"LSOA code\" and \"Crime type\" have missing values\nlen(df_street[df_street['LSOA code'].isna()])/len(df_street)\n# around 6% of LSOA code entries missing - acceptable",
   "execution_count": null,
   "outputs": [
    {
     "output_type": "execute_result",
     "execution_count": 8,
     "data": {
      "text/plain": "0.05923641810232434"
     },
     "metadata": {}
    }
   ]
  },
  {
   "cell_type": "code",
   "metadata": {
    "cell_id": "00009-cae22a8a-27b0-4bf3-9d64-eadb858fe800",
    "deepnote_to_be_reexecuted": false,
    "source_hash": "6c4fb567",
    "execution_start": 1645024034096,
    "execution_millis": 2,
    "deepnote_cell_type": "code",
    "deepnote_cell_height": 154,
    "deepnote_output_heights": [
     21
    ]
   },
   "source": "len(df_street[df_street['Crime type'].isna()])/len(df_street)\n# Crime type is filled out everywhere\n# df_street['Crime type'].unique()",
   "execution_count": null,
   "outputs": [
    {
     "output_type": "execute_result",
     "execution_count": 12,
     "data": {
      "text/plain": "0.0"
     },
     "metadata": {}
    }
   ]
  },
  {
   "cell_type": "code",
   "metadata": {
    "cell_id": "00003-a9c34377-da12-4c31-906a-184cdcf33145",
    "deepnote_to_be_reexecuted": false,
    "source_hash": "dba50d8e",
    "execution_start": 1644933245858,
    "execution_millis": 14,
    "deepnote_cell_type": "code",
    "deepnote_cell_height": 194,
    "deepnote_output_heights": [
     97
    ]
   },
   "source": "df_street['Crime type'].unique() # you can insert any attribute name here to see waht values it may take",
   "execution_count": null,
   "outputs": [
    {
     "output_type": "execute_result",
     "execution_count": 10,
     "data": {
      "text/plain": "array(['Anti-social behaviour', 'Drugs', 'Other theft', 'Public order',\n       'Violence and sexual offences', 'Other crime',\n       'Criminal damage and arson', 'Vehicle crime', 'Burglary',\n       'Bicycle theft', 'Possession of weapons', 'Shoplifting',\n       'Theft from the person', 'Robbery'], dtype=object)"
     },
     "metadata": {}
    }
   ]
  },
  {
   "cell_type": "code",
   "metadata": {
    "cell_id": "02d1e214-4634-4364-9e8e-0156c7c048f2",
    "tags": [],
    "deepnote_to_be_reexecuted": false,
    "source_hash": "97d77b9b",
    "execution_start": 1645027795498,
    "execution_millis": 390,
    "deepnote_cell_type": "code",
    "deepnote_cell_height": 598
   },
   "source": "df_street",
   "execution_count": null,
   "outputs": [
    {
     "output_type": "execute_result",
     "execution_count": 13,
     "data": {
      "application/vnd.deepnote.dataframe.v3+json": {
       "column_count": 12,
       "row_count": 329814,
       "columns": [
        {
         "name": "Crime ID",
         "dtype": "object"
        },
        {
         "name": "Month",
         "dtype": "object"
        },
        {
         "name": "Reported by",
         "dtype": "object"
        },
        {
         "name": "Falls within",
         "dtype": "object"
        },
        {
         "name": "Longitude",
         "dtype": "float64"
        },
        {
         "name": "Latitude",
         "dtype": "float64"
        },
        {
         "name": "Location",
         "dtype": "object"
        },
        {
         "name": "LSOA code",
         "dtype": "object"
        },
        {
         "name": "LSOA name",
         "dtype": "object"
        },
        {
         "name": "Crime type",
         "dtype": "object"
        },
        {
         "name": "Last outcome category",
         "dtype": "object"
        },
        {
         "name": "Context",
         "dtype": "float64"
        },
        {
         "name": "_deepnote_index_column",
         "dtype": "int64"
        }
       ],
       "rows": [
        {
         "Crime ID": "nan",
         "Month": "2020-09",
         "Reported by": "Dyfed-Powys Police",
         "Falls within": "Dyfed-Powys Police",
         "Longitude": -4.264037,
         "Latitude": 51.997506,
         "Location": "On or near Maes Cader",
         "LSOA code": "W01000685",
         "LSOA name": "Carmarthenshire 001A",
         "Crime type": "Anti-social behaviour",
         "Last outcome category": "nan",
         "Context": "nan",
         "_deepnote_index_column": 0
        },
        {
         "Crime ID": "b267eefa1d1eb337b621de90d5760d92c363cd412fce008d7f8d5b02abd7d442",
         "Month": "2020-09",
         "Reported by": "Dyfed-Powys Police",
         "Falls within": "Dyfed-Powys Police",
         "Longitude": -4.266697,
         "Latitude": 51.999118,
         "Location": "On or near Maes Derwenydd",
         "LSOA code": "W01000685",
         "LSOA name": "Carmarthenshire 001A",
         "Crime type": "Drugs",
         "Last outcome category": "Court result unavailable",
         "Context": "nan",
         "_deepnote_index_column": 1
        },
        {
         "Crime ID": "210397977f9e987763464cacb7b13e20f6826b3e86e8f23c3752ae0d2d4b408c",
         "Month": "2020-09",
         "Reported by": "Dyfed-Powys Police",
         "Falls within": "Dyfed-Powys Police",
         "Longitude": -4.266653,
         "Latitude": 51.994506,
         "Location": "On or near Rhandir Wen",
         "LSOA code": "W01000685",
         "LSOA name": "Carmarthenshire 001A",
         "Crime type": "Other theft",
         "Last outcome category": "Investigation complete; no suspect identified",
         "Context": "nan",
         "_deepnote_index_column": 2
        },
        {
         "Crime ID": "b9793a8f607a449f7bebea470fcbae12566ef82cd528a95b505318c295efdf59",
         "Month": "2020-09",
         "Reported by": "Dyfed-Powys Police",
         "Falls within": "Dyfed-Powys Police",
         "Longitude": -4.266653,
         "Latitude": 51.994506,
         "Location": "On or near Rhandir Wen",
         "LSOA code": "W01000685",
         "LSOA name": "Carmarthenshire 001A",
         "Crime type": "Other theft",
         "Last outcome category": "Investigation complete; no suspect identified",
         "Context": "nan",
         "_deepnote_index_column": 3
        },
        {
         "Crime ID": "eeab3387f73521f608d64c6502cffdf1f7c8e2566985335ba1d3a52913b15685",
         "Month": "2020-09",
         "Reported by": "Dyfed-Powys Police",
         "Falls within": "Dyfed-Powys Police",
         "Longitude": -4.264037,
         "Latitude": 51.997506,
         "Location": "On or near Maes Cader",
         "LSOA code": "W01000685",
         "LSOA name": "Carmarthenshire 001A",
         "Crime type": "Public order",
         "Last outcome category": "Unable to prosecute suspect",
         "Context": "nan",
         "_deepnote_index_column": 4
        },
        {
         "Crime ID": "530336915e69a865ef45fe7b0d96f5d4c457fc7bacf8e2017d945221a340c79f",
         "Month": "2020-09",
         "Reported by": "Dyfed-Powys Police",
         "Falls within": "Dyfed-Powys Police",
         "Longitude": -4.264037,
         "Latitude": 51.997506,
         "Location": "On or near Maes Cader",
         "LSOA code": "W01000685",
         "LSOA name": "Carmarthenshire 001A",
         "Crime type": "Violence and sexual offences",
         "Last outcome category": "Further investigation is not in the public interest",
         "Context": "nan",
         "_deepnote_index_column": 5
        },
        {
         "Crime ID": "3f66e21c0f2d5788efa185a66a3b7a3ebb423d36604f2c8a35a3d8bacf7130fd",
         "Month": "2020-09",
         "Reported by": "Dyfed-Powys Police",
         "Falls within": "Dyfed-Powys Police",
         "Longitude": -4.264037,
         "Latitude": 51.997506,
         "Location": "On or near Maes Cader",
         "LSOA code": "W01000685",
         "LSOA name": "Carmarthenshire 001A",
         "Crime type": "Violence and sexual offences",
         "Last outcome category": "Further investigation is not in the public interest",
         "Context": "nan",
         "_deepnote_index_column": 6
        },
        {
         "Crime ID": "742be704eb1df89697ef6a089262bfe22dfac0a1458cd7fd9aff72fcac7b483e",
         "Month": "2020-09",
         "Reported by": "Dyfed-Powys Police",
         "Falls within": "Dyfed-Powys Police",
         "Longitude": -4.311763,
         "Latitude": 52.037656,
         "Location": "On or near Petrol Station",
         "LSOA code": "W01000685",
         "LSOA name": "Carmarthenshire 001A",
         "Crime type": "Violence and sexual offences",
         "Last outcome category": "Court result unavailable",
         "Context": "nan",
         "_deepnote_index_column": 7
        },
        {
         "Crime ID": "6a5835a2e409ea147f41fc7b332463129305bcfb63d4de4b0f4a06fa8cfc9987",
         "Month": "2020-09",
         "Reported by": "Dyfed-Powys Police",
         "Falls within": "Dyfed-Powys Police",
         "Longitude": -4.316395,
         "Latitude": 52.036998,
         "Location": "On or near Lewis Street",
         "LSOA code": "W01000685",
         "LSOA name": "Carmarthenshire 001A",
         "Crime type": "Violence and sexual offences",
         "Last outcome category": "Investigation complete; no suspect identified",
         "Context": "nan",
         "_deepnote_index_column": 8
        },
        {
         "Crime ID": "3c9d426e68d3736c376b1484080fc23fb2f69b429043b65f4468dc19217ec922",
         "Month": "2020-09",
         "Reported by": "Dyfed-Powys Police",
         "Falls within": "Dyfed-Powys Police",
         "Longitude": -4.264037,
         "Latitude": 51.997506,
         "Location": "On or near Maes Cader",
         "LSOA code": "W01000685",
         "LSOA name": "Carmarthenshire 001A",
         "Crime type": "Other crime",
         "Last outcome category": "Further investigation is not in the public interest",
         "Context": "nan",
         "_deepnote_index_column": 9
        }
       ]
      },
      "text/plain": "                                                Crime ID    Month  \\\n0                                                    NaN  2020-09   \n1      b267eefa1d1eb337b621de90d5760d92c363cd412fce00...  2020-09   \n2      210397977f9e987763464cacb7b13e20f6826b3e86e8f2...  2020-09   \n3      b9793a8f607a449f7bebea470fcbae12566ef82cd528a9...  2020-09   \n4      eeab3387f73521f608d64c6502cffdf1f7c8e256698533...  2020-09   \n...                                                  ...      ...   \n12424  517600d43845c4c6712482951c62ce87cd3bd985867099...  2020-09   \n12425  51f37f650d4cb8c43973aea53967510b156f10ae9652ec...  2020-09   \n12426  8cd41a534135bc5dc073b462c3c85554fcec0f25ca3997...  2020-09   \n12427  9c4b505ca2376b8fa26cc7aa4c53d67e110eccef3c0a37...  2020-09   \n12428  720da3faed4692dc462cec4a0dfd8209c6e1a236f7611b...  2020-09   \n\n              Reported by        Falls within  Longitude   Latitude  \\\n0      Dyfed-Powys Police  Dyfed-Powys Police  -4.264037  51.997506   \n1      Dyfed-Powys Police  Dyfed-Powys Police  -4.266697  51.999118   \n2      Dyfed-Powys Police  Dyfed-Powys Police  -4.266653  51.994506   \n3      Dyfed-Powys Police  Dyfed-Powys Police  -4.266653  51.994506   \n4      Dyfed-Powys Police  Dyfed-Powys Police  -4.264037  51.997506   \n...                   ...                 ...        ...        ...   \n12424  South Wales Police  South Wales Police        NaN        NaN   \n12425  South Wales Police  South Wales Police        NaN        NaN   \n12426  South Wales Police  South Wales Police        NaN        NaN   \n12427  South Wales Police  South Wales Police        NaN        NaN   \n12428  South Wales Police  South Wales Police        NaN        NaN   \n\n                        Location  LSOA code             LSOA name  \\\n0          On or near Maes Cader  W01000685  Carmarthenshire 001A   \n1      On or near Maes Derwenydd  W01000685  Carmarthenshire 001A   \n2         On or near Rhandir Wen  W01000685  Carmarthenshire 001A   \n3         On or near Rhandir Wen  W01000685  Carmarthenshire 001A   \n4          On or near Maes Cader  W01000685  Carmarthenshire 001A   \n...                          ...        ...                   ...   \n12424                No Location        NaN                   NaN   \n12425                No Location        NaN                   NaN   \n12426                No Location        NaN                   NaN   \n12427                No Location        NaN                   NaN   \n12428                No Location        NaN                   NaN   \n\n                         Crime type  \\\n0             Anti-social behaviour   \n1                             Drugs   \n2                       Other theft   \n3                       Other theft   \n4                      Public order   \n...                             ...   \n12424  Violence and sexual offences   \n12425  Violence and sexual offences   \n12426  Violence and sexual offences   \n12427                   Other crime   \n12428                   Other crime   \n\n                               Last outcome category  Context  \n0                                                NaN      NaN  \n1                           Court result unavailable      NaN  \n2      Investigation complete; no suspect identified      NaN  \n3      Investigation complete; no suspect identified      NaN  \n4                        Unable to prosecute suspect      NaN  \n...                                              ...      ...  \n12424                       Offender given a caution      NaN  \n12425                       Offender given a caution      NaN  \n12426                    Unable to prosecute suspect      NaN  \n12427                      Status update unavailable      NaN  \n12428                      Status update unavailable      NaN  \n\n[329814 rows x 12 columns]",
      "text/html": "<div>\n<style scoped>\n    .dataframe tbody tr th:only-of-type {\n        vertical-align: middle;\n    }\n\n    .dataframe tbody tr th {\n        vertical-align: top;\n    }\n\n    .dataframe thead th {\n        text-align: right;\n    }\n</style>\n<table border=\"1\" class=\"dataframe\">\n  <thead>\n    <tr style=\"text-align: right;\">\n      <th></th>\n      <th>Crime ID</th>\n      <th>Month</th>\n      <th>Reported by</th>\n      <th>Falls within</th>\n      <th>Longitude</th>\n      <th>Latitude</th>\n      <th>Location</th>\n      <th>LSOA code</th>\n      <th>LSOA name</th>\n      <th>Crime type</th>\n      <th>Last outcome category</th>\n      <th>Context</th>\n    </tr>\n  </thead>\n  <tbody>\n    <tr>\n      <th>0</th>\n      <td>NaN</td>\n      <td>2020-09</td>\n      <td>Dyfed-Powys Police</td>\n      <td>Dyfed-Powys Police</td>\n      <td>-4.264037</td>\n      <td>51.997506</td>\n      <td>On or near Maes Cader</td>\n      <td>W01000685</td>\n      <td>Carmarthenshire 001A</td>\n      <td>Anti-social behaviour</td>\n      <td>NaN</td>\n      <td>NaN</td>\n    </tr>\n    <tr>\n      <th>1</th>\n      <td>b267eefa1d1eb337b621de90d5760d92c363cd412fce00...</td>\n      <td>2020-09</td>\n      <td>Dyfed-Powys Police</td>\n      <td>Dyfed-Powys Police</td>\n      <td>-4.266697</td>\n      <td>51.999118</td>\n      <td>On or near Maes Derwenydd</td>\n      <td>W01000685</td>\n      <td>Carmarthenshire 001A</td>\n      <td>Drugs</td>\n      <td>Court result unavailable</td>\n      <td>NaN</td>\n    </tr>\n    <tr>\n      <th>2</th>\n      <td>210397977f9e987763464cacb7b13e20f6826b3e86e8f2...</td>\n      <td>2020-09</td>\n      <td>Dyfed-Powys Police</td>\n      <td>Dyfed-Powys Police</td>\n      <td>-4.266653</td>\n      <td>51.994506</td>\n      <td>On or near Rhandir Wen</td>\n      <td>W01000685</td>\n      <td>Carmarthenshire 001A</td>\n      <td>Other theft</td>\n      <td>Investigation complete; no suspect identified</td>\n      <td>NaN</td>\n    </tr>\n    <tr>\n      <th>3</th>\n      <td>b9793a8f607a449f7bebea470fcbae12566ef82cd528a9...</td>\n      <td>2020-09</td>\n      <td>Dyfed-Powys Police</td>\n      <td>Dyfed-Powys Police</td>\n      <td>-4.266653</td>\n      <td>51.994506</td>\n      <td>On or near Rhandir Wen</td>\n      <td>W01000685</td>\n      <td>Carmarthenshire 001A</td>\n      <td>Other theft</td>\n      <td>Investigation complete; no suspect identified</td>\n      <td>NaN</td>\n    </tr>\n    <tr>\n      <th>4</th>\n      <td>eeab3387f73521f608d64c6502cffdf1f7c8e256698533...</td>\n      <td>2020-09</td>\n      <td>Dyfed-Powys Police</td>\n      <td>Dyfed-Powys Police</td>\n      <td>-4.264037</td>\n      <td>51.997506</td>\n      <td>On or near Maes Cader</td>\n      <td>W01000685</td>\n      <td>Carmarthenshire 001A</td>\n      <td>Public order</td>\n      <td>Unable to prosecute suspect</td>\n      <td>NaN</td>\n    </tr>\n    <tr>\n      <th>...</th>\n      <td>...</td>\n      <td>...</td>\n      <td>...</td>\n      <td>...</td>\n      <td>...</td>\n      <td>...</td>\n      <td>...</td>\n      <td>...</td>\n      <td>...</td>\n      <td>...</td>\n      <td>...</td>\n      <td>...</td>\n    </tr>\n    <tr>\n      <th>12424</th>\n      <td>517600d43845c4c6712482951c62ce87cd3bd985867099...</td>\n      <td>2020-09</td>\n      <td>South Wales Police</td>\n      <td>South Wales Police</td>\n      <td>NaN</td>\n      <td>NaN</td>\n      <td>No Location</td>\n      <td>NaN</td>\n      <td>NaN</td>\n      <td>Violence and sexual offences</td>\n      <td>Offender given a caution</td>\n      <td>NaN</td>\n    </tr>\n    <tr>\n      <th>12425</th>\n      <td>51f37f650d4cb8c43973aea53967510b156f10ae9652ec...</td>\n      <td>2020-09</td>\n      <td>South Wales Police</td>\n      <td>South Wales Police</td>\n      <td>NaN</td>\n      <td>NaN</td>\n      <td>No Location</td>\n      <td>NaN</td>\n      <td>NaN</td>\n      <td>Violence and sexual offences</td>\n      <td>Offender given a caution</td>\n      <td>NaN</td>\n    </tr>\n    <tr>\n      <th>12426</th>\n      <td>8cd41a534135bc5dc073b462c3c85554fcec0f25ca3997...</td>\n      <td>2020-09</td>\n      <td>South Wales Police</td>\n      <td>South Wales Police</td>\n      <td>NaN</td>\n      <td>NaN</td>\n      <td>No Location</td>\n      <td>NaN</td>\n      <td>NaN</td>\n      <td>Violence and sexual offences</td>\n      <td>Unable to prosecute suspect</td>\n      <td>NaN</td>\n    </tr>\n    <tr>\n      <th>12427</th>\n      <td>9c4b505ca2376b8fa26cc7aa4c53d67e110eccef3c0a37...</td>\n      <td>2020-09</td>\n      <td>South Wales Police</td>\n      <td>South Wales Police</td>\n      <td>NaN</td>\n      <td>NaN</td>\n      <td>No Location</td>\n      <td>NaN</td>\n      <td>NaN</td>\n      <td>Other crime</td>\n      <td>Status update unavailable</td>\n      <td>NaN</td>\n    </tr>\n    <tr>\n      <th>12428</th>\n      <td>720da3faed4692dc462cec4a0dfd8209c6e1a236f7611b...</td>\n      <td>2020-09</td>\n      <td>South Wales Police</td>\n      <td>South Wales Police</td>\n      <td>NaN</td>\n      <td>NaN</td>\n      <td>No Location</td>\n      <td>NaN</td>\n      <td>NaN</td>\n      <td>Other crime</td>\n      <td>Status update unavailable</td>\n      <td>NaN</td>\n    </tr>\n  </tbody>\n</table>\n<p>329814 rows × 12 columns</p>\n</div>"
     },
     "metadata": {}
    }
   ]
  },
  {
   "cell_type": "code",
   "metadata": {
    "cell_id": "00004-c13d568a-5c00-440b-91c2-72b3b1ab7041",
    "deepnote_to_be_reexecuted": false,
    "source_hash": "c32cb4ac",
    "execution_start": 1644930554330,
    "execution_millis": 73,
    "deepnote_cell_type": "code",
    "deepnote_cell_height": 598
   },
   "source": "df_outcome",
   "execution_count": null,
   "outputs": [
    {
     "output_type": "execute_result",
     "execution_count": 5,
     "data": {
      "application/vnd.deepnote.dataframe.v3+json": {
       "column_count": 10,
       "row_count": 261354,
       "columns": [
        {
         "name": "Crime ID",
         "dtype": "object"
        },
        {
         "name": "Month",
         "dtype": "object"
        },
        {
         "name": "Reported by",
         "dtype": "object"
        },
        {
         "name": "Falls within",
         "dtype": "object"
        },
        {
         "name": "Longitude",
         "dtype": "float64"
        },
        {
         "name": "Latitude",
         "dtype": "float64"
        },
        {
         "name": "Location",
         "dtype": "object"
        },
        {
         "name": "LSOA code",
         "dtype": "object"
        },
        {
         "name": "LSOA name",
         "dtype": "object"
        },
        {
         "name": "Outcome type",
         "dtype": "object"
        },
        {
         "name": "_deepnote_index_column",
         "dtype": "int64"
        }
       ],
       "rows": [
        {
         "Crime ID": "6218c92fc68f7c5f2a10fa08b6a65c31b59b0eedf2d12f8e7cec8d45772c7703",
         "Month": "2020-09",
         "Reported by": "Bedfordshire Police",
         "Falls within": "Bedfordshire Police",
         "Longitude": -0.454797,
         "Latitude": 52.126757,
         "Location": "On or near BARFORD AVENUE",
         "LSOA code": "E01017523",
         "LSOA name": "Bedford 014F",
         "Outcome type": "Investigation complete; no suspect identified",
         "_deepnote_index_column": 0
        },
        {
         "Crime ID": "cae7a8ca58ecf18d36a0d21366881c80c66a14f062be21ac6bd40211c7421025",
         "Month": "2020-09",
         "Reported by": "Bedfordshire Police",
         "Falls within": "Bedfordshire Police",
         "Longitude": -0.419811,
         "Latitude": 51.912476,
         "Location": "On or near RINGWOOD ROAD",
         "LSOA code": "E01015747",
         "LSOA name": "Luton 004C",
         "Outcome type": "Local resolution",
         "_deepnote_index_column": 1
        },
        {
         "Crime ID": "e768eccecfea72598d3b27738502bef164643ea9099967fc566b6d7e6c323e35",
         "Month": "2020-09",
         "Reported by": "Bedfordshire Police",
         "Falls within": "Bedfordshire Police",
         "Longitude": -0.406447,
         "Latitude": 51.873515,
         "Location": "On or near PARK STREET",
         "LSOA code": "E01015789",
         "LSOA name": "Luton 018E",
         "Outcome type": "Suspect charged",
         "_deepnote_index_column": 2
        },
        {
         "Crime ID": "af86eb04e1b09e1e6c4421d0473abf48f44e85015916c9b03fd6259ee5189f94",
         "Month": "2020-09",
         "Reported by": "Bedfordshire Police",
         "Falls within": "Bedfordshire Police",
         "Longitude": -0.517208,
         "Latitude": 51.889511,
         "Location": "On or near THE MALL",
         "LSOA code": "E01017570",
         "LSOA name": "Central Bedfordshire 029E",
         "Outcome type": "Investigation complete; no suspect identified",
         "_deepnote_index_column": 3
        },
        {
         "Crime ID": "5de1bc42ba0c6e8697bfe195982a660cb9061ad35f40f0b57ff94d0715e2ea56",
         "Month": "2020-09",
         "Reported by": "Bedfordshire Police",
         "Falls within": "Bedfordshire Police",
         "Longitude": -0.543713,
         "Latitude": 52.224597,
         "Location": "On or near HOME CLOSE",
         "LSOA code": "E01017544",
         "LSOA name": "Bedford 001C",
         "Outcome type": "Investigation complete; no suspect identified",
         "_deepnote_index_column": 4
        },
        {
         "Crime ID": "7f9ecffd5005cb88bb83808f46e322125f11cd705e2fbbbf008494c1de98807a",
         "Month": "2020-09",
         "Reported by": "Bedfordshire Police",
         "Falls within": "Bedfordshire Police",
         "Longitude": -0.504334,
         "Latitude": 51.874602,
         "Location": "On or near LONDON ROAD",
         "LSOA code": "E01017624",
         "LSOA name": "Central Bedfordshire 031B",
         "Outcome type": "Suspect charged",
         "_deepnote_index_column": 5
        },
        {
         "Crime ID": "72bc83d3be937d2df3b88f9413bf1ec94680b4485b62f2638eacd63dc434094a",
         "Month": "2020-09",
         "Reported by": "Bedfordshire Police",
         "Falls within": "Bedfordshire Police",
         "Longitude": -0.394968,
         "Latitude": 51.888294,
         "Location": "On or near SOMERSET AVENUE",
         "LSOA code": "E01015780",
         "LSOA name": "Luton 016E",
         "Outcome type": "Investigation complete; no suspect identified",
         "_deepnote_index_column": 6
        },
        {
         "Crime ID": "17c7829198460e5d52f95e319cefc07cf1d65ab25b3bbaa580e647563dc66832",
         "Month": "2020-09",
         "Reported by": "Bedfordshire Police",
         "Falls within": "Bedfordshire Police",
         "Longitude": -0.247544,
         "Latitude": 52.020492,
         "Location": "On or near Sports/Recreation Area",
         "LSOA code": "E01017377",
         "LSOA name": "Central Bedfordshire 010B",
         "Outcome type": "Investigation complete; no suspect identified",
         "_deepnote_index_column": 7
        },
        {
         "Crime ID": "55ab8093100ac3523b4f13587aed7ad18d955614ffdc5b642b097f3b16d18f8b",
         "Month": "2020-09",
         "Reported by": "Bedfordshire Police",
         "Falls within": "Bedfordshire Police",
         "Longitude": -0.401598,
         "Latitude": 51.883277,
         "Location": "On or near DERWENT ROAD",
         "LSOA code": "E01015720",
         "LSOA name": "Luton 016B",
         "Outcome type": "Suspect charged",
         "_deepnote_index_column": 8
        },
        {
         "Crime ID": "8fc40df3af659f4d48d50b6639efd4d597c63a7ac64f91adaca8595371296950",
         "Month": "2020-09",
         "Reported by": "Bedfordshire Police",
         "Falls within": "Bedfordshire Police",
         "Longitude": -0.413327,
         "Latitude": 51.879443,
         "Location": "On or near Supermarket",
         "LSOA code": "E01015794",
         "LSOA name": "Luton 018F",
         "Outcome type": "Unable to prosecute suspect",
         "_deepnote_index_column": 9
        }
       ]
      },
      "text/plain": "                                               Crime ID    Month  \\\n0     6218c92fc68f7c5f2a10fa08b6a65c31b59b0eedf2d12f...  2020-09   \n1     cae7a8ca58ecf18d36a0d21366881c80c66a14f062be21...  2020-09   \n2     e768eccecfea72598d3b27738502bef164643ea9099967...  2020-09   \n3     af86eb04e1b09e1e6c4421d0473abf48f44e85015916c9...  2020-09   \n4     5de1bc42ba0c6e8697bfe195982a660cb9061ad35f40f0...  2020-09   \n...                                                 ...      ...   \n7146  6b4b1922463231c0125b4ba55a0f39e3bfa0f6fbf97eff...  2020-09   \n7147  00627dbc43282b72bcd2b07ab9741064c1eadaf92de934...  2020-09   \n7148  78298e6740b649d5b51da24f9aff8e63c5a24b7a87a83d...  2020-09   \n7149  5da085c500507ed56d4b7142c625410fe29fc805ecbf51...  2020-09   \n7150  2d118013cd93058adb09a62d968a5ad4668bc2aa9182e8...  2020-09   \n\n                  Reported by             Falls within  Longitude   Latitude  \\\n0         Bedfordshire Police      Bedfordshire Police  -0.454797  52.126757   \n1         Bedfordshire Police      Bedfordshire Police  -0.419811  51.912476   \n2         Bedfordshire Police      Bedfordshire Police  -0.406447  51.873515   \n3         Bedfordshire Police      Bedfordshire Police  -0.517208  51.889511   \n4         Bedfordshire Police      Bedfordshire Police  -0.543713  52.224597   \n...                       ...                      ...        ...        ...   \n7146  Derbyshire Constabulary  Derbyshire Constabulary  -1.512480  52.908272   \n7147  Derbyshire Constabulary  Derbyshire Constabulary  -1.493638  52.900849   \n7148  Derbyshire Constabulary  Derbyshire Constabulary  -1.685357  52.865751   \n7149  Derbyshire Constabulary  Derbyshire Constabulary  -1.334561  53.099897   \n7150  Derbyshire Constabulary  Derbyshire Constabulary  -1.482254  52.901780   \n\n                         Location  LSOA code                  LSOA name  \\\n0       On or near BARFORD AVENUE  E01017523               Bedford 014F   \n1        On or near RINGWOOD ROAD  E01015747                 Luton 004C   \n2          On or near PARK STREET  E01015789                 Luton 018E   \n3             On or near THE MALL  E01017570  Central Bedfordshire 029E   \n4           On or near HOME CLOSE  E01017544               Bedford 001C   \n...                           ...        ...                        ...   \n7146    On or near BALMORAL CLOSE  E01013543                 Derby 021C   \n7147   On or near FOREMARK AVENUE  E01013491                 Derby 022D   \n7148     On or near SCROPTON ROAD  E01019846      South Derbyshire 001C   \n7149      On or near WILLOW CLOSE  E01019517              Bolsover 010E   \n7150  On or near BRUNSWICK STREET  E01013570                 Derby 023A   \n\n                                       Outcome type  \n0     Investigation complete; no suspect identified  \n1                                  Local resolution  \n2                                   Suspect charged  \n3     Investigation complete; no suspect identified  \n4     Investigation complete; no suspect identified  \n...                                             ...  \n7146                                Suspect charged  \n7147                                Suspect charged  \n7148                                Suspect charged  \n7149                                Suspect charged  \n7150                    Unable to prosecute suspect  \n\n[261354 rows x 10 columns]",
      "text/html": "<div>\n<style scoped>\n    .dataframe tbody tr th:only-of-type {\n        vertical-align: middle;\n    }\n\n    .dataframe tbody tr th {\n        vertical-align: top;\n    }\n\n    .dataframe thead th {\n        text-align: right;\n    }\n</style>\n<table border=\"1\" class=\"dataframe\">\n  <thead>\n    <tr style=\"text-align: right;\">\n      <th></th>\n      <th>Crime ID</th>\n      <th>Month</th>\n      <th>Reported by</th>\n      <th>Falls within</th>\n      <th>Longitude</th>\n      <th>Latitude</th>\n      <th>Location</th>\n      <th>LSOA code</th>\n      <th>LSOA name</th>\n      <th>Outcome type</th>\n    </tr>\n  </thead>\n  <tbody>\n    <tr>\n      <th>0</th>\n      <td>6218c92fc68f7c5f2a10fa08b6a65c31b59b0eedf2d12f...</td>\n      <td>2020-09</td>\n      <td>Bedfordshire Police</td>\n      <td>Bedfordshire Police</td>\n      <td>-0.454797</td>\n      <td>52.126757</td>\n      <td>On or near BARFORD AVENUE</td>\n      <td>E01017523</td>\n      <td>Bedford 014F</td>\n      <td>Investigation complete; no suspect identified</td>\n    </tr>\n    <tr>\n      <th>1</th>\n      <td>cae7a8ca58ecf18d36a0d21366881c80c66a14f062be21...</td>\n      <td>2020-09</td>\n      <td>Bedfordshire Police</td>\n      <td>Bedfordshire Police</td>\n      <td>-0.419811</td>\n      <td>51.912476</td>\n      <td>On or near RINGWOOD ROAD</td>\n      <td>E01015747</td>\n      <td>Luton 004C</td>\n      <td>Local resolution</td>\n    </tr>\n    <tr>\n      <th>2</th>\n      <td>e768eccecfea72598d3b27738502bef164643ea9099967...</td>\n      <td>2020-09</td>\n      <td>Bedfordshire Police</td>\n      <td>Bedfordshire Police</td>\n      <td>-0.406447</td>\n      <td>51.873515</td>\n      <td>On or near PARK STREET</td>\n      <td>E01015789</td>\n      <td>Luton 018E</td>\n      <td>Suspect charged</td>\n    </tr>\n    <tr>\n      <th>3</th>\n      <td>af86eb04e1b09e1e6c4421d0473abf48f44e85015916c9...</td>\n      <td>2020-09</td>\n      <td>Bedfordshire Police</td>\n      <td>Bedfordshire Police</td>\n      <td>-0.517208</td>\n      <td>51.889511</td>\n      <td>On or near THE MALL</td>\n      <td>E01017570</td>\n      <td>Central Bedfordshire 029E</td>\n      <td>Investigation complete; no suspect identified</td>\n    </tr>\n    <tr>\n      <th>4</th>\n      <td>5de1bc42ba0c6e8697bfe195982a660cb9061ad35f40f0...</td>\n      <td>2020-09</td>\n      <td>Bedfordshire Police</td>\n      <td>Bedfordshire Police</td>\n      <td>-0.543713</td>\n      <td>52.224597</td>\n      <td>On or near HOME CLOSE</td>\n      <td>E01017544</td>\n      <td>Bedford 001C</td>\n      <td>Investigation complete; no suspect identified</td>\n    </tr>\n    <tr>\n      <th>...</th>\n      <td>...</td>\n      <td>...</td>\n      <td>...</td>\n      <td>...</td>\n      <td>...</td>\n      <td>...</td>\n      <td>...</td>\n      <td>...</td>\n      <td>...</td>\n      <td>...</td>\n    </tr>\n    <tr>\n      <th>7146</th>\n      <td>6b4b1922463231c0125b4ba55a0f39e3bfa0f6fbf97eff...</td>\n      <td>2020-09</td>\n      <td>Derbyshire Constabulary</td>\n      <td>Derbyshire Constabulary</td>\n      <td>-1.512480</td>\n      <td>52.908272</td>\n      <td>On or near BALMORAL CLOSE</td>\n      <td>E01013543</td>\n      <td>Derby 021C</td>\n      <td>Suspect charged</td>\n    </tr>\n    <tr>\n      <th>7147</th>\n      <td>00627dbc43282b72bcd2b07ab9741064c1eadaf92de934...</td>\n      <td>2020-09</td>\n      <td>Derbyshire Constabulary</td>\n      <td>Derbyshire Constabulary</td>\n      <td>-1.493638</td>\n      <td>52.900849</td>\n      <td>On or near FOREMARK AVENUE</td>\n      <td>E01013491</td>\n      <td>Derby 022D</td>\n      <td>Suspect charged</td>\n    </tr>\n    <tr>\n      <th>7148</th>\n      <td>78298e6740b649d5b51da24f9aff8e63c5a24b7a87a83d...</td>\n      <td>2020-09</td>\n      <td>Derbyshire Constabulary</td>\n      <td>Derbyshire Constabulary</td>\n      <td>-1.685357</td>\n      <td>52.865751</td>\n      <td>On or near SCROPTON ROAD</td>\n      <td>E01019846</td>\n      <td>South Derbyshire 001C</td>\n      <td>Suspect charged</td>\n    </tr>\n    <tr>\n      <th>7149</th>\n      <td>5da085c500507ed56d4b7142c625410fe29fc805ecbf51...</td>\n      <td>2020-09</td>\n      <td>Derbyshire Constabulary</td>\n      <td>Derbyshire Constabulary</td>\n      <td>-1.334561</td>\n      <td>53.099897</td>\n      <td>On or near WILLOW CLOSE</td>\n      <td>E01019517</td>\n      <td>Bolsover 010E</td>\n      <td>Suspect charged</td>\n    </tr>\n    <tr>\n      <th>7150</th>\n      <td>2d118013cd93058adb09a62d968a5ad4668bc2aa9182e8...</td>\n      <td>2020-09</td>\n      <td>Derbyshire Constabulary</td>\n      <td>Derbyshire Constabulary</td>\n      <td>-1.482254</td>\n      <td>52.901780</td>\n      <td>On or near BRUNSWICK STREET</td>\n      <td>E01013570</td>\n      <td>Derby 023A</td>\n      <td>Unable to prosecute suspect</td>\n    </tr>\n  </tbody>\n</table>\n<p>261354 rows × 10 columns</p>\n</div>"
     },
     "metadata": {}
    }
   ]
  },
  {
   "cell_type": "code",
   "metadata": {
    "cell_id": "00005-d07237c0-6632-49f3-9fec-5514c02f5e96",
    "deepnote_to_be_reexecuted": false,
    "source_hash": "ff06a957",
    "execution_start": 1644930554406,
    "execution_millis": 139,
    "deepnote_cell_type": "code",
    "deepnote_cell_height": 598
   },
   "source": "df_sas",
   "execution_count": null,
   "outputs": [
    {
     "output_type": "execute_result",
     "execution_count": 6,
     "data": {
      "application/vnd.deepnote.dataframe.v3+json": {
       "column_count": 15,
       "row_count": 46926,
       "columns": [
        {
         "name": "Type",
         "dtype": "object",
         "stats": {
          "unique_count": 3,
          "nan_count": 0,
          "categories": [
           {
            "name": "Person search",
            "count": 35383
           },
           {
            "name": "Person and Vehicle search",
            "count": 10262
           },
           {
            "name": "Vehicle search",
            "count": 1281
           }
          ]
         }
        },
        {
         "name": "Date",
         "dtype": "object",
         "stats": {
          "unique_count": 22138,
          "nan_count": 0,
          "categories": [
           {
            "name": "2020-09-25T23:00:00+00:00",
            "count": 65
           },
           {
            "name": "2020-09-19T23:00:00+00:00",
            "count": 63
           },
           {
            "name": "22136 others",
            "count": 46798
           }
          ]
         }
        },
        {
         "name": "Part of a policing operation",
         "dtype": "object"
        },
        {
         "name": "Policing operation",
         "dtype": "float64"
        },
        {
         "name": "Latitude",
         "dtype": "float64"
        },
        {
         "name": "Longitude",
         "dtype": "float64"
        },
        {
         "name": "Gender",
         "dtype": "object"
        },
        {
         "name": "Age range",
         "dtype": "object"
        },
        {
         "name": "Self-defined ethnicity",
         "dtype": "object"
        },
        {
         "name": "Officer-defined ethnicity",
         "dtype": "object"
        },
        {
         "name": "Legislation",
         "dtype": "object"
        },
        {
         "name": "Object of search",
         "dtype": "object"
        },
        {
         "name": "Outcome",
         "dtype": "object"
        },
        {
         "name": "Outcome linked to object of search",
         "dtype": "object"
        },
        {
         "name": "Removal of more than just outer clothing",
         "dtype": "object"
        },
        {
         "name": "_deepnote_index_column",
         "dtype": "int64"
        }
       ],
       "rows": [
        {
         "Type": "Person search",
         "Date": "2020-08-31T23:30:19+00:00",
         "Part of a policing operation": "0.0",
         "Policing operation": "nan",
         "Latitude": 52.602701,
         "Longitude": 0.376608,
         "Gender": "Male",
         "Age range": "over 34",
         "Self-defined ethnicity": "White - English/Welsh/Scottish/Northern Irish/British",
         "Officer-defined ethnicity": "White",
         "Legislation": "Police and Criminal Evidence Act 1984 (section 1)",
         "Object of search": "Article for use in theft",
         "Outcome": "A no further action disposal",
         "Outcome linked to object of search": "0.0",
         "Removal of more than just outer clothing": "0.0",
         "_deepnote_index_column": 0
        },
        {
         "Type": "Person search",
         "Date": "2020-09-01T08:35:31+00:00",
         "Part of a policing operation": "0.0",
         "Policing operation": "nan",
         "Latitude": 52.416985,
         "Longitude": 0.743852,
         "Gender": "Male",
         "Age range": "25-34",
         "Self-defined ethnicity": "White - English/Welsh/Scottish/Northern Irish/British",
         "Officer-defined ethnicity": "White",
         "Legislation": "Misuse of Drugs Act 1971 (section 23)",
         "Object of search": "Controlled drugs",
         "Outcome": "A no further action disposal",
         "Outcome linked to object of search": "1.0",
         "Removal of more than just outer clothing": "0.0",
         "_deepnote_index_column": 1
        },
        {
         "Type": "Person search",
         "Date": "2020-09-01T12:14:22+00:00",
         "Part of a policing operation": "0.0",
         "Policing operation": "nan",
         "Latitude": 52.607668,
         "Longitude": 1.72609,
         "Gender": "Male",
         "Age range": "25-34",
         "Self-defined ethnicity": "Black/African/Caribbean/Black British - African",
         "Officer-defined ethnicity": "Black",
         "Legislation": "Misuse of Drugs Act 1971 (section 23)",
         "Object of search": "Controlled drugs",
         "Outcome": "A no further action disposal",
         "Outcome linked to object of search": "0.0",
         "Removal of more than just outer clothing": "0.0",
         "_deepnote_index_column": 2
        },
        {
         "Type": "Person search",
         "Date": "2020-09-01T12:23:05+00:00",
         "Part of a policing operation": "0.0",
         "Policing operation": "nan",
         "Latitude": 52.41225,
         "Longitude": 0.732793,
         "Gender": "Male",
         "Age range": "over 34",
         "Self-defined ethnicity": "White - English/Welsh/Scottish/Northern Irish/British",
         "Officer-defined ethnicity": "White",
         "Legislation": "Police and Criminal Evidence Act 1984 (section 1)",
         "Object of search": "Article for use in theft",
         "Outcome": "A no further action disposal",
         "Outcome linked to object of search": "0.0",
         "Removal of more than just outer clothing": "0.0",
         "_deepnote_index_column": 3
        },
        {
         "Type": "Person search",
         "Date": "2020-09-01T13:54:00+00:00",
         "Part of a policing operation": "0.0",
         "Policing operation": "nan",
         "Latitude": 52.616957,
         "Longitude": 1.721028,
         "Gender": "Male",
         "Age range": "25-34",
         "Self-defined ethnicity": "White - English/Welsh/Scottish/Northern Irish/British",
         "Officer-defined ethnicity": "White",
         "Legislation": "Misuse of Drugs Act 1971 (section 23)",
         "Object of search": "Controlled drugs",
         "Outcome": "A no further action disposal",
         "Outcome linked to object of search": "0.0",
         "Removal of more than just outer clothing": "0.0",
         "_deepnote_index_column": 4
        },
        {
         "Type": "Person search",
         "Date": "2020-09-01T14:33:43+00:00",
         "Part of a policing operation": "0.0",
         "Policing operation": "nan",
         "Latitude": 52.413757,
         "Longitude": 0.735666,
         "Gender": "Male",
         "Age range": "25-34",
         "Self-defined ethnicity": "White - Any other White background",
         "Officer-defined ethnicity": "White",
         "Legislation": "Misuse of Drugs Act 1971 (section 23)",
         "Object of search": "Controlled drugs",
         "Outcome": "A no further action disposal",
         "Outcome linked to object of search": "0.0",
         "Removal of more than just outer clothing": "0.0",
         "_deepnote_index_column": 5
        },
        {
         "Type": "Person search",
         "Date": "2020-09-01T15:10:20+00:00",
         "Part of a policing operation": "0.0",
         "Policing operation": "nan",
         "Latitude": 52.660702,
         "Longitude": 1.721477,
         "Gender": "Male",
         "Age range": "10-17",
         "Self-defined ethnicity": "White - English/Welsh/Scottish/Northern Irish/British",
         "Officer-defined ethnicity": "White",
         "Legislation": "Misuse of Drugs Act 1971 (section 23)",
         "Object of search": "Controlled drugs",
         "Outcome": "A no further action disposal",
         "Outcome linked to object of search": "0.0",
         "Removal of more than just outer clothing": "0.0",
         "_deepnote_index_column": 6
        },
        {
         "Type": "Person search",
         "Date": "2020-09-01T15:10:20+00:00",
         "Part of a policing operation": "0.0",
         "Policing operation": "nan",
         "Latitude": 52.660702,
         "Longitude": 1.721477,
         "Gender": "Male",
         "Age range": "18-24",
         "Self-defined ethnicity": "Other ethnic group - Not stated",
         "Officer-defined ethnicity": "White",
         "Legislation": "Misuse of Drugs Act 1971 (section 23)",
         "Object of search": "Controlled drugs",
         "Outcome": "A no further action disposal",
         "Outcome linked to object of search": "0.0",
         "Removal of more than just outer clothing": "0.0",
         "_deepnote_index_column": 7
        },
        {
         "Type": "Person search",
         "Date": "2020-09-01T15:10:20+00:00",
         "Part of a policing operation": "0.0",
         "Policing operation": "nan",
         "Latitude": 52.660702,
         "Longitude": 1.721477,
         "Gender": "Male",
         "Age range": "18-24",
         "Self-defined ethnicity": "White - English/Welsh/Scottish/Northern Irish/British",
         "Officer-defined ethnicity": "White",
         "Legislation": "Misuse of Drugs Act 1971 (section 23)",
         "Object of search": "Controlled drugs",
         "Outcome": "A no further action disposal",
         "Outcome linked to object of search": "0.0",
         "Removal of more than just outer clothing": "0.0",
         "_deepnote_index_column": 8
        },
        {
         "Type": "Person search",
         "Date": "2020-09-01T15:25:00+00:00",
         "Part of a policing operation": "0.0",
         "Policing operation": "nan",
         "Latitude": 52.413318,
         "Longitude": 0.749948,
         "Gender": "Male",
         "Age range": "over 34",
         "Self-defined ethnicity": "White - Any other White background",
         "Officer-defined ethnicity": "White",
         "Legislation": "Misuse of Drugs Act 1971 (section 23)",
         "Object of search": "Evidence of offences under the Act",
         "Outcome": "A no further action disposal",
         "Outcome linked to object of search": "1.0",
         "Removal of more than just outer clothing": "0.0",
         "_deepnote_index_column": 9
        }
       ]
      },
      "text/plain": "                          Type                       Date  \\\n0                Person search  2020-08-31T23:30:19+00:00   \n1                Person search  2020-09-01T08:35:31+00:00   \n2                Person search  2020-09-01T12:14:22+00:00   \n3                Person search  2020-09-01T12:23:05+00:00   \n4                Person search  2020-09-01T13:54:00+00:00   \n..                         ...                        ...   \n668  Person and Vehicle search  2020-09-30T17:30:00+00:00   \n669  Person and Vehicle search  2020-09-30T17:30:00+00:00   \n670  Person and Vehicle search  2020-09-30T18:34:00+00:00   \n671              Person search  2020-09-30T18:45:00+00:00   \n672              Person search  2020-09-30T22:20:00+00:00   \n\n    Part of a policing operation  Policing operation   Latitude  Longitude  \\\n0                            0.0                 NaN  52.602701   0.376608   \n1                            0.0                 NaN  52.416985   0.743852   \n2                            0.0                 NaN  52.607668   1.726090   \n3                            0.0                 NaN  52.412250   0.732793   \n4                            0.0                 NaN  52.616957   1.721028   \n..                           ...                 ...        ...        ...   \n668                        False                 NaN        NaN        NaN   \n669                        False                 NaN        NaN        NaN   \n670                        False                 NaN  51.889463  -0.183444   \n671                        False                 NaN  51.889463  -0.183444   \n672                        False                 NaN  51.798835  -0.072935   \n\n     Gender Age range                             Self-defined ethnicity  \\\n0      Male   over 34  White - English/Welsh/Scottish/Northern Irish/...   \n1      Male     25-34  White - English/Welsh/Scottish/Northern Irish/...   \n2      Male     25-34    Black/African/Caribbean/Black British - African   \n3      Male   over 34  White - English/Welsh/Scottish/Northern Irish/...   \n4      Male     25-34  White - English/Welsh/Scottish/Northern Irish/...   \n..      ...       ...                                                ...   \n668    Male     25-34   Asian/Asian British - Any other Asian background   \n669    Male   over 34   Asian/Asian British - Any other Asian background   \n670    Male     18-24                    Other ethnic group - Not stated   \n671  Female     18-24  White - English/Welsh/Scottish/Northern Irish/...   \n672    Male     25-34                    Other ethnic group - Not stated   \n\n    Officer-defined ethnicity  \\\n0                       White   \n1                       White   \n2                       Black   \n3                       White   \n4                       White   \n..                        ...   \n668                     Asian   \n669                     Asian   \n670                     Black   \n671                     White   \n672                     Black   \n\n                                           Legislation  \\\n0    Police and Criminal Evidence Act 1984 (section 1)   \n1                Misuse of Drugs Act 1971 (section 23)   \n2                Misuse of Drugs Act 1971 (section 23)   \n3    Police and Criminal Evidence Act 1984 (section 1)   \n4                Misuse of Drugs Act 1971 (section 23)   \n..                                                 ...   \n668              Misuse of Drugs Act 1971 (section 23)   \n669              Misuse of Drugs Act 1971 (section 23)   \n670              Misuse of Drugs Act 1971 (section 23)   \n671              Misuse of Drugs Act 1971 (section 23)   \n672  Police and Criminal Evidence Act 1984 (section 1)   \n\n             Object of search                       Outcome  \\\n0    Article for use in theft  A no further action disposal   \n1            Controlled drugs  A no further action disposal   \n2            Controlled drugs  A no further action disposal   \n3    Article for use in theft  A no further action disposal   \n4            Controlled drugs  A no further action disposal   \n..                        ...                           ...   \n668          Controlled drugs  A no further action disposal   \n669          Controlled drugs  A no further action disposal   \n670          Controlled drugs  A no further action disposal   \n671          Controlled drugs  A no further action disposal   \n672  Article for use in theft  A no further action disposal   \n\n    Outcome linked to object of search  \\\n0                                  0.0   \n1                                  1.0   \n2                                  0.0   \n3                                  0.0   \n4                                  0.0   \n..                                 ...   \n668                                NaN   \n669                                NaN   \n670                                NaN   \n671                                NaN   \n672                                NaN   \n\n    Removal of more than just outer clothing  \n0                                        0.0  \n1                                        0.0  \n2                                        0.0  \n3                                        0.0  \n4                                        0.0  \n..                                       ...  \n668                                    False  \n669                                    False  \n670                                    False  \n671                                    False  \n672                                    False  \n\n[46926 rows x 15 columns]",
      "text/html": "<div>\n<style scoped>\n    .dataframe tbody tr th:only-of-type {\n        vertical-align: middle;\n    }\n\n    .dataframe tbody tr th {\n        vertical-align: top;\n    }\n\n    .dataframe thead th {\n        text-align: right;\n    }\n</style>\n<table border=\"1\" class=\"dataframe\">\n  <thead>\n    <tr style=\"text-align: right;\">\n      <th></th>\n      <th>Type</th>\n      <th>Date</th>\n      <th>Part of a policing operation</th>\n      <th>Policing operation</th>\n      <th>Latitude</th>\n      <th>Longitude</th>\n      <th>Gender</th>\n      <th>Age range</th>\n      <th>Self-defined ethnicity</th>\n      <th>Officer-defined ethnicity</th>\n      <th>Legislation</th>\n      <th>Object of search</th>\n      <th>Outcome</th>\n      <th>Outcome linked to object of search</th>\n      <th>Removal of more than just outer clothing</th>\n    </tr>\n  </thead>\n  <tbody>\n    <tr>\n      <th>0</th>\n      <td>Person search</td>\n      <td>2020-08-31T23:30:19+00:00</td>\n      <td>0.0</td>\n      <td>NaN</td>\n      <td>52.602701</td>\n      <td>0.376608</td>\n      <td>Male</td>\n      <td>over 34</td>\n      <td>White - English/Welsh/Scottish/Northern Irish/...</td>\n      <td>White</td>\n      <td>Police and Criminal Evidence Act 1984 (section 1)</td>\n      <td>Article for use in theft</td>\n      <td>A no further action disposal</td>\n      <td>0.0</td>\n      <td>0.0</td>\n    </tr>\n    <tr>\n      <th>1</th>\n      <td>Person search</td>\n      <td>2020-09-01T08:35:31+00:00</td>\n      <td>0.0</td>\n      <td>NaN</td>\n      <td>52.416985</td>\n      <td>0.743852</td>\n      <td>Male</td>\n      <td>25-34</td>\n      <td>White - English/Welsh/Scottish/Northern Irish/...</td>\n      <td>White</td>\n      <td>Misuse of Drugs Act 1971 (section 23)</td>\n      <td>Controlled drugs</td>\n      <td>A no further action disposal</td>\n      <td>1.0</td>\n      <td>0.0</td>\n    </tr>\n    <tr>\n      <th>2</th>\n      <td>Person search</td>\n      <td>2020-09-01T12:14:22+00:00</td>\n      <td>0.0</td>\n      <td>NaN</td>\n      <td>52.607668</td>\n      <td>1.726090</td>\n      <td>Male</td>\n      <td>25-34</td>\n      <td>Black/African/Caribbean/Black British - African</td>\n      <td>Black</td>\n      <td>Misuse of Drugs Act 1971 (section 23)</td>\n      <td>Controlled drugs</td>\n      <td>A no further action disposal</td>\n      <td>0.0</td>\n      <td>0.0</td>\n    </tr>\n    <tr>\n      <th>3</th>\n      <td>Person search</td>\n      <td>2020-09-01T12:23:05+00:00</td>\n      <td>0.0</td>\n      <td>NaN</td>\n      <td>52.412250</td>\n      <td>0.732793</td>\n      <td>Male</td>\n      <td>over 34</td>\n      <td>White - English/Welsh/Scottish/Northern Irish/...</td>\n      <td>White</td>\n      <td>Police and Criminal Evidence Act 1984 (section 1)</td>\n      <td>Article for use in theft</td>\n      <td>A no further action disposal</td>\n      <td>0.0</td>\n      <td>0.0</td>\n    </tr>\n    <tr>\n      <th>4</th>\n      <td>Person search</td>\n      <td>2020-09-01T13:54:00+00:00</td>\n      <td>0.0</td>\n      <td>NaN</td>\n      <td>52.616957</td>\n      <td>1.721028</td>\n      <td>Male</td>\n      <td>25-34</td>\n      <td>White - English/Welsh/Scottish/Northern Irish/...</td>\n      <td>White</td>\n      <td>Misuse of Drugs Act 1971 (section 23)</td>\n      <td>Controlled drugs</td>\n      <td>A no further action disposal</td>\n      <td>0.0</td>\n      <td>0.0</td>\n    </tr>\n    <tr>\n      <th>...</th>\n      <td>...</td>\n      <td>...</td>\n      <td>...</td>\n      <td>...</td>\n      <td>...</td>\n      <td>...</td>\n      <td>...</td>\n      <td>...</td>\n      <td>...</td>\n      <td>...</td>\n      <td>...</td>\n      <td>...</td>\n      <td>...</td>\n      <td>...</td>\n      <td>...</td>\n    </tr>\n    <tr>\n      <th>668</th>\n      <td>Person and Vehicle search</td>\n      <td>2020-09-30T17:30:00+00:00</td>\n      <td>False</td>\n      <td>NaN</td>\n      <td>NaN</td>\n      <td>NaN</td>\n      <td>Male</td>\n      <td>25-34</td>\n      <td>Asian/Asian British - Any other Asian background</td>\n      <td>Asian</td>\n      <td>Misuse of Drugs Act 1971 (section 23)</td>\n      <td>Controlled drugs</td>\n      <td>A no further action disposal</td>\n      <td>NaN</td>\n      <td>False</td>\n    </tr>\n    <tr>\n      <th>669</th>\n      <td>Person and Vehicle search</td>\n      <td>2020-09-30T17:30:00+00:00</td>\n      <td>False</td>\n      <td>NaN</td>\n      <td>NaN</td>\n      <td>NaN</td>\n      <td>Male</td>\n      <td>over 34</td>\n      <td>Asian/Asian British - Any other Asian background</td>\n      <td>Asian</td>\n      <td>Misuse of Drugs Act 1971 (section 23)</td>\n      <td>Controlled drugs</td>\n      <td>A no further action disposal</td>\n      <td>NaN</td>\n      <td>False</td>\n    </tr>\n    <tr>\n      <th>670</th>\n      <td>Person and Vehicle search</td>\n      <td>2020-09-30T18:34:00+00:00</td>\n      <td>False</td>\n      <td>NaN</td>\n      <td>51.889463</td>\n      <td>-0.183444</td>\n      <td>Male</td>\n      <td>18-24</td>\n      <td>Other ethnic group - Not stated</td>\n      <td>Black</td>\n      <td>Misuse of Drugs Act 1971 (section 23)</td>\n      <td>Controlled drugs</td>\n      <td>A no further action disposal</td>\n      <td>NaN</td>\n      <td>False</td>\n    </tr>\n    <tr>\n      <th>671</th>\n      <td>Person search</td>\n      <td>2020-09-30T18:45:00+00:00</td>\n      <td>False</td>\n      <td>NaN</td>\n      <td>51.889463</td>\n      <td>-0.183444</td>\n      <td>Female</td>\n      <td>18-24</td>\n      <td>White - English/Welsh/Scottish/Northern Irish/...</td>\n      <td>White</td>\n      <td>Misuse of Drugs Act 1971 (section 23)</td>\n      <td>Controlled drugs</td>\n      <td>A no further action disposal</td>\n      <td>NaN</td>\n      <td>False</td>\n    </tr>\n    <tr>\n      <th>672</th>\n      <td>Person search</td>\n      <td>2020-09-30T22:20:00+00:00</td>\n      <td>False</td>\n      <td>NaN</td>\n      <td>51.798835</td>\n      <td>-0.072935</td>\n      <td>Male</td>\n      <td>25-34</td>\n      <td>Other ethnic group - Not stated</td>\n      <td>Black</td>\n      <td>Police and Criminal Evidence Act 1984 (section 1)</td>\n      <td>Article for use in theft</td>\n      <td>A no further action disposal</td>\n      <td>NaN</td>\n      <td>False</td>\n    </tr>\n  </tbody>\n</table>\n<p>46926 rows × 15 columns</p>\n</div>"
     },
     "metadata": {}
    }
   ]
  },
  {
   "cell_type": "code",
   "metadata": {
    "cell_id": "6356a376-c0a8-4783-b0ba-c0b4da6ccbfe",
    "tags": [],
    "deepnote_to_be_reexecuted": false,
    "source_hash": "667d7758",
    "execution_start": 1645023956395,
    "execution_millis": 15,
    "deepnote_cell_type": "code",
    "deepnote_cell_height": 154,
    "deepnote_output_heights": [
     21
    ]
   },
   "source": "# check if \"Type\" has missing values\nlen(df_sas[df_sas['Type'].isna()])/len(df_sas)\n# Type is filled out everywhere",
   "execution_count": null,
   "outputs": [
    {
     "output_type": "execute_result",
     "execution_count": 11,
     "data": {
      "text/plain": "0.0"
     },
     "metadata": {}
    }
   ]
  },
  {
   "cell_type": "code",
   "metadata": {
    "cell_id": "00006-5b7ee903-a604-4db6-bc09-a5c5f63e3b11",
    "deepnote_to_be_reexecuted": false,
    "source_hash": "209e400a",
    "execution_start": 1644930554561,
    "execution_millis": 604,
    "deepnote_cell_type": "code",
    "deepnote_cell_height": 189
   },
   "source": "# to get an orientational indication of the differences between the files 'street' and 'outcome,\n# merge the two frames and compare. Most attributes are repeated accross these files.\n# The attribute that seems to be the most suitable as the \"key\" is 'Crime ID' - but it does not have\n# all entries. So, we have to filter out only those with 'Crime ID'.\n \ndf_merge = df_street[df_street['Crime ID'].notna()].merge(df_outcome[df_outcome['Crime ID'].notna()][['Crime ID', 'Outcome type']],\n                                                          on = 'Crime ID')",
   "execution_count": null,
   "outputs": []
  },
  {
   "cell_type": "code",
   "metadata": {
    "cell_id": "00007-fea2f6d9-9108-4ad4-8fdd-b5d89c6868fc",
    "deepnote_to_be_reexecuted": false,
    "source_hash": "eae7673b",
    "execution_start": 1644930555186,
    "execution_millis": 45,
    "deepnote_cell_type": "code",
    "deepnote_cell_height": 345,
    "deepnote_output_heights": [
     230
    ]
   },
   "source": "# see if there is a specific outcome type with more differences\ndf_merge[df_merge['Last outcome category'] != df_merge['Outcome type']]['Last outcome category'].unique()",
   "execution_count": null,
   "outputs": [
    {
     "output_type": "execute_result",
     "execution_count": 8,
     "data": {
      "text/plain": "array(['Court result unavailable',\n       'Action to be taken by another organisation',\n       'Unable to prosecute suspect',\n       'Formal action is not in the public interest',\n       'Further action is not in the public interest',\n       'Status update unavailable',\n       'Investigation complete; no suspect identified',\n       'Further investigation is not in the public interest',\n       'Awaiting court outcome', 'Offender given a caution',\n       'Local resolution', 'Suspect charged as part of another case',\n       'Offender given a drugs possession warning',\n       'Offender given penalty notice'], dtype=object)"
     },
     "metadata": {}
    }
   ]
  },
  {
   "cell_type": "code",
   "metadata": {
    "cell_id": "00008-50dde692-6131-4480-b174-1ec3fba25a00",
    "deepnote_to_be_reexecuted": false,
    "source_hash": "52d928f",
    "execution_start": 1644930555274,
    "execution_millis": 4,
    "deepnote_cell_type": "code",
    "deepnote_cell_height": 136,
    "deepnote_output_heights": [
     21
    ]
   },
   "source": "# See what percentage of the outcomes are different in 'street' and 'outcome'\nlen(df_merge[df_merge['Last outcome category'] != df_merge['Outcome type']])/len(df_merge)",
   "execution_count": null,
   "outputs": [
    {
     "output_type": "execute_result",
     "execution_count": 9,
     "data": {
      "text/plain": "0.08603118553997832"
     },
     "metadata": {}
    }
   ]
  },
  {
   "cell_type": "markdown",
   "source": "<a style='text-decoration:none;line-height:16px;display:flex;color:#5B5B62;padding:10px;justify-content:end;' href='https://deepnote.com?utm_source=created-in-deepnote-cell&projectId=40789b9a-1c62-45b9-9d9c-b1a39ebe3dfd' target=\"_blank\">\n<img alt='Created in deepnote.com' style='display:inline;max-height:16px;margin:0px;margin-right:7.5px;' src='data:image/svg+xml;base64,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' > </img>\nCreated in <span style='font-weight:600;margin-left:4px;'>Deepnote</span></a>",
   "metadata": {
    "tags": [],
    "created_in_deepnote_cell": true,
    "deepnote_cell_type": "markdown"
   }
  }
 ],
 "nbformat": 4,
 "nbformat_minor": 5,
 "metadata": {
  "kernelspec": {
   "display_name": "Python 3 (ipykernel)",
   "language": "python",
   "name": "python3"
  },
  "language_info": {
   "codemirror_mode": {
    "name": "ipython",
    "version": 3
   },
   "file_extension": ".py",
   "mimetype": "text/x-python",
   "name": "python",
   "nbconvert_exporter": "python",
   "pygments_lexer": "ipython3",
   "version": "3.9.7"
  },
  "deepnote_notebook_id": "906bdc42-22df-46b6-91e8-18182b390a1e",
  "deepnote": {},
  "deepnote_execution_queue": []
 }
}