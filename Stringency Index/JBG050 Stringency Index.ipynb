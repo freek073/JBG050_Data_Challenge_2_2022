{
 "cells": [
  {
   "cell_type": "code",
   "metadata": {
    "cell_id": "dde759d4-904a-4e3c-86b1-dbaecd554849",
    "deepnote_to_be_reexecuted": false,
    "source_hash": "9b82ee11",
    "execution_start": 1648247933072,
    "execution_millis": 2,
    "deepnote_cell_type": "code",
    "deepnote_cell_height": 81
   },
   "source": "import pandas as pd",
   "execution_count": null,
   "outputs": []
  },
  {
   "cell_type": "code",
   "metadata": {
    "cell_id": "00001-e6fabd1e-73e9-4bf2-ab2a-755116bb7a3d",
    "deepnote_to_be_reexecuted": false,
    "source_hash": "9edfd41",
    "execution_start": 1648247933536,
    "execution_millis": 103,
    "deepnote_cell_type": "code",
    "deepnote_cell_height": 81
   },
   "source": "df = pd.read_csv('covid-stringency-index.csv')",
   "execution_count": null,
   "outputs": []
  },
  {
   "cell_type": "code",
   "metadata": {
    "cell_id": "00002-008b079d-7fe0-4069-ac19-5b18b3748880",
    "deepnote_to_be_reexecuted": false,
    "source_hash": "5bc28149",
    "execution_start": 1648247933758,
    "execution_millis": 1,
    "deepnote_cell_type": "code",
    "deepnote_cell_height": 81
   },
   "source": "SI_UK_new = df[df['Entity'] == 'United Kingdom']",
   "execution_count": null,
   "outputs": []
  },
  {
   "cell_type": "code",
   "metadata": {
    "cell_id": "00003-6cca338b-e4b9-4b53-b2c4-a3084b7922af",
    "deepnote_to_be_reexecuted": false,
    "source_hash": "8b4705ce",
    "execution_start": 1648247934132,
    "execution_millis": 59,
    "deepnote_cell_type": "code",
    "deepnote_cell_height": 393
   },
   "source": "SI_UK_new.head()",
   "execution_count": null,
   "outputs": [
    {
     "output_type": "execute_result",
     "execution_count": 4,
     "data": {
      "application/vnd.deepnote.dataframe.v3+json": {
       "column_count": 4,
       "row_count": 5,
       "columns": [
        {
         "name": "Entity",
         "dtype": "object",
         "stats": {
          "unique_count": 1,
          "nan_count": 0,
          "categories": [
           {
            "name": "United Kingdom",
            "count": 5
           }
          ]
         }
        },
        {
         "name": "Code",
         "dtype": "object",
         "stats": {
          "unique_count": 1,
          "nan_count": 0,
          "categories": [
           {
            "name": "GBR",
            "count": 5
           }
          ]
         }
        },
        {
         "name": "Day",
         "dtype": "object",
         "stats": {
          "unique_count": 5,
          "nan_count": 0,
          "categories": [
           {
            "name": "2020-01-21",
            "count": 1
           },
           {
            "name": "2020-01-22",
            "count": 1
           },
           {
            "name": "3 others",
            "count": 3
           }
          ]
         }
        },
        {
         "name": "stringency_index",
         "dtype": "float64",
         "stats": {
          "unique_count": 1,
          "nan_count": 0,
          "min": "5.56",
          "max": "5.56",
          "histogram": [
           {
            "bin_start": 5.06,
            "bin_end": 5.159999999999999,
            "count": 0
           },
           {
            "bin_start": 5.159999999999999,
            "bin_end": 5.26,
            "count": 0
           },
           {
            "bin_start": 5.26,
            "bin_end": 5.359999999999999,
            "count": 0
           },
           {
            "bin_start": 5.359999999999999,
            "bin_end": 5.46,
            "count": 0
           },
           {
            "bin_start": 5.46,
            "bin_end": 5.56,
            "count": 0
           },
           {
            "bin_start": 5.56,
            "bin_end": 5.66,
            "count": 5
           },
           {
            "bin_start": 5.66,
            "bin_end": 5.76,
            "count": 0
           },
           {
            "bin_start": 5.76,
            "bin_end": 5.859999999999999,
            "count": 0
           },
           {
            "bin_start": 5.859999999999999,
            "bin_end": 5.96,
            "count": 0
           },
           {
            "bin_start": 5.96,
            "bin_end": 6.06,
            "count": 0
           }
          ]
         }
        },
        {
         "name": "_deepnote_index_column",
         "dtype": "int64"
        }
       ],
       "rows": [
        {
         "Entity": "United Kingdom",
         "Code": "GBR",
         "Day": "2020-01-21",
         "stringency_index": 5.56,
         "_deepnote_index_column": 134489
        },
        {
         "Entity": "United Kingdom",
         "Code": "GBR",
         "Day": "2020-01-22",
         "stringency_index": 5.56,
         "_deepnote_index_column": 134490
        },
        {
         "Entity": "United Kingdom",
         "Code": "GBR",
         "Day": "2020-01-23",
         "stringency_index": 5.56,
         "_deepnote_index_column": 134491
        },
        {
         "Entity": "United Kingdom",
         "Code": "GBR",
         "Day": "2020-01-24",
         "stringency_index": 5.56,
         "_deepnote_index_column": 134492
        },
        {
         "Entity": "United Kingdom",
         "Code": "GBR",
         "Day": "2020-01-25",
         "stringency_index": 5.56,
         "_deepnote_index_column": 134493
        }
       ]
      },
      "text/plain": "                Entity Code         Day  stringency_index\n134489  United Kingdom  GBR  2020-01-21              5.56\n134490  United Kingdom  GBR  2020-01-22              5.56\n134491  United Kingdom  GBR  2020-01-23              5.56\n134492  United Kingdom  GBR  2020-01-24              5.56\n134493  United Kingdom  GBR  2020-01-25              5.56",
      "text/html": "<div>\n<style scoped>\n    .dataframe tbody tr th:only-of-type {\n        vertical-align: middle;\n    }\n\n    .dataframe tbody tr th {\n        vertical-align: top;\n    }\n\n    .dataframe thead th {\n        text-align: right;\n    }\n</style>\n<table border=\"1\" class=\"dataframe\">\n  <thead>\n    <tr style=\"text-align: right;\">\n      <th></th>\n      <th>Entity</th>\n      <th>Code</th>\n      <th>Day</th>\n      <th>stringency_index</th>\n    </tr>\n  </thead>\n  <tbody>\n    <tr>\n      <th>134489</th>\n      <td>United Kingdom</td>\n      <td>GBR</td>\n      <td>2020-01-21</td>\n      <td>5.56</td>\n    </tr>\n    <tr>\n      <th>134490</th>\n      <td>United Kingdom</td>\n      <td>GBR</td>\n      <td>2020-01-22</td>\n      <td>5.56</td>\n    </tr>\n    <tr>\n      <th>134491</th>\n      <td>United Kingdom</td>\n      <td>GBR</td>\n      <td>2020-01-23</td>\n      <td>5.56</td>\n    </tr>\n    <tr>\n      <th>134492</th>\n      <td>United Kingdom</td>\n      <td>GBR</td>\n      <td>2020-01-24</td>\n      <td>5.56</td>\n    </tr>\n    <tr>\n      <th>134493</th>\n      <td>United Kingdom</td>\n      <td>GBR</td>\n      <td>2020-01-25</td>\n      <td>5.56</td>\n    </tr>\n  </tbody>\n</table>\n</div>"
     },
     "metadata": {}
    }
   ]
  },
  {
   "cell_type": "code",
   "metadata": {
    "cell_id": "00004-8d634871-868c-4b42-9203-53c444e8a9c3",
    "deepnote_to_be_reexecuted": false,
    "source_hash": "5db86a01",
    "execution_start": 1648247934215,
    "execution_millis": 41,
    "deepnote_cell_type": "code",
    "deepnote_cell_height": 868
   },
   "source": "dates_lst = ['2015-01-01', '2015-02-01', '2015-03-01', '2015-04-01', '2015-05-01', '2015-06-01', \n            '2015-07-01', '2015-08-01', '2015-09-01', '2015-10-01', '2015-11-01', '2015-12-01',\n            '2016-01-01', '2016-02-01', '2016-03-01', '2016-04-01', '2016-05-01', '2016-06-01', \n            '2016-07-01', '2016-08-01', '2016-09-01', '2016-10-01', '2016-11-01', '2016-12-01',\n            '2017-01-01', '2017-02-01', '2017-03-01', '2017-04-01', '2017-05-01', '2017-06-01', \n            '2017-07-01', '2017-08-01', '2017-09-01', '2017-10-01', '2017-11-01', '2017-12-01',\n            '2018-01-01', '2018-02-01', '2018-03-01', '2018-04-01', '2018-05-01', '2018-06-01', \n            '2018-07-01', '2018-08-01', '2018-09-01', '2018-10-01', '2018-11-01', '2018-12-01',\n            '2019-01-01', '2019-02-01', '2019-03-01', '2019-04-01', '2019-05-01', '2019-06-01', \n            '2019-07-01', '2019-08-01', '2019-09-01', '2019-10-01', '2019-11-01', '2019-12-01']\nentity_lst = ['United Kingdom'] * len(dates_lst)\ncode_lst = ['GBR'] * len(dates_lst)\nSI_lst = [0] * len(dates_lst)\nd = {'Entity': entity_lst, 'Code': code_lst, 'Day': dates_lst, 'stringency_index': SI_lst}\nSI_UK_old = pd.DataFrame(data=d)\nSI_UK_old",
   "execution_count": null,
   "outputs": [
    {
     "output_type": "execute_result",
     "execution_count": 5,
     "data": {
      "application/vnd.deepnote.dataframe.v3+json": {
       "column_count": 4,
       "row_count": 60,
       "columns": [
        {
         "name": "Entity",
         "dtype": "object",
         "stats": {
          "unique_count": 1,
          "nan_count": 0,
          "categories": [
           {
            "name": "United Kingdom",
            "count": 60
           }
          ]
         }
        },
        {
         "name": "Code",
         "dtype": "object",
         "stats": {
          "unique_count": 1,
          "nan_count": 0,
          "categories": [
           {
            "name": "GBR",
            "count": 60
           }
          ]
         }
        },
        {
         "name": "Day",
         "dtype": "object",
         "stats": {
          "unique_count": 60,
          "nan_count": 0,
          "categories": [
           {
            "name": "2015-01-01",
            "count": 1
           },
           {
            "name": "2015-02-01",
            "count": 1
           },
           {
            "name": "58 others",
            "count": 58
           }
          ]
         }
        },
        {
         "name": "stringency_index",
         "dtype": "int64",
         "stats": {
          "unique_count": 1,
          "nan_count": 0,
          "min": "0",
          "max": "0",
          "histogram": [
           {
            "bin_start": -0.5,
            "bin_end": -0.4,
            "count": 0
           },
           {
            "bin_start": -0.4,
            "bin_end": -0.3,
            "count": 0
           },
           {
            "bin_start": -0.3,
            "bin_end": -0.19999999999999996,
            "count": 0
           },
           {
            "bin_start": -0.19999999999999996,
            "bin_end": -0.09999999999999998,
            "count": 0
           },
           {
            "bin_start": -0.09999999999999998,
            "bin_end": 0,
            "count": 0
           },
           {
            "bin_start": 0,
            "bin_end": 0.10000000000000009,
            "count": 60
           },
           {
            "bin_start": 0.10000000000000009,
            "bin_end": 0.20000000000000007,
            "count": 0
           },
           {
            "bin_start": 0.20000000000000007,
            "bin_end": 0.30000000000000004,
            "count": 0
           },
           {
            "bin_start": 0.30000000000000004,
            "bin_end": 0.4,
            "count": 0
           },
           {
            "bin_start": 0.4,
            "bin_end": 0.5,
            "count": 0
           }
          ]
         }
        },
        {
         "name": "_deepnote_index_column",
         "dtype": "int64"
        }
       ],
       "rows": [
        {
         "Entity": "United Kingdom",
         "Code": "GBR",
         "Day": "2015-01-01",
         "stringency_index": 0,
         "_deepnote_index_column": 0
        },
        {
         "Entity": "United Kingdom",
         "Code": "GBR",
         "Day": "2015-02-01",
         "stringency_index": 0,
         "_deepnote_index_column": 1
        },
        {
         "Entity": "United Kingdom",
         "Code": "GBR",
         "Day": "2015-03-01",
         "stringency_index": 0,
         "_deepnote_index_column": 2
        },
        {
         "Entity": "United Kingdom",
         "Code": "GBR",
         "Day": "2015-04-01",
         "stringency_index": 0,
         "_deepnote_index_column": 3
        },
        {
         "Entity": "United Kingdom",
         "Code": "GBR",
         "Day": "2015-05-01",
         "stringency_index": 0,
         "_deepnote_index_column": 4
        },
        {
         "Entity": "United Kingdom",
         "Code": "GBR",
         "Day": "2015-06-01",
         "stringency_index": 0,
         "_deepnote_index_column": 5
        },
        {
         "Entity": "United Kingdom",
         "Code": "GBR",
         "Day": "2015-07-01",
         "stringency_index": 0,
         "_deepnote_index_column": 6
        },
        {
         "Entity": "United Kingdom",
         "Code": "GBR",
         "Day": "2015-08-01",
         "stringency_index": 0,
         "_deepnote_index_column": 7
        },
        {
         "Entity": "United Kingdom",
         "Code": "GBR",
         "Day": "2015-09-01",
         "stringency_index": 0,
         "_deepnote_index_column": 8
        },
        {
         "Entity": "United Kingdom",
         "Code": "GBR",
         "Day": "2015-10-01",
         "stringency_index": 0,
         "_deepnote_index_column": 9
        }
       ]
      },
      "text/plain": "            Entity Code         Day  stringency_index\n0   United Kingdom  GBR  2015-01-01                 0\n1   United Kingdom  GBR  2015-02-01                 0\n2   United Kingdom  GBR  2015-03-01                 0\n3   United Kingdom  GBR  2015-04-01                 0\n4   United Kingdom  GBR  2015-05-01                 0\n5   United Kingdom  GBR  2015-06-01                 0\n6   United Kingdom  GBR  2015-07-01                 0\n7   United Kingdom  GBR  2015-08-01                 0\n8   United Kingdom  GBR  2015-09-01                 0\n9   United Kingdom  GBR  2015-10-01                 0\n10  United Kingdom  GBR  2015-11-01                 0\n11  United Kingdom  GBR  2015-12-01                 0\n12  United Kingdom  GBR  2016-01-01                 0\n13  United Kingdom  GBR  2016-02-01                 0\n14  United Kingdom  GBR  2016-03-01                 0\n15  United Kingdom  GBR  2016-04-01                 0\n16  United Kingdom  GBR  2016-05-01                 0\n17  United Kingdom  GBR  2016-06-01                 0\n18  United Kingdom  GBR  2016-07-01                 0\n19  United Kingdom  GBR  2016-08-01                 0\n20  United Kingdom  GBR  2016-09-01                 0\n21  United Kingdom  GBR  2016-10-01                 0\n22  United Kingdom  GBR  2016-11-01                 0\n23  United Kingdom  GBR  2016-12-01                 0\n24  United Kingdom  GBR  2017-01-01                 0\n25  United Kingdom  GBR  2017-02-01                 0\n26  United Kingdom  GBR  2017-03-01                 0\n27  United Kingdom  GBR  2017-04-01                 0\n28  United Kingdom  GBR  2017-05-01                 0\n29  United Kingdom  GBR  2017-06-01                 0\n30  United Kingdom  GBR  2017-07-01                 0\n31  United Kingdom  GBR  2017-08-01                 0\n32  United Kingdom  GBR  2017-09-01                 0\n33  United Kingdom  GBR  2017-10-01                 0\n34  United Kingdom  GBR  2017-11-01                 0\n35  United Kingdom  GBR  2017-12-01                 0\n36  United Kingdom  GBR  2018-01-01                 0\n37  United Kingdom  GBR  2018-02-01                 0\n38  United Kingdom  GBR  2018-03-01                 0\n39  United Kingdom  GBR  2018-04-01                 0\n40  United Kingdom  GBR  2018-05-01                 0\n41  United Kingdom  GBR  2018-06-01                 0\n42  United Kingdom  GBR  2018-07-01                 0\n43  United Kingdom  GBR  2018-08-01                 0\n44  United Kingdom  GBR  2018-09-01                 0\n45  United Kingdom  GBR  2018-10-01                 0\n46  United Kingdom  GBR  2018-11-01                 0\n47  United Kingdom  GBR  2018-12-01                 0\n48  United Kingdom  GBR  2019-01-01                 0\n49  United Kingdom  GBR  2019-02-01                 0\n50  United Kingdom  GBR  2019-03-01                 0\n51  United Kingdom  GBR  2019-04-01                 0\n52  United Kingdom  GBR  2019-05-01                 0\n53  United Kingdom  GBR  2019-06-01                 0\n54  United Kingdom  GBR  2019-07-01                 0\n55  United Kingdom  GBR  2019-08-01                 0\n56  United Kingdom  GBR  2019-09-01                 0\n57  United Kingdom  GBR  2019-10-01                 0\n58  United Kingdom  GBR  2019-11-01                 0\n59  United Kingdom  GBR  2019-12-01                 0",
      "text/html": "<div>\n<style scoped>\n    .dataframe tbody tr th:only-of-type {\n        vertical-align: middle;\n    }\n\n    .dataframe tbody tr th {\n        vertical-align: top;\n    }\n\n    .dataframe thead th {\n        text-align: right;\n    }\n</style>\n<table border=\"1\" class=\"dataframe\">\n  <thead>\n    <tr style=\"text-align: right;\">\n      <th></th>\n      <th>Entity</th>\n      <th>Code</th>\n      <th>Day</th>\n      <th>stringency_index</th>\n    </tr>\n  </thead>\n  <tbody>\n    <tr>\n      <th>0</th>\n      <td>United Kingdom</td>\n      <td>GBR</td>\n      <td>2015-01-01</td>\n      <td>0</td>\n    </tr>\n    <tr>\n      <th>1</th>\n      <td>United Kingdom</td>\n      <td>GBR</td>\n      <td>2015-02-01</td>\n      <td>0</td>\n    </tr>\n    <tr>\n      <th>2</th>\n      <td>United Kingdom</td>\n      <td>GBR</td>\n      <td>2015-03-01</td>\n      <td>0</td>\n    </tr>\n    <tr>\n      <th>3</th>\n      <td>United Kingdom</td>\n      <td>GBR</td>\n      <td>2015-04-01</td>\n      <td>0</td>\n    </tr>\n    <tr>\n      <th>4</th>\n      <td>United Kingdom</td>\n      <td>GBR</td>\n      <td>2015-05-01</td>\n      <td>0</td>\n    </tr>\n    <tr>\n      <th>5</th>\n      <td>United Kingdom</td>\n      <td>GBR</td>\n      <td>2015-06-01</td>\n      <td>0</td>\n    </tr>\n    <tr>\n      <th>6</th>\n      <td>United Kingdom</td>\n      <td>GBR</td>\n      <td>2015-07-01</td>\n      <td>0</td>\n    </tr>\n    <tr>\n      <th>7</th>\n      <td>United Kingdom</td>\n      <td>GBR</td>\n      <td>2015-08-01</td>\n      <td>0</td>\n    </tr>\n    <tr>\n      <th>8</th>\n      <td>United Kingdom</td>\n      <td>GBR</td>\n      <td>2015-09-01</td>\n      <td>0</td>\n    </tr>\n    <tr>\n      <th>9</th>\n      <td>United Kingdom</td>\n      <td>GBR</td>\n      <td>2015-10-01</td>\n      <td>0</td>\n    </tr>\n    <tr>\n      <th>10</th>\n      <td>United Kingdom</td>\n      <td>GBR</td>\n      <td>2015-11-01</td>\n      <td>0</td>\n    </tr>\n    <tr>\n      <th>11</th>\n      <td>United Kingdom</td>\n      <td>GBR</td>\n      <td>2015-12-01</td>\n      <td>0</td>\n    </tr>\n    <tr>\n      <th>12</th>\n      <td>United Kingdom</td>\n      <td>GBR</td>\n      <td>2016-01-01</td>\n      <td>0</td>\n    </tr>\n    <tr>\n      <th>13</th>\n      <td>United Kingdom</td>\n      <td>GBR</td>\n      <td>2016-02-01</td>\n      <td>0</td>\n    </tr>\n    <tr>\n      <th>14</th>\n      <td>United Kingdom</td>\n      <td>GBR</td>\n      <td>2016-03-01</td>\n      <td>0</td>\n    </tr>\n    <tr>\n      <th>15</th>\n      <td>United Kingdom</td>\n      <td>GBR</td>\n      <td>2016-04-01</td>\n      <td>0</td>\n    </tr>\n    <tr>\n      <th>16</th>\n      <td>United Kingdom</td>\n      <td>GBR</td>\n      <td>2016-05-01</td>\n      <td>0</td>\n    </tr>\n    <tr>\n      <th>17</th>\n      <td>United Kingdom</td>\n      <td>GBR</td>\n      <td>2016-06-01</td>\n      <td>0</td>\n    </tr>\n    <tr>\n      <th>18</th>\n      <td>United Kingdom</td>\n      <td>GBR</td>\n      <td>2016-07-01</td>\n      <td>0</td>\n    </tr>\n    <tr>\n      <th>19</th>\n      <td>United Kingdom</td>\n      <td>GBR</td>\n      <td>2016-08-01</td>\n      <td>0</td>\n    </tr>\n    <tr>\n      <th>20</th>\n      <td>United Kingdom</td>\n      <td>GBR</td>\n      <td>2016-09-01</td>\n      <td>0</td>\n    </tr>\n    <tr>\n      <th>21</th>\n      <td>United Kingdom</td>\n      <td>GBR</td>\n      <td>2016-10-01</td>\n      <td>0</td>\n    </tr>\n    <tr>\n      <th>22</th>\n      <td>United Kingdom</td>\n      <td>GBR</td>\n      <td>2016-11-01</td>\n      <td>0</td>\n    </tr>\n    <tr>\n      <th>23</th>\n      <td>United Kingdom</td>\n      <td>GBR</td>\n      <td>2016-12-01</td>\n      <td>0</td>\n    </tr>\n    <tr>\n      <th>24</th>\n      <td>United Kingdom</td>\n      <td>GBR</td>\n      <td>2017-01-01</td>\n      <td>0</td>\n    </tr>\n    <tr>\n      <th>25</th>\n      <td>United Kingdom</td>\n      <td>GBR</td>\n      <td>2017-02-01</td>\n      <td>0</td>\n    </tr>\n    <tr>\n      <th>26</th>\n      <td>United Kingdom</td>\n      <td>GBR</td>\n      <td>2017-03-01</td>\n      <td>0</td>\n    </tr>\n    <tr>\n      <th>27</th>\n      <td>United Kingdom</td>\n      <td>GBR</td>\n      <td>2017-04-01</td>\n      <td>0</td>\n    </tr>\n    <tr>\n      <th>28</th>\n      <td>United Kingdom</td>\n      <td>GBR</td>\n      <td>2017-05-01</td>\n      <td>0</td>\n    </tr>\n    <tr>\n      <th>29</th>\n      <td>United Kingdom</td>\n      <td>GBR</td>\n      <td>2017-06-01</td>\n      <td>0</td>\n    </tr>\n    <tr>\n      <th>30</th>\n      <td>United Kingdom</td>\n      <td>GBR</td>\n      <td>2017-07-01</td>\n      <td>0</td>\n    </tr>\n    <tr>\n      <th>31</th>\n      <td>United Kingdom</td>\n      <td>GBR</td>\n      <td>2017-08-01</td>\n      <td>0</td>\n    </tr>\n    <tr>\n      <th>32</th>\n      <td>United Kingdom</td>\n      <td>GBR</td>\n      <td>2017-09-01</td>\n      <td>0</td>\n    </tr>\n    <tr>\n      <th>33</th>\n      <td>United Kingdom</td>\n      <td>GBR</td>\n      <td>2017-10-01</td>\n      <td>0</td>\n    </tr>\n    <tr>\n      <th>34</th>\n      <td>United Kingdom</td>\n      <td>GBR</td>\n      <td>2017-11-01</td>\n      <td>0</td>\n    </tr>\n    <tr>\n      <th>35</th>\n      <td>United Kingdom</td>\n      <td>GBR</td>\n      <td>2017-12-01</td>\n      <td>0</td>\n    </tr>\n    <tr>\n      <th>36</th>\n      <td>United Kingdom</td>\n      <td>GBR</td>\n      <td>2018-01-01</td>\n      <td>0</td>\n    </tr>\n    <tr>\n      <th>37</th>\n      <td>United Kingdom</td>\n      <td>GBR</td>\n      <td>2018-02-01</td>\n      <td>0</td>\n    </tr>\n    <tr>\n      <th>38</th>\n      <td>United Kingdom</td>\n      <td>GBR</td>\n      <td>2018-03-01</td>\n      <td>0</td>\n    </tr>\n    <tr>\n      <th>39</th>\n      <td>United Kingdom</td>\n      <td>GBR</td>\n      <td>2018-04-01</td>\n      <td>0</td>\n    </tr>\n    <tr>\n      <th>40</th>\n      <td>United Kingdom</td>\n      <td>GBR</td>\n      <td>2018-05-01</td>\n      <td>0</td>\n    </tr>\n    <tr>\n      <th>41</th>\n      <td>United Kingdom</td>\n      <td>GBR</td>\n      <td>2018-06-01</td>\n      <td>0</td>\n    </tr>\n    <tr>\n      <th>42</th>\n      <td>United Kingdom</td>\n      <td>GBR</td>\n      <td>2018-07-01</td>\n      <td>0</td>\n    </tr>\n    <tr>\n      <th>43</th>\n      <td>United Kingdom</td>\n      <td>GBR</td>\n      <td>2018-08-01</td>\n      <td>0</td>\n    </tr>\n    <tr>\n      <th>44</th>\n      <td>United Kingdom</td>\n      <td>GBR</td>\n      <td>2018-09-01</td>\n      <td>0</td>\n    </tr>\n    <tr>\n      <th>45</th>\n      <td>United Kingdom</td>\n      <td>GBR</td>\n      <td>2018-10-01</td>\n      <td>0</td>\n    </tr>\n    <tr>\n      <th>46</th>\n      <td>United Kingdom</td>\n      <td>GBR</td>\n      <td>2018-11-01</td>\n      <td>0</td>\n    </tr>\n    <tr>\n      <th>47</th>\n      <td>United Kingdom</td>\n      <td>GBR</td>\n      <td>2018-12-01</td>\n      <td>0</td>\n    </tr>\n    <tr>\n      <th>48</th>\n      <td>United Kingdom</td>\n      <td>GBR</td>\n      <td>2019-01-01</td>\n      <td>0</td>\n    </tr>\n    <tr>\n      <th>49</th>\n      <td>United Kingdom</td>\n      <td>GBR</td>\n      <td>2019-02-01</td>\n      <td>0</td>\n    </tr>\n    <tr>\n      <th>50</th>\n      <td>United Kingdom</td>\n      <td>GBR</td>\n      <td>2019-03-01</td>\n      <td>0</td>\n    </tr>\n    <tr>\n      <th>51</th>\n      <td>United Kingdom</td>\n      <td>GBR</td>\n      <td>2019-04-01</td>\n      <td>0</td>\n    </tr>\n    <tr>\n      <th>52</th>\n      <td>United Kingdom</td>\n      <td>GBR</td>\n      <td>2019-05-01</td>\n      <td>0</td>\n    </tr>\n    <tr>\n      <th>53</th>\n      <td>United Kingdom</td>\n      <td>GBR</td>\n      <td>2019-06-01</td>\n      <td>0</td>\n    </tr>\n    <tr>\n      <th>54</th>\n      <td>United Kingdom</td>\n      <td>GBR</td>\n      <td>2019-07-01</td>\n      <td>0</td>\n    </tr>\n    <tr>\n      <th>55</th>\n      <td>United Kingdom</td>\n      <td>GBR</td>\n      <td>2019-08-01</td>\n      <td>0</td>\n    </tr>\n    <tr>\n      <th>56</th>\n      <td>United Kingdom</td>\n      <td>GBR</td>\n      <td>2019-09-01</td>\n      <td>0</td>\n    </tr>\n    <tr>\n      <th>57</th>\n      <td>United Kingdom</td>\n      <td>GBR</td>\n      <td>2019-10-01</td>\n      <td>0</td>\n    </tr>\n    <tr>\n      <th>58</th>\n      <td>United Kingdom</td>\n      <td>GBR</td>\n      <td>2019-11-01</td>\n      <td>0</td>\n    </tr>\n    <tr>\n      <th>59</th>\n      <td>United Kingdom</td>\n      <td>GBR</td>\n      <td>2019-12-01</td>\n      <td>0</td>\n    </tr>\n  </tbody>\n</table>\n</div>"
     },
     "metadata": {}
    }
   ]
  },
  {
   "cell_type": "code",
   "metadata": {
    "cell_id": "00005-eb88a26d-ac9b-48cf-b4ff-27a33b00e3e8",
    "deepnote_to_be_reexecuted": false,
    "source_hash": "71ae0d48",
    "execution_start": 1648247934257,
    "execution_millis": 5,
    "deepnote_cell_type": "code",
    "deepnote_cell_height": 81
   },
   "source": "SI_UK = pd.concat([SI_UK_old, SI_UK_new])",
   "execution_count": null,
   "outputs": []
  },
  {
   "cell_type": "code",
   "metadata": {
    "cell_id": "00006-b5e7170e-dd04-41e5-98a0-0cb581182968",
    "deepnote_to_be_reexecuted": false,
    "source_hash": "fb5a02f5",
    "execution_start": 1648247934837,
    "execution_millis": 0,
    "deepnote_cell_type": "code",
    "deepnote_cell_height": 81
   },
   "source": "SI_UK['Day'] = pd.to_datetime(SI_UK['Day'])",
   "execution_count": null,
   "outputs": []
  },
  {
   "cell_type": "code",
   "metadata": {
    "cell_id": "00007-4b861d4a-4ec6-46d8-90bd-264b38720e9e",
    "deepnote_to_be_reexecuted": false,
    "source_hash": "c51b522f",
    "execution_start": 1648247934888,
    "execution_millis": 1,
    "deepnote_cell_type": "code",
    "deepnote_cell_height": 99
   },
   "source": "SI_UK['year'] = pd.DatetimeIndex(SI_UK['Day']).year\nSI_UK['month'] = pd.DatetimeIndex(SI_UK['Day']).month",
   "execution_count": null,
   "outputs": []
  },
  {
   "cell_type": "code",
   "metadata": {
    "cell_id": "00008-146f194c-66f0-4a6b-bbe0-d11a7153d52d",
    "deepnote_to_be_reexecuted": false,
    "source_hash": "216bb685",
    "execution_start": 1648247934889,
    "execution_millis": 45,
    "deepnote_cell_type": "code",
    "deepnote_cell_height": 616
   },
   "source": "SI_UK_grouped = SI_UK.groupby(['year', 'month'])\nSI_UK_grouped.mean().reset_index()",
   "execution_count": null,
   "outputs": [
    {
     "output_type": "execute_result",
     "execution_count": 9,
     "data": {
      "application/vnd.deepnote.dataframe.v3+json": {
       "column_count": 3,
       "row_count": 87,
       "columns": [
        {
         "name": "year",
         "dtype": "int64",
         "stats": {
          "unique_count": 8,
          "nan_count": 0,
          "min": "2015",
          "max": "2022",
          "histogram": [
           {
            "bin_start": 2015,
            "bin_end": 2015.7,
            "count": 12
           },
           {
            "bin_start": 2015.7,
            "bin_end": 2016.4,
            "count": 12
           },
           {
            "bin_start": 2016.4,
            "bin_end": 2017.1,
            "count": 12
           },
           {
            "bin_start": 2017.1,
            "bin_end": 2017.8,
            "count": 0
           },
           {
            "bin_start": 2017.8,
            "bin_end": 2018.5,
            "count": 12
           },
           {
            "bin_start": 2018.5,
            "bin_end": 2019.2,
            "count": 12
           },
           {
            "bin_start": 2019.2,
            "bin_end": 2019.9,
            "count": 0
           },
           {
            "bin_start": 2019.9,
            "bin_end": 2020.6,
            "count": 12
           },
           {
            "bin_start": 2020.6,
            "bin_end": 2021.3,
            "count": 12
           },
           {
            "bin_start": 2021.3,
            "bin_end": 2022,
            "count": 3
           }
          ]
         }
        },
        {
         "name": "month",
         "dtype": "int64",
         "stats": {
          "unique_count": 12,
          "nan_count": 0,
          "min": "1",
          "max": "12",
          "histogram": [
           {
            "bin_start": 1,
            "bin_end": 2.1,
            "count": 16
           },
           {
            "bin_start": 2.1,
            "bin_end": 3.2,
            "count": 8
           },
           {
            "bin_start": 3.2,
            "bin_end": 4.300000000000001,
            "count": 7
           },
           {
            "bin_start": 4.300000000000001,
            "bin_end": 5.4,
            "count": 7
           },
           {
            "bin_start": 5.4,
            "bin_end": 6.5,
            "count": 7
           },
           {
            "bin_start": 6.5,
            "bin_end": 7.6000000000000005,
            "count": 7
           },
           {
            "bin_start": 7.6000000000000005,
            "bin_end": 8.700000000000001,
            "count": 7
           },
           {
            "bin_start": 8.700000000000001,
            "bin_end": 9.8,
            "count": 7
           },
           {
            "bin_start": 9.8,
            "bin_end": 10.9,
            "count": 7
           },
           {
            "bin_start": 10.9,
            "bin_end": 12,
            "count": 14
           }
          ]
         }
        },
        {
         "name": "stringency_index",
         "dtype": "float64",
         "stats": {
          "unique_count": 28,
          "nan_count": 0,
          "min": "0.0",
          "max": "87.49750000000003",
          "histogram": [
           {
            "bin_start": 0,
            "bin_end": 8.749750000000002,
            "count": 61
           },
           {
            "bin_start": 8.749750000000002,
            "bin_end": 17.499500000000005,
            "count": 1
           },
           {
            "bin_start": 17.499500000000005,
            "bin_end": 26.249250000000007,
            "count": 0
           },
           {
            "bin_start": 26.249250000000007,
            "bin_end": 34.99900000000001,
            "count": 1
           },
           {
            "bin_start": 34.99900000000001,
            "bin_end": 43.748750000000015,
            "count": 4
           },
           {
            "bin_start": 43.748750000000015,
            "bin_end": 52.498500000000014,
            "count": 5
           },
           {
            "bin_start": 52.498500000000014,
            "bin_end": 61.24825000000001,
            "count": 2
           },
           {
            "bin_start": 61.24825000000001,
            "bin_end": 69.99800000000002,
            "count": 6
           },
           {
            "bin_start": 69.99800000000002,
            "bin_end": 78.74775000000002,
            "count": 3
           },
           {
            "bin_start": 78.74775000000002,
            "bin_end": 87.49750000000003,
            "count": 4
           }
          ]
         }
        },
        {
         "name": "_deepnote_index_column",
         "dtype": "int64"
        }
       ],
       "rows": [
        {
         "year": 2015,
         "month": 1,
         "stringency_index": 0,
         "_deepnote_index_column": 0
        },
        {
         "year": 2015,
         "month": 2,
         "stringency_index": 0,
         "_deepnote_index_column": 1
        },
        {
         "year": 2015,
         "month": 3,
         "stringency_index": 0,
         "_deepnote_index_column": 2
        },
        {
         "year": 2015,
         "month": 4,
         "stringency_index": 0,
         "_deepnote_index_column": 3
        },
        {
         "year": 2015,
         "month": 5,
         "stringency_index": 0,
         "_deepnote_index_column": 4
        },
        {
         "year": 2015,
         "month": 6,
         "stringency_index": 0,
         "_deepnote_index_column": 5
        },
        {
         "year": 2015,
         "month": 7,
         "stringency_index": 0,
         "_deepnote_index_column": 6
        },
        {
         "year": 2015,
         "month": 8,
         "stringency_index": 0,
         "_deepnote_index_column": 7
        },
        {
         "year": 2015,
         "month": 9,
         "stringency_index": 0,
         "_deepnote_index_column": 8
        },
        {
         "year": 2015,
         "month": 10,
         "stringency_index": 0,
         "_deepnote_index_column": 9
        }
       ]
      },
      "text/plain": "    year  month  stringency_index\n0   2015      1          0.000000\n1   2015      2          0.000000\n2   2015      3          0.000000\n3   2015      4          0.000000\n4   2015      5          0.000000\n..   ...    ...               ...\n82  2021     11         46.760000\n83  2021     12         47.774516\n84  2022      1         47.147097\n85  2022      2         35.482857\n86  2022      3         29.630000\n\n[87 rows x 3 columns]",
      "text/html": "<div>\n<style scoped>\n    .dataframe tbody tr th:only-of-type {\n        vertical-align: middle;\n    }\n\n    .dataframe tbody tr th {\n        vertical-align: top;\n    }\n\n    .dataframe thead th {\n        text-align: right;\n    }\n</style>\n<table border=\"1\" class=\"dataframe\">\n  <thead>\n    <tr style=\"text-align: right;\">\n      <th></th>\n      <th>year</th>\n      <th>month</th>\n      <th>stringency_index</th>\n    </tr>\n  </thead>\n  <tbody>\n    <tr>\n      <th>0</th>\n      <td>2015</td>\n      <td>1</td>\n      <td>0.000000</td>\n    </tr>\n    <tr>\n      <th>1</th>\n      <td>2015</td>\n      <td>2</td>\n      <td>0.000000</td>\n    </tr>\n    <tr>\n      <th>2</th>\n      <td>2015</td>\n      <td>3</td>\n      <td>0.000000</td>\n    </tr>\n    <tr>\n      <th>3</th>\n      <td>2015</td>\n      <td>4</td>\n      <td>0.000000</td>\n    </tr>\n    <tr>\n      <th>4</th>\n      <td>2015</td>\n      <td>5</td>\n      <td>0.000000</td>\n    </tr>\n    <tr>\n      <th>...</th>\n      <td>...</td>\n      <td>...</td>\n      <td>...</td>\n    </tr>\n    <tr>\n      <th>82</th>\n      <td>2021</td>\n      <td>11</td>\n      <td>46.760000</td>\n    </tr>\n    <tr>\n      <th>83</th>\n      <td>2021</td>\n      <td>12</td>\n      <td>47.774516</td>\n    </tr>\n    <tr>\n      <th>84</th>\n      <td>2022</td>\n      <td>1</td>\n      <td>47.147097</td>\n    </tr>\n    <tr>\n      <th>85</th>\n      <td>2022</td>\n      <td>2</td>\n      <td>35.482857</td>\n    </tr>\n    <tr>\n      <th>86</th>\n      <td>2022</td>\n      <td>3</td>\n      <td>29.630000</td>\n    </tr>\n  </tbody>\n</table>\n<p>87 rows × 3 columns</p>\n</div>"
     },
     "metadata": {}
    }
   ]
  },
  {
   "cell_type": "code",
   "metadata": {
    "cell_id": "00009-c697462f-ce07-4b0a-a379-252c628d0945",
    "deepnote_to_be_reexecuted": false,
    "source_hash": "a847be79",
    "execution_start": 1648247935243,
    "execution_millis": 41,
    "deepnote_table_state": {
     "pageSize": 10,
     "pageIndex": 8,
     "filters": [],
     "sortBy": []
    },
    "deepnote_table_loading": false,
    "deepnote_table_invalid": false,
    "deepnote_cell_type": "code",
    "deepnote_cell_height": 565
   },
   "source": "df_SI_UK_grouped = SI_UK_grouped['stringency_index'].mean().to_frame().reset_index()\nmonth_dict = {1:'01', 2:'02', 3:'03', 4:'04', 5:'05', 6:'06', 7:'07', 8:'08', 9:'09', 10:'10', 11:'11', 12:'12'}\ndf_SI_UK_grouped['month'] = df_SI_UK_grouped['month'].map(month_dict)\ndf_SI_UK_grouped['Month'] = df_SI_UK_grouped['year'].astype(str) + '-' + df_SI_UK_grouped['month']\ndf_SI_UK_grouped = df_SI_UK_grouped[['Month', 'stringency_index']]\ndf_SI_UK_grouped",
   "execution_count": null,
   "outputs": [
    {
     "output_type": "execute_result",
     "execution_count": 10,
     "data": {
      "application/vnd.deepnote.dataframe.v3+json": {
       "column_count": 2,
       "row_count": 87,
       "columns": [
        {
         "name": "Month",
         "dtype": "object",
         "stats": {
          "unique_count": 87,
          "nan_count": 0,
          "categories": [
           {
            "name": "2015-01",
            "count": 1
           },
           {
            "name": "2015-02",
            "count": 1
           },
           {
            "name": "85 others",
            "count": 85
           }
          ]
         }
        },
        {
         "name": "stringency_index",
         "dtype": "float64",
         "stats": {
          "unique_count": 28,
          "nan_count": 0,
          "min": "0.0",
          "max": "87.49750000000003",
          "histogram": [
           {
            "bin_start": 0,
            "bin_end": 8.749750000000002,
            "count": 61
           },
           {
            "bin_start": 8.749750000000002,
            "bin_end": 17.499500000000005,
            "count": 1
           },
           {
            "bin_start": 17.499500000000005,
            "bin_end": 26.249250000000007,
            "count": 0
           },
           {
            "bin_start": 26.249250000000007,
            "bin_end": 34.99900000000001,
            "count": 1
           },
           {
            "bin_start": 34.99900000000001,
            "bin_end": 43.748750000000015,
            "count": 4
           },
           {
            "bin_start": 43.748750000000015,
            "bin_end": 52.498500000000014,
            "count": 5
           },
           {
            "bin_start": 52.498500000000014,
            "bin_end": 61.24825000000001,
            "count": 2
           },
           {
            "bin_start": 61.24825000000001,
            "bin_end": 69.99800000000002,
            "count": 6
           },
           {
            "bin_start": 69.99800000000002,
            "bin_end": 78.74775000000002,
            "count": 3
           },
           {
            "bin_start": 78.74775000000002,
            "bin_end": 87.49750000000003,
            "count": 4
           }
          ]
         }
        },
        {
         "name": "_deepnote_index_column",
         "dtype": "int64"
        }
       ],
       "rows": [
        {
         "Month": "2021-09",
         "stringency_index": 42.03400000000003,
         "_deepnote_index_column": 80
        },
        {
         "Month": "2021-10",
         "stringency_index": 43.710967741935484,
         "_deepnote_index_column": 81
        },
        {
         "Month": "2021-11",
         "stringency_index": 46.76,
         "_deepnote_index_column": 82
        },
        {
         "Month": "2021-12",
         "stringency_index": 47.77451612903223,
         "_deepnote_index_column": 83
        },
        {
         "Month": "2022-01",
         "stringency_index": 47.14709677419357,
         "_deepnote_index_column": 84
        },
        {
         "Month": "2022-02",
         "stringency_index": 35.48285714285714,
         "_deepnote_index_column": 85
        },
        {
         "Month": "2022-03",
         "stringency_index": 29.63,
         "_deepnote_index_column": 86
        }
       ]
      },
      "text/plain": "      Month  stringency_index\n0   2015-01          0.000000\n1   2015-02          0.000000\n2   2015-03          0.000000\n3   2015-04          0.000000\n4   2015-05          0.000000\n..      ...               ...\n82  2021-11         46.760000\n83  2021-12         47.774516\n84  2022-01         47.147097\n85  2022-02         35.482857\n86  2022-03         29.630000\n\n[87 rows x 2 columns]",
      "text/html": "<div>\n<style scoped>\n    .dataframe tbody tr th:only-of-type {\n        vertical-align: middle;\n    }\n\n    .dataframe tbody tr th {\n        vertical-align: top;\n    }\n\n    .dataframe thead th {\n        text-align: right;\n    }\n</style>\n<table border=\"1\" class=\"dataframe\">\n  <thead>\n    <tr style=\"text-align: right;\">\n      <th></th>\n      <th>Month</th>\n      <th>stringency_index</th>\n    </tr>\n  </thead>\n  <tbody>\n    <tr>\n      <th>0</th>\n      <td>2015-01</td>\n      <td>0.000000</td>\n    </tr>\n    <tr>\n      <th>1</th>\n      <td>2015-02</td>\n      <td>0.000000</td>\n    </tr>\n    <tr>\n      <th>2</th>\n      <td>2015-03</td>\n      <td>0.000000</td>\n    </tr>\n    <tr>\n      <th>3</th>\n      <td>2015-04</td>\n      <td>0.000000</td>\n    </tr>\n    <tr>\n      <th>4</th>\n      <td>2015-05</td>\n      <td>0.000000</td>\n    </tr>\n    <tr>\n      <th>...</th>\n      <td>...</td>\n      <td>...</td>\n    </tr>\n    <tr>\n      <th>82</th>\n      <td>2021-11</td>\n      <td>46.760000</td>\n    </tr>\n    <tr>\n      <th>83</th>\n      <td>2021-12</td>\n      <td>47.774516</td>\n    </tr>\n    <tr>\n      <th>84</th>\n      <td>2022-01</td>\n      <td>47.147097</td>\n    </tr>\n    <tr>\n      <th>85</th>\n      <td>2022-02</td>\n      <td>35.482857</td>\n    </tr>\n    <tr>\n      <th>86</th>\n      <td>2022-03</td>\n      <td>29.630000</td>\n    </tr>\n  </tbody>\n</table>\n<p>87 rows × 2 columns</p>\n</div>"
     },
     "metadata": {}
    }
   ]
  },
  {
   "cell_type": "code",
   "metadata": {
    "cell_id": "14e2628293ea46a2a3feb12012346d84",
    "tags": [],
    "deepnote_to_be_reexecuted": false,
    "source_hash": "37b89d17",
    "execution_start": 1648247935291,
    "execution_millis": 1782,
    "deepnote_cell_type": "code",
    "deepnote_cell_height": 207
   },
   "source": "# add all MSOAs for the future prediction\ndf = pd.read_csv('/work/crime_type_per_month_msoa_with_force.csv')\ndef get_msoas_for_force(df2, force_name: str):\n    df3 = df2[df2['Police force'].str.contains(force_name)]\n    return df3['MSOA code'].unique()\n\nlst_msoas = get_msoas_for_force(df, '')\nlst_msoas = list(lst_msoas)",
   "execution_count": null,
   "outputs": []
  },
  {
   "cell_type": "code",
   "metadata": {
    "cell_id": "04e9e5c53a5d47b08c6ac428147db687",
    "tags": [],
    "deepnote_to_be_reexecuted": false,
    "source_hash": "d1e0b7b5",
    "execution_start": 1648247937192,
    "execution_millis": 217,
    "deepnote_cell_type": "code",
    "deepnote_cell_height": 243
   },
   "source": "lst_past_dates = []\nlst_past_si = []\nfor month in df_SI_UK_grouped['Month']:\n    lst_past_dates += [month] * len(lst_msoas)\n    si_this_month = float(df_SI_UK_grouped[df_SI_UK_grouped['Month'] == month]['stringency_index'])\n    lst_past_si += [si_this_month] * len(lst_msoas)\nlst_msoas_past = lst_msoas * len(df_SI_UK_grouped['Month'])\n\nd_past = {'Month': lst_past_dates, 'MSOA code': lst_msoas_past, 'stringency_index': lst_past_si}\ndf_past_SI = pd.DataFrame(data=d_past)",
   "execution_count": null,
   "outputs": []
  },
  {
   "cell_type": "code",
   "metadata": {
    "cell_id": "846cbe69eff64808b1db7f1d629ee32b",
    "tags": [],
    "deepnote_to_be_reexecuted": false,
    "source_hash": "3ff2762",
    "execution_start": 1648247937412,
    "execution_millis": 57,
    "deepnote_table_state": {
     "pageSize": 10,
     "pageIndex": 62648,
     "filters": [],
     "sortBy": []
    },
    "deepnote_table_loading": false,
    "deepnote_cell_type": "code",
    "deepnote_cell_height": 475
   },
   "source": "df_past_SI",
   "execution_count": null,
   "outputs": [
    {
     "output_type": "execute_result",
     "execution_count": 13,
     "data": {
      "application/vnd.deepnote.dataframe.v3+json": {
       "column_count": 3,
       "row_count": 626487,
       "columns": [
        {
         "name": "Month",
         "dtype": "object"
        },
        {
         "name": "MSOA code",
         "dtype": "object"
        },
        {
         "name": "stringency_index",
         "dtype": "float64"
        },
        {
         "name": "_deepnote_index_column",
         "dtype": "int64"
        }
       ],
       "rows": [
        {
         "Month": "2022-03",
         "MSOA code": "W02000417",
         "stringency_index": 29.63,
         "_deepnote_index_column": 626480
        },
        {
         "Month": "2022-03",
         "MSOA code": "W02000418",
         "stringency_index": 29.63,
         "_deepnote_index_column": 626481
        },
        {
         "Month": "2022-03",
         "MSOA code": "W02000419",
         "stringency_index": 29.63,
         "_deepnote_index_column": 626482
        },
        {
         "Month": "2022-03",
         "MSOA code": "W02000420",
         "stringency_index": 29.63,
         "_deepnote_index_column": 626483
        },
        {
         "Month": "2022-03",
         "MSOA code": "W02000421",
         "stringency_index": 29.63,
         "_deepnote_index_column": 626484
        },
        {
         "Month": "2022-03",
         "MSOA code": "W02000422",
         "stringency_index": 29.63,
         "_deepnote_index_column": 626485
        },
        {
         "Month": "2022-03",
         "MSOA code": "W02000423",
         "stringency_index": 29.63,
         "_deepnote_index_column": 626486
        }
       ]
      },
      "text/plain": "          Month  MSOA code  stringency_index\n0       2015-01  E02000001              0.00\n1       2015-01  E02000002              0.00\n2       2015-01  E02000003              0.00\n3       2015-01  E02000004              0.00\n4       2015-01  E02000005              0.00\n...         ...        ...               ...\n626482  2022-03  W02000419             29.63\n626483  2022-03  W02000420             29.63\n626484  2022-03  W02000421             29.63\n626485  2022-03  W02000422             29.63\n626486  2022-03  W02000423             29.63\n\n[626487 rows x 3 columns]",
      "text/html": "<div>\n<style scoped>\n    .dataframe tbody tr th:only-of-type {\n        vertical-align: middle;\n    }\n\n    .dataframe tbody tr th {\n        vertical-align: top;\n    }\n\n    .dataframe thead th {\n        text-align: right;\n    }\n</style>\n<table border=\"1\" class=\"dataframe\">\n  <thead>\n    <tr style=\"text-align: right;\">\n      <th></th>\n      <th>Month</th>\n      <th>MSOA code</th>\n      <th>stringency_index</th>\n    </tr>\n  </thead>\n  <tbody>\n    <tr>\n      <th>0</th>\n      <td>2015-01</td>\n      <td>E02000001</td>\n      <td>0.00</td>\n    </tr>\n    <tr>\n      <th>1</th>\n      <td>2015-01</td>\n      <td>E02000002</td>\n      <td>0.00</td>\n    </tr>\n    <tr>\n      <th>2</th>\n      <td>2015-01</td>\n      <td>E02000003</td>\n      <td>0.00</td>\n    </tr>\n    <tr>\n      <th>3</th>\n      <td>2015-01</td>\n      <td>E02000004</td>\n      <td>0.00</td>\n    </tr>\n    <tr>\n      <th>4</th>\n      <td>2015-01</td>\n      <td>E02000005</td>\n      <td>0.00</td>\n    </tr>\n    <tr>\n      <th>...</th>\n      <td>...</td>\n      <td>...</td>\n      <td>...</td>\n    </tr>\n    <tr>\n      <th>626482</th>\n      <td>2022-03</td>\n      <td>W02000419</td>\n      <td>29.63</td>\n    </tr>\n    <tr>\n      <th>626483</th>\n      <td>2022-03</td>\n      <td>W02000420</td>\n      <td>29.63</td>\n    </tr>\n    <tr>\n      <th>626484</th>\n      <td>2022-03</td>\n      <td>W02000421</td>\n      <td>29.63</td>\n    </tr>\n    <tr>\n      <th>626485</th>\n      <td>2022-03</td>\n      <td>W02000422</td>\n      <td>29.63</td>\n    </tr>\n    <tr>\n      <th>626486</th>\n      <td>2022-03</td>\n      <td>W02000423</td>\n      <td>29.63</td>\n    </tr>\n  </tbody>\n</table>\n<p>626487 rows × 3 columns</p>\n</div>"
     },
     "metadata": {}
    }
   ]
  },
  {
   "cell_type": "code",
   "metadata": {
    "cell_id": "08d7e0cb5d214c1fb5daee744a945f23",
    "tags": [],
    "deepnote_to_be_reexecuted": false,
    "source_hash": "d0c92230",
    "execution_start": 1648247937513,
    "execution_millis": 196,
    "deepnote_cell_type": "code",
    "deepnote_cell_height": 994
   },
   "source": "lst_msoas_future = lst_msoas * 9\nlst_future_dates = ['2022-04-01'] * (len(lst_msoas))\nlst_future_dates = lst_future_dates + (['2022-05-01'] * (len(lst_msoas)))\nlst_future_dates = lst_future_dates + (['2022-06-01'] * len(lst_msoas))\nlst_future_dates = lst_future_dates + (['2022-07-01'] * (len(lst_msoas)))\nlst_future_dates = lst_future_dates + (['2022-08-01'] * (len(lst_msoas)))\nlst_future_dates = lst_future_dates + (['2022-09-01'] * (len(lst_msoas)))\nlst_future_dates = lst_future_dates + (['2022-10-01'] * (len(lst_msoas)))\nlst_future_dates = lst_future_dates + (['2022-11-01'] * (len(lst_msoas)))\nlst_future_dates = lst_future_dates + (['2022-12-01'] * (len(lst_msoas)))\nlst_si_future  = [0] * len(lst_future_dates)\n\nd_future = {'Day': lst_future_dates, 'MSOA code': lst_msoas_future, 'stringency_index': lst_si_future}\ndf_future_SI = pd.DataFrame(data=d_future)\n\ndf_future_SI['Day'] = pd.to_datetime(df_future_SI['Day'])\ndf_future_SI['year'] = pd.DatetimeIndex(df_future_SI['Day']).year\ndf_future_SI['month'] = pd.DatetimeIndex(df_future_SI['Day']).month\n\ndf_future_SI['month'] = df_future_SI['month'].map(month_dict)\ndf_future_SI['Month'] = df_future_SI['year'].astype(str) + '-' + df_future_SI['month']\ndf_future_SI = df_future_SI[['Month', 'MSOA code', 'stringency_index',]]\ndf_future_SI",
   "execution_count": null,
   "outputs": [
    {
     "output_type": "execute_result",
     "execution_count": 14,
     "data": {
      "application/vnd.deepnote.dataframe.v3+json": {
       "column_count": 3,
       "row_count": 64809,
       "columns": [
        {
         "name": "Month",
         "dtype": "object",
         "stats": {
          "unique_count": 9,
          "nan_count": 0,
          "categories": [
           {
            "name": "2022-04",
            "count": 7201
           },
           {
            "name": "2022-05",
            "count": 7201
           },
           {
            "name": "7 others",
            "count": 50407
           }
          ]
         }
        },
        {
         "name": "MSOA code",
         "dtype": "object"
        },
        {
         "name": "stringency_index",
         "dtype": "int64"
        },
        {
         "name": "_deepnote_index_column",
         "dtype": "int64"
        }
       ],
       "rows": [
        {
         "Month": "2022-04",
         "MSOA code": "E02000001",
         "stringency_index": 0,
         "_deepnote_index_column": 0
        },
        {
         "Month": "2022-04",
         "MSOA code": "E02000002",
         "stringency_index": 0,
         "_deepnote_index_column": 1
        },
        {
         "Month": "2022-04",
         "MSOA code": "E02000003",
         "stringency_index": 0,
         "_deepnote_index_column": 2
        },
        {
         "Month": "2022-04",
         "MSOA code": "E02000004",
         "stringency_index": 0,
         "_deepnote_index_column": 3
        },
        {
         "Month": "2022-04",
         "MSOA code": "E02000005",
         "stringency_index": 0,
         "_deepnote_index_column": 4
        },
        {
         "Month": "2022-04",
         "MSOA code": "E02000007",
         "stringency_index": 0,
         "_deepnote_index_column": 5
        },
        {
         "Month": "2022-04",
         "MSOA code": "E02000008",
         "stringency_index": 0,
         "_deepnote_index_column": 6
        },
        {
         "Month": "2022-04",
         "MSOA code": "E02000009",
         "stringency_index": 0,
         "_deepnote_index_column": 7
        },
        {
         "Month": "2022-04",
         "MSOA code": "E02000010",
         "stringency_index": 0,
         "_deepnote_index_column": 8
        },
        {
         "Month": "2022-04",
         "MSOA code": "E02000011",
         "stringency_index": 0,
         "_deepnote_index_column": 9
        }
       ]
      },
      "text/plain": "         Month  MSOA code  stringency_index\n0      2022-04  E02000001                 0\n1      2022-04  E02000002                 0\n2      2022-04  E02000003                 0\n3      2022-04  E02000004                 0\n4      2022-04  E02000005                 0\n...        ...        ...               ...\n64804  2022-12  W02000419                 0\n64805  2022-12  W02000420                 0\n64806  2022-12  W02000421                 0\n64807  2022-12  W02000422                 0\n64808  2022-12  W02000423                 0\n\n[64809 rows x 3 columns]",
      "text/html": "<div>\n<style scoped>\n    .dataframe tbody tr th:only-of-type {\n        vertical-align: middle;\n    }\n\n    .dataframe tbody tr th {\n        vertical-align: top;\n    }\n\n    .dataframe thead th {\n        text-align: right;\n    }\n</style>\n<table border=\"1\" class=\"dataframe\">\n  <thead>\n    <tr style=\"text-align: right;\">\n      <th></th>\n      <th>Month</th>\n      <th>MSOA code</th>\n      <th>stringency_index</th>\n    </tr>\n  </thead>\n  <tbody>\n    <tr>\n      <th>0</th>\n      <td>2022-04</td>\n      <td>E02000001</td>\n      <td>0</td>\n    </tr>\n    <tr>\n      <th>1</th>\n      <td>2022-04</td>\n      <td>E02000002</td>\n      <td>0</td>\n    </tr>\n    <tr>\n      <th>2</th>\n      <td>2022-04</td>\n      <td>E02000003</td>\n      <td>0</td>\n    </tr>\n    <tr>\n      <th>3</th>\n      <td>2022-04</td>\n      <td>E02000004</td>\n      <td>0</td>\n    </tr>\n    <tr>\n      <th>4</th>\n      <td>2022-04</td>\n      <td>E02000005</td>\n      <td>0</td>\n    </tr>\n    <tr>\n      <th>...</th>\n      <td>...</td>\n      <td>...</td>\n      <td>...</td>\n    </tr>\n    <tr>\n      <th>64804</th>\n      <td>2022-12</td>\n      <td>W02000419</td>\n      <td>0</td>\n    </tr>\n    <tr>\n      <th>64805</th>\n      <td>2022-12</td>\n      <td>W02000420</td>\n      <td>0</td>\n    </tr>\n    <tr>\n      <th>64806</th>\n      <td>2022-12</td>\n      <td>W02000421</td>\n      <td>0</td>\n    </tr>\n    <tr>\n      <th>64807</th>\n      <td>2022-12</td>\n      <td>W02000422</td>\n      <td>0</td>\n    </tr>\n    <tr>\n      <th>64808</th>\n      <td>2022-12</td>\n      <td>W02000423</td>\n      <td>0</td>\n    </tr>\n  </tbody>\n</table>\n<p>64809 rows × 3 columns</p>\n</div>"
     },
     "metadata": {}
    }
   ]
  },
  {
   "cell_type": "code",
   "metadata": {
    "cell_id": "944289e818894c94a7fa252bad957049",
    "tags": [],
    "deepnote_to_be_reexecuted": false,
    "source_hash": "276b813d",
    "execution_start": 1648247937718,
    "execution_millis": 79,
    "deepnote_table_state": {
     "pageSize": 10,
     "pageIndex": 59999,
     "filters": [],
     "sortBy": []
    },
    "deepnote_table_loading": false,
    "deepnote_cell_type": "code",
    "deepnote_cell_height": 634
   },
   "source": "df_SI = df_past_SI.append(df_future_SI)\n# df_SI.to_csv('SI_UK_per_month_with_future.csv')\ndf_SI",
   "execution_count": null,
   "outputs": [
    {
     "output_type": "execute_result",
     "execution_count": 15,
     "data": {
      "application/vnd.deepnote.dataframe.v3+json": {
       "column_count": 3,
       "row_count": 691296,
       "columns": [
        {
         "name": "Month",
         "dtype": "object"
        },
        {
         "name": "MSOA code",
         "dtype": "object"
        },
        {
         "name": "stringency_index",
         "dtype": "float64"
        },
        {
         "name": "_deepnote_index_column",
         "dtype": "int64"
        }
       ],
       "rows": [
        {
         "Month": "2021-12",
         "MSOA code": "E02002370",
         "stringency_index": 47.77451612903223,
         "_deepnote_index_column": 599990
        },
        {
         "Month": "2021-12",
         "MSOA code": "E02002371",
         "stringency_index": 47.77451612903223,
         "_deepnote_index_column": 599991
        },
        {
         "Month": "2021-12",
         "MSOA code": "E02002373",
         "stringency_index": 47.77451612903223,
         "_deepnote_index_column": 599992
        },
        {
         "Month": "2021-12",
         "MSOA code": "E02002374",
         "stringency_index": 47.77451612903223,
         "_deepnote_index_column": 599993
        },
        {
         "Month": "2021-12",
         "MSOA code": "E02002375",
         "stringency_index": 47.77451612903223,
         "_deepnote_index_column": 599994
        },
        {
         "Month": "2021-12",
         "MSOA code": "E02002376",
         "stringency_index": 47.77451612903223,
         "_deepnote_index_column": 599995
        },
        {
         "Month": "2021-12",
         "MSOA code": "E02002377",
         "stringency_index": 47.77451612903223,
         "_deepnote_index_column": 599996
        },
        {
         "Month": "2021-12",
         "MSOA code": "E02002379",
         "stringency_index": 47.77451612903223,
         "_deepnote_index_column": 599997
        },
        {
         "Month": "2021-12",
         "MSOA code": "E02002380",
         "stringency_index": 47.77451612903223,
         "_deepnote_index_column": 599998
        },
        {
         "Month": "2021-12",
         "MSOA code": "E02002381",
         "stringency_index": 47.77451612903223,
         "_deepnote_index_column": 599999
        }
       ]
      },
      "text/plain": "         Month  MSOA code  stringency_index\n0      2015-01  E02000001               0.0\n1      2015-01  E02000002               0.0\n2      2015-01  E02000003               0.0\n3      2015-01  E02000004               0.0\n4      2015-01  E02000005               0.0\n...        ...        ...               ...\n64804  2022-12  W02000419               0.0\n64805  2022-12  W02000420               0.0\n64806  2022-12  W02000421               0.0\n64807  2022-12  W02000422               0.0\n64808  2022-12  W02000423               0.0\n\n[691296 rows x 3 columns]",
      "text/html": "<div>\n<style scoped>\n    .dataframe tbody tr th:only-of-type {\n        vertical-align: middle;\n    }\n\n    .dataframe tbody tr th {\n        vertical-align: top;\n    }\n\n    .dataframe thead th {\n        text-align: right;\n    }\n</style>\n<table border=\"1\" class=\"dataframe\">\n  <thead>\n    <tr style=\"text-align: right;\">\n      <th></th>\n      <th>Month</th>\n      <th>MSOA code</th>\n      <th>stringency_index</th>\n    </tr>\n  </thead>\n  <tbody>\n    <tr>\n      <th>0</th>\n      <td>2015-01</td>\n      <td>E02000001</td>\n      <td>0.0</td>\n    </tr>\n    <tr>\n      <th>1</th>\n      <td>2015-01</td>\n      <td>E02000002</td>\n      <td>0.0</td>\n    </tr>\n    <tr>\n      <th>2</th>\n      <td>2015-01</td>\n      <td>E02000003</td>\n      <td>0.0</td>\n    </tr>\n    <tr>\n      <th>3</th>\n      <td>2015-01</td>\n      <td>E02000004</td>\n      <td>0.0</td>\n    </tr>\n    <tr>\n      <th>4</th>\n      <td>2015-01</td>\n      <td>E02000005</td>\n      <td>0.0</td>\n    </tr>\n    <tr>\n      <th>...</th>\n      <td>...</td>\n      <td>...</td>\n      <td>...</td>\n    </tr>\n    <tr>\n      <th>64804</th>\n      <td>2022-12</td>\n      <td>W02000419</td>\n      <td>0.0</td>\n    </tr>\n    <tr>\n      <th>64805</th>\n      <td>2022-12</td>\n      <td>W02000420</td>\n      <td>0.0</td>\n    </tr>\n    <tr>\n      <th>64806</th>\n      <td>2022-12</td>\n      <td>W02000421</td>\n      <td>0.0</td>\n    </tr>\n    <tr>\n      <th>64807</th>\n      <td>2022-12</td>\n      <td>W02000422</td>\n      <td>0.0</td>\n    </tr>\n    <tr>\n      <th>64808</th>\n      <td>2022-12</td>\n      <td>W02000423</td>\n      <td>0.0</td>\n    </tr>\n  </tbody>\n</table>\n<p>691296 rows × 3 columns</p>\n</div>"
     },
     "metadata": {}
    }
   ]
  },
  {
   "cell_type": "code",
   "metadata": {
    "cell_id": "00010-10f95ce9-0a47-4202-b0b1-38e03d71bcbc",
    "deepnote_to_be_reexecuted": false,
    "source_hash": "b6f5fdc1",
    "execution_start": 1648247938460,
    "execution_millis": 295,
    "deepnote_cell_type": "code",
    "deepnote_cell_height": 598
   },
   "source": "SI_UK_grouped['stringency_index'].describe()",
   "execution_count": null,
   "outputs": [
    {
     "output_type": "execute_result",
     "execution_count": 16,
     "data": {
      "application/vnd.deepnote.dataframe.v3+json": {
       "column_count": 8,
       "row_count": 87,
       "columns": [
        {
         "name": "count",
         "dtype": "float64",
         "stats": {
          "unique_count": 7,
          "nan_count": 0,
          "min": "1.0",
          "max": "31.0",
          "histogram": [
           {
            "bin_start": 1,
            "bin_end": 4,
            "count": 60
           },
           {
            "bin_start": 4,
            "bin_end": 7,
            "count": 0
           },
           {
            "bin_start": 7,
            "bin_end": 10,
            "count": 0
           },
           {
            "bin_start": 10,
            "bin_end": 13,
            "count": 1
           },
           {
            "bin_start": 13,
            "bin_end": 16,
            "count": 1
           },
           {
            "bin_start": 16,
            "bin_end": 19,
            "count": 0
           },
           {
            "bin_start": 19,
            "bin_end": 22,
            "count": 0
           },
           {
            "bin_start": 22,
            "bin_end": 25,
            "count": 0
           },
           {
            "bin_start": 25,
            "bin_end": 28,
            "count": 0
           },
           {
            "bin_start": 28,
            "bin_end": 31,
            "count": 25
           }
          ]
         }
        },
        {
         "name": "mean",
         "dtype": "float64",
         "stats": {
          "unique_count": 28,
          "nan_count": 0,
          "min": "0.0",
          "max": "87.49750000000002",
          "histogram": [
           {
            "bin_start": 0,
            "bin_end": 8.749750000000002,
            "count": 61
           },
           {
            "bin_start": 8.749750000000002,
            "bin_end": 17.499500000000005,
            "count": 1
           },
           {
            "bin_start": 17.499500000000005,
            "bin_end": 26.249250000000007,
            "count": 0
           },
           {
            "bin_start": 26.249250000000007,
            "bin_end": 34.99900000000001,
            "count": 1
           },
           {
            "bin_start": 34.99900000000001,
            "bin_end": 43.748750000000015,
            "count": 4
           },
           {
            "bin_start": 43.748750000000015,
            "bin_end": 52.498500000000014,
            "count": 5
           },
           {
            "bin_start": 52.498500000000014,
            "bin_end": 61.24825000000001,
            "count": 2
           },
           {
            "bin_start": 61.24825000000001,
            "bin_end": 69.99800000000002,
            "count": 6
           },
           {
            "bin_start": 69.99800000000002,
            "bin_end": 78.74775000000002,
            "count": 3
           },
           {
            "bin_start": 78.74775000000002,
            "bin_end": 87.49750000000002,
            "count": 4
           }
          ]
         }
        },
        {
         "name": "std",
         "dtype": "float64",
         "stats": {
          "unique_count": 26,
          "nan_count": 60,
          "min": "0.0",
          "max": "30.241540016683096",
          "histogram": [
           {
            "bin_start": 0,
            "bin_end": 3.0241540016683097,
            "count": 17
           },
           {
            "bin_start": 3.0241540016683097,
            "bin_end": 6.048308003336619,
            "count": 9
           },
           {
            "bin_start": 6.048308003336619,
            "bin_end": 9.07246200500493,
            "count": 0
           },
           {
            "bin_start": 9.07246200500493,
            "bin_end": 12.096616006673239,
            "count": 0
           },
           {
            "bin_start": 12.096616006673239,
            "bin_end": 15.120770008341548,
            "count": 0
           },
           {
            "bin_start": 15.120770008341548,
            "bin_end": 18.14492401000986,
            "count": 0
           },
           {
            "bin_start": 18.14492401000986,
            "bin_end": 21.169078011678167,
            "count": 0
           },
           {
            "bin_start": 21.169078011678167,
            "bin_end": 24.193232013346478,
            "count": 0
           },
           {
            "bin_start": 24.193232013346478,
            "bin_end": 27.21738601501479,
            "count": 0
           },
           {
            "bin_start": 27.21738601501479,
            "bin_end": 30.241540016683096,
            "count": 1
           }
          ]
         }
        },
        {
         "name": "min",
         "dtype": "float64",
         "stats": {
          "unique_count": 22,
          "nan_count": 0,
          "min": "0.0",
          "max": "86.11",
          "histogram": [
           {
            "bin_start": 0,
            "bin_end": 8.611,
            "count": 62
           },
           {
            "bin_start": 8.611,
            "bin_end": 17.222,
            "count": 1
           },
           {
            "bin_start": 17.222,
            "bin_end": 25.833000000000002,
            "count": 0
           },
           {
            "bin_start": 25.833000000000002,
            "bin_end": 34.444,
            "count": 2
           },
           {
            "bin_start": 34.444,
            "bin_end": 43.05500000000001,
            "count": 3
           },
           {
            "bin_start": 43.05500000000001,
            "bin_end": 51.666000000000004,
            "count": 5
           },
           {
            "bin_start": 51.666000000000004,
            "bin_end": 60.277,
            "count": 2
           },
           {
            "bin_start": 60.277,
            "bin_end": 68.888,
            "count": 7
           },
           {
            "bin_start": 68.888,
            "bin_end": 77.49900000000001,
            "count": 2
           },
           {
            "bin_start": 77.49900000000001,
            "bin_end": 86.11,
            "count": 3
           }
          ]
         }
        },
        {
         "name": "25%",
         "dtype": "float64",
         "stats": {
          "unique_count": 20,
          "nan_count": 0,
          "min": "0.0",
          "max": "87.96",
          "histogram": [
           {
            "bin_start": 0,
            "bin_end": 8.796,
            "count": 61
           },
           {
            "bin_start": 8.796,
            "bin_end": 17.592,
            "count": 2
           },
           {
            "bin_start": 17.592,
            "bin_end": 26.387999999999998,
            "count": 0
           },
           {
            "bin_start": 26.387999999999998,
            "bin_end": 35.184,
            "count": 2
           },
           {
            "bin_start": 35.184,
            "bin_end": 43.98,
            "count": 2
           },
           {
            "bin_start": 43.98,
            "bin_end": 52.775999999999996,
            "count": 6
           },
           {
            "bin_start": 52.775999999999996,
            "bin_end": 61.571999999999996,
            "count": 2
           },
           {
            "bin_start": 61.571999999999996,
            "bin_end": 70.368,
            "count": 6
           },
           {
            "bin_start": 70.368,
            "bin_end": 79.16399999999999,
            "count": 3
           },
           {
            "bin_start": 79.16399999999999,
            "bin_end": 87.96,
            "count": 3
           }
          ]
         }
        },
        {
         "name": "50%",
         "dtype": "float64",
         "stats": {
          "unique_count": 21,
          "nan_count": 0,
          "min": "0.0",
          "max": "87.96",
          "histogram": [
           {
            "bin_start": 0,
            "bin_end": 8.796,
            "count": 61
           },
           {
            "bin_start": 8.796,
            "bin_end": 17.592,
            "count": 2
           },
           {
            "bin_start": 17.592,
            "bin_end": 26.387999999999998,
            "count": 0
           },
           {
            "bin_start": 26.387999999999998,
            "bin_end": 35.184,
            "count": 2
           },
           {
            "bin_start": 35.184,
            "bin_end": 43.98,
            "count": 2
           },
           {
            "bin_start": 43.98,
            "bin_end": 52.775999999999996,
            "count": 6
           },
           {
            "bin_start": 52.775999999999996,
            "bin_end": 61.571999999999996,
            "count": 2
           },
           {
            "bin_start": 61.571999999999996,
            "bin_end": 70.368,
            "count": 5
           },
           {
            "bin_start": 70.368,
            "bin_end": 79.16399999999999,
            "count": 4
           },
           {
            "bin_start": 79.16399999999999,
            "bin_end": 87.96,
            "count": 3
           }
          ]
         }
        },
        {
         "name": "75%",
         "dtype": "float64",
         "stats": {
          "unique_count": 22,
          "nan_count": 0,
          "min": "0.0",
          "max": "87.96",
          "histogram": [
           {
            "bin_start": 0,
            "bin_end": 8.796,
            "count": 61
           },
           {
            "bin_start": 8.796,
            "bin_end": 17.592,
            "count": 1
           },
           {
            "bin_start": 17.592,
            "bin_end": 26.387999999999998,
            "count": 0
           },
           {
            "bin_start": 26.387999999999998,
            "bin_end": 35.184,
            "count": 1
           },
           {
            "bin_start": 35.184,
            "bin_end": 43.98,
            "count": 1
           },
           {
            "bin_start": 43.98,
            "bin_end": 52.775999999999996,
            "count": 8
           },
           {
            "bin_start": 52.775999999999996,
            "bin_end": 61.571999999999996,
            "count": 0
           },
           {
            "bin_start": 61.571999999999996,
            "bin_end": 70.368,
            "count": 4
           },
           {
            "bin_start": 70.368,
            "bin_end": 79.16399999999999,
            "count": 6
           },
           {
            "bin_start": 79.16399999999999,
            "bin_end": 87.96,
            "count": 5
           }
          ]
         }
        },
        {
         "name": "max",
         "dtype": "float64",
         "stats": {
          "unique_count": 19,
          "nan_count": 0,
          "min": "0.0",
          "max": "87.96",
          "histogram": [
           {
            "bin_start": 0,
            "bin_end": 8.796,
            "count": 61
           },
           {
            "bin_start": 8.796,
            "bin_end": 17.592,
            "count": 1
           },
           {
            "bin_start": 17.592,
            "bin_end": 26.387999999999998,
            "count": 0
           },
           {
            "bin_start": 26.387999999999998,
            "bin_end": 35.184,
            "count": 1
           },
           {
            "bin_start": 35.184,
            "bin_end": 43.98,
            "count": 1
           },
           {
            "bin_start": 43.98,
            "bin_end": 52.775999999999996,
            "count": 7
           },
           {
            "bin_start": 52.775999999999996,
            "bin_end": 61.571999999999996,
            "count": 0
           },
           {
            "bin_start": 61.571999999999996,
            "bin_end": 70.368,
            "count": 4
           },
           {
            "bin_start": 70.368,
            "bin_end": 79.16399999999999,
            "count": 5
           },
           {
            "bin_start": 79.16399999999999,
            "bin_end": 87.96,
            "count": 7
           }
          ]
         }
        },
        {
         "name": "_deepnote_index_column",
         "dtype": "object"
        }
       ],
       "rows": [
        {
         "count": 1,
         "mean": 0,
         "std": "nan",
         "min": 0,
         "25%": 0,
         "50%": 0,
         "75%": 0,
         "max": 0,
         "_deepnote_index_column": "(2015, 1)"
        },
        {
         "count": 1,
         "mean": 0,
         "std": "nan",
         "min": 0,
         "25%": 0,
         "50%": 0,
         "75%": 0,
         "max": 0,
         "_deepnote_index_column": "(2015, 2)"
        },
        {
         "count": 1,
         "mean": 0,
         "std": "nan",
         "min": 0,
         "25%": 0,
         "50%": 0,
         "75%": 0,
         "max": 0,
         "_deepnote_index_column": "(2015, 3)"
        },
        {
         "count": 1,
         "mean": 0,
         "std": "nan",
         "min": 0,
         "25%": 0,
         "50%": 0,
         "75%": 0,
         "max": 0,
         "_deepnote_index_column": "(2015, 4)"
        },
        {
         "count": 1,
         "mean": 0,
         "std": "nan",
         "min": 0,
         "25%": 0,
         "50%": 0,
         "75%": 0,
         "max": 0,
         "_deepnote_index_column": "(2015, 5)"
        },
        {
         "count": 1,
         "mean": 0,
         "std": "nan",
         "min": 0,
         "25%": 0,
         "50%": 0,
         "75%": 0,
         "max": 0,
         "_deepnote_index_column": "(2015, 6)"
        },
        {
         "count": 1,
         "mean": 0,
         "std": "nan",
         "min": 0,
         "25%": 0,
         "50%": 0,
         "75%": 0,
         "max": 0,
         "_deepnote_index_column": "(2015, 7)"
        },
        {
         "count": 1,
         "mean": 0,
         "std": "nan",
         "min": 0,
         "25%": 0,
         "50%": 0,
         "75%": 0,
         "max": 0,
         "_deepnote_index_column": "(2015, 8)"
        },
        {
         "count": 1,
         "mean": 0,
         "std": "nan",
         "min": 0,
         "25%": 0,
         "50%": 0,
         "75%": 0,
         "max": 0,
         "_deepnote_index_column": "(2015, 9)"
        },
        {
         "count": 1,
         "mean": 0,
         "std": "nan",
         "min": 0,
         "25%": 0,
         "50%": 0,
         "75%": 0,
         "max": 0,
         "_deepnote_index_column": "(2015, 10)"
        }
       ]
      },
      "text/plain": "            count       mean       std    min    25%    50%    75%    max\nyear month                                                               \n2015 1        1.0   0.000000       NaN   0.00   0.00   0.00   0.00   0.00\n     2        1.0   0.000000       NaN   0.00   0.00   0.00   0.00   0.00\n     3        1.0   0.000000       NaN   0.00   0.00   0.00   0.00   0.00\n     4        1.0   0.000000       NaN   0.00   0.00   0.00   0.00   0.00\n     5        1.0   0.000000       NaN   0.00   0.00   0.00   0.00   0.00\n...           ...        ...       ...    ...    ...    ...    ...    ...\n2021 11      30.0  46.760000  0.000000  46.76  46.76  46.76  46.76  46.76\n     12      31.0  47.774516  0.935877  46.76  46.76  48.61  48.61  48.61\n2022 1       31.0  47.147097  2.363379  42.13  46.76  48.61  48.61  48.61\n     2       28.0  35.482857  6.028474  29.63  29.63  34.49  42.13  42.13\n     3       14.0  29.630000  0.000000  29.63  29.63  29.63  29.63  29.63\n\n[87 rows x 8 columns]",
      "text/html": "<div>\n<style scoped>\n    .dataframe tbody tr th:only-of-type {\n        vertical-align: middle;\n    }\n\n    .dataframe tbody tr th {\n        vertical-align: top;\n    }\n\n    .dataframe thead th {\n        text-align: right;\n    }\n</style>\n<table border=\"1\" class=\"dataframe\">\n  <thead>\n    <tr style=\"text-align: right;\">\n      <th></th>\n      <th></th>\n      <th>count</th>\n      <th>mean</th>\n      <th>std</th>\n      <th>min</th>\n      <th>25%</th>\n      <th>50%</th>\n      <th>75%</th>\n      <th>max</th>\n    </tr>\n    <tr>\n      <th>year</th>\n      <th>month</th>\n      <th></th>\n      <th></th>\n      <th></th>\n      <th></th>\n      <th></th>\n      <th></th>\n      <th></th>\n      <th></th>\n    </tr>\n  </thead>\n  <tbody>\n    <tr>\n      <th rowspan=\"5\" valign=\"top\">2015</th>\n      <th>1</th>\n      <td>1.0</td>\n      <td>0.000000</td>\n      <td>NaN</td>\n      <td>0.00</td>\n      <td>0.00</td>\n      <td>0.00</td>\n      <td>0.00</td>\n      <td>0.00</td>\n    </tr>\n    <tr>\n      <th>2</th>\n      <td>1.0</td>\n      <td>0.000000</td>\n      <td>NaN</td>\n      <td>0.00</td>\n      <td>0.00</td>\n      <td>0.00</td>\n      <td>0.00</td>\n      <td>0.00</td>\n    </tr>\n    <tr>\n      <th>3</th>\n      <td>1.0</td>\n      <td>0.000000</td>\n      <td>NaN</td>\n      <td>0.00</td>\n      <td>0.00</td>\n      <td>0.00</td>\n      <td>0.00</td>\n      <td>0.00</td>\n    </tr>\n    <tr>\n      <th>4</th>\n      <td>1.0</td>\n      <td>0.000000</td>\n      <td>NaN</td>\n      <td>0.00</td>\n      <td>0.00</td>\n      <td>0.00</td>\n      <td>0.00</td>\n      <td>0.00</td>\n    </tr>\n    <tr>\n      <th>5</th>\n      <td>1.0</td>\n      <td>0.000000</td>\n      <td>NaN</td>\n      <td>0.00</td>\n      <td>0.00</td>\n      <td>0.00</td>\n      <td>0.00</td>\n      <td>0.00</td>\n    </tr>\n    <tr>\n      <th>...</th>\n      <th>...</th>\n      <td>...</td>\n      <td>...</td>\n      <td>...</td>\n      <td>...</td>\n      <td>...</td>\n      <td>...</td>\n      <td>...</td>\n      <td>...</td>\n    </tr>\n    <tr>\n      <th rowspan=\"2\" valign=\"top\">2021</th>\n      <th>11</th>\n      <td>30.0</td>\n      <td>46.760000</td>\n      <td>0.000000</td>\n      <td>46.76</td>\n      <td>46.76</td>\n      <td>46.76</td>\n      <td>46.76</td>\n      <td>46.76</td>\n    </tr>\n    <tr>\n      <th>12</th>\n      <td>31.0</td>\n      <td>47.774516</td>\n      <td>0.935877</td>\n      <td>46.76</td>\n      <td>46.76</td>\n      <td>48.61</td>\n      <td>48.61</td>\n      <td>48.61</td>\n    </tr>\n    <tr>\n      <th rowspan=\"3\" valign=\"top\">2022</th>\n      <th>1</th>\n      <td>31.0</td>\n      <td>47.147097</td>\n      <td>2.363379</td>\n      <td>42.13</td>\n      <td>46.76</td>\n      <td>48.61</td>\n      <td>48.61</td>\n      <td>48.61</td>\n    </tr>\n    <tr>\n      <th>2</th>\n      <td>28.0</td>\n      <td>35.482857</td>\n      <td>6.028474</td>\n      <td>29.63</td>\n      <td>29.63</td>\n      <td>34.49</td>\n      <td>42.13</td>\n      <td>42.13</td>\n    </tr>\n    <tr>\n      <th>3</th>\n      <td>14.0</td>\n      <td>29.630000</td>\n      <td>0.000000</td>\n      <td>29.63</td>\n      <td>29.63</td>\n      <td>29.63</td>\n      <td>29.63</td>\n      <td>29.63</td>\n    </tr>\n  </tbody>\n</table>\n<p>87 rows × 8 columns</p>\n</div>"
     },
     "metadata": {}
    }
   ]
  },
  {
   "cell_type": "code",
   "metadata": {
    "cell_id": "4c1a2ee0a73543e296ba342033d382b7",
    "tags": [],
    "deepnote_to_be_reexecuted": false,
    "source_hash": "d8660512",
    "execution_start": 1648248057403,
    "execution_millis": 1677,
    "deepnote_table_state": {
     "pageSize": 10,
     "pageIndex": 49999,
     "filters": [],
     "sortBy": []
    },
    "deepnote_table_loading": false,
    "deepnote_cell_type": "code",
    "deepnote_cell_height": 135
   },
   "source": "# add SI to the main dataframe for predictions\ndf = pd.read_csv('/work/crime_type_per_month_msoa_with_force.csv')\ndf_with_si = pd.merge(df, df_SI, how='outer', on=['Month', 'MSOA code'])\n# df_with_si = df_with_si.drop(columns = df_with_si.columns[:2])",
   "execution_count": null,
   "outputs": []
  },
  {
   "cell_type": "code",
   "metadata": {
    "cell_id": "19eb9364fcc849439080d081c64e91bb",
    "tags": [],
    "deepnote_to_be_reexecuted": false,
    "source_hash": "24b6c3c4",
    "execution_start": 1648248083604,
    "execution_millis": 8154,
    "deepnote_cell_type": "code",
    "deepnote_cell_height": 81
   },
   "source": " df_with_si.to_csv('/work/crime_type_per_month_msoa_with_force_si_future.csv')",
   "execution_count": null,
   "outputs": []
  },
  {
   "cell_type": "code",
   "metadata": {
    "cell_id": "7b7c8e1bd2294f2386291312ac3c0eef",
    "tags": [],
    "deepnote_cell_type": "code",
    "deepnote_cell_height": 66
   },
   "source": "",
   "execution_count": null,
   "outputs": []
  },
  {
   "cell_type": "markdown",
   "source": "<a style='text-decoration:none;line-height:16px;display:flex;color:#5B5B62;padding:10px;justify-content:end;' href='https://deepnote.com?utm_source=created-in-deepnote-cell&projectId=40789b9a-1c62-45b9-9d9c-b1a39ebe3dfd' target=\"_blank\">\n<img alt='Created in deepnote.com' style='display:inline;max-height:16px;margin:0px;margin-right:7.5px;' src='data:image/svg+xml;base64,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' > </img>\nCreated in <span style='font-weight:600;margin-left:4px;'>Deepnote</span></a>",
   "metadata": {
    "tags": [],
    "created_in_deepnote_cell": true,
    "deepnote_cell_type": "markdown"
   }
  }
 ],
 "nbformat": 4,
 "nbformat_minor": 4,
 "metadata": {
  "kernelspec": {
   "display_name": "Python 3",
   "language": "python",
   "name": "python3"
  },
  "language_info": {
   "codemirror_mode": {
    "name": "ipython",
    "version": 3
   },
   "file_extension": ".py",
   "mimetype": "text/x-python",
   "name": "python",
   "nbconvert_exporter": "python",
   "pygments_lexer": "ipython3",
   "version": "3.8.3"
  },
  "deepnote_notebook_id": "5a3349be-a638-46ff-b8e7-4ba4a871a1f0",
  "deepnote": {},
  "deepnote_execution_queue": []
 }
}