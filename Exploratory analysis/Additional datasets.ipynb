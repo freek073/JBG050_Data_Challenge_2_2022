{
 "cells": [
  {
   "cell_type": "code",
   "metadata": {
    "cell_id": "b4f923d4-e4f5-4958-bf03-5997366dc92d",
    "deepnote_cell_type": "code"
   },
   "source": "import numpy as np\nimport matplotlib.pyplot as plt\nimport datetime\n\nimport IPython\nimport IPython.display\nimport matplotlib as mpl\nimport matplotlib.pyplot as plt\nimport numpy as np\nimport pandas as pd\nimport seaborn as sns\n\nimport tqdm as tq\nimport string\nimport statistics as stats",
   "execution_count": null,
   "outputs": []
  },
  {
   "cell_type": "code",
   "metadata": {
    "cell_id": "00001-2bc88bc5-8682-4d8f-9db8-e2854129ebe7",
    "deepnote_cell_type": "code"
   },
   "source": "unemployment = pd.read_csv(\"unemploymentrate.csv\", delimiter=';')",
   "execution_count": null,
   "outputs": []
  },
  {
   "cell_type": "code",
   "metadata": {
    "cell_id": "00002-3a7c6d53-0d89-4e30-bc31-189646318f45",
    "deepnote_cell_type": "code"
   },
   "source": "unemployment = unemployment.rename(columns={'Unnamed: 0':'MSOA code'})",
   "execution_count": null,
   "outputs": []
  },
  {
   "cell_type": "code",
   "metadata": {
    "cell_id": "00003-8b63cc03-5cd0-4b66-908f-1c4f7da1dad5",
    "deepnote_cell_type": "code"
   },
   "source": "unemployment = unemployment.set_index('MSOA code').unstack().to_frame().reset_index().rename(columns={0:'unemployment_rate', 'level_0':'year'})",
   "execution_count": null,
   "outputs": []
  },
  {
   "cell_type": "code",
   "metadata": {
    "cell_id": "00004-060da6ee-901a-4cb6-991c-99f1424fb86c",
    "deepnote_cell_type": "code"
   },
   "source": "population_median_lsoa = pd.read_csv(\"population-median-age-lsoa.csv\", delimiter=';').rename(columns={'LSOA Code': 'LSOA code'})",
   "execution_count": null,
   "outputs": []
  },
  {
   "cell_type": "code",
   "metadata": {
    "cell_id": "00005-a7de1ce9-cafe-4761-96d3-55d82bd8ae9f",
    "deepnote_cell_type": "code"
   },
   "source": "df_msoa = pd.read_csv('/Users/hannabroszczak/Desktop/uni/DataChallenge2/additional datasets/postcodes.csv')\ndf_msoa = df_msoa.rename(columns = {'LSOA Code':'LSOA code', 'MSOA Code':'MSOA code'})",
   "execution_count": null,
   "outputs": [
    {
     "name": "stderr",
     "output_type": "stream",
     "text": "/Users/hannabroszczak/opt/anaconda3/lib/python3.9/site-packages/IPython/core/interactiveshell.py:3444: DtypeWarning: Columns (7,17,18,21,22,24,25,29,32,39,47) have mixed types.Specify dtype option on import or set low_memory=False.\n  exec(code_obj, self.user_global_ns, self.user_ns)\n"
    }
   ]
  },
  {
   "cell_type": "code",
   "metadata": {
    "cell_id": "00006-fe8a87f1-cee5-49ef-9010-4c9c2b14211f",
    "deepnote_cell_type": "code"
   },
   "source": "df_msoa = df_msoa.drop_duplicates(subset=['LSOA code'])",
   "execution_count": null,
   "outputs": []
  },
  {
   "cell_type": "code",
   "metadata": {
    "cell_id": "00007-5ba13849-2cc9-432a-a693-9f50a942a92c",
    "deepnote_cell_type": "code"
   },
   "source": "population_median_msoa = pd.merge(df_msoa[['LSOA code', 'MSOA code']], population_median_lsoa, how='right', on='LSOA code')",
   "execution_count": null,
   "outputs": []
  },
  {
   "cell_type": "code",
   "metadata": {
    "cell_id": "00008-1cce634d-e4e6-4ad1-9338-c6617091169b",
    "deepnote_cell_type": "code"
   },
   "source": "population_median_msoa['Median Age'] = population_median_msoa['Median Age'].astype(float)",
   "execution_count": null,
   "outputs": []
  },
  {
   "cell_type": "code",
   "metadata": {
    "cell_id": "00009-068377e2-acc5-40f2-bf97-90ad9568fc67",
    "deepnote_cell_type": "code"
   },
   "source": "age_msoa = population_median_msoa.groupby('MSOA code').mean().reset_index()\n# the values are the mean of the median age in the LSOAs in a MSOA",
   "execution_count": null,
   "outputs": []
  },
  {
   "cell_type": "code",
   "metadata": {
    "cell_id": "00010-8b90aee3-4213-43f7-9aa5-489c0667c37a",
    "deepnote_cell_type": "code"
   },
   "source": "dataset_yearly = unemployment\ndataset_overall = age_msoa",
   "execution_count": null,
   "outputs": []
  },
  {
   "cell_type": "code",
   "metadata": {
    "cell_id": "00011-a4641346-705d-4c48-b9a4-1395a00460c5",
    "deepnote_cell_type": "code"
   },
   "source": "life_exp_m = pd.read_csv('life-exp-male.csv', delimiter=';')\nlife_exp_m['life_exp_m'] = life_exp_m['Life expectancy'].astype(float)\nlife_exp_m = life_exp_m.drop(['Life expectancy'], axis=1)\nlife_exp_f = pd.read_csv('life-exp-female.csv', delimiter=';')\nlife_exp_f['life_exp_f'] = life_exp_f['Life expectancy'].astype(float)\nlife_exp_f = life_exp_f.drop(['Life expectancy'], axis=1)\nlife_exp_m65 = pd.read_csv('life-exp-male-65.csv', delimiter=';')\nlife_exp_m65['life_exp_m65'] = life_exp_m65['Life expectancy'].astype(float)\nlife_exp_m65 = life_exp_m65.drop(['Life expectancy'], axis=1)\nlife_exp_f65 = pd.read_csv('life-exp-female-65.csv', delimiter=';')\nlife_exp_f65['life_exp_f_65'] = life_exp_f65['Life expectancy'].astype(float)\nlife_exp_f65 = life_exp_f65.drop(['Life expectancy'], axis=1)",
   "execution_count": null,
   "outputs": []
  },
  {
   "cell_type": "code",
   "metadata": {
    "cell_id": "00012-61c82036-f328-4ebe-8e1b-dcc596c07412",
    "deepnote_cell_type": "code"
   },
   "source": "life_exp = pd.merge(life_exp_m, life_exp_f, how='outer', on='MSOA code')\nlife_exp = pd.merge(life_exp, life_exp_m65, how='outer', on='MSOA code')\nlife_exp = pd.merge(life_exp, life_exp_f65, how='outer', on='MSOA code')\nlife_exp",
   "execution_count": null,
   "outputs": [
    {
     "data": {
      "text/html": "<div>\n<style scoped>\n    .dataframe tbody tr th:only-of-type {\n        vertical-align: middle;\n    }\n\n    .dataframe tbody tr th {\n        vertical-align: top;\n    }\n\n    .dataframe thead th {\n        text-align: right;\n    }\n</style>\n<table border=\"1\" class=\"dataframe\">\n  <thead>\n    <tr style=\"text-align: right;\">\n      <th></th>\n      <th>MSOA code</th>\n      <th>life_exp_m</th>\n      <th>life_exp_f</th>\n      <th>life_exp_m65</th>\n      <th>life_exp_f_65</th>\n    </tr>\n  </thead>\n  <tbody>\n    <tr>\n      <th>0</th>\n      <td>E02000001</td>\n      <td>90.37</td>\n      <td>90.74</td>\n      <td>90.74</td>\n      <td>27.61</td>\n    </tr>\n    <tr>\n      <th>1</th>\n      <td>E02000002</td>\n      <td>78.77</td>\n      <td>81.70</td>\n      <td>81.70</td>\n      <td>19.37</td>\n    </tr>\n    <tr>\n      <th>2</th>\n      <td>E02000003</td>\n      <td>78.44</td>\n      <td>84.29</td>\n      <td>84.29</td>\n      <td>21.78</td>\n    </tr>\n    <tr>\n      <th>3</th>\n      <td>E02000004</td>\n      <td>77.94</td>\n      <td>81.71</td>\n      <td>81.71</td>\n      <td>19.35</td>\n    </tr>\n    <tr>\n      <th>4</th>\n      <td>E02000005</td>\n      <td>78.99</td>\n      <td>83.88</td>\n      <td>83.88</td>\n      <td>21.88</td>\n    </tr>\n    <tr>\n      <th>...</th>\n      <td>...</td>\n      <td>...</td>\n      <td>...</td>\n      <td>...</td>\n      <td>...</td>\n    </tr>\n    <tr>\n      <th>6785</th>\n      <td>E02006931</td>\n      <td>79.22</td>\n      <td>83.76</td>\n      <td>83.76</td>\n      <td>21.24</td>\n    </tr>\n    <tr>\n      <th>6786</th>\n      <td>E02006932</td>\n      <td>75.74</td>\n      <td>78.08</td>\n      <td>78.08</td>\n      <td>15.62</td>\n    </tr>\n    <tr>\n      <th>6787</th>\n      <td>E02006933</td>\n      <td>76.18</td>\n      <td>83.10</td>\n      <td>83.10</td>\n      <td>19.67</td>\n    </tr>\n    <tr>\n      <th>6788</th>\n      <td>E02006934</td>\n      <td>87.21</td>\n      <td>84.12</td>\n      <td>84.12</td>\n      <td>23.90</td>\n    </tr>\n    <tr>\n      <th>6789</th>\n      <td>E02000978</td>\n      <td>NaN</td>\n      <td>91.32</td>\n      <td>91.32</td>\n      <td>27.46</td>\n    </tr>\n  </tbody>\n</table>\n<p>6790 rows × 5 columns</p>\n</div>",
      "text/plain": "      MSOA code  life_exp_m  life_exp_f  life_exp_m65  life_exp_f_65\n0     E02000001       90.37       90.74         90.74          27.61\n1     E02000002       78.77       81.70         81.70          19.37\n2     E02000003       78.44       84.29         84.29          21.78\n3     E02000004       77.94       81.71         81.71          19.35\n4     E02000005       78.99       83.88         83.88          21.88\n...         ...         ...         ...           ...            ...\n6785  E02006931       79.22       83.76         83.76          21.24\n6786  E02006932       75.74       78.08         78.08          15.62\n6787  E02006933       76.18       83.10         83.10          19.67\n6788  E02006934       87.21       84.12         84.12          23.90\n6789  E02000978         NaN       91.32         91.32          27.46\n\n[6790 rows x 5 columns]"
     },
     "execution_count": 13,
     "metadata": {},
     "output_type": "execute_result"
    }
   ]
  },
  {
   "cell_type": "code",
   "metadata": {
    "cell_id": "00013-2231b0a9-4f72-467c-9c09-47c018e40c72",
    "deepnote_cell_type": "code"
   },
   "source": "dataset_overall = pd.merge(dataset_overall, life_exp, how='outer', on='MSOA code')",
   "execution_count": null,
   "outputs": []
  },
  {
   "cell_type": "code",
   "metadata": {
    "cell_id": "00014-26f1bc44-14b7-4588-abc2-341786d7397f",
    "deepnote_cell_type": "code"
   },
   "source": "energy_efficiency = pd.read_csv('energy-efficiency.csv', delimiter=';')\nenergy_efficiency = energy_efficiency.rename(columns={energy_efficiency.columns[0]:'MSOA code','All dwellings':'energy_eff_score'})",
   "execution_count": null,
   "outputs": []
  },
  {
   "cell_type": "code",
   "metadata": {
    "cell_id": "00015-dc3162f3-ed61-4a27-9755-367243217ea9",
    "deepnote_cell_type": "code"
   },
   "source": "dataset_overall = pd.merge(dataset_overall, energy_efficiency, how='outer', on='MSOA code')",
   "execution_count": null,
   "outputs": []
  },
  {
   "cell_type": "code",
   "metadata": {
    "cell_id": "00016-39042337-f72f-41ab-8868-52859a09dbe9",
    "deepnote_cell_type": "code"
   },
   "source": "income = pd.read_csv('totalannualincome2018.csv', delimiter=';')",
   "execution_count": null,
   "outputs": []
  },
  {
   "cell_type": "code",
   "metadata": {
    "cell_id": "00017-189b48cc-ff9b-4513-83c6-25d65f216809",
    "deepnote_cell_type": "code"
   },
   "source": "dataset_overall = pd.merge(dataset_overall, income, how='outer', on='MSOA code')",
   "execution_count": null,
   "outputs": []
  },
  {
   "cell_type": "code",
   "metadata": {
    "cell_id": "00018-2768cd40-02ce-4ea7-b407-6f2d10c377fa",
    "deepnote_cell_type": "code"
   },
   "source": "dataset_overall",
   "execution_count": null,
   "outputs": [
    {
     "data": {
      "text/html": "<div>\n<style scoped>\n    .dataframe tbody tr th:only-of-type {\n        vertical-align: middle;\n    }\n\n    .dataframe tbody tr th {\n        vertical-align: top;\n    }\n\n    .dataframe thead th {\n        text-align: right;\n    }\n</style>\n<table border=\"1\" class=\"dataframe\">\n  <thead>\n    <tr style=\"text-align: right;\">\n      <th></th>\n      <th>MSOA code</th>\n      <th>Median Age</th>\n      <th>life_exp_m</th>\n      <th>life_exp_f</th>\n      <th>life_exp_m65</th>\n      <th>life_exp_f_65</th>\n      <th>energy_eff_score</th>\n      <th>Total annual income</th>\n    </tr>\n  </thead>\n  <tbody>\n    <tr>\n      <th>0</th>\n      <td>E02000001</td>\n      <td>38.150000</td>\n      <td>90.37</td>\n      <td>90.74</td>\n      <td>90.74</td>\n      <td>27.61</td>\n      <td>72</td>\n      <td>65400</td>\n    </tr>\n    <tr>\n      <th>1</th>\n      <td>E02000002</td>\n      <td>33.675000</td>\n      <td>78.77</td>\n      <td>81.70</td>\n      <td>81.70</td>\n      <td>19.37</td>\n      <td>66</td>\n      <td>39000</td>\n    </tr>\n    <tr>\n      <th>2</th>\n      <td>E02000003</td>\n      <td>34.900000</td>\n      <td>78.44</td>\n      <td>84.29</td>\n      <td>84.29</td>\n      <td>21.78</td>\n      <td>63</td>\n      <td>47800</td>\n    </tr>\n    <tr>\n      <th>3</th>\n      <td>E02000004</td>\n      <td>36.575000</td>\n      <td>77.94</td>\n      <td>81.71</td>\n      <td>81.71</td>\n      <td>19.35</td>\n      <td>64</td>\n      <td>43700</td>\n    </tr>\n    <tr>\n      <th>4</th>\n      <td>E02000005</td>\n      <td>32.980000</td>\n      <td>78.99</td>\n      <td>83.88</td>\n      <td>83.88</td>\n      <td>21.88</td>\n      <td>66</td>\n      <td>44900</td>\n    </tr>\n    <tr>\n      <th>...</th>\n      <td>...</td>\n      <td>...</td>\n      <td>...</td>\n      <td>...</td>\n      <td>...</td>\n      <td>...</td>\n      <td>...</td>\n      <td>...</td>\n    </tr>\n    <tr>\n      <th>7196</th>\n      <td>W02000419</td>\n      <td>46.114286</td>\n      <td>NaN</td>\n      <td>NaN</td>\n      <td>NaN</td>\n      <td>NaN</td>\n      <td>62</td>\n      <td>31100</td>\n    </tr>\n    <tr>\n      <th>7197</th>\n      <td>W02000420</td>\n      <td>51.000000</td>\n      <td>NaN</td>\n      <td>NaN</td>\n      <td>NaN</td>\n      <td>NaN</td>\n      <td>63</td>\n      <td>55800</td>\n    </tr>\n    <tr>\n      <th>7198</th>\n      <td>W02000421</td>\n      <td>51.614286</td>\n      <td>NaN</td>\n      <td>NaN</td>\n      <td>NaN</td>\n      <td>NaN</td>\n      <td>51</td>\n      <td>41700</td>\n    </tr>\n    <tr>\n      <th>7199</th>\n      <td>W02000422</td>\n      <td>30.620000</td>\n      <td>NaN</td>\n      <td>NaN</td>\n      <td>NaN</td>\n      <td>NaN</td>\n      <td>76</td>\n      <td>54500</td>\n    </tr>\n    <tr>\n      <th>7200</th>\n      <td>W02000423</td>\n      <td>31.266667</td>\n      <td>NaN</td>\n      <td>NaN</td>\n      <td>NaN</td>\n      <td>NaN</td>\n      <td>75</td>\n      <td>40200</td>\n    </tr>\n  </tbody>\n</table>\n<p>7201 rows × 8 columns</p>\n</div>",
      "text/plain": "      MSOA code  Median Age  life_exp_m  life_exp_f  life_exp_m65  \\\n0     E02000001   38.150000       90.37       90.74         90.74   \n1     E02000002   33.675000       78.77       81.70         81.70   \n2     E02000003   34.900000       78.44       84.29         84.29   \n3     E02000004   36.575000       77.94       81.71         81.71   \n4     E02000005   32.980000       78.99       83.88         83.88   \n...         ...         ...         ...         ...           ...   \n7196  W02000419   46.114286         NaN         NaN           NaN   \n7197  W02000420   51.000000         NaN         NaN           NaN   \n7198  W02000421   51.614286         NaN         NaN           NaN   \n7199  W02000422   30.620000         NaN         NaN           NaN   \n7200  W02000423   31.266667         NaN         NaN           NaN   \n\n      life_exp_f_65  energy_eff_score  Total annual income  \n0             27.61                72                65400  \n1             19.37                66                39000  \n2             21.78                63                47800  \n3             19.35                64                43700  \n4             21.88                66                44900  \n...             ...               ...                  ...  \n7196            NaN                62                31100  \n7197            NaN                63                55800  \n7198            NaN                51                41700  \n7199            NaN                76                54500  \n7200            NaN                75                40200  \n\n[7201 rows x 8 columns]"
     },
     "execution_count": 21,
     "metadata": {},
     "output_type": "execute_result"
    }
   ]
  },
  {
   "cell_type": "code",
   "metadata": {
    "cell_id": "00019-7f54a057-41d1-4636-ac81-2c7e3ffea008",
    "deepnote_cell_type": "code"
   },
   "source": "dataset_overall.to_csv('additional_dataset_overall_msoa.csv')",
   "execution_count": null,
   "outputs": []
  },
  {
   "cell_type": "code",
   "metadata": {
    "cell_id": "00020-3eb47f59-1d1f-4e09-94ad-66fcd73ad55f",
    "deepnote_cell_type": "code"
   },
   "source": "dataset_yearly.to_csv('additional_dataset_yearly_unemployment.csv')",
   "execution_count": null,
   "outputs": []
  },
  {
   "cell_type": "markdown",
   "source": "## Combine with the crime dataset (df_street)",
   "metadata": {
    "cell_id": "00021-d30d4c7c-5241-4a00-9f3a-c6af194ca5ef",
    "deepnote_cell_type": "markdown"
   }
  },
  {
   "cell_type": "code",
   "metadata": {
    "cell_id": "00022-f3236544-d0ea-436f-83d9-bd234f95afd3",
    "deepnote_cell_type": "code"
   },
   "source": "df_street = df_street = pd.read_csv('/Users/hannabroszczak/Desktop/uni/DataChallenge2/crimes_per_month_msoa.csv')",
   "execution_count": null,
   "outputs": []
  },
  {
   "cell_type": "code",
   "metadata": {
    "cell_id": "00023-a26cfba7-3e18-4052-9369-17f7ec19a6c3",
    "deepnote_cell_type": "code"
   },
   "source": "df_street = df_street.drop('Unnamed: 0', axis=1)",
   "execution_count": null,
   "outputs": []
  },
  {
   "cell_type": "code",
   "metadata": {
    "cell_id": "00024-5daeed16-41e7-438c-8e60-b85becce64ae",
    "deepnote_cell_type": "code"
   },
   "source": "df_combined = pd.merge(df_street, dataset_overall, how='outer', on='MSOA code')",
   "execution_count": null,
   "outputs": []
  },
  {
   "cell_type": "code",
   "metadata": {
    "cell_id": "00025-c38b4745-b15d-4e5b-9166-5734bfc68a21",
    "deepnote_cell_type": "code"
   },
   "source": "df_combined\n# The data is per MSOA, not per month - so for each month the values are repeated.",
   "execution_count": null,
   "outputs": [
    {
     "data": {
      "text/html": "<div>\n<style scoped>\n    .dataframe tbody tr th:only-of-type {\n        vertical-align: middle;\n    }\n\n    .dataframe tbody tr th {\n        vertical-align: top;\n    }\n\n    .dataframe thead th {\n        text-align: right;\n    }\n</style>\n<table border=\"1\" class=\"dataframe\">\n  <thead>\n    <tr style=\"text-align: right;\">\n      <th></th>\n      <th>Month</th>\n      <th>MSOA code</th>\n      <th>Sum crimes</th>\n      <th>Median Age</th>\n      <th>life_exp_m</th>\n      <th>life_exp_f</th>\n      <th>life_exp_m65</th>\n      <th>life_exp_f_65</th>\n      <th>energy_eff_score</th>\n      <th>Total annual income</th>\n    </tr>\n  </thead>\n  <tbody>\n    <tr>\n      <th>0</th>\n      <td>2015-01</td>\n      <td>E02000001</td>\n      <td>574</td>\n      <td>38.150000</td>\n      <td>90.37</td>\n      <td>90.74</td>\n      <td>90.74</td>\n      <td>27.61</td>\n      <td>72</td>\n      <td>65400</td>\n    </tr>\n    <tr>\n      <th>1</th>\n      <td>2015-02</td>\n      <td>E02000001</td>\n      <td>567</td>\n      <td>38.150000</td>\n      <td>90.37</td>\n      <td>90.74</td>\n      <td>90.74</td>\n      <td>27.61</td>\n      <td>72</td>\n      <td>65400</td>\n    </tr>\n    <tr>\n      <th>2</th>\n      <td>2015-03</td>\n      <td>E02000001</td>\n      <td>612</td>\n      <td>38.150000</td>\n      <td>90.37</td>\n      <td>90.74</td>\n      <td>90.74</td>\n      <td>27.61</td>\n      <td>72</td>\n      <td>65400</td>\n    </tr>\n    <tr>\n      <th>3</th>\n      <td>2015-04</td>\n      <td>E02000001</td>\n      <td>605</td>\n      <td>38.150000</td>\n      <td>90.37</td>\n      <td>90.74</td>\n      <td>90.74</td>\n      <td>27.61</td>\n      <td>72</td>\n      <td>65400</td>\n    </tr>\n    <tr>\n      <th>4</th>\n      <td>2015-05</td>\n      <td>E02000001</td>\n      <td>583</td>\n      <td>38.150000</td>\n      <td>90.37</td>\n      <td>90.74</td>\n      <td>90.74</td>\n      <td>27.61</td>\n      <td>72</td>\n      <td>65400</td>\n    </tr>\n    <tr>\n      <th>...</th>\n      <td>...</td>\n      <td>...</td>\n      <td>...</td>\n      <td>...</td>\n      <td>...</td>\n      <td>...</td>\n      <td>...</td>\n      <td>...</td>\n      <td>...</td>\n      <td>...</td>\n    </tr>\n    <tr>\n      <th>590477</th>\n      <td>2021-06</td>\n      <td>E02002463</td>\n      <td>154</td>\n      <td>35.333333</td>\n      <td>76.08</td>\n      <td>77.84</td>\n      <td>77.84</td>\n      <td>18.59</td>\n      <td>67</td>\n      <td>31400</td>\n    </tr>\n    <tr>\n      <th>590478</th>\n      <td>2021-07</td>\n      <td>E02002463</td>\n      <td>183</td>\n      <td>35.333333</td>\n      <td>76.08</td>\n      <td>77.84</td>\n      <td>77.84</td>\n      <td>18.59</td>\n      <td>67</td>\n      <td>31400</td>\n    </tr>\n    <tr>\n      <th>590479</th>\n      <td>2021-08</td>\n      <td>E02002463</td>\n      <td>131</td>\n      <td>35.333333</td>\n      <td>76.08</td>\n      <td>77.84</td>\n      <td>77.84</td>\n      <td>18.59</td>\n      <td>67</td>\n      <td>31400</td>\n    </tr>\n    <tr>\n      <th>590480</th>\n      <td>2021-09</td>\n      <td>E02002463</td>\n      <td>151</td>\n      <td>35.333333</td>\n      <td>76.08</td>\n      <td>77.84</td>\n      <td>77.84</td>\n      <td>18.59</td>\n      <td>67</td>\n      <td>31400</td>\n    </tr>\n    <tr>\n      <th>590481</th>\n      <td>2021-10</td>\n      <td>E02002463</td>\n      <td>163</td>\n      <td>35.333333</td>\n      <td>76.08</td>\n      <td>77.84</td>\n      <td>77.84</td>\n      <td>18.59</td>\n      <td>67</td>\n      <td>31400</td>\n    </tr>\n  </tbody>\n</table>\n<p>590482 rows × 10 columns</p>\n</div>",
      "text/plain": "          Month  MSOA code  Sum crimes  Median Age  life_exp_m  life_exp_f  \\\n0       2015-01  E02000001         574   38.150000       90.37       90.74   \n1       2015-02  E02000001         567   38.150000       90.37       90.74   \n2       2015-03  E02000001         612   38.150000       90.37       90.74   \n3       2015-04  E02000001         605   38.150000       90.37       90.74   \n4       2015-05  E02000001         583   38.150000       90.37       90.74   \n...         ...        ...         ...         ...         ...         ...   \n590477  2021-06  E02002463         154   35.333333       76.08       77.84   \n590478  2021-07  E02002463         183   35.333333       76.08       77.84   \n590479  2021-08  E02002463         131   35.333333       76.08       77.84   \n590480  2021-09  E02002463         151   35.333333       76.08       77.84   \n590481  2021-10  E02002463         163   35.333333       76.08       77.84   \n\n        life_exp_m65  life_exp_f_65  energy_eff_score  Total annual income  \n0              90.74          27.61                72                65400  \n1              90.74          27.61                72                65400  \n2              90.74          27.61                72                65400  \n3              90.74          27.61                72                65400  \n4              90.74          27.61                72                65400  \n...              ...            ...               ...                  ...  \n590477         77.84          18.59                67                31400  \n590478         77.84          18.59                67                31400  \n590479         77.84          18.59                67                31400  \n590480         77.84          18.59                67                31400  \n590481         77.84          18.59                67                31400  \n\n[590482 rows x 10 columns]"
     },
     "execution_count": 35,
     "metadata": {},
     "output_type": "execute_result"
    }
   ]
  },
  {
   "cell_type": "code",
   "metadata": {
    "cell_id": "00026-1b087156-9498-41ff-938d-e31b69814ccf",
    "deepnote_cell_type": "code"
   },
   "source": "",
   "execution_count": null,
   "outputs": []
  },
  {
   "cell_type": "markdown",
   "source": "<a style='text-decoration:none;line-height:16px;display:flex;color:#5B5B62;padding:10px;justify-content:end;' href='https://deepnote.com?utm_source=created-in-deepnote-cell&projectId=40789b9a-1c62-45b9-9d9c-b1a39ebe3dfd' target=\"_blank\">\n<img alt='Created in deepnote.com' style='display:inline;max-height:16px;margin:0px;margin-right:7.5px;' src='data:image/svg+xml;base64,PD94bWwgdmVyc2lvbj0iMS4wIiBlbmNvZGluZz0iVVRGLTgiPz4KPHN2ZyB3aWR0aD0iODBweCIgaGVpZ2h0PSI4MHB4IiB2aWV3Qm94PSIwIDAgODAgODAiIHZlcnNpb249IjEuMSIgeG1sbnM9Imh0dHA6Ly93d3cudzMub3JnLzIwMDAvc3ZnIiB4bWxuczp4bGluaz0iaHR0cDovL3d3dy53My5vcmcvMTk5OS94bGluayI+CiAgICA8IS0tIEdlbmVyYXRvcjogU2tldGNoIDU0LjEgKDc2NDkwKSAtIGh0dHBzOi8vc2tldGNoYXBwLmNvbSAtLT4KICAgIDx0aXRsZT5Hcm91cCAzPC90aXRsZT4KICAgIDxkZXNjPkNyZWF0ZWQgd2l0aCBTa2V0Y2guPC9kZXNjPgogICAgPGcgaWQ9IkxhbmRpbmciIHN0cm9rZT0ibm9uZSIgc3Ryb2tlLXdpZHRoPSIxIiBmaWxsPSJub25lIiBmaWxsLXJ1bGU9ImV2ZW5vZGQiPgogICAgICAgIDxnIGlkPSJBcnRib2FyZCIgdHJhbnNmb3JtPSJ0cmFuc2xhdGUoLTEyMzUuMDAwMDAwLCAtNzkuMDAwMDAwKSI+CiAgICAgICAgICAgIDxnIGlkPSJHcm91cC0zIiB0cmFuc2Zvcm09InRyYW5zbGF0ZSgxMjM1LjAwMDAwMCwgNzkuMDAwMDAwKSI+CiAgICAgICAgICAgICAgICA8cG9seWdvbiBpZD0iUGF0aC0yMCIgZmlsbD0iIzAyNjVCNCIgcG9pbnRzPSIyLjM3NjIzNzYyIDgwIDM4LjA0NzY2NjcgODAgNTcuODIxNzgyMiA3My44MDU3NTkyIDU3LjgyMTc4MjIgMzIuNzU5MjczOSAzOS4xNDAyMjc4IDMxLjY4MzE2ODMiPjwvcG9seWdvbj4KICAgICAgICAgICAgICAgIDxwYXRoIGQ9Ik0zNS4wMDc3MTgsODAgQzQyLjkwNjIwMDcsNzYuNDU0OTM1OCA0Ny41NjQ5MTY3LDcxLjU0MjI2NzEgNDguOTgzODY2LDY1LjI2MTk5MzkgQzUxLjExMjI4OTksNTUuODQxNTg0MiA0MS42NzcxNzk1LDQ5LjIxMjIyODQgMjUuNjIzOTg0Niw0OS4yMTIyMjg0IEMyNS40ODQ5Mjg5LDQ5LjEyNjg0NDggMjkuODI2MTI5Niw0My4yODM4MjQ4IDM4LjY0NzU4NjksMzEuNjgzMTY4MyBMNzIuODcxMjg3MSwzMi41NTQ0MjUgTDY1LjI4MDk3Myw2Ny42NzYzNDIxIEw1MS4xMTIyODk5LDc3LjM3NjE0NCBMMzUuMDA3NzE4LDgwIFoiIGlkPSJQYXRoLTIyIiBmaWxsPSIjMDAyODY4Ij48L3BhdGg+CiAgICAgICAgICAgICAgICA8cGF0aCBkPSJNMCwzNy43MzA0NDA1IEwyNy4xMTQ1MzcsMC4yNTcxMTE0MzYgQzYyLjM3MTUxMjMsLTEuOTkwNzE3MDEgODAsMTAuNTAwMzkyNyA4MCwzNy43MzA0NDA1IEM4MCw2NC45NjA0ODgyIDY0Ljc3NjUwMzgsNzkuMDUwMzQxNCAzNC4zMjk1MTEzLDgwIEM0Ny4wNTUzNDg5LDc3LjU2NzA4MDggNTMuNDE4MjY3Nyw3MC4zMTM2MTAzIDUzLjQxODI2NzcsNTguMjM5NTg4NSBDNTMuNDE4MjY3Nyw0MC4xMjg1NTU3IDM2LjMwMzk1NDQsMzcuNzMwNDQwNSAyNS4yMjc0MTcsMzcuNzMwNDQwNSBDMTcuODQzMDU4NiwzNy43MzA0NDA1IDkuNDMzOTE5NjYsMzcuNzMwNDQwNSAwLDM3LjczMDQ0MDUgWiIgaWQ9IlBhdGgtMTkiIGZpbGw9IiMzNzkzRUYiPjwvcGF0aD4KICAgICAgICAgICAgPC9nPgogICAgICAgIDwvZz4KICAgIDwvZz4KPC9zdmc+' > </img>\nCreated in <span style='font-weight:600;margin-left:4px;'>Deepnote</span></a>",
   "metadata": {
    "tags": [],
    "created_in_deepnote_cell": true,
    "deepnote_cell_type": "markdown"
   }
  }
 ],
 "nbformat": 4,
 "nbformat_minor": 5,
 "metadata": {
  "kernelspec": {
   "display_name": "Python 3 (ipykernel)",
   "language": "python",
   "name": "python3"
  },
  "language_info": {
   "codemirror_mode": {
    "name": "ipython",
    "version": 3
   },
   "file_extension": ".py",
   "mimetype": "text/x-python",
   "name": "python",
   "nbconvert_exporter": "python",
   "pygments_lexer": "ipython3",
   "version": "3.9.7"
  },
  "deepnote_notebook_id": "f4c245f5-4137-4894-8c64-7832557128fa",
  "deepnote": {},
  "deepnote_execution_queue": []
 }
}
