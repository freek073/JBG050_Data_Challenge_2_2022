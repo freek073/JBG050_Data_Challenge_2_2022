{
 "cells": [
  {
   "cell_type": "code",
   "source": "import pandas as pd\nimport tqdm as tq\nimport os",
   "metadata": {
    "cell_id": "aeca9958a48846c08bd39ba84aaca5fe",
    "tags": [],
    "deepnote_to_be_reexecuted": false,
    "source_hash": "b29e2290",
    "execution_start": 1648565725699,
    "execution_millis": 1,
    "deepnote_cell_type": "code",
    "deepnote_cell_height": 117
   },
   "outputs": [],
   "execution_count": null
  },
  {
   "cell_type": "code",
   "metadata": {
    "tags": [],
    "cell_id": "94886b22-189c-4a08-944a-072b457c1602",
    "deepnote_to_be_reexecuted": false,
    "source_hash": "6d8d32a4",
    "execution_start": 1648566271579,
    "execution_millis": 5,
    "deepnote_cell_type": "code",
    "deepnote_cell_height": 1053
   },
   "source": "# To make a dataframe for street for one district only (district name must correspond to the one in file name)\n\ndef extract_df_for_district():\n    directory = \"df_for_graphs\" # Change directory\n    df = pd.DataFrame()\n\n    folders = [folder for folder in os.listdir(directory) if not str(folder).strip(\"'b\").startswith('.')]\n\n    for folder in folders:\n        files = [file for file in os.listdir(directory + '/' + str(folder).strip(\"'b\")) if not str(folder).strip(\"'b\").startswith('.')]\n\n        # Here you can change the date range\n        if 'london' in str(folder):\n            force = 'City of London'\n        elif 'gwent' in str(folder):\n            force = 'Gwent'\n\n        for file in tq.tqdm(files):\n            # Create dataframe from the current file\n            current_data = pd.read_csv(directory + '/' + str(folder).strip(\"'b\") + '/' + str(file)) \n\n            current_data['Police force'] = force\n            current_data['Crime type'] = 0\n            if ('anti') in str(file):\n                current_data['Crime type'] = 'Anti-social behaviour'\n            elif ('bicycle') in str(file):\n                current_data['Crime type'] = 'Bicycle theft'\n            elif ('burglary') in str(file):\n                current_data['Crime type'] = 'Burglary'\n            elif ('criminal') in str(file):\n                current_data['Crime type'] = 'Criminal damage and arson'\n            elif ('drugs') in str(file):\n                current_data['Crime type'] = 'Drugs'\n            elif ('othercrime') in str(file):\n                current_data['Crime type'] = 'Other crime'\n            elif ('othertheft') in str(file):\n                current_data['Crime type'] = 'Other theft'\n            elif ('public') in str(file):\n                current_data['Crime type'] = 'Public order'\n            elif ('robbery') in str(file):\n                current_data['Crime type'] = 'Robbery'\n            elif ('shoplifting') in str(file):\n                current_data['Crime type'] = 'Shoplifting'\n            elif ('sum') in str(file):\n                current_data['Crime type'] = 'Sum of crimes'\n            elif ('theft') in str(file):\n                current_data['Crime type'] = 'Theft from the person'\n            elif ('vehicle') in str(file):\n                current_data['Crime type'] = 'Vehicle crime'\n            elif ('violence') in str(file):\n                current_data['Crime type'] = 'Violence and sexual offences'\n            elif ('weapons') in str(file):\n                current_data['Crime type'] = 'Possession of weapons'\n            df = df.append(current_data)\n    return df",
   "outputs": [],
   "execution_count": null
  },
  {
   "cell_type": "code",
   "source": "df = extract_df_for_district()\n# df.to_csv(\"graphs_london_gwent.csv\")",
   "metadata": {
    "cell_id": "d527e063b8b44906845cecd8181786f9",
    "tags": [],
    "deepnote_to_be_reexecuted": false,
    "source_hash": "b535daa8",
    "execution_start": 1648566331099,
    "execution_millis": 150,
    "deepnote_table_state": {
     "pageSize": 10,
     "pageIndex": 35,
     "filters": [],
     "sortBy": []
    },
    "deepnote_table_loading": false,
    "deepnote_cell_type": "code",
    "deepnote_cell_height": 150,
    "deepnote_output_heights": [
     21
    ]
   },
   "outputs": [
    {
     "name": "stderr",
     "text": "100%|██████████| 15/15 [00:00<00:00, 293.38it/s]\n100%|██████████| 15/15 [00:00<00:00, 292.13it/s]\n",
     "output_type": "stream"
    }
   ],
   "execution_count": null
  },
  {
   "cell_type": "code",
   "source": "df",
   "metadata": {
    "cell_id": "ed15282de40749e18891e5179e5b1236",
    "tags": [],
    "deepnote_to_be_reexecuted": false,
    "source_hash": "f804c160",
    "execution_start": 1648566367273,
    "execution_millis": 22,
    "deepnote_table_state": {
     "pageSize": 10,
     "pageIndex": 10,
     "filters": [],
     "sortBy": []
    },
    "deepnote_table_loading": false,
    "deepnote_cell_type": "code",
    "deepnote_cell_height": 598
   },
   "outputs": [
    {
     "output_type": "execute_result",
     "execution_count": 40,
     "data": {
      "application/vnd.deepnote.dataframe.v3+json": {
       "column_count": 4,
       "row_count": 360,
       "columns": [
        {
         "name": "Month",
         "dtype": "object",
         "stats": {
          "unique_count": 12,
          "nan_count": 0,
          "categories": [
           {
            "name": "2015-01-01",
            "count": 30
           },
           {
            "name": "2015-02-01",
            "count": 30
           },
           {
            "name": "10 others",
            "count": 300
           }
          ]
         }
        },
        {
         "name": "yearly",
         "dtype": "float64",
         "stats": {
          "unique_count": 360,
          "nan_count": 0,
          "min": "-608.291457216061",
          "max": "627.9812176434802",
          "histogram": [
           {
            "bin_start": -608.291457216061,
            "bin_end": -484.66418973010684,
            "count": 2
           },
           {
            "bin_start": -484.66418973010684,
            "bin_end": -361.0369222441527,
            "count": 1
           },
           {
            "bin_start": -361.0369222441527,
            "bin_end": -237.4096547581986,
            "count": 2
           },
           {
            "bin_start": -237.4096547581986,
            "bin_end": -113.78238727224448,
            "count": 3
           },
           {
            "bin_start": -113.78238727224448,
            "bin_end": 9.844880213709644,
            "count": 287
           },
           {
            "bin_start": 9.844880213709644,
            "bin_end": 133.47214769966376,
            "count": 54
           },
           {
            "bin_start": 133.47214769966376,
            "bin_end": 257.0994151856179,
            "count": 5
           },
           {
            "bin_start": 257.0994151856179,
            "bin_end": 380.726682671572,
            "count": 1
           },
           {
            "bin_start": 380.726682671572,
            "bin_end": 504.35395015752624,
            "count": 4
           },
           {
            "bin_start": 504.35395015752624,
            "bin_end": 627.9812176434802,
            "count": 1
           }
          ]
         }
        },
        {
         "name": "Police force",
         "dtype": "object",
         "stats": {
          "unique_count": 2,
          "nan_count": 0,
          "categories": [
           {
            "name": "Gwent",
            "count": 180
           },
           {
            "name": "City of London",
            "count": 180
           }
          ]
         }
        },
        {
         "name": "Crime type",
         "dtype": "object",
         "stats": {
          "unique_count": 15,
          "nan_count": 0,
          "categories": [
           {
            "name": "Vehicle crime",
            "count": 24
           },
           {
            "name": "Burglary",
            "count": 24
           },
           {
            "name": "13 others",
            "count": 312
           }
          ]
         }
        },
        {
         "name": "_deepnote_index_column",
         "dtype": "int64"
        }
       ],
       "rows": [
        {
         "Month": "2015-05-01",
         "yearly": 287.14088949751795,
         "Police force": "Gwent",
         "Crime type": "Anti-social behaviour",
         "_deepnote_index_column": 4
        },
        {
         "Month": "2015-06-01",
         "yearly": 130.9438930789991,
         "Police force": "Gwent",
         "Crime type": "Anti-social behaviour",
         "_deepnote_index_column": 5
        },
        {
         "Month": "2015-07-01",
         "yearly": 195.72826207051617,
         "Police force": "Gwent",
         "Crime type": "Anti-social behaviour",
         "_deepnote_index_column": 6
        },
        {
         "Month": "2015-08-01",
         "yearly": 87.29848586405149,
         "Police force": "Gwent",
         "Crime type": "Anti-social behaviour",
         "_deepnote_index_column": 7
        },
        {
         "Month": "2015-09-01",
         "yearly": 12.346659754263978,
         "Police force": "Gwent",
         "Crime type": "Anti-social behaviour",
         "_deepnote_index_column": 8
        },
        {
         "Month": "2015-10-01",
         "yearly": 181.10312465506397,
         "Police force": "Gwent",
         "Crime type": "Anti-social behaviour",
         "_deepnote_index_column": 9
        },
        {
         "Month": "2015-11-01",
         "yearly": -43.35231707055715,
         "Police force": "Gwent",
         "Crime type": "Anti-social behaviour",
         "_deepnote_index_column": 10
        },
        {
         "Month": "2015-12-01",
         "yearly": -213.98689263280724,
         "Police force": "Gwent",
         "Crime type": "Anti-social behaviour",
         "_deepnote_index_column": 11
        },
        {
         "Month": "2015-01-01",
         "yearly": -0.153484217819178,
         "Police force": "Gwent",
         "Crime type": "Possession of weapons",
         "_deepnote_index_column": 0
        },
        {
         "Month": "2015-02-01",
         "yearly": -2.13652006270638,
         "Police force": "Gwent",
         "Crime type": "Possession of weapons",
         "_deepnote_index_column": 1
        }
       ]
      },
      "text/plain": "         Month     yearly    Police force             Crime type\n0   2015-01-01   1.836611           Gwent          Vehicle crime\n1   2015-02-01 -17.175757           Gwent          Vehicle crime\n2   2015-03-01   9.332018           Gwent          Vehicle crime\n3   2015-04-01  24.388156           Gwent          Vehicle crime\n4   2015-05-01  15.817360           Gwent          Vehicle crime\n..         ...        ...             ...                    ...\n7   2015-08-01   0.659956  City of London  Possession of weapons\n8   2015-09-01   1.144018  City of London  Possession of weapons\n9   2015-10-01  -0.179994  City of London  Possession of weapons\n10  2015-11-01   1.268671  City of London  Possession of weapons\n11  2015-12-01   1.566043  City of London  Possession of weapons\n\n[360 rows x 4 columns]",
      "text/html": "<div>\n<style scoped>\n    .dataframe tbody tr th:only-of-type {\n        vertical-align: middle;\n    }\n\n    .dataframe tbody tr th {\n        vertical-align: top;\n    }\n\n    .dataframe thead th {\n        text-align: right;\n    }\n</style>\n<table border=\"1\" class=\"dataframe\">\n  <thead>\n    <tr style=\"text-align: right;\">\n      <th></th>\n      <th>Month</th>\n      <th>yearly</th>\n      <th>Police force</th>\n      <th>Crime type</th>\n    </tr>\n  </thead>\n  <tbody>\n    <tr>\n      <th>0</th>\n      <td>2015-01-01</td>\n      <td>1.836611</td>\n      <td>Gwent</td>\n      <td>Vehicle crime</td>\n    </tr>\n    <tr>\n      <th>1</th>\n      <td>2015-02-01</td>\n      <td>-17.175757</td>\n      <td>Gwent</td>\n      <td>Vehicle crime</td>\n    </tr>\n    <tr>\n      <th>2</th>\n      <td>2015-03-01</td>\n      <td>9.332018</td>\n      <td>Gwent</td>\n      <td>Vehicle crime</td>\n    </tr>\n    <tr>\n      <th>3</th>\n      <td>2015-04-01</td>\n      <td>24.388156</td>\n      <td>Gwent</td>\n      <td>Vehicle crime</td>\n    </tr>\n    <tr>\n      <th>4</th>\n      <td>2015-05-01</td>\n      <td>15.817360</td>\n      <td>Gwent</td>\n      <td>Vehicle crime</td>\n    </tr>\n    <tr>\n      <th>...</th>\n      <td>...</td>\n      <td>...</td>\n      <td>...</td>\n      <td>...</td>\n    </tr>\n    <tr>\n      <th>7</th>\n      <td>2015-08-01</td>\n      <td>0.659956</td>\n      <td>City of London</td>\n      <td>Possession of weapons</td>\n    </tr>\n    <tr>\n      <th>8</th>\n      <td>2015-09-01</td>\n      <td>1.144018</td>\n      <td>City of London</td>\n      <td>Possession of weapons</td>\n    </tr>\n    <tr>\n      <th>9</th>\n      <td>2015-10-01</td>\n      <td>-0.179994</td>\n      <td>City of London</td>\n      <td>Possession of weapons</td>\n    </tr>\n    <tr>\n      <th>10</th>\n      <td>2015-11-01</td>\n      <td>1.268671</td>\n      <td>City of London</td>\n      <td>Possession of weapons</td>\n    </tr>\n    <tr>\n      <th>11</th>\n      <td>2015-12-01</td>\n      <td>1.566043</td>\n      <td>City of London</td>\n      <td>Possession of weapons</td>\n    </tr>\n  </tbody>\n</table>\n<p>360 rows × 4 columns</p>\n</div>"
     },
     "metadata": {}
    }
   ],
   "execution_count": null
  },
  {
   "cell_type": "code",
   "source": "",
   "metadata": {
    "cell_id": "a00789fdcbb54030be26c27485ad0383",
    "tags": [],
    "deepnote_cell_type": "code",
    "deepnote_cell_height": 66
   },
   "outputs": [],
   "execution_count": null
  },
  {
   "cell_type": "markdown",
   "source": "<a style='text-decoration:none;line-height:16px;display:flex;color:#5B5B62;padding:10px;justify-content:end;' href='https://deepnote.com?utm_source=created-in-deepnote-cell&projectId=40789b9a-1c62-45b9-9d9c-b1a39ebe3dfd' target=\"_blank\">\n<img alt='Created in deepnote.com' style='display:inline;max-height:16px;margin:0px;margin-right:7.5px;' src='data:image/svg+xml;base64,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' > </img>\nCreated in <span style='font-weight:600;margin-left:4px;'>Deepnote</span></a>",
   "metadata": {
    "tags": [],
    "created_in_deepnote_cell": true,
    "deepnote_cell_type": "markdown"
   }
  }
 ],
 "nbformat": 4,
 "nbformat_minor": 2,
 "metadata": {
  "orig_nbformat": 2,
  "deepnote": {
   "is_reactive": false
  },
  "deepnote_notebook_id": "e1b87063-de0e-42c0-a30b-2fbdfb1998a8",
  "deepnote_execution_queue": []
 }
}
